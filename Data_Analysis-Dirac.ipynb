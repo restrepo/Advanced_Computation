{
 "cells": [
  {
   "cell_type": "markdown",
   "id": "2cf03b5f-6f5f-4607-b0bc-4603b5217b12",
   "metadata": {},
   "source": [
    "# Data Analysis"
   ]
  },
  {
   "cell_type": "markdown",
   "id": "546374fd-35ad-4edf-bd12-7a93b9ebc168",
   "metadata": {
    "tags": []
   },
   "source": [
    "## Solutions object\n",
    "Obtain the Hidden Sector from: https://zenodo.org/record/5526707#.YzwIANJBzeQ and add the missing the column `Hidden Sector` of the following data scheme\n",
    "\n",
    "![img](./squeme.svg)\n",
    "\n",
    "### Example of entry"
   ]
  },
  {
   "cell_type": "code",
   "execution_count": 1,
   "id": "4c8e4e30-7e06-4eb7-87dc-2ec66a4da634",
   "metadata": {},
   "outputs": [],
   "source": [
    "from IPython.display import JSON \n",
    "import pandas as pd"
   ]
  },
  {
   "cell_type": "code",
   "execution_count": 2,
   "id": "5435d361-7da1-474f-be82-a80dd09f6ada",
   "metadata": {},
   "outputs": [
    {
     "data": {
      "application/json": {
       "A": 1
      },
      "text/plain": [
       "<IPython.core.display.JSON object>"
      ]
     },
     "execution_count": 2,
     "metadata": {
      "application/json": {
       "expanded": false,
       "root": "root"
      }
     },
     "output_type": "execute_result"
    }
   ],
   "source": [
    "JSON({'A':1})"
   ]
  },
  {
   "cell_type": "code",
   "execution_count": 3,
   "id": "b20efcf5-186a-4e1c-ba06-f261c49fb7af",
   "metadata": {},
   "outputs": [
    {
     "data": {
      "application/json": [
       {
        "gcd": 1,
        "hidden": [
         {
          "S": 6,
          "ψ": [
           [
            1,
            5
           ],
           [
            2,
            4
           ],
           [
            -3
           ]
          ]
         }
        ],
        "k": [
         2
        ],
        "l": [
         1,
         3
        ],
        "n": 5,
        "solution": [
         1,
         2,
         -3,
         4,
         5
        ]
       }
      ],
      "text/plain": [
       "<IPython.core.display.JSON object>"
      ]
     },
     "execution_count": 3,
     "metadata": {
      "application/json": {
       "expanded": false,
       "root": "root"
      }
     },
     "output_type": "execute_result"
    }
   ],
   "source": [
    "JSON(([{'l':[1,3],'k':[2],\n",
    "       'solution':[1,2,-3,4,5],'gcd':1,'n':5,\n",
    "      'hidden':[{'ψ':[(1,5),(2,4),(-3,)],\n",
    "                 'S':6}\n",
    "               ]\n",
    "             }] \n",
    "            )\n",
    "    )\n"
   ]
  },
  {
   "cell_type": "code",
   "execution_count": 4,
   "id": "7f44a6e1-945a-4967-af93-74f4f1f23e50",
   "metadata": {},
   "outputs": [],
   "source": [
    "import pandas as pd"
   ]
  },
  {
   "cell_type": "code",
   "execution_count": 5,
   "id": "1d119ee0-4709-44b6-853e-afd9fdfcdc0b",
   "metadata": {},
   "outputs": [
    {
     "data": {
      "text/html": [
       "<div>\n",
       "<style scoped>\n",
       "    .dataframe tbody tr th:only-of-type {\n",
       "        vertical-align: middle;\n",
       "    }\n",
       "\n",
       "    .dataframe tbody tr th {\n",
       "        vertical-align: top;\n",
       "    }\n",
       "\n",
       "    .dataframe thead th {\n",
       "        text-align: right;\n",
       "    }\n",
       "</style>\n",
       "<table border=\"1\" class=\"dataframe\">\n",
       "  <thead>\n",
       "    <tr style=\"text-align: right;\">\n",
       "      <th></th>\n",
       "      <th>l</th>\n",
       "      <th>k</th>\n",
       "      <th>solution</th>\n",
       "      <th>gcd</th>\n",
       "      <th>n</th>\n",
       "      <th>hidden</th>\n",
       "    </tr>\n",
       "  </thead>\n",
       "  <tbody>\n",
       "    <tr>\n",
       "      <th>0</th>\n",
       "      <td>[1, 3]</td>\n",
       "      <td>[2]</td>\n",
       "      <td>[1, 2, -3, 4, 5]</td>\n",
       "      <td>1</td>\n",
       "      <td>5</td>\n",
       "      <td>[{'ψ': [(1, 5), (2, 4), (-3,)], 'S': 6}]</td>\n",
       "    </tr>\n",
       "  </tbody>\n",
       "</table>\n",
       "</div>"
      ],
      "text/plain": [
       "        l    k          solution  gcd  n  \\\n",
       "0  [1, 3]  [2]  [1, 2, -3, 4, 5]    1  5   \n",
       "\n",
       "                                     hidden  \n",
       "0  [{'ψ': [(1, 5), (2, 4), (-3,)], 'S': 6}]  "
      ]
     },
     "execution_count": 5,
     "metadata": {},
     "output_type": "execute_result"
    }
   ],
   "source": [
    "pd.DataFrame([{'l':[1,3],'k':[2],\n",
    "       'solution':[1,2,-3,4,5],'gcd':1,'n':5,\n",
    "      'hidden':[{'ψ':[(1,5),(2,4),(-3,)],\n",
    "                 'S':6}\n",
    "               ]\n",
    "             }] \n",
    "            )"
   ]
  },
  {
   "cell_type": "markdown",
   "id": "6342f13a-2c97-4245-a2f9-d35fceac4470",
   "metadata": {},
   "source": [
    "### Read the full dataset"
   ]
  },
  {
   "cell_type": "code",
   "execution_count": 6,
   "id": "b1afbaab-3d47-4ade-a3aa-ba92e2f6714e",
   "metadata": {},
   "outputs": [],
   "source": [
    "df=pd.read_json('https://zenodo.org/record/5526707/files/solutions.json?download=1')"
   ]
  },
  {
   "cell_type": "code",
   "execution_count": 7,
   "id": "fa2520fd-ed97-423f-a8e7-66aca640a43a",
   "metadata": {},
   "outputs": [],
   "source": [
    "FULL=True\n",
    "if FULL:\n",
    "    #From https://zenodo.org/record/7380817/files/solutions.json.gz?download=1\n",
    "    df=pd.read_json('solutions.json.gz')\n",
    "    df=df[df['solution'].str[-1].abs()<=20].reset_index(drop=True)"
   ]
  },
  {
   "cell_type": "code",
   "execution_count": 8,
   "id": "c5d14088-b0c9-47ab-81b3-2f4bb564b041",
   "metadata": {},
   "outputs": [
    {
     "data": {
      "text/plain": [
       "(3, 5)"
      ]
     },
     "execution_count": 8,
     "metadata": {},
     "output_type": "execute_result"
    }
   ],
   "source": [
    "df[df['n']==5].shape"
   ]
  },
  {
   "cell_type": "code",
   "execution_count": 9,
   "id": "77eea894-48b3-4c2d-9875-ee10339badb2",
   "metadata": {},
   "outputs": [
    {
     "data": {
      "text/plain": [
       "(96153, 5)"
      ]
     },
     "execution_count": 9,
     "metadata": {},
     "output_type": "execute_result"
    }
   ],
   "source": [
    "df.shape"
   ]
  },
  {
   "cell_type": "markdown",
   "id": "8a03e1d3-ec9c-4819-804d-649904134528",
   "metadata": {},
   "source": [
    "The `solutions` column, was generated with an ordering in absolute value, like the following"
   ]
  },
  {
   "cell_type": "code",
   "execution_count": 10,
   "id": "0e6ed30d-ae8a-401c-b6be-e7a9b494ed3c",
   "metadata": {},
   "outputs": [
    {
     "data": {
      "text/plain": [
       "[1, -2, 5, -8]"
      ]
     },
     "execution_count": 10,
     "metadata": {},
     "output_type": "execute_result"
    }
   ],
   "source": [
    "sorted([-2,1,-8,5],key=abs)"
   ]
  },
  {
   "cell_type": "markdown",
   "id": "9e5335de-c8ad-40db-81e0-e4558d604852",
   "metadata": {},
   "source": [
    "This allows to take the maximum directly from the last element"
   ]
  },
  {
   "cell_type": "code",
   "execution_count": 11,
   "id": "f917b5f6-eac4-42d3-aa4a-350bcea7c6a9",
   "metadata": {},
   "outputs": [
    {
     "data": {
      "text/plain": [
       "0         3\n",
       "1         6\n",
       "2         4\n",
       "3        20\n",
       "4        12\n",
       "         ..\n",
       "96148    19\n",
       "96149    20\n",
       "96150   -20\n",
       "96151   -20\n",
       "96152   -20\n",
       "Name: solution, Length: 96153, dtype: int64"
      ]
     },
     "execution_count": 11,
     "metadata": {},
     "output_type": "execute_result"
    }
   ],
   "source": [
    "df['solution'].str[-1]"
   ]
  },
  {
   "cell_type": "code",
   "execution_count": 12,
   "id": "cad31295-eb83-40ee-8f72-f92960142df1",
   "metadata": {},
   "outputs": [
    {
     "data": {
      "text/plain": [
       "(65910, 6)"
      ]
     },
     "execution_count": 12,
     "metadata": {},
     "output_type": "execute_result"
    }
   ],
   "source": [
    "df['zmax']=df['solution'].str[-1].abs()\n",
    "df=df.sort_values(['n','zmax']).reset_index(drop=True)\n",
    "\n",
    "#How many solutions with n=12 and z_max <= 20?\n",
    "df[ (df['n']==12) & (df['zmax']<=20) ].shape"
   ]
  },
  {
   "cell_type": "code",
   "execution_count": 13,
   "id": "40ecc098-d7f3-4e4d-8ce0-3db65c440489",
   "metadata": {},
   "outputs": [
    {
     "data": {
      "text/html": [
       "<div>\n",
       "<style scoped>\n",
       "    .dataframe tbody tr th:only-of-type {\n",
       "        vertical-align: middle;\n",
       "    }\n",
       "\n",
       "    .dataframe tbody tr th {\n",
       "        vertical-align: top;\n",
       "    }\n",
       "\n",
       "    .dataframe thead th {\n",
       "        text-align: right;\n",
       "    }\n",
       "</style>\n",
       "<table border=\"1\" class=\"dataframe\">\n",
       "  <thead>\n",
       "    <tr style=\"text-align: right;\">\n",
       "      <th></th>\n",
       "      <th>l</th>\n",
       "      <th>k</th>\n",
       "      <th>solution</th>\n",
       "      <th>gcd</th>\n",
       "      <th>n</th>\n",
       "      <th>zmax</th>\n",
       "    </tr>\n",
       "  </thead>\n",
       "  <tbody>\n",
       "    <tr>\n",
       "      <th>0</th>\n",
       "      <td>[-2]</td>\n",
       "      <td>[2, 3]</td>\n",
       "      <td>[1, 5, -7, -8, 9]</td>\n",
       "      <td>4</td>\n",
       "      <td>5</td>\n",
       "      <td>9</td>\n",
       "    </tr>\n",
       "    <tr>\n",
       "      <th>1</th>\n",
       "      <td>[3]</td>\n",
       "      <td>[-3, -2]</td>\n",
       "      <td>[2, 4, -7, -9, 10]</td>\n",
       "      <td>18</td>\n",
       "      <td>5</td>\n",
       "      <td>10</td>\n",
       "    </tr>\n",
       "    <tr>\n",
       "      <th>2</th>\n",
       "      <td>[-2]</td>\n",
       "      <td>[3, 1]</td>\n",
       "      <td>[1, 14, -17, -18, 20]</td>\n",
       "      <td>6</td>\n",
       "      <td>5</td>\n",
       "      <td>20</td>\n",
       "    </tr>\n",
       "  </tbody>\n",
       "</table>\n",
       "</div>"
      ],
      "text/plain": [
       "      l         k               solution  gcd  n  zmax\n",
       "0  [-2]    [2, 3]      [1, 5, -7, -8, 9]    4  5     9\n",
       "1   [3]  [-3, -2]     [2, 4, -7, -9, 10]   18  5    10\n",
       "2  [-2]    [3, 1]  [1, 14, -17, -18, 20]    6  5    20"
      ]
     },
     "execution_count": 13,
     "metadata": {},
     "output_type": "execute_result"
    }
   ],
   "source": [
    "df[df['n']==5]"
   ]
  },
  {
   "cell_type": "code",
   "execution_count": 14,
   "id": "740b57a4-d1e1-468b-8eb1-d92951039ea6",
   "metadata": {},
   "outputs": [
    {
     "data": {
      "text/plain": [
       "[1, 1]"
      ]
     },
     "execution_count": 14,
     "metadata": {},
     "output_type": "execute_result"
    }
   ],
   "source": [
    "[1 for x in range(2)]"
   ]
  },
  {
   "cell_type": "code",
   "execution_count": 15,
   "id": "37ffcc6d-3621-48d9-a612-1a8b18f7a65a",
   "metadata": {},
   "outputs": [
    {
     "data": {
      "text/html": [
       "<div>\n",
       "<style scoped>\n",
       "    .dataframe tbody tr th:only-of-type {\n",
       "        vertical-align: middle;\n",
       "    }\n",
       "\n",
       "    .dataframe tbody tr th {\n",
       "        vertical-align: top;\n",
       "    }\n",
       "\n",
       "    .dataframe thead th {\n",
       "        text-align: right;\n",
       "    }\n",
       "</style>\n",
       "<table border=\"1\" class=\"dataframe\">\n",
       "  <thead>\n",
       "    <tr style=\"text-align: right;\">\n",
       "      <th></th>\n",
       "      <th>l</th>\n",
       "      <th>k</th>\n",
       "      <th>solution</th>\n",
       "      <th>gcd</th>\n",
       "      <th>n</th>\n",
       "      <th>zmax</th>\n",
       "    </tr>\n",
       "  </thead>\n",
       "  <tbody>\n",
       "    <tr>\n",
       "      <th>3</th>\n",
       "      <td>[-4, -2]</td>\n",
       "      <td>[5, 2]</td>\n",
       "      <td>[1, 1, 1, -4, -4, 5]</td>\n",
       "      <td>40</td>\n",
       "      <td>6</td>\n",
       "      <td>5</td>\n",
       "    </tr>\n",
       "  </tbody>\n",
       "</table>\n",
       "</div>"
      ],
      "text/plain": [
       "          l       k              solution  gcd  n  zmax\n",
       "3  [-4, -2]  [5, 2]  [1, 1, 1, -4, -4, 5]   40  6     5"
      ]
     },
     "execution_count": 15,
     "metadata": {},
     "output_type": "execute_result"
    }
   ],
   "source": [
    "df[3:4]"
   ]
  },
  {
   "cell_type": "code",
   "execution_count": 16,
   "id": "e8be47df-d0fc-4472-b732-47243d7c8503",
   "metadata": {},
   "outputs": [
    {
     "name": "stdout",
     "output_type": "stream",
     "text": [
      "96152\r"
     ]
    }
   ],
   "source": [
    "DF = []\n",
    "for i,r in df.iterrows():\n",
    "    print(str(i).zfill(5),end='\\r')\n",
    "    repeated = set([x for x in r['solution'] if r['solution'].count(x) == 2 or r['solution'].count(x) == 3])\n",
    "    for n in repeated:\n",
    "        rr = r.copy()\n",
    "        rr['repeated'] = [n for x in range(r['solution'].count(n))]\n",
    "        rr['solution'] = [x for x in r['solution'] if x != n]\n",
    "        DF.append(rr.to_dict())\n"
   ]
  },
  {
   "cell_type": "code",
   "execution_count": 17,
   "id": "125b7e77-99b4-4dea-a998-d402b7b755bf",
   "metadata": {},
   "outputs": [],
   "source": [
    "df = pd.DataFrame(DF)"
   ]
  },
  {
   "cell_type": "code",
   "execution_count": 18,
   "id": "d9d835c1-439d-4bdc-a55d-e941539a8532",
   "metadata": {},
   "outputs": [
    {
     "data": {
      "text/plain": [
       "(197969, 7)"
      ]
     },
     "execution_count": 18,
     "metadata": {},
     "output_type": "execute_result"
    }
   ],
   "source": [
    "df.shape"
   ]
  },
  {
   "cell_type": "markdown",
   "id": "a042051b-e918-4b22-924d-d51da6574bc2",
   "metadata": {},
   "source": [
    "### Add the new column with the list of hidden sectors"
   ]
  },
  {
   "cell_type": "markdown",
   "id": "a6ae2465-4a66-4876-b41a-ac12fb0e4459",
   "metadata": {},
   "source": [
    "After refactoring..."
   ]
  },
  {
   "cell_type": "code",
   "execution_count": 19,
   "id": "efde8c86-9f26-4cc5-afd2-e7b19c585a4f",
   "metadata": {},
   "outputs": [],
   "source": [
    "import itertools\n",
    "import math as mh\n",
    "\n",
    "def remove_double_intersection_pairs(msvp,l):\n",
    "    '''\n",
    "    Example:\n",
    "        msvp = [(3,4),(6,-13),(1,6),(-7,14),(1,-8)]\n",
    "        l = [1, 3, 4, 6, -7, -8, -13, 14]\n",
    "        # Remove (1,6) because is fully contained \n",
    "        # in the intersections with (_1_,-8) and (_6_,-13)\n",
    "        returns: \n",
    "        [(3,4),(6,-13),(-7,14),(1,-8)]    \n",
    "    '''\n",
    "    for p in msvp.copy():\n",
    "        tmp=msvp.copy()\n",
    "        tmp.remove(p)\n",
    "        fltmp=set([x for sublist in tmp for x in sublist]) \n",
    "        if l.count(p[0])==1 and l.count(p[1])==1 and set(p).issubset(fltmp):\n",
    "            msvp=tmp.copy()\n",
    "    return msvp\n",
    "assert len(remove_double_intersection_pairs([(-10, 11), (-12, 13), (11, -12)],\n",
    "                                             [-10, 11, -12, 13]))==2\n",
    "assert len(remove_double_intersection_pairs([(4,4),(4,-12)],[4,-12]))==1\n",
    "\n",
    "def get_real_massless(l,msvp):\n",
    "    '''\n",
    "    Example:\n",
    "        l = [1, 3, 4, 6, -7, -8, -13, 14]\n",
    "        msvp = [(3,4),(6,-13),(-7,14),(1,-8)]\n",
    "        [1, 3, 4, 6, -7, -8, -13, 14] → [(3,4),(6,-13),(-7,14),(1,-8)]\n",
    "        [1, 6, -7, -8, -13, 14] → [(6,-13),(-7,14),(1,-8)]\n",
    "        [1, -7, -8, 14] → [(-7,14),(1,-8)]\n",
    "        [1, -8] → [(1,-8)]\n",
    "        [] → []\n",
    "        \n",
    "        returns:\n",
    "        [] # lp    \n",
    "    '''\n",
    "    lp=l.copy()\n",
    "    for x,y in msvp:\n",
    "        #print(lp,msvp,x,y)\n",
    "        if lp and x in lp and y in lp:\n",
    "            minxy=min(lp.count(x),lp.count(y))\n",
    "            if x!=y:\n",
    "                [(lp.remove(x),lp.remove(y)) for ii in range(minxy)]\n",
    "            else:\n",
    "                [ lp.remove(x) for ii in range(lp.count(x)) ] # abs(2*x)==s\n",
    "        else: # not lp\n",
    "            break\n",
    "    return lp\n",
    "\n",
    "def get_hidden_fermions(l,s,ps=[]):\n",
    "    '''\n",
    "    For a given scalar Abelian charge `s`, build the \n",
    "    fermion non-zero determinant mass matrix from their\n",
    "    Abelian charges in `l`, and returns the input `s` and \n",
    "    the non-zero mass entries.\n",
    "    Returns an empty dictionary otherwise.\n",
    "    \n",
    "    The list of combinations on pairs of `l` can be given in `ps`,\n",
    "    otherwise it is internally calculated.\n",
    "    \n",
    "    Example:\n",
    "        l = [1, 3, 4, 6, -7, -8, -13, 14]\n",
    "        s = 7\n",
    "        ps = [(3,4),(6,-13),(1,6),(-7,14),(1,-8)]\n",
    "        # If necessary temove [1,6] because have is fully contained \n",
    "        # in the intersections with others\n",
    "        [1, 3, 4, 6, -7, -8, -13, 14] → [(3,4),(6,-13),(-7,14),(1,-8)]\n",
    "        [1, 6, -7, -8, -13, 14] → [(6,-13),(-7,14),(1,-8)]\n",
    "        [1, -7, -8, 14] → [(-7,14),(1,-8)]\n",
    "        [1, -8] → [(1,-8)]\n",
    "        [] → []\n",
    "        \n",
    "        returns:\n",
    "        {'s':7, '\\psi':[(3,4),(6,-13),(1,6),(-7,14),(1,-8)]}\n",
    "\n",
    "    '''\n",
    "    sltn={}\n",
    "    if not ps:\n",
    "        ps = list(set(itertools.combinations_with_replacement(l,2)))\n",
    "    msv = [p for p in ps if abs(sum(p))==s]\n",
    "    lmsv=[x for sublist in msv for x in sublist]\n",
    "    massives=set(lmsv)        \n",
    "    massless=set(l).difference(massives)\n",
    "    if not massless:\n",
    "        # ========= Quality check =======================\n",
    "        # Check that all the elements of l can be removed\n",
    "        for INTERSECTIONS in [False,True]:\n",
    "            msvp=msv.copy()\n",
    "            lp=l.copy()\n",
    "            if INTERSECTIONS:\n",
    "                msvp = remove_double_intersection_pairs(msvp,l)\n",
    "            for msvp in itertools.permutations(msvp.copy()):\n",
    "                msvp=list(msvp)\n",
    "                lp=get_real_massless(l,msvp)\n",
    "                if not lp:\n",
    "                    break # found real massless\n",
    "            if not lp: # double break for INTERSECTIONS\n",
    "                break # found real massless\n",
    "                    \n",
    "        \n",
    "        if not lp:\n",
    "            sltn['S']=s\n",
    "            sltn['ψ']=msv\n",
    "        return sltn\n",
    "assert get_hidden_fermions([2, 4, 4, 5, 5, 7],9).get('S')==9    \n",
    "\n",
    "\n",
    "def get_hidden_sector(l):\n",
    "    '''\n",
    "    Extract massive pairs without massles fermions from l\n",
    "        [1, 3, 4, 6, -7, -8, -13, 14] → [[3,4],[6,-13],[1,6],[-7,14],[1,-8]]\n",
    "        #Remove [1,6] because is already in the pairs list\n",
    "        [1, 3, 4, 6, -7, -8, -13, 14] → [[3,4],[6,-13],[-7,14],[1,-8]]\n",
    "        [1, 6, -7, -8, -13, 14] → [[6,-13],[-7,14],[1,-8]]\n",
    "        [1, -7, -8, 14] → [[-7,14],[1,-8]]\n",
    "        [1, -8] → [[1,-8]]\n",
    "        [] → []    \n",
    "    '''\n",
    "    sltns=[]\n",
    "    ps = list(set(itertools.combinations_with_replacement(l,2)))\n",
    "    Ss = set(abs(sum(x)) for x in ps)\n",
    "    for s in Ss:\n",
    "        sltn=get_hidden_fermions(l,s,ps)\n",
    "        if sltn:\n",
    "            sltns.append(sltn)\n",
    "    return sltns\n",
    "\n",
    "assert get_hidden_sector([1,2,-3,4,5])[0].get('S')==6\n",
    "assert get_hidden_sector([1,2,-3,-3,4,5])[0].get('S')==6\n",
    "assert get_hidden_sector([1,1,2,-3,-3,4,5,5])[0].get('S')==6\n",
    "#aψ1ψ1+bψ1ψ2+cψ1,ψ3 → https://www.wolframalpha.com/input?i=Rank%20{{a,b,c},{b,0,0},{c,0,0}}\n",
    "assert get_hidden_sector([1,2,-3,4,5,9,9])==[]\n",
    "get_hidden_sector([1,1,2,-3,4,5])\n",
    "#aψ1ψ2+bψ1ψ3 → https://www.wolframalpha.com/input?i=rank+{{0,a,b},{a,0,0},{b,0,0}}\n",
    "assert get_hidden_sector([1,1,2,-3,4,5])==[]\n",
    "assert get_hidden_sector([1,1,2,-3,-3,4,5])==[]\n",
    "assert get_hidden_sector([1,2,-3,4,5,8])==[]\n",
    "assert get_hidden_sector([1,2,-3,4,5,8,8])==[]\n",
    "assert get_hidden_sector([])==[]\n",
    "assert get_hidden_sector([1, 1, 1, 1, 1, -2, -2, -2, -2, 3])==[]\n",
    "assert get_hidden_sector([1, 2, 2, 2, -3, -5, -6, 7])[0].get('S')==4\n",
    "assert get_hidden_sector( [1, 2, 2, 4, -5, -5, -7, 8] )[0].get('S')==3\n",
    "assert get_hidden_sector([2, -3, -4, 5, -6, 7, 7, -8])[0].get('S')==1 # Ana test\n",
    "assert get_hidden_sector([3, 5, -8, 9, -10, -14, 15])==[] # Dirac triplet [-10,5,15] (s=5)\n",
    "assert get_hidden_sector([3, 5, -8, 9, -10, -14, 15, 20,-30, 35])==[]\n",
    "assert get_hidden_sector([1, 3, 3, 3, -5, -7, -7, 9])[0].get('S')==4 #order of pairs matters\n",
    "assert get_hidden_sector([7, -8, -10, 11, -12, 13, 14, -15])[0].get('S')==1 #double intersection pair\n",
    "assert get_hidden_sector([4,-12])[0].get('S')==8\n",
    "assert get_hidden_sector([3, 3, -4, -4, -4, 5, -6, 7, -8, 9, 10, -11])[0].get('S')==1"
   ]
  },
  {
   "cell_type": "code",
   "execution_count": 20,
   "id": "bf9e421a-b3eb-4521-aee1-306eaec730f6",
   "metadata": {},
   "outputs": [],
   "source": [
    "import itertools\n",
    "import math as mh\n",
    "\n",
    "assert get_hidden_fermions([2, 4, 4, 5, 5, 7],9).get('S')==9    \n",
    "\n",
    "def get_hidden_sector(l):\n",
    "    '''\n",
    "    Extract massive pairs without massles fermions from l\n",
    "        [1, 3, 4, 6, -7, -8, -13, 14] → [[3,4],[6,-13],[1,6],[-7,14],[1,-8]]\n",
    "        #Remove [1,6] because is already in the pairs list\n",
    "        [1, 3, 4, 6, -7, -8, -13, 14] → [[3,4],[6,-13],[-7,14],[1,-8]]\n",
    "        [1, 6, -7, -8, -13, 14] → [[6,-13],[-7,14],[1,-8]]\n",
    "        [1, -7, -8, 14] → [[-7,14],[1,-8]]\n",
    "        [1, -8] → [[1,-8]]\n",
    "        [] → []    \n",
    "    '''\n",
    "    sltns=[]\n",
    "    ps = list(set(itertools.combinations_with_replacement(l,2)))\n",
    "    Ss = set(abs(sum(x)) for x in ps)\n",
    "    for s in Ss:\n",
    "        sltn=get_hidden_fermions(l,s,ps)\n",
    "        if sltn:\n",
    "            sltns.append(sltn)\n",
    "    return sltns\n",
    "\n",
    "assert get_hidden_sector([1,2,-3,4,5])[0].get('S')==6\n",
    "assert get_hidden_sector([1,2,-3,-3,4,5])[0].get('S')==6\n",
    "assert get_hidden_sector([1,1,2,-3,-3,4,5,5])[0].get('S')==6\n",
    "#aψ1ψ1+bψ1ψ2+cψ1,ψ3 → https://www.wolframalpha.com/input?i=Rank%20{{a,b,c},{b,0,0},{c,0,0}}\n",
    "assert get_hidden_sector([1,2,-3,4,5,9,9])==[]\n",
    "get_hidden_sector([1,1,2,-3,4,5])\n",
    "#aψ1ψ2+bψ1ψ3 → https://www.wolframalpha.com/input?i=rank+{{0,a,b},{a,0,0},{b,0,0}}\n",
    "assert get_hidden_sector([1,1,2,-3,4,5])==[]\n",
    "assert get_hidden_sector([1,1,2,-3,-3,4,5])==[]\n",
    "assert get_hidden_sector([1,2,-3,4,5,8])==[]\n",
    "assert get_hidden_sector([1,2,-3,4,5,8,8])==[]\n",
    "assert get_hidden_sector([])==[]\n",
    "assert get_hidden_sector([1, 1, 1, 1, 1, -2, -2, -2, -2, 3])==[]\n",
    "assert get_hidden_sector([1, 2, 2, 2, -3, -5, -6, 7])[0].get('S')==4\n",
    "assert get_hidden_sector( [1, 2, 2, 4, -5, -5, -7, 8] )[0].get('S')==3\n",
    "assert get_hidden_sector([2, -3, -4, 5, -6, 7, 7, -8])[0].get('S')==1 # Ana test\n",
    "assert get_hidden_sector([3, 5, -8, 9, -10, -14, 15])==[] # Dirac triplet [-10,5,15] (s=5)\n",
    "assert get_hidden_sector([3, 5, -8, 9, -10, -14, 15, 20,-30, 35])==[]\n",
    "assert get_hidden_sector([1, 3, 3, 3, -5, -7, -7, 9])[0].get('S')==4 #order of pairs matters\n",
    "assert get_hidden_sector([7, -8, -10, 11, -12, 13, 14, -15])[0].get('S')==1 #double intersection pair\n",
    "assert get_hidden_sector([4,-12])[0].get('S')==8\n",
    "assert get_hidden_sector([3, 3, -4, -4, -4, 5, -6, 7, -8, 9, 10, -11])[0].get('S')==1"
   ]
  },
  {
   "cell_type": "code",
   "execution_count": 21,
   "id": "ab4d764d-e70e-4499-9c17-38d58ffda930",
   "metadata": {},
   "outputs": [
    {
     "name": "stdout",
     "output_type": "stream",
     "text": [
      "CPU times: user 47.7 s, sys: 2.81 ms, total: 47.7 s\n",
      "Wall time: 47.7 s\n"
     ]
    }
   ],
   "source": [
    "%%time\n",
    "df['hidden']=df['solution'].apply(get_hidden_sector)"
   ]
  },
  {
   "cell_type": "code",
   "execution_count": 22,
   "id": "7d444f2c-26a5-4145-b7ab-babe5f9f8c20",
   "metadata": {},
   "outputs": [],
   "source": [
    "hs=df[df['hidden'].apply(len)>0].reset_index(drop=True)#.iloc[0].to_dict()"
   ]
  },
  {
   "cell_type": "code",
   "execution_count": 23,
   "id": "a2905342-2157-4e83-8228-51a2f16d7074",
   "metadata": {},
   "outputs": [
    {
     "data": {
      "text/plain": [
       "(1028, 8)"
      ]
     },
     "execution_count": 23,
     "metadata": {},
     "output_type": "execute_result"
    }
   ],
   "source": [
    "hs.shape #9466 solutions with hidden sector"
   ]
  },
  {
   "cell_type": "code",
   "execution_count": 24,
   "id": "6fcf9397-4225-424a-92e3-89d08d28494c",
   "metadata": {},
   "outputs": [
    {
     "data": {
      "text/plain": [
       "20"
      ]
     },
     "execution_count": 24,
     "metadata": {},
     "output_type": "execute_result"
    }
   ],
   "source": [
    "hs.zmax.max()"
   ]
  },
  {
   "cell_type": "code",
   "execution_count": 25,
   "id": "be71bd0e-c1ed-4e29-bdf3-de4c178b2980",
   "metadata": {},
   "outputs": [
    {
     "data": {
      "text/html": [
       "<div>\n",
       "<style scoped>\n",
       "    .dataframe tbody tr th:only-of-type {\n",
       "        vertical-align: middle;\n",
       "    }\n",
       "\n",
       "    .dataframe tbody tr th {\n",
       "        vertical-align: top;\n",
       "    }\n",
       "\n",
       "    .dataframe thead th {\n",
       "        text-align: right;\n",
       "    }\n",
       "</style>\n",
       "<table border=\"1\" class=\"dataframe\">\n",
       "  <thead>\n",
       "    <tr style=\"text-align: right;\">\n",
       "      <th></th>\n",
       "      <th>l</th>\n",
       "      <th>k</th>\n",
       "      <th>solution</th>\n",
       "      <th>gcd</th>\n",
       "      <th>n</th>\n",
       "      <th>zmax</th>\n",
       "      <th>repeated</th>\n",
       "      <th>hidden</th>\n",
       "    </tr>\n",
       "  </thead>\n",
       "  <tbody>\n",
       "    <tr>\n",
       "      <th>0</th>\n",
       "      <td>[2, 3]</td>\n",
       "      <td>[-1, -3]</td>\n",
       "      <td>[1, -2, -3, -6]</td>\n",
       "      <td>1</td>\n",
       "      <td>6</td>\n",
       "      <td>6</td>\n",
       "      <td>[5, 5]</td>\n",
       "      <td>[{'S': 5, 'ψ': [(-2, -3), (1, -6)]}]</td>\n",
       "    </tr>\n",
       "  </tbody>\n",
       "</table>\n",
       "</div>"
      ],
      "text/plain": [
       "        l         k         solution  gcd  n  zmax repeated  \\\n",
       "0  [2, 3]  [-1, -3]  [1, -2, -3, -6]    1  6     6   [5, 5]   \n",
       "\n",
       "                                 hidden  \n",
       "0  [{'S': 5, 'ψ': [(-2, -3), (1, -6)]}]  "
      ]
     },
     "execution_count": 25,
     "metadata": {},
     "output_type": "execute_result"
    }
   ],
   "source": [
    "hs[:1]"
   ]
  },
  {
   "cell_type": "markdown",
   "id": "d58699d1-4703-4797-a42c-9f6ef15d8813",
   "metadata": {},
   "source": [
    "## Ask question to the solutions object"
   ]
  },
  {
   "cell_type": "markdown",
   "id": "50887324-0108-48f1-8046-d655a3e3fb04",
   "metadata": {},
   "source": [
    "* Test the solution\n",
    "* Which is the minimum hidden sector and with the least charge in absolute value\n",
    "* Check for multigenerational solution\n",
    "* Check for unconditional stability\n",
    "* Solutions with active symmetry\n",
    "* How many solutions with n=12 and zmax<=20\n",
    "* Check for Majorana and Dirac fermions"
   ]
  },
  {
   "cell_type": "markdown",
   "id": "9a643fe5-77bc-4a5e-98ae-1b27c55c4296",
   "metadata": {},
   "source": [
    "Which `n` are allowed? "
   ]
  },
  {
   "cell_type": "code",
   "execution_count": 26,
   "id": "68779999-7fe1-4bb8-836d-bb5d6d043909",
   "metadata": {},
   "outputs": [
    {
     "data": {
      "text/plain": [
       "array([ 6,  7,  8,  9, 10, 11, 12])"
      ]
     },
     "execution_count": 26,
     "metadata": {},
     "output_type": "execute_result"
    }
   ],
   "source": [
    "hs['n'].unique()"
   ]
  },
  {
   "cell_type": "code",
   "execution_count": 27,
   "id": "61165151-dac1-4763-825e-7fb5ac9c4104",
   "metadata": {},
   "outputs": [],
   "source": [
    "pd.set_option('display.max_colwidth',200)"
   ]
  },
  {
   "cell_type": "markdown",
   "id": "a8eeb4b3-1480-4aec-907e-5e7fad845d99",
   "metadata": {},
   "source": [
    "What is the minimum n?"
   ]
  },
  {
   "cell_type": "code",
   "execution_count": 28,
   "id": "13a9e98b-5ae8-4c93-a475-a1b4b160d17b",
   "metadata": {},
   "outputs": [
    {
     "data": {
      "text/plain": [
       "6"
      ]
     },
     "execution_count": 28,
     "metadata": {},
     "output_type": "execute_result"
    }
   ],
   "source": [
    "hs['n'].min()"
   ]
  },
  {
   "cell_type": "markdown",
   "id": "3ec4e194-d91f-41a6-afa8-50200c5389a3",
   "metadata": {},
   "source": [
    "What is the minimum `z_max`?"
   ]
  },
  {
   "cell_type": "code",
   "execution_count": 29,
   "id": "f3aeeef7-9000-47ac-9887-4d2d48cf8ba8",
   "metadata": {},
   "outputs": [
    {
     "data": {
      "text/plain": [
       "5"
      ]
     },
     "execution_count": 29,
     "metadata": {},
     "output_type": "execute_result"
    }
   ],
   "source": [
    "hs['zmax'].min()"
   ]
  },
  {
   "cell_type": "code",
   "execution_count": 30,
   "id": "e24084b9-5fbd-4f93-9e35-a519f556c006",
   "metadata": {},
   "outputs": [
    {
     "data": {
      "text/html": [
       "<div>\n",
       "<style scoped>\n",
       "    .dataframe tbody tr th:only-of-type {\n",
       "        vertical-align: middle;\n",
       "    }\n",
       "\n",
       "    .dataframe tbody tr th {\n",
       "        vertical-align: top;\n",
       "    }\n",
       "\n",
       "    .dataframe thead th {\n",
       "        text-align: right;\n",
       "    }\n",
       "</style>\n",
       "<table border=\"1\" class=\"dataframe\">\n",
       "  <thead>\n",
       "    <tr style=\"text-align: right;\">\n",
       "      <th></th>\n",
       "      <th>l</th>\n",
       "      <th>k</th>\n",
       "      <th>solution</th>\n",
       "      <th>gcd</th>\n",
       "      <th>n</th>\n",
       "      <th>zmax</th>\n",
       "      <th>repeated</th>\n",
       "      <th>hidden</th>\n",
       "    </tr>\n",
       "  </thead>\n",
       "  <tbody>\n",
       "    <tr>\n",
       "      <th>49</th>\n",
       "      <td>[-1, 1, 2, 1]</td>\n",
       "      <td>[2, 0, -1, 0]</td>\n",
       "      <td>[1, 1, -2, -2, -2, -2, 3, -5]</td>\n",
       "      <td>2</td>\n",
       "      <td>10</td>\n",
       "      <td>5</td>\n",
       "      <td>[4, 4]</td>\n",
       "      <td>[{'S': 4, 'ψ': [(-2, -2), (1, -5), (1, 3)]}]</td>\n",
       "    </tr>\n",
       "    <tr>\n",
       "      <th>307</th>\n",
       "      <td>[2, 0, 1, 0]</td>\n",
       "      <td>[-1, 1, -1, 1, -1]</td>\n",
       "      <td>[3, 3, -4, -4, -4, -4, -4, 5, 5]</td>\n",
       "      <td>2</td>\n",
       "      <td>11</td>\n",
       "      <td>5</td>\n",
       "      <td>[2, 2]</td>\n",
       "      <td>[{'S': 8, 'ψ': [(-4, -4), (3, 5)]}]</td>\n",
       "    </tr>\n",
       "    <tr>\n",
       "      <th>380</th>\n",
       "      <td>[2, -2, 1, 2, 1]</td>\n",
       "      <td>[2, 0, 1, -1, 0]</td>\n",
       "      <td>[1, 2, 2, 2, 2, -3, -4, -4, -4, -4]</td>\n",
       "      <td>4</td>\n",
       "      <td>12</td>\n",
       "      <td>5</td>\n",
       "      <td>[5, 5]</td>\n",
       "      <td>[{'S': 2, 'ψ': [(1, 1), (1, -3), (2, -4)]}]</td>\n",
       "    </tr>\n",
       "  </tbody>\n",
       "</table>\n",
       "</div>"
      ],
      "text/plain": [
       "                    l                   k  \\\n",
       "49      [-1, 1, 2, 1]       [2, 0, -1, 0]   \n",
       "307      [2, 0, 1, 0]  [-1, 1, -1, 1, -1]   \n",
       "380  [2, -2, 1, 2, 1]    [2, 0, 1, -1, 0]   \n",
       "\n",
       "                                solution  gcd   n  zmax repeated  \\\n",
       "49         [1, 1, -2, -2, -2, -2, 3, -5]    2  10     5   [4, 4]   \n",
       "307     [3, 3, -4, -4, -4, -4, -4, 5, 5]    2  11     5   [2, 2]   \n",
       "380  [1, 2, 2, 2, 2, -3, -4, -4, -4, -4]    4  12     5   [5, 5]   \n",
       "\n",
       "                                           hidden  \n",
       "49   [{'S': 4, 'ψ': [(-2, -2), (1, -5), (1, 3)]}]  \n",
       "307           [{'S': 8, 'ψ': [(-4, -4), (3, 5)]}]  \n",
       "380   [{'S': 2, 'ψ': [(1, 1), (1, -3), (2, -4)]}]  "
      ]
     },
     "execution_count": 30,
     "metadata": {},
     "output_type": "execute_result"
    }
   ],
   "source": [
    "hs[hs['zmax']==hs['zmax'].min()]"
   ]
  },
  {
   "cell_type": "markdown",
   "id": "6566a4e0-2126-412c-92d5-7c51555e0021",
   "metadata": {},
   "source": [
    "How many solutions have several dark sectors?"
   ]
  },
  {
   "cell_type": "code",
   "execution_count": 31,
   "id": "93c144c2-50f6-4137-93b5-efdf3b3d1952",
   "metadata": {},
   "outputs": [
    {
     "data": {
      "text/plain": [
       "(0, 8)"
      ]
     },
     "execution_count": 31,
     "metadata": {},
     "output_type": "execute_result"
    }
   ],
   "source": [
    "hs[hs['hidden'].apply(len)>1].shape"
   ]
  },
  {
   "cell_type": "code",
   "execution_count": 32,
   "id": "e75784a4-a5ff-417d-b1f8-93c6ce09d0a2",
   "metadata": {},
   "outputs": [
    {
     "data": {
      "text/plain": [
       "(0, 8)"
      ]
     },
     "execution_count": 32,
     "metadata": {},
     "output_type": "execute_result"
    }
   ],
   "source": [
    "hs[hs['hidden'].apply(len)>2].shape"
   ]
  },
  {
   "cell_type": "code",
   "execution_count": 33,
   "id": "5735ac99-22ef-46d9-b2f1-21341d114e53",
   "metadata": {},
   "outputs": [
    {
     "data": {
      "text/plain": [
       "0                              [(-2, -3), (1, -6)]\n",
       "1                            [(-3, -10), (2, -15)]\n",
       "2                            [(3, -20), (-5, -12)]\n",
       "3                       [(1, 7), (-4, -4), (3, 5)]\n",
       "4                    [(5, 11), (-7, -9), (-8, -8)]\n",
       "                           ...                    \n",
       "1023     [(-18, 20), (9, -11), (14, -16), (-7, 9)]\n",
       "1024    [(-16, 18), (18, -20), (-11, 13), (5, -7)]\n",
       "1025                 [(-9, -9), (8, 10), (2, -20)]\n",
       "1026     [(18, -20), (-11, 13), (1, 1), (-14, 16)]\n",
       "1027               [(10, -18), (7, -15), (5, -13)]\n",
       "Name: hidden, Length: 1028, dtype: object"
      ]
     },
     "execution_count": 33,
     "metadata": {},
     "output_type": "execute_result"
    }
   ],
   "source": [
    "hs['hidden'].str[0].str['ψ']"
   ]
  },
  {
   "cell_type": "markdown",
   "id": "63d71c30-93f2-435d-85b7-4f2b56dd9882",
   "metadata": {},
   "source": [
    "What is the minimum number of DM particles?"
   ]
  },
  {
   "cell_type": "code",
   "execution_count": 34,
   "id": "f90a1121-cd03-4a50-9f31-8acc2224d079",
   "metadata": {},
   "outputs": [
    {
     "data": {
      "text/plain": [
       "2"
      ]
     },
     "execution_count": 34,
     "metadata": {},
     "output_type": "execute_result"
    }
   ],
   "source": [
    "hs['hidden'].str[0].str['ψ'].apply(len).min()"
   ]
  },
  {
   "cell_type": "markdown",
   "id": "a9c54102-7f18-4721-8f47-6bd1e3df41cd",
   "metadata": {},
   "source": [
    "What is the minimum number of DM particles?"
   ]
  },
  {
   "cell_type": "code",
   "execution_count": 35,
   "id": "d816fd8e-1c0c-4958-84b5-764954e81cb9",
   "metadata": {},
   "outputs": [
    {
     "data": {
      "text/plain": [
       "2"
      ]
     },
     "execution_count": 35,
     "metadata": {},
     "output_type": "execute_result"
    }
   ],
   "source": [
    "hs['hidden'].str[-1].str['ψ'].apply(len).min()"
   ]
  },
  {
   "cell_type": "code",
   "execution_count": 36,
   "id": "51828aa5-0dbd-4c5a-be8d-5c41403dac63",
   "metadata": {},
   "outputs": [
    {
     "data": {
      "text/plain": [
       "(246, 8)"
      ]
     },
     "execution_count": 36,
     "metadata": {},
     "output_type": "execute_result"
    }
   ],
   "source": [
    "hs[(hs['hidden'].str[0].str['ψ'].apply(len)==3)].shape"
   ]
  },
  {
   "cell_type": "markdown",
   "id": "f352f492-9ee7-4771-b7bb-5e7907219419",
   "metadata": {},
   "source": [
    "to capture the cases with until with two dark sectors:"
   ]
  },
  {
   "cell_type": "code",
   "execution_count": 37,
   "id": "d724236a-0e1b-46e6-9bb2-b625f7bf92db",
   "metadata": {},
   "outputs": [
    {
     "data": {
      "text/html": [
       "<div>\n",
       "<style scoped>\n",
       "    .dataframe tbody tr th:only-of-type {\n",
       "        vertical-align: middle;\n",
       "    }\n",
       "\n",
       "    .dataframe tbody tr th {\n",
       "        vertical-align: top;\n",
       "    }\n",
       "\n",
       "    .dataframe thead th {\n",
       "        text-align: right;\n",
       "    }\n",
       "</style>\n",
       "<table border=\"1\" class=\"dataframe\">\n",
       "  <thead>\n",
       "    <tr style=\"text-align: right;\">\n",
       "      <th></th>\n",
       "      <th>l</th>\n",
       "      <th>k</th>\n",
       "      <th>solution</th>\n",
       "      <th>gcd</th>\n",
       "      <th>n</th>\n",
       "      <th>zmax</th>\n",
       "      <th>repeated</th>\n",
       "      <th>hidden</th>\n",
       "    </tr>\n",
       "  </thead>\n",
       "  <tbody>\n",
       "    <tr>\n",
       "      <th>0</th>\n",
       "      <td>[2, 3]</td>\n",
       "      <td>[-1, -3]</td>\n",
       "      <td>[1, -2, -3, -6]</td>\n",
       "      <td>1</td>\n",
       "      <td>6</td>\n",
       "      <td>6</td>\n",
       "      <td>[5, 5]</td>\n",
       "      <td>[{'S': 5, 'ψ': [(-2, -3), (1, -6)]}]</td>\n",
       "    </tr>\n",
       "    <tr>\n",
       "      <th>1</th>\n",
       "      <td>[-2, 2]</td>\n",
       "      <td>[3, 0]</td>\n",
       "      <td>[2, -3, -10, -15]</td>\n",
       "      <td>4</td>\n",
       "      <td>6</td>\n",
       "      <td>15</td>\n",
       "      <td>[13, 13]</td>\n",
       "      <td>[{'S': 13, 'ψ': [(-3, -10), (2, -15)]}]</td>\n",
       "    </tr>\n",
       "    <tr>\n",
       "      <th>2</th>\n",
       "      <td>[5, -3]</td>\n",
       "      <td>[-3, 0]</td>\n",
       "      <td>[3, -5, -12, -20]</td>\n",
       "      <td>30</td>\n",
       "      <td>6</td>\n",
       "      <td>20</td>\n",
       "      <td>[17, 17]</td>\n",
       "      <td>[{'S': 17, 'ψ': [(3, -20), (-5, -12)]}]</td>\n",
       "    </tr>\n",
       "    <tr>\n",
       "      <th>32</th>\n",
       "      <td>[-2, 0, 2]</td>\n",
       "      <td>[-2, 1, 0, -2]</td>\n",
       "      <td>[1, 1, -4, -5, -10, -10]</td>\n",
       "      <td>4</td>\n",
       "      <td>9</td>\n",
       "      <td>10</td>\n",
       "      <td>[9, 9, 9]</td>\n",
       "      <td>[{'S': 9, 'ψ': [(1, -10), (-4, -5)]}]</td>\n",
       "    </tr>\n",
       "    <tr>\n",
       "      <th>33</th>\n",
       "      <td>[1, 0, -1]</td>\n",
       "      <td>[-3, 3, 0, -3]</td>\n",
       "      <td>[1, 1, -3, -8, -12, -12]</td>\n",
       "      <td>9</td>\n",
       "      <td>9</td>\n",
       "      <td>12</td>\n",
       "      <td>[11, 11, 11]</td>\n",
       "      <td>[{'S': 11, 'ψ': [(1, -12), (-3, -8)]}]</td>\n",
       "    </tr>\n",
       "    <tr>\n",
       "      <th>...</th>\n",
       "      <td>...</td>\n",
       "      <td>...</td>\n",
       "      <td>...</td>\n",
       "      <td>...</td>\n",
       "      <td>...</td>\n",
       "      <td>...</td>\n",
       "      <td>...</td>\n",
       "      <td>...</td>\n",
       "    </tr>\n",
       "    <tr>\n",
       "      <th>1019</th>\n",
       "      <td>[-3, -2, 1, 4, -2]</td>\n",
       "      <td>[-4, -5, 4, 5, -4]</td>\n",
       "      <td>[12, -13, -14, -14, 15, 17, -18, -18, -19, 20]</td>\n",
       "      <td>22</td>\n",
       "      <td>12</td>\n",
       "      <td>20</td>\n",
       "      <td>[16, 16]</td>\n",
       "      <td>[{'S': 32, 'ψ': [(-14, -18), (15, 17), (12, 20), (-13, -19)]}]</td>\n",
       "    </tr>\n",
       "    <tr>\n",
       "      <th>1020</th>\n",
       "      <td>[2, 4, 0, 2, -2]</td>\n",
       "      <td>[5, -1, 3, 5, -4]</td>\n",
       "      <td>[2, 6, -7, -7, -9, -11, 15, 15, 17, 19]</td>\n",
       "      <td>4</td>\n",
       "      <td>12</td>\n",
       "      <td>20</td>\n",
       "      <td>[-20, -20]</td>\n",
       "      <td>[{'S': 8, 'ψ': [(-9, 17), (-11, 19), (2, 6), (-7, 15)]}]</td>\n",
       "    </tr>\n",
       "    <tr>\n",
       "      <th>1023</th>\n",
       "      <td>[3, 6, 3, 0, 3]</td>\n",
       "      <td>[-6, 1, -4, -3, 3]</td>\n",
       "      <td>[-7, 9, 9, 9, -11, -11, 14, -16, -18, 20]</td>\n",
       "      <td>54</td>\n",
       "      <td>12</td>\n",
       "      <td>20</td>\n",
       "      <td>[1, 1]</td>\n",
       "      <td>[{'S': 2, 'ψ': [(-18, 20), (9, -11), (14, -16), (-7, 9)]}]</td>\n",
       "    </tr>\n",
       "    <tr>\n",
       "      <th>1024</th>\n",
       "      <td>[-1, -2, 4, -2, 1]</td>\n",
       "      <td>[-1, 1, 4, 6, -5]</td>\n",
       "      <td>[5, 5, -7, -7, -11, 13, -16, 18, 18, -20]</td>\n",
       "      <td>8</td>\n",
       "      <td>12</td>\n",
       "      <td>20</td>\n",
       "      <td>[1, 1]</td>\n",
       "      <td>[{'S': 2, 'ψ': [(-16, 18), (18, -20), (-11, 13), (5, -7)]}]</td>\n",
       "    </tr>\n",
       "    <tr>\n",
       "      <th>1026</th>\n",
       "      <td>[-1, 6, 7, 6, -1]</td>\n",
       "      <td>[3, 1, 2, 6, -1]</td>\n",
       "      <td>[1, 1, 1, 1, -11, 13, -14, 16, 18, -20]</td>\n",
       "      <td>20</td>\n",
       "      <td>12</td>\n",
       "      <td>20</td>\n",
       "      <td>[-3, -3]</td>\n",
       "      <td>[{'S': 2, 'ψ': [(18, -20), (-11, 13), (1, 1), (-14, 16)]}]</td>\n",
       "    </tr>\n",
       "  </tbody>\n",
       "</table>\n",
       "<p>356 rows × 8 columns</p>\n",
       "</div>"
      ],
      "text/plain": [
       "                       l                   k  \\\n",
       "0                 [2, 3]            [-1, -3]   \n",
       "1                [-2, 2]              [3, 0]   \n",
       "2                [5, -3]             [-3, 0]   \n",
       "32            [-2, 0, 2]      [-2, 1, 0, -2]   \n",
       "33            [1, 0, -1]      [-3, 3, 0, -3]   \n",
       "...                  ...                 ...   \n",
       "1019  [-3, -2, 1, 4, -2]  [-4, -5, 4, 5, -4]   \n",
       "1020    [2, 4, 0, 2, -2]   [5, -1, 3, 5, -4]   \n",
       "1023     [3, 6, 3, 0, 3]  [-6, 1, -4, -3, 3]   \n",
       "1024  [-1, -2, 4, -2, 1]   [-1, 1, 4, 6, -5]   \n",
       "1026   [-1, 6, 7, 6, -1]    [3, 1, 2, 6, -1]   \n",
       "\n",
       "                                            solution  gcd   n  zmax  \\\n",
       "0                                    [1, -2, -3, -6]    1   6     6   \n",
       "1                                  [2, -3, -10, -15]    4   6    15   \n",
       "2                                  [3, -5, -12, -20]   30   6    20   \n",
       "32                          [1, 1, -4, -5, -10, -10]    4   9    10   \n",
       "33                          [1, 1, -3, -8, -12, -12]    9   9    12   \n",
       "...                                              ...  ...  ..   ...   \n",
       "1019  [12, -13, -14, -14, 15, 17, -18, -18, -19, 20]   22  12    20   \n",
       "1020         [2, 6, -7, -7, -9, -11, 15, 15, 17, 19]    4  12    20   \n",
       "1023       [-7, 9, 9, 9, -11, -11, 14, -16, -18, 20]   54  12    20   \n",
       "1024       [5, 5, -7, -7, -11, 13, -16, 18, 18, -20]    8  12    20   \n",
       "1026         [1, 1, 1, 1, -11, 13, -14, 16, 18, -20]   20  12    20   \n",
       "\n",
       "          repeated  \\\n",
       "0           [5, 5]   \n",
       "1         [13, 13]   \n",
       "2         [17, 17]   \n",
       "32       [9, 9, 9]   \n",
       "33    [11, 11, 11]   \n",
       "...            ...   \n",
       "1019      [16, 16]   \n",
       "1020    [-20, -20]   \n",
       "1023        [1, 1]   \n",
       "1024        [1, 1]   \n",
       "1026      [-3, -3]   \n",
       "\n",
       "                                                              hidden  \n",
       "0                               [{'S': 5, 'ψ': [(-2, -3), (1, -6)]}]  \n",
       "1                            [{'S': 13, 'ψ': [(-3, -10), (2, -15)]}]  \n",
       "2                            [{'S': 17, 'ψ': [(3, -20), (-5, -12)]}]  \n",
       "32                             [{'S': 9, 'ψ': [(1, -10), (-4, -5)]}]  \n",
       "33                            [{'S': 11, 'ψ': [(1, -12), (-3, -8)]}]  \n",
       "...                                                              ...  \n",
       "1019  [{'S': 32, 'ψ': [(-14, -18), (15, 17), (12, 20), (-13, -19)]}]  \n",
       "1020        [{'S': 8, 'ψ': [(-9, 17), (-11, 19), (2, 6), (-7, 15)]}]  \n",
       "1023      [{'S': 2, 'ψ': [(-18, 20), (9, -11), (14, -16), (-7, 9)]}]  \n",
       "1024     [{'S': 2, 'ψ': [(-16, 18), (18, -20), (-11, 13), (5, -7)]}]  \n",
       "1026      [{'S': 2, 'ψ': [(18, -20), (-11, 13), (1, 1), (-14, 16)]}]  \n",
       "\n",
       "[356 rows x 8 columns]"
      ]
     },
     "execution_count": 37,
     "metadata": {},
     "output_type": "execute_result"
    }
   ],
   "source": [
    "hs[(hs['hidden'].str[0].str['ψ'].apply(len)==2) | \n",
    "   (hs['hidden'].str[-1].str['ψ'].apply(len)==4)]"
   ]
  },
  {
   "cell_type": "code",
   "execution_count": 39,
   "id": "c81c3481-ea32-4280-abef-42f27074fa12",
   "metadata": {},
   "outputs": [
    {
     "data": {
      "text/plain": [
       "0                                 [1, -2, -3, -6]\n",
       "1                               [2, -3, -10, -15]\n",
       "2                               [3, -5, -12, -20]\n",
       "3                                [1, 3, -4, 5, 7]\n",
       "4                             [5, -7, -8, -9, 11]\n",
       "                          ...                    \n",
       "1023    [-7, 9, 9, 9, -11, -11, 14, -16, -18, 20]\n",
       "1024    [5, 5, -7, -7, -11, 13, -16, 18, 18, -20]\n",
       "1025          [2, 8, -9, -9, -9, -9, -9, 10, -20]\n",
       "1026      [1, 1, 1, 1, -11, 13, -14, 16, 18, -20]\n",
       "1027    [5, 7, 7, 7, 10, -13, -15, -15, -15, -18]\n",
       "Name: solution, Length: 1028, dtype: object"
      ]
     },
     "execution_count": 39,
     "metadata": {},
     "output_type": "execute_result"
    }
   ],
   "source": [
    "hs['solution'].apply(lambda L: len({}.intersection(L))>0"
   ]
  },
  {
   "cell_type": "markdown",
   "id": "91f9314c-25e8-4a6f-a40d-07c511916046",
   "metadata": {},
   "source": [
    "What is the maximum number of DM particles?"
   ]
  },
  {
   "cell_type": "code",
   "execution_count": null,
   "id": "d8f7ddfe-27df-49b4-9ba0-1c83f89b9f2f",
   "metadata": {},
   "outputs": [],
   "source": [
    "hs['hidden'].str[0].str['ψ'].apply(len).max()"
   ]
  },
  {
   "cell_type": "markdown",
   "id": "0fb5009f-4d2b-4b64-aeeb-3a35b78e994c",
   "metadata": {},
   "source": [
    "What is the maximum number of DM particles?"
   ]
  },
  {
   "cell_type": "code",
   "execution_count": null,
   "id": "390eb608-8015-4279-a89b-0f15887bd865",
   "metadata": {},
   "outputs": [],
   "source": [
    "hs['hidden'].str[-1].str['ψ'].apply(len).max()"
   ]
  },
  {
   "cell_type": "code",
   "execution_count": null,
   "id": "0b047680-0569-464d-a26e-47bb07a3b01e",
   "metadata": {},
   "outputs": [],
   "source": [
    "hs[(hs['hidden'].str[0].str['ψ'].apply(len)==8)][:1]"
   ]
  },
  {
   "cell_type": "markdown",
   "id": "925b2ba5-f394-42b3-adf4-5a62b965c10b",
   "metadata": {},
   "source": [
    "What is the minimum number of _independent_ DM particles?"
   ]
  },
  {
   "cell_type": "code",
   "execution_count": null,
   "id": "31b4ced5-3255-41d2-bf03-3aab175d4c77",
   "metadata": {},
   "outputs": [],
   "source": [
    "lst=[{'S': 3, 'ψ': [(-17, 20), (-23, 20), (14, -17)]}]\n",
    "def intersections(lst,mask=True):\n",
    "    lstc=lst.copy()\n",
    "    lenmax=float('inf')\n",
    "    for d in lst:\n",
    "        for p in d.get('ψ'):\n",
    "            dd=d.get('ψ').copy()\n",
    "            dd.remove(p)\n",
    "            [dd.remove(q) for q in dd.copy() if set(p).intersection(set(q))]\n",
    "            if len(dd) < lenmax:\n",
    "                ddd=dd.copy()\n",
    "                lenmax=len(dd)\n",
    "                \n",
    "            if mask and not dd:\n",
    "                return True\n",
    "    if mask:        \n",
    "        return False\n",
    "    return ddd\n",
    "\n",
    "assert intersections([{'S': 3, 'ψ': [(-17, 20), (-23, 20), (14, -17)]}])\n",
    "assert not intersections([{'S': 3, 'ψ': [(-17, 20), (-7, 20), (14, -17), (2,5)]}])"
   ]
  },
  {
   "cell_type": "markdown",
   "id": "a8f02157-f1d3-4c7b-b5af-6b4bd75e41dc",
   "metadata": {},
   "source": [
    "One excluded:"
   ]
  },
  {
   "cell_type": "code",
   "execution_count": null,
   "id": "1cf6f60c-0a90-4d8c-8d25-aecfa239d59b",
   "metadata": {},
   "outputs": [],
   "source": [
    "intersections([{'S': 3, 'ψ': [(-17, 20), (-23, 20), (14, -17)]}])"
   ]
  },
  {
   "cell_type": "code",
   "execution_count": null,
   "id": "31e437d5-7598-4958-aac4-2f35805e2b35",
   "metadata": {},
   "outputs": [],
   "source": [
    "hs[hs['hidden'].apply(intersections)]"
   ]
  },
  {
   "cell_type": "markdown",
   "id": "05dee240-3d40-4abf-8e68-54b4e00dc123",
   "metadata": {},
   "source": [
    "The minimum is..."
   ]
  },
  {
   "cell_type": "code",
   "execution_count": null,
   "id": "b5391220-1d9d-4212-83bb-1b9df0e2fbe8",
   "metadata": {},
   "outputs": [],
   "source": [
    "hs['~intersections']=hs['hidden'].apply(lambda lst: intersections(lst,mask=False))\n",
    "hs[hs['~intersections'].apply(len)==hs['~intersections'].apply(len).min()].sort_values('n')"
   ]
  },
  {
   "cell_type": "markdown",
   "id": "90b2be2c-4add-48cc-9e97-2f0add5de02d",
   "metadata": {},
   "source": [
    "### Appendix: Same questions for Standard Model (SM) solutions\n",
    "Which are solutions with three repeated integers to be asigned to SM particles"
   ]
  },
  {
   "cell_type": "code",
   "execution_count": null,
   "id": "fe26a5ab-2e9e-477b-af5f-6568fdc65e57",
   "metadata": {},
   "outputs": [],
   "source": [
    "df3=df[df['solution'].apply(lambda l: 3 in [l.count(x) for x in l])].reset_index(drop=True)"
   ]
  },
  {
   "cell_type": "markdown",
   "id": "9a1780e2-b872-48c2-a959-10f9847186a1",
   "metadata": {},
   "source": [
    "Remove the three repeated integers from the new `hidden` column"
   ]
  },
  {
   "cell_type": "code",
   "execution_count": null,
   "id": "4c3f1529-7624-4545-af61-545415f2409d",
   "metadata": {},
   "outputs": [],
   "source": [
    "def get_dark(l,idx=0):\n",
    "    #TODO,\n",
    "    xxx=list(set([x for x in l if l.count(x)==3]))\n",
    "    if len(xxx)>=idx+1:\n",
    "        xx=xxx[idx]\n",
    "        return [x for x in l if x!=xx]\n",
    "    else:\n",
    "        return []\n",
    "assert get_dark([1,1,2,2,2,3] )==[1, 1, 3]\n",
    "assert get_dark([2,2,2,2,-5,-5,-5,7])==[2, 2, 2, 2, 7]"
   ]
  },
  {
   "cell_type": "code",
   "execution_count": null,
   "id": "3eafc7e4-cf0f-48b9-8d50-8fcf5c986867",
   "metadata": {},
   "outputs": [],
   "source": [
    "df3['hidden']=df3['solution'].apply(get_dark).apply(get_hidden_sector)"
   ]
  },
  {
   "cell_type": "code",
   "execution_count": null,
   "id": "621afe65-e4f4-4cc4-965a-8c2841fbfc8b",
   "metadata": {},
   "outputs": [],
   "source": [
    "hs3=df3[df3['hidden'].apply(len)>0].reset_index(drop=True)\n",
    "hs3.shape"
   ]
  },
  {
   "cell_type": "code",
   "execution_count": null,
   "id": "a6186c47-e4a5-4c1c-b132-6ee0888bb123",
   "metadata": {},
   "outputs": [],
   "source": [
    "# idxmax==1\n",
    "df3['hidden']=df3['solution'].apply(lambda l: get_dark(l,idx=1)).apply(get_hidden_sector)\n",
    "hs3=pd.concat((hs3,df3[df3['hidden'].apply(len)>0])).reset_index(drop=True)\n",
    "hs3.shape"
   ]
  },
  {
   "cell_type": "code",
   "execution_count": null,
   "id": "a53d71e9-1755-4286-8799-2a407d8dbf86",
   "metadata": {},
   "outputs": [],
   "source": [
    "# idxmax==1\n",
    "df3['hidden']=df3['solution'].apply(lambda l: get_dark(l,idx=2)).apply(get_hidden_sector)\n",
    "hs3=pd.concat((hs3,df3[df3['hidden'].apply(len)>0])).reset_index(drop=True)\n",
    "hs3.shape"
   ]
  },
  {
   "cell_type": "code",
   "execution_count": null,
   "id": "a0d204e8-f73e-43d5-826b-6bf8fc6e17f0",
   "metadata": {},
   "outputs": [],
   "source": [
    "hs3['zmax'].min()"
   ]
  },
  {
   "cell_type": "code",
   "execution_count": null,
   "id": "a80e9876-b428-475a-b252-3065eaac51e0",
   "metadata": {},
   "outputs": [],
   "source": [
    "hs3[:1]"
   ]
  },
  {
   "cell_type": "code",
   "execution_count": null,
   "id": "aa817d62-360f-4ff3-bb5e-453057f355cf",
   "metadata": {},
   "outputs": [],
   "source": [
    "hs3[hs3['hidden'].apply(len)>1].shape"
   ]
  },
  {
   "cell_type": "code",
   "execution_count": null,
   "id": "aee810b4-c226-4113-9bf8-e1baa34a3fc0",
   "metadata": {},
   "outputs": [],
   "source": [
    "hs3[hs3['hidden'].apply(len)>2].shape"
   ]
  },
  {
   "cell_type": "code",
   "execution_count": null,
   "id": "76a8da24-7b36-47a4-9d8c-66186cc8436b",
   "metadata": {},
   "outputs": [],
   "source": [
    "hs3[hs3['hidden'].apply(len)>3].shape"
   ]
  },
  {
   "cell_type": "code",
   "execution_count": null,
   "id": "1c25aae3-e070-4177-9792-bda63e0bf15f",
   "metadata": {},
   "outputs": [],
   "source": [
    "hs3['hidden'].str[0].str['ψ'].apply(len).min()"
   ]
  },
  {
   "cell_type": "code",
   "execution_count": null,
   "id": "46daab74-e67a-4b28-8385-e6007339deb3",
   "metadata": {},
   "outputs": [],
   "source": [
    "hs3[hs3['hidden'].str[0].str['ψ'].apply(len)==hs3['hidden'].str[0].str['ψ'].apply(len).min()]"
   ]
  },
  {
   "cell_type": "markdown",
   "id": "1807c62c-488a-444d-bc7b-28393b5cb114",
   "metadata": {},
   "source": [
    "Check if `sum([L,L,L,x,y])` where `(x,y) = ±S`  "
   ]
  },
  {
   "cell_type": "code",
   "execution_count": null,
   "id": "8db82056-853a-43a1-b9cc-c67b100e3508",
   "metadata": {},
   "outputs": [],
   "source": [
    "def check_L(r):\n",
    "    L=[x for x in r.get('solution') if r.get('solution').count(x)==3 ]\n",
    "    for LL in L[::3]:\n",
    "        z=r.get('hidden')[0]\n",
    "        for p in z.get('ψ'):\n",
    "            if 3*LL+sum(list(p))==0:\n",
    "                return list(p)\n",
    "    return []\n",
    "assert check_L({'solution':[4,4,4,5,-8,-10,13,-9, -9, -9, 15, 15, 15],\n",
    "         'hidden':[{'S': 18, 'ψ': [(-9, -9), (-8, -10), (5, 13)]}]})==[]"
   ]
  },
  {
   "cell_type": "code",
   "execution_count": null,
   "id": "42b4a438-e9f7-49ab-99bc-8336ba0a2783",
   "metadata": {},
   "outputs": [],
   "source": [
    "hs3[hs3.apply(check_L,axis='columns').apply(len)>0].reset_index(drop=True)"
   ]
  },
  {
   "cell_type": "markdown",
   "id": "66cc520a-9510-4473-b840-d205b193c5f0",
   "metadata": {},
   "source": [
    "### Extend the data scheme with number of generations"
   ]
  },
  {
   "cell_type": "code",
   "execution_count": null,
   "id": "ee44f4cd-a196-45fd-b0f3-a0359897e363",
   "metadata": {},
   "outputs": [],
   "source": [
    "def get_Dirac_and_Majorana_generations(l,h):\n",
    "    g=[]\n",
    "    dgmax=0\n",
    "    mgmax=0\n",
    "    for idx in range(len(h)):\n",
    "        for x,y in h[idx].get('ψ'):\n",
    "            if x!=y and l.count(x)>dgmax and l.count(y)==l.count(x):\n",
    "                    dgmax=l.count(x)\n",
    "            if x==y and l.count(x)>mgmax:\n",
    "                    mgmax=l.count(x)\n",
    "        g.append({'DG':dgmax,'MG':mgmax})\n",
    "    return g\n",
    "l=[2, 2, -3, 15, 15, 20]\n",
    "h=[{'S': 17, 'ψ': [(2, 15), (20, -3)]}]\n",
    "assert get_Dirac_and_Majorana_generations(l,h)==[{'DG': 2, 'MG': 0}]"
   ]
  },
  {
   "cell_type": "code",
   "execution_count": null,
   "id": "3a3d430a-3c6b-4a88-848d-fedd8bc3a780",
   "metadata": {},
   "outputs": [],
   "source": [
    "hs[:3].apply(lambda d: d['l']+d['k'],axis='columns')"
   ]
  },
  {
   "cell_type": "code",
   "execution_count": null,
   "id": "92dbea03-8c25-4cc1-a146-e7a6e8ffd1a3",
   "metadata": {},
   "outputs": [],
   "source": [
    "hs['Generations']=hs.apply(lambda row: get_Dirac_and_Majorana_generations(row['solution'],row['hidden']),axis='columns')"
   ]
  },
  {
   "cell_type": "code",
   "execution_count": null,
   "id": "f92422d5-fd46-446d-b075-161f7683ac41",
   "metadata": {},
   "outputs": [],
   "source": [
    "hs3['Generations']=hs3.apply(lambda row: get_Dirac_and_Majorana_generations(row['solution'],row['hidden']),axis='columns')"
   ]
  },
  {
   "cell_type": "code",
   "execution_count": null,
   "id": "71a7cd0e-f693-4021-89ce-f6892e5e6af3",
   "metadata": {},
   "outputs": [],
   "source": [
    "hs['Gmax']=hs['Generations'].str[0].apply(lambda d: sum(d.values()))"
   ]
  },
  {
   "cell_type": "code",
   "execution_count": null,
   "id": "75b0a0bd-0834-4f9a-8a3a-34e8d4191c79",
   "metadata": {},
   "outputs": [],
   "source": [
    "hs=hs.sort_values(['Gmax'],ascending=False).reset_index(drop=True)"
   ]
  },
  {
   "cell_type": "code",
   "execution_count": null,
   "id": "68c0890a-d708-4edd-ae0b-f8752954146a",
   "metadata": {},
   "outputs": [],
   "source": [
    "hs[hs['n']==8]"
   ]
  },
  {
   "cell_type": "code",
   "execution_count": null,
   "id": "5d1b3a25-f7c5-408e-92da-0f1ca0764384",
   "metadata": {},
   "outputs": [],
   "source": [
    "hs[hs['n']==8][:6]"
   ]
  },
  {
   "cell_type": "code",
   "execution_count": null,
   "id": "9b3f865a-4711-4f65-92bb-0ab81cccf74a",
   "metadata": {},
   "outputs": [],
   "source": [
    "hs[hs['n']==9][:3]"
   ]
  },
  {
   "cell_type": "code",
   "execution_count": null,
   "id": "54ecbd30-0e04-4b5f-a122-21dcf5338c92",
   "metadata": {},
   "outputs": [],
   "source": [
    "hs[hs['n']==11][:4]"
   ]
  },
  {
   "cell_type": "code",
   "execution_count": null,
   "id": "4d833da6-307e-449c-bdd6-f21262951487",
   "metadata": {},
   "outputs": [],
   "source": [
    "hs[hs['n']==12][:4]"
   ]
  },
  {
   "cell_type": "code",
   "execution_count": null,
   "id": "92a5c991-081d-4627-bf07-da0ae1f449f2",
   "metadata": {},
   "outputs": [],
   "source": [
    "hs3['Gmax']=-hs3['Generations'].str[0].apply(lambda d: sum(d.values()))\n",
    "hs3=hs3.sort_values(['n','Gmax']).reset_index(drop=True)"
   ]
  },
  {
   "cell_type": "code",
   "execution_count": null,
   "id": "ebd62377-8b1f-475b-bbc5-9a539794ef53",
   "metadata": {},
   "outputs": [],
   "source": [
    "hs3[hs3['n']==8][:1]"
   ]
  },
  {
   "cell_type": "code",
   "execution_count": null,
   "id": "ef353d09-4292-47c0-aa98-d4e2711b8873",
   "metadata": {},
   "outputs": [],
   "source": [
    "hs3[hs3['n']==9][:4]"
   ]
  },
  {
   "cell_type": "code",
   "execution_count": null,
   "id": "1a2dfd23-be61-4e2b-aa5a-06ae9e664752",
   "metadata": {},
   "outputs": [],
   "source": [
    "hs3[hs3['n']==10][:5]"
   ]
  },
  {
   "cell_type": "code",
   "execution_count": null,
   "id": "2b0f69f7-c511-454f-8670-ecccfc31b151",
   "metadata": {},
   "outputs": [],
   "source": [
    "hs3[hs3['n']==11][:2]"
   ]
  },
  {
   "cell_type": "code",
   "execution_count": null,
   "id": "482d9bd4-17bb-4987-bc25-49b1fe5c8e28",
   "metadata": {},
   "outputs": [],
   "source": [
    "hs3[hs3['n']==12][:5]"
   ]
  },
  {
   "cell_type": "code",
   "execution_count": null,
   "id": "df360971-99b3-4d01-a7bb-592101714f0b",
   "metadata": {},
   "outputs": [],
   "source": [
    "hs3['~intersections']=hs3['hidden'].apply(lambda lst: intersections(lst,mask=False))\n",
    "hs3[hs3['~intersections'].apply(len)==hs3['~intersections'].apply(len).min()].sort_values('n')"
   ]
  },
  {
   "cell_type": "markdown",
   "id": "7c5aa648-6500-458c-8c69-f11de4ada254",
   "metadata": {},
   "source": [
    "## Appendix: Use merge to compare two DataFrames"
   ]
  },
  {
   "cell_type": "code",
   "execution_count": null,
   "id": "4728d082-1b73-4f99-b767-0c4bdb8bcd7a",
   "metadata": {},
   "outputs": [],
   "source": [
    "df=pd.read_json('solutions.json.gz')"
   ]
  },
  {
   "cell_type": "code",
   "execution_count": null,
   "id": "b5ad001c",
   "metadata": {},
   "outputs": [],
   "source": [
    "%%time\n",
    "df['hidden']=df['solution'].apply(get_hidden_sector)"
   ]
  },
  {
   "cell_type": "code",
   "execution_count": null,
   "id": "465bdaeb",
   "metadata": {},
   "outputs": [],
   "source": [
    "hs2=df[df['hidden'].apply(len)>0].reset_index(drop=True)#.iloc[0].to_dict()\n",
    "hs2.shape"
   ]
  },
  {
   "cell_type": "markdown",
   "id": "736e5eea-3445-4a5c-93c5-d7d66b1e4560",
   "metadata": {},
   "source": [
    "Columns can only be compared if they are simple objects, like strings:"
   ]
  },
  {
   "cell_type": "code",
   "execution_count": null,
   "id": "2e257404",
   "metadata": {},
   "outputs": [],
   "source": [
    "hs['ss']  = hs['solution'].apply(str)\n",
    "hs2['ss'] = hs2['solution'].apply(str)"
   ]
  },
  {
   "cell_type": "markdown",
   "id": "9b77b20e-8d67-4158-8088-0f9678f2c61e",
   "metadata": {},
   "source": [
    "Increase the with of the columns for easier visualization."
   ]
  },
  {
   "cell_type": "code",
   "execution_count": null,
   "id": "1e3e6a84",
   "metadata": {},
   "outputs": [],
   "source": [
    "pd.set_option('display.max_colwidth',200)"
   ]
  },
  {
   "cell_type": "markdown",
   "id": "4f961ec8-7086-4773-80ef-6990827cd23e",
   "metadata": {},
   "source": [
    "Compare the larger DataFrame (with filtered columns) against the smaller. The non `on='s'` repeated columns will appears with suffixes. "
   ]
  },
  {
   "cell_type": "code",
   "execution_count": null,
   "id": "446917a5",
   "metadata": {},
   "outputs": [],
   "source": [
    "tmp=hs2[['ss','hidden']].merge(hs[['ss','hidden']],on='ss',how='left',suffixes=('_1','_2'))"
   ]
  },
  {
   "cell_type": "code",
   "execution_count": null,
   "id": "8a1eb85b-3865-45d9-ad73-be42aab7423b",
   "metadata": {},
   "outputs": [],
   "source": [
    "#tmp=\n",
    "tmp[tmp['hidden_2'].apply(lambda x: False if isinstance(x,list) else True )].reset_index(drop=True)"
   ]
  },
  {
   "cell_type": "code",
   "execution_count": null,
   "id": "04e06518-bbeb-4dc7-b9b0-a859fc2b33ad",
   "metadata": {},
   "outputs": [],
   "source": [
    "tmp['zmax']=tmp['ss'].apply(eval).str[-1].abs()\n",
    "tmp['n']=tmp['ss'].apply(eval).apply(len)"
   ]
  },
  {
   "cell_type": "code",
   "execution_count": null,
   "id": "e1eeb5b9-b459-44b7-85e7-6b0c81ad7b4e",
   "metadata": {},
   "outputs": [],
   "source": [
    "tmp=tmp.sort_values(['n','zmax'])"
   ]
  },
  {
   "cell_type": "markdown",
   "id": "6cdb4d25-525f-4f69-a0ae-5c36b4a1cd33",
   "metadata": {},
   "source": [
    "There are plenty of new solutions with the new dataset build with the Multiprocessing algorithm in the previous Chapter"
   ]
  },
  {
   "cell_type": "code",
   "execution_count": null,
   "id": "c72bd79a-9fea-4fa6-aca7-dd8df9b7d174",
   "metadata": {},
   "outputs": [],
   "source": [
    "tmp"
   ]
  },
  {
   "cell_type": "code",
   "execution_count": null,
   "id": "9dad3abc-fa3a-4398-b492-6ce7d422a350",
   "metadata": {},
   "outputs": [],
   "source": [
    "hs.shape"
   ]
  },
  {
   "cell_type": "code",
   "execution_count": null,
   "id": "e576626c",
   "metadata": {},
   "outputs": [],
   "source": [
    "tmp[tmp['hidden_2'].apply(lambda x: False if isinstance(x,list) else True )][:5][[\"ss\",'hidden_1']]"
   ]
  },
  {
   "cell_type": "code",
   "execution_count": null,
   "id": "ed138155-f4a7-4905-a029-0fc74adac97d",
   "metadata": {},
   "outputs": [],
   "source": [
    "import itertools\n",
    "import math as mh\n",
    "\n",
    "def remove_double_intersection_pairs(msvp,l):\n",
    "    '''\n",
    "    Example:\n",
    "        msvp = [(3,4),(6,-13),(1,6),(-7,14),(1,-8)]\n",
    "        l = [1, 3, 4, 6, -7, -8, -13, 14]\n",
    "        # Remove (1,6) because is fully contained \n",
    "        # in the intersections with (_1_,-8) and (_6_,-13)\n",
    "        returns: \n",
    "        [(3,4),(6,-13),(-7,14),(1,-8)]    \n",
    "    '''\n",
    "    for p in msvp.copy():\n",
    "        tmp=msvp.copy()\n",
    "        tmp.remove(p)\n",
    "        fltmp=set([x for sublist in tmp for x in sublist]) \n",
    "        if l.count(p[0])==1 and l.count(p[1])==1 and set(p).issubset(fltmp):\n",
    "            msvp=tmp.copy()\n",
    "    return msvp\n",
    "assert len(remove_double_intersection_pairs([(-10, 11), (-12, 13), (11, -12)],\n",
    "                                             [-10, 11, -12, 13]))==2\n",
    "assert len(remove_double_intersection_pairs([(4,4),(4,-12)],[4,-12]))==1\n",
    "\n",
    "def get_real_massless(l,msvp):\n",
    "    '''\n",
    "    Example:\n",
    "        l = [1, 3, 4, 6, -7, -8, -13, 14]\n",
    "        msvp = [(3,4),(6,-13),(-7,14),(1,-8)]\n",
    "        [1, 3, 4, 6, -7, -8, -13, 14] → [(3,4),(6,-13),(-7,14),(1,-8)]\n",
    "        [1, 6, -7, -8, -13, 14] → [(6,-13),(-7,14),(1,-8)]\n",
    "        [1, -7, -8, 14] → [(-7,14),(1,-8)]\n",
    "        [1, -8] → [(1,-8)]\n",
    "        [] → []\n",
    "        \n",
    "        returns:\n",
    "        [] # lp    \n",
    "    '''\n",
    "    lp=l.copy()\n",
    "    for x,y in msvp:\n",
    "        #print(lp,msvp,x,y)\n",
    "        if lp and x in lp and y in lp:\n",
    "            minxy=min(lp.count(x),lp.count(y))\n",
    "            if x!=y:\n",
    "                [(lp.remove(x),lp.remove(y)) for ii in range(minxy)]\n",
    "            else:\n",
    "                [ lp.remove(x) for ii in range(lp.count(x)) ] # abs(2*x)==s\n",
    "        else: # not lp\n",
    "            break\n",
    "    return lp\n",
    "\n",
    "def get_hidden_fermions(l,s,ps=[]):\n",
    "    '''\n",
    "    For a given scalar Abelian charge `s`, build the \n",
    "    fermion non-zero determinant mass matrix from their\n",
    "    Abelian charges in `l`, and returns the input `s` and \n",
    "    the non-zero mass entries.\n",
    "    Returns an empty dictionary otherwise.\n",
    "    \n",
    "    The list of combinations on pairs of `l` can be given in `ps`,\n",
    "    otherwise it is internally calculated.\n",
    "    \n",
    "    Example:\n",
    "        l = [1, 3, 4, 6, -7, -8, -13, 14]\n",
    "        s = 7\n",
    "        ps = [(3,4),(6,-13),(1,6),(-7,14),(1,-8)]\n",
    "        # If necessary temove [1,6] because have is fully contained \n",
    "        # in the intersections with others\n",
    "        [1, 3, 4, 6, -7, -8, -13, 14] → [(3,4),(6,-13),(-7,14),(1,-8)]\n",
    "        [1, 6, -7, -8, -13, 14] → [(6,-13),(-7,14),(1,-8)]\n",
    "        [1, -7, -8, 14] → [(-7,14),(1,-8)]\n",
    "        [1, -8] → [(1,-8)]\n",
    "        [] → []\n",
    "        \n",
    "        returns:\n",
    "        {'s':7, '\\psi':[(3,4),(6,-13),(1,6),(-7,14),(1,-8)]}\n",
    "\n",
    "    '''\n",
    "    sltn={}\n",
    "    if not ps:\n",
    "        ps = list(set(itertools.combinations_with_replacement(l,2)))\n",
    "    msv = [p for p in ps if abs(sum(p))==s]\n",
    "    lmsv=[x for sublist in msv for x in sublist]\n",
    "    massives=set(lmsv)        \n",
    "    massless=set(l).difference(massives)\n",
    "    if not massless:\n",
    "        sltn['S']=s\n",
    "        sltn['ψ']=msv\n",
    "    return sltn\n",
    "assert get_hidden_fermions([2, 4, 4, 5, 5, 7],9).get('S')==9    \n",
    "\n",
    "\n",
    "def get_hidden_sector(l):\n",
    "    '''\n",
    "    Extract massive pairs without massles fermions from l\n",
    "        [1, 3, 4, 6, -7, -8, -13, 14] → [[3,4],[6,-13],[1,6],[-7,14],[1,-8]]\n",
    "        #Remove [1,6] because is already in the pairs list\n",
    "        [1, 3, 4, 6, -7, -8, -13, 14] → [[3,4],[6,-13],[-7,14],[1,-8]]\n",
    "        [1, 6, -7, -8, -13, 14] → [[6,-13],[-7,14],[1,-8]]\n",
    "        [1, -7, -8, 14] → [[-7,14],[1,-8]]\n",
    "        [1, -8] → [[1,-8]]\n",
    "        [] → []    \n",
    "    '''\n",
    "    sltns=[]\n",
    "    ps = list(set(itertools.combinations_with_replacement(l,2)))\n",
    "    Ss = set(abs(sum(x)) for x in ps)\n",
    "    for s in Ss:\n",
    "        sltn=get_hidden_fermions(l,s,ps)\n",
    "        if sltn:\n",
    "            sltns.append(sltn)\n",
    "    return sltns\n",
    "\n"
   ]
  },
  {
   "cell_type": "code",
   "execution_count": null,
   "id": "cb2efcf5-5d4e-4b81-bd7e-96bf1365a942",
   "metadata": {},
   "outputs": [],
   "source": [
    "%%time\n",
    "df['hidden']=df['solution'].apply(get_hidden_sector)"
   ]
  },
  {
   "cell_type": "code",
   "execution_count": null,
   "id": "d55431f9-26b5-4b70-9294-4bbea36983c6",
   "metadata": {},
   "outputs": [],
   "source": [
    "hs=df[df['hidden'].apply(len)>0].reset_index(drop=True)#.iloc[0].to_dict()"
   ]
  },
  {
   "cell_type": "code",
   "execution_count": null,
   "id": "9b1f5db3-571b-4a74-ad73-fc9dffbf1abc",
   "metadata": {},
   "outputs": [],
   "source": [
    "hs.shape #9466 solutions with hidden sector"
   ]
  },
  {
   "cell_type": "code",
   "execution_count": null,
   "id": "0af3ca9a-be9c-4785-9057-1735f3cfd3e4",
   "metadata": {},
   "outputs": [],
   "source": [
    "hs.solution.str[-1].abs()"
   ]
  },
  {
   "cell_type": "code",
   "execution_count": null,
   "id": "c9086589-9b5e-4222-a92e-d88b7b1d0026",
   "metadata": {},
   "outputs": [],
   "source": [
    "hs8=hs[ (hs.n==8) & (hs.solution.str[-1].abs()<20)][['solution','hidden']]"
   ]
  },
  {
   "cell_type": "code",
   "execution_count": null,
   "id": "daf8dd2c-ccbd-4408-b413-5549a7ac1d12",
   "metadata": {},
   "outputs": [],
   "source": [
    "hs8['hidden']=hs8['hidden'].str[0]"
   ]
  },
  {
   "cell_type": "code",
   "execution_count": null,
   "id": "1aa4736d-ec76-4df9-ac6d-77c96915589e",
   "metadata": {},
   "outputs": [],
   "source": [
    "hs8=hs8.rename({'solution':'lista','hidden':'pares'},axis='columns')"
   ]
  },
  {
   "cell_type": "code",
   "execution_count": null,
   "id": "80004adc-92a7-4a5a-bc69-c6f45b27aefb",
   "metadata": {},
   "outputs": [],
   "source": []
  },
  {
   "cell_type": "code",
   "execution_count": null,
   "id": "8d9ea07b-d7cf-4a54-9618-5bf315a31272",
   "metadata": {},
   "outputs": [],
   "source": [
    "hs8"
   ]
  },
  {
   "cell_type": "code",
   "execution_count": null,
   "id": "f702ff0c-325c-4d34-8cfa-213e2ce7cdb9",
   "metadata": {},
   "outputs": [],
   "source": [
    "hs8['pares']=hs8.pares.apply(lambda d: {'S':d.get('S'),'ψ':d.get('ψ')+[(y,x) for x,y in d.get('ψ') if x!=y]})"
   ]
  },
  {
   "cell_type": "code",
   "execution_count": null,
   "id": "e5fdb534-7d04-4931-8fae-c1bf3a448507",
   "metadata": {},
   "outputs": [],
   "source": [
    "hs8.to_json('lista_pares.json',orient='records')"
   ]
  },
  {
   "cell_type": "code",
   "execution_count": null,
   "id": "abb0b7cf-3099-462d-8546-fb1682d1b9c7",
   "metadata": {},
   "outputs": [],
   "source": [
    "df=pd.read_json('lista_pares.json')"
   ]
  },
  {
   "cell_type": "code",
   "execution_count": null,
   "id": "b53a048e-6810-4f56-a5c0-e2d33084970c",
   "metadata": {},
   "outputs": [],
   "source": [
    "df.iloc[1]"
   ]
  },
  {
   "cell_type": "code",
   "execution_count": null,
   "id": "46a0b2b2-60ca-456d-ae21-77d134e6afc9",
   "metadata": {},
   "outputs": [],
   "source": [
    "import numpy as np"
   ]
  },
  {
   "cell_type": "markdown",
   "id": "22bf5de0-05e4-4e3d-bf76-3dd876e4c3e4",
   "metadata": {},
   "source": [
    "A) Cargue los datos disponibles en:\n",
    "\n",
    "[https://github.com/ComputationalMethods/Evaluacion_2022-1/blob/main/data/lista_pares.json](https://raw.githubusercontent.com/ComputationalMethods/Evaluacion_2022-1/main/data/lista_pares.json)\n",
    "\n",
    "como un DataFrame de pandas. Este contendrá dos columnas. La columna `lista`, con una lista de 8 enteros (algunos de ellos repetidos) y una columna `pares` correspondiente a un diccionario\n",
    "con dos items: un entero rotulado con `'S'` y una lista de pares de enteros routulada con `'ψ'`. Note que el resultado de la suma en valor absoluto de los dos enteros en cada uno de los pares reproduce el valor del correspondiente `'S'` \n",
    "\n",
    "Seleccione la fila del DataFrame con el índice correspondiente a los dos últimos dígitos de su cédula y desarrolle los siguientes puntos con la correspondiente  `lista` y `pares`:\n",
    "1. Construya una matrix $8\\times 8$ _simétrica_ donde cada fila y la correspondiente columna correspondan a un entero de la lista (incluyendo los repetidos); de manera que en los cruces de filas y columnas definidos por los pares de enteros, se genere una entrada aleatoria mayor que cero y menor o igual que 1, con las demas entradas iguales a cero.\n",
    "1. Calcule el determinante y establezca explícitamente si es diferente cero (tenga en cuenta la precisión numérica). Recuerde que si el determinante es cero, se espera que al menos uno de los autovalores sea cero\n",
    "2. Organize los autovalores y autovectores de menor a mayor en valor absoluto y compruebe que las matriz de autovectores organizada da lugar a los autovalores en el orden correcto. \n",
    "3. Establezca explícitamente _cuantos_ autovalores son degenerados en valor absoluto.\n",
    "\n",
    "```\n",
    "   1 2 2 2 -3 -5 -6 7\n",
    "1  0 0 0 0  0  x  0 0\n",
    "2  0 x x x  0  0  x 0\n",
    "2  0 x x x  0  0  x 0\n",
    "2  0 x x x  0  0  x 0\n",
    "-3 0 0 0 0  0  0  0 x\n",
    "-5 x 0 0 0  0  0  0 0\n",
    "-6 0 x x x  0  0  0 0\n",
    "7  0 0 0 0  x  0  0 0\n",
    "```"
   ]
  },
  {
   "cell_type": "markdown",
   "id": "605b1847-5199-47d4-b09e-c29b3706d1e7",
   "metadata": {},
   "source": [
    "https://stackoverflow.com/questions/65862611/integration-of-sin-x-dx-problem-in-python-programming-implementation"
   ]
  },
  {
   "cell_type": "code",
   "execution_count": null,
   "id": "a78eaad2-9588-4897-bf21-dc1d24c5cd9b",
   "metadata": {},
   "outputs": [],
   "source": [
    "from scipy import integrate"
   ]
  },
  {
   "cell_type": "markdown",
   "id": "f8fe3e1b-a209-4de6-a96f-bd0563accc83",
   "metadata": {},
   "source": [
    "B)\n",
    "1. Usando su número de cédula cómo semilla, obtenga un numero entero aleatorio, $n$, entre 2 y 20.\n",
    "2. Haga una estimación de la siguiente integral hasta dos cifras significativas, usando el método `quad` del módulo `integrate` de Scipy\n",
    "$$\n",
    "\\int_0^\\infty \\sin(x^n)\\operatorname{d}x\n",
    "$$\n",
    "Sugerencia. Compare con el valor obtenido desde https://www.wolframalpha.com/ o [sympy](https://stackoverflow.com/questions/65862611/integration-of-sin-x-dx-problem-in-python-programming-implementation)"
   ]
  },
  {
   "cell_type": "code",
   "execution_count": null,
   "id": "24048837-e120-43c2-abba-a761a16559e9",
   "metadata": {},
   "outputs": [],
   "source": [
    "integrate.quad(lambda x: np.sin(x**20),0,1.5,limit=5000)"
   ]
  },
  {
   "cell_type": "code",
   "execution_count": null,
   "id": "a7f7678f-01dc-48bb-b23b-21cf9942ccb9",
   "metadata": {},
   "outputs": [],
   "source": [
    "A=np.random.random((8,8)).round(2)\n",
    "A=(A+A.transpose())/2\n",
    "A[0,0:5]=0;A[0,6:]=0;\n",
    "A[1:4,0]=0; A[1:4,4:6]=0;A[1:4,7]=0\n",
    "#A[1:4,0]=0; A[1:4,2:6]=0;A[1:4,7]=0\n",
    "#A[1:4,0]=0; A[1:4,2:6]=0;A[1:4,7]=0\n",
    "A[4,0:7]=0\n",
    "A[5,1:8]=0;\n",
    "A[6,0]=0;A[6,4:]=0;\n",
    "A[7,0:4]=0;A[7,5:]=0;\n",
    "\n",
    "print(A)"
   ]
  },
  {
   "cell_type": "code",
   "execution_count": null,
   "id": "76843a82-24c2-4fd0-bccb-7da56dda9748",
   "metadata": {},
   "outputs": [],
   "source": [
    "np.linalg.det(A)"
   ]
  },
  {
   "cell_type": "markdown",
   "id": "541ed501-3d7c-4eb0-85f7-8a232e28db6b",
   "metadata": {},
   "source": []
  },
  {
   "cell_type": "code",
   "execution_count": null,
   "id": "ac9ccb49-43b7-43c2-a6a8-55daa65f5399",
   "metadata": {},
   "outputs": [],
   "source": [
    "np.linalg.eig(A)"
   ]
  },
  {
   "cell_type": "code",
   "execution_count": null,
   "id": "97b92407-f332-4c49-a1da-62d10baa3afc",
   "metadata": {},
   "outputs": [],
   "source": [
    "%%time\n",
    "df['hidden']=df['solution'].apply(get_hidden_sector)"
   ]
  },
  {
   "cell_type": "code",
   "execution_count": null,
   "id": "65d02e1a-2e3f-4d88-b343-6cebf736beb0",
   "metadata": {},
   "outputs": [],
   "source": [
    "df['solution']=="
   ]
  },
  {
   "cell_type": "code",
   "execution_count": null,
   "id": "d5754099-594b-4870-af46-182ecd5ee602",
   "metadata": {},
   "outputs": [],
   "source": []
  }
 ],
 "metadata": {
  "kernelspec": {
   "display_name": "Python 3 (ipykernel)",
   "language": "python",
   "name": "python3"
  },
  "language_info": {
   "codemirror_mode": {
    "name": "ipython",
    "version": 3
   },
   "file_extension": ".py",
   "mimetype": "text/x-python",
   "name": "python",
   "nbconvert_exporter": "python",
   "pygments_lexer": "ipython3",
   "version": "3.10.12"
  },
  "vscode": {
   "interpreter": {
    "hash": "31f2aee4e71d21fbe5cf8b01ff0e069b9275f58929596ceb00d14d90e3e16cd6"
   }
  }
 },
 "nbformat": 4,
 "nbformat_minor": 5
}
