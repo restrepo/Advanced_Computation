{
 "cells": [
  {
   "cell_type": "markdown",
   "id": "23933e50-a731-436f-a387-39e58092010b",
   "metadata": {},
   "source": [
    "# GitHub Action for DevOps \n",
    "The Development and IT Operations (DevOps) implemented here trough GitHub actions includes three parts\n",
    "1. Python style guide enforcement through `flake8`. Check the `jupyterlab-flake8` extension or the `cornflakes-linter` extension of visual code, to easily fix possible syntax errors. They are activated when the file is saved. The corresponding GitHub action is triggered after each _commit_.\n",
    "2. Testing through `pytest`. The corresponding GitHub action is triggered after each _commit_.\n",
    "3. Creating a pip package and publish it in (test) pypi.  The corresponding GitHub action is triggered after each _release_."
   ]
  },
  {
   "cell_type": "markdown",
   "id": "8445613c-99fc-48bb-b2f6-0318db3bb56f",
   "metadata": {},
   "source": [
    "## Simple template\n",
    "To illustrate this three points we will use a template repository in GitHub with a very simple Python program that just returns the string: `'Hello, World!'`:\n",
    "\n",
    "https://github.com/restrepo/devops\n",
    "\n",
    "From there we will create a pip package with a modified version of the template in the sandbox of https://pypi.org, which is called https://test.pypi.org. An official package could follow the same procedure but by using the official site. Please make a fork of the previous repository and rename it to some name that is not used at all in https://test.pypi.org, for example, for `abc123`\n",
    "\n",
    "https://test.pypi.org/project/abc123/\n",
    "\n",
    "the message: \n",
    "> We looked everywhere but couldn't find this page\n",
    "\n",
    "would appears there. This means that the name will be avalaible for a new (test) pip package under the name `abc123`. I will use that name from now on\n",
    "\n",
    "### (Test) pypi configuration\n",
    "Please creates an account in https://test.pypi.org, login there, and go to the [\"Account Settings\"](https://test.pypi.org/manage/account/) (from the uper-right link with your chosen username).\n",
    "\n",
    "After the proper authentication, scroll down to the section [API tokens](https://test.pypi.org/manage/account/#api-tokens) and click on the button:\n",
    "<button style=\"background-color:#006dad; border-color:#006dad; color: #fff;\">Add API token</button>. Fill the fields \"Token name\", with `github` for example, and the scope with `Entire account (all projects)`, after add the token, you must copy it in your clipboard this but using the button: <button style=\"background-color:#006dad; border-color:#006dad; color: #fff;\">Copy token</button>."
   ]
  },
  {
   "cell_type": "markdown",
   "id": "72bf9446-f089-416f-960b-7b38336022d3",
   "metadata": {},
   "source": [
    "### GitHub settings\n",
    "In the GitHub page for your repository, that from now on I will use as (please use your own one from now on)\n",
    "\n",
    "https://github.com/MyAccountInGitHub/abc123\n",
    "\n",
    "Go to the Settings tab and from there follow the following navigation:\n",
    "* Secrets → Actions → Actions secrets → <button> New repository secret</button> and fill the fields with:\n",
    "  * __Name__: TESTPYPI_PASSWORD\n",
    "  * __Secret__: Paste your copied token here\n",
    "\n",
    "Be sure that after add the Secret, a confirmation message appears in the top of the page with:\n",
    "> Repository secret added.\n",
    "  \n",
    "Go back  to the GitHub page for your repository at: \n",
    "\n",
    "https://github.com/MyAccountInGitHub/abc123\n",
    "\n",
    "Go to the Actions tab and if necessary, click on: \n",
    "\n",
    "<button style=\"background-color:#2da44e; border-color:rgba(27,31,36,0.15); color: #fff;\">I understand my workflows, go ahead and enable them</button>"
   ]
  },
  {
   "cell_type": "markdown",
   "id": "c0de9420-c36e-4b43-9093-aafcb78989aa",
   "metadata": {},
   "source": [
    "### GitHub Actions\n",
    "#### Python package action\n",
    "In `.github/workflows/python-package.yml` there are the instructions for the creation of [Ubuntu](https://ubuntu.com/) [Docker containers](https://en.wikipedia.org/wiki/Docker_(software)) with the clonned repository, specific python versions, and the required dependencies (see below). Also, there are scripts to run the commands: `flake8` and `pytest` upon the repository. Please check the file for the details.\n",
    "\n",
    "This processes is triggered after each commit. Please edit the `setup.py`  and replace the following lines there\n",
    "```python\n",
    "        # Application name:\n",
    "        name=\"desoper\",\n",
    "\n",
    "        # Version number (initial):\n",
    "        version=\"0.0.3\",\n",
    "```\n",
    "by the new repository name, e,g: `abc123`, and reset the version to 0.0.1:\n",
    "```python\n",
    "        # Application name:\n",
    "        name=\"abc123\",\n",
    "\n",
    "        # Version number (initial):\n",
    "        version=\"0.0.1\",\n",
    "```\n",
    "Then, make the commit and check again the Actions tab. Wait until all the processes end up in green and check the Output by clicking in the link with the commit name, e.g \"Update setup.py\".  From there click in the link with the last build preceded by the check green circle, e.g build (3.9). In the log output, expand the arrow with `Lint with flake8`  and the arrow with `Test with pytest`.\n",
    "\n",
    "Also make the following corresponding changes and edits (use your own package name instead of `abc123`) , because the pypi server check for files with the same name or contents:\n",
    "\n",
    "1. Inside the directory `desoper` change the name of the file `hello.py`  to `abc123.py`\n",
    "1. Edit `abc123.py` and change in line 3 `Hello module` by  `abc123 module`\n",
    "1. Edit `__init__.py ` and change:\n",
    "```python\n",
    "from desoper import hello\n",
    "```\n",
    "by\n",
    "```python\n",
    "from desoper import abc123\n",
    "```"
   ]
  },
  {
   "cell_type": "markdown",
   "id": "3e199031-54aa-49cc-890b-327fd86eb2a3",
   "metadata": {},
   "source": [
    "#### Python publish action\n",
    "In `.github/workflows/python-publish.yml` the deploy processes in (test.)pypi.org are automated by creating the pip package and uploading it to the (test) pypi official server. \n",
    "This action is trigger when a new release is created. For that, go again to the main page of the repository and click on the link of the left called [__Releases__](https://github.com/MyAccountInGitHub/abc123/releases). Once there, \n",
    "1. Click in the button <button style=\"background-color:#2da44e; border-color:rgba(27,31,36,0.15); color: #fff;\">Create a new release</button>\n",
    "1. Click in the menu \"Choose a tag\" and in fill the field with \"v0.0.1\" and click in the button <button>__+ Create new tag: v0.0.1__ on publish</button>\n",
    "1. Fill the \"Release title\" box with some description, e.g., `Initial release`.\n",
    "1. Click the button <button style=\"background-color:#2da44e; border-color:rgba(27,31,36,0.15); color: #fff;\">Publish release</button>\n",
    "1. Check again the Actions tab and wait for the deploy workflow to finish, and check that it finished in green \n",
    "1. Check that the tags in the the `README.md` are updated with a green status (in an incognito window to avoid the browser cache)\n",
    "1. Go to the https://test.pypi.org/project/abc123/ link again and check for the installation instructions\n",
    "\n",
    "Try to install the package in your local computer\n",
    "```bash\n",
    "$ pip install -i https://test.pypi.org/simple/ abc123\n",
    "```\n",
    "Note that the name of the package [is different](https://stackoverflow.com/a/53346523/2268280) from the _name of the module_, given by the name of the main directory inside the repository. Therefore, to use the module, we need to take into account the corresponding path in the repository:\n",
    "\n",
    "| package name | main directory | module file | function |\n",
    "|--------------|----------------|-------------|----------|\n",
    "| `abc123`     | `desoper`      | `abc123.py` | `hello()`|\n",
    "\n",
    "```python\n",
    "$ python3\n",
    ">>> import desoper\n",
    ">>> desoper.abc123.hello()\n",
    "'Hello, World!\n",
    "```\n",
    "\n",
    "\n",
    "\n",
    "Note that for new releases,  the `setup.py` file must be updated with the proper release number, e.g: `0.0.2`, and the related commit must pass all the previous tests.\n"
   ]
  },
  {
   "cell_type": "markdown",
   "id": "69e6f807-935f-4ff3-a812-5dea51603391",
   "metadata": {},
   "source": [
    "__Activity__: Update the README.md for the new package name and the new module file name, make a new release and upgrade with local pip installation (Hint: Use the `-U` option at the end of the pip install command)"
   ]
  },
  {
   "cell_type": "markdown",
   "id": "1a03d0e9-bb3b-48bf-b419-ff4c1c7a82d2",
   "metadata": {},
   "source": [
    "__Activity__: Uninstall the package in your local computer"
   ]
  },
  {
   "cell_type": "markdown",
   "id": "b5076b84-eb58-4166-9461-04470a0b7fc8",
   "metadata": {},
   "source": [
    "For an example with dependencies management inside the `setup.py` file, check the `anomalies` package at https://github.com/restrepo/anomalies, where specific `numpy` version are required:\n",
    "> See: https://docs.scipy.org/doc/scipy/dev/toolchain.html#numpy\n",
    "```python\n",
    "        install_requires=[\n",
    "            'numpy==1.16.5; python_version==\"3.7\"',\n",
    "            'numpy>=1.16.5; python_version==\"3.8\"',\n",
    "            'numpy>=1.16.5; python_version==\"3.9\"'\n",
    "        ],\n",
    "```\n"
   ]
  },
  {
   "cell_type": "markdown",
   "id": "e729d429-3a9d-4997-8064-313a61d452b8",
   "metadata": {
    "tags": []
   },
   "source": [
    "## Local management of DevOps\n",
    "\n",
    "### Install\n",
    "For that, we must can be clone the corresponding repository in your local computer in some directory at a second level from `$HOME`:\n",
    "```bash\n",
    "mkdir -p prog\n",
    "cd prog\n",
    "#Clone the repo in $HOME/prog\n",
    "git clone https://github.com/restrepo/anomalies.git\n",
    "```\n",
    "From here, be sure that you don't have rhe package already installed\n",
    "```\n",
    "pip3 uninstall anomalies\n",
    "```\n",
    "with `sudo` if necessary.\n",
    "\n",
    "The `setup.py` file in the main directory of the package contains the metadata and requirements of the package. This allow for the installation either at the user-level or the system-level. At the user level it is just\n",
    "```bash\n",
    "python3 setup.py install --user\n",
    "```\n",
    "\n",
    "We can check the installation by returning back to the `$HOME` directory and loading the module from there\n",
    "\n",
    "```python\n",
    "cd\n",
    "python3\n",
    ">>> import anomalies\n",
    ">>> exit()\n",
    "```\n",
    "\n",
    "### Syntax checking with `flake8`\n",
    "By returning back to the directory with the repository\n",
    "```bash\n",
    "cd prog/anomalies\n",
    "```\n",
    "Stop if Python syntax errors or undefined names:\n",
    "```\n",
    "flake8 . --ignore=C901 --select=E9,F63,F7,F82\n",
    "```\n",
    "Warning otherwise:\n",
    "```\n",
    "flake8 . --count --ignore=C901 --exit-zero --max-complexity=10 --max-line-length=127 --statistics\n",
    "```\n",
    "For further info in each rule, check the corresponding URL, e.g, for `E741`:\n",
    "\n",
    "https://www.flake8rules.com/rules/E741.html\n",
    "\n",
    "To easily fix the syntax errors you can use visual code with the extension `cornflakes-linter`. Whenever you save the file, a highlighter will point out to `flask8` syntax error messages.\n",
    "\n",
    "### Tests\n",
    "At the first level of the repository, use\n",
    "```\n",
    "pytest\n",
    "```"
   ]
  },
  {
   "cell_type": "markdown",
   "id": "558e6f6f-9b9b-4d01-8b5d-251895825f3c",
   "metadata": {},
   "source": [
    "## References\n",
    "[1] https://en.wikipedia.org/wiki/DevOps\n",
    "\n",
    "[2] https://dev.to/arnu515/create-a-pypi-pip-package-test-it-and-publish-it-using-github-actions-part-2-1o83"
   ]
  },
  {
   "cell_type": "code",
   "execution_count": null,
   "id": "12a68646-ee23-44d2-862a-f6ab774042b8",
   "metadata": {},
   "outputs": [],
   "source": []
  }
 ],
 "metadata": {
  "kernelspec": {
   "display_name": "Python 3 (ipykernel)",
   "language": "python",
   "name": "python3"
  },
  "language_info": {
   "codemirror_mode": {
    "name": "ipython",
    "version": 3
   },
   "file_extension": ".py",
   "mimetype": "text/x-python",
   "name": "python",
   "nbconvert_exporter": "python",
   "pygments_lexer": "ipython3",
   "version": "3.9.2"
  }
 },
 "nbformat": 4,
 "nbformat_minor": 5
}