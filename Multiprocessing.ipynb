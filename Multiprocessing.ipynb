{
 "cells": [
  {
   "cell_type": "markdown",
   "id": "5357dac0-ffe1-4959-bfc9-f4d25b9723f0",
   "metadata": {},
   "source": [
    "# Multiprocessing"
   ]
  },
  {
   "cell_type": "markdown",
   "id": "836cea07-bc94-4d9d-b973-42d80086aea0",
   "metadata": {},
   "source": [
    "> Multiprocessing refers to the ability of a system to support more than one processor at the same time. Applications in a multiprocessing system are broken to smaller routines that run independently. The operating system allocates these threads to the processors improving performance of the system.\n",
    "\n",
    "https://www.geeksforgeeks.org/multiprocessing-python-set-1/"
   ]
  },
  {
   "cell_type": "markdown",
   "id": "580780e9-6553-4b01-8d2f-1fc0d804c443",
   "metadata": {
    "tags": []
   },
   "source": [
    "## Multiprocessing in Python\n",
    "* `multiprocessing` for a single node with several cores\n",
    "* `joblib` also works in distruibuted nodes\n",
    "* `dask` for arrays in distruibuted nodes"
   ]
  },
  {
   "cell_type": "markdown",
   "id": "92f4784f-7954-442a-ac6e-46ddf0c66428",
   "metadata": {},
   "source": [
    "### `multiprocessing`"
   ]
  },
  {
   "cell_type": "markdown",
   "id": "e04203cb-89fa-400f-aa59-a5d121ea9038",
   "metadata": {},
   "source": [
    "Example\n",
    "\n",
    "See: https://towardsdatascience.com/how-can-data-scientists-use-parallel-processing-17194fffc6d0"
   ]
  },
  {
   "cell_type": "code",
   "execution_count": 112,
   "id": "dc5c99cd-0978-4675-8f02-965139224f6b",
   "metadata": {},
   "outputs": [],
   "source": [
    "from multiprocessing import Pool\n",
    "from multiprocessing import cpu_count\n",
    "import time\n",
    "import random"
   ]
  },
  {
   "cell_type": "code",
   "execution_count": 115,
   "id": "cd79faab-d122-45fb-847b-cdcb392ea745",
   "metadata": {},
   "outputs": [],
   "source": [
    "def f(x):\n",
    "    time.sleep(random.random())\n",
    "    return x**2"
   ]
  },
  {
   "cell_type": "code",
   "execution_count": 173,
   "id": "def5d2c0-3465-49f2-961d-81c33c4701c3",
   "metadata": {},
   "outputs": [
    {
     "name": "stdout",
     "output_type": "stream",
     "text": [
      "5.5549304485321045\n"
     ]
    }
   ],
   "source": [
    "s=time.time()\n",
    "N=10#000000 \n",
    "result = [f(x) for x in range(N)]\n",
    "print(time.time()-s)"
   ]
  },
  {
   "cell_type": "markdown",
   "id": "3fb3112a-24a9-47a7-9b20-5c0022032c36",
   "metadata": {},
   "source": [
    "WARNING: Take care of the RAM for large N"
   ]
  },
  {
   "cell_type": "code",
   "execution_count": 174,
   "id": "fb8f2a44-42a5-4a4f-bac4-910f10b1fb53",
   "metadata": {},
   "outputs": [
    {
     "name": "stdout",
     "output_type": "stream",
     "text": [
      "1.58 → [0, 1, 4, 9, 16, 25, 36, 49, 64, 81]\n"
     ]
    }
   ],
   "source": [
    "s=time.time() #equivalent to %%time\n",
    "pool = Pool(cpu_count())\n",
    "result = pool.map(f,range(N))\n",
    "pool.close()\n",
    "print(round(time.time()-s,2),'→',result[:10])\n",
    "LAZY=True"
   ]
  },
  {
   "cell_type": "code",
   "execution_count": 175,
   "id": "476a3b30-a49c-4f94-af4c-cce26d969ae2",
   "metadata": {},
   "outputs": [
    {
     "name": "stdout",
     "output_type": "stream",
     "text": [
      "1.19 → [0, 1, 4, 9, 16, 25, 36, 49, 64, 81]\n"
     ]
    }
   ],
   "source": [
    "if LAZY:\n",
    "    s=time.time()\n",
    "    pool = Pool(cpu_count())\n",
    "    result=pool.map_async(f,range(N))#,chunksize=N//cpu_count())\n",
    "    result=[ r for r in result.get() ]\n",
    "    pool.close()\n",
    "    print(round(time.time()-s,2),'→',result[:10])"
   ]
  },
  {
   "cell_type": "code",
   "execution_count": 176,
   "id": "6b503763-8cf6-48e0-b297-7327fad589b9",
   "metadata": {},
   "outputs": [
    {
     "name": "stdout",
     "output_type": "stream",
     "text": [
      "1.22 → [0, 1, 4, 9, 16, 25, 36, 49, 64, 81]\n"
     ]
    }
   ],
   "source": [
    "if LAZY:\n",
    "    s=time.time()\n",
    "    pool = Pool(cpu_count())\n",
    "    result=[ r for r in pool.imap(f,range(N),chunksize=N//cpu_count())]\n",
    "    pool.close()\n",
    "    print(round(time.time()-s,2),'→',result[:10])    "
   ]
  },
  {
   "cell_type": "code",
   "execution_count": 177,
   "id": "22c03eb8-5cdb-4cd1-ab44-164215266e44",
   "metadata": {},
   "outputs": [
    {
     "name": "stdout",
     "output_type": "stream",
     "text": [
      "1.31 → [4, 1, 9, 64, 25, 16, 0, 49, 36, 81]\n"
     ]
    }
   ],
   "source": [
    "if LAZY:\n",
    "    s=time.time()\n",
    "    pool = Pool(cpu_count())\n",
    "    result=[r for r in pool.imap_unordered(f,range(N),chunksize=N//cpu_count())]\n",
    "    pool.close()\n",
    "    print(round(time.time()-s,2),'→',result[:10])"
   ]
  },
  {
   "cell_type": "markdown",
   "id": "7f576e48-b6ab-4f06-a586-d686dee14811",
   "metadata": {},
   "source": [
    "![img](https://miro.medium.com/max/700/1*n8_M7_0O2Rp3TCuqLDeeHg.png)chunksize="
   ]
  },
  {
   "cell_type": "markdown",
   "id": "9de6b532-d314-4131-a842-e78a9cd7a367",
   "metadata": {
    "tags": []
   },
   "source": [
    "## Implementation.\n",
    "* Use the official module to find solutions \n",
    "* filter the chiral ones  with a maximum integer of 32\n",
    "* Build a function suitable for multiprocessing"
   ]
  },
  {
   "cell_type": "markdown",
   "id": "dfa7b54c-cb36-4b98-9ea2-c5dc459a5d06",
   "metadata": {
    "tags": []
   },
   "source": [
    "### Functions"
   ]
  },
  {
   "cell_type": "code",
   "execution_count": 53,
   "id": "5314977a-7b86-4fc5-976e-9e799a1fdcbf",
   "metadata": {},
   "outputs": [],
   "source": [
    "import numpy as np\n",
    "import itertools\n",
    "import sys\n",
    "from anomalies import anomaly\n",
    "import numpy as np\n",
    "import time\n",
    "import warnings\n",
    "warnings.filterwarnings(\"ignore\")\n",
    "\n",
    "z=anomaly.free\n",
    "\n",
    "def _get_chiral(q,q_max=np.inf):\n",
    "    #Normalize to positive minimum\n",
    "    if 0 in q:\n",
    "        return None,None\n",
    "    if q[0]<0:\n",
    "        q=-q\n",
    "    #Divide by GCD\n",
    "    GCD=np.gcd.reduce(q)\n",
    "    q=(q/GCD).astype(int)\n",
    "    if ( #not 0 in z and \n",
    "          0 not in [ sum(p) for p in itertools.permutations(q, 2) ] and #avoid vector-like and multiple 0's\n",
    "          np.abs(q).max()<=q_max\n",
    "           ):\n",
    "        return q,GCD\n",
    "    else:\n",
    "        return None,None\n",
    "    \n",
    "def get_solution(l,k,zmax=32):\n",
    "    q,gcd=_get_chiral( z(l,k) )\n",
    "    #if q is not None and np.abs(q).max()<=zmax:#\n",
    "    if q is not None and np.abs(q).max()<=zmax:\n",
    "        return {'l':l,'k':k,'z':list(q),'gcd':gcd}\n",
    "    else:\n",
    "        return {}    \n",
    "\n",
    "def get_solution_from_list(lk,zmax=32):\n",
    "    n=len(lk)\n",
    "    l=lk[:n//2]\n",
    "    k=lk[n//2:]\n",
    "    return get_solution(l,k,zmax)\n",
    "\n",
    "\n",
    "assert get_solution_from_list([1,2,1,-2])['z']==[1, 1, 1, -4, -4, 5]"
   ]
  },
  {
   "cell_type": "markdown",
   "id": "7dfd7aa2-3d83-4129-9f5d-fe2f442837a1",
   "metadata": {
    "tags": []
   },
   "source": [
    "### Prepare running"
   ]
  },
  {
   "cell_type": "code",
   "execution_count": 56,
   "id": "55775c5b-1b67-475a-b6a6-0af2e3c790c9",
   "metadata": {},
   "outputs": [],
   "source": [
    "d=[{'n':6,'N':4000000,'max':11,'imax':0},\n",
    "   {'n':7,'N':8000000,'max':13,'imax':0},\n",
    "   {'n':8,'N':50000000,'max':15,'imax':10},\n",
    "   {'n':9,'N':50000000,'max':10,'imax':40},\n",
    "   {'n':10,'N':70000000,'max':10,'imax':100},\n",
    "   {'n':11,'N':50000000,'max':10,'imax':100},\n",
    "   {'n':12,'N':50000000,'max':10,'imax':100}]\n",
    "\n",
    "n=7\n",
    "dd=[dd for dd in d if dd.get('n')==n][0]\n",
    "\n",
    "N=dd['N'] \n",
    "mm=n-2\n",
    "\n",
    "Single=False"
   ]
  },
  {
   "cell_type": "markdown",
   "id": "7c9d3385-9578-427b-ad07-310394b4fbb1",
   "metadata": {
    "jp-MarkdownHeadingCollapsed": true,
    "tags": []
   },
   "source": [
    "### Single-processing"
   ]
  },
  {
   "cell_type": "code",
   "execution_count": 17,
   "id": "c3254ced-89f1-49f3-9958-81dcbbec73ae",
   "metadata": {},
   "outputs": [
    {
     "name": "stdout",
     "output_type": "stream",
     "text": [
      "grid →  105.63711500167847 (7947827, 5)\n",
      "sols →  499.27395939826965 103363\n"
     ]
    }
   ],
   "source": [
    "if Single:\n",
    "    s=time.time()\n",
    "    ll=np.random.randint(-dd['max'],dd['max']+1,(N,mm))\n",
    "    ll=np.unique(ll, axis=0)\n",
    "    print('grid → ',time.time()-s,ll.shape)\n",
    "\n",
    "    s=time.time()\n",
    "    sls=[get_solution_from_list(lk) for lk in ll if get_solution_from_list(lk)]\n",
    "    print('sols → ',time.time()-s,len(sls))\n",
    "    del ll"
   ]
  },
  {
   "cell_type": "markdown",
   "id": "ac28831c-99a5-4045-8ee4-674b12b63034",
   "metadata": {},
   "source": [
    "### Multiprocessing\n",
    "After\n",
    "```bash\n",
    "pip3 install dask[complete]\n",
    "```"
   ]
  },
  {
   "cell_type": "code",
   "execution_count": 55,
   "id": "7f50b726-885f-40a7-9f3f-acd761bf0919",
   "metadata": {},
   "outputs": [],
   "source": [
    "import dask.array as da\n",
    "import pandas as pd\n",
    "from multiprocessing import Pool\n",
    "from multiprocessing import cpu_count"
   ]
  },
  {
   "cell_type": "code",
   "execution_count": 58,
   "id": "c97aa258-01b6-4bfb-a361-9cbc05130ba6",
   "metadata": {},
   "outputs": [
    {
     "name": "stdout",
     "output_type": "stream",
     "text": [
      "grid →  0.4315307140350342 (279841, 4)\n",
      "sols →  5.767310619354248 9902\n",
      "unique solutions →  (142, 4)\n"
     ]
    }
   ],
   "source": [
    "#UNORDERED=False\n",
    "RELOAD=False\n",
    "size_old=0\n",
    "imax=dd['imax']\n",
    "i=0\n",
    "df=pd.DataFrame()\n",
    "Δ_size=1 #Any non-zero value\n",
    "if not RELOAD:\n",
    "    df=pd.DataFrame()\n",
    "else:\n",
    "    df=pd.read_json(f'solution_{n}.json')\n",
    "\n",
    "#to save solutions in the middle of the next while\n",
    "rc=np.array([10000,5000,1000,500,100,50,10,5])\n",
    "\n",
    "while Δ_size>0:\n",
    "    #axis parameter not yet implemented in dask: `da.unique` → https://stackoverflow.com/a/53389741/2268280\n",
    "    ll=da.random.randint(-dd['max'],dd['max']+1,(N,mm))\n",
    "    ll=ll.to_dask_dataframe().drop_duplicates().to_dask_array()\n",
    "\n",
    "    s=time.time()\n",
    "    #See: https://docs.dask.org/en/stable/scheduler-overview.html#configuring-the-schedulers\n",
    "    #.compute(num_workers=XX) → defaults to number of cores\n",
    "    ll=ll.compute()\n",
    "    print('grid → ',time.time()-s,ll.shape)\n",
    "\n",
    "    s=time.time()\n",
    "    pool = Pool(cpu_count())\n",
    "    if True:# not UNORDERED:\n",
    "        sls = pool.map(get_solution_from_list,ll)\n",
    "    #else:\n",
    "    #    sls=[r for r in pool.imap_unordered(get_solution_from_list,ll,chunksize=len(ll)//cpu_count())]\n",
    "    pool.close()\n",
    "    del ll\n",
    "\n",
    "    sls=[d for d in sls if d]\n",
    "    print('sols → ',time.time()-s,len(sls))\n",
    "\n",
    "    #Unique solutions\n",
    "    df=df.append(  sls,ignore_index=True    )  \n",
    "    df.sort_values('gcd')\n",
    "    df['zs']=df['z'].astype(str)\n",
    "    df=df.drop_duplicates('zs').drop('zs',axis='columns').reset_index(drop=True)\n",
    "    print('unique solutions → ',df.shape)\n",
    "    Δ_size=df.shape[0]-size_old\n",
    "    if Δ_size>0:\n",
    "        size_old=df.shape[0]\n",
    "    if i>=imax:\n",
    "        break\n",
    "\n",
    "    Δrc=(rc-Δ_size>=0)\n",
    "    if any( Δrc ):\n",
    "        rc=rc[~Δrc]\n",
    "        df.to_json(f'solution_{n}.json',orient='records')\n",
    "        \n",
    "    i+=1"
   ]
  },
  {
   "cell_type": "code",
   "execution_count": 69,
   "id": "f0736b83-c8e4-4c1d-8b5d-8277546b0404",
   "metadata": {},
   "outputs": [],
   "source": [
    "df.to_json(f'solution_{n}.json',orient='records')"
   ]
  },
  {
   "cell_type": "code",
   "execution_count": 16,
   "id": "b9b15da8-57ab-4d71-bb5f-c1d3be88c42e",
   "metadata": {},
   "outputs": [
    {
     "ename": "Exception",
     "evalue": "Appendix",
     "output_type": "error",
     "traceback": [
      "\u001b[0;31m---------------------------------------------------------------------------\u001b[0m",
      "\u001b[0;31mException\u001b[0m                                 Traceback (most recent call last)",
      "\u001b[0;32m/tmp/ipykernel_121696/76697970.py\u001b[0m in \u001b[0;36m<module>\u001b[0;34m\u001b[0m\n\u001b[0;32m----> 1\u001b[0;31m \u001b[0;32mraise\u001b[0m \u001b[0mException\u001b[0m\u001b[0;34m(\u001b[0m\u001b[0;34m'Appendix'\u001b[0m\u001b[0;34m)\u001b[0m\u001b[0;34m\u001b[0m\u001b[0;34m\u001b[0m\u001b[0m\n\u001b[0m",
      "\u001b[0;31mException\u001b[0m: Appendix"
     ]
    }
   ],
   "source": [
    "raise Exception('Appendix')"
   ]
  },
  {
   "cell_type": "markdown",
   "id": "f9747182-8d5f-4027-b463-d2a39dc2723f",
   "metadata": {
    "tags": []
   },
   "source": [
    "## Appendix"
   ]
  },
  {
   "cell_type": "markdown",
   "id": "5bfc549d-ba78-4101-9815-3e3ebcd94166",
   "metadata": {
    "jp-MarkdownHeadingCollapsed": true,
    "tags": []
   },
   "source": [
    "### Check RAM USAGE"
   ]
  },
  {
   "cell_type": "code",
   "execution_count": 57,
   "id": "3d465a9c-aa17-4d07-b665-637d842b9155",
   "metadata": {},
   "outputs": [],
   "source": [
    "d=[{'n':6,'N':4000000,'max':11}, #'N':4000000,'max':11\n",
    "   {'n':7,'N':50000000,'max':12},\n",
    "   {'n':8,'N':50000000,'max':10},\n",
    "   {'n':9,'N':50000000,'max':10},\n",
    "   {'n':10,'N':50000000,'max':10},\n",
    "   {'n':11,'N':50000000,'max':10},\n",
    "   {'n':12,'N':50000000,'max':10}]\n",
    "\n",
    "n=7\n",
    "dd=[dd for dd in d if dd.get('n')==n][0]\n",
    "\n",
    "N=dd['N'] \n",
    "mm=n-2\n",
    "\n",
    "Single=False"
   ]
  },
  {
   "cell_type": "code",
   "execution_count": 60,
   "id": "edbbc52d-ce65-4046-a516-31d7232d7d9b",
   "metadata": {},
   "outputs": [
    {
     "name": "stdout",
     "output_type": "stream",
     "text": [
      "0\n",
      "grid →  9.36429476737976 (9707449, 5)\n",
      "1\n",
      "→ 1\n",
      "grid →  11.500483989715576 (57840, 5)\n"
     ]
    }
   ],
   "source": [
    "for i in range(2):\n",
    "    print(i)\n",
    "    #axis parameter not yet implemented in dask: `da.unique` → https://stackoverflow.com/a/53389741/2268280\n",
    "    ll=da.random.randint(-dd['max'],dd['max']+1,(N,mm))\n",
    "    ll=ll.to_dask_dataframe().drop_duplicates().to_dask_array()\n",
    "\n",
    "    s=time.time()\n",
    "    ll=ll.compute()\n",
    "    \n",
    "    if i==0:    \n",
    "        f=open('ll.npy','wb')\n",
    "        np.save(f,ll)\n",
    "        f.close()    \n",
    "\n",
    "    if i==1:\n",
    "        print('→',i)\n",
    "        with open('ll.npy', 'rb') as f:\n",
    "            ll_old = np.load(f)\n",
    "        \n",
    "        #WARNING: Not multiprocessing\n",
    "        ll=pd.DataFrame(np.concatenate((ll,\n",
    "                                        (np.ones((1,mm))*(dd['max']+1)).astype(int), #introduce separator\n",
    "                                        ll_old)\n",
    "                                      )).drop_duplicates(keep=False).reset_index(drop=True)\n",
    "        ll=ll[:ll[(ll[0]==dd['max']+1) &  (ll[mm-1]==dd['max']+1)].index[0]].values    \n",
    "    \n",
    "\n",
    "    print('grid → ',time.time()-s,ll.shape)\n",
    "    \n"
   ]
  },
  {
   "cell_type": "code",
   "execution_count": 36,
   "id": "ded56f89-8536-420d-bc38-a14e2fcd9183",
   "metadata": {},
   "outputs": [
    {
     "data": {
      "text/plain": [
       "array([[ 10,   1,  -3,   0],\n",
       "       [ -4,  -5,   0,  -2],\n",
       "       [  0,  -1,  -7, -10],\n",
       "       ...,\n",
       "       [  7,  11,  -9,   0],\n",
       "       [  0,  -1, -11, -11],\n",
       "       [ -5, -11,   0,  -6]])"
      ]
     },
     "execution_count": 36,
     "metadata": {},
     "output_type": "execute_result"
    }
   ],
   "source": [
    "ll[[0 in x for x in ll]]"
   ]
  },
  {
   "cell_type": "code",
   "execution_count": 28,
   "id": "b618bca1-8705-458d-adfc-6783d3a480dd",
   "metadata": {},
   "outputs": [
    {
     "data": {
      "text/plain": [
       "array([[12, 12, 12, 12]])"
      ]
     },
     "execution_count": 28,
     "metadata": {},
     "output_type": "execute_result"
    }
   ],
   "source": []
  },
  {
   "cell_type": "markdown",
   "id": "0f99dfeb-a4d4-470d-a52c-22f31ff8c29a",
   "metadata": {},
   "source": [
    "### Check number of solutions\n",
    "From: https://doi.org/10.5281/zenodo.5526707"
   ]
  },
  {
   "cell_type": "code",
   "execution_count": 26,
   "id": "464b0aa8-0f01-4c12-a3bd-b8049c7fe14d",
   "metadata": {},
   "outputs": [],
   "source": [
    "df=pd.read_json('solution_8.json')"
   ]
  },
  {
   "cell_type": "code",
   "execution_count": 27,
   "id": "d0b2c614-a33b-4370-a219-78ad89832f23",
   "metadata": {},
   "outputs": [
    {
     "data": {
      "text/plain": [
       "(5561, 4)"
      ]
     },
     "execution_count": 27,
     "metadata": {},
     "output_type": "execute_result"
    }
   ],
   "source": [
    "df.shape"
   ]
  },
  {
   "cell_type": "code",
   "execution_count": 28,
   "id": "f2cdb5e2-4310-46d5-ab44-16bdf05e0574",
   "metadata": {},
   "outputs": [],
   "source": [
    "import pandas as pd\n",
    "import numpy as np"
   ]
  },
  {
   "cell_type": "code",
   "execution_count": null,
   "id": "3cd2734e-9efb-49be-8e7d-a61c09ad0df6",
   "metadata": {},
   "outputs": [],
   "source": [
    "sl=pd.read_json('solutions.json')"
   ]
  },
  {
   "cell_type": "code",
   "execution_count": null,
   "id": "8b5ccc14-09ef-4c5f-8d00-c75c858535c1",
   "metadata": {},
   "outputs": [],
   "source": [
    "#sl['zs']=sl['solution'].astype(str)\n",
    "#sl=sl.drop_duplicates('zs').drop('zs',axis='columns').reset_index(drop=True)"
   ]
  },
  {
   "cell_type": "code",
   "execution_count": 35,
   "id": "e92e07ed-ece3-4280-a467-39be99fa7d8b",
   "metadata": {},
   "outputs": [
    {
     "data": {
      "text/plain": [
       "(116864, 5)"
      ]
     },
     "execution_count": 35,
     "metadata": {},
     "output_type": "execute_result"
    }
   ],
   "source": [
    "sl=sl[sl['n']==10]\n",
    "sl.shape"
   ]
  },
  {
   "cell_type": "code",
   "execution_count": null,
   "id": "b6899bc8-8604-4ff8-bd36-1397f7eb425f",
   "metadata": {},
   "outputs": [],
   "source": []
  },
  {
   "cell_type": "code",
   "execution_count": null,
   "id": "77ebcf34-9989-492f-aca8-02172a0c700b",
   "metadata": {},
   "outputs": [],
   "source": [
    "5569"
   ]
  },
  {
   "cell_type": "code",
   "execution_count": 14,
   "id": "189e1c84-3ae5-493a-8e45-6a8bb021c4a6",
   "metadata": {},
   "outputs": [
    {
     "data": {
      "text/plain": [
       "15"
      ]
     },
     "execution_count": 14,
     "metadata": {},
     "output_type": "execute_result"
    }
   ],
   "source": [
    "(sl['l']+sl['k']).apply(lambda l:np.abs(l).max()).max()"
   ]
  },
  {
   "cell_type": "code",
   "execution_count": 22,
   "id": "b585b43b-a29e-4c08-92d2-932b72d76591",
   "metadata": {},
   "outputs": [],
   "source": [
    "sl=sl.rename({'solution':'z'},axis='columns')"
   ]
  },
  {
   "cell_type": "code",
   "execution_count": 25,
   "id": "bcedf6a0-8d3c-42e1-a7dc-95a1468f4c73",
   "metadata": {},
   "outputs": [
    {
     "data": {
      "text/plain": [
       "(8, 5)"
      ]
     },
     "execution_count": 25,
     "metadata": {},
     "output_type": "execute_result"
    }
   ],
   "source": [
    "sl=pd.concat((sl,df)).reset_index(drop=True)\n",
    "sl['zs']=sl['z'].astype(str)\n",
    "sl=sl.drop_duplicates('zs',keep=False).drop('zs',axis='columns').reset_index(drop=True)\n",
    "sl.shape"
   ]
  },
  {
   "cell_type": "code",
   "execution_count": 34,
   "id": "80a5fa26-6135-42b0-ac64-12315e3288d5",
   "metadata": {},
   "outputs": [
    {
     "data": {
      "text/html": [
       "<div>\n",
       "<style scoped>\n",
       "    .dataframe tbody tr th:only-of-type {\n",
       "        vertical-align: middle;\n",
       "    }\n",
       "\n",
       "    .dataframe tbody tr th {\n",
       "        vertical-align: top;\n",
       "    }\n",
       "\n",
       "    .dataframe thead th {\n",
       "        text-align: right;\n",
       "    }\n",
       "</style>\n",
       "<table border=\"1\" class=\"dataframe\">\n",
       "  <thead>\n",
       "    <tr style=\"text-align: right;\">\n",
       "      <th></th>\n",
       "      <th>l</th>\n",
       "      <th>k</th>\n",
       "      <th>z</th>\n",
       "      <th>gcd</th>\n",
       "    </tr>\n",
       "  </thead>\n",
       "  <tbody>\n",
       "    <tr>\n",
       "      <th>0</th>\n",
       "      <td>[3, 1, 2]</td>\n",
       "      <td>[12, 6, -12]</td>\n",
       "      <td>[2, 5, 8, -17, 19, -20, -23, 26]</td>\n",
       "      <td>54</td>\n",
       "    </tr>\n",
       "    <tr>\n",
       "      <th>1</th>\n",
       "      <td>[3, 4, -8]</td>\n",
       "      <td>[12, -12, 6]</td>\n",
       "      <td>[1, 7, 10, -22, -25, 28, -31, 32]</td>\n",
       "      <td>216</td>\n",
       "    </tr>\n",
       "    <tr>\n",
       "      <th>2</th>\n",
       "      <td>[-8, 7, -3]</td>\n",
       "      <td>[-7, 5, -7]</td>\n",
       "      <td>[1, -2, -4, 7, 8, -11, -13, 14]</td>\n",
       "      <td>315</td>\n",
       "    </tr>\n",
       "  </tbody>\n",
       "</table>\n",
       "</div>"
      ],
      "text/plain": [
       "             l             k                                  z  gcd\n",
       "0    [3, 1, 2]  [12, 6, -12]   [2, 5, 8, -17, 19, -20, -23, 26]   54\n",
       "1   [3, 4, -8]  [12, -12, 6]  [1, 7, 10, -22, -25, 28, -31, 32]  216\n",
       "2  [-8, 7, -3]   [-7, 5, -7]    [1, -2, -4, 7, 8, -11, -13, 14]  315"
      ]
     },
     "execution_count": 34,
     "metadata": {},
     "output_type": "execute_result"
    }
   ],
   "source": [
    "df[:3]"
   ]
  },
  {
   "cell_type": "code",
   "execution_count": 40,
   "id": "e0cd68e8-e0b3-46b0-bc8d-198c5d219e35",
   "metadata": {},
   "outputs": [],
   "source": [
    "#sl.to_json('missing_8.json',orient='records')"
   ]
  },
  {
   "cell_type": "code",
   "execution_count": 44,
   "id": "0d7105de-26c3-4b83-a4c4-f164528d1244",
   "metadata": {},
   "outputs": [
    {
     "data": {
      "text/html": [
       "<div>\n",
       "<style scoped>\n",
       "    .dataframe tbody tr th:only-of-type {\n",
       "        vertical-align: middle;\n",
       "    }\n",
       "\n",
       "    .dataframe tbody tr th {\n",
       "        vertical-align: top;\n",
       "    }\n",
       "\n",
       "    .dataframe thead th {\n",
       "        text-align: right;\n",
       "    }\n",
       "</style>\n",
       "<table border=\"1\" class=\"dataframe\">\n",
       "  <thead>\n",
       "    <tr style=\"text-align: right;\">\n",
       "      <th></th>\n",
       "      <th>l</th>\n",
       "      <th>k</th>\n",
       "      <th>z</th>\n",
       "      <th>gcd</th>\n",
       "      <th>n</th>\n",
       "    </tr>\n",
       "  </thead>\n",
       "  <tbody>\n",
       "    <tr>\n",
       "      <th>0</th>\n",
       "      <td>[7, -8, -5]</td>\n",
       "      <td>[-3, -6, -1, -5]</td>\n",
       "      <td>[2, 7, 7, -22, -22, -22, 25, 25]</td>\n",
       "      <td>50</td>\n",
       "      <td>8.0</td>\n",
       "    </tr>\n",
       "    <tr>\n",
       "      <th>1</th>\n",
       "      <td>[4, -7, -3]</td>\n",
       "      <td>[-1, -4, 5, 3]</td>\n",
       "      <td>[9, -13, -16, -16, 19, 19, 25, -27]</td>\n",
       "      <td>28</td>\n",
       "      <td>8.0</td>\n",
       "    </tr>\n",
       "    <tr>\n",
       "      <th>2</th>\n",
       "      <td>[6, -4, 4]</td>\n",
       "      <td>[-6, -3, 6, 0]</td>\n",
       "      <td>[13, -17, -17, 23, 27, 27, -28, -28]</td>\n",
       "      <td>144</td>\n",
       "      <td>8.0</td>\n",
       "    </tr>\n",
       "    <tr>\n",
       "      <th>3</th>\n",
       "      <td>[-12, -3, -12]</td>\n",
       "      <td>[-12, -8, -4]</td>\n",
       "      <td>[10, -13, -19, 22, -23, 27, 27, -31]</td>\n",
       "      <td>1296</td>\n",
       "      <td>8.0</td>\n",
       "    </tr>\n",
       "    <tr>\n",
       "      <th>4</th>\n",
       "      <td>[-9, 8, 5]</td>\n",
       "      <td>[-1, 3, -2, -4]</td>\n",
       "      <td>[9, -13, -19, 27, 29, 31, -32, -32]</td>\n",
       "      <td>6</td>\n",
       "      <td>8.0</td>\n",
       "    </tr>\n",
       "    <tr>\n",
       "      <th>5</th>\n",
       "      <td>[-12, 4, 12]</td>\n",
       "      <td>[-12, -6, 3]</td>\n",
       "      <td>[5, 7, 7, -23, -29, -31, 32, 32]</td>\n",
       "      <td>864</td>\n",
       "      <td>8.0</td>\n",
       "    </tr>\n",
       "    <tr>\n",
       "      <th>6</th>\n",
       "      <td>[14, 7, 14]</td>\n",
       "      <td>[-11, -5, -11]</td>\n",
       "      <td>[11, -14, -14, 20, 23, -29, -29, 32]</td>\n",
       "      <td>294</td>\n",
       "      <td>8.0</td>\n",
       "    </tr>\n",
       "    <tr>\n",
       "      <th>7</th>\n",
       "      <td>[-3, -12, -15]</td>\n",
       "      <td>[-3, -2, 4]</td>\n",
       "      <td>[19, -22, -22, 27, 27, -28, 31, -32]</td>\n",
       "      <td>72</td>\n",
       "      <td>8.0</td>\n",
       "    </tr>\n",
       "  </tbody>\n",
       "</table>\n",
       "</div>"
      ],
      "text/plain": [
       "                l                 k                                     z  \\\n",
       "0     [7, -8, -5]  [-3, -6, -1, -5]      [2, 7, 7, -22, -22, -22, 25, 25]   \n",
       "1     [4, -7, -3]    [-1, -4, 5, 3]   [9, -13, -16, -16, 19, 19, 25, -27]   \n",
       "2      [6, -4, 4]    [-6, -3, 6, 0]  [13, -17, -17, 23, 27, 27, -28, -28]   \n",
       "3  [-12, -3, -12]     [-12, -8, -4]  [10, -13, -19, 22, -23, 27, 27, -31]   \n",
       "4      [-9, 8, 5]   [-1, 3, -2, -4]   [9, -13, -19, 27, 29, 31, -32, -32]   \n",
       "5    [-12, 4, 12]      [-12, -6, 3]      [5, 7, 7, -23, -29, -31, 32, 32]   \n",
       "6     [14, 7, 14]    [-11, -5, -11]  [11, -14, -14, 20, 23, -29, -29, 32]   \n",
       "7  [-3, -12, -15]       [-3, -2, 4]  [19, -22, -22, 27, 27, -28, 31, -32]   \n",
       "\n",
       "    gcd    n  \n",
       "0    50  8.0  \n",
       "1    28  8.0  \n",
       "2   144  8.0  \n",
       "3  1296  8.0  \n",
       "4     6  8.0  \n",
       "5   864  8.0  \n",
       "6   294  8.0  \n",
       "7    72  8.0  "
      ]
     },
     "execution_count": 44,
     "metadata": {},
     "output_type": "execute_result"
    }
   ],
   "source": [
    "sl"
   ]
  },
  {
   "cell_type": "code",
   "execution_count": 54,
   "id": "bb2b1c74-cd5b-4223-a05d-28b724f13cc3",
   "metadata": {},
   "outputs": [
    {
     "data": {
      "text/html": [
       "<div>\n",
       "<style scoped>\n",
       "    .dataframe tbody tr th:only-of-type {\n",
       "        vertical-align: middle;\n",
       "    }\n",
       "\n",
       "    .dataframe tbody tr th {\n",
       "        vertical-align: top;\n",
       "    }\n",
       "\n",
       "    .dataframe thead th {\n",
       "        text-align: right;\n",
       "    }\n",
       "</style>\n",
       "<table border=\"1\" class=\"dataframe\">\n",
       "  <thead>\n",
       "    <tr style=\"text-align: right;\">\n",
       "      <th></th>\n",
       "      <th>l</th>\n",
       "      <th>k</th>\n",
       "      <th>solution</th>\n",
       "      <th>gcd</th>\n",
       "      <th>n</th>\n",
       "    </tr>\n",
       "  </thead>\n",
       "  <tbody>\n",
       "    <tr>\n",
       "      <th>6480</th>\n",
       "      <td>[-3, -12, -15]</td>\n",
       "      <td>[-3, -2, 4]</td>\n",
       "      <td>[19, -22, -22, 27, 27, -28, 31, -32]</td>\n",
       "      <td>72</td>\n",
       "      <td>8</td>\n",
       "    </tr>\n",
       "  </tbody>\n",
       "</table>\n",
       "</div>"
      ],
      "text/plain": [
       "                   l            k                              solution  gcd  \\\n",
       "6480  [-3, -12, -15]  [-3, -2, 4]  [19, -22, -22, 27, 27, -28, 31, -32]   72   \n",
       "\n",
       "      n  \n",
       "6480  8  "
      ]
     },
     "execution_count": 54,
     "metadata": {},
     "output_type": "execute_result"
    }
   ],
   "source": [
    "sl[sl['solution'].astype(str)=='[19, -22, -22, 27, 27, -28, 31, -32]']"
   ]
  },
  {
   "cell_type": "code",
   "execution_count": 36,
   "id": "16672aa5-54a7-4c7b-8013-e78bc5e5e403",
   "metadata": {},
   "outputs": [
    {
     "data": {
      "text/plain": [
       "[-12, -3, -12]"
      ]
     },
     "execution_count": 36,
     "metadata": {},
     "output_type": "execute_result"
    }
   ],
   "source": [
    "sl['l'].iloc[3]"
   ]
  },
  {
   "cell_type": "code",
   "execution_count": 37,
   "id": "e761f177-9756-4a2d-83f6-cff210e27f45",
   "metadata": {},
   "outputs": [
    {
     "data": {
      "text/plain": [
       "{'l': [-12, -3, -12],\n",
       " 'k': [-12, -8, -4],\n",
       " 'z': [10, -13, -19, 22, -23, 27, 27, -31],\n",
       " 'gcd': 1296}"
      ]
     },
     "execution_count": 37,
     "metadata": {},
     "output_type": "execute_result"
    }
   ],
   "source": [
    "get_solution_from_list( (sl['l']+sl['k']).iloc[3] )"
   ]
  },
  {
   "cell_type": "code",
   "execution_count": 32,
   "id": "243d5583-06d4-472d-b807-4d8522784201",
   "metadata": {},
   "outputs": [
    {
     "data": {
      "text/plain": [
       "{}"
      ]
     },
     "execution_count": 32,
     "metadata": {},
     "output_type": "execute_result"
    }
   ],
   "source": [
    "get_solution(sl['l'].iloc[0],sl['k'].iloc[0])"
   ]
  },
  {
   "cell_type": "code",
   "execution_count": 33,
   "id": "899b9c23-e9e5-443b-83ac-053e4e146bbe",
   "metadata": {},
   "outputs": [
    {
     "data": {
      "text/plain": [
       "array([    0,  -100,  -350,  -350,  1100,  1100,  1100, -1250, -1250])"
      ]
     },
     "execution_count": 33,
     "metadata": {},
     "output_type": "execute_result"
    }
   ],
   "source": [
    "z(sl['l'].iloc[0],sl['k'].iloc[0])"
   ]
  },
  {
   "cell_type": "code",
   "execution_count": 29,
   "id": "37987dec-a77c-4c3e-8dac-41d15f88b6b1",
   "metadata": {},
   "outputs": [],
   "source": [
    "#{ tuple(x) for x in sl['z'].to_list() }.difference( { tuple(x) for x in df['z'].to_list() }  )"
   ]
  },
  {
   "cell_type": "code",
   "execution_count": 30,
   "id": "126a5959-a3a2-48c8-8ae4-b2b3f73ad29c",
   "metadata": {},
   "outputs": [],
   "source": [
    "#{ tuple(x) for x in df['z'].to_list() }.difference( { tuple(x) for x in sl['solution'].to_list() }  )"
   ]
  },
  {
   "cell_type": "code",
   "execution_count": 31,
   "id": "518c557a-f5b5-4cf8-bd93-a13cede9d3af",
   "metadata": {},
   "outputs": [
    {
     "data": {
      "text/plain": [
       "32"
      ]
     },
     "execution_count": 31,
     "metadata": {},
     "output_type": "execute_result"
    }
   ],
   "source": [
    "df['z'].apply(lambda l:np.abs(l).max()).max()"
   ]
  },
  {
   "cell_type": "code",
   "execution_count": 37,
   "id": "97ebf8ed-643b-457c-82c2-01951ee5d595",
   "metadata": {},
   "outputs": [
    {
     "data": {
      "text/plain": [
       "True"
      ]
     },
     "execution_count": 37,
     "metadata": {},
     "output_type": "execute_result"
    }
   ],
   "source": [
    "[8, 9, 11, -17, -17, -17, 23]==[8, 9, 11, -17, -17, -17, 23]"
   ]
  },
  {
   "cell_type": "code",
   "execution_count": null,
   "id": "4206492f-aea0-4289-a643-11056505c126",
   "metadata": {},
   "outputs": [],
   "source": [
    "import numpy as np"
   ]
  },
  {
   "cell_type": "code",
   "execution_count": 15,
   "id": "90e3b07f-3b9e-4903-9c53-180965a0d7ba",
   "metadata": {},
   "outputs": [
    {
     "data": {
      "text/plain": [
       "array([[-2, -2],\n",
       "       [-2, -1],\n",
       "       [-2,  0],\n",
       "       [-2,  1],\n",
       "       [-2,  2],\n",
       "       [-1, -2],\n",
       "       [-1, -1],\n",
       "       [-1,  0],\n",
       "       [-1,  1],\n",
       "       [-1,  2],\n",
       "       [ 0, -2],\n",
       "       [ 0, -1],\n",
       "       [ 0,  0],\n",
       "       [ 0,  1],\n",
       "       [ 0,  2],\n",
       "       [ 1, -2],\n",
       "       [ 1, -1],\n",
       "       [ 1,  0],\n",
       "       [ 1,  1],\n",
       "       [ 1,  2],\n",
       "       [ 2, -2],\n",
       "       [ 2, -1],\n",
       "       [ 2,  0],\n",
       "       [ 2,  1],\n",
       "       [ 2,  2]])"
      ]
     },
     "execution_count": 15,
     "metadata": {},
     "output_type": "execute_result"
    }
   ],
   "source": [
    "np.unique( np.random.randint(-2,3,(200,2)),axis=0 )"
   ]
  },
  {
   "cell_type": "code",
   "execution_count": 5,
   "id": "f1976ec9-5177-4513-af2b-cc817ce527dc",
   "metadata": {},
   "outputs": [],
   "source": [
    "import numpy as np"
   ]
  },
  {
   "cell_type": "code",
   "execution_count": 6,
   "id": "30e00014-a410-4914-a757-0fc320a2391f",
   "metadata": {},
   "outputs": [],
   "source": [
    "import pandas as pd"
   ]
  },
  {
   "cell_type": "code",
   "execution_count": 7,
   "id": "8b67f599-2091-46e0-8d9f-29ac7b0e2eac",
   "metadata": {},
   "outputs": [],
   "source": [
    "df=pd.read_json('/home/restrepo/Downloads/solution_6.json')"
   ]
  },
  {
   "cell_type": "code",
   "execution_count": 25,
   "id": "34696c7c-ee33-43ca-8414-7b760cb01c62",
   "metadata": {},
   "outputs": [
    {
     "data": {
      "text/plain": [
       "(111, 1)"
      ]
     },
     "execution_count": 25,
     "metadata": {},
     "output_type": "execute_result"
    }
   ],
   "source": [
    "df[df[6].apply(lambda l: np.abs(l).max())<=32].shape"
   ]
  },
  {
   "cell_type": "code",
   "execution_count": 37,
   "id": "7a7e797f-4e33-4cfc-b76d-1e7a0136f09f",
   "metadata": {},
   "outputs": [],
   "source": [
    "p=Pool()"
   ]
  },
  {
   "cell_type": "code",
   "execution_count": 38,
   "id": "c9c45a28-64d7-4a8b-84d5-f2e1ccf7d635",
   "metadata": {},
   "outputs": [
    {
     "data": {
      "text/plain": [
       "\u001b[0;31mSignature:\u001b[0m\n",
       "\u001b[0mp\u001b[0m\u001b[0;34m.\u001b[0m\u001b[0mmap_async\u001b[0m\u001b[0;34m(\u001b[0m\u001b[0;34m\u001b[0m\n",
       "\u001b[0;34m\u001b[0m    \u001b[0mfunc\u001b[0m\u001b[0;34m,\u001b[0m\u001b[0;34m\u001b[0m\n",
       "\u001b[0;34m\u001b[0m    \u001b[0miterable\u001b[0m\u001b[0;34m,\u001b[0m\u001b[0;34m\u001b[0m\n",
       "\u001b[0;34m\u001b[0m    \u001b[0mchunksize\u001b[0m\u001b[0;34m=\u001b[0m\u001b[0;32mNone\u001b[0m\u001b[0;34m,\u001b[0m\u001b[0;34m\u001b[0m\n",
       "\u001b[0;34m\u001b[0m    \u001b[0mcallback\u001b[0m\u001b[0;34m=\u001b[0m\u001b[0;32mNone\u001b[0m\u001b[0;34m,\u001b[0m\u001b[0;34m\u001b[0m\n",
       "\u001b[0;34m\u001b[0m    \u001b[0merror_callback\u001b[0m\u001b[0;34m=\u001b[0m\u001b[0;32mNone\u001b[0m\u001b[0;34m,\u001b[0m\u001b[0;34m\u001b[0m\n",
       "\u001b[0;34m\u001b[0m\u001b[0;34m)\u001b[0m\u001b[0;34m\u001b[0m\u001b[0;34m\u001b[0m\u001b[0m\n",
       "\u001b[0;31mDocstring:\u001b[0m Asynchronous version of `map()` method.\n",
       "\u001b[0;31mFile:\u001b[0m      /usr/lib/python3.9/multiprocessing/pool.py\n",
       "\u001b[0;31mType:\u001b[0m      method\n"
      ]
     },
     "metadata": {},
     "output_type": "display_data"
    }
   ],
   "source": [
    "p.map_async?"
   ]
  },
  {
   "cell_type": "code",
   "execution_count": null,
   "id": "6d03fb3d-13bc-4ead-abca-12e1c9485107",
   "metadata": {},
   "outputs": [],
   "source": []
  }
 ],
 "metadata": {
  "kernelspec": {
   "display_name": "Python 3 (ipykernel)",
   "language": "python",
   "name": "python3"
  },
  "language_info": {
   "codemirror_mode": {
    "name": "ipython",
    "version": 3
   },
   "file_extension": ".py",
   "mimetype": "text/x-python",
   "name": "python",
   "nbconvert_exporter": "python",
   "pygments_lexer": "ipython3",
   "version": "3.9.2"
  }
 },
 "nbformat": 4,
 "nbformat_minor": 5
}
