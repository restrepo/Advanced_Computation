{
 "cells": [
  {
   "cell_type": "markdown",
   "id": "5357dac0-ffe1-4959-bfc9-f4d25b9723f0",
   "metadata": {},
   "source": [
    "# Multiprocessing"
   ]
  },
  {
   "cell_type": "markdown",
   "id": "836cea07-bc94-4d9d-b973-42d80086aea0",
   "metadata": {},
   "source": [
    "> Multiprocessing refers to the ability of a system to support more than one processor at the same time. Applications in a multiprocessing system are broken to smaller routines that run independently. The operating system allocates these threads to the processors improving performance of the system.\n",
    "\n",
    "https://www.geeksforgeeks.org/multiprocessing-python-set-1/"
   ]
  },
  {
   "cell_type": "markdown",
   "id": "580780e9-6553-4b01-8d2f-1fc0d804c443",
   "metadata": {},
   "source": [
    "## Multiprocessing in Python\n",
    "* `multiprocessing` for a single node with several cores\n",
    "* `joblib` also works in distruibuted nodes\n",
    "* `dask` for arrays in distruibuted nodes"
   ]
  },
  {
   "cell_type": "markdown",
   "id": "92f4784f-7954-442a-ac6e-46ddf0c66428",
   "metadata": {},
   "source": [
    "### `multiprocessing`"
   ]
  },
  {
   "cell_type": "markdown",
   "id": "e04203cb-89fa-400f-aa59-a5d121ea9038",
   "metadata": {},
   "source": [
    "Example\n",
    "\n",
    "See: https://towardsdatascience.com/how-can-data-scientists-use-parallel-processing-17194fffc6d0"
   ]
  },
  {
   "cell_type": "code",
   "execution_count": 1,
   "id": "dc5c99cd-0978-4675-8f02-965139224f6b",
   "metadata": {},
   "outputs": [],
   "source": [
    "from multiprocessing import Pool"
   ]
  },
  {
   "cell_type": "code",
   "execution_count": 2,
   "id": "cd79faab-d122-45fb-847b-cdcb392ea745",
   "metadata": {},
   "outputs": [],
   "source": [
    "def f(x):\n",
    "    return x**2"
   ]
  },
  {
   "cell_type": "code",
   "execution_count": 176,
   "id": "def5d2c0-3465-49f2-961d-81c33c4701c3",
   "metadata": {},
   "outputs": [],
   "source": [
    "result = [f(x) for x in list(range(100000))]"
   ]
  },
  {
   "cell_type": "code",
   "execution_count": 177,
   "id": "fb8f2a44-42a5-4a4f-bac4-910f10b1fb53",
   "metadata": {},
   "outputs": [],
   "source": [
    "pool = Pool(8)\n",
    "result = pool.map(f,list(range(100000)))\n",
    "pool.close()"
   ]
  },
  {
   "cell_type": "markdown",
   "id": "7f576e48-b6ab-4f06-a586-d686dee14811",
   "metadata": {},
   "source": [
    "![img](https://miro.medium.com/max/700/1*n8_M7_0O2Rp3TCuqLDeeHg.png)"
   ]
  },
  {
   "cell_type": "markdown",
   "id": "9de6b532-d314-4131-a842-e78a9cd7a367",
   "metadata": {},
   "source": [
    "Implementation"
   ]
  },
  {
   "cell_type": "code",
   "execution_count": 3,
   "id": "5314977a-7b86-4fc5-976e-9e799a1fdcbf",
   "metadata": {},
   "outputs": [],
   "source": [
    "import numpy as np\n",
    "import itertools\n",
    "import sys\n",
    "from anomalies import anomaly\n",
    "import numpy as np\n",
    "import time\n",
    "import warnings\n",
    "warnings.filterwarnings(\"ignore\")\n",
    "\n",
    "z=anomaly.free\n",
    "\n",
    "def _get_chiral(q,q_max=np.inf):\n",
    "    #Normalize to positive minimum\n",
    "    if 0 in q:\n",
    "        return None,None\n",
    "    if q[0]<0:\n",
    "        q=-q\n",
    "    #Divide by GCD\n",
    "    GCD=np.gcd.reduce(q)\n",
    "    q=(q/GCD).astype(int)\n",
    "    if ( #not 0 in z and \n",
    "          0 not in [ sum(p) for p in itertools.permutations(q, 2) ] and #avoid vector-like and multiple 0's\n",
    "          #q.size > np.unique(q).size and # check for at least a duplicated entry\n",
    "          np.abs(q).max()<=q_max\n",
    "           ):\n",
    "        return q,GCD\n",
    "    else:\n",
    "        return None,None\n",
    "    \n",
    "def get_solution(l,k,zmax=30):\n",
    "    q,gcd=_get_chiral( z(l,k) )\n",
    "    #if q is not None and np.abs(q).max()<=zmax:#\n",
    "    if q is not None and np.abs(q).max()<=zmax:\n",
    "        return {'l':l,'k':k,'z':list(q),'gcd':gcd}\n",
    "    else:\n",
    "        return {}    \n",
    "\n",
    "def get_solution_from_list(lk,zmax=30):\n",
    "    n=len(lk)\n",
    "    l=lk[:n//2]\n",
    "    k=lk[n//2:]\n",
    "    return get_solution(l,k,zmax)\n",
    "\n",
    "\n",
    "assert get_solution_from_list([1,2,1,-2])['z']==[1, 1, 1, -4, -4, 5]"
   ]
  },
  {
   "cell_type": "markdown",
   "id": "7dfd7aa2-3d83-4129-9f5d-fe2f442837a1",
   "metadata": {},
   "source": [
    "Prepare running"
   ]
  },
  {
   "cell_type": "code",
   "execution_count": 4,
   "id": "55775c5b-1b67-475a-b6a6-0af2e3c790c9",
   "metadata": {},
   "outputs": [],
   "source": [
    "d=[{'n':6,'N':300000,'max':7},\n",
    "   {'n':7,'N':500000,'max':10},\n",
    "   {'n':8,'N':800000,'max':12},\n",
    "   {'n':9,'N':700000,'max':12},\n",
    "   {'n':10,'N':26000000,'max':12},\n",
    "   {'n':11,'N':90000000,'max':12},\n",
    "   {'n':12,'N':80000000,'max':12}]\n",
    "\n",
    "n=6\n",
    "dd=[dd for dd in d if dd.get('n')==n][0]\n",
    "\n",
    "N=dd['N'] \n",
    "mm=n-2\n",
    "\n",
    "Single=False"
   ]
  },
  {
   "cell_type": "markdown",
   "id": "7c9d3385-9578-427b-ad07-310394b4fbb1",
   "metadata": {},
   "source": [
    "### Single-processing"
   ]
  },
  {
   "cell_type": "code",
   "execution_count": 5,
   "id": "c3254ced-89f1-49f3-9958-81dcbbec73ae",
   "metadata": {},
   "outputs": [],
   "source": [
    "if Single:\n",
    "    s=time.time()\n",
    "    ll=np.random.randint(1,dd['max']+1,(N,mm))*(-1)**np.random.randint(0,2,(N,mm))\n",
    "    ll=np.unique(ll, axis=0)\n",
    "    print('grid → ',time.time()-s,ll.shape)\n",
    "\n",
    "    s=time.time()\n",
    "    sls=[get_solution_from_list(lk) for lk in ll if get_solution_from_list(lk)]\n",
    "    print('sols → ',time.time()-s,len(sls))\n",
    "    del ll"
   ]
  },
  {
   "cell_type": "markdown",
   "id": "ac28831c-99a5-4045-8ee4-674b12b63034",
   "metadata": {},
   "source": [
    "### Multiprocessing\n",
    "After\n",
    "```bash\n",
    "pip3 install dask[complete]\n",
    "```"
   ]
  },
  {
   "cell_type": "code",
   "execution_count": 6,
   "id": "7f50b726-885f-40a7-9f3f-acd761bf0919",
   "metadata": {},
   "outputs": [],
   "source": [
    "import dask.array as da\n",
    "import pandas as pd\n",
    "from multiprocessing import Pool"
   ]
  },
  {
   "cell_type": "code",
   "execution_count": 7,
   "id": "c97aa258-01b6-4bfb-a361-9cbc05130ba6",
   "metadata": {},
   "outputs": [
    {
     "name": "stdout",
     "output_type": "stream",
     "text": [
      "grid →  0.04920506477355957 (38398, 4)\n",
      "sols →  0.8581068515777588 3013\n"
     ]
    }
   ],
   "source": [
    "#axis parameter not yet implemented in dask: `da.unique` → https://stackoverflow.com/a/53389741/2268280\n",
    "ll=da.random.randint(1,dd['max']+1,(N,mm))*(-1)**da.random.randint(0,2,(N,mm))\n",
    "ll=ll.to_dask_dataframe().drop_duplicates().to_dask_array()\n",
    "\n",
    "s=time.time()\n",
    "ll=ll.compute()\n",
    "print('grid → ',time.time()-s,ll.shape)\n",
    "\n",
    "s=time.time()\n",
    "pool = Pool(8)\n",
    "sls = pool.map(get_solution_from_list,ll)\n",
    "pool.close()\n",
    "\n",
    "sls=[d for d in sls if d]\n",
    "print('sols → ',time.time()-s,len(sls))"
   ]
  },
  {
   "cell_type": "markdown",
   "id": "fe829f5a-28b6-4700-844d-660111a37b98",
   "metadata": {},
   "source": [
    "Unique solutions"
   ]
  },
  {
   "cell_type": "code",
   "execution_count": 10,
   "id": "ce87e29b-bc73-4ace-a394-67b956650a66",
   "metadata": {},
   "outputs": [
    {
     "name": "stdout",
     "output_type": "stream",
     "text": [
      "unique solutions →  (109, 4)\n"
     ]
    }
   ],
   "source": [
    "df=pd.DataFrame(sls)\n",
    "df.sort_values('gcd')\n",
    "df['zs']=df['z'].astype(str)\n",
    "df=df.drop_duplicates('zs').drop('zs',axis='columns').reset_index(drop=True)\n",
    "print('unique solutions → ',df.shape)"
   ]
  },
  {
   "cell_type": "code",
   "execution_count": null,
   "id": "b9b15da8-57ab-4d71-bb5f-c1d3be88c42e",
   "metadata": {},
   "outputs": [],
   "source": []
  }
 ],
 "metadata": {
  "kernelspec": {
   "display_name": "Python 3 (ipykernel)",
   "language": "python",
   "name": "python3"
  },
  "language_info": {
   "codemirror_mode": {
    "name": "ipython",
    "version": 3
   },
   "file_extension": ".py",
   "mimetype": "text/x-python",
   "name": "python",
   "nbconvert_exporter": "python",
   "pygments_lexer": "ipython3",
   "version": "3.9.2"
  }
 },
 "nbformat": 4,
 "nbformat_minor": 5
}
