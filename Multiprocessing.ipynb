{
 "cells": [
  {
   "cell_type": "markdown",
   "id": "5357dac0-ffe1-4959-bfc9-f4d25b9723f0",
   "metadata": {},
   "source": [
    "# Multiprocessing"
   ]
  },
  {
   "cell_type": "markdown",
   "id": "836cea07-bc94-4d9d-b973-42d80086aea0",
   "metadata": {},
   "source": [
    "> Multiprocessing refers to the ability of a system to support more than one processor at the same time. Applications in a multiprocessing system are broken to smaller routines that run independently. The operating system allocates these threads to the processors improving performance of the system.\n",
    "\n",
    "https://www.geeksforgeeks.org/multiprocessing-python-set-1/"
   ]
  },
  {
   "cell_type": "markdown",
   "id": "580780e9-6553-4b01-8d2f-1fc0d804c443",
   "metadata": {
    "tags": []
   },
   "source": [
    "## Multiprocessing in Python\n",
    "* `multiprocessing` for a single node with several cores\n",
    "* `joblib` also works in distruibuted nodes\n",
    "* `dask` for arrays in distruibuted nodes"
   ]
  },
  {
   "cell_type": "markdown",
   "id": "92f4784f-7954-442a-ac6e-46ddf0c66428",
   "metadata": {},
   "source": [
    "### `multiprocessing`"
   ]
  },
  {
   "cell_type": "markdown",
   "id": "e04203cb-89fa-400f-aa59-a5d121ea9038",
   "metadata": {},
   "source": [
    "Example\n",
    "\n",
    "See: https://towardsdatascience.com/how-can-data-scientists-use-parallel-processing-17194fffc6d0"
   ]
  },
  {
   "cell_type": "code",
   "execution_count": 170,
   "id": "dc5c99cd-0978-4675-8f02-965139224f6b",
   "metadata": {},
   "outputs": [],
   "source": [
    "from multiprocessing import Pool\n",
    "from multiprocessing import cpu_count\n",
    "import time\n",
    "import random"
   ]
  },
  {
   "cell_type": "code",
   "execution_count": 115,
   "id": "cd79faab-d122-45fb-847b-cdcb392ea745",
   "metadata": {},
   "outputs": [],
   "source": [
    "def f(x):\n",
    "    time.sleep(random.random())\n",
    "    return x**2"
   ]
  },
  {
   "cell_type": "code",
   "execution_count": 173,
   "id": "def5d2c0-3465-49f2-961d-81c33c4701c3",
   "metadata": {},
   "outputs": [
    {
     "name": "stdout",
     "output_type": "stream",
     "text": [
      "5.5549304485321045\n"
     ]
    }
   ],
   "source": [
    "s=time.time()\n",
    "N=10#000000 \n",
    "result = [f(x) for x in range(N)]\n",
    "print(time.time()-s)"
   ]
  },
  {
   "cell_type": "markdown",
   "id": "3fb3112a-24a9-47a7-9b20-5c0022032c36",
   "metadata": {},
   "source": [
    "WARNING: Take care of the RAM for large N"
   ]
  },
  {
   "cell_type": "code",
   "execution_count": 174,
   "id": "fb8f2a44-42a5-4a4f-bac4-910f10b1fb53",
   "metadata": {},
   "outputs": [
    {
     "name": "stdout",
     "output_type": "stream",
     "text": [
      "1.58 → [0, 1, 4, 9, 16, 25, 36, 49, 64, 81]\n"
     ]
    }
   ],
   "source": [
    "s=time.time() #equivalent to %%time\n",
    "pool = Pool(cpu_count())\n",
    "result = pool.map(f,range(N))\n",
    "pool.close()\n",
    "print(round(time.time()-s,2),'→',result[:10])\n",
    "LAZY=False"
   ]
  },
  {
   "cell_type": "code",
   "execution_count": 175,
   "id": "476a3b30-a49c-4f94-af4c-cce26d969ae2",
   "metadata": {},
   "outputs": [
    {
     "name": "stdout",
     "output_type": "stream",
     "text": [
      "1.19 → [0, 1, 4, 9, 16, 25, 36, 49, 64, 81]\n"
     ]
    }
   ],
   "source": [
    "if LAZY:\n",
    "    s=time.time()\n",
    "    pool = Pool(cpu_count())\n",
    "    result=pool.map_async(f,range(N))#,chunksize=N//cpu_count())\n",
    "    result=[ r for r in result.get() ]\n",
    "    pool.close()\n",
    "    print(round(time.time()-s,2),'→',result[:10])"
   ]
  },
  {
   "cell_type": "code",
   "execution_count": 176,
   "id": "6b503763-8cf6-48e0-b297-7327fad589b9",
   "metadata": {},
   "outputs": [
    {
     "name": "stdout",
     "output_type": "stream",
     "text": [
      "1.22 → [0, 1, 4, 9, 16, 25, 36, 49, 64, 81]\n"
     ]
    }
   ],
   "source": [
    "if LAZY:\n",
    "    s=time.time()\n",
    "    pool = Pool(cpu_count())\n",
    "    result=[ r for r in pool.imap(f,range(N),chunksize=N//cpu_count())]\n",
    "    pool.close()\n",
    "    print(round(time.time()-s,2),'→',result[:10])    "
   ]
  },
  {
   "cell_type": "code",
   "execution_count": 177,
   "id": "22c03eb8-5cdb-4cd1-ab44-164215266e44",
   "metadata": {},
   "outputs": [
    {
     "name": "stdout",
     "output_type": "stream",
     "text": [
      "1.31 → [4, 1, 9, 64, 25, 16, 0, 49, 36, 81]\n"
     ]
    }
   ],
   "source": [
    "if LAZY:\n",
    "    s=time.time()\n",
    "    pool = Pool(cpu_count())\n",
    "    result=[r for r in pool.imap_unordered(f,range(N),chunksize=N//cpu_count())]\n",
    "    pool.close()\n",
    "    print(round(time.time()-s,2),'→',result[:10])"
   ]
  },
  {
   "cell_type": "markdown",
   "id": "7f576e48-b6ab-4f06-a586-d686dee14811",
   "metadata": {},
   "source": [
    "![img](https://miro.medium.com/max/700/1*n8_M7_0O2Rp3TCuqLDeeHg.png)chunksize="
   ]
  },
  {
   "cell_type": "markdown",
   "id": "9de6b532-d314-4131-a842-e78a9cd7a367",
   "metadata": {
    "tags": []
   },
   "source": [
    "## Implementation.\n",
    "* Use the official module to find solutions \n",
    "* filter the chiral ones  with a maximum integer of 32\n",
    "* Build a function suitable for multiprocessing"
   ]
  },
  {
   "cell_type": "markdown",
   "id": "dfa7b54c-cb36-4b98-9ea2-c5dc459a5d06",
   "metadata": {
    "tags": []
   },
   "source": [
    "### Functions"
   ]
  },
  {
   "cell_type": "code",
   "execution_count": 1,
   "id": "5314977a-7b86-4fc5-976e-9e799a1fdcbf",
   "metadata": {},
   "outputs": [
    {
     "name": "stdout",
     "output_type": "stream",
     "text": [
      "The history saving thread hit an unexpected error (OperationalError('attempt to write a readonly database')).History will not be written to the database.\n"
     ]
    }
   ],
   "source": [
    "import numpy as np\n",
    "import itertools\n",
    "import sys\n",
    "from anomalies import anomaly\n",
    "import numpy as np\n",
    "import time\n",
    "import warnings\n",
    "warnings.filterwarnings(\"ignore\")\n",
    "\n",
    "z=anomaly.free\n",
    "\n",
    "def _get_chiral(q,q_max=np.inf):\n",
    "    #Normalize to positive minimum\n",
    "    if 0 in q:\n",
    "        #q=q[q!=0]\n",
    "        return None,None\n",
    "    if q.size==0:\n",
    "        return None,None\n",
    "    if q[0]<0:\n",
    "        q=-q\n",
    "    #Divide by GCD\n",
    "    GCD=np.gcd.reduce(q)\n",
    "    q=(q/GCD).astype(int)\n",
    "    if ( #not 0 in z and \n",
    "          0 not in [ sum(p) for p in itertools.permutations(q, 2) ] and #avoid vector-like and multiple 0's\n",
    "          np.abs(q).max()<=q_max\n",
    "           ):\n",
    "        return q,GCD\n",
    "    else:\n",
    "        return None,None\n",
    "    \n",
    "def get_solution(l,k,zmax=32):\n",
    "    q,gcd=_get_chiral( z(l,k) )\n",
    "    #if q is not None and np.abs(q).max()<=zmax:#\n",
    "    if q is not None and np.abs(q).max()<=zmax:\n",
    "        return {'l':l,'k':k,'z':list(q),'gcd':gcd}\n",
    "    else:\n",
    "        return {}    \n",
    "\n",
    "def get_solution_from_list(lk,zmax=32):\n",
    "    n=len(lk)\n",
    "    l=lk[:n//2]\n",
    "    k=lk[n//2:]\n",
    "    return get_solution(l,k,zmax)\n",
    "\n",
    "\n",
    "assert get_solution_from_list([1,2,1,-2])['z']==[1, 1, 1, -4, -4, 5]"
   ]
  },
  {
   "cell_type": "markdown",
   "id": "7dfd7aa2-3d83-4129-9f5d-fe2f442837a1",
   "metadata": {
    "tags": []
   },
   "source": [
    "### Prepare running"
   ]
  },
  {
   "cell_type": "code",
   "execution_count": 2,
   "id": "55775c5b-1b67-475a-b6a6-0af2e3c790c9",
   "metadata": {},
   "outputs": [],
   "source": [
    "d=[{'n':5,'N':4000000,'max':11,'imax':0},\n",
    "   {'n':6,'N':4000000,'max':11,'imax':0},\n",
    "   {'n':7,'N':8000000,'max':13,'imax':0},\n",
    "   {'n':8,'N':8000000,'max':15,'imax':100},\n",
    "   {'n':9,'N':50000000,'max':10,'imax':40},\n",
    "   {'n':10,'N':70000000,'max':10,'imax':100},\n",
    "   {'n':11,'N':50000000,'max':10,'imax':100},\n",
    "   {'n':12,'N':50000000,'max':10,'imax':100}]\n",
    "\n",
    "n=8\n",
    "dd=[dd for dd in d if dd.get('n')==n][0]\n",
    "\n",
    "N=dd['N'] \n",
    "mm=n-2\n",
    "\n",
    "Single=False"
   ]
  },
  {
   "cell_type": "markdown",
   "id": "7c9d3385-9578-427b-ad07-310394b4fbb1",
   "metadata": {
    "jp-MarkdownHeadingCollapsed": true,
    "tags": []
   },
   "source": [
    "### Single-processing"
   ]
  },
  {
   "cell_type": "code",
   "execution_count": 17,
   "id": "c3254ced-89f1-49f3-9958-81dcbbec73ae",
   "metadata": {},
   "outputs": [
    {
     "name": "stdout",
     "output_type": "stream",
     "text": [
      "grid →  105.63711500167847 (7947827, 5)\n",
      "sols →  499.27395939826965 103363\n"
     ]
    }
   ],
   "source": [
    "if Single:\n",
    "    s=time.time()\n",
    "    ll=np.random.randint(-dd['max'],dd['max']+1,(N,mm))\n",
    "    ll=np.unique(ll, axis=0)\n",
    "    print('grid → ',time.time()-s,ll.shape)\n",
    "\n",
    "    s=time.time()\n",
    "    sls=[get_solution_from_list(lk) for lk in ll if get_solution_from_list(lk)]\n",
    "    print('sols → ',time.time()-s,len(sls))\n",
    "    del ll"
   ]
  },
  {
   "cell_type": "markdown",
   "id": "ac28831c-99a5-4045-8ee4-674b12b63034",
   "metadata": {},
   "source": [
    "### Multiprocessing\n",
    "After\n",
    "```bash\n",
    "pip3 install dask[complete]\n",
    "```"
   ]
  },
  {
   "cell_type": "code",
   "execution_count": 202,
   "id": "7f50b726-885f-40a7-9f3f-acd761bf0919",
   "metadata": {},
   "outputs": [],
   "source": [
    "import dask.array as da\n",
    "import pandas as pd\n",
    "from multiprocessing import Pool\n",
    "from multiprocessing import cpu_count\n",
    "import os"
   ]
  },
  {
   "cell_type": "code",
   "execution_count": null,
   "id": "ecfc4d97-3bac-4778-91e6-6818088b7a80",
   "metadata": {},
   "outputs": [],
   "source": [
    "#UNORDERED=False\n",
    "RELOAD=True\n",
    "SORT=False\n",
    "if RELOAD:\n",
    "    if not os.path.exists(f'solution_{n}.json'):\n",
    "        RELOAD=False\n",
    "size_old=0\n",
    "imax=dd['imax']\n",
    "i=0\n",
    "df=pd.DataFrame()\n",
    "Δ_size=1 #Any non-zero value\n",
    "if not RELOAD:\n",
    "    df=pd.DataFrame()\n",
    "else:\n",
    "    df=pd.read_json(f'solution_{n}.json')\n",
    "\n",
    "#to save solutions in the middle of the next while\n",
    "rc=np.array([50000,10000,5000,1000,500,100,50,10,5])\n",
    "while Δ_size>0:\n",
    "    #axis parameter not yet implemented in dask: `da.unique` → https://stackoverflow.com/a/53389741/2268280\n",
    "    ll=da.random.randint(-dd['max'],dd['max']+1,(N,mm))\n",
    "    ll=ll.to_dask_dataframe().drop_duplicates().to_dask_array()\n",
    "\n",
    "    s=time.time()\n",
    "    #See: https://docs.dask.org/en/stable/scheduler-overview.html#configuring-the-schedulers\n",
    "    #.compute(num_workers=XX) → defaults to number of cores\n",
    "    ll=ll.compute()\n",
    "    print('grid → ',time.time()-s,ll.shape)\n",
    "\n",
    "    s=time.time()\n",
    "    pool = Pool(cpu_count())\n",
    "    if True:# not UNORDERED:\n",
    "        sls = pool.map(get_solution_from_list,ll)\n",
    "    #else:\n",
    "    #    sls=[r for r in pool.imap_unordered(get_solution_from_list,ll,chunksize=len(ll)//cpu_count())]\n",
    "    pool.close()\n",
    "    del ll\n",
    "\n",
    "    sls=[d for d in sls if d]\n",
    "    print('sols → ',time.time()-s,len(sls))\n",
    "\n",
    "    #Unique solutions\n",
    "    df=df.append(  sls,ignore_index=True    )\n",
    "    if SORT:\n",
    "        df.sort_values('gcd')\n",
    "    df['zs']=df['z'].astype(str)\n",
    "    df=df.drop_duplicates('zs').drop('zs',axis='columns').reset_index(drop=True)\n",
    "    print('unique solutions → ',df.shape)\n",
    "    Δ_size=df.shape[0]-size_old\n",
    "    if Δ_size>0:\n",
    "        size_old=df.shape[0]\n",
    "    if i>=imax:\n",
    "        break\n",
    "\n",
    "    Δrc=(rc-Δ_size>=0)\n",
    "    if any( Δrc ):\n",
    "        rc=rc[~Δrc]\n",
    "        df.to_json(f'solution_{n}.json',orient='records')\n",
    "        \n",
    "    i+=1"
   ]
  },
  {
   "cell_type": "code",
   "execution_count": 175,
   "id": "fa3c4a06-89a1-40ed-ab9f-d30d366b84c5",
   "metadata": {},
   "outputs": [
    {
     "data": {
      "text/html": [
       "<div>\n",
       "<style scoped>\n",
       "    .dataframe tbody tr th:only-of-type {\n",
       "        vertical-align: middle;\n",
       "    }\n",
       "\n",
       "    .dataframe tbody tr th {\n",
       "        vertical-align: top;\n",
       "    }\n",
       "\n",
       "    .dataframe thead th {\n",
       "        text-align: right;\n",
       "    }\n",
       "</style>\n",
       "<table border=\"1\" class=\"dataframe\">\n",
       "  <thead>\n",
       "    <tr style=\"text-align: right;\">\n",
       "      <th></th>\n",
       "      <th>l</th>\n",
       "      <th>k</th>\n",
       "      <th>z</th>\n",
       "      <th>gcd</th>\n",
       "    </tr>\n",
       "  </thead>\n",
       "  <tbody>\n",
       "    <tr>\n",
       "      <th>0</th>\n",
       "      <td>[8]</td>\n",
       "      <td>[-2, 2]</td>\n",
       "      <td>[1, 5, -7, -8, 9]</td>\n",
       "      <td>32</td>\n",
       "    </tr>\n",
       "    <tr>\n",
       "      <th>1</th>\n",
       "      <td>[2]</td>\n",
       "      <td>[5, -9]</td>\n",
       "      <td>[2, 4, -7, -9, 10]</td>\n",
       "      <td>330</td>\n",
       "    </tr>\n",
       "    <tr>\n",
       "      <th>2</th>\n",
       "      <td>[-5]</td>\n",
       "      <td>[-4, -2]</td>\n",
       "      <td>[1, 14, -17, -18, 20]</td>\n",
       "      <td>8</td>\n",
       "    </tr>\n",
       "    <tr>\n",
       "      <th>3</th>\n",
       "      <td>[-4]</td>\n",
       "      <td>[2, -10]</td>\n",
       "      <td>[5, 6, -12, -21, 22]</td>\n",
       "      <td>32</td>\n",
       "    </tr>\n",
       "    <tr>\n",
       "      <th>4</th>\n",
       "      <td>[0, -3, 3]</td>\n",
       "      <td>[0, -3, 5, 0]</td>\n",
       "      <td>[7, 8, -18, -22, 25]</td>\n",
       "      <td>9</td>\n",
       "    </tr>\n",
       "    <tr>\n",
       "      <th>...</th>\n",
       "      <td>...</td>\n",
       "      <td>...</td>\n",
       "      <td>...</td>\n",
       "      <td>...</td>\n",
       "    </tr>\n",
       "    <tr>\n",
       "      <th>149</th>\n",
       "      <td>[0, 3, 8]</td>\n",
       "      <td>[6, -2, 6, 0]</td>\n",
       "      <td>[5, -6, -24, 27, 30, -32]</td>\n",
       "      <td>56</td>\n",
       "    </tr>\n",
       "    <tr>\n",
       "      <th>150</th>\n",
       "      <td>[-4, -2]</td>\n",
       "      <td>[8, -8]</td>\n",
       "      <td>[10, -13, -20, 26, 29, -32]</td>\n",
       "      <td>64</td>\n",
       "    </tr>\n",
       "    <tr>\n",
       "      <th>151</th>\n",
       "      <td>[-5, -1, -1]</td>\n",
       "      <td>[7, 4, 4, 2]</td>\n",
       "      <td>[2, 3, 13, -20, -30, 32]</td>\n",
       "      <td>74</td>\n",
       "    </tr>\n",
       "    <tr>\n",
       "      <th>152</th>\n",
       "      <td>[8, -4]</td>\n",
       "      <td>[1, -4]</td>\n",
       "      <td>[2, 4, 13, -22, -29, 32]</td>\n",
       "      <td>96</td>\n",
       "    </tr>\n",
       "    <tr>\n",
       "      <th>153</th>\n",
       "      <td>[0, 2, 7]</td>\n",
       "      <td>[8, -4, -4, 2]</td>\n",
       "      <td>[2, 7, 10, -23, -28, 32]</td>\n",
       "      <td>96</td>\n",
       "    </tr>\n",
       "  </tbody>\n",
       "</table>\n",
       "<p>154 rows × 4 columns</p>\n",
       "</div>"
      ],
      "text/plain": [
       "                l               k                            z  gcd\n",
       "0             [8]         [-2, 2]            [1, 5, -7, -8, 9]   32\n",
       "1             [2]         [5, -9]           [2, 4, -7, -9, 10]  330\n",
       "2            [-5]        [-4, -2]        [1, 14, -17, -18, 20]    8\n",
       "3            [-4]        [2, -10]         [5, 6, -12, -21, 22]   32\n",
       "4      [0, -3, 3]   [0, -3, 5, 0]         [7, 8, -18, -22, 25]    9\n",
       "..            ...             ...                          ...  ...\n",
       "149     [0, 3, 8]   [6, -2, 6, 0]    [5, -6, -24, 27, 30, -32]   56\n",
       "150      [-4, -2]         [8, -8]  [10, -13, -20, 26, 29, -32]   64\n",
       "151  [-5, -1, -1]    [7, 4, 4, 2]     [2, 3, 13, -20, -30, 32]   74\n",
       "152       [8, -4]         [1, -4]     [2, 4, 13, -22, -29, 32]   96\n",
       "153     [0, 2, 7]  [8, -4, -4, 2]     [2, 7, 10, -23, -28, 32]   96\n",
       "\n",
       "[154 rows x 4 columns]"
      ]
     },
     "execution_count": 175,
     "metadata": {},
     "output_type": "execute_result"
    }
   ],
   "source": [
    "df"
   ]
  },
  {
   "cell_type": "code",
   "execution_count": 69,
   "id": "f0736b83-c8e4-4c1d-8b5d-8277546b0404",
   "metadata": {},
   "outputs": [],
   "source": [
    "df.to_json(f'solution_{n}.json',orient='records')"
   ]
  },
  {
   "cell_type": "code",
   "execution_count": 16,
   "id": "b9b15da8-57ab-4d71-bb5f-c1d3be88c42e",
   "metadata": {},
   "outputs": [
    {
     "ename": "Exception",
     "evalue": "Appendix",
     "output_type": "error",
     "traceback": [
      "\u001b[0;31m---------------------------------------------------------------------------\u001b[0m",
      "\u001b[0;31mException\u001b[0m                                 Traceback (most recent call last)",
      "\u001b[0;32m/tmp/ipykernel_121696/76697970.py\u001b[0m in \u001b[0;36m<module>\u001b[0;34m\u001b[0m\n\u001b[0;32m----> 1\u001b[0;31m \u001b[0;32mraise\u001b[0m \u001b[0mException\u001b[0m\u001b[0;34m(\u001b[0m\u001b[0;34m'Appendix'\u001b[0m\u001b[0;34m)\u001b[0m\u001b[0;34m\u001b[0m\u001b[0;34m\u001b[0m\u001b[0m\n\u001b[0m",
      "\u001b[0;31mException\u001b[0m: Appendix"
     ]
    }
   ],
   "source": [
    "raise Exception('Appendix')"
   ]
  },
  {
   "cell_type": "markdown",
   "id": "f9747182-8d5f-4027-b463-d2a39dc2723f",
   "metadata": {
    "tags": []
   },
   "source": [
    "## Appendix"
   ]
  },
  {
   "cell_type": "markdown",
   "id": "5bfc549d-ba78-4101-9815-3e3ebcd94166",
   "metadata": {
    "tags": []
   },
   "source": [
    "### Check RAM USAGE"
   ]
  },
  {
   "cell_type": "code",
   "execution_count": 57,
   "id": "3d465a9c-aa17-4d07-b665-637d842b9155",
   "metadata": {},
   "outputs": [],
   "source": [
    "d=[{'n':6,'N':4000000,'max':11}, #'N':4000000,'max':11\n",
    "   {'n':7,'N':50000000,'max':12},\n",
    "   {'n':8,'N':50000000,'max':10},\n",
    "   {'n':9,'N':50000000,'max':10},\n",
    "   {'n':10,'N':50000000,'max':10},\n",
    "   {'n':11,'N':50000000,'max':10},\n",
    "   {'n':12,'N':50000000,'max':10}]\n",
    "\n",
    "n=7\n",
    "dd=[dd for dd in d if dd.get('n')==n][0]\n",
    "\n",
    "N=dd['N'] \n",
    "mm=n-2\n",
    "\n",
    "Single=False"
   ]
  },
  {
   "cell_type": "code",
   "execution_count": 60,
   "id": "edbbc52d-ce65-4046-a516-31d7232d7d9b",
   "metadata": {},
   "outputs": [
    {
     "name": "stdout",
     "output_type": "stream",
     "text": [
      "0\n",
      "grid →  9.36429476737976 (9707449, 5)\n",
      "1\n",
      "→ 1\n",
      "grid →  11.500483989715576 (57840, 5)\n"
     ]
    }
   ],
   "source": [
    "for i in range(2):\n",
    "    print(i)\n",
    "    #axis parameter not yet implemented in dask: `da.unique` → https://stackoverflow.com/a/53389741/2268280\n",
    "    ll=da.random.randint(-dd['max'],dd['max']+1,(N,mm))\n",
    "    ll=ll.to_dask_dataframe().drop_duplicates().to_dask_array()\n",
    "\n",
    "    s=time.time()\n",
    "    ll=ll.compute()\n",
    "    \n",
    "    if i==0:    \n",
    "        f=open('ll.npy','wb')\n",
    "        np.save(f,ll)\n",
    "        f.close()    \n",
    "\n",
    "    if i==1:\n",
    "        print('→',i)\n",
    "        with open('ll.npy', 'rb') as f:\n",
    "            ll_old = np.load(f)\n",
    "        \n",
    "        #WARNING: Not multiprocessing\n",
    "        ll=pd.DataFrame(np.concatenate((ll,\n",
    "                                        (np.ones((1,mm))*(dd['max']+1)).astype(int), #introduce separator\n",
    "                                        ll_old)\n",
    "                                      )).drop_duplicates(keep=False).reset_index(drop=True)\n",
    "        ll=ll[:ll[(ll[0]==dd['max']+1) &  (ll[mm-1]==dd['max']+1)].index[0]].values    \n",
    "    \n",
    "\n",
    "    print('grid → ',time.time()-s,ll.shape)\n",
    "    \n"
   ]
  },
  {
   "cell_type": "code",
   "execution_count": 36,
   "id": "ded56f89-8536-420d-bc38-a14e2fcd9183",
   "metadata": {},
   "outputs": [
    {
     "data": {
      "text/plain": [
       "array([[ 10,   1,  -3,   0],\n",
       "       [ -4,  -5,   0,  -2],\n",
       "       [  0,  -1,  -7, -10],\n",
       "       ...,\n",
       "       [  7,  11,  -9,   0],\n",
       "       [  0,  -1, -11, -11],\n",
       "       [ -5, -11,   0,  -6]])"
      ]
     },
     "execution_count": 36,
     "metadata": {},
     "output_type": "execute_result"
    }
   ],
   "source": [
    "ll[[0 in x for x in ll]]"
   ]
  },
  {
   "cell_type": "code",
   "execution_count": 28,
   "id": "b618bca1-8705-458d-adfc-6783d3a480dd",
   "metadata": {},
   "outputs": [
    {
     "data": {
      "text/plain": [
       "array([[12, 12, 12, 12]])"
      ]
     },
     "execution_count": 28,
     "metadata": {},
     "output_type": "execute_result"
    }
   ],
   "source": []
  },
  {
   "cell_type": "markdown",
   "id": "0f99dfeb-a4d4-470d-a52c-22f31ff8c29a",
   "metadata": {},
   "source": [
    "### Check number of solutions\n",
    "From: https://doi.org/10.5281/zenodo.5526707"
   ]
  },
  {
   "cell_type": "code",
   "execution_count": 1,
   "id": "17c2b858-b02d-4003-8d0b-161f2f15470b",
   "metadata": {},
   "outputs": [],
   "source": [
    "import pandas as pd"
   ]
  },
  {
   "cell_type": "code",
   "execution_count": 151,
   "id": "464b0aa8-0f01-4c12-a3bd-b8049c7fe14d",
   "metadata": {},
   "outputs": [],
   "source": [
    "n='all'\n",
    "if n=='all':\n",
    "    df=pd.concat( [pd.read_json(f'solution_{n}.json') for n in  range(5,13)] )\n",
    "else:\n",
    "    df=pd.read_json(f'solution_{n}.json')"
   ]
  },
  {
   "cell_type": "code",
   "execution_count": 152,
   "id": "4bc9b765-b030-4326-9a78-97e6d9afec53",
   "metadata": {},
   "outputs": [
    {
     "data": {
      "text/plain": [
       "(3467298, 4)"
      ]
     },
     "execution_count": 152,
     "metadata": {},
     "output_type": "execute_result"
    }
   ],
   "source": [
    "df['zs']=df['z'].astype(str)\n",
    "df=df.drop_duplicates('zs').drop('zs',axis='columns').reset_index(drop=True)\n",
    "df.shape"
   ]
  },
  {
   "cell_type": "code",
   "execution_count": 141,
   "id": "13a1f8da-bf73-4822-86da-4de960bb8463",
   "metadata": {},
   "outputs": [
    {
     "data": {
      "text/plain": [
       "(3349333, 4)"
      ]
     },
     "execution_count": 141,
     "metadata": {},
     "output_type": "execute_result"
    }
   ],
   "source": []
  },
  {
   "cell_type": "code",
   "execution_count": 150,
   "id": "65685f41-8c94-4816-b861-2bea9ba94763",
   "metadata": {},
   "outputs": [],
   "source": [
    "df.to_json('solutionsv2.json.gz',orient='records')"
   ]
  },
  {
   "cell_type": "code",
   "execution_count": 142,
   "id": "f2cdb5e2-4310-46d5-ab44-16bdf05e0574",
   "metadata": {},
   "outputs": [],
   "source": [
    "import pandas as pd\n",
    "import numpy as np"
   ]
  },
  {
   "cell_type": "code",
   "execution_count": 143,
   "id": "3cd2734e-9efb-49be-8e7d-a61c09ad0df6",
   "metadata": {},
   "outputs": [],
   "source": [
    "sl=pd.read_json('solutions.json')"
   ]
  },
  {
   "cell_type": "code",
   "execution_count": 144,
   "id": "b2ad68e7-bd37-4fc5-8af7-8fb8f79ab79d",
   "metadata": {},
   "outputs": [
    {
     "data": {
      "text/plain": [
       "(390074, 5)"
      ]
     },
     "execution_count": 144,
     "metadata": {},
     "output_type": "execute_result"
    }
   ],
   "source": [
    "sl.shape"
   ]
  },
  {
   "cell_type": "code",
   "execution_count": 145,
   "id": "8b5ccc14-09ef-4c5f-8d00-c75c858535c1",
   "metadata": {},
   "outputs": [],
   "source": [
    "#sl['zs']=sl['solution'].astype(str)\n",
    "#sl=sl.drop_duplicates('zs').drop('zs',axis='columns').reset_index(drop=True)"
   ]
  },
  {
   "cell_type": "code",
   "execution_count": 146,
   "id": "e92e07ed-ece3-4280-a467-39be99fa7d8b",
   "metadata": {},
   "outputs": [],
   "source": [
    "if n!='all':\n",
    "    sl=sl[sl['n']==n]\n",
    "    sl.shape"
   ]
  },
  {
   "cell_type": "code",
   "execution_count": 147,
   "id": "59a8b845-984a-4fd4-a847-2e77c59065bf",
   "metadata": {},
   "outputs": [
    {
     "name": "stdout",
     "output_type": "stream",
     "text": [
      "Populating the interactive namespace from numpy and matplotlib\n"
     ]
    }
   ],
   "source": [
    "%pylab inline"
   ]
  },
  {
   "cell_type": "code",
   "execution_count": 148,
   "id": "e13f2d17-441c-46f5-83fc-3b8a6d0f4802",
   "metadata": {},
   "outputs": [
    {
     "data": {
      "image/png": "[encoded data removed]",
      "text/plain": [
       "<Figure size 432x288 with 1 Axes>"
      ]
     },
     "metadata": {
      "needs_background": "light"
     },
     "output_type": "display_data"
    }
   ],
   "source": [
    "sl=sl.rename({'solution':'z'},axis='columns')\n",
    "(df['z'].str[-1].abs().value_counts().sort_index()).plot(kind='bar')\n",
    "(sl['z'].str[-1].abs().value_counts().sort_index()).plot(kind='bar',color='y')\n",
    "plt.yscale('log')\n",
    "plt.grid()\n",
    "#plt.xlim(-0.5,8)\n",
    "#plt.ylim(0,600)"
   ]
  },
  {
   "cell_type": "code",
   "execution_count": 149,
   "id": "48313bda-cc21-443c-abf5-4f22d8003293",
   "metadata": {},
   "outputs": [
    {
     "data": {
      "text/html": [
       "<div>\n",
       "<style scoped>\n",
       "    .dataframe tbody tr th:only-of-type {\n",
       "        vertical-align: middle;\n",
       "    }\n",
       "\n",
       "    .dataframe tbody tr th {\n",
       "        vertical-align: top;\n",
       "    }\n",
       "\n",
       "    .dataframe thead th {\n",
       "        text-align: right;\n",
       "    }\n",
       "</style>\n",
       "<table border=\"1\" class=\"dataframe\">\n",
       "  <thead>\n",
       "    <tr style=\"text-align: right;\">\n",
       "      <th></th>\n",
       "      <th>z</th>\n",
       "      <th>zz</th>\n",
       "    </tr>\n",
       "  </thead>\n",
       "  <tbody>\n",
       "    <tr>\n",
       "      <th>3</th>\n",
       "      <td>1</td>\n",
       "      <td>1</td>\n",
       "    </tr>\n",
       "    <tr>\n",
       "      <th>4</th>\n",
       "      <td>2</td>\n",
       "      <td>2</td>\n",
       "    </tr>\n",
       "    <tr>\n",
       "      <th>5</th>\n",
       "      <td>8</td>\n",
       "      <td>8</td>\n",
       "    </tr>\n",
       "    <tr>\n",
       "      <th>6</th>\n",
       "      <td>17</td>\n",
       "      <td>17</td>\n",
       "    </tr>\n",
       "    <tr>\n",
       "      <th>7</th>\n",
       "      <td>35</td>\n",
       "      <td>35</td>\n",
       "    </tr>\n",
       "    <tr>\n",
       "      <th>8</th>\n",
       "      <td>69</td>\n",
       "      <td>72</td>\n",
       "    </tr>\n",
       "    <tr>\n",
       "      <th>9</th>\n",
       "      <td>152</td>\n",
       "      <td>160</td>\n",
       "    </tr>\n",
       "    <tr>\n",
       "      <th>10</th>\n",
       "      <td>262</td>\n",
       "      <td>287</td>\n",
       "    </tr>\n",
       "    <tr>\n",
       "      <th>11</th>\n",
       "      <td>473</td>\n",
       "      <td>536</td>\n",
       "    </tr>\n",
       "    <tr>\n",
       "      <th>12</th>\n",
       "      <td>802</td>\n",
       "      <td>901</td>\n",
       "    </tr>\n",
       "    <tr>\n",
       "      <th>13</th>\n",
       "      <td>1225</td>\n",
       "      <td>1615</td>\n",
       "    </tr>\n",
       "    <tr>\n",
       "      <th>14</th>\n",
       "      <td>1827</td>\n",
       "      <td>2605</td>\n",
       "    </tr>\n",
       "    <tr>\n",
       "      <th>15</th>\n",
       "      <td>2986</td>\n",
       "      <td>4188</td>\n",
       "    </tr>\n",
       "    <tr>\n",
       "      <th>16</th>\n",
       "      <td>3614</td>\n",
       "      <td>6548</td>\n",
       "    </tr>\n",
       "    <tr>\n",
       "      <th>17</th>\n",
       "      <td>5159</td>\n",
       "      <td>9995</td>\n",
       "    </tr>\n",
       "    <tr>\n",
       "      <th>18</th>\n",
       "      <td>7306</td>\n",
       "      <td>14961</td>\n",
       "    </tr>\n",
       "    <tr>\n",
       "      <th>19</th>\n",
       "      <td>8199</td>\n",
       "      <td>21967</td>\n",
       "    </tr>\n",
       "    <tr>\n",
       "      <th>20</th>\n",
       "      <td>9015</td>\n",
       "      <td>31044</td>\n",
       "    </tr>\n",
       "    <tr>\n",
       "      <th>21</th>\n",
       "      <td>15084</td>\n",
       "      <td>44569</td>\n",
       "    </tr>\n",
       "    <tr>\n",
       "      <th>22</th>\n",
       "      <td>14136</td>\n",
       "      <td>60788</td>\n",
       "    </tr>\n",
       "    <tr>\n",
       "      <th>23</th>\n",
       "      <td>18330</td>\n",
       "      <td>81997</td>\n",
       "    </tr>\n",
       "    <tr>\n",
       "      <th>24</th>\n",
       "      <td>24068</td>\n",
       "      <td>112468</td>\n",
       "    </tr>\n",
       "    <tr>\n",
       "      <th>25</th>\n",
       "      <td>18296</td>\n",
       "      <td>147442</td>\n",
       "    </tr>\n",
       "    <tr>\n",
       "      <th>26</th>\n",
       "      <td>24642</td>\n",
       "      <td>186091</td>\n",
       "    </tr>\n",
       "    <tr>\n",
       "      <th>27</th>\n",
       "      <td>33866</td>\n",
       "      <td>247125</td>\n",
       "    </tr>\n",
       "    <tr>\n",
       "      <th>28</th>\n",
       "      <td>32946</td>\n",
       "      <td>304513</td>\n",
       "    </tr>\n",
       "    <tr>\n",
       "      <th>29</th>\n",
       "      <td>35680</td>\n",
       "      <td>371784</td>\n",
       "    </tr>\n",
       "    <tr>\n",
       "      <th>30</th>\n",
       "      <td>40529</td>\n",
       "      <td>491307</td>\n",
       "    </tr>\n",
       "    <tr>\n",
       "      <th>31</th>\n",
       "      <td>44210</td>\n",
       "      <td>557779</td>\n",
       "    </tr>\n",
       "    <tr>\n",
       "      <th>32</th>\n",
       "      <td>47135</td>\n",
       "      <td>648528</td>\n",
       "    </tr>\n",
       "  </tbody>\n",
       "</table>\n",
       "</div>"
      ],
      "text/plain": [
       "        z      zz\n",
       "3       1       1\n",
       "4       2       2\n",
       "5       8       8\n",
       "6      17      17\n",
       "7      35      35\n",
       "8      69      72\n",
       "9     152     160\n",
       "10    262     287\n",
       "11    473     536\n",
       "12    802     901\n",
       "13   1225    1615\n",
       "14   1827    2605\n",
       "15   2986    4188\n",
       "16   3614    6548\n",
       "17   5159    9995\n",
       "18   7306   14961\n",
       "19   8199   21967\n",
       "20   9015   31044\n",
       "21  15084   44569\n",
       "22  14136   60788\n",
       "23  18330   81997\n",
       "24  24068  112468\n",
       "25  18296  147442\n",
       "26  24642  186091\n",
       "27  33866  247125\n",
       "28  32946  304513\n",
       "29  35680  371784\n",
       "30  40529  491307\n",
       "31  44210  557779\n",
       "32  47135  648528"
      ]
     },
     "execution_count": 149,
     "metadata": {},
     "output_type": "execute_result"
    }
   ],
   "source": [
    "rs=pd.DataFrame( sl['z'].str[-1].abs().value_counts().sort_index())\n",
    "rs['zz']=df['z'].str[-1].abs().value_counts().sort_index()\n",
    "rs"
   ]
  },
  {
   "cell_type": "code",
   "execution_count": 157,
   "id": "7ec41989-1838-45fe-b481-7a8aca3eec96",
   "metadata": {},
   "outputs": [
    {
     "data": {
      "image/png": "[encoded data removed]",
      "text/plain": [
       "<Figure size 432x288 with 1 Axes>"
      ]
     },
     "metadata": {
      "needs_background": "light"
     },
     "output_type": "display_data"
    }
   ],
   "source": [
    "plt.plot(df['z'].apply(len),df['z'].str[-1].abs(),'ro')\n",
    "plt.grid()"
   ]
  },
  {
   "cell_type": "code",
   "execution_count": 24,
   "id": "9a07a6bd-0995-45a7-867b-25da3c3c21f4",
   "metadata": {},
   "outputs": [],
   "source": [
    "sl['zmax']=sl['z'].str[-1].abs()"
   ]
  },
  {
   "cell_type": "code",
   "execution_count": 30,
   "id": "7b9dbbfd-4fe5-417f-889f-eaaa624eb363",
   "metadata": {},
   "outputs": [
    {
     "data": {
      "image/png": "[encoded data removed]",
      "text/plain": [
       "<Figure size 432x288 with 1 Axes>"
      ]
     },
     "metadata": {
      "needs_background": "light"
     },
     "output_type": "display_data"
    }
   ],
   "source": []
  },
  {
   "cell_type": "code",
   "execution_count": 27,
   "id": "7cca6304-c39f-4f93-a6af-47ee16666bd5",
   "metadata": {},
   "outputs": [
    {
     "data": {
      "image/png": "[encoded data removed]",
      "text/plain": [
       "<Figure size 432x288 with 1 Axes>"
      ]
     },
     "metadata": {
      "needs_background": "light"
     },
     "output_type": "display_data"
    }
   ],
   "source": [
    "(sl['z'].str[-1].abs().value_counts()).plot(kind='bar')\n",
    "plt.yscale('log')\n",
    "plt.grid()"
   ]
  },
  {
   "cell_type": "code",
   "execution_count": 91,
   "id": "189e1c84-3ae5-493a-8e45-6a8bb021c4a6",
   "metadata": {},
   "outputs": [
    {
     "data": {
      "text/plain": [
       "15"
      ]
     },
     "execution_count": 91,
     "metadata": {},
     "output_type": "execute_result"
    }
   ],
   "source": [
    "(sl['l']+sl['k']).apply(lambda l:np.abs(l).max()).max()"
   ]
  },
  {
   "cell_type": "code",
   "execution_count": 92,
   "id": "bcedf6a0-8d3c-42e1-a7dc-95a1468f4c73",
   "metadata": {},
   "outputs": [
    {
     "data": {
      "text/plain": [
       "(2, 5)"
      ]
     },
     "execution_count": 92,
     "metadata": {},
     "output_type": "execute_result"
    }
   ],
   "source": [
    "sl=sl.rename({'solution':'z'},axis='columns')\n",
    "sl=pd.concat((sl,df[df['n']==7])).reset_index(drop=True)\n",
    "sl['zs']=sl['z'].astype(str)\n",
    "sl=sl.drop_duplicates('zs',keep=False).drop('zs',axis='columns').reset_index(drop=True)\n",
    "sl.shape"
   ]
  },
  {
   "cell_type": "code",
   "execution_count": 93,
   "id": "80a5fa26-6135-42b0-ac64-12315e3288d5",
   "metadata": {},
   "outputs": [
    {
     "data": {
      "text/html": [
       "<div>\n",
       "<style scoped>\n",
       "    .dataframe tbody tr th:only-of-type {\n",
       "        vertical-align: middle;\n",
       "    }\n",
       "\n",
       "    .dataframe tbody tr th {\n",
       "        vertical-align: top;\n",
       "    }\n",
       "\n",
       "    .dataframe thead th {\n",
       "        text-align: right;\n",
       "    }\n",
       "</style>\n",
       "<table border=\"1\" class=\"dataframe\">\n",
       "  <thead>\n",
       "    <tr style=\"text-align: right;\">\n",
       "      <th></th>\n",
       "      <th>l</th>\n",
       "      <th>k</th>\n",
       "      <th>z</th>\n",
       "      <th>gcd</th>\n",
       "      <th>n</th>\n",
       "    </tr>\n",
       "  </thead>\n",
       "  <tbody>\n",
       "    <tr>\n",
       "      <th>0</th>\n",
       "      <td>[-1, 2, -9]</td>\n",
       "      <td>[-1, 3, 2]</td>\n",
       "      <td>[9, 9, 9, -10, -20, -26, 29]</td>\n",
       "      <td>9</td>\n",
       "      <td>7</td>\n",
       "    </tr>\n",
       "    <tr>\n",
       "      <th>1</th>\n",
       "      <td>[3, -3]</td>\n",
       "      <td>[-1, -4, -8]</td>\n",
       "      <td>[7, 11, -23, -23, 27, -31, 32]</td>\n",
       "      <td>10</td>\n",
       "      <td>7</td>\n",
       "    </tr>\n",
       "  </tbody>\n",
       "</table>\n",
       "</div>"
      ],
      "text/plain": [
       "             l             k                               z  gcd  n\n",
       "0  [-1, 2, -9]    [-1, 3, 2]    [9, 9, 9, -10, -20, -26, 29]    9  7\n",
       "1      [3, -3]  [-1, -4, -8]  [7, 11, -23, -23, 27, -31, 32]   10  7"
      ]
     },
     "execution_count": 93,
     "metadata": {},
     "output_type": "execute_result"
    }
   ],
   "source": [
    "sl"
   ]
  },
  {
   "cell_type": "code",
   "execution_count": 40,
   "id": "e0cd68e8-e0b3-46b0-bc8d-198c5d219e35",
   "metadata": {},
   "outputs": [],
   "source": [
    "#sl.to_json('missing_8.json',orient='records')"
   ]
  },
  {
   "cell_type": "code",
   "execution_count": 44,
   "id": "0d7105de-26c3-4b83-a4c4-f164528d1244",
   "metadata": {},
   "outputs": [
    {
     "data": {
      "text/html": [
       "<div>\n",
       "<style scoped>\n",
       "    .dataframe tbody tr th:only-of-type {\n",
       "        vertical-align: middle;\n",
       "    }\n",
       "\n",
       "    .dataframe tbody tr th {\n",
       "        vertical-align: top;\n",
       "    }\n",
       "\n",
       "    .dataframe thead th {\n",
       "        text-align: right;\n",
       "    }\n",
       "</style>\n",
       "<table border=\"1\" class=\"dataframe\">\n",
       "  <thead>\n",
       "    <tr style=\"text-align: right;\">\n",
       "      <th></th>\n",
       "      <th>l</th>\n",
       "      <th>k</th>\n",
       "      <th>z</th>\n",
       "      <th>gcd</th>\n",
       "      <th>n</th>\n",
       "    </tr>\n",
       "  </thead>\n",
       "  <tbody>\n",
       "    <tr>\n",
       "      <th>0</th>\n",
       "      <td>[7, -8, -5]</td>\n",
       "      <td>[-3, -6, -1, -5]</td>\n",
       "      <td>[2, 7, 7, -22, -22, -22, 25, 25]</td>\n",
       "      <td>50</td>\n",
       "      <td>8.0</td>\n",
       "    </tr>\n",
       "    <tr>\n",
       "      <th>1</th>\n",
       "      <td>[4, -7, -3]</td>\n",
       "      <td>[-1, -4, 5, 3]</td>\n",
       "      <td>[9, -13, -16, -16, 19, 19, 25, -27]</td>\n",
       "      <td>28</td>\n",
       "      <td>8.0</td>\n",
       "    </tr>\n",
       "    <tr>\n",
       "      <th>2</th>\n",
       "      <td>[6, -4, 4]</td>\n",
       "      <td>[-6, -3, 6, 0]</td>\n",
       "      <td>[13, -17, -17, 23, 27, 27, -28, -28]</td>\n",
       "      <td>144</td>\n",
       "      <td>8.0</td>\n",
       "    </tr>\n",
       "    <tr>\n",
       "      <th>3</th>\n",
       "      <td>[-12, -3, -12]</td>\n",
       "      <td>[-12, -8, -4]</td>\n",
       "      <td>[10, -13, -19, 22, -23, 27, 27, -31]</td>\n",
       "      <td>1296</td>\n",
       "      <td>8.0</td>\n",
       "    </tr>\n",
       "    <tr>\n",
       "      <th>4</th>\n",
       "      <td>[-9, 8, 5]</td>\n",
       "      <td>[-1, 3, -2, -4]</td>\n",
       "      <td>[9, -13, -19, 27, 29, 31, -32, -32]</td>\n",
       "      <td>6</td>\n",
       "      <td>8.0</td>\n",
       "    </tr>\n",
       "    <tr>\n",
       "      <th>5</th>\n",
       "      <td>[-12, 4, 12]</td>\n",
       "      <td>[-12, -6, 3]</td>\n",
       "      <td>[5, 7, 7, -23, -29, -31, 32, 32]</td>\n",
       "      <td>864</td>\n",
       "      <td>8.0</td>\n",
       "    </tr>\n",
       "    <tr>\n",
       "      <th>6</th>\n",
       "      <td>[14, 7, 14]</td>\n",
       "      <td>[-11, -5, -11]</td>\n",
       "      <td>[11, -14, -14, 20, 23, -29, -29, 32]</td>\n",
       "      <td>294</td>\n",
       "      <td>8.0</td>\n",
       "    </tr>\n",
       "    <tr>\n",
       "      <th>7</th>\n",
       "      <td>[-3, -12, -15]</td>\n",
       "      <td>[-3, -2, 4]</td>\n",
       "      <td>[19, -22, -22, 27, 27, -28, 31, -32]</td>\n",
       "      <td>72</td>\n",
       "      <td>8.0</td>\n",
       "    </tr>\n",
       "  </tbody>\n",
       "</table>\n",
       "</div>"
      ],
      "text/plain": [
       "                l                 k                                     z  \\\n",
       "0     [7, -8, -5]  [-3, -6, -1, -5]      [2, 7, 7, -22, -22, -22, 25, 25]   \n",
       "1     [4, -7, -3]    [-1, -4, 5, 3]   [9, -13, -16, -16, 19, 19, 25, -27]   \n",
       "2      [6, -4, 4]    [-6, -3, 6, 0]  [13, -17, -17, 23, 27, 27, -28, -28]   \n",
       "3  [-12, -3, -12]     [-12, -8, -4]  [10, -13, -19, 22, -23, 27, 27, -31]   \n",
       "4      [-9, 8, 5]   [-1, 3, -2, -4]   [9, -13, -19, 27, 29, 31, -32, -32]   \n",
       "5    [-12, 4, 12]      [-12, -6, 3]      [5, 7, 7, -23, -29, -31, 32, 32]   \n",
       "6     [14, 7, 14]    [-11, -5, -11]  [11, -14, -14, 20, 23, -29, -29, 32]   \n",
       "7  [-3, -12, -15]       [-3, -2, 4]  [19, -22, -22, 27, 27, -28, 31, -32]   \n",
       "\n",
       "    gcd    n  \n",
       "0    50  8.0  \n",
       "1    28  8.0  \n",
       "2   144  8.0  \n",
       "3  1296  8.0  \n",
       "4     6  8.0  \n",
       "5   864  8.0  \n",
       "6   294  8.0  \n",
       "7    72  8.0  "
      ]
     },
     "execution_count": 44,
     "metadata": {},
     "output_type": "execute_result"
    }
   ],
   "source": [
    "sl"
   ]
  },
  {
   "cell_type": "code",
   "execution_count": 54,
   "id": "bb2b1c74-cd5b-4223-a05d-28b724f13cc3",
   "metadata": {},
   "outputs": [
    {
     "data": {
      "text/html": [
       "<div>\n",
       "<style scoped>\n",
       "    .dataframe tbody tr th:only-of-type {\n",
       "        vertical-align: middle;\n",
       "    }\n",
       "\n",
       "    .dataframe tbody tr th {\n",
       "        vertical-align: top;\n",
       "    }\n",
       "\n",
       "    .dataframe thead th {\n",
       "        text-align: right;\n",
       "    }\n",
       "</style>\n",
       "<table border=\"1\" class=\"dataframe\">\n",
       "  <thead>\n",
       "    <tr style=\"text-align: right;\">\n",
       "      <th></th>\n",
       "      <th>l</th>\n",
       "      <th>k</th>\n",
       "      <th>solution</th>\n",
       "      <th>gcd</th>\n",
       "      <th>n</th>\n",
       "    </tr>\n",
       "  </thead>\n",
       "  <tbody>\n",
       "    <tr>\n",
       "      <th>6480</th>\n",
       "      <td>[-3, -12, -15]</td>\n",
       "      <td>[-3, -2, 4]</td>\n",
       "      <td>[19, -22, -22, 27, 27, -28, 31, -32]</td>\n",
       "      <td>72</td>\n",
       "      <td>8</td>\n",
       "    </tr>\n",
       "  </tbody>\n",
       "</table>\n",
       "</div>"
      ],
      "text/plain": [
       "                   l            k                              solution  gcd  \\\n",
       "6480  [-3, -12, -15]  [-3, -2, 4]  [19, -22, -22, 27, 27, -28, 31, -32]   72   \n",
       "\n",
       "      n  \n",
       "6480  8  "
      ]
     },
     "execution_count": 54,
     "metadata": {},
     "output_type": "execute_result"
    }
   ],
   "source": [
    "sl[sl['solution'].astype(str)=='[19, -22, -22, 27, 27, -28, 31, -32]']"
   ]
  },
  {
   "cell_type": "code",
   "execution_count": 36,
   "id": "16672aa5-54a7-4c7b-8013-e78bc5e5e403",
   "metadata": {},
   "outputs": [
    {
     "data": {
      "text/plain": [
       "[-12, -3, -12]"
      ]
     },
     "execution_count": 36,
     "metadata": {},
     "output_type": "execute_result"
    }
   ],
   "source": [
    "sl['l'].iloc[3]"
   ]
  },
  {
   "cell_type": "code",
   "execution_count": 37,
   "id": "e761f177-9756-4a2d-83f6-cff210e27f45",
   "metadata": {},
   "outputs": [
    {
     "data": {
      "text/plain": [
       "{'l': [-12, -3, -12],\n",
       " 'k': [-12, -8, -4],\n",
       " 'z': [10, -13, -19, 22, -23, 27, 27, -31],\n",
       " 'gcd': 1296}"
      ]
     },
     "execution_count": 37,
     "metadata": {},
     "output_type": "execute_result"
    }
   ],
   "source": [
    "get_solution_from_list( (sl['l']+sl['k']).iloc[3] )"
   ]
  },
  {
   "cell_type": "code",
   "execution_count": 32,
   "id": "243d5583-06d4-472d-b807-4d8522784201",
   "metadata": {},
   "outputs": [
    {
     "data": {
      "text/plain": [
       "{}"
      ]
     },
     "execution_count": 32,
     "metadata": {},
     "output_type": "execute_result"
    }
   ],
   "source": [
    "get_solution(sl['l'].iloc[0],sl['k'].iloc[0])"
   ]
  },
  {
   "cell_type": "code",
   "execution_count": 33,
   "id": "899b9c23-e9e5-443b-83ac-053e4e146bbe",
   "metadata": {},
   "outputs": [
    {
     "data": {
      "text/plain": [
       "array([    0,  -100,  -350,  -350,  1100,  1100,  1100, -1250, -1250])"
      ]
     },
     "execution_count": 33,
     "metadata": {},
     "output_type": "execute_result"
    }
   ],
   "source": [
    "z(sl['l'].iloc[0],sl['k'].iloc[0])"
   ]
  },
  {
   "cell_type": "code",
   "execution_count": 29,
   "id": "37987dec-a77c-4c3e-8dac-41d15f88b6b1",
   "metadata": {},
   "outputs": [],
   "source": [
    "#{ tuple(x) for x in sl['z'].to_list() }.difference( { tuple(x) for x in df['z'].to_list() }  )"
   ]
  },
  {
   "cell_type": "code",
   "execution_count": 30,
   "id": "126a5959-a3a2-48c8-8ae4-b2b3f73ad29c",
   "metadata": {},
   "outputs": [],
   "source": [
    "#{ tuple(x) for x in df['z'].to_list() }.difference( { tuple(x) for x in sl['solution'].to_list() }  )"
   ]
  },
  {
   "cell_type": "code",
   "execution_count": 31,
   "id": "518c557a-f5b5-4cf8-bd93-a13cede9d3af",
   "metadata": {},
   "outputs": [
    {
     "data": {
      "text/plain": [
       "32"
      ]
     },
     "execution_count": 31,
     "metadata": {},
     "output_type": "execute_result"
    }
   ],
   "source": [
    "df['z'].apply(lambda l:np.abs(l).max()).max()"
   ]
  },
  {
   "cell_type": "code",
   "execution_count": 37,
   "id": "97ebf8ed-643b-457c-82c2-01951ee5d595",
   "metadata": {},
   "outputs": [
    {
     "data": {
      "text/plain": [
       "True"
      ]
     },
     "execution_count": 37,
     "metadata": {},
     "output_type": "execute_result"
    }
   ],
   "source": [
    "[8, 9, 11, -17, -17, -17, 23]==[8, 9, 11, -17, -17, -17, 23]"
   ]
  },
  {
   "cell_type": "code",
   "execution_count": null,
   "id": "4206492f-aea0-4289-a643-11056505c126",
   "metadata": {},
   "outputs": [],
   "source": [
    "import numpy as np"
   ]
  },
  {
   "cell_type": "code",
   "execution_count": 15,
   "id": "90e3b07f-3b9e-4903-9c53-180965a0d7ba",
   "metadata": {},
   "outputs": [
    {
     "data": {
      "text/plain": [
       "array([[-2, -2],\n",
       "       [-2, -1],\n",
       "       [-2,  0],\n",
       "       [-2,  1],\n",
       "       [-2,  2],\n",
       "       [-1, -2],\n",
       "       [-1, -1],\n",
       "       [-1,  0],\n",
       "       [-1,  1],\n",
       "       [-1,  2],\n",
       "       [ 0, -2],\n",
       "       [ 0, -1],\n",
       "       [ 0,  0],\n",
       "       [ 0,  1],\n",
       "       [ 0,  2],\n",
       "       [ 1, -2],\n",
       "       [ 1, -1],\n",
       "       [ 1,  0],\n",
       "       [ 1,  1],\n",
       "       [ 1,  2],\n",
       "       [ 2, -2],\n",
       "       [ 2, -1],\n",
       "       [ 2,  0],\n",
       "       [ 2,  1],\n",
       "       [ 2,  2]])"
      ]
     },
     "execution_count": 15,
     "metadata": {},
     "output_type": "execute_result"
    }
   ],
   "source": [
    "np.unique( np.random.randint(-2,3,(200,2)),axis=0 )"
   ]
  },
  {
   "cell_type": "code",
   "execution_count": 5,
   "id": "f1976ec9-5177-4513-af2b-cc817ce527dc",
   "metadata": {},
   "outputs": [],
   "source": [
    "import numpy as np"
   ]
  },
  {
   "cell_type": "code",
   "execution_count": 6,
   "id": "30e00014-a410-4914-a757-0fc320a2391f",
   "metadata": {},
   "outputs": [],
   "source": [
    "import pandas as pd"
   ]
  },
  {
   "cell_type": "code",
   "execution_count": 7,
   "id": "8b67f599-2091-46e0-8d9f-29ac7b0e2eac",
   "metadata": {},
   "outputs": [],
   "source": [
    "df=pd.read_json('/home/restrepo/Downloads/solution_6.json')\n",
    "df['zs']=sl['z'].astype(str)\n",
    "sl=sl.drop_duplicates('zs',keep=False).reset_index(drop=True)\n",
    "sl.shape"
   ]
  },
  {
   "cell_type": "code",
   "execution_count": 25,
   "id": "34696c7c-ee33-43ca-8414-7b760cb01c62",
   "metadata": {},
   "outputs": [
    {
     "data": {
      "text/plain": [
       "(111, 1)"
      ]
     },
     "execution_count": 25,
     "metadata": {},
     "output_type": "execute_result"
    }
   ],
   "source": [
    "df[df[6].apply(lambda l: np.abs(l).max())<=32].shape"
   ]
  },
  {
   "cell_type": "code",
   "execution_count": 37,
   "id": "7a7e797f-4e33-4cfc-b76d-1e7a0136f09f",
   "metadata": {},
   "outputs": [],
   "source": [
    "p=Pool()"
   ]
  },
  {
   "cell_type": "code",
   "execution_count": 4,
   "id": "48e4cf70-41a6-4f69-98bf-60b861d25c9f",
   "metadata": {},
   "outputs": [],
   "source": [
    "import pandas as pd"
   ]
  },
  {
   "cell_type": "code",
   "execution_count": 5,
   "id": "dcb3dac3-7b2d-4c5d-adc4-c3035bfd379f",
   "metadata": {},
   "outputs": [],
   "source": [
    "df=pd.concat( [pd.read_json(f'solution_{n}.json') for n in  range(5,13)] )"
   ]
  },
  {
   "cell_type": "code",
   "execution_count": 6,
   "id": "6d03fb3d-13bc-4ead-abca-12e1c9485107",
   "metadata": {},
   "outputs": [
    {
     "data": {
      "text/plain": [
       "(1956284, 4)"
      ]
     },
     "execution_count": 6,
     "metadata": {},
     "output_type": "execute_result"
    }
   ],
   "source": [
    "df.shape"
   ]
  },
  {
   "cell_type": "code",
   "execution_count": 7,
   "id": "c45e77d0-5f53-420d-b4a4-4d42e9b4d71c",
   "metadata": {},
   "outputs": [],
   "source": [
    "df['n']=df['z'].apply(len)\n",
    "\n",
    "df['max']=df['z'].str[-1].abs()\n",
    "\n",
    "df=df.sort_values(['n','max','gcd']).reset_index(drop=True)\n",
    "\n",
    "df['zs']=df['z'].astype(str)\n",
    "df=df.drop_duplicates('zs').drop(['zs','n','max'],axis='columns').reset_index(drop=True)"
   ]
  },
  {
   "cell_type": "code",
   "execution_count": 8,
   "id": "ba295c89-2612-4452-8e75-d6a3102d2543",
   "metadata": {},
   "outputs": [],
   "source": [
    "df['n']=df['z'].apply(len)"
   ]
  },
  {
   "cell_type": "code",
   "execution_count": 9,
   "id": "a0dc130e-f8f0-4e2c-a034-46d44bea63f3",
   "metadata": {},
   "outputs": [],
   "source": [
    "n=8\n",
    "df[df['n']<=n].drop('n',axis='columns').to_json(f'solution_{n}.json',orient='records')"
   ]
  },
  {
   "cell_type": "code",
   "execution_count": 11,
   "id": "0e7189f7-c53d-4978-88b0-3937faa89f5d",
   "metadata": {},
   "outputs": [
    {
     "data": {
      "text/html": [
       "<div>\n",
       "<style scoped>\n",
       "    .dataframe tbody tr th:only-of-type {\n",
       "        vertical-align: middle;\n",
       "    }\n",
       "\n",
       "    .dataframe tbody tr th {\n",
       "        vertical-align: top;\n",
       "    }\n",
       "\n",
       "    .dataframe thead th {\n",
       "        text-align: right;\n",
       "    }\n",
       "</style>\n",
       "<table border=\"1\" class=\"dataframe\">\n",
       "  <thead>\n",
       "    <tr style=\"text-align: right;\">\n",
       "      <th></th>\n",
       "      <th>l</th>\n",
       "      <th>k</th>\n",
       "      <th>z</th>\n",
       "      <th>gcd</th>\n",
       "    </tr>\n",
       "  </thead>\n",
       "  <tbody>\n",
       "    <tr>\n",
       "      <th>0</th>\n",
       "      <td>[8]</td>\n",
       "      <td>[-2, 2]</td>\n",
       "      <td>[1, 5, -7, -8, 9]</td>\n",
       "      <td>32</td>\n",
       "    </tr>\n",
       "    <tr>\n",
       "      <th>1</th>\n",
       "      <td>[2]</td>\n",
       "      <td>[5, -9]</td>\n",
       "      <td>[2, 4, -7, -9, 10]</td>\n",
       "      <td>330</td>\n",
       "    </tr>\n",
       "    <tr>\n",
       "      <th>2</th>\n",
       "      <td>[-5]</td>\n",
       "      <td>[-4, -2]</td>\n",
       "      <td>[1, 14, -17, -18, 20]</td>\n",
       "      <td>8</td>\n",
       "    </tr>\n",
       "    <tr>\n",
       "      <th>3</th>\n",
       "      <td>[-4]</td>\n",
       "      <td>[2, -10]</td>\n",
       "      <td>[5, 6, -12, -21, 22]</td>\n",
       "      <td>32</td>\n",
       "    </tr>\n",
       "    <tr>\n",
       "      <th>4</th>\n",
       "      <td>[0, -3, 3]</td>\n",
       "      <td>[0, -3, 5, 0]</td>\n",
       "      <td>[7, 8, -18, -22, 25]</td>\n",
       "      <td>9</td>\n",
       "    </tr>\n",
       "    <tr>\n",
       "      <th>...</th>\n",
       "      <td>...</td>\n",
       "      <td>...</td>\n",
       "      <td>...</td>\n",
       "      <td>...</td>\n",
       "    </tr>\n",
       "    <tr>\n",
       "      <th>6479</th>\n",
       "      <td>[-6, 15, 6]</td>\n",
       "      <td>[3, 8, -9]</td>\n",
       "      <td>[9, -11, 16, -18, -19, 26, 29, -32]</td>\n",
       "      <td>1035</td>\n",
       "    </tr>\n",
       "    <tr>\n",
       "      <th>6480</th>\n",
       "      <td>[8, -12, 8]</td>\n",
       "      <td>[1, -4, -14]</td>\n",
       "      <td>[1, 8, 13, 17, -22, -23, -26, 32]</td>\n",
       "      <td>1376</td>\n",
       "    </tr>\n",
       "    <tr>\n",
       "      <th>6481</th>\n",
       "      <td>[15, -12, -6]</td>\n",
       "      <td>[15, -15, 10]</td>\n",
       "      <td>[14, -16, -22, 27, 27, -29, 31, -32]</td>\n",
       "      <td>2250</td>\n",
       "    </tr>\n",
       "    <tr>\n",
       "      <th>6482</th>\n",
       "      <td>[-10, 5, -15]</td>\n",
       "      <td>[-10, -12, 12]</td>\n",
       "      <td>[5, 5, 5, -17, -27, -27, 28, 28]</td>\n",
       "      <td>100</td>\n",
       "    </tr>\n",
       "    <tr>\n",
       "      <th>6483</th>\n",
       "      <td>[14, 7, 14]</td>\n",
       "      <td>[-11, -5, -11]</td>\n",
       "      <td>[11, -14, -14, 20, 23, -29, -29, 32]</td>\n",
       "      <td>294</td>\n",
       "    </tr>\n",
       "  </tbody>\n",
       "</table>\n",
       "<p>6484 rows × 4 columns</p>\n",
       "</div>"
      ],
      "text/plain": [
       "                  l               k                                     z  \\\n",
       "0               [8]         [-2, 2]                     [1, 5, -7, -8, 9]   \n",
       "1               [2]         [5, -9]                    [2, 4, -7, -9, 10]   \n",
       "2              [-5]        [-4, -2]                 [1, 14, -17, -18, 20]   \n",
       "3              [-4]        [2, -10]                  [5, 6, -12, -21, 22]   \n",
       "4        [0, -3, 3]   [0, -3, 5, 0]                  [7, 8, -18, -22, 25]   \n",
       "...             ...             ...                                   ...   \n",
       "6479    [-6, 15, 6]      [3, 8, -9]   [9, -11, 16, -18, -19, 26, 29, -32]   \n",
       "6480    [8, -12, 8]    [1, -4, -14]     [1, 8, 13, 17, -22, -23, -26, 32]   \n",
       "6481  [15, -12, -6]   [15, -15, 10]  [14, -16, -22, 27, 27, -29, 31, -32]   \n",
       "6482  [-10, 5, -15]  [-10, -12, 12]      [5, 5, 5, -17, -27, -27, 28, 28]   \n",
       "6483    [14, 7, 14]  [-11, -5, -11]  [11, -14, -14, 20, 23, -29, -29, 32]   \n",
       "\n",
       "       gcd  \n",
       "0       32  \n",
       "1      330  \n",
       "2        8  \n",
       "3       32  \n",
       "4        9  \n",
       "...    ...  \n",
       "6479  1035  \n",
       "6480  1376  \n",
       "6481  2250  \n",
       "6482   100  \n",
       "6483   294  \n",
       "\n",
       "[6484 rows x 4 columns]"
      ]
     },
     "execution_count": 11,
     "metadata": {},
     "output_type": "execute_result"
    }
   ],
   "source": [
    "pd.read_json('solution_8.json')"
   ]
  },
  {
   "cell_type": "code",
   "execution_count": null,
   "id": "1769ddb6-af22-4d36-80e8-05ca161a7a0a",
   "metadata": {},
   "outputs": [],
   "source": []
  }
 ],
 "metadata": {
  "kernelspec": {
   "display_name": "Python 3 (ipykernel)",
   "language": "python",
   "name": "python3"
  },
  "language_info": {
   "codemirror_mode": {
    "name": "ipython",
    "version": 3
   },
   "file_extension": ".py",
   "mimetype": "text/x-python",
   "name": "python",
   "nbconvert_exporter": "python",
   "pygments_lexer": "ipython3",
   "version": "3.9.2"
  }
 },
 "nbformat": 4,
 "nbformat_minor": 5
}
