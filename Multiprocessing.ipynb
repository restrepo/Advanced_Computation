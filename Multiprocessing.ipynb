{
 "cells": [
  {
   "cell_type": "markdown",
   "id": "5357dac0-ffe1-4959-bfc9-f4d25b9723f0",
   "metadata": {},
   "source": [
    "# Multiprocessing"
   ]
  },
  {
   "cell_type": "markdown",
   "id": "836cea07-bc94-4d9d-b973-42d80086aea0",
   "metadata": {},
   "source": [
    "> Multiprocessing refers to the ability of a system to support more than one processor at the same time. Applications in a multiprocessing system are broken to smaller routines that run independently. The operating system allocates these threads to the processors improving performance of the system.\n",
    "\n",
    "https://www.geeksforgeeks.org/multiprocessing-python-set-1/"
   ]
  },
  {
   "cell_type": "markdown",
   "id": "580780e9-6553-4b01-8d2f-1fc0d804c443",
   "metadata": {},
   "source": [
    "## Multiprocessing in Python\n",
    "* `multiprocessing` for a single node with several cores\n",
    "* `joblib` also works in distruibuted nodes\n",
    "* `dask` for arrays in distruibuted nodes"
   ]
  },
  {
   "cell_type": "markdown",
   "id": "92f4784f-7954-442a-ac6e-46ddf0c66428",
   "metadata": {},
   "source": [
    "### `multiprocessing`"
   ]
  },
  {
   "cell_type": "markdown",
   "id": "e04203cb-89fa-400f-aa59-a5d121ea9038",
   "metadata": {},
   "source": [
    "Example\n",
    "\n",
    "See: https://towardsdatascience.com/how-can-data-scientists-use-parallel-processing-17194fffc6d0"
   ]
  },
  {
   "cell_type": "code",
   "execution_count": 1,
   "id": "dc5c99cd-0978-4675-8f02-965139224f6b",
   "metadata": {},
   "outputs": [],
   "source": [
    "from multiprocessing import Pool\n",
    "import time"
   ]
  },
  {
   "cell_type": "code",
   "execution_count": 2,
   "id": "cd79faab-d122-45fb-847b-cdcb392ea745",
   "metadata": {},
   "outputs": [],
   "source": [
    "def f(x):\n",
    "    return x**2"
   ]
  },
  {
   "cell_type": "code",
   "execution_count": 176,
   "id": "def5d2c0-3465-49f2-961d-81c33c4701c3",
   "metadata": {},
   "outputs": [],
   "source": [
    "N=10000000\n",
    "result = [f(x) for x in range(N)]"
   ]
  },
  {
   "cell_type": "code",
   "execution_count": 177,
   "id": "fb8f2a44-42a5-4a4f-bac4-910f10b1fb53",
   "metadata": {},
   "outputs": [],
   "source": [
    "pool = Pool(8)\n",
    "result = pool.map(f,range(N))\n",
    "pool.close()"
   ]
  },
  {
   "cell_type": "markdown",
   "id": "7f576e48-b6ab-4f06-a586-d686dee14811",
   "metadata": {},
   "source": [
    "![img](https://miro.medium.com/max/700/1*n8_M7_0O2Rp3TCuqLDeeHg.png)"
   ]
  },
  {
   "cell_type": "markdown",
   "id": "9de6b532-d314-4131-a842-e78a9cd7a367",
   "metadata": {},
   "source": [
    "## Implementation.\n",
    "* Use the official module to find solutions \n",
    "* filter the chiral ones  with a maximum integer of 32\n",
    "* Build a function suitable for multiprocessing"
   ]
  },
  {
   "cell_type": "code",
   "execution_count": 1,
   "id": "5314977a-7b86-4fc5-976e-9e799a1fdcbf",
   "metadata": {},
   "outputs": [],
   "source": [
    "import numpy as np\n",
    "import itertools\n",
    "import sys\n",
    "from anomalies import anomaly\n",
    "import numpy as np\n",
    "import time\n",
    "import warnings\n",
    "warnings.filterwarnings(\"ignore\")\n",
    "\n",
    "z=anomaly.free\n",
    "\n",
    "def _get_chiral(q,q_max=np.inf):\n",
    "    #Normalize to positive minimum\n",
    "    if 0 in q:\n",
    "        return None,None\n",
    "    if q[0]<0:\n",
    "        q=-q\n",
    "    #Divide by GCD\n",
    "    GCD=np.gcd.reduce(q)\n",
    "    q=(q/GCD).astype(int)\n",
    "    if ( #not 0 in z and \n",
    "          0 not in [ sum(p) for p in itertools.permutations(q, 2) ] and #avoid vector-like and multiple 0's\n",
    "          np.abs(q).max()<=q_max\n",
    "           ):\n",
    "        return q,GCD\n",
    "    else:\n",
    "        return None,None\n",
    "    \n",
    "def get_solution(l,k,zmax=32):\n",
    "    q,gcd=_get_chiral( z(l,k) )\n",
    "    #if q is not None and np.abs(q).max()<=zmax:#\n",
    "    if q is not None and np.abs(q).max()<=zmax:\n",
    "        return {'l':l,'k':k,'z':list(q),'gcd':gcd}\n",
    "    else:\n",
    "        return {}    \n",
    "\n",
    "def get_solution_from_list(lk,zmax=32):\n",
    "    n=len(lk)\n",
    "    l=lk[:n//2]\n",
    "    k=lk[n//2:]\n",
    "    return get_solution(l,k,zmax)\n",
    "\n",
    "\n",
    "assert get_solution_from_list([1,2,1,-2])['z']==[1, 1, 1, -4, -4, 5]"
   ]
  },
  {
   "cell_type": "markdown",
   "id": "7dfd7aa2-3d83-4129-9f5d-fe2f442837a1",
   "metadata": {},
   "source": [
    "Prepare running"
   ]
  },
  {
   "cell_type": "code",
   "execution_count": 93,
   "id": "55775c5b-1b67-475a-b6a6-0af2e3c790c9",
   "metadata": {},
   "outputs": [],
   "source": [
    "d=[{'n':6,'N':4000000,'max':11},\n",
    "   {'n':7,'N':50000000,'max':11},\n",
    "   {'n':8,'N':50000000,'max':10},\n",
    "   {'n':9,'N':50000000,'max':10},\n",
    "   {'n':10,'N':50000000,'max':10},\n",
    "   {'n':11,'N':50000000,'max':10},\n",
    "   {'n':12,'N':50000000,'max':10}]\n",
    "\n",
    "n=7\n",
    "dd=[dd for dd in d if dd.get('n')==n][0]\n",
    "\n",
    "N=dd['N'] \n",
    "mm=n-2\n",
    "\n",
    "Single=False"
   ]
  },
  {
   "cell_type": "markdown",
   "id": "7c9d3385-9578-427b-ad07-310394b4fbb1",
   "metadata": {
    "jp-MarkdownHeadingCollapsed": true,
    "tags": []
   },
   "source": [
    "### Single-processing"
   ]
  },
  {
   "cell_type": "code",
   "execution_count": 55,
   "id": "c3254ced-89f1-49f3-9958-81dcbbec73ae",
   "metadata": {},
   "outputs": [
    {
     "name": "stdout",
     "output_type": "stream",
     "text": [
      "grid →  5.765886068344116 (234256, 4)\n",
      "sols →  14.238781690597534 8750\n"
     ]
    }
   ],
   "source": [
    "if Single:\n",
    "    s=time.time()\n",
    "    ll=np.random.randint(1,dd['max']+1,(N,mm))*(-1)**np.random.randint(0,2,(N,mm))\n",
    "    ll=np.unique(ll, axis=0)\n",
    "    print('grid → ',time.time()-s,ll.shape)\n",
    "\n",
    "    s=time.time()\n",
    "    sls=[get_solution_from_list(lk) for lk in ll if get_solution_from_list(lk)]\n",
    "    print('sols → ',time.time()-s,len(sls))\n",
    "    del ll"
   ]
  },
  {
   "cell_type": "markdown",
   "id": "ac28831c-99a5-4045-8ee4-674b12b63034",
   "metadata": {},
   "source": [
    "### Multiprocessing\n",
    "After\n",
    "```bash\n",
    "pip3 install dask[complete]\n",
    "```"
   ]
  },
  {
   "cell_type": "code",
   "execution_count": 56,
   "id": "7f50b726-885f-40a7-9f3f-acd761bf0919",
   "metadata": {},
   "outputs": [],
   "source": [
    "import dask.array as da\n",
    "import pandas as pd\n",
    "from multiprocessing import Pool"
   ]
  },
  {
   "cell_type": "code",
   "execution_count": 94,
   "id": "c97aa258-01b6-4bfb-a361-9cbc05130ba6",
   "metadata": {},
   "outputs": [
    {
     "name": "stdout",
     "output_type": "stream",
     "text": [
      "grid →  8.404965877532959 (5153315, 5)\n",
      "sols →  118.60717415809631 70792\n"
     ]
    }
   ],
   "source": [
    "#axis parameter not yet implemented in dask: `da.unique` → https://stackoverflow.com/a/53389741/2268280\n",
    "ll=da.random.randint(1,dd['max']+1,(N,mm))*(-1)**da.random.randint(0,2,(N,mm))\n",
    "ll=ll.to_dask_dataframe().drop_duplicates().to_dask_array()\n",
    "\n",
    "s=time.time()\n",
    "ll=ll.compute()\n",
    "print('grid → ',time.time()-s,ll.shape)\n",
    "\n",
    "s=time.time()\n",
    "pool = Pool(8)\n",
    "sls = pool.map(get_solution_from_list,ll)\n",
    "pool.close()\n",
    "del ll\n",
    "\n",
    "sls=[d for d in sls if d]\n",
    "print('sols → ',time.time()-s,len(sls))"
   ]
  },
  {
   "cell_type": "markdown",
   "id": "fe829f5a-28b6-4700-844d-660111a37b98",
   "metadata": {},
   "source": [
    "Unique solutions"
   ]
  },
  {
   "cell_type": "code",
   "execution_count": 95,
   "id": "ce87e29b-bc73-4ace-a394-67b956650a66",
   "metadata": {},
   "outputs": [
    {
     "name": "stdout",
     "output_type": "stream",
     "text": [
      "unique solutions →  (743, 4)\n"
     ]
    }
   ],
   "source": [
    "df=pd.DataFrame(sls)\n",
    "df.sort_values('gcd')\n",
    "df['zs']=df['z'].astype(str)\n",
    "df=df.drop_duplicates('zs').drop('zs',axis='columns').reset_index(drop=True)\n",
    "print('unique solutions → ',df.shape)"
   ]
  },
  {
   "cell_type": "code",
   "execution_count": 16,
   "id": "b9b15da8-57ab-4d71-bb5f-c1d3be88c42e",
   "metadata": {},
   "outputs": [
    {
     "ename": "Exception",
     "evalue": "Appendix",
     "output_type": "error",
     "traceback": [
      "\u001b[0;31m---------------------------------------------------------------------------\u001b[0m",
      "\u001b[0;31mException\u001b[0m                                 Traceback (most recent call last)",
      "\u001b[0;32m/tmp/ipykernel_121696/76697970.py\u001b[0m in \u001b[0;36m<module>\u001b[0;34m\u001b[0m\n\u001b[0;32m----> 1\u001b[0;31m \u001b[0;32mraise\u001b[0m \u001b[0mException\u001b[0m\u001b[0;34m(\u001b[0m\u001b[0;34m'Appendix'\u001b[0m\u001b[0;34m)\u001b[0m\u001b[0;34m\u001b[0m\u001b[0;34m\u001b[0m\u001b[0m\n\u001b[0m",
      "\u001b[0;31mException\u001b[0m: Appendix"
     ]
    }
   ],
   "source": [
    "raise Exception('Appendix')"
   ]
  },
  {
   "cell_type": "markdown",
   "id": "f9747182-8d5f-4027-b463-d2a39dc2723f",
   "metadata": {},
   "source": [
    "Appendix"
   ]
  },
  {
   "cell_type": "markdown",
   "id": "5bfc549d-ba78-4101-9815-3e3ebcd94166",
   "metadata": {
    "tags": []
   },
   "source": [
    "### Check RAM USAGE"
   ]
  },
  {
   "cell_type": "code",
   "execution_count": 91,
   "id": "3d465a9c-aa17-4d07-b665-637d842b9155",
   "metadata": {},
   "outputs": [],
   "source": [
    "d=[{'n':6,'N':4000000,'max':11},\n",
    "   {'n':7,'N':50000000,'max':12},\n",
    "   {'n':8,'N':50000000,'max':10},\n",
    "   {'n':9,'N':50000000,'max':10},\n",
    "   {'n':10,'N':50000000,'max':10},\n",
    "   {'n':11,'N':50000000,'max':10},\n",
    "   {'n':12,'N':50000000,'max':10}]\n",
    "\n",
    "n=7\n",
    "dd=[dd for dd in d if dd.get('n')==n][0]\n",
    "\n",
    "N=dd['N'] \n",
    "mm=n-2\n",
    "\n",
    "Single=False"
   ]
  },
  {
   "cell_type": "code",
   "execution_count": 92,
   "id": "edbbc52d-ce65-4046-a516-31d7232d7d9b",
   "metadata": {},
   "outputs": [
    {
     "name": "stdout",
     "output_type": "stream",
     "text": [
      "0\n",
      "grid →  8.2576162815094 (5153321, 5)\n",
      "1\n",
      "→ 1\n",
      "grid →  9.66360354423523 (311, 5)\n"
     ]
    }
   ],
   "source": [
    "for i in range(2):\n",
    "    print(i)\n",
    "    #axis parameter not yet implemented in dask: `da.unique` → https://stackoverflow.com/a/53389741/2268280\n",
    "    ll=da.random.randint(1,dd['max']+1,(N,mm))*(-1)**da.random.randint(0,2,(N,mm))\n",
    "    ll=ll.to_dask_dataframe().drop_duplicates().to_dask_array()\n",
    "\n",
    "    s=time.time()\n",
    "    ll=ll.compute()\n",
    "    \n",
    "    if i==0:    \n",
    "        f=open('ll.npy','wb')\n",
    "        np.save(f,ll)\n",
    "        f.close()    \n",
    "\n",
    "    if i==1:\n",
    "        print('→',i)\n",
    "        with open('ll.npy', 'rb') as f:\n",
    "            ll_old = np.load(f)\n",
    "        \n",
    "        #WARNING: Not multiprocessing\n",
    "        ll=pd.DataFrame(np.concatenate((ll,np.zeros((1,mm)).astype(int),ll_old))).drop_duplicates(keep=False).reset_index(drop=True)\n",
    "        ll=ll[:ll[(ll[0]==0) &  (ll[mm-1]==0)].index[0]].values    \n",
    "    \n",
    "\n",
    "    print('grid → ',time.time()-s,ll.shape)\n",
    "    \n"
   ]
  },
  {
   "cell_type": "markdown",
   "id": "0f99dfeb-a4d4-470d-a52c-22f31ff8c29a",
   "metadata": {},
   "source": [
    "### Check number of silutions"
   ]
  },
  {
   "cell_type": "code",
   "execution_count": 82,
   "id": "3cd2734e-9efb-49be-8e7d-a61c09ad0df6",
   "metadata": {},
   "outputs": [],
   "source": [
    "sl=pd.read_json('solutions.json')"
   ]
  },
  {
   "cell_type": "code",
   "execution_count": 83,
   "id": "8b5ccc14-09ef-4c5f-8d00-c75c858535c1",
   "metadata": {},
   "outputs": [],
   "source": [
    "#sl['zs']=sl['solution'].astype(str)\n",
    "#sl=sl.drop_duplicates('zs').drop('zs',axis='columns').reset_index(drop=True)"
   ]
  },
  {
   "cell_type": "code",
   "execution_count": 84,
   "id": "e92e07ed-ece3-4280-a467-39be99fa7d8b",
   "metadata": {},
   "outputs": [
    {
     "data": {
      "text/plain": [
       "(761, 5)"
      ]
     },
     "execution_count": 84,
     "metadata": {},
     "output_type": "execute_result"
    }
   ],
   "source": [
    "sl=sl[sl['n']==7]\n",
    "sl.shape"
   ]
  },
  {
   "cell_type": "code",
   "execution_count": 85,
   "id": "189e1c84-3ae5-493a-8e45-6a8bb021c4a6",
   "metadata": {},
   "outputs": [
    {
     "data": {
      "text/plain": [
       "15"
      ]
     },
     "execution_count": 85,
     "metadata": {},
     "output_type": "execute_result"
    }
   ],
   "source": [
    "(sl['l']+sl['k']).apply(lambda l:np.abs(l).max()).max()"
   ]
  },
  {
   "cell_type": "code",
   "execution_count": 92,
   "id": "d8411eea-e095-46db-95e1-a18e73f4d3e7",
   "metadata": {},
   "outputs": [],
   "source": [
    "s=set()"
   ]
  },
  {
   "cell_type": "code",
   "execution_count": null,
   "id": "bcedf6a0-8d3c-42e1-a7dc-95a1468f4c73",
   "metadata": {},
   "outputs": [],
   "source": [
    "s.d"
   ]
  },
  {
   "cell_type": "code",
   "execution_count": 14,
   "id": "37987dec-a77c-4c3e-8dac-41d15f88b6b1",
   "metadata": {},
   "outputs": [
    {
     "data": {
      "text/plain": [
       "set()"
      ]
     },
     "execution_count": 14,
     "metadata": {},
     "output_type": "execute_result"
    }
   ],
   "source": [
    "{ tuple(x) for x in sl['solution'].to_list() }.difference( { tuple(x) for x in df['z'].to_list() }  )"
   ]
  },
  {
   "cell_type": "code",
   "execution_count": 15,
   "id": "126a5959-a3a2-48c8-8ae4-b2b3f73ad29c",
   "metadata": {},
   "outputs": [
    {
     "data": {
      "text/plain": [
       "{(1, 5, 11, -19, -29, 31)}"
      ]
     },
     "execution_count": 15,
     "metadata": {},
     "output_type": "execute_result"
    }
   ],
   "source": [
    "{ tuple(x) for x in df['z'].to_list() }.difference( { tuple(x) for x in sl['solution'].to_list() }  )"
   ]
  },
  {
   "cell_type": "code",
   "execution_count": 99,
   "id": "518c557a-f5b5-4cf8-bd93-a13cede9d3af",
   "metadata": {},
   "outputs": [
    {
     "data": {
      "text/plain": [
       "30"
      ]
     },
     "execution_count": 99,
     "metadata": {},
     "output_type": "execute_result"
    }
   ],
   "source": [
    "df['z'].apply(lambda l:np.abs(l).max()).max()"
   ]
  },
  {
   "cell_type": "code",
   "execution_count": null,
   "id": "97ebf8ed-643b-457c-82c2-01951ee5d595",
   "metadata": {},
   "outputs": [],
   "source": []
  }
 ],
 "metadata": {
  "kernelspec": {
   "display_name": "Python 3 (ipykernel)",
   "language": "python",
   "name": "python3"
  },
  "language_info": {
   "codemirror_mode": {
    "name": "ipython",
    "version": 3
   },
   "file_extension": ".py",
   "mimetype": "text/x-python",
   "name": "python",
   "nbconvert_exporter": "python",
   "pygments_lexer": "ipython3",
   "version": "3.9.2"
  }
 },
 "nbformat": 4,
 "nbformat_minor": 5
}
