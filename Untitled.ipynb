{
 "cells": [
  {
   "cell_type": "markdown",
   "id": "f08d79a6-05a2-4bbb-9102-5fce4f43b63a",
   "metadata": {},
   "source": [
    "As an example of one standard Python package we will use `anomalies`. Instead of install it with `pip`, we will review the commands which are implemented in the automatization process. \n",
    "\n",
    "### Install\n",
    "For that, we must can be clone the corresponding repository in your local computer in some directory at a second level from `$HOME`:\n",
    "```bash\n",
    "mkdir -p prog\n",
    "cd prog\n",
    "#Clone the repo in $HOME/prog\n",
    "git clone https://github.com/restrepo/anomalies.git\n",
    "```\n",
    "From here, be sure that you don't have rhe package already installed\n",
    "```\n",
    "pip3 uninstall anomalies\n",
    "```\n",
    "with `sudo` if necessary.\n",
    "\n",
    "The `setup.py` file in the main directory of the package contains the metadata and requirements of the package. This allow for the installation either at the user-level or the system-level. At the user level it is just\n",
    "```bash\n",
    "python3 setup.py install --user\n",
    "```\n",
    "\n",
    "We can check the installation by returning back to the `$HOME` directory and loading the module from there\n",
    "\n",
    "```python\n",
    "cd\n",
    "python3\n",
    ">>> import anomalies\n",
    ">>> exit()\n",
    "```\n",
    "\n",
    "### Syntax checking with `flake8`\n",
    "By returning back to the directory with the repository\n",
    "```bash\n",
    "cd prog/anomalies\n",
    "```\n",
    "Stop if Python syntax erros or undefined names:\n",
    "```\n",
    "flake8 . --ignore=C901 --select=E9,F63,F7,F82\n",
    "```\n",
    "Warning otherwise:\n",
    "```\n",
    "flake8 . --count --ignore=C901 --exit-zero --max-complexity=10 --max-line-length=127 --statistics\n",
    "```\n",
    "For further info in each rule, check the corresponding URL, e.g, for `E741`:\n",
    "\n",
    "https://www.flake8rules.com/rules/E741.html\n",
    "\n",
    "### Tests\n",
    "```\n",
    "pytest\n",
    "```"
   ]
  },
  {
   "cell_type": "markdown",
   "id": "f06200dc-63e7-4b05-8ca2-3687ccb7e58b",
   "metadata": {},
   "source": [
    "### Dependences in setup.py\n",
    "> See: https://docs.scipy.org/doc/scipy/dev/toolchain.html#numpy\n",
    "```python\n",
    "        install_requires=[\n",
    "            'numpy==1.16.5; python_version==\"3.7\"',\n",
    "            'numpy>=1.16.5; python_version==\"3.8\"',\n",
    "            'numpy>=1.16.5; python_version==\"3.9\"'\n",
    "        ],\n",
    "```"
   ]
  },
  {
   "cell_type": "markdown",
   "id": "3f44e1e7-4fc7-4dee-836e-aae692c23567",
   "metadata": {},
   "source": [
    "## GitHub Actions\n",
    "In `.github/workflows/python-package.yml` this processes are automated by creating ubuntu containes with specific python version with the installed dependences.\n",
    "\n",
    "This processes are triggered after each commit"
   ]
  },
  {
   "cell_type": "markdown",
   "id": "f1121f8d-07b4-4464-9fe0-ef68dfdd6a62",
   "metadata": {},
   "source": [
    "In `.github/workflows/python-publish.yml` the deploy processes in pypi.org are automated by creating the pip package and uploading the pypi official server. For that\n",
    "1. The `setup.py` file must be updated with the proper release number, e.g: `v0.2.5` and the related commit must pass all the previous tests.\n",
    "2. The release must be created in GitHub by clicking in the \"[Releases](https://github.com/restrepo/anomalies/releases)\" link in the main page of the repository. There the button \"Draft new release\" must be clicked on and the proper tag, e.g: `v0.2.5`, must be introduced with the corresponding \"Release title\". The green \"Publish release\" button at the end, will trigger the previous `python-publish.yml` GitHub Action\n",
    "3. Check that the tags in the the `README.md` are updated with a green status and go to https://pypi.org/project/anomalies/ to check that the release have been updated"
   ]
  },
  {
   "cell_type": "code",
   "execution_count": null,
   "id": "2f050c09-0a21-47ff-9ec4-236fdb7b4784",
   "metadata": {},
   "outputs": [],
   "source": []
  }
 ],
 "metadata": {
  "kernelspec": {
   "display_name": "Python 3 (ipykernel)",
   "language": "python",
   "name": "python3"
  },
  "language_info": {
   "codemirror_mode": {
    "name": "ipython",
    "version": 3
   },
   "file_extension": ".py",
   "mimetype": "text/x-python",
   "name": "python",
   "nbconvert_exporter": "python",
   "pygments_lexer": "ipython3",
   "version": "3.9.2"
  }
 },
 "nbformat": 4,
 "nbformat_minor": 5
}
