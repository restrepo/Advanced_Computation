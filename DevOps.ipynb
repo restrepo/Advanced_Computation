{
 "cells": [
  {
   "cell_type": "markdown",
   "id": "23933e50-a731-436f-a387-39e58092010b",
   "metadata": {},
   "source": [
    "# DevOps\n",
    "https://en.wikipedia.org/wiki/DevOps\n",
    "\n",
    "https://dev.to/arnu515/create-a-pypi-pip-package-test-it-and-publish-it-using-github-actions-part-2-1o83"
   ]
  },
  {
   "cell_type": "markdown",
   "id": "8445613c-99fc-48bb-b2f6-0318db3bb56f",
   "metadata": {},
   "source": [
    "Fork https://github.com/restrepo/devops"
   ]
  },
  {
   "cell_type": "markdown",
   "id": "72bf9446-f089-416f-960b-7b38336022d3",
   "metadata": {},
   "source": [
    "In Settings\n",
    "* Webhooks: Add zenodo links to DOIs updates\n",
    "* Secrets → Actions → Actions secrets → `New repository secret`:\n",
    "  * __Name__: TESTPYPI_PASSWORD"
   ]
  },
  {
   "cell_type": "code",
   "execution_count": null,
   "id": "4656ba3b-92bb-48f0-aa89-7f2a9cd91bcc",
   "metadata": {},
   "outputs": [],
   "source": []
  }
 ],
 "metadata": {
  "kernelspec": {
   "display_name": "Python 3 (ipykernel)",
   "language": "python",
   "name": "python3"
  },
  "language_info": {
   "codemirror_mode": {
    "name": "ipython",
    "version": 3
   },
   "file_extension": ".py",
   "mimetype": "text/x-python",
   "name": "python",
   "nbconvert_exporter": "python",
   "pygments_lexer": "ipython3",
   "version": "3.9.2"
  }
 },
 "nbformat": 4,
 "nbformat_minor": 5
}
