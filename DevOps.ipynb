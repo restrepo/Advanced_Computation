{
 "cells": [
  {
   "cell_type": "markdown",
   "id": "23933e50-a731-436f-a387-39e58092010b",
   "metadata": {},
   "source": [
    "# GitHub Actions for DevOps \n",
    "The [automation](https://about.gitlab.com/blog/2022/04/06/can-an-smb-or-start-up-be-too-small-for-a-devops-platform/) of the Development and IT Operations ([DevOps](https://en.wikipedia.org/wiki/DevOps)) implemented here, trough [GitHub actions](https://help.github.com/en/actions/language-and-framework-guides/using-python-with-github-actions), includes three parts\n",
    "1. Python style guide enforcement through `flake8`. Check the `jupyterlab-flake8` extension or the `cornflakes-linter` extension of visual code, to easily fix possible syntax errors. They are activated when the file is saved. The corresponding GitHub action is triggered after each _commit_.\n",
    "2. Testing through `pytest`. The corresponding GitHub action is triggered after each _commit_.\n",
    "3. Creating a pip package and publish it in (test) pypi.  The corresponding GitHub action is triggered after each _release_."
   ]
  },
  {
   "cell_type": "markdown",
   "id": "8445613c-99fc-48bb-b2f6-0318db3bb56f",
   "metadata": {},
   "source": [
    "## Simple template\n",
    "To illustrate this three points we will use a template repository in GitHub with a very simple Python program that just returns the string: `'Hello, World!'`:\n",
    "\n",
    "https://github.com/restrepo/devops\n",
    "\n",
    "From there we will create a pip package with a modified version of the template in the sandbox of https://pypi.org, which is called https://test.pypi.org. An official package could follow the same procedure but by using the official site. \n",
    "\n",
    "Please make a fork of the previous repository and rename it to some name that is not used at all in https://test.pypi.org, for example, for `abc123`\n",
    "\n",
    "https://test.pypi.org/project/abc123/\n",
    "\n",
    "the message: \n",
    "> We looked everywhere but couldn't find this page\n",
    "\n",
    "would appears there. This means that the name will be avalaible for a new (test) pip package under the name `abc123`. I will use that name from now on\n",
    "\n",
    "### (Test) pypi configuration\n",
    "Please creates an account in https://test.pypi.org verified by email, login there, and go to the [\"Account Settings\"](https://test.pypi.org/manage/account/) (from the uper-right link with your chosen username).\n",
    "\n",
    "After the proper authentication, scroll down to the section [API tokens](https://test.pypi.org/manage/account/#api-tokens) and click on the button:\n",
    "<button style=\"background-color:#006dad; border-color:#006dad; color: #fff;\">Add API token</button>. Fill the fields \"Token name\", with `github` for example, and the \"Scope\" with `Entire account (all projects)`, after <button style=\"background-color:#006dad; border-color:#006dad; color: #fff;\">Add token</button>, you must copy it in your clipboard by using the button: <button style=\"background-color:#006dad; border-color:#006dad; color: #fff;\">Copy token</button>."
   ]
  },
  {
   "cell_type": "markdown",
   "id": "72bf9446-f089-416f-960b-7b38336022d3",
   "metadata": {},
   "source": [
    "### GitHub settings\n",
    "In the GitHub page for your repository, that from now on I will use as (please use your own one from now on)\n",
    "\n",
    "https://github.com/MyAccountInGitHub/abc123\n",
    "\n",
    "Go to the Settings tab and from there follow the following navigation:\n",
    "* Secrets → Actions → Actions secrets → <button> New repository secret</button> and fill the fields with:\n",
    "  * __Name__: TESTPYPI_PASSWORD\n",
    "  * __Secret__: Paste your copied token here\n",
    "\n",
    "Be sure that after add the Secret, a confirmation message appears in the top of the page with:\n",
    "> Repository secret added.\n",
    "  \n",
    "Go back  to the GitHub page for your repository at: \n",
    "\n",
    "https://github.com/MyAccountInGitHub/abc123\n",
    "\n",
    "Go to the Actions tab and if necessary, click on: \n",
    "\n",
    "<button style=\"background-color:#2da44e; border-color:rgba(27,31,36,0.15); color: #fff;\">I understand my workflows, go ahead and enable them</button>"
   ]
  },
  {
   "cell_type": "markdown",
   "id": "c0de9420-c36e-4b43-9093-aafcb78989aa",
   "metadata": {},
   "source": [
    "### GitHub Actions\n",
    "#### Python package action\n",
    "In `.github/workflows/python-package.yml` there are the instructions for the creation of [Ubuntu](https://ubuntu.com/) [Docker containers](https://en.wikipedia.org/wiki/Docker_(software)) with the clonned repository, specific python versions, and the required dependencies (see below). Also, there are scripts to run the commands: `flake8` and `pytest` upon the repository. Please check the file for the details.\n",
    "\n",
    "This processes is triggered after each commit. Please edit the `setup.py`  and replace the following lines there\n",
    "```python\n",
    "        # Application name:\n",
    "        name=\"desoper\",\n",
    "\n",
    "        # Version number (initial):\n",
    "        version=\"0.0.3\",\n",
    "```\n",
    "by the new repository name, e,g: `abc123`, and reset the version to 0.0.1:\n",
    "```python\n",
    "        # Application name:\n",
    "        name=\"abc123\",\n",
    "\n",
    "        # Version number (initial):\n",
    "        version=\"0.0.1\",\n",
    "```\n",
    "Change the other metadata with your information. Then, make the commit and check again the Actions tab. \n",
    "Wait until all the processes end up in green and check the Output by clicking in the link with the commit name, e.g \"Update setup.py\".  From there click in the link with the last build preceded by the check green circle, e.g build (3.9). In the log output, expand the arrow with `Lint with flake8`  and the arrow with `Test with pytest`.\n",
    "\n",
    "Also make the following corresponding changes and edits (use your own package name instead of `abc123`) , because the pypi server check for files with the same name or contents:\n",
    "\n",
    "* Inside the directory `desoper` change the name of the file `hello.py`  to `abc123.py`\n",
    "* Edit `abc123.py` and change in line 3 `Hello module` by  `abc123 module`\n",
    "* Edit `__init__.py ` and change:\n",
    "```python\n",
    "from desoper import hello\n",
    "```\n",
    "by\n",
    "```python\n",
    "from desoper import abc123\n",
    "```\n",
    "* Finally, change the first `hello`'s by `abc123` in the `test/test_hello.py` file:\n",
    "    * In line 2: `from desoper import abc123`\n",
    "    * In line 7: `self.assertEqual(abc123.hello(),`.\n",
    "Make the commit again, and wait in the Actions tab until all the processes end up in green for the _last commit_."
   ]
  },
  {
   "cell_type": "markdown",
   "id": "3e199031-54aa-49cc-890b-327fd86eb2a3",
   "metadata": {},
   "source": [
    "#### Python publish action\n",
    "In `.github/workflows/python-publish.yml` the deploy processes in (test.)pypi.org are automated by creating the pip package and uploading it to the (test) pypi official server. \n",
    "This action is trigger when a new release is created. For that, go again to the main page of the repository and click on the link of the left called [__Releases__](https://github.com/MyAccountInGitHub/abc123/releases). Once there, \n",
    "1. Click in the button <button style=\"background-color:#2da44e; border-color:rgba(27,31,36,0.15); color: #fff;\">Create a new release</button>\n",
    "1. Click in the menu \"Choose a tag\" and in fill the field with \"v0.0.1\" and click in the button <button>__+ Create new tag: v0.0.1__ on publish</button>\n",
    "1. Fill the \"Release title\" box with some description, e.g., `Initial release`.\n",
    "1. Click the button <button style=\"background-color:#2da44e; border-color:rgba(27,31,36,0.15); color: #fff;\">Publish release</button>\n",
    "1. Check again the Actions tab and wait for the deploy workflow to finish, and check that it finished in green \n",
    "1. Check that the tags in the the `README.md` are updated with a green status (in an incognito window to avoid the browser cache)\n",
    "1. Go to the https://test.pypi.org/project/abc123/ link again and check for the installation instructions\n",
    "\n",
    "Try to install the package in your local computer\n",
    "```bash\n",
    "$ pip install -i https://test.pypi.org/simple/ abc123\n",
    "```\n",
    "Note that the name of the package [is different](https://stackoverflow.com/a/53346523/2268280) from the _name of the module_, given by the name of the main directory inside the repository. Therefore, to use the module, we need to take into account the corresponding path in the repository:\n",
    "\n",
    "| package name | main directory | module file | function |\n",
    "|:------------:|:--------------:|:-----------:|:--------:|\n",
    "| `abc123`     | `desoper`      | `abc123.py` | `hello()`|\n",
    "|  `package`   | `module`       | `submodule` | `method` |\n",
    "\n",
    "\n",
    "Once the `package` is installed and the `module` is imported, you can use it as `module.submodule.method()`:\n",
    "\n",
    "```bash\n",
    "$ python3\n",
    ">>> import desoper\n",
    ">>> desoper.abc123.hello()\n",
    "'Hello, World!\n",
    "```\n",
    "\n",
    "\n",
    "\n",
    "Note that for new releases,  the `setup.py` file must be updated with the proper release number, e.g: `0.0.2`, and the related commit must pass all the previous tests.\n"
   ]
  },
  {
   "cell_type": "markdown",
   "id": "69e6f807-935f-4ff3-a812-5dea51603391",
   "metadata": {},
   "source": [
    "__Activity__: Update the README.md for the new package name and the new module file name, make a new release and upgrade with local pip installation (Hint: Use the `-U` option at the end of the pip install command)"
   ]
  },
  {
   "cell_type": "markdown",
   "id": "1a03d0e9-bb3b-48bf-b419-ff4c1c7a82d2",
   "metadata": {},
   "source": [
    "__Activity__: Uninstall the package in your local computer"
   ]
  },
  {
   "cell_type": "markdown",
   "id": "b5076b84-eb58-4166-9461-04470a0b7fc8",
   "metadata": {},
   "source": [
    "## Dependencies management\n",
    "For an example with dependencies management inside the `setup.py` file, check the `anomalies` package at https://github.com/restrepo/anomalies, where specific `numpy` versions are required:\n",
    "> See: https://docs.scipy.org/doc/scipy/dev/toolchain.html#numpy\n",
    "```python\n",
    "        install_requires=[\n",
    "            'numpy==1.16.5; python_version==\"3.7\"',\n",
    "            'numpy>=1.16.5; python_version==\"3.8\"',\n",
    "            'numpy>=1.16.5; python_version==\"3.9\"'\n",
    "        ],\n",
    "```\n"
   ]
  },
  {
   "cell_type": "markdown",
   "id": "e729d429-3a9d-4997-8064-313a61d452b8",
   "metadata": {
    "tags": []
   },
   "source": [
    "## Local management of DevOps\n",
    "\n",
    "### Install\n",
    "For that, we must can be clone the corresponding repository in your local computer in some directory at a second level from `$HOME`:\n",
    "```bash\n",
    "mkdir -p prog\n",
    "cd prog\n",
    "#Clone the repo in $HOME/prog\n",
    "git clone https://github.com/restrepo/anomalies.git\n",
    "```\n",
    "From here, be sure that you don't have rhe package already installed\n",
    "```\n",
    "pip3 uninstall anomalies\n",
    "```\n",
    "with `sudo` if necessary.\n",
    "\n",
    "The `setup.py` file in the main directory of the package contains the metadata and requirements of the package. This allow for the installation either at the user-level or the system-level. At the user level it is just\n",
    "```bash\n",
    "python3 setup.py install --user\n",
    "```\n",
    "\n",
    "We can check the installation by returning back to the `$HOME` directory and loading the module from there\n",
    "\n",
    "```python\n",
    "cd\n",
    "python3\n",
    ">>> import anomalies\n",
    ">>> exit()\n",
    "```\n",
    "\n",
    "### Syntax checking with `flake8`\n",
    "By returning back to the directory with the repository\n",
    "```bash\n",
    "cd prog/anomalies\n",
    "```\n",
    "Stop if Python syntax errors or undefined names:\n",
    "```\n",
    "flake8 . --ignore=C901 --select=E9,F63,F7,F82\n",
    "```\n",
    "Warning otherwise:\n",
    "```\n",
    "flake8 . --count --ignore=C901 --exit-zero --max-complexity=10 --max-line-length=127 --statistics\n",
    "```\n",
    "For further info in each rule, check the corresponding URL, e.g, for `E741`:\n",
    "\n",
    "https://www.flake8rules.com/rules/E741.html\n",
    "\n",
    "To easily fix the syntax errors you can use visual code with the extension `cornflakes-linter`. Whenever you save the file, a highlighter will point out to `flask8` syntax error messages.\n",
    "\n",
    "There is also a program that can make all this automatically:\n",
    "\n",
    "* https://pypi.org/project/black/\n",
    "* https://github.com/google/yapf\n",
    "\n",
    "### Tests\n",
    "At the first level of the repository, use\n",
    "```\n",
    "pytest\n",
    "```"
   ]
  },
  {
   "cell_type": "markdown",
   "id": "ae071d99-bade-4704-9abc-0ed21c1eac33",
   "metadata": {},
   "source": [
    "## Command line program with options and arguments\n",
    "The recommended parser for command-line Python scripts with positional and optional arguments is `argparser`.\n",
    "\n",
    "In general, a command line program have the following structure, where the brackets are optionally choosen by the user and well documented in the help of the program\n",
    "```bash\n",
    "$ program [OPTION] [ARGUMENT] mandatory\n",
    "```\n",
    "where\n",
    "posibles OPTION's are\n",
    "* `-o`\n",
    "* `-O`\n",
    "> with single hyphen for single letter option, or\n",
    "* `--option`\n",
    "> with double hyphen for full word option name.\n",
    "\n",
    "While, the posible ARGUMENT's are in the form\n",
    "* `--argument1=something`\n",
    "* `--argument2[=DEFAULT]`\n",
    "> always with double hyphen, '`--`', and some times with a DEFAULT value\n",
    "\n",
    "Single letter options can be combined as `-oO`.\n",
    "\n",
    "__Examples:__\n",
    "Check \n",
    "```bash\n",
    "$ls --help\n",
    "```\n",
    "in a terminal:\n",
    "```\n",
    "Usage: ls [OPTION]... [FILE]...\n",
    "List information about the FILEs (the current directory by default).\n",
    "Sort entries alphabetically if none of -cftuvSUX nor --sort is specified.\n",
    "\n",
    "Mandatory arguments to long options are mandatory for short options too.\n",
    "  -a, --all                  do not ignore entries starting with .\n",
    "  ...\n",
    "      --author               with -l, print the author of each file\n",
    "  ...    \n",
    "      --block-size=SIZE      with -l, scale sizes by SIZE when printing them;\n",
    "                               e.g., '--block-size=M'; see SIZE format below\n",
    "  ...\n",
    "     --color[=WHEN]         colorize the output; WHEN can be 'always' (default\n",
    "                               if omitted), 'auto', or 'never'; more info below\n",
    "  ...\n",
    "```\n",
    "See:\n",
    "* https://docs.python.org/3/howto/argparse.html\n",
    "* https://towardsdatascience.com/a-simple-guide-to-command-line-arguments-with-argparse-6824c30ab1c3"
   ]
  },
  {
   "cell_type": "markdown",
   "id": "1b69d48e-7af9-4649-aac4-aa59608f1863",
   "metadata": {},
   "source": [
    "### `argparse` implementation\n",
    "* Creates one script, `hello`, in the bin directory of your repository which generates the following help:\n",
    "```bash\n",
    "$ ./hello --help\n",
    "```\n",
    "```\n",
    "usage: hello [-h] [-S] [--extra_message EXTRA_MESSAGE] [file]\n",
    "\n",
    "Exclamative salutation to the World\n",
    "\n",
    "positional arguments:\n",
    "  file                  Optional output file\n",
    "\n",
    "optional arguments:\n",
    "  -h, --help            show this help message and exit\n",
    "  -S, --Spanish         Change language to Spanish\n",
    "  --extra_message EXTRA_MESSAGE\n",
    "                        Extra message to be added to initial string\n",
    "```\n",
    "* Add the `script` option with the list `[bin/hello]`, to the setup.py file \n",
    "\n",
    "Prepare your answer by following the steps:\n",
    "1. [Here](https://github.com/MyAccountInGitHub/abc123/commit/0f7ed8e0fff495c3d19d024d403b26ef9c9293b6)\n",
    "1. [Here](https://github.com/MyAccountInGitHub/abc123/commit/b7c6bb5e83bdad8c03d4350da6744a3866c8a01e)\n",
    "1. [And here](https://github.com/MyAccountInGitHub/abc123/commit/08d32298bdf67f277982931f21aa64e2b9d6a462)\n",
    "\n",
    "Make a new release which publish the new version of the pip package. Update or install the package in your local computer, e.g:\n",
    "```bash\n",
    "pip install -i https://test.pypi.org/simple/ abc123 -U\n",
    "```\n",
    "\n",
    "and check that the script is properly installed and working:"
   ]
  },
  {
   "cell_type": "code",
   "execution_count": 3,
   "id": "7f04b0b1-3235-4fb5-bad2-318bf168a69a",
   "metadata": {},
   "outputs": [
    {
     "name": "stdout",
     "output_type": "stream",
     "text": [
      "Hola, ¡Mundo! Cruel y despiadado\n"
     ]
    }
   ],
   "source": [
    "! hello -S --extra_message='Cruel y Despiadado'"
   ]
  },
  {
   "cell_type": "markdown",
   "id": "362ec100-f01a-406d-9145-37f23dba5a4e",
   "metadata": {},
   "source": [
    "### Conclusion\n",
    "For the full implementation check the repository at:\n",
    "\n",
    "https://github.com/MyAccountInGitHub/abc123\n",
    "\n",
    "This can be used as template for any new project. The corresponding test pypi package is at:\n",
    "\n",
    "https://test.pypi.org/project/abc123/"
   ]
  },
  {
   "cell_type": "markdown",
   "id": "5dfc3cf4-524f-4cb9-93f0-94531f9bcb30",
   "metadata": {},
   "source": [
    "## Exam 1\n",
    "\n",
    "The current implementation of the program to find integer lists with linear and cubic add to zero explained in\n",
    "the Chapter [Multiprocessing](https://restrepo.github.io/Advanced_Computation/Multiprocessing.html),\n",
    "we will search non vectorlike solutions with a fix number of integers, $z_i$, starting with \n",
    "$n=5$. "
   ]
  },
  {
   "cell_type": "markdown",
   "id": "21b257e4-770b-4b74-949d-c70528dd59c6",
   "metadata": {},
   "source": [
    "For that, it must use two lists of integers, $l$ and $k$, which are build from a single list of $n-2$ ar\n",
    "bitrary integers, to be generated either from a grid or from a random scan."
   ]
  },
  {
   "cell_type": "markdown",
   "id": "5f95f543-f39e-4ca5-b708-8096aacd9480",
   "metadata": {},
   "source": [
    "The maximum in absolute value of the list $z$, $z_{\\rm  max}$, can be obtained from a much lesser maximu\n",
    "m in absolute value of the lists $l$ and $k$:\n",
    "$m={\\rm max}(|l|,|k|).$\n",
    "\n",
    "\n",
    "\n",
    "For a given $z_{\\rm  max}$, we can find the optimal $m$ by increasing  it in one unit and checking that \n",
    "not extra solutions are found.\n",
    "\n",
    "In the algorithm, we will generate a list of $n-2$-integer lists, ${\\bf L}$, with elements between $-m$ \n",
    "and $m$. Therefore, the list ${\\bf L}$ will contain the following number of $n-2$ lists:\n",
    "\n",
    "$$\n",
    "N_{\\rm unique}=(2m+1)^{(n-2)}\\,.\n",
    "$$\n",
    "\n",
    "From each one, we will extract the $l$ and $k$ input list of dimensions ${\\rm dim}\\, l=(n-2)//2$ and ${\n",
    "\\rm dim}\\,  k=n-2-{\\rm dim}\\, l$, where $//$ means the integer division in Python\n",
    "\n",
    "Because for large $n$ this list will no fit in RAM, we choose to generate $i$-lists ${\\bf L}$ from a random scan, each one with $N$ lists of $n-2$ integers from $-m$ to $m$. The process will be repeated from \n",
    "$i=0$ until $i=i_{\\rm max}$. Note that $N\\gg N_{\\rm unique}$ to guarantee that the full grid is obtained\n",
    " when $i_{\\rm max}=0$"
   ]
  },
  {
   "cell_type": "markdown",
   "id": "c9d7c557-55ab-4c32-905b-4af59071ff79",
   "metadata": {},
   "source": [
    "### Instructions\n",
    "Upload a package in test.pypi.org which contains\n",
    "\n",
    "A) The actions for `flake8` and `pytest` with the release passed as green in the README.md buttons, along with the action for deploy the package in test.pypi.org. Remember that the the dependences need to be declared in the `setup.py` as explained [before](https://restrepo.github.io/Advanced_Computation/DevOps.html#dependencies-management).\n",
    "\n",
    "B) Contains a script with some program name, with at least the following options and arguments implemented with `argparse` of Python, and that includes a good documentation for the `--help` option\n",
    "```bash\n",
    "programname --N=500000 --m=9 --zmax=30 --imax=0 --output_name='solution' 6\n",
    "```"
   ]
  },
  {
   "cell_type": "markdown",
   "id": "50c2352b-d7c0-4c2b-b453-f6f8cd7adc6d",
   "metadata": {},
   "source": [
    "It will generate a file with the name `solution_6.json` with the solutions for $n=6$ and $z_{\\rm max}=30$ from a single list ($i_{\\rm max}=0$)  of lists $l$ and $k$ in the range between $-9$ to $9$. the JSON must have at least the columns $l$, $k$, $z$ with the solutions, and the GCD.\n",
    "\n",
    "C) The tests to be passed with `pytest` must include at least the following for $z_{\\rm max}=30$, with the optimal $N$ and $m$:\n",
    "* Test that the number of solutions for $n=5$ is 11\n",
    "* Test that the number of solutions for $n=6$ is 112\n",
    "\n",
    "D) Includes ONLY the link to the  test.pypi.org in the Google Classroom submission"
   ]
  },
  {
   "cell_type": "markdown",
   "id": "327bacda-a306-411a-9375-388de8dbc66f",
   "metadata": {},
   "source": [
    "## Apendix"
   ]
  },
  {
   "cell_type": "markdown",
   "id": "6fda11c5-c38b-4153-90b0-16d3dc1b7089",
   "metadata": {
    "tags": []
   },
   "source": [
    " ## Remote GIT"
   ]
  },
  {
   "cell_type": "markdown",
   "id": "4be2e427-5435-4a75-bf78-7b900554fde7",
   "metadata": {
    "tags": []
   },
   "source": [
    "## `ssh keys`\n",
    "```bash\n",
    "$ ssh-keygen\n",
    "<ENTER>...\n",
    "```\n",
    "Copy the output of\n",
    "```$\n",
    "$ cat /home/usuario/.ssh/id_rsa.pub\n",
    "```\n",
    "to the clipboard\n",
    "\n",
    "Now go to your general user Settings in GitHub → \"SSH and GPG keys\"  and click on \n",
    "<button style=\"color:#ffffff; background-color:#2da44e\"> New SSH Key </button>\n",
    "\n",
    "Paste the clipboard contents into the field \"__Key__\" and left the other empty (the will autofill with the key info)\n",
    "\n",
    "Clone any repository with the link in <button style=\"color:#ffffff; background-color:#2da44e\"> <> Code </button> → SSH, e.g\n",
    "    \n",
    "```bash\n",
    "$ git clone git@github.com:MyAccountInGitHub/abc123.git\n",
    "```"
   ]
  },
  {
   "cell_type": "markdown",
   "id": "558e6f6f-9b9b-4d01-8b5d-251895825f3c",
   "metadata": {},
   "source": [
    "## Acknowledgments\n",
    "Based in the GitHub repository:\n",
    "\n",
    "https://github.com/colav/Hunahpu/\n",
    "\n",
    "## References\n",
    "[1] https://en.wikipedia.org/wiki/DevOps\n",
    "\n",
    "[2] https://dev.to/arnu515/create-a-pypi-pip-package-test-it-and-publish-it-using-github-actions-part-2-1o83\n",
    "\n",
    "[3] https://about.gitlab.com/blog/2022/04/06/can-an-smb-or-start-up-be-too-small-for-a-devops-platform/"
   ]
  },
  {
   "cell_type": "code",
   "execution_count": null,
   "id": "12a68646-ee23-44d2-862a-f6ab774042b8",
   "metadata": {},
   "outputs": [],
   "source": []
  }
 ],
 "metadata": {
  "kernelspec": {
   "display_name": "Python 3 (ipykernel)",
   "language": "python",
   "name": "python3"
  },
  "language_info": {
   "codemirror_mode": {
    "name": "ipython",
    "version": 3
   },
   "file_extension": ".py",
   "mimetype": "text/x-python",
   "name": "python",
   "nbconvert_exporter": "python",
   "pygments_lexer": "ipython3",
   "version": "3.9.2"
  }
 },
 "nbformat": 4,
 "nbformat_minor": 5
}
