{
 "cells": [
  {
   "cell_type": "markdown",
   "id": "f8263036-b679-4a4f-a69b-9f8b488fd7d7",
   "metadata": {},
   "source": [
    "## Collaborative code writting"
   ]
  },
  {
   "cell_type": "markdown",
   "id": "4cb7da64-4696-484a-8b1e-d2c0f51170ae",
   "metadata": {},
   "source": [
    "## Fork the repository: \n",
    "Fork the repository https://github.com/restrepo/solutions\n",
    "## Clone the repository in the GitHub cloud\n",
    "Go to the user menu in the GitHub page and follow the link \"Your codespaces\"\n",
    "\n",
    "Creates a <button>New codespace</button> and go there.\n",
    "\n",
    "From the terminal run the code, and make pull to your repository:\n",
    "```bash\n",
    "git pull #update the repo\n",
    "# make your changes...\n",
    "git commit -am 'my changes'\n",
    "git push\n",
    "```\n",
    "## Send pull requests to the official repo\n",
    "See https://docs.github.com/en/pull-requests/collaborating-with-pull-requests/proposing-changes-to-your-work-with-pull-requests/creating-a-pull-request\n",
    "## Sync your fork with the official repository: \n",
    "See https://docs.github.com/en/pull-requests/collaborating-with-pull-requests/working-with-forks/syncing-a-fork\n"
   ]
  },
  {
   "cell_type": "code",
   "execution_count": null,
   "id": "ea789f78-abd5-4818-870b-112c853c8694",
   "metadata": {},
   "outputs": [],
   "source": []
  }
 ],
 "metadata": {
  "kernelspec": {
   "display_name": "Python 3 (ipykernel)",
   "language": "python",
   "name": "python3"
  },
  "language_info": {
   "codemirror_mode": {
    "name": "ipython",
    "version": 3
   },
   "file_extension": ".py",
   "mimetype": "text/x-python",
   "name": "python",
   "nbconvert_exporter": "python",
   "pygments_lexer": "ipython3",
   "version": "3.9.2"
  }
 },
 "nbformat": 4,
 "nbformat_minor": 5
}
