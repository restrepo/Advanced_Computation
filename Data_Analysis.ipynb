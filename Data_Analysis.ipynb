{
 "cells": [
  {
   "cell_type": "markdown",
   "id": "2cf03b5f-6f5f-4607-b0bc-4603b5217b12",
   "metadata": {},
   "source": [
    "# Data Analysis"
   ]
  },
  {
   "cell_type": "markdown",
   "id": "546374fd-35ad-4edf-bd12-7a93b9ebc168",
   "metadata": {
    "tags": []
   },
   "source": [
    "## Solutions object\n",
    "Obtain the Hidden Sector from: https://zenodo.org/record/5526707#.YzwIANJBzeQ and add the missing the column `Hidden Sector` of the following data scheme\n",
    "\n",
    "![img](./squeme.svg)\n",
    "\n",
    "### Example of entry"
   ]
  },
  {
   "cell_type": "code",
   "execution_count": 2,
   "id": "4c8e4e30-7e06-4eb7-87dc-2ec66a4da634",
   "metadata": {},
   "outputs": [],
   "source": [
    "from IPython.display import JSON \n",
    "import pandas as pd"
   ]
  },
  {
   "cell_type": "code",
   "execution_count": null,
   "id": "5435d361-7da1-474f-be82-a80dd09f6ada",
   "metadata": {},
   "outputs": [
    {
     "data": {
      "application/json": {
       "A": 1
      },
      "text/plain": [
       "<IPython.core.display.JSON object>"
      ]
     },
     "execution_count": 2,
     "metadata": {
      "application/json": {
       "expanded": false,
       "root": "root"
      }
     },
     "output_type": "execute_result"
    }
   ],
   "source": [
    "JSON({'A':1})"
   ]
  },
  {
   "cell_type": "code",
   "execution_count": null,
   "id": "b20efcf5-186a-4e1c-ba06-f261c49fb7af",
   "metadata": {},
   "outputs": [
    {
     "data": {
      "application/json": "",
      "text/plain": [
       "<IPython.core.display.JSON object>"
      ]
     },
     "execution_count": 3,
     "metadata": {
      "application/json": {
       "expanded": false,
       "root": "root"
      }
     },
     "output_type": "execute_result"
    }
   ],
   "source": [
    "JSON(([{'l':[1,3],'k':[2],\n",
    "       'solution':[1,2,-3,4,5],'gcd':1,'n':5,\n",
    "      'hidden':[{'ψ':[(1,5),(2,4),(-3,)],\n",
    "                 'S':6}\n",
    "               ]\n",
    "             }] \n",
    "            )\n",
    "    )\n"
   ]
  },
  {
   "cell_type": "code",
   "execution_count": 3,
   "id": "7f44a6e1-945a-4967-af93-74f4f1f23e50",
   "metadata": {},
   "outputs": [],
   "source": [
    "import pandas as pd"
   ]
  },
  {
   "cell_type": "code",
   "execution_count": null,
   "id": "1d119ee0-4709-44b6-853e-afd9fdfcdc0b",
   "metadata": {},
   "outputs": [
    {
     "data": {
      "text/html": [
       "<div>\n",
       "<style scoped>\n",
       "    .dataframe tbody tr th:only-of-type {\n",
       "        vertical-align: middle;\n",
       "    }\n",
       "\n",
       "    .dataframe tbody tr th {\n",
       "        vertical-align: top;\n",
       "    }\n",
       "\n",
       "    .dataframe thead th {\n",
       "        text-align: right;\n",
       "    }\n",
       "</style>\n",
       "<table border=\"1\" class=\"dataframe\">\n",
       "  <thead>\n",
       "    <tr style=\"text-align: right;\">\n",
       "      <th></th>\n",
       "      <th>l</th>\n",
       "      <th>k</th>\n",
       "      <th>solution</th>\n",
       "      <th>gcd</th>\n",
       "      <th>n</th>\n",
       "      <th>hidden</th>\n",
       "    </tr>\n",
       "  </thead>\n",
       "  <tbody>\n",
       "    <tr>\n",
       "      <th>0</th>\n",
       "      <td>[1, 3]</td>\n",
       "      <td>[2]</td>\n",
       "      <td>[1, 2, -3, 4, 5]</td>\n",
       "      <td>1</td>\n",
       "      <td>5</td>\n",
       "      <td>[{'ψ': [(1, 5), (2, 4), (-3,)], 'S': 6}]</td>\n",
       "    </tr>\n",
       "  </tbody>\n",
       "</table>\n",
       "</div>"
      ],
      "text/plain": [
       "        l    k          solution  gcd  n  \\\n",
       "0  [1, 3]  [2]  [1, 2, -3, 4, 5]    1  5   \n",
       "\n",
       "                                     hidden  \n",
       "0  [{'ψ': [(1, 5), (2, 4), (-3,)], 'S': 6}]  "
      ]
     },
     "execution_count": 5,
     "metadata": {},
     "output_type": "execute_result"
    }
   ],
   "source": [
    "pd.DataFrame([{'l':[1,3],'k':[2],\n",
    "       'solution':[1,2,-3,4,5],'gcd':1,'n':5,\n",
    "      'hidden':[{'ψ':[(1,5),(2,4),(-3,)],\n",
    "                 'S':6}\n",
    "               ]\n",
    "             }] \n",
    "            )"
   ]
  },
  {
   "cell_type": "markdown",
   "id": "6342f13a-2c97-4245-a2f9-d35fceac4470",
   "metadata": {},
   "source": [
    "### Read the full dataset"
   ]
  },
  {
   "cell_type": "code",
   "execution_count": 86,
   "id": "b1afbaab-3d47-4ade-a3aa-ba92e2f6714e",
   "metadata": {},
   "outputs": [],
   "source": [
    "df=pd.read_json('https://zenodo.org/record/5526707/files/solutions.json?download=1')"
   ]
  },
  {
   "cell_type": "code",
   "execution_count": 87,
   "id": "cad31295-eb83-40ee-8f72-f92960142df1",
   "metadata": {},
   "outputs": [
    {
     "data": {
      "text/plain": [
       "(16862, 6)"
      ]
     },
     "execution_count": 87,
     "metadata": {},
     "output_type": "execute_result"
    }
   ],
   "source": [
    "df['zmax']=df['solution'].str[-1].abs()\n",
    "df=df.sort_values(['n','zmax']).reset_index(drop=True)\n",
    "\n",
    "#How many solutions with n=12 and z_max <= 20?\n",
    "df[ (df['n']==12) & (df['zmax']<=20) ].shape"
   ]
  },
  {
   "cell_type": "markdown",
   "id": "a042051b-e918-4b22-924d-d51da6574bc2",
   "metadata": {},
   "source": [
    "### Add the new column with the list of hidden sectors"
   ]
  },
  {
   "cell_type": "code",
   "execution_count": null,
   "id": "9589ebae-3415-4b66-b2cc-202d9d0384ec",
   "metadata": {},
   "outputs": [
    {
     "data": {
      "text/plain": [
       "[(1, 1), (1, 2), (2, 2)]"
      ]
     },
     "execution_count": 6,
     "metadata": {},
     "output_type": "execute_result"
    }
   ],
   "source": [
    "list(itertools.combinations_with_replacement([1,2],2))"
   ]
  },
  {
   "cell_type": "code",
   "execution_count": null,
   "id": "a043af47",
   "metadata": {},
   "outputs": [],
   "source": [
    "l=[3, 5, -8, 9, -10, -14, 15]"
   ]
  },
  {
   "cell_type": "code",
   "execution_count": 5,
   "id": "14a744f8",
   "metadata": {},
   "outputs": [],
   "source": [
    "import itertools\n",
    "import math as mh\n",
    "def get_hidden_sector(l):\n",
    "    '''\n",
    "    Extract massive pairs without massles fermions from l\n",
    "    '''\n",
    "    sltns=[]\n",
    "    ps = list(set(itertools.combinations_with_replacement(l,2)))\n",
    "    Ss = set(abs(sum(x)) for x in ps)\n",
    "    # capture all the possible scalar, Ss, values\n",
    "    for s in set(Ss):\n",
    "        msv = [p for p in ps if abs(sum(p))==s]\n",
    "            \n",
    "        #msv=list(set(msv))\n",
    "        # flatten the list\n",
    "        lmsv=[x for sublist in msv for x in sublist]\n",
    "        #SAFE Discard uneven Dirac pairs when the greater count is not Majorana and has wrong generation count\n",
    "        if [(x,y) for x,y in msv if x!=y and \n",
    "                  ( (l.count(x)<l.count(y) and (abs(sum((y,y)))!=s and l.count(y)!=lmsv.count(y)) )  or\n",
    "                    (l.count(x)>l.count(y) and (abs(sum((x,x)))!=s and l.count(x)!=lmsv.count(x)) )\n",
    "            )]:\n",
    "            continue\n",
    "        # SPECIAL CASE: check for Dirac triplets \n",
    "        diracs=[x for x in l if abs(2*x)!=s]\n",
    "        # Extract [x,y,z] Dirac triplets with z in the intersection → forming pairs (x,z) and (y,z)\n",
    "        intersections= [list(set(list(p)+list(q)))  for p in msv for q in msv \n",
    "                                                if p!=q and set(p).intersection(set(q)) # [x,y,z] guaranteed\n",
    "                                                and  set(list(p)+list(q)).issubset(set(diracs)) \n",
    "                                                ]\n",
    "        intersection_triplets=[]\n",
    "        [intersection_triplets.append([x,y,z]) for x,y,z in intersections \n",
    "           if [x,y,z] not in intersection_triplets and diracs.count(x)==diracs.count(y)==diracs.count(z)]\n",
    "        # Extract Dirac doublets with z in the intersection →  (x,z) and (y,z) but with (w,x), etc.\n",
    "        intersection_doblets=[p for p in msv for triplet in intersection_triplets if set(triplet).intersection(set(p)) ]\n",
    "        # Rank 2 triplet: For each [x,y,z] with z in the intersection: only (x,z) and (y,z) are in msv\n",
    "        if len(intersection_triplets)>0 and len(intersection_doblets)/len(intersection_triplets)==2:\n",
    "            continue\n",
    "\n",
    "        massives=set(lmsv)        \n",
    "        massless=set(l).difference(massives)\n",
    "        if not massless:\n",
    "            sltn={}\n",
    "            sltn['S']=s\n",
    "            #Save storage\n",
    "            sltn['ψ']=msv\n",
    "            sltns.append(sltn)\n",
    "            \n",
    "    return sltns\n",
    "\n",
    "assert get_hidden_sector([1,2,-3,4,5])[0].get('S')==6\n",
    "assert get_hidden_sector([1,2,-3,-3,4,5])[0].get('S')==6\n",
    "assert get_hidden_sector([1,1,2,-3,-3,4,5,5])[0].get('S')==6\n",
    "#aψ1ψ1+bψ1ψ2+cψ1,ψ3 → https://www.wolframalpha.com/input?i=Rank%20{{a,b,c},{b,0,0},{c,0,0}}\n",
    "assert get_hidden_sector([1,2,-3,4,5,9,9])==[]\n",
    "get_hidden_sector([1,1,2,-3,4,5])\n",
    "#aψ1ψ2+bψ1ψ3 → https://www.wolframalpha.com/input?i=rank+{{0,a,b},{a,0,0},{b,0,0}}\n",
    "assert get_hidden_sector([1,1,2,-3,4,5])==[]\n",
    "assert get_hidden_sector([1,1,2,-3,-3,4,5])==[]\n",
    "assert get_hidden_sector([1,2,-3,4,5,8])==[]\n",
    "assert get_hidden_sector([1,2,-3,4,5,8,8])==[]\n",
    "assert get_hidden_sector([])==[]\n",
    "assert get_hidden_sector([1, 1, 1, 1, 1, -2, -2, -2, -2, 3])==[]\n",
    "assert get_hidden_sector([1, 2, 2, 2, -3, -5, -6, 7])[0].get('S')==4\n",
    "assert get_hidden_sector( [1, 2, 2, 4, -5, -5, -7, 8] )[0].get('S')==3\n",
    "# Ana test\n",
    "assert get_hidden_sector([2, -3, -4, 5, -6, 7, 7, -8])[0].get('S')==1\n",
    "assert get_hidden_sector([3, 5, -8, 9, -10, -14, 15])==[] # Dirac triplet [-10,5,15] (s=5)\n",
    "assert get_hidden_sector([3, 5, -8, 9, -10, -14, 15, 20,-30, 35])==[]"
   ]
  },
  {
   "cell_type": "code",
   "execution_count": null,
   "id": "03641691",
   "metadata": {},
   "outputs": [
    {
     "data": {
      "text/plain": [
       "[{'S': 6, 'ψ': [(2, 4), (1, 5), (-3, -3)]}]"
      ]
     },
     "execution_count": 325,
     "metadata": {},
     "output_type": "execute_result"
    }
   ],
   "source": [
    "get_hidden_sector([1,2,-3,-3,4,5])"
   ]
  },
  {
   "cell_type": "code",
   "execution_count": 82,
   "id": "d594feb4",
   "metadata": {},
   "outputs": [],
   "source": [
    "def extract_pairs_from_list(lst,pairs):\n",
    "    '''\n",
    "    Given a list of pairs from lst, extract ALL elements from lst which are not in intersections\n",
    "    [(1, -2), (-3, 4)], [ 1,-2,-3, 4] → [-3,4],[(-3,4)]\n",
    "    [(1, -2), (-2, 3)], [ 1,-2,3 ] → [], [3] # some of the intersection is left out\n",
    "    '''\n",
    "    if not lst or not pairs:\n",
    "        return lst,pairs\n",
    "    x,y=pairs[0]\n",
    "    # Remove all only if:\n",
    "    if lst.count(x)==lst.count(y):\n",
    "        [lst.remove(x) for i in range(lst.count(x)) if x in lst]\n",
    "        [lst.remove(y) for i in range(lst.count(y)) if y in lst]\n",
    "    else:\n",
    "        lst.remove(x),lst.remove(y)\n",
    "    # Remove intersections (mixings)\n",
    "    pairs=[(x,y) for x,y in pairs if x in lst  and y in lst]\n",
    "    #print('→',(x,y),lst,pairs)\n",
    "    return lst,pairs\n",
    "assert extract_pairs_from_list([ 1,-2,3 ],[(1, -2), (-2, 3)])[0]==[3]\n",
    "lst,pairs=extract_pairs_from_list([ 1,-2, -3, 4],[(1, -2), (-3, 4)])\n",
    "assert extract_pairs_from_list(lst,pairs)[0]==[]\n",
    "assert extract_pairs_from_list([-3,-3,-3],[(-3, -3)])[0]==[]\n",
    "assert extract_pairs_from_list([],[(-3, -3)])[0]==[]"
   ]
  },
  {
   "cell_type": "code",
   "execution_count": 51,
   "id": "0295c153",
   "metadata": {},
   "outputs": [
    {
     "data": {
      "text/plain": [
       "([(-3, -3)], [])"
      ]
     },
     "execution_count": 51,
     "metadata": {},
     "output_type": "execute_result"
    }
   ],
   "source": [
    "extract_pairs_from_list([],[(-3, -3)])"
   ]
  },
  {
   "cell_type": "code",
   "execution_count": 91,
   "id": "52f3c3d6",
   "metadata": {},
   "outputs": [],
   "source": [
    "import itertools\n",
    "import math as mh\n",
    "def get_hidden_sector(l):\n",
    "    '''\n",
    "    Extract massive pairs without massles fermions from l\n",
    "    '''\n",
    "    sltns=[]\n",
    "    ps = list(set(itertools.combinations_with_replacement(l,2)))\n",
    "    Ss = set(abs(sum(x)) for x in ps)\n",
    "    for s in Ss:\n",
    "        #s=d.get('S')#list(Ss)[0]\n",
    "        msv = [p for p in ps if abs(sum(p))==s]\n",
    "        lmsv=[x for sublist in msv for x in sublist]\n",
    "        massives=set(lmsv)        \n",
    "        massless=set(l).difference(massives)\n",
    "        if not massless:\n",
    "            # ========= Quality check ===========\n",
    "            lp=l.copy()\n",
    "            #---- odds ------\n",
    "            msv_odd=[x for x in msv if x[0]!=x[1]]\n",
    "            imax=len(msv_odd)\n",
    "            i=0\n",
    "            while len(msv_odd)>0:\n",
    "                lp,msv_odd=extract_pairs_from_list(lp,msv_odd)\n",
    "                if i>imax:\n",
    "                    # Emergency exit\n",
    "                    break\n",
    "                i+=1\n",
    "            #---- evens ------\n",
    "            msv_even=[x for x in msv if x[0]==x[1]] # and abs(sum(x))==s\n",
    "            imax=len(msv_even)\n",
    "            i=0\n",
    "            while len(msv_even)>0:\n",
    "                lp,msv_even=extract_pairs_from_list(lp,msv_even)\n",
    "                if i>imax:\n",
    "                    # Emergency exit\n",
    "                    break\n",
    "                i+=1\n",
    "            if lp:\n",
    "                continue # Not a hidden sector\n",
    "            # =================================\n",
    "            sltn={}\n",
    "            sltn['S']=s\n",
    "            #Save storage\n",
    "            sltn['ψ']=msv\n",
    "            sltns.append(sltn)\n",
    "    return sltns\n",
    "\n",
    "assert get_hidden_sector([1,2,-3,4,5])[0].get('S')==6\n",
    "assert get_hidden_sector([1,2,-3,-3,4,5])[0].get('S')==6\n",
    "assert get_hidden_sector([1,1,2,-3,-3,4,5,5])[0].get('S')==6\n",
    "#aψ1ψ1+bψ1ψ2+cψ1,ψ3 → https://www.wolframalpha.com/input?i=Rank%20{{a,b,c},{b,0,0},{c,0,0}}\n",
    "assert get_hidden_sector([1,2,-3,4,5,9,9])==[]\n",
    "get_hidden_sector([1,1,2,-3,4,5])\n",
    "#aψ1ψ2+bψ1ψ3 → https://www.wolframalpha.com/input?i=rank+{{0,a,b},{a,0,0},{b,0,0}}\n",
    "assert get_hidden_sector([1,1,2,-3,4,5])==[]\n",
    "assert get_hidden_sector([1,1,2,-3,-3,4,5])==[]\n",
    "assert get_hidden_sector([1,2,-3,4,5,8])==[]\n",
    "assert get_hidden_sector([1,2,-3,4,5,8,8])==[]\n",
    "assert get_hidden_sector([])==[]\n",
    "assert get_hidden_sector([1, 1, 1, 1, 1, -2, -2, -2, -2, 3])==[]\n",
    "assert get_hidden_sector([1, 2, 2, 2, -3, -5, -6, 7])[0].get('S')==4\n",
    "assert get_hidden_sector( [1, 2, 2, 4, -5, -5, -7, 8] )[0].get('S')==3\n",
    "# Ana test\n",
    "assert get_hidden_sector([2, -3, -4, 5, -6, 7, 7, -8])[0].get('S')==1\n",
    "assert get_hidden_sector([3, 5, -8, 9, -10, -14, 15])==[] # Dirac triplet [-10,5,15] (s=5)\n",
    "assert get_hidden_sector([3, 5, -8, 9, -10, -14, 15, 20,-30, 35])==[]\n",
    "\n"
   ]
  },
  {
   "cell_type": "code",
   "execution_count": 79,
   "id": "f652ccdc",
   "metadata": {},
   "outputs": [
    {
     "data": {
      "text/plain": [
       "[{'S': 6, 'ψ': [(-3, -3), (-3, 9), (2, 4), (1, 5)]}]"
      ]
     },
     "execution_count": 79,
     "metadata": {},
     "output_type": "execute_result"
    }
   ],
   "source": [
    "get_hidden_sector([1,2,-3,4,5,9,9])"
   ]
  },
  {
   "cell_type": "code",
   "execution_count": 75,
   "id": "1cf019e6",
   "metadata": {},
   "outputs": [
    {
     "data": {
      "text/plain": [
       "{5, 10, 20, 30}"
      ]
     },
     "execution_count": 75,
     "metadata": {},
     "output_type": "execute_result"
    }
   ],
   "source": [
    "extract_pairs_from_list"
   ]
  },
  {
   "cell_type": "code",
   "execution_count": 88,
   "id": "ab4d764d-e70e-4499-9c17-38d58ffda930",
   "metadata": {},
   "outputs": [
    {
     "name": "stdout",
     "output_type": "stream",
     "text": [
      "CPU times: user 2min 8s, sys: 0 ns, total: 2min 8s\n",
      "Wall time: 2min 8s\n"
     ]
    }
   ],
   "source": [
    "%%time\n",
    "df['hidden']=df['solution'].apply(get_hidden_sector)"
   ]
  },
  {
   "cell_type": "code",
   "execution_count": 89,
   "id": "7d444f2c-26a5-4145-b7ab-babe5f9f8c20",
   "metadata": {},
   "outputs": [],
   "source": [
    "hs=df[df['hidden'].apply(len)>0].reset_index(drop=True)#.iloc[0].to_dict()"
   ]
  },
  {
   "cell_type": "code",
   "execution_count": 90,
   "id": "a2905342-2157-4e83-8228-51a2f16d7074",
   "metadata": {},
   "outputs": [
    {
     "data": {
      "text/plain": [
       "(8733, 7)"
      ]
     },
     "execution_count": 90,
     "metadata": {},
     "output_type": "execute_result"
    }
   ],
   "source": [
    "hs.shape #8857 solutions with hidden sector"
   ]
  },
  {
   "cell_type": "code",
   "execution_count": null,
   "id": "c754405e",
   "metadata": {},
   "outputs": [],
   "source": [
    "def get_hidden_sector(l):\n",
    "\n",
    "    com = list(itertools.combinations_with_replacement(l, 2))\n",
    "    suma = set([abs(sum(i)) for i in com])\n",
    "\n",
    "    final = []\n",
    "\n",
    "    for s in suma:\n",
    "        cond = [i for i in com if abs(sum(i)) == s]\n",
    "        aplanar = [item for sublist in cond for item in sublist]\n",
    "        resta = set(l).difference(set(aplanar))\n",
    "\n",
    "        if not resta:\n",
    "            l_ = l.copy()\n",
    "            cond_ = cond\n",
    "            N = len(l)\n",
    "\n",
    "            combs = []\n",
    "\n",
    "            equal = [par for par in cond_ if par[0] == par[1]]\n",
    "\n",
    "            for par in equal:\n",
    "                ind = []\n",
    "                for val in par:\n",
    "                    try:\n",
    "                        ind.append(l_.index(val))\n",
    "                    except:\n",
    "                        pass\n",
    "                for ind_ in ind:\n",
    "                    l_[ind_] = 0\n",
    "\n",
    "                if len(set(ind)) == 1:\n",
    "                    N = N - 1\n",
    "                elif len(set(ind)) != 1:\n",
    "                    N = N - len(set(ind))\n",
    "\n",
    "                combs.append(par)\n",
    "\n",
    "            ind_eq = [cond.index(eq) for eq in equal]\n",
    "            for ind in ind_eq:\n",
    "                cond_.pop(ind)\n",
    "\n",
    "            for par in cond_:\n",
    "                try:\n",
    "                    for val in par:\n",
    "                        l_[l_.index(val)] = 0\n",
    "                    N = N - 2\n",
    "                    combs.append(par)\n",
    "                except:\n",
    "                    pass\n",
    "                    # print(\"Discharge pair\", par)\n",
    "\n",
    "            if N == 0:\n",
    "                final.append({\"S\": s, \"ψ\": combs})\n",
    "\n",
    "            del l_, cond_\n",
    "\n",
    "    return final"
   ]
  },
  {
   "cell_type": "code",
   "execution_count": null,
   "id": "9afc7fd7",
   "metadata": {},
   "outputs": [
    {
     "data": {
      "text/plain": [
       "[]"
      ]
     },
     "execution_count": 60,
     "metadata": {},
     "output_type": "execute_result"
    }
   ],
   "source": [
    "get_hidden_sector([3, 5, -8, 9, -10, -14, 15] )"
   ]
  },
  {
   "cell_type": "code",
   "execution_count": null,
   "id": "b5ad001c",
   "metadata": {},
   "outputs": [
    {
     "name": "stdout",
     "output_type": "stream",
     "text": [
      "CPU times: user 1min 54s, sys: 0 ns, total: 1min 54s\n",
      "Wall time: 1min 54s\n"
     ]
    }
   ],
   "source": [
    "%%time\n",
    "df['hidden']=df['solution'].apply(get_hidden_sector)"
   ]
  },
  {
   "cell_type": "code",
   "execution_count": null,
   "id": "465bdaeb",
   "metadata": {},
   "outputs": [
    {
     "data": {
      "text/plain": [
       "(8379, 7)"
      ]
     },
     "execution_count": 62,
     "metadata": {},
     "output_type": "execute_result"
    }
   ],
   "source": [
    "hs2=df[df['hidden'].apply(len)>0].reset_index(drop=True)#.iloc[0].to_dict()\n",
    "hs2.shape"
   ]
  },
  {
   "cell_type": "code",
   "execution_count": null,
   "id": "2e257404",
   "metadata": {},
   "outputs": [],
   "source": [
    "hs['ss']  = hs['solution'].apply(str)\n",
    "hs2['ss'] = hs2['solution'].apply(str)"
   ]
  },
  {
   "cell_type": "code",
   "execution_count": null,
   "id": "1e3e6a84",
   "metadata": {},
   "outputs": [],
   "source": [
    "pd.set_option('display.max_colwidth',200)"
   ]
  },
  {
   "cell_type": "code",
   "execution_count": null,
   "id": "446917a5",
   "metadata": {},
   "outputs": [],
   "source": [
    "tmp=hs[['ss','hidden']].merge(hs2[['ss','hidden']],on='ss',how='left',suffixes=('_1','_2'))"
   ]
  },
  {
   "cell_type": "code",
   "execution_count": null,
   "id": "e576626c",
   "metadata": {},
   "outputs": [
    {
     "name": "stdout",
     "output_type": "stream",
     "text": [
      "{\"solution\":\"[1, 2, 2, 2, -3, -5, -6, 7]\",\"hidden\":[{\"S\":4,\"psi\":[[2,2],[-3,7],[1,-5],[2,-6]]}]}\n",
      "{\"solution\":\"[1, 2, 3, 5, -6, -6, -9, 10]\",\"hidden\":[{\"S\":4,\"psi\":[[-6,10],[2,2],[1,3],[5,-9],[2,-6]]}]}\n",
      "{\"solution\":\"[1, -3, -5, -6, 7, 8, 8, -10]\",\"hidden\":[{\"S\":2,\"psi\":[[1,-3],[8,-10],[-5,7],[-6,8],[1,1]]}]}\n",
      "{\"solution\":\"[1, -3, -4, 6, -9, 10, 11, -12]\",\"hidden\":[{\"S\":2,\"psi\":[[10,-12],[1,-3],[-9,11],[-4,6],[1,1]]}]}\n",
      "{\"solution\":\"[1, 3, 4, 5, -6, -9, -10, 12]\",\"hidden\":[{\"S\":6,\"psi\":[[4,-10],[3,-9],[3,3],[-6,12],[1,5]]}]}\n",
      "{\"solution\":\"[3, 3, 3, 5, -7, -9, -11, 13]\",\"hidden\":[{\"S\":6,\"psi\":[[5,-11],[3,-9],[3,3],[-7,13]]}]}\n",
      "{\"solution\":\"[1, 3, 4, 6, -7, -8, -13, 14]\",\"hidden\":[{\"S\":7,\"psi\":[[3,4],[6,-13],[1,6],[-7,14],[1,-8]]}]}\n",
      "{\"solution\":\"[1, -3, -9, -9, 11, 11, 13, -15]\",\"hidden\":[{\"S\":2,\"psi\":[[1,-3],[-9,11],[13,-15],[1,1]]}]}\n",
      "{\"solution\":\"[2, -6, -6, -9, 10, 11, 13, -15]\",\"hidden\":[{\"S\":4,\"psi\":[[-6,10],[2,2],[-9,13],[11,-15],[2,-6]]}]}\n",
      "{\"solution\":\"[1, -4, -5, 7, -10, 13, 14, -16]\",\"hidden\":[{\"S\":9,\"psi\":[[-4,-5],[-4,13],[1,-10],[-5,14],[7,-16]]}]}\n",
      "{\"solution\":\"[3, 4, 5, 5, -8, -12, -13, 16]\",\"hidden\":[{\"S\":8,\"psi\":[[-8,16],[5,-13],[3,5],[4,4],[4,-12]]}]}\n",
      "{\"solution\":\"[1, -3, -7, 9, -13, 15, 15, -17]\",\"hidden\":[{\"S\":2,\"psi\":[[1,-3],[15,-17],[-13,15],[1,1],[-7,9]]}]}\n",
      "{\"solution\":\"[2, 4, 5, 7, -8, -13, -14, 17]\",\"hidden\":[{\"S\":9,\"psi\":[[5,-14],[4,-13],[4,5],[2,7],[-8,17]]}]}\n",
      "{\"solution\":\"[2, 3, 5, -6, 7, -14, -15, 18]\",\"hidden\":[{\"S\":12,\"psi\":[[5,7],[3,-15],[-6,-6],[2,-14],[-6,18]]}]}\n",
      "{\"solution\":\"[2, -5, -6, 9, -14, 15, 18, -19]\",\"hidden\":[{\"S\":4,\"psi\":[[-5,9],[15,-19],[2,2],[-14,18],[2,-6]]}]}\n",
      "{\"solution\":\"[1, -6, -6, -6, 7, 11, 18, -19]\",\"hidden\":[{\"S\":12,\"psi\":[[-6,-6],[-6,18],[1,11],[7,-19]]}]}\n",
      "{\"solution\":\"[3, 5, 5, 7, -9, -15, -15, 19]\",\"hidden\":[{\"S\":10,\"psi\":[[3,7],[5,-15],[-9,19],[5,5]]}]}\n",
      "{\"solution\":\"[2, -5, -7, 9, -13, 16, 18, -20]\",\"hidden\":[{\"S\":11,\"psi\":[[2,-13],[9,-20],[-5,16],[2,9],[-7,18]]}]}\n",
      "{\"solution\":\"[1, -3, -12, -13, 14, 15, 18, -20]\",\"hidden\":[{\"S\":2,\"psi\":[[1,-3],[18,-20],[-12,14],[-13,15],[1,1]]}]}\n",
      "{\"solution\":\"[3, -7, -9, -12, 13, 14, 18, -20]\",\"hidden\":[{\"S\":6,\"psi\":[[3,-9],[3,3],[-12,18],[-7,13],[14,-20]]}]}\n",
      "{\"solution\":\"[3, 4, 7, 8, -10, -15, -18, 21]\",\"hidden\":[{\"S\":11,\"psi\":[[-10,21],[7,-18],[4,7],[3,8],[4,-15]]}]}\n",
      "{\"solution\":\"[2, 3, 4, -7, 12, -17, -18, 21]\",\"hidden\":[{\"S\":14,\"psi\":[[-7,-7],[2,12],[3,-17],[4,-18],[-7,21]]}]}\n",
      "{\"solution\":\"[1, -4, -6, 7, -10, 13, 20, -21]\",\"hidden\":[{\"S\":14,\"psi\":[[7,7],[7,-21],[-4,-10],[-6,20],[1,13]]}]}\n",
      "{\"solution\":\"[1, -3, -9, 10, -12, 14, 20, -21]\",\"hidden\":[{\"S\":11,\"psi\":[[10,-21],[1,-12],[-9,20],[-3,14],[1,10]]}]}\n",
      "{\"solution\":\"[4, 5, 6, 7, -10, -16, -17, 21]\",\"hidden\":[{\"S\":11,\"psi\":[[5,6],[-10,21],[6,-17],[5,-16],[4,7]]}]}\n",
      "{\"solution\":\"[2, -6, -9, 13, -14, 17, 18, -21]\",\"hidden\":[{\"S\":4,\"psi\":[[2,2],[-14,18],[-9,13],[2,-6],[17,-21]]}]}\n",
      "{\"solution\":\"[3, 3, 5, -7, 9, -17, -17, 21]\",\"hidden\":[{\"S\":14,\"psi\":[[-7,-7],[5,9],[3,-17],[-7,21]]}]}\n",
      "{\"solution\":\"[2, 3, 4, -9, 14, -15, -20, 21]\",\"hidden\":[{\"S\":6,\"psi\":[[3,-9],[3,3],[2,4],[-15,21],[14,-20]]}]}\n",
      "{\"solution\":\"[4, 4, 4, 11, -12, -13, -19, 21]\",\"hidden\":[{\"S\":8,\"psi\":[[11,-19],[-13,21],[4,4],[4,-12]]}]}\n",
      "{\"solution\":\"[1, -5, -10, -11, 12, 15, 20, -22]\",\"hidden\":[{\"S\":10,\"psi\":[[-5,15],[12,-22],[-5,-5],[-10,20],[1,-11]]}]}\n",
      "{\"solution\":\"[1, -3, -10, 12, -17, 19, 20, -22]\",\"hidden\":[{\"S\":2,\"psi\":[[1,-3],[-17,19],[-10,12],[1,1],[20,-22]]}]}\n",
      "{\"solution\":\"[3, 5, 6, 9, -10, -17, -18, 22]\",\"hidden\":[{\"S\":12,\"psi\":[[-10,22],[3,9],[5,-17],[6,-18],[6,6]]}]}\n",
      "{\"solution\":\"[4, 5, 6, 10, -13, -15, -20, 23]\",\"hidden\":[{\"S\":10,\"psi\":[[-13,23],[4,6],[5,-15],[10,-20],[5,5]]}]}\n",
      "{\"solution\":\"[1, -7, -7, 11, -13, 19, 19, -23]\",\"hidden\":[{\"S\":12,\"psi\":[[11,-23],[1,-13],[1,11],[-7,19]]}]}\n",
      "{\"solution\":\"[5, 5, 7, 7, -11, -17, -19, 23]\",\"hidden\":[{\"S\":12,\"psi\":[[5,7],[-11,23],[7,-19],[5,-17]]}]}\n",
      "{\"solution\":\"[4, -9, -12, -12, 15, 17, 20, -23]\",\"hidden\":[{\"S\":8,\"psi\":[[-9,17],[15,-23],[4,4],[-12,20],[4,-12]]}]}\n",
      "{\"solution\":\"[1, -3, -10, 11, -14, 16, 23, -24]\",\"hidden\":[{\"S\":13,\"psi\":[[-3,-10],[11,-24],[-10,23],[1,-14],[-3,16]]}]}\n",
      "{\"solution\":\"[3, 4, 5, -8, 11, -19, -20, 24]\",\"hidden\":[{\"S\":16,\"psi\":[[-8,-8],[3,-19],[4,-20],[-8,24],[5,11]]}]}\n",
      "{\"solution\":\"[1, -3, -6, 8, -21, 22, 23, -24]\",\"hidden\":[{\"S\":2,\"psi\":[[1,-3],[22,-24],[-6,8],[-21,23],[1,1]]}]}\n",
      "{\"solution\":\"[1, -4, -9, 12, -15, 16, 23, -24]\",\"hidden\":[{\"S\":8,\"psi\":[[-15,23],[1,-9],[16,-24],[-4,12],[-4,-4]]}]}\n",
      "{\"solution\":\"[1, -4, -8, 9, -12, 15, 24, -25]\",\"hidden\":[{\"S\":16,\"psi\":[[-8,-8],[1,15],[-4,-12],[-8,24],[9,-25]]}]}\n",
      "{\"solution\":\"[2, -6, -14, -15, 18, 19, 21, -25]\",\"hidden\":[{\"S\":4,\"psi\":[[2,2],[-14,18],[-15,19],[21,-25],[2,-6]]}]}\n",
      "{\"solution\":\"[3, -9, -11, -15, 17, 19, 21, -25]\",\"hidden\":[{\"S\":6,\"psi\":[[-11,17],[3,-9],[19,-25],[3,3],[-15,21]]}]}\n",
      "{\"solution\":\"[4, -8, -12, -15, 16, 17, 23, -25]\",\"hidden\":[{\"S\":8,\"psi\":[[-15,23],[-8,16],[17,-25],[4,4],[4,-12]]}]}\n",
      "{\"solution\":\"[5, 6, 7, 8, -12, -18, -21, 25]\",\"hidden\":[{\"S\":13,\"psi\":[[8,-21],[-12,25],[5,-18],[6,7],[5,8]]}]}\n",
      "{\"solution\":\"[2, 3, 10, 11, -12, -16, -23, 25]\",\"hidden\":[{\"S\":13,\"psi\":[[3,10],[-12,25],[2,11],[3,-16],[10,-23]]}]}\n",
      "{\"solution\":\"[3, -6, -9, 12, -19, 20, 25, -26]\",\"hidden\":[{\"S\":6,\"psi\":[[20,-26],[-19,25],[3,-9],[3,3],[-6,12]]}]}\n",
      "{\"solution\":\"[5, 6, 7, 9, -12, -20, -21, 26]\",\"hidden\":[{\"S\":14,\"psi\":[[7,7],[5,9],[6,-20],[7,-21],[-12,26]]}]}\n",
      "{\"solution\":\"[1, -3, -9, 11, -22, 24, 24, -26]\",\"hidden\":[{\"S\":2,\"psi\":[[1,-3],[-9,11],[24,-26],[1,1],[-22,24]]}]}\n",
      "{\"solution\":\"[3, 4, 8, -11, 12, -19, -24, 27]\",\"hidden\":[{\"S\":16,\"psi\":[[4,12],[8,8],[3,-19],[-11,27],[8,-24]]}]}\n",
      "\n"
     ]
    }
   ],
   "source": [
    "from matplotlib.cbook import to_filehandle\n",
    "\n",
    "\n",
    "print( tmp[tmp['hidden_2'].apply(lambda x: False if isinstance(x,list) else True )][:50][[\"ss\",'hidden_1']\n",
    "].to_json(orient='records',lines=True).replace('\\\\u03c8','psi').replace('_1','').replace('ss','solution'))"
   ]
  },
  {
   "cell_type": "markdown",
   "id": "d58699d1-4703-4797-a42c-9f6ef15d8813",
   "metadata": {},
   "source": [
    "## Ask question to the solutions object"
   ]
  },
  {
   "cell_type": "markdown",
   "id": "50887324-0108-48f1-8046-d655a3e3fb04",
   "metadata": {},
   "source": [
    "* Test the solution\n",
    "* Which is the minimum hidden sector and with the least charge in absolute value\n",
    "* Check for multigenerational solution\n",
    "* Check for unconditional stability\n",
    "* Solutions with active symmetry\n",
    "* How many solutions with n=12 and zmax<=20\n",
    "* Check for Majorana and Dirac fermions"
   ]
  },
  {
   "cell_type": "code",
   "execution_count": null,
   "id": "61165151-dac1-4763-825e-7fb5ac9c4104",
   "metadata": {},
   "outputs": [],
   "source": [
    "pd.set_option('display.max_colwidth',200)"
   ]
  },
  {
   "cell_type": "code",
   "execution_count": null,
   "id": "13a9e98b-5ae8-4c93-a475-a1b4b160d17b",
   "metadata": {},
   "outputs": [
    {
     "data": {
      "text/plain": [
       "7"
      ]
     },
     "execution_count": 44,
     "metadata": {},
     "output_type": "execute_result"
    }
   ],
   "source": [
    "# What is the minimum n?\n",
    "hs['n'].min()"
   ]
  },
  {
   "cell_type": "code",
   "execution_count": null,
   "id": "f3aeeef7-9000-47ac-9887-4d2d48cf8ba8",
   "metadata": {},
   "outputs": [
    {
     "data": {
      "text/plain": [
       "6"
      ]
     },
     "execution_count": 45,
     "metadata": {},
     "output_type": "execute_result"
    }
   ],
   "source": [
    "# What is the minimum z_max?\n",
    "hs['zmax'].min()"
   ]
  },
  {
   "cell_type": "code",
   "execution_count": null,
   "id": "e24084b9-5fbd-4f93-9e35-a519f556c006",
   "metadata": {},
   "outputs": [
    {
     "data": {
      "text/html": [
       "<div>\n",
       "<style scoped>\n",
       "    .dataframe tbody tr th:only-of-type {\n",
       "        vertical-align: middle;\n",
       "    }\n",
       "\n",
       "    .dataframe tbody tr th {\n",
       "        vertical-align: top;\n",
       "    }\n",
       "\n",
       "    .dataframe thead th {\n",
       "        text-align: right;\n",
       "    }\n",
       "</style>\n",
       "<table border=\"1\" class=\"dataframe\">\n",
       "  <thead>\n",
       "    <tr style=\"text-align: right;\">\n",
       "      <th></th>\n",
       "      <th>l</th>\n",
       "      <th>k</th>\n",
       "      <th>solution</th>\n",
       "      <th>gcd</th>\n",
       "      <th>n</th>\n",
       "      <th>zmax</th>\n",
       "      <th>hidden</th>\n",
       "    </tr>\n",
       "  </thead>\n",
       "  <tbody>\n",
       "    <tr>\n",
       "      <th>2</th>\n",
       "      <td>[-1, -5, -3]</td>\n",
       "      <td>[-6, -4, -7]</td>\n",
       "      <td>[1, 1, 2, 3, -4, -4, -5, 6]</td>\n",
       "      <td>1</td>\n",
       "      <td>8</td>\n",
       "      <td>6</td>\n",
       "      <td>[{'S': 2, 'ψ': [(3, -5), (2, -4), (-4, 6), (1, 1)]}]</td>\n",
       "    </tr>\n",
       "    <tr>\n",
       "      <th>2295</th>\n",
       "      <td>[-1, 0, -1, 0, 1]</td>\n",
       "      <td>[-3, -2, -3, -2, 2]</td>\n",
       "      <td>[1, -2, -2, -2, 3, 3, 4, 4, -5, -5, -5, 6]</td>\n",
       "      <td>1</td>\n",
       "      <td>12</td>\n",
       "      <td>6</td>\n",
       "      <td>[{'S': 7, 'ψ': [(3, 4), (1, 6), (-2, -5)]}]</td>\n",
       "    </tr>\n",
       "  </tbody>\n",
       "</table>\n",
       "</div>"
      ],
      "text/plain": [
       "                      l                    k  \\\n",
       "2          [-1, -5, -3]         [-6, -4, -7]   \n",
       "2295  [-1, 0, -1, 0, 1]  [-3, -2, -3, -2, 2]   \n",
       "\n",
       "                                        solution  gcd   n  zmax  \\\n",
       "2                    [1, 1, 2, 3, -4, -4, -5, 6]    1   8     6   \n",
       "2295  [1, -2, -2, -2, 3, 3, 4, 4, -5, -5, -5, 6]    1  12     6   \n",
       "\n",
       "                                                    hidden  \n",
       "2     [{'S': 2, 'ψ': [(3, -5), (2, -4), (-4, 6), (1, 1)]}]  \n",
       "2295           [{'S': 7, 'ψ': [(3, 4), (1, 6), (-2, -5)]}]  "
      ]
     },
     "execution_count": 46,
     "metadata": {},
     "output_type": "execute_result"
    }
   ],
   "source": [
    "hs[hs['zmax']==hs['zmax'].min()]"
   ]
  },
  {
   "cell_type": "code",
   "execution_count": null,
   "id": "4ab51065-95f8-4a0d-bcab-15b61ae174d9",
   "metadata": {},
   "outputs": [
    {
     "data": {
      "text/html": [
       "<div>\n",
       "<style scoped>\n",
       "    .dataframe tbody tr th:only-of-type {\n",
       "        vertical-align: middle;\n",
       "    }\n",
       "\n",
       "    .dataframe tbody tr th {\n",
       "        vertical-align: top;\n",
       "    }\n",
       "\n",
       "    .dataframe thead th {\n",
       "        text-align: right;\n",
       "    }\n",
       "</style>\n",
       "<table border=\"1\" class=\"dataframe\">\n",
       "  <thead>\n",
       "    <tr style=\"text-align: right;\">\n",
       "      <th></th>\n",
       "      <th>l</th>\n",
       "      <th>k</th>\n",
       "      <th>solution</th>\n",
       "      <th>gcd</th>\n",
       "      <th>n</th>\n",
       "      <th>zmax</th>\n",
       "      <th>hidden</th>\n",
       "    </tr>\n",
       "  </thead>\n",
       "  <tbody>\n",
       "    <tr>\n",
       "      <th>0</th>\n",
       "      <td>[-2, 0]</td>\n",
       "      <td>[-1, -2, -3]</td>\n",
       "      <td>[3, 5, -8, 9, -10, -14, 15]</td>\n",
       "      <td>1</td>\n",
       "      <td>7</td>\n",
       "      <td>15</td>\n",
       "      <td>[{'S': 5, 'ψ': [(9, -14), (-10, 15), (5, -10), (3, -8)]}]</td>\n",
       "    </tr>\n",
       "    <tr>\n",
       "      <th>1</th>\n",
       "      <td>[2, 0]</td>\n",
       "      <td>[-1, -2, -3]</td>\n",
       "      <td>[5, 6, 7, -10, -11, -12, 15]</td>\n",
       "      <td>1</td>\n",
       "      <td>7</td>\n",
       "      <td>15</td>\n",
       "      <td>[{'S': 5, 'ψ': [(-10, 15), (7, -12), (6, -11), (5, -10)]}]</td>\n",
       "    </tr>\n",
       "    <tr>\n",
       "      <th>2</th>\n",
       "      <td>[-1, -5, -3]</td>\n",
       "      <td>[-6, -4, -7]</td>\n",
       "      <td>[1, 1, 2, 3, -4, -4, -5, 6]</td>\n",
       "      <td>1</td>\n",
       "      <td>8</td>\n",
       "      <td>6</td>\n",
       "      <td>[{'S': 2, 'ψ': [(3, -5), (2, -4), (-4, 6), (1, 1)]}]</td>\n",
       "    </tr>\n",
       "  </tbody>\n",
       "</table>\n",
       "</div>"
      ],
      "text/plain": [
       "              l             k                      solution  gcd  n  zmax  \\\n",
       "0       [-2, 0]  [-1, -2, -3]   [3, 5, -8, 9, -10, -14, 15]    1  7    15   \n",
       "1        [2, 0]  [-1, -2, -3]  [5, 6, 7, -10, -11, -12, 15]    1  7    15   \n",
       "2  [-1, -5, -3]  [-6, -4, -7]   [1, 1, 2, 3, -4, -4, -5, 6]    1  8     6   \n",
       "\n",
       "                                                       hidden  \n",
       "0   [{'S': 5, 'ψ': [(9, -14), (-10, 15), (5, -10), (3, -8)]}]  \n",
       "1  [{'S': 5, 'ψ': [(-10, 15), (7, -12), (6, -11), (5, -10)]}]  \n",
       "2        [{'S': 2, 'ψ': [(3, -5), (2, -4), (-4, 6), (1, 1)]}]  "
      ]
     },
     "execution_count": 47,
     "metadata": {},
     "output_type": "execute_result"
    }
   ],
   "source": [
    "hs[:3]"
   ]
  },
  {
   "cell_type": "code",
   "execution_count": null,
   "id": "93c144c2-50f6-4137-93b5-efdf3b3d1952",
   "metadata": {},
   "outputs": [
    {
     "data": {
      "text/plain": [
       "(1194, 7)"
      ]
     },
     "execution_count": 48,
     "metadata": {},
     "output_type": "execute_result"
    }
   ],
   "source": [
    "# How many solutions have several dark sectors?\n",
    "hs[hs['hidden'].apply(len)>1].shape"
   ]
  },
  {
   "cell_type": "code",
   "execution_count": null,
   "id": "e75784a4-a5ff-417d-b1f8-93c6ce09d0a2",
   "metadata": {},
   "outputs": [
    {
     "data": {
      "text/plain": [
       "(0, 7)"
      ]
     },
     "execution_count": 49,
     "metadata": {},
     "output_type": "execute_result"
    }
   ],
   "source": [
    "hs[hs['hidden'].apply(len)>2].shape"
   ]
  },
  {
   "cell_type": "code",
   "execution_count": null,
   "id": "d816fd8e-1c0c-4958-84b5-764954e81cb9",
   "metadata": {},
   "outputs": [
    {
     "data": {
      "text/plain": [
       "3"
      ]
     },
     "execution_count": 50,
     "metadata": {},
     "output_type": "execute_result"
    }
   ],
   "source": [
    "# What is the minimum number of DM particles?\n",
    "hs['hidden'].str[0].str['ψ'].apply(len).min()"
   ]
  },
  {
   "cell_type": "code",
   "execution_count": null,
   "id": "d724236a-0e1b-46e6-9bb2-b625f7bf92db",
   "metadata": {},
   "outputs": [
    {
     "data": {
      "text/html": [
       "<div>\n",
       "<style scoped>\n",
       "    .dataframe tbody tr th:only-of-type {\n",
       "        vertical-align: middle;\n",
       "    }\n",
       "\n",
       "    .dataframe tbody tr th {\n",
       "        vertical-align: top;\n",
       "    }\n",
       "\n",
       "    .dataframe thead th {\n",
       "        text-align: right;\n",
       "    }\n",
       "</style>\n",
       "<table border=\"1\" class=\"dataframe\">\n",
       "  <thead>\n",
       "    <tr style=\"text-align: right;\">\n",
       "      <th></th>\n",
       "      <th>l</th>\n",
       "      <th>k</th>\n",
       "      <th>solution</th>\n",
       "      <th>gcd</th>\n",
       "      <th>n</th>\n",
       "      <th>zmax</th>\n",
       "      <th>hidden</th>\n",
       "    </tr>\n",
       "  </thead>\n",
       "  <tbody>\n",
       "    <tr>\n",
       "      <th>4</th>\n",
       "      <td>[-1, 0, 1]</td>\n",
       "      <td>[-4, -2, 2]</td>\n",
       "      <td>[1, -2, -2, 4, 5, -7, -7, 8]</td>\n",
       "      <td>1</td>\n",
       "      <td>8</td>\n",
       "      <td>8</td>\n",
       "      <td>[{'S': 9, 'ψ': [(4, 5), (1, 8), (-2, -7)]}]</td>\n",
       "    </tr>\n",
       "  </tbody>\n",
       "</table>\n",
       "</div>"
      ],
      "text/plain": [
       "            l            k                      solution  gcd  n  zmax  \\\n",
       "4  [-1, 0, 1]  [-4, -2, 2]  [1, -2, -2, 4, 5, -7, -7, 8]    1  8     8   \n",
       "\n",
       "                                        hidden  \n",
       "4  [{'S': 9, 'ψ': [(4, 5), (1, 8), (-2, -7)]}]  "
      ]
     },
     "execution_count": 51,
     "metadata": {},
     "output_type": "execute_result"
    }
   ],
   "source": [
    "hs[hs['hidden'].str[0].str['ψ'].apply(len)==hs['hidden'].str[0].str['ψ'].apply(len).min()][:1]"
   ]
  },
  {
   "cell_type": "markdown",
   "id": "90b2be2c-4add-48cc-9e97-2f0add5de02d",
   "metadata": {},
   "source": [
    "### Same questions for SM solutions"
   ]
  },
  {
   "cell_type": "code",
   "execution_count": null,
   "id": "fe26a5ab-2e9e-477b-af5f-6568fdc65e57",
   "metadata": {},
   "outputs": [],
   "source": [
    "df3=df[df['solution'].apply(lambda l: 3 in [l.count(x) for x in l])].reset_index(drop=True)"
   ]
  },
  {
   "cell_type": "code",
   "execution_count": null,
   "id": "4c3f1529-7624-4545-af61-545415f2409d",
   "metadata": {},
   "outputs": [],
   "source": [
    "def get_dark(l,idx=0):\n",
    "    #TODO,\n",
    "    xxx=list(set([x for x in l if l.count(x)==3]))\n",
    "    if len(xxx)>=idx+1:\n",
    "        xx=xxx[idx]\n",
    "        return [x for x in l if x!=xx]\n",
    "    else:\n",
    "        return []\n",
    "assert get_dark([1,1,2,2,2,3] )==[1, 1, 3]\n",
    "assert get_dark([2,2,2,2,-5,-5,-5,7])==[2, 2, 2, 2, 7]"
   ]
  },
  {
   "cell_type": "code",
   "execution_count": null,
   "id": "3eafc7e4-cf0f-48b9-8d50-8fcf5c986867",
   "metadata": {},
   "outputs": [],
   "source": [
    "df3['hidden']=df3['solution'].apply(get_dark).apply(get_hidden_sector)"
   ]
  },
  {
   "cell_type": "code",
   "execution_count": null,
   "id": "621afe65-e4f4-4cc4-965a-8c2841fbfc8b",
   "metadata": {},
   "outputs": [
    {
     "data": {
      "text/plain": [
       "(138, 7)"
      ]
     },
     "execution_count": 55,
     "metadata": {},
     "output_type": "execute_result"
    }
   ],
   "source": [
    "hs3=df3[df3['hidden'].apply(len)>0].reset_index(drop=True)\n",
    "hs3.shape"
   ]
  },
  {
   "cell_type": "code",
   "execution_count": null,
   "id": "a6186c47-e4a5-4c1c-b132-6ee0888bb123",
   "metadata": {},
   "outputs": [
    {
     "data": {
      "text/plain": [
       "(143, 7)"
      ]
     },
     "execution_count": 56,
     "metadata": {},
     "output_type": "execute_result"
    }
   ],
   "source": [
    "# idxmax==1\n",
    "df3['hidden']=df3['solution'].apply(lambda l: get_dark(l,idx=1)).apply(get_hidden_sector)\n",
    "hs3=pd.concat((hs3,df3[df3['hidden'].apply(len)>0])).reset_index(drop=True)\n",
    "hs3.shape"
   ]
  },
  {
   "cell_type": "code",
   "execution_count": null,
   "id": "a53d71e9-1755-4286-8799-2a407d8dbf86",
   "metadata": {},
   "outputs": [
    {
     "data": {
      "text/plain": [
       "(143, 7)"
      ]
     },
     "execution_count": 57,
     "metadata": {},
     "output_type": "execute_result"
    }
   ],
   "source": [
    "# idxmax==1\n",
    "df3['hidden']=df3['solution'].apply(lambda l: get_dark(l,idx=2)).apply(get_hidden_sector)\n",
    "hs3=pd.concat((hs3,df3[df3['hidden'].apply(len)>0])).reset_index(drop=True)\n",
    "hs3.shape"
   ]
  },
  {
   "cell_type": "code",
   "execution_count": null,
   "id": "a0d204e8-f73e-43d5-826b-6bf8fc6e17f0",
   "metadata": {},
   "outputs": [
    {
     "data": {
      "text/plain": [
       "8"
      ]
     },
     "execution_count": 58,
     "metadata": {},
     "output_type": "execute_result"
    }
   ],
   "source": [
    "hs3['zmax'].min()"
   ]
  },
  {
   "cell_type": "code",
   "execution_count": null,
   "id": "a80e9876-b428-475a-b252-3065eaac51e0",
   "metadata": {},
   "outputs": [
    {
     "data": {
      "text/html": [
       "<div>\n",
       "<style scoped>\n",
       "    .dataframe tbody tr th:only-of-type {\n",
       "        vertical-align: middle;\n",
       "    }\n",
       "\n",
       "    .dataframe tbody tr th {\n",
       "        vertical-align: top;\n",
       "    }\n",
       "\n",
       "    .dataframe thead th {\n",
       "        text-align: right;\n",
       "    }\n",
       "</style>\n",
       "<table border=\"1\" class=\"dataframe\">\n",
       "  <thead>\n",
       "    <tr style=\"text-align: right;\">\n",
       "      <th></th>\n",
       "      <th>l</th>\n",
       "      <th>k</th>\n",
       "      <th>solution</th>\n",
       "      <th>gcd</th>\n",
       "      <th>n</th>\n",
       "      <th>zmax</th>\n",
       "      <th>hidden</th>\n",
       "    </tr>\n",
       "  </thead>\n",
       "  <tbody>\n",
       "    <tr>\n",
       "      <th>0</th>\n",
       "      <td>[1, 0, -2]</td>\n",
       "      <td>[-3, -1, 1]</td>\n",
       "      <td>[3, 3, 3, 5, -7, -9, -11, 13]</td>\n",
       "      <td>2</td>\n",
       "      <td>8</td>\n",
       "      <td>13</td>\n",
       "      <td>[{'S': 18, 'ψ': [(-7, -11), (-9, -9), (5, 13)]}]</td>\n",
       "    </tr>\n",
       "  </tbody>\n",
       "</table>\n",
       "</div>"
      ],
      "text/plain": [
       "            l            k                       solution  gcd  n  zmax  \\\n",
       "0  [1, 0, -2]  [-3, -1, 1]  [3, 3, 3, 5, -7, -9, -11, 13]    2  8    13   \n",
       "\n",
       "                                             hidden  \n",
       "0  [{'S': 18, 'ψ': [(-7, -11), (-9, -9), (5, 13)]}]  "
      ]
     },
     "execution_count": 59,
     "metadata": {},
     "output_type": "execute_result"
    }
   ],
   "source": [
    "hs3[:1]"
   ]
  },
  {
   "cell_type": "code",
   "execution_count": null,
   "id": "aa817d62-360f-4ff3-bb5e-453057f355cf",
   "metadata": {},
   "outputs": [
    {
     "data": {
      "text/plain": [
       "(4, 7)"
      ]
     },
     "execution_count": 60,
     "metadata": {},
     "output_type": "execute_result"
    }
   ],
   "source": [
    "hs3[hs3['hidden'].apply(len)>1].shape"
   ]
  },
  {
   "cell_type": "code",
   "execution_count": null,
   "id": "aee810b4-c226-4113-9bf8-e1baa34a3fc0",
   "metadata": {},
   "outputs": [
    {
     "data": {
      "text/plain": [
       "(2, 7)"
      ]
     },
     "execution_count": 61,
     "metadata": {},
     "output_type": "execute_result"
    }
   ],
   "source": [
    "hs3[hs3['hidden'].apply(len)>2].shape"
   ]
  },
  {
   "cell_type": "code",
   "execution_count": null,
   "id": "76a8da24-7b36-47a4-9d8c-66186cc8436b",
   "metadata": {},
   "outputs": [
    {
     "data": {
      "text/plain": [
       "(0, 7)"
      ]
     },
     "execution_count": 62,
     "metadata": {},
     "output_type": "execute_result"
    }
   ],
   "source": [
    "hs3[hs3['hidden'].apply(len)>3].shape"
   ]
  },
  {
   "cell_type": "code",
   "execution_count": null,
   "id": "1c25aae3-e070-4177-9792-bda63e0bf15f",
   "metadata": {},
   "outputs": [
    {
     "data": {
      "text/plain": [
       "2"
      ]
     },
     "execution_count": 63,
     "metadata": {},
     "output_type": "execute_result"
    }
   ],
   "source": [
    "hs3['hidden'].str[0].str['ψ'].apply(len).min()"
   ]
  },
  {
   "cell_type": "code",
   "execution_count": null,
   "id": "46daab74-e67a-4b28-8385-e6007339deb3",
   "metadata": {},
   "outputs": [
    {
     "data": {
      "text/html": [
       "<div>\n",
       "<style scoped>\n",
       "    .dataframe tbody tr th:only-of-type {\n",
       "        vertical-align: middle;\n",
       "    }\n",
       "\n",
       "    .dataframe tbody tr th {\n",
       "        vertical-align: top;\n",
       "    }\n",
       "\n",
       "    .dataframe thead th {\n",
       "        text-align: right;\n",
       "    }\n",
       "</style>\n",
       "<table border=\"1\" class=\"dataframe\">\n",
       "  <thead>\n",
       "    <tr style=\"text-align: right;\">\n",
       "      <th></th>\n",
       "      <th>l</th>\n",
       "      <th>k</th>\n",
       "      <th>solution</th>\n",
       "      <th>gcd</th>\n",
       "      <th>n</th>\n",
       "      <th>zmax</th>\n",
       "      <th>hidden</th>\n",
       "    </tr>\n",
       "  </thead>\n",
       "  <tbody>\n",
       "    <tr>\n",
       "      <th>4</th>\n",
       "      <td>[-2, 0, 2]</td>\n",
       "      <td>[-1, 1, 0, -1]</td>\n",
       "      <td>[1, 1, -4, -5, 9, 9, 9, -10, -10]</td>\n",
       "      <td>1</td>\n",
       "      <td>9</td>\n",
       "      <td>10</td>\n",
       "      <td>[{'S': 9, 'ψ': [(1, -10), (-4, -5)]}]</td>\n",
       "    </tr>\n",
       "    <tr>\n",
       "      <th>6</th>\n",
       "      <td>[-1, 0, 1]</td>\n",
       "      <td>[-1, -3, 0, -1]</td>\n",
       "      <td>[1, 1, -3, -8, 11, 11, 11, -12, -12]</td>\n",
       "      <td>1</td>\n",
       "      <td>9</td>\n",
       "      <td>12</td>\n",
       "      <td>[{'S': 11, 'ψ': [(1, -12), (-3, -8)]}]</td>\n",
       "    </tr>\n",
       "    <tr>\n",
       "      <th>8</th>\n",
       "      <td>[-1, 0, -1, 1]</td>\n",
       "      <td>[-3, 0, -1, 0]</td>\n",
       "      <td>[4, -5, -5, -6, -6, 11, 11, 11, -15]</td>\n",
       "      <td>1</td>\n",
       "      <td>9</td>\n",
       "      <td>15</td>\n",
       "      <td>[{'S': 11, 'ψ': [(-5, -6), (4, -15)]}]</td>\n",
       "    </tr>\n",
       "    <tr>\n",
       "      <th>16</th>\n",
       "      <td>[-1, 0, 1]</td>\n",
       "      <td>[-1, -5, 0, 5]</td>\n",
       "      <td>[2, 2, -3, 15, 15, -17, -17, -17, 20]</td>\n",
       "      <td>3</td>\n",
       "      <td>9</td>\n",
       "      <td>20</td>\n",
       "      <td>[{'S': 17, 'ψ': [(-3, 20), (2, 15)]}]</td>\n",
       "    </tr>\n",
       "    <tr>\n",
       "      <th>18</th>\n",
       "      <td>[-1, 0, -1, 1]</td>\n",
       "      <td>[-3, 0, -3, 0]</td>\n",
       "      <td>[2, 2, -7, -12, 19, 19, 19, -21, -21]</td>\n",
       "      <td>1</td>\n",
       "      <td>9</td>\n",
       "      <td>21</td>\n",
       "      <td>[{'S': 19, 'ψ': [(-7, -12), (2, -21)]}]</td>\n",
       "    </tr>\n",
       "    <tr>\n",
       "      <th>19</th>\n",
       "      <td>[-1, 0, 1]</td>\n",
       "      <td>[-1, 1, 0, -7]</td>\n",
       "      <td>[3, 3, -4, 14, 14, -17, -17, -17, 21]</td>\n",
       "      <td>3</td>\n",
       "      <td>9</td>\n",
       "      <td>21</td>\n",
       "      <td>[{'S': 17, 'ψ': [(-4, 21), (3, 14)]}]</td>\n",
       "    </tr>\n",
       "    <tr>\n",
       "      <th>24</th>\n",
       "      <td>[1, 0, 1, -1]</td>\n",
       "      <td>[-3, 0, -3, 0]</td>\n",
       "      <td>[4, 4, -5, 15, 15, -19, -19, -19, 24]</td>\n",
       "      <td>1</td>\n",
       "      <td>9</td>\n",
       "      <td>24</td>\n",
       "      <td>[{'S': 19, 'ψ': [(4, 15), (-5, 24)]}]</td>\n",
       "    </tr>\n",
       "  </tbody>\n",
       "</table>\n",
       "</div>"
      ],
      "text/plain": [
       "                 l                k                               solution  \\\n",
       "4       [-2, 0, 2]   [-1, 1, 0, -1]      [1, 1, -4, -5, 9, 9, 9, -10, -10]   \n",
       "6       [-1, 0, 1]  [-1, -3, 0, -1]   [1, 1, -3, -8, 11, 11, 11, -12, -12]   \n",
       "8   [-1, 0, -1, 1]   [-3, 0, -1, 0]   [4, -5, -5, -6, -6, 11, 11, 11, -15]   \n",
       "16      [-1, 0, 1]   [-1, -5, 0, 5]  [2, 2, -3, 15, 15, -17, -17, -17, 20]   \n",
       "18  [-1, 0, -1, 1]   [-3, 0, -3, 0]  [2, 2, -7, -12, 19, 19, 19, -21, -21]   \n",
       "19      [-1, 0, 1]   [-1, 1, 0, -7]  [3, 3, -4, 14, 14, -17, -17, -17, 21]   \n",
       "24   [1, 0, 1, -1]   [-3, 0, -3, 0]  [4, 4, -5, 15, 15, -19, -19, -19, 24]   \n",
       "\n",
       "    gcd  n  zmax                                   hidden  \n",
       "4     1  9    10    [{'S': 9, 'ψ': [(1, -10), (-4, -5)]}]  \n",
       "6     1  9    12   [{'S': 11, 'ψ': [(1, -12), (-3, -8)]}]  \n",
       "8     1  9    15   [{'S': 11, 'ψ': [(-5, -6), (4, -15)]}]  \n",
       "16    3  9    20    [{'S': 17, 'ψ': [(-3, 20), (2, 15)]}]  \n",
       "18    1  9    21  [{'S': 19, 'ψ': [(-7, -12), (2, -21)]}]  \n",
       "19    3  9    21    [{'S': 17, 'ψ': [(-4, 21), (3, 14)]}]  \n",
       "24    1  9    24    [{'S': 19, 'ψ': [(4, 15), (-5, 24)]}]  "
      ]
     },
     "execution_count": 64,
     "metadata": {},
     "output_type": "execute_result"
    }
   ],
   "source": [
    "hs3[hs3['hidden'].str[0].str['ψ'].apply(len)==hs3['hidden'].str[0].str['ψ'].apply(len).min()]"
   ]
  },
  {
   "cell_type": "markdown",
   "id": "66cc520a-9510-4473-b840-d205b193c5f0",
   "metadata": {},
   "source": [
    "### Extend the data scheme with number of generations"
   ]
  },
  {
   "cell_type": "code",
   "execution_count": null,
   "id": "ee44f4cd-a196-45fd-b0f3-a0359897e363",
   "metadata": {},
   "outputs": [],
   "source": [
    "def get_Dirac_and_Majorana_generations(l,h):\n",
    "    g=[]\n",
    "    dgmax=0\n",
    "    mgmax=0\n",
    "    for idx in range(len(h)):\n",
    "        for x,y in h[idx].get('ψ'):\n",
    "            if x!=y and l.count(x)>dgmax and l.count(y)==l.count(x):\n",
    "                    dgmax=l.count(x)\n",
    "            if x==y and l.count(x)>mgmax:\n",
    "                    mgmax=l.count(x)\n",
    "        g.append({'DG':dgmax,'MG':mgmax})\n",
    "    return g\n",
    "l=[2, 2, -3, 15, 15, -17, -17, -17, 20]\n",
    "h=[{'S': 17, 'ψ': [(2, 15), (20, -3)]}]\n",
    "assert get_Dirac_and_Majorana_generations(l,h)==[{'DG': 2, 'MG': 0}]"
   ]
  },
  {
   "cell_type": "code",
   "execution_count": null,
   "id": "92dbea03-8c25-4cc1-a146-e7a6e8ffd1a3",
   "metadata": {},
   "outputs": [],
   "source": [
    "hs['Generations']=hs.apply(lambda row: get_Dirac_and_Majorana_generations(row['solution'],row['hidden']),axis='columns')"
   ]
  },
  {
   "cell_type": "code",
   "execution_count": null,
   "id": "f92422d5-fd46-446d-b075-161f7683ac41",
   "metadata": {},
   "outputs": [],
   "source": [
    "hs3['Generations']=hs3.apply(lambda row: get_Dirac_and_Majorana_generations(row['solution'],row['hidden']),axis='columns')"
   ]
  },
  {
   "cell_type": "code",
   "execution_count": null,
   "id": "71a7cd0e-f693-4021-89ce-f6892e5e6af3",
   "metadata": {},
   "outputs": [],
   "source": [
    "hs['Gmax']=-hs['Generations'].str[0].apply(lambda d: sum(d.values()))"
   ]
  },
  {
   "cell_type": "code",
   "execution_count": null,
   "id": "75b0a0bd-0834-4f9a-8a3a-34e8d4191c79",
   "metadata": {},
   "outputs": [],
   "source": [
    "hs=hs.sort_values(['n','Gmax']).reset_index(drop=True)"
   ]
  },
  {
   "cell_type": "code",
   "execution_count": null,
   "id": "68c0890a-d708-4edd-ae0b-f8752954146a",
   "metadata": {},
   "outputs": [
    {
     "data": {
      "text/html": [
       "<div>\n",
       "<style scoped>\n",
       "    .dataframe tbody tr th:only-of-type {\n",
       "        vertical-align: middle;\n",
       "    }\n",
       "\n",
       "    .dataframe tbody tr th {\n",
       "        vertical-align: top;\n",
       "    }\n",
       "\n",
       "    .dataframe thead th {\n",
       "        text-align: right;\n",
       "    }\n",
       "</style>\n",
       "<table border=\"1\" class=\"dataframe\">\n",
       "  <thead>\n",
       "    <tr style=\"text-align: right;\">\n",
       "      <th></th>\n",
       "      <th>l</th>\n",
       "      <th>k</th>\n",
       "      <th>solution</th>\n",
       "      <th>gcd</th>\n",
       "      <th>n</th>\n",
       "      <th>zmax</th>\n",
       "      <th>hidden</th>\n",
       "      <th>Generations</th>\n",
       "      <th>Gmax</th>\n",
       "    </tr>\n",
       "  </thead>\n",
       "  <tbody>\n",
       "    <tr>\n",
       "      <th>0</th>\n",
       "      <td>[-2, 0]</td>\n",
       "      <td>[-1, -2, -3]</td>\n",
       "      <td>[3, 5, -8, 9, -10, -14, 15]</td>\n",
       "      <td>1</td>\n",
       "      <td>7</td>\n",
       "      <td>15</td>\n",
       "      <td>[{'S': 5, 'ψ': [(9, -14), (-10, 15), (5, -10), (3, -8)]}]</td>\n",
       "      <td>[{'DG': 1, 'MG': 0}]</td>\n",
       "      <td>-1</td>\n",
       "    </tr>\n",
       "    <tr>\n",
       "      <th>1</th>\n",
       "      <td>[2, 0]</td>\n",
       "      <td>[-1, -2, -3]</td>\n",
       "      <td>[5, 6, 7, -10, -11, -12, 15]</td>\n",
       "      <td>1</td>\n",
       "      <td>7</td>\n",
       "      <td>15</td>\n",
       "      <td>[{'S': 5, 'ψ': [(-10, 15), (7, -12), (6, -11), (5, -10)]}]</td>\n",
       "      <td>[{'DG': 1, 'MG': 0}]</td>\n",
       "      <td>-1</td>\n",
       "    </tr>\n",
       "  </tbody>\n",
       "</table>\n",
       "</div>"
      ],
      "text/plain": [
       "         l             k                      solution  gcd  n  zmax  \\\n",
       "0  [-2, 0]  [-1, -2, -3]   [3, 5, -8, 9, -10, -14, 15]    1  7    15   \n",
       "1   [2, 0]  [-1, -2, -3]  [5, 6, 7, -10, -11, -12, 15]    1  7    15   \n",
       "\n",
       "                                                       hidden  \\\n",
       "0   [{'S': 5, 'ψ': [(9, -14), (-10, 15), (5, -10), (3, -8)]}]   \n",
       "1  [{'S': 5, 'ψ': [(-10, 15), (7, -12), (6, -11), (5, -10)]}]   \n",
       "\n",
       "            Generations  Gmax  \n",
       "0  [{'DG': 1, 'MG': 0}]    -1  \n",
       "1  [{'DG': 1, 'MG': 0}]    -1  "
      ]
     },
     "execution_count": 70,
     "metadata": {},
     "output_type": "execute_result"
    }
   ],
   "source": [
    "hs[hs['n']==7]"
   ]
  },
  {
   "cell_type": "code",
   "execution_count": null,
   "id": "5d1b3a25-f7c5-408e-92da-0f1ca0764384",
   "metadata": {},
   "outputs": [
    {
     "data": {
      "text/html": [
       "<div>\n",
       "<style scoped>\n",
       "    .dataframe tbody tr th:only-of-type {\n",
       "        vertical-align: middle;\n",
       "    }\n",
       "\n",
       "    .dataframe tbody tr th {\n",
       "        vertical-align: top;\n",
       "    }\n",
       "\n",
       "    .dataframe thead th {\n",
       "        text-align: right;\n",
       "    }\n",
       "</style>\n",
       "<table border=\"1\" class=\"dataframe\">\n",
       "  <thead>\n",
       "    <tr style=\"text-align: right;\">\n",
       "      <th></th>\n",
       "      <th>l</th>\n",
       "      <th>k</th>\n",
       "      <th>solution</th>\n",
       "      <th>gcd</th>\n",
       "      <th>n</th>\n",
       "      <th>zmax</th>\n",
       "      <th>hidden</th>\n",
       "      <th>Generations</th>\n",
       "      <th>Gmax</th>\n",
       "    </tr>\n",
       "  </thead>\n",
       "  <tbody>\n",
       "    <tr>\n",
       "      <th>2</th>\n",
       "      <td>[-1, 2, -2]</td>\n",
       "      <td>[-7, 4, 0]</td>\n",
       "      <td>[1, 2, 2, 2, -3, -5, -6, 7]</td>\n",
       "      <td>1</td>\n",
       "      <td>8</td>\n",
       "      <td>7</td>\n",
       "      <td>[{'S': 4, 'ψ': [(2, 2), (-3, 7), (1, -5), (2, -6)]}]</td>\n",
       "      <td>[{'DG': 1, 'MG': 3}]</td>\n",
       "      <td>-4</td>\n",
       "    </tr>\n",
       "    <tr>\n",
       "      <th>3</th>\n",
       "      <td>[1, 0, -2]</td>\n",
       "      <td>[-3, -1, 1]</td>\n",
       "      <td>[3, 3, 3, 5, -7, -9, -11, 13]</td>\n",
       "      <td>2</td>\n",
       "      <td>8</td>\n",
       "      <td>13</td>\n",
       "      <td>[{'S': 6, 'ψ': [(5, -11), (3, -9), (3, 3), (-7, 13)]}]</td>\n",
       "      <td>[{'DG': 1, 'MG': 3}]</td>\n",
       "      <td>-4</td>\n",
       "    </tr>\n",
       "    <tr>\n",
       "      <th>4</th>\n",
       "      <td>[0, -1, -2]</td>\n",
       "      <td>[-1, -6, -5, -6]</td>\n",
       "      <td>[1, -6, -6, -6, 7, 11, 18, -19]</td>\n",
       "      <td>2</td>\n",
       "      <td>8</td>\n",
       "      <td>19</td>\n",
       "      <td>[{'S': 12, 'ψ': [(-6, -6), (-6, 18), (1, 11), (7, -19)]}]</td>\n",
       "      <td>[{'DG': 1, 'MG': 3}]</td>\n",
       "      <td>-4</td>\n",
       "    </tr>\n",
       "    <tr>\n",
       "      <th>5</th>\n",
       "      <td>[-3, -4, -3]</td>\n",
       "      <td>[-5, 3, -7]</td>\n",
       "      <td>[3, 5, 5, 7, -9, -15, -15, 19]</td>\n",
       "      <td>2</td>\n",
       "      <td>8</td>\n",
       "      <td>19</td>\n",
       "      <td>[{'S': 10, 'ψ': [(3, 7), (5, -15), (-9, 19), (5, 5)]}]</td>\n",
       "      <td>[{'DG': 2, 'MG': 2}]</td>\n",
       "      <td>-4</td>\n",
       "    </tr>\n",
       "    <tr>\n",
       "      <th>6</th>\n",
       "      <td>[3, 0, -5]</td>\n",
       "      <td>[-1, 1, -1]</td>\n",
       "      <td>[4, 4, 4, 11, -12, -13, -19, 21]</td>\n",
       "      <td>8</td>\n",
       "      <td>8</td>\n",
       "      <td>21</td>\n",
       "      <td>[{'S': 8, 'ψ': [(11, -19), (-13, 21), (4, 4), (4, -12)]}]</td>\n",
       "      <td>[{'DG': 1, 'MG': 3}]</td>\n",
       "      <td>-4</td>\n",
       "    </tr>\n",
       "    <tr>\n",
       "      <th>7</th>\n",
       "      <td>[0, -2, 0]</td>\n",
       "      <td>[-3, -1, 1, -1]</td>\n",
       "      <td>[5, 5, 5, -15, 19, -21, -29, 31]</td>\n",
       "      <td>2</td>\n",
       "      <td>8</td>\n",
       "      <td>31</td>\n",
       "      <td>[{'S': 10, 'ψ': [(-21, 31), (5, -15), (19, -29), (5, 5)]}]</td>\n",
       "      <td>[{'DG': 1, 'MG': 3}]</td>\n",
       "      <td>-4</td>\n",
       "    </tr>\n",
       "  </tbody>\n",
       "</table>\n",
       "</div>"
      ],
      "text/plain": [
       "              l                 k                          solution  gcd  n  \\\n",
       "2   [-1, 2, -2]        [-7, 4, 0]       [1, 2, 2, 2, -3, -5, -6, 7]    1  8   \n",
       "3    [1, 0, -2]       [-3, -1, 1]     [3, 3, 3, 5, -7, -9, -11, 13]    2  8   \n",
       "4   [0, -1, -2]  [-1, -6, -5, -6]   [1, -6, -6, -6, 7, 11, 18, -19]    2  8   \n",
       "5  [-3, -4, -3]       [-5, 3, -7]    [3, 5, 5, 7, -9, -15, -15, 19]    2  8   \n",
       "6    [3, 0, -5]       [-1, 1, -1]  [4, 4, 4, 11, -12, -13, -19, 21]    8  8   \n",
       "7    [0, -2, 0]   [-3, -1, 1, -1]  [5, 5, 5, -15, 19, -21, -29, 31]    2  8   \n",
       "\n",
       "   zmax                                                      hidden  \\\n",
       "2     7        [{'S': 4, 'ψ': [(2, 2), (-3, 7), (1, -5), (2, -6)]}]   \n",
       "3    13      [{'S': 6, 'ψ': [(5, -11), (3, -9), (3, 3), (-7, 13)]}]   \n",
       "4    19   [{'S': 12, 'ψ': [(-6, -6), (-6, 18), (1, 11), (7, -19)]}]   \n",
       "5    19      [{'S': 10, 'ψ': [(3, 7), (5, -15), (-9, 19), (5, 5)]}]   \n",
       "6    21   [{'S': 8, 'ψ': [(11, -19), (-13, 21), (4, 4), (4, -12)]}]   \n",
       "7    31  [{'S': 10, 'ψ': [(-21, 31), (5, -15), (19, -29), (5, 5)]}]   \n",
       "\n",
       "            Generations  Gmax  \n",
       "2  [{'DG': 1, 'MG': 3}]    -4  \n",
       "3  [{'DG': 1, 'MG': 3}]    -4  \n",
       "4  [{'DG': 1, 'MG': 3}]    -4  \n",
       "5  [{'DG': 2, 'MG': 2}]    -4  \n",
       "6  [{'DG': 1, 'MG': 3}]    -4  \n",
       "7  [{'DG': 1, 'MG': 3}]    -4  "
      ]
     },
     "execution_count": 71,
     "metadata": {},
     "output_type": "execute_result"
    }
   ],
   "source": [
    "hs[hs['n']==8][:6]"
   ]
  },
  {
   "cell_type": "code",
   "execution_count": null,
   "id": "9b3f865a-4711-4f65-92bb-0ab81cccf74a",
   "metadata": {},
   "outputs": [
    {
     "data": {
      "text/html": [
       "<div>\n",
       "<style scoped>\n",
       "    .dataframe tbody tr th:only-of-type {\n",
       "        vertical-align: middle;\n",
       "    }\n",
       "\n",
       "    .dataframe tbody tr th {\n",
       "        vertical-align: top;\n",
       "    }\n",
       "\n",
       "    .dataframe thead th {\n",
       "        text-align: right;\n",
       "    }\n",
       "</style>\n",
       "<table border=\"1\" class=\"dataframe\">\n",
       "  <thead>\n",
       "    <tr style=\"text-align: right;\">\n",
       "      <th></th>\n",
       "      <th>l</th>\n",
       "      <th>k</th>\n",
       "      <th>solution</th>\n",
       "      <th>gcd</th>\n",
       "      <th>n</th>\n",
       "      <th>zmax</th>\n",
       "      <th>hidden</th>\n",
       "      <th>Generations</th>\n",
       "      <th>Gmax</th>\n",
       "    </tr>\n",
       "  </thead>\n",
       "  <tbody>\n",
       "    <tr>\n",
       "      <th>1761</th>\n",
       "      <td>[-2, 0, 1, 3]</td>\n",
       "      <td>[-1, 0, -1, 3]</td>\n",
       "      <td>[1, 1, 2, 2, -6, 9, -10, -12, 13]</td>\n",
       "      <td>1</td>\n",
       "      <td>9</td>\n",
       "      <td>13</td>\n",
       "      <td>[{'S': 3, 'ψ': [(-10, 13), (-6, 9), (1, 2), (9, -12)]}]</td>\n",
       "      <td>[{'DG': 2, 'MG': 0}]</td>\n",
       "      <td>-2</td>\n",
       "    </tr>\n",
       "    <tr>\n",
       "      <th>1762</th>\n",
       "      <td>[1, 2, 0, -1]</td>\n",
       "      <td>[-5, 2, 0, -5]</td>\n",
       "      <td>[3, -8, 10, 10, 11, -15, -15, -16, 20]</td>\n",
       "      <td>1</td>\n",
       "      <td>9</td>\n",
       "      <td>20</td>\n",
       "      <td>[{'S': 5, 'ψ': [(10, -15), (-15, 20), (11, -16), (3, -8)]}]</td>\n",
       "      <td>[{'DG': 2, 'MG': 0}]</td>\n",
       "      <td>-2</td>\n",
       "    </tr>\n",
       "    <tr>\n",
       "      <th>1763</th>\n",
       "      <td>[-2, 3, 2]</td>\n",
       "      <td>[-3, -8, -2, 1]</td>\n",
       "      <td>[1, 4, -10, -10, -12, 15, 15, 17, -20]</td>\n",
       "      <td>6</td>\n",
       "      <td>9</td>\n",
       "      <td>20</td>\n",
       "      <td>[{'S': 5, 'ψ': [(-10, 15), (15, -20), (-12, 17), (1, 4)]}]</td>\n",
       "      <td>[{'DG': 2, 'MG': 0}]</td>\n",
       "      <td>-2</td>\n",
       "    </tr>\n",
       "  </tbody>\n",
       "</table>\n",
       "</div>"
      ],
      "text/plain": [
       "                  l                k                                solution  \\\n",
       "1761  [-2, 0, 1, 3]   [-1, 0, -1, 3]       [1, 1, 2, 2, -6, 9, -10, -12, 13]   \n",
       "1762  [1, 2, 0, -1]   [-5, 2, 0, -5]  [3, -8, 10, 10, 11, -15, -15, -16, 20]   \n",
       "1763     [-2, 3, 2]  [-3, -8, -2, 1]  [1, 4, -10, -10, -12, 15, 15, 17, -20]   \n",
       "\n",
       "      gcd  n  zmax  \\\n",
       "1761    1  9    13   \n",
       "1762    1  9    20   \n",
       "1763    6  9    20   \n",
       "\n",
       "                                                           hidden  \\\n",
       "1761      [{'S': 3, 'ψ': [(-10, 13), (-6, 9), (1, 2), (9, -12)]}]   \n",
       "1762  [{'S': 5, 'ψ': [(10, -15), (-15, 20), (11, -16), (3, -8)]}]   \n",
       "1763   [{'S': 5, 'ψ': [(-10, 15), (15, -20), (-12, 17), (1, 4)]}]   \n",
       "\n",
       "               Generations  Gmax  \n",
       "1761  [{'DG': 2, 'MG': 0}]    -2  \n",
       "1762  [{'DG': 2, 'MG': 0}]    -2  \n",
       "1763  [{'DG': 2, 'MG': 0}]    -2  "
      ]
     },
     "execution_count": 72,
     "metadata": {},
     "output_type": "execute_result"
    }
   ],
   "source": [
    "hs[hs['n']==9][:3]"
   ]
  },
  {
   "cell_type": "code",
   "execution_count": null,
   "id": "54ecbd30-0e04-4b5f-a122-21dcf5338c92",
   "metadata": {},
   "outputs": [
    {
     "data": {
      "text/html": [
       "<div>\n",
       "<style scoped>\n",
       "    .dataframe tbody tr th:only-of-type {\n",
       "        vertical-align: middle;\n",
       "    }\n",
       "\n",
       "    .dataframe tbody tr th {\n",
       "        vertical-align: top;\n",
       "    }\n",
       "\n",
       "    .dataframe thead th {\n",
       "        text-align: right;\n",
       "    }\n",
       "</style>\n",
       "<table border=\"1\" class=\"dataframe\">\n",
       "  <thead>\n",
       "    <tr style=\"text-align: right;\">\n",
       "      <th></th>\n",
       "      <th>l</th>\n",
       "      <th>k</th>\n",
       "      <th>solution</th>\n",
       "      <th>gcd</th>\n",
       "      <th>n</th>\n",
       "      <th>zmax</th>\n",
       "      <th>hidden</th>\n",
       "      <th>Generations</th>\n",
       "      <th>Gmax</th>\n",
       "    </tr>\n",
       "  </thead>\n",
       "  <tbody>\n",
       "    <tr>\n",
       "      <th>1778</th>\n",
       "      <td>[-2, -1, -2, -1, 3]</td>\n",
       "      <td>[-3, -1, 2, -1, 3]</td>\n",
       "      <td>[1, 1, 1, 1, -3, 5, -6, 8, -9, -10, 11]</td>\n",
       "      <td>2</td>\n",
       "      <td>11</td>\n",
       "      <td>11</td>\n",
       "      <td>[{'S': 2, 'ψ': [(1, -3), (-9, 11), (8, -10), (-3, 5), (-6, 8), (1, 1)]}]</td>\n",
       "      <td>[{'DG': 1, 'MG': 4}]</td>\n",
       "      <td>-5</td>\n",
       "    </tr>\n",
       "    <tr>\n",
       "      <th>1779</th>\n",
       "      <td>[-4, 1, 0, 4]</td>\n",
       "      <td>[-1, -3, 1, 0, 2]</td>\n",
       "      <td>[1, 4, 4, 4, 4, -8, -9, 16, -17, -24, 25]</td>\n",
       "      <td>4</td>\n",
       "      <td>11</td>\n",
       "      <td>25</td>\n",
       "      <td>[{'S': 8, 'ψ': [(1, -9), (-8, 16), (-17, 25), (16, -24), (4, 4)]}]</td>\n",
       "      <td>[{'DG': 1, 'MG': 4}]</td>\n",
       "      <td>-5</td>\n",
       "    </tr>\n",
       "    <tr>\n",
       "      <th>1780</th>\n",
       "      <td>[-1, 0, 1, 0, 2]</td>\n",
       "      <td>[-3, -2, -1, -2, 0]</td>\n",
       "      <td>[1, 1, -2, -2, 4, 4, -6, 7, -8, -9, 10]</td>\n",
       "      <td>2</td>\n",
       "      <td>11</td>\n",
       "      <td>10</td>\n",
       "      <td>[{'S': 2, 'ψ': [(4, -6), (-8, 10), (-2, 4), (7, -9), (1, 1)]}]</td>\n",
       "      <td>[{'DG': 2, 'MG': 2}]</td>\n",
       "      <td>-4</td>\n",
       "    </tr>\n",
       "    <tr>\n",
       "      <th>1781</th>\n",
       "      <td>[-2, 1, 0, -1]</td>\n",
       "      <td>[-2, -4, -2, 1, 2]</td>\n",
       "      <td>[1, -2, -2, -4, -5, 6, 6, -7, 8, 11, -12]</td>\n",
       "      <td>1</td>\n",
       "      <td>11</td>\n",
       "      <td>12</td>\n",
       "      <td>[{'S': 4, 'ψ': [(8, -12), (-7, 11), (-2, -2), (-2, 6), (1, -5), (-4, 8)]}]</td>\n",
       "      <td>[{'DG': 2, 'MG': 2}]</td>\n",
       "      <td>-4</td>\n",
       "    </tr>\n",
       "  </tbody>\n",
       "</table>\n",
       "</div>"
      ],
      "text/plain": [
       "                        l                    k  \\\n",
       "1778  [-2, -1, -2, -1, 3]   [-3, -1, 2, -1, 3]   \n",
       "1779        [-4, 1, 0, 4]    [-1, -3, 1, 0, 2]   \n",
       "1780     [-1, 0, 1, 0, 2]  [-3, -2, -1, -2, 0]   \n",
       "1781       [-2, 1, 0, -1]   [-2, -4, -2, 1, 2]   \n",
       "\n",
       "                                       solution  gcd   n  zmax  \\\n",
       "1778    [1, 1, 1, 1, -3, 5, -6, 8, -9, -10, 11]    2  11    11   \n",
       "1779  [1, 4, 4, 4, 4, -8, -9, 16, -17, -24, 25]    4  11    25   \n",
       "1780    [1, 1, -2, -2, 4, 4, -6, 7, -8, -9, 10]    2  11    10   \n",
       "1781  [1, -2, -2, -4, -5, 6, 6, -7, 8, 11, -12]    1  11    12   \n",
       "\n",
       "                                                                          hidden  \\\n",
       "1778    [{'S': 2, 'ψ': [(1, -3), (-9, 11), (8, -10), (-3, 5), (-6, 8), (1, 1)]}]   \n",
       "1779          [{'S': 8, 'ψ': [(1, -9), (-8, 16), (-17, 25), (16, -24), (4, 4)]}]   \n",
       "1780              [{'S': 2, 'ψ': [(4, -6), (-8, 10), (-2, 4), (7, -9), (1, 1)]}]   \n",
       "1781  [{'S': 4, 'ψ': [(8, -12), (-7, 11), (-2, -2), (-2, 6), (1, -5), (-4, 8)]}]   \n",
       "\n",
       "               Generations  Gmax  \n",
       "1778  [{'DG': 1, 'MG': 4}]    -5  \n",
       "1779  [{'DG': 1, 'MG': 4}]    -5  \n",
       "1780  [{'DG': 2, 'MG': 2}]    -4  \n",
       "1781  [{'DG': 2, 'MG': 2}]    -4  "
      ]
     },
     "execution_count": 73,
     "metadata": {},
     "output_type": "execute_result"
    }
   ],
   "source": [
    "hs[hs['n']==11][:4]"
   ]
  },
  {
   "cell_type": "code",
   "execution_count": null,
   "id": "4d833da6-307e-449c-bdd6-f21262951487",
   "metadata": {},
   "outputs": [
    {
     "data": {
      "text/html": [
       "<div>\n",
       "<style scoped>\n",
       "    .dataframe tbody tr th:only-of-type {\n",
       "        vertical-align: middle;\n",
       "    }\n",
       "\n",
       "    .dataframe tbody tr th {\n",
       "        vertical-align: top;\n",
       "    }\n",
       "\n",
       "    .dataframe thead th {\n",
       "        text-align: right;\n",
       "    }\n",
       "</style>\n",
       "<table border=\"1\" class=\"dataframe\">\n",
       "  <thead>\n",
       "    <tr style=\"text-align: right;\">\n",
       "      <th></th>\n",
       "      <th>l</th>\n",
       "      <th>k</th>\n",
       "      <th>solution</th>\n",
       "      <th>gcd</th>\n",
       "      <th>n</th>\n",
       "      <th>zmax</th>\n",
       "      <th>hidden</th>\n",
       "      <th>Generations</th>\n",
       "      <th>Gmax</th>\n",
       "    </tr>\n",
       "  </thead>\n",
       "  <tbody>\n",
       "    <tr>\n",
       "      <th>2295</th>\n",
       "      <td>[1, 0, -2, 0, -2]</td>\n",
       "      <td>[-3, -1, 1, -1, 1]</td>\n",
       "      <td>[1, 1, 7, 7, 7, 7, 7, -11, -15, -15, -21, 25]</td>\n",
       "      <td>2</td>\n",
       "      <td>12</td>\n",
       "      <td>25</td>\n",
       "      <td>[{'S': 14, 'ψ': [(1, -15), (7, 7), (-11, 25), (7, -21)]}]</td>\n",
       "      <td>[{'DG': 2, 'MG': 5}]</td>\n",
       "      <td>-7</td>\n",
       "    </tr>\n",
       "    <tr>\n",
       "      <th>2296</th>\n",
       "      <td>[-1, 0, -3, 0, -1]</td>\n",
       "      <td>[-1, 1, -1, -3, -1]</td>\n",
       "      <td>[5, 5, 7, 7, 7, 7, 7, -15, -19, -19, -21, 29]</td>\n",
       "      <td>2</td>\n",
       "      <td>12</td>\n",
       "      <td>29</td>\n",
       "      <td>[{'S': 14, 'ψ': [(-15, 29), (7, 7), (7, -21), (5, -19)]}]</td>\n",
       "      <td>[{'DG': 2, 'MG': 5}]</td>\n",
       "      <td>-7</td>\n",
       "    </tr>\n",
       "    <tr>\n",
       "      <th>2297</th>\n",
       "      <td>[2, 0, -1, 0, 1]</td>\n",
       "      <td>[-3, -2, -3, -2, -1]</td>\n",
       "      <td>[1, -2, -2, -3, 4, 4, 4, 4, -5, -6, -6, 7]</td>\n",
       "      <td>2</td>\n",
       "      <td>12</td>\n",
       "      <td>7</td>\n",
       "      <td>[{'S': 8, 'ψ': [(-2, -6), (-3, -5), (4, 4), (1, 7)]}]</td>\n",
       "      <td>[{'DG': 2, 'MG': 4}]</td>\n",
       "      <td>-6</td>\n",
       "    </tr>\n",
       "    <tr>\n",
       "      <th>2298</th>\n",
       "      <td>[-1, 1, -2, -1, 1]</td>\n",
       "      <td>[-2, 0, -1, -3, 0]</td>\n",
       "      <td>[1, 1, 1, 1, 1, 2, -3, -4, 5, -6, -7, 8]</td>\n",
       "      <td>1</td>\n",
       "      <td>12</td>\n",
       "      <td>8</td>\n",
       "      <td>[{'S': 2, 'ψ': [(1, -3), (2, -4), (-3, 5), (5, -7), (-6, 8), (1, 1)]}]</td>\n",
       "      <td>[{'DG': 1, 'MG': 5}]</td>\n",
       "      <td>-6</td>\n",
       "    </tr>\n",
       "  </tbody>\n",
       "</table>\n",
       "</div>"
      ],
      "text/plain": [
       "                       l                     k  \\\n",
       "2295   [1, 0, -2, 0, -2]    [-3, -1, 1, -1, 1]   \n",
       "2296  [-1, 0, -3, 0, -1]   [-1, 1, -1, -3, -1]   \n",
       "2297    [2, 0, -1, 0, 1]  [-3, -2, -3, -2, -1]   \n",
       "2298  [-1, 1, -2, -1, 1]    [-2, 0, -1, -3, 0]   \n",
       "\n",
       "                                           solution  gcd   n  zmax  \\\n",
       "2295  [1, 1, 7, 7, 7, 7, 7, -11, -15, -15, -21, 25]    2  12    25   \n",
       "2296  [5, 5, 7, 7, 7, 7, 7, -15, -19, -19, -21, 29]    2  12    29   \n",
       "2297     [1, -2, -2, -3, 4, 4, 4, 4, -5, -6, -6, 7]    2  12     7   \n",
       "2298       [1, 1, 1, 1, 1, 2, -3, -4, 5, -6, -7, 8]    1  12     8   \n",
       "\n",
       "                                                                      hidden  \\\n",
       "2295               [{'S': 14, 'ψ': [(1, -15), (7, 7), (-11, 25), (7, -21)]}]   \n",
       "2296               [{'S': 14, 'ψ': [(-15, 29), (7, 7), (7, -21), (5, -19)]}]   \n",
       "2297                   [{'S': 8, 'ψ': [(-2, -6), (-3, -5), (4, 4), (1, 7)]}]   \n",
       "2298  [{'S': 2, 'ψ': [(1, -3), (2, -4), (-3, 5), (5, -7), (-6, 8), (1, 1)]}]   \n",
       "\n",
       "               Generations  Gmax  \n",
       "2295  [{'DG': 2, 'MG': 5}]    -7  \n",
       "2296  [{'DG': 2, 'MG': 5}]    -7  \n",
       "2297  [{'DG': 2, 'MG': 4}]    -6  \n",
       "2298  [{'DG': 1, 'MG': 5}]    -6  "
      ]
     },
     "execution_count": 74,
     "metadata": {},
     "output_type": "execute_result"
    }
   ],
   "source": [
    "hs[hs['n']==12][:4]"
   ]
  },
  {
   "cell_type": "code",
   "execution_count": null,
   "id": "92a5c991-081d-4627-bf07-da0ae1f449f2",
   "metadata": {},
   "outputs": [],
   "source": [
    "hs3['Gmax']=-hs3['Generations'].str[0].apply(lambda d: sum(d.values()))\n",
    "hs3=hs3.sort_values(['n','Gmax']).reset_index(drop=True)"
   ]
  },
  {
   "cell_type": "code",
   "execution_count": null,
   "id": "ebd62377-8b1f-475b-bbc5-9a539794ef53",
   "metadata": {},
   "outputs": [
    {
     "data": {
      "text/html": [
       "<div>\n",
       "<style scoped>\n",
       "    .dataframe tbody tr th:only-of-type {\n",
       "        vertical-align: middle;\n",
       "    }\n",
       "\n",
       "    .dataframe tbody tr th {\n",
       "        vertical-align: top;\n",
       "    }\n",
       "\n",
       "    .dataframe thead th {\n",
       "        text-align: right;\n",
       "    }\n",
       "</style>\n",
       "<table border=\"1\" class=\"dataframe\">\n",
       "  <thead>\n",
       "    <tr style=\"text-align: right;\">\n",
       "      <th></th>\n",
       "      <th>l</th>\n",
       "      <th>k</th>\n",
       "      <th>solution</th>\n",
       "      <th>gcd</th>\n",
       "      <th>n</th>\n",
       "      <th>zmax</th>\n",
       "      <th>hidden</th>\n",
       "      <th>Generations</th>\n",
       "      <th>Gmax</th>\n",
       "    </tr>\n",
       "  </thead>\n",
       "  <tbody>\n",
       "    <tr>\n",
       "      <th>0</th>\n",
       "      <td>[1, 0, -2]</td>\n",
       "      <td>[-3, -1, 1]</td>\n",
       "      <td>[3, 3, 3, 5, -7, -9, -11, 13]</td>\n",
       "      <td>2</td>\n",
       "      <td>8</td>\n",
       "      <td>13</td>\n",
       "      <td>[{'S': 18, 'ψ': [(-7, -11), (-9, -9), (5, 13)]}]</td>\n",
       "      <td>[{'DG': 1, 'MG': 1}]</td>\n",
       "      <td>-2</td>\n",
       "    </tr>\n",
       "  </tbody>\n",
       "</table>\n",
       "</div>"
      ],
      "text/plain": [
       "            l            k                       solution  gcd  n  zmax  \\\n",
       "0  [1, 0, -2]  [-3, -1, 1]  [3, 3, 3, 5, -7, -9, -11, 13]    2  8    13   \n",
       "\n",
       "                                             hidden           Generations  \\\n",
       "0  [{'S': 18, 'ψ': [(-7, -11), (-9, -9), (5, 13)]}]  [{'DG': 1, 'MG': 1}]   \n",
       "\n",
       "   Gmax  \n",
       "0    -2  "
      ]
     },
     "execution_count": 76,
     "metadata": {},
     "output_type": "execute_result"
    }
   ],
   "source": [
    "hs3[hs3['n']==8][:1]"
   ]
  },
  {
   "cell_type": "code",
   "execution_count": null,
   "id": "ef353d09-4292-47c0-aa98-d4e2711b8873",
   "metadata": {},
   "outputs": [
    {
     "data": {
      "text/html": [
       "<div>\n",
       "<style scoped>\n",
       "    .dataframe tbody tr th:only-of-type {\n",
       "        vertical-align: middle;\n",
       "    }\n",
       "\n",
       "    .dataframe tbody tr th {\n",
       "        vertical-align: top;\n",
       "    }\n",
       "\n",
       "    .dataframe thead th {\n",
       "        text-align: right;\n",
       "    }\n",
       "</style>\n",
       "<table border=\"1\" class=\"dataframe\">\n",
       "  <thead>\n",
       "    <tr style=\"text-align: right;\">\n",
       "      <th></th>\n",
       "      <th>l</th>\n",
       "      <th>k</th>\n",
       "      <th>solution</th>\n",
       "      <th>gcd</th>\n",
       "      <th>n</th>\n",
       "      <th>zmax</th>\n",
       "      <th>hidden</th>\n",
       "      <th>Generations</th>\n",
       "      <th>Gmax</th>\n",
       "    </tr>\n",
       "  </thead>\n",
       "  <tbody>\n",
       "    <tr>\n",
       "      <th>3</th>\n",
       "      <td>[-2, -1, 0]</td>\n",
       "      <td>[-1, -3, -5, -3]</td>\n",
       "      <td>[5, 6, 6, 6, -8, -9, -9, -10, 13]</td>\n",
       "      <td>2</td>\n",
       "      <td>9</td>\n",
       "      <td>13</td>\n",
       "      <td>[{'S': 18, 'ψ': [(-9, -9), (-8, -10), (5, 13)]}]</td>\n",
       "      <td>[{'DG': 1, 'MG': 2}]</td>\n",
       "      <td>-3</td>\n",
       "    </tr>\n",
       "    <tr>\n",
       "      <th>4</th>\n",
       "      <td>[1, -2, -1]</td>\n",
       "      <td>[-4, -9, -5, -3]</td>\n",
       "      <td>[1, -2, 6, 6, 6, -9, -9, -16, 17]</td>\n",
       "      <td>6</td>\n",
       "      <td>9</td>\n",
       "      <td>17</td>\n",
       "      <td>[{'S': 18, 'ψ': [(-9, -9), (1, 17), (-2, -16)]}]</td>\n",
       "      <td>[{'DG': 1, 'MG': 2}]</td>\n",
       "      <td>-3</td>\n",
       "    </tr>\n",
       "    <tr>\n",
       "      <th>5</th>\n",
       "      <td>[-2, 0, 2]</td>\n",
       "      <td>[-1, 1, 0, -1]</td>\n",
       "      <td>[1, 1, -4, -5, 9, 9, 9, -10, -10]</td>\n",
       "      <td>1</td>\n",
       "      <td>9</td>\n",
       "      <td>10</td>\n",
       "      <td>[{'S': 9, 'ψ': [(1, -10), (-4, -5)]}]</td>\n",
       "      <td>[{'DG': 2, 'MG': 0}]</td>\n",
       "      <td>-2</td>\n",
       "    </tr>\n",
       "    <tr>\n",
       "      <th>6</th>\n",
       "      <td>[2, -2, 1, 3]</td>\n",
       "      <td>[-5, -4, -3, -1]</td>\n",
       "      <td>[1, -2, -2, -2, 5, -7, 8, 9, -10]</td>\n",
       "      <td>1</td>\n",
       "      <td>9</td>\n",
       "      <td>10</td>\n",
       "      <td>[{'S': 2, 'ψ': [(8, -10), (5, -7), (1, 1), (-7, 9)]}]</td>\n",
       "      <td>[{'DG': 1, 'MG': 1}]</td>\n",
       "      <td>-2</td>\n",
       "    </tr>\n",
       "  </tbody>\n",
       "</table>\n",
       "</div>"
      ],
      "text/plain": [
       "               l                 k                           solution  gcd  n  \\\n",
       "3    [-2, -1, 0]  [-1, -3, -5, -3]  [5, 6, 6, 6, -8, -9, -9, -10, 13]    2  9   \n",
       "4    [1, -2, -1]  [-4, -9, -5, -3]  [1, -2, 6, 6, 6, -9, -9, -16, 17]    6  9   \n",
       "5     [-2, 0, 2]    [-1, 1, 0, -1]  [1, 1, -4, -5, 9, 9, 9, -10, -10]    1  9   \n",
       "6  [2, -2, 1, 3]  [-5, -4, -3, -1]  [1, -2, -2, -2, 5, -7, 8, 9, -10]    1  9   \n",
       "\n",
       "   zmax                                                 hidden  \\\n",
       "3    13       [{'S': 18, 'ψ': [(-9, -9), (-8, -10), (5, 13)]}]   \n",
       "4    17       [{'S': 18, 'ψ': [(-9, -9), (1, 17), (-2, -16)]}]   \n",
       "5    10                  [{'S': 9, 'ψ': [(1, -10), (-4, -5)]}]   \n",
       "6    10  [{'S': 2, 'ψ': [(8, -10), (5, -7), (1, 1), (-7, 9)]}]   \n",
       "\n",
       "            Generations  Gmax  \n",
       "3  [{'DG': 1, 'MG': 2}]    -3  \n",
       "4  [{'DG': 1, 'MG': 2}]    -3  \n",
       "5  [{'DG': 2, 'MG': 0}]    -2  \n",
       "6  [{'DG': 1, 'MG': 1}]    -2  "
      ]
     },
     "execution_count": 77,
     "metadata": {},
     "output_type": "execute_result"
    }
   ],
   "source": [
    "hs3[hs3['n']==9][:4]"
   ]
  },
  {
   "cell_type": "code",
   "execution_count": null,
   "id": "1a2dfd23-be61-4e2b-aa5a-06ae9e664752",
   "metadata": {},
   "outputs": [
    {
     "data": {
      "text/html": [
       "<div>\n",
       "<style scoped>\n",
       "    .dataframe tbody tr th:only-of-type {\n",
       "        vertical-align: middle;\n",
       "    }\n",
       "\n",
       "    .dataframe tbody tr th {\n",
       "        vertical-align: top;\n",
       "    }\n",
       "\n",
       "    .dataframe thead th {\n",
       "        text-align: right;\n",
       "    }\n",
       "</style>\n",
       "<table border=\"1\" class=\"dataframe\">\n",
       "  <thead>\n",
       "    <tr style=\"text-align: right;\">\n",
       "      <th></th>\n",
       "      <th>l</th>\n",
       "      <th>k</th>\n",
       "      <th>solution</th>\n",
       "      <th>gcd</th>\n",
       "      <th>n</th>\n",
       "      <th>zmax</th>\n",
       "      <th>hidden</th>\n",
       "      <th>Generations</th>\n",
       "      <th>Gmax</th>\n",
       "    </tr>\n",
       "  </thead>\n",
       "  <tbody>\n",
       "    <tr>\n",
       "      <th>44</th>\n",
       "      <td>[1, 0, -2, -1]</td>\n",
       "      <td>[-3, -1, -3, -5]</td>\n",
       "      <td>[1, 1, -3, -3, -3, 7, -9, 11, 11, -13]</td>\n",
       "      <td>2</td>\n",
       "      <td>10</td>\n",
       "      <td>13</td>\n",
       "      <td>[{'S': 2, 'ψ': [(-9, 11), (7, -9), (1, 1), (11, -13)]}]</td>\n",
       "      <td>[{'DG': 1, 'MG': 2}]</td>\n",
       "      <td>-3</td>\n",
       "    </tr>\n",
       "    <tr>\n",
       "      <th>45</th>\n",
       "      <td>[-4, -1, 0, 1]</td>\n",
       "      <td>[-4, 1, -1, -3, 1]</td>\n",
       "      <td>[1, 1, 1, 2, 2, -7, 11, -12, -15, 16]</td>\n",
       "      <td>3</td>\n",
       "      <td>10</td>\n",
       "      <td>16</td>\n",
       "      <td>[{'S': 4, 'ψ': [(-12, 16), (2, 2), (-7, 11), (11, -15)]}]</td>\n",
       "      <td>[{'DG': 1, 'MG': 2}]</td>\n",
       "      <td>-3</td>\n",
       "    </tr>\n",
       "    <tr>\n",
       "      <th>46</th>\n",
       "      <td>[-3, 3, 0, -6]</td>\n",
       "      <td>[-3, -2, 3, 4]</td>\n",
       "      <td>[3, 3, 3, -4, 9, 9, -10, -14, -27, 28]</td>\n",
       "      <td>18</td>\n",
       "      <td>10</td>\n",
       "      <td>28</td>\n",
       "      <td>[{'S': 18, 'ψ': [(-10, 28), (-4, -14), (9, -27), (9, 9)]}]</td>\n",
       "      <td>[{'DG': 1, 'MG': 2}]</td>\n",
       "      <td>-3</td>\n",
       "    </tr>\n",
       "    <tr>\n",
       "      <th>47</th>\n",
       "      <td>[-1, 0, -4, -3]</td>\n",
       "      <td>[-3, 1, -1, -5]</td>\n",
       "      <td>[1, -3, -3, -3, -9, -9, 11, 17, 27, -29]</td>\n",
       "      <td>2</td>\n",
       "      <td>10</td>\n",
       "      <td>29</td>\n",
       "      <td>[{'S': 18, 'ψ': [(-9, 27), (11, -29), (1, 17), (-9, -9)]}]</td>\n",
       "      <td>[{'DG': 1, 'MG': 2}]</td>\n",
       "      <td>-3</td>\n",
       "    </tr>\n",
       "    <tr>\n",
       "      <th>48</th>\n",
       "      <td>[0, 1, 0, -2]</td>\n",
       "      <td>[-1, -3, 3, -1, -3]</td>\n",
       "      <td>[1, -5, -7, 9, -11, -13, 15, 15, 15, -19]</td>\n",
       "      <td>4</td>\n",
       "      <td>10</td>\n",
       "      <td>19</td>\n",
       "      <td>[{'S': 18, 'ψ': [(-5, -13), (1, -19), (-7, -11), (9, 9)]}]</td>\n",
       "      <td>[{'DG': 1, 'MG': 1}]</td>\n",
       "      <td>-2</td>\n",
       "    </tr>\n",
       "  </tbody>\n",
       "</table>\n",
       "</div>"
      ],
      "text/plain": [
       "                  l                    k  \\\n",
       "44   [1, 0, -2, -1]     [-3, -1, -3, -5]   \n",
       "45   [-4, -1, 0, 1]   [-4, 1, -1, -3, 1]   \n",
       "46   [-3, 3, 0, -6]       [-3, -2, 3, 4]   \n",
       "47  [-1, 0, -4, -3]      [-3, 1, -1, -5]   \n",
       "48    [0, 1, 0, -2]  [-1, -3, 3, -1, -3]   \n",
       "\n",
       "                                     solution  gcd   n  zmax  \\\n",
       "44     [1, 1, -3, -3, -3, 7, -9, 11, 11, -13]    2  10    13   \n",
       "45      [1, 1, 1, 2, 2, -7, 11, -12, -15, 16]    3  10    16   \n",
       "46     [3, 3, 3, -4, 9, 9, -10, -14, -27, 28]   18  10    28   \n",
       "47   [1, -3, -3, -3, -9, -9, 11, 17, 27, -29]    2  10    29   \n",
       "48  [1, -5, -7, 9, -11, -13, 15, 15, 15, -19]    4  10    19   \n",
       "\n",
       "                                                        hidden  \\\n",
       "44     [{'S': 2, 'ψ': [(-9, 11), (7, -9), (1, 1), (11, -13)]}]   \n",
       "45   [{'S': 4, 'ψ': [(-12, 16), (2, 2), (-7, 11), (11, -15)]}]   \n",
       "46  [{'S': 18, 'ψ': [(-10, 28), (-4, -14), (9, -27), (9, 9)]}]   \n",
       "47  [{'S': 18, 'ψ': [(-9, 27), (11, -29), (1, 17), (-9, -9)]}]   \n",
       "48  [{'S': 18, 'ψ': [(-5, -13), (1, -19), (-7, -11), (9, 9)]}]   \n",
       "\n",
       "             Generations  Gmax  \n",
       "44  [{'DG': 1, 'MG': 2}]    -3  \n",
       "45  [{'DG': 1, 'MG': 2}]    -3  \n",
       "46  [{'DG': 1, 'MG': 2}]    -3  \n",
       "47  [{'DG': 1, 'MG': 2}]    -3  \n",
       "48  [{'DG': 1, 'MG': 1}]    -2  "
      ]
     },
     "execution_count": 78,
     "metadata": {},
     "output_type": "execute_result"
    }
   ],
   "source": [
    "hs3[hs3['n']==10][:5]"
   ]
  },
  {
   "cell_type": "code",
   "execution_count": null,
   "id": "2b0f69f7-c511-454f-8670-ecccfc31b151",
   "metadata": {},
   "outputs": [
    {
     "data": {
      "text/html": [
       "<div>\n",
       "<style scoped>\n",
       "    .dataframe tbody tr th:only-of-type {\n",
       "        vertical-align: middle;\n",
       "    }\n",
       "\n",
       "    .dataframe tbody tr th {\n",
       "        vertical-align: top;\n",
       "    }\n",
       "\n",
       "    .dataframe thead th {\n",
       "        text-align: right;\n",
       "    }\n",
       "</style>\n",
       "<table border=\"1\" class=\"dataframe\">\n",
       "  <thead>\n",
       "    <tr style=\"text-align: right;\">\n",
       "      <th></th>\n",
       "      <th>l</th>\n",
       "      <th>k</th>\n",
       "      <th>solution</th>\n",
       "      <th>gcd</th>\n",
       "      <th>n</th>\n",
       "      <th>zmax</th>\n",
       "      <th>hidden</th>\n",
       "      <th>Generations</th>\n",
       "      <th>Gmax</th>\n",
       "    </tr>\n",
       "  </thead>\n",
       "  <tbody>\n",
       "    <tr>\n",
       "      <th>67</th>\n",
       "      <td>[2, -1, 2, -1]</td>\n",
       "      <td>[-2, -1, -2, 2, 4]</td>\n",
       "      <td>[4, 5, 8, -9, -9, 10, -12, -12, -12, 13, 14]</td>\n",
       "      <td>1</td>\n",
       "      <td>11</td>\n",
       "      <td>14</td>\n",
       "      <td>[{'S': 18, 'ψ': [(5, 13), (4, 14), (-9, -9), (8, 10)]}]</td>\n",
       "      <td>[{'DG': 1, 'MG': 2}]</td>\n",
       "      <td>-3</td>\n",
       "    </tr>\n",
       "    <tr>\n",
       "      <th>68</th>\n",
       "      <td>[2, 3, 0, -3, 3]</td>\n",
       "      <td>[0, -3, 1, -1, -3]</td>\n",
       "      <td>[1, 1, -2, -3, 6, 6, 6, -7, -10, -10, 12]</td>\n",
       "      <td>15</td>\n",
       "      <td>11</td>\n",
       "      <td>12</td>\n",
       "      <td>[{'S': 9, 'ψ': [(-3, 12), (1, -10), (-2, -7)]}]</td>\n",
       "      <td>[{'DG': 2, 'MG': 0}]</td>\n",
       "      <td>-2</td>\n",
       "    </tr>\n",
       "  </tbody>\n",
       "</table>\n",
       "</div>"
      ],
      "text/plain": [
       "                   l                   k  \\\n",
       "67    [2, -1, 2, -1]  [-2, -1, -2, 2, 4]   \n",
       "68  [2, 3, 0, -3, 3]  [0, -3, 1, -1, -3]   \n",
       "\n",
       "                                        solution  gcd   n  zmax  \\\n",
       "67  [4, 5, 8, -9, -9, 10, -12, -12, -12, 13, 14]    1  11    14   \n",
       "68     [1, 1, -2, -3, 6, 6, 6, -7, -10, -10, 12]   15  11    12   \n",
       "\n",
       "                                                     hidden  \\\n",
       "67  [{'S': 18, 'ψ': [(5, 13), (4, 14), (-9, -9), (8, 10)]}]   \n",
       "68          [{'S': 9, 'ψ': [(-3, 12), (1, -10), (-2, -7)]}]   \n",
       "\n",
       "             Generations  Gmax  \n",
       "67  [{'DG': 1, 'MG': 2}]    -3  \n",
       "68  [{'DG': 2, 'MG': 0}]    -2  "
      ]
     },
     "execution_count": 79,
     "metadata": {},
     "output_type": "execute_result"
    }
   ],
   "source": [
    "hs3[hs3['n']==11][:2]"
   ]
  },
  {
   "cell_type": "code",
   "execution_count": null,
   "id": "482d9bd4-17bb-4987-bc25-49b1fe5c8e28",
   "metadata": {},
   "outputs": [
    {
     "data": {
      "text/html": [
       "<div>\n",
       "<style scoped>\n",
       "    .dataframe tbody tr th:only-of-type {\n",
       "        vertical-align: middle;\n",
       "    }\n",
       "\n",
       "    .dataframe tbody tr th {\n",
       "        vertical-align: top;\n",
       "    }\n",
       "\n",
       "    .dataframe thead th {\n",
       "        text-align: right;\n",
       "    }\n",
       "</style>\n",
       "<table border=\"1\" class=\"dataframe\">\n",
       "  <thead>\n",
       "    <tr style=\"text-align: right;\">\n",
       "      <th></th>\n",
       "      <th>l</th>\n",
       "      <th>k</th>\n",
       "      <th>solution</th>\n",
       "      <th>gcd</th>\n",
       "      <th>n</th>\n",
       "      <th>zmax</th>\n",
       "      <th>hidden</th>\n",
       "      <th>Generations</th>\n",
       "      <th>Gmax</th>\n",
       "    </tr>\n",
       "  </thead>\n",
       "  <tbody>\n",
       "    <tr>\n",
       "      <th>86</th>\n",
       "      <td>[1, -3, -2, 0, -1]</td>\n",
       "      <td>[-3, -1, -3, -1, -3]</td>\n",
       "      <td>[1, 1, 3, 3, 3, 5, 5, -7, -9, -9, -9, 13]</td>\n",
       "      <td>2</td>\n",
       "      <td>12</td>\n",
       "      <td>13</td>\n",
       "      <td>[{'S': 6, 'ψ': [(1, 5), (3, 3), (-7, 13), (1, -7)]}]</td>\n",
       "      <td>[{'DG': 2, 'MG': 3}]</td>\n",
       "      <td>-5</td>\n",
       "    </tr>\n",
       "    <tr>\n",
       "      <th>87</th>\n",
       "      <td>[1, 0, 2, 0, 2]</td>\n",
       "      <td>[-3, -1, -3, -1, -3]</td>\n",
       "      <td>[7, 9, 9, 9, 11, -13, -13, -27, -27, -27, 31, 31]</td>\n",
       "      <td>2</td>\n",
       "      <td>12</td>\n",
       "      <td>31</td>\n",
       "      <td>[{'S': 18, 'ψ': [(9, 9), (7, 11), (-13, 31)]}]</td>\n",
       "      <td>[{'DG': 2, 'MG': 3}]</td>\n",
       "      <td>-5</td>\n",
       "    </tr>\n",
       "    <tr>\n",
       "      <th>88</th>\n",
       "      <td>[-2, -3, -2, -3, 2]</td>\n",
       "      <td>[-2, -1, -3, -1, 1]</td>\n",
       "      <td>[1, 1, -2, -2, -2, 6, 6, 7, -8, -8, -9, 10]</td>\n",
       "      <td>4</td>\n",
       "      <td>12</td>\n",
       "      <td>10</td>\n",
       "      <td>[{'S': 2, 'ψ': [(-8, 10), (6, -8), (7, -9), (1, 1)]}]</td>\n",
       "      <td>[{'DG': 2, 'MG': 2}]</td>\n",
       "      <td>-4</td>\n",
       "    </tr>\n",
       "    <tr>\n",
       "      <th>89</th>\n",
       "      <td>[-3, -1, -2, 3, -3]</td>\n",
       "      <td>[-3, -2, -3, -2, 0]</td>\n",
       "      <td>[3, 3, 3, 6, 7, -8, -9, -9, -9, -10, 11, 12]</td>\n",
       "      <td>19</td>\n",
       "      <td>12</td>\n",
       "      <td>12</td>\n",
       "      <td>[{'S': 18, 'ψ': [(6, 12), (-9, -9), (-8, -10), (7, 11)]}]</td>\n",
       "      <td>[{'DG': 1, 'MG': 3}]</td>\n",
       "      <td>-4</td>\n",
       "    </tr>\n",
       "    <tr>\n",
       "      <th>90</th>\n",
       "      <td>[-3, -1, 2, 0, -3]</td>\n",
       "      <td>[-3, -2, -1, -2, -3]</td>\n",
       "      <td>[3, 4, -8, -9, -9, -9, -10, 14, 15, 15, 15, -21]</td>\n",
       "      <td>12</td>\n",
       "      <td>12</td>\n",
       "      <td>21</td>\n",
       "      <td>[{'S': 18, 'ψ': [(3, -21), (4, 14), (-9, -9), (-8, -10)]}]</td>\n",
       "      <td>[{'DG': 1, 'MG': 3}]</td>\n",
       "      <td>-4</td>\n",
       "    </tr>\n",
       "  </tbody>\n",
       "</table>\n",
       "</div>"
      ],
      "text/plain": [
       "                      l                     k  \\\n",
       "86   [1, -3, -2, 0, -1]  [-3, -1, -3, -1, -3]   \n",
       "87      [1, 0, 2, 0, 2]  [-3, -1, -3, -1, -3]   \n",
       "88  [-2, -3, -2, -3, 2]   [-2, -1, -3, -1, 1]   \n",
       "89  [-3, -1, -2, 3, -3]   [-3, -2, -3, -2, 0]   \n",
       "90   [-3, -1, 2, 0, -3]  [-3, -2, -1, -2, -3]   \n",
       "\n",
       "                                             solution  gcd   n  zmax  \\\n",
       "86          [1, 1, 3, 3, 3, 5, 5, -7, -9, -9, -9, 13]    2  12    13   \n",
       "87  [7, 9, 9, 9, 11, -13, -13, -27, -27, -27, 31, 31]    2  12    31   \n",
       "88        [1, 1, -2, -2, -2, 6, 6, 7, -8, -8, -9, 10]    4  12    10   \n",
       "89       [3, 3, 3, 6, 7, -8, -9, -9, -9, -10, 11, 12]   19  12    12   \n",
       "90   [3, 4, -8, -9, -9, -9, -10, 14, 15, 15, 15, -21]   12  12    21   \n",
       "\n",
       "                                                        hidden  \\\n",
       "86        [{'S': 6, 'ψ': [(1, 5), (3, 3), (-7, 13), (1, -7)]}]   \n",
       "87              [{'S': 18, 'ψ': [(9, 9), (7, 11), (-13, 31)]}]   \n",
       "88       [{'S': 2, 'ψ': [(-8, 10), (6, -8), (7, -9), (1, 1)]}]   \n",
       "89   [{'S': 18, 'ψ': [(6, 12), (-9, -9), (-8, -10), (7, 11)]}]   \n",
       "90  [{'S': 18, 'ψ': [(3, -21), (4, 14), (-9, -9), (-8, -10)]}]   \n",
       "\n",
       "             Generations  Gmax  \n",
       "86  [{'DG': 2, 'MG': 3}]    -5  \n",
       "87  [{'DG': 2, 'MG': 3}]    -5  \n",
       "88  [{'DG': 2, 'MG': 2}]    -4  \n",
       "89  [{'DG': 1, 'MG': 3}]    -4  \n",
       "90  [{'DG': 1, 'MG': 3}]    -4  "
      ]
     },
     "execution_count": 80,
     "metadata": {},
     "output_type": "execute_result"
    }
   ],
   "source": [
    "hs3[hs3['n']==12][:5]"
   ]
  },
  {
   "cell_type": "code",
   "execution_count": null,
   "id": "c6c41163-11f1-47da-85ff-df521abc0464",
   "metadata": {},
   "outputs": [],
   "source": []
  }
 ],
 "metadata": {
  "kernelspec": {
   "display_name": "Python 3.7.3 64-bit",
   "language": "python",
   "name": "python3"
  },
  "language_info": {
   "codemirror_mode": {
    "name": "ipython",
    "version": 3
   },
   "file_extension": ".py",
   "mimetype": "text/x-python",
   "name": "python",
   "nbconvert_exporter": "python",
   "pygments_lexer": "ipython3",
   "version": "3.9.2"
  },
  "vscode": {
   "interpreter": {
    "hash": "31f2aee4e71d21fbe5cf8b01ff0e069b9275f58929596ceb00d14d90e3e16cd6"
   }
  }
 },
 "nbformat": 4,
 "nbformat_minor": 5
}
