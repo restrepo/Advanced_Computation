{
 "cells": [
  {
   "cell_type": "markdown",
   "id": "2cf03b5f-6f5f-4607-b0bc-4603b5217b12",
   "metadata": {},
   "source": [
    "# Data Analysis"
   ]
  },
  {
   "cell_type": "markdown",
   "id": "546374fd-35ad-4edf-bd12-7a93b9ebc168",
   "metadata": {},
   "source": [
    "Obtain the Hidden Sector from: https://zenodo.org/record/5526707#.YzwIANJBzeQ in the format\n",
    "\n",
    "![img](./squeme.svg)\n",
    "\n",
    "Example of entry"
   ]
  },
  {
   "cell_type": "code",
   "execution_count": 2,
   "id": "4c8e4e30-7e06-4eb7-87dc-2ec66a4da634",
   "metadata": {},
   "outputs": [],
   "source": [
    "from IPython.display import JSON "
   ]
  },
  {
   "cell_type": "code",
   "execution_count": 10,
   "id": "5435d361-7da1-474f-be82-a80dd09f6ada",
   "metadata": {},
   "outputs": [
    {
     "data": {
      "application/json": {
       "A": 1
      },
      "text/plain": [
       "<IPython.core.display.JSON object>"
      ]
     },
     "execution_count": 10,
     "metadata": {
      "application/json": {
       "expanded": false,
       "root": "root"
      }
     },
     "output_type": "execute_result"
    }
   ],
   "source": [
    "JSON({'A':1})"
   ]
  },
  {
   "cell_type": "code",
   "execution_count": 13,
   "id": "b20efcf5-186a-4e1c-ba06-f261c49fb7af",
   "metadata": {},
   "outputs": [
    {
     "data": {
      "application/json": [
       {
        "gcd": 1,
        "hidden": [
         {
          "S": 6,
          "ψ": [
           [
            1,
            5
           ],
           [
            2,
            4
           ],
           [
            -3
           ]
          ]
         }
        ],
        "k": [
         2
        ],
        "l": [
         1,
         3
        ],
        "n": 5,
        "solution": [
         1,
         2,
         -3,
         4,
         5
        ]
       }
      ],
      "text/plain": [
       "<IPython.core.display.JSON object>"
      ]
     },
     "execution_count": 13,
     "metadata": {
      "application/json": {
       "expanded": false,
       "root": "root"
      }
     },
     "output_type": "execute_result"
    }
   ],
   "source": [
    "JSON(([{'l':[1,3],'k':[2],\n",
    "       'solution':[1,2,-3,4,5],'gcd':1,'n':5,\n",
    "      'hidden':[{'ψ':[(1,5),(2,4),(-3,)],\n",
    "                 'S':6}\n",
    "               ]\n",
    "             }] \n",
    "            )\n",
    "    )\n"
   ]
  },
  {
   "cell_type": "code",
   "execution_count": 1,
   "id": "7f44a6e1-945a-4967-af93-74f4f1f23e50",
   "metadata": {},
   "outputs": [],
   "source": [
    "import pandas as pd"
   ]
  },
  {
   "cell_type": "code",
   "execution_count": 2,
   "id": "1d119ee0-4709-44b6-853e-afd9fdfcdc0b",
   "metadata": {},
   "outputs": [
    {
     "data": {
      "text/html": [
       "<div>\n",
       "<style scoped>\n",
       "    .dataframe tbody tr th:only-of-type {\n",
       "        vertical-align: middle;\n",
       "    }\n",
       "\n",
       "    .dataframe tbody tr th {\n",
       "        vertical-align: top;\n",
       "    }\n",
       "\n",
       "    .dataframe thead th {\n",
       "        text-align: right;\n",
       "    }\n",
       "</style>\n",
       "<table border=\"1\" class=\"dataframe\">\n",
       "  <thead>\n",
       "    <tr style=\"text-align: right;\">\n",
       "      <th></th>\n",
       "      <th>l</th>\n",
       "      <th>k</th>\n",
       "      <th>solution</th>\n",
       "      <th>gcd</th>\n",
       "      <th>n</th>\n",
       "      <th>hidden</th>\n",
       "    </tr>\n",
       "  </thead>\n",
       "  <tbody>\n",
       "    <tr>\n",
       "      <th>0</th>\n",
       "      <td>[1, 3]</td>\n",
       "      <td>[2]</td>\n",
       "      <td>[1, 2, -3, 4, 5]</td>\n",
       "      <td>1</td>\n",
       "      <td>5</td>\n",
       "      <td>[{'ψ': [(1, 5), (2, 4), (-3,)], 'S': 6}]</td>\n",
       "    </tr>\n",
       "  </tbody>\n",
       "</table>\n",
       "</div>"
      ],
      "text/plain": [
       "        l    k          solution  gcd  n  \\\n",
       "0  [1, 3]  [2]  [1, 2, -3, 4, 5]    1  5   \n",
       "\n",
       "                                     hidden  \n",
       "0  [{'ψ': [(1, 5), (2, 4), (-3,)], 'S': 6}]  "
      ]
     },
     "execution_count": 2,
     "metadata": {},
     "output_type": "execute_result"
    }
   ],
   "source": [
    "pd.DataFrame([{'l':[1,3],'k':[2],\n",
    "       'solution':[1,2,-3,4,5],'gcd':1,'n':5,\n",
    "      'hidden':[{'ψ':[(1,5),(2,4),(-3,)],\n",
    "                 'S':6}\n",
    "               ]\n",
    "             }] \n",
    "            )"
   ]
  },
  {
   "cell_type": "code",
   "execution_count": 3,
   "id": "b1afbaab-3d47-4ade-a3aa-ba92e2f6714e",
   "metadata": {},
   "outputs": [],
   "source": [
    "df=pd.read_json('https://zenodo.org/record/5526707/files/solutions.json?download=1')"
   ]
  },
  {
   "cell_type": "code",
   "execution_count": 116,
   "id": "26e4c21d-43c9-4f71-a631-e58d9a23022f",
   "metadata": {},
   "outputs": [],
   "source": []
  },
  {
   "cell_type": "code",
   "execution_count": 6,
   "id": "8920c10a-22bd-4d3c-b312-f2b0639e8968",
   "metadata": {},
   "outputs": [],
   "source": [
    "import itertools"
   ]
  },
  {
   "cell_type": "code",
   "execution_count": 95,
   "id": "01e4ff3b-0760-4468-8a1a-f2a4bc26f17c",
   "metadata": {},
   "outputs": [],
   "source": [
    "#x=list(itertools.combinations_with_replacement(l,2))"
   ]
  },
  {
   "cell_type": "code",
   "execution_count": 137,
   "id": "d8987752-29c8-4052-a173-5011f42bab07",
   "metadata": {},
   "outputs": [
    {
     "name": "stdout",
     "output_type": "stream",
     "text": [
      "(1, 2) 3\n",
      "(-3, 4) 1\n",
      "1 2 3 1\n",
      "2 4 3 1\n",
      "5 10 3 1\n",
      "(-3, 5) 2\n",
      "1 2 3 2\n",
      "2 4 3 2\n",
      "4 8 3 2\n",
      "====================\n",
      "(1, -3) -2\n",
      "(2, 4) 6\n",
      "1 2 2 6\n",
      "-3 6 2 6\n",
      "5 10 2 6\n",
      "(2, 5) 7\n",
      "1 2 2 7\n",
      "-3 6 2 7\n",
      "4 8 2 7\n",
      "====================\n",
      "(1, 4) 5\n",
      "(2, -3) -1\n",
      "1 2 5 1\n",
      "4 8 5 1\n",
      "5 10 5 1\n",
      "(2, 5) 7\n",
      "1 2 5 7\n",
      "-3 6 5 7\n",
      "4 8 5 7\n",
      "====================\n",
      "(1, 5) 6\n",
      "(2, -3) -1\n",
      "1 2 6 1\n",
      "4 8 6 1\n",
      "5 10 6 1\n",
      "(2, 4) 6\n",
      "1 2 6 6\n",
      "-3 6 6 6\n",
      "va 6 6 6\n",
      "5 10 6 6\n",
      "====================\n"
     ]
    }
   ],
   "source": [
    "l=[1,2,-3,4,5]\n",
    "x=list(itertools.product(l[:1],l[1:]))\n",
    "for i in range(len(x)):\n",
    "    m=abs(sum(x[i]))\n",
    "    print(x[i],sum(x[i]))\n",
    "    ll=[y for y in l if y not in x[i]]\n",
    "    xx=list(itertools.product(ll[:1],ll[1:]))\n",
    "    for j in range(len(xx)):\n",
    "        print(xx[j],sum(xx[j]))\n",
    "        mm=abs(sum(xx[j]))\n",
    "        xxx=[y for y in l if y not in xx[j]]\n",
    "        for k in range(len(xxx)):\n",
    "            print(xxx[k],abs(xxx[k]*2),m,mm)\n",
    "            if abs(xxx[k]*2)==m and abs(xxx[k]*2)==mm:\n",
    "                print('va',abs(xxx[k]*2),m,mm)\n",
    "                sltn=[x[i],xx[j],(xxx[k],)]\n",
    "    print('='*20)"
   ]
  },
  {
   "cell_type": "code",
   "execution_count": 152,
   "id": "a21fc18f-2ef4-4608-8c67-e419290dcca9",
   "metadata": {},
   "outputs": [
    {
     "data": {
      "text/plain": [
       "set"
      ]
     },
     "execution_count": 152,
     "metadata": {},
     "output_type": "execute_result"
    }
   ],
   "source": [
    "type({x for x in range(2)})"
   ]
  },
  {
   "cell_type": "code",
   "execution_count": 273,
   "id": "84230c8b-8e5c-40db-95e3-fa95360be3f3",
   "metadata": {},
   "outputs": [],
   "source": [
    "sltn=[]\n",
    "i=0\n",
    "l=[1,2,-3,4,5]\n",
    "ll=l.copy()\n",
    "CONTINUE=True"
   ]
  },
  {
   "cell_type": "code",
   "execution_count": 274,
   "id": "7719ed5d-d72b-408d-98c0-0e58fade9cc6",
   "metadata": {},
   "outputs": [
    {
     "name": "stdout",
     "output_type": "stream",
     "text": [
      "[(1, 1), (1, 2), (1, -3), (1, 4), (1, 5)] [2, 3, 2, 5, 6] {2: (1, -3), 3: (1, 2), 5: (1, 4), 6: (1, 5)} 1\n",
      "{1: (1, 1), 2: (1, 2), -3: (1, -3), 4: (1, 4), 5: (1, 5)} {2: (1, -3), 3: (1, 2), 5: (1, 4), 6: (1, 5)}\n",
      "[(1, 1), (1, 2), (1, -3), (1, 4), (1, 5)] [2, -3, 4, 5] [] {2: (1, -3), 3: (1, 2), 5: (1, 4), 6: (1, 5)}\n",
      "1\n",
      "[(2, 2), (2, -3), (2, 4), (2, 5)] {6: (1, 5)} {6} 2\n",
      "6\n",
      "[(2, 2), (2, -3), (2, 4), (2, 5)] [-3, 4] [(1, 5)] {6: (2, 4)}\n",
      "2\n",
      "[(-3, -3), (-3, 4)] {6: (2, 4)} {6} -3\n",
      "6\n",
      "[(-3, -3), (-3, 4)] [] [(1, 5), (2, 4), (-3, -3)] {6: (-3, -3)}\n",
      "3\n"
     ]
    }
   ],
   "source": [
    "while CONTINUE:\n",
    "    x=[(ll[0],ll[0])]+list(itertools.product([ll[0]],ll[1:]))\n",
    "    if i==0:\n",
    "        xs=[abs(sum(y)) for y in x]\n",
    "        xd=dict(zip(xs,x))\n",
    "        print(x,xs,xd,ll[0])\n",
    "        tmp=dict(zip(ll,x))\n",
    "        ll=[xx for xx in ll if xx!=ll[0]] #change for function\n",
    "        print(tmp,xd)\n",
    "    if i>0:\n",
    "        xs=set(xs).intersection({abs(sum(y)) for y in x})\n",
    "        xd=dict([(k,xd[k]) for k in xs])\n",
    "        print(x,xd,xs,ll[0])\n",
    "        for kk in xs:\n",
    "            print(kk)\n",
    "            sltn.append(xd[kk])\n",
    "            ll=[xx for xx in ll if xx!=ll[0] and xx not in xd[kk]] #change for function\n",
    "            # update xd\n",
    "            xd=dict([(kk,y) for y in x if abs(sum(y))==kk ])\n",
    "            if not ll:\n",
    "                sltn.append(xd[kk])\n",
    "                CONTINUE=False\n",
    "    #ll=[xx for xx in ll if xx!=ll[0]] #change for function\n",
    "    print(x,ll,sltn,xd)\n",
    "    i+=1\n",
    "    print(i)\n",
    "    #Emergency exit"
   ]
  },
  {
   "cell_type": "code",
   "execution_count": 275,
   "id": "080d83d4-8ddc-4f91-8be2-cae26397e99b",
   "metadata": {},
   "outputs": [
    {
     "data": {
      "text/plain": [
       "[(1, 5), (2, 4), (-3, -3)]"
      ]
     },
     "execution_count": 275,
     "metadata": {},
     "output_type": "execute_result"
    }
   ],
   "source": [
    "sltn"
   ]
  },
  {
   "cell_type": "code",
   "execution_count": 265,
   "id": "6425201d-7bc0-4a71-a6fa-a4a8823fb4a5",
   "metadata": {},
   "outputs": [
    {
     "name": "stdout",
     "output_type": "stream",
     "text": [
      "[(-3, -3), (-3, 4)] {6: (2, 4)} {6} -3\n",
      "6\n",
      "[(-3, -3), (-3, 4)] [] [(1, 5), (2, 4), (-3, -3)] {6: (-3, -3)}\n"
     ]
    }
   ],
   "source": [
    "i=1\n",
    "x=[(ll[0],ll[0])]+list(itertools.product([ll[0]],ll[1:]))\n",
    "if i==0:\n",
    "    xs=[abs(sum(y)) for y in x]\n",
    "    xd=dict(zip(xs,x))\n",
    "    print(x,xs,xd,ll[0])\n",
    "    tmp=dict(zip(ll,x))\n",
    "    ll=[xx for xx in ll if xx!=ll[0]] #change for function\n",
    "    print(tmp,xd)\n",
    "if i>0:\n",
    "    xs=set(xs).intersection({abs(sum(y)) for y in x})\n",
    "    xd=dict([(k,xd[k]) for k in xs])\n",
    "    print(x,xd,xs,ll[0])\n",
    "    for kk in xs:\n",
    "        print(kk)\n",
    "        sltn.append(xd[kk])\n",
    "        ll=[xx for xx in ll if xx!=ll[0] and xx not in xd[kk]] #change for function\n",
    "        # update xd\n",
    "        xd=dict([(kk,y) for y in x if abs(sum(y))==kk ])\n",
    "        if not ll:\n",
    "            sltn.append(xd[kk])        \n",
    "#ll=[xx for xx in ll if xx!=ll[0]] #change for function\n",
    "print(x,ll,sltn,xd)    "
   ]
  },
  {
   "cell_type": "code",
   "execution_count": 259,
   "id": "d604ef13-0450-484b-82ac-2fa4748f9eb0",
   "metadata": {},
   "outputs": [
    {
     "name": "stdout",
     "output_type": "stream",
     "text": [
      "[(-3, -3), (-3, 4)] {6: (2, 4)} {6} -3\n",
      "6\n",
      "[(-3, -3), (-3, 4)] [] [(1, 5), (2, 4), (-3, -3)] {6: (-3, -3)}\n"
     ]
    }
   ],
   "source": [
    "i=1\n",
    "x=[(ll[0],ll[0])]+list(itertools.product([ll[0]],ll[1:]))\n",
    "if i>0:\n",
    "    xs=set(xs).intersection({abs(sum(y)) for y in x})\n",
    "    xd=dict([(k,xd[k]) for k in xs])\n",
    "    print(x,xd,xs,ll[0])\n",
    "    for kk in xs:\n",
    "        print(kk)\n",
    "        sltn.append(xd[kk])\n",
    "        ll=[xx for xx in ll if xx!=ll[0] and xx not in xd[kk]] #change for function\n",
    "        # update xd\n",
    "        xd=dict([(kk,y) for y in x if abs(sum(y))==kk ])\n",
    "        if not ll:\n",
    "            sltn.append(xd[kk])       \n",
    "#ll=[xx for xx in ll if xx!=ll[0]] #change for function\n",
    "print(x,ll,sltn,xd)\n"
   ]
  },
  {
   "cell_type": "code",
   "execution_count": 246,
   "id": "01ecc0be-0af5-404b-ab72-421fe6ac276b",
   "metadata": {},
   "outputs": [
    {
     "ename": "IndexError",
     "evalue": "list index out of range",
     "output_type": "error",
     "traceback": [
      "\u001b[0;31m---------------------------------------------------------------------------\u001b[0m",
      "\u001b[0;31mIndexError\u001b[0m                                Traceback (most recent call last)",
      "Input \u001b[0;32mIn [246]\u001b[0m, in \u001b[0;36m<cell line: 2>\u001b[0;34m()\u001b[0m\n\u001b[1;32m      1\u001b[0m i\u001b[38;5;241m=\u001b[39m\u001b[38;5;241m2\u001b[39m\n\u001b[0;32m----> 2\u001b[0m x\u001b[38;5;241m=\u001b[39m[(\u001b[43mll\u001b[49m\u001b[43m[\u001b[49m\u001b[38;5;241;43m0\u001b[39;49m\u001b[43m]\u001b[49m,ll[\u001b[38;5;241m0\u001b[39m])]\u001b[38;5;241m+\u001b[39m\u001b[38;5;28mlist\u001b[39m(itertools\u001b[38;5;241m.\u001b[39mproduct([ll[\u001b[38;5;241m0\u001b[39m]],ll[\u001b[38;5;241m1\u001b[39m:]))\n\u001b[1;32m      3\u001b[0m \u001b[38;5;28;01mif\u001b[39;00m i\u001b[38;5;241m>\u001b[39m\u001b[38;5;241m0\u001b[39m:\n\u001b[1;32m      4\u001b[0m     xs\u001b[38;5;241m=\u001b[39m\u001b[38;5;28mset\u001b[39m(xs)\u001b[38;5;241m.\u001b[39mintersection({\u001b[38;5;28mabs\u001b[39m(\u001b[38;5;28msum\u001b[39m(y)) \u001b[38;5;28;01mfor\u001b[39;00m y \u001b[38;5;129;01min\u001b[39;00m x})\n",
      "\u001b[0;31mIndexError\u001b[0m: list index out of range"
     ]
    }
   ],
   "source": [
    "i=2\n",
    "x=[(ll[0],ll[0])]+list(itertools.product([ll[0]],ll[1:]))\n",
    "if i>0:\n",
    "    xs=set(xs).intersection({abs(sum(y)) for y in x})\n",
    "    xd=dict([(k,xd[k]) for k in xs])\n",
    "    print(x,xd,xs,ll[0])\n",
    "    for kk in xs:\n",
    "        print(kk)\n",
    "        sltn.append(xd[kk])\n",
    "        ll=[xx for xx in ll if xx!=ll[0] and xx not in xd[kk]] #change for function\n",
    "        # update xd\n",
    "        xd=dict([(kk,y) for y in x if abs(sum(y))==kk ])\n",
    "#ll=[xx for xx in ll if xx!=ll[0]] #change for function\n",
    "print(x,ll,sltn,xd)"
   ]
  },
  {
   "cell_type": "code",
   "execution_count": 65,
   "id": "6605a8fb-017c-44a3-a8db-69d60ed0eae3",
   "metadata": {},
   "outputs": [
    {
     "name": "stdout",
     "output_type": "stream",
     "text": [
      "2\n",
      "3\n",
      "-2\n",
      "5\n",
      "6\n"
     ]
    }
   ],
   "source": [
    "for y in x[0:n]:\n",
    "    sumy=sum(y)\n",
    "    for yy in  ,x[n:n*2-1]"
   ]
  },
  {
   "cell_type": "code",
   "execution_count": null,
   "id": "13a9e98b-5ae8-4c93-a475-a1b4b160d17b",
   "metadata": {},
   "outputs": [],
   "source": []
  }
 ],
 "metadata": {
  "kernelspec": {
   "display_name": "Python 3 (ipykernel)",
   "language": "python",
   "name": "python3"
  },
  "language_info": {
   "codemirror_mode": {
    "name": "ipython",
    "version": 3
   },
   "file_extension": ".py",
   "mimetype": "text/x-python",
   "name": "python",
   "nbconvert_exporter": "python",
   "pygments_lexer": "ipython3",
   "version": "3.9.12"
  }
 },
 "nbformat": 4,
 "nbformat_minor": 5
}
