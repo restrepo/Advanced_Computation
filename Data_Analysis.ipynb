{
 "cells": [
  {
   "cell_type": "markdown",
   "id": "2cf03b5f-6f5f-4607-b0bc-4603b5217b12",
   "metadata": {},
   "source": [
    "# Data Analysis"
   ]
  },
  {
   "cell_type": "markdown",
   "id": "546374fd-35ad-4edf-bd12-7a93b9ebc168",
   "metadata": {
    "tags": []
   },
   "source": [
    "## Solutions object\n",
    "Obtain the Hidden Sector from: https://zenodo.org/record/5526707#.YzwIANJBzeQ and add the missing the column `Hidden Sector` of the following data scheme\n",
    "\n",
    "![img](./squeme.svg)\n",
    "\n",
    "### Example of entry"
   ]
  },
  {
   "cell_type": "code",
   "execution_count": 3,
   "id": "4c8e4e30-7e06-4eb7-87dc-2ec66a4da634",
   "metadata": {},
   "outputs": [],
   "source": [
    "from IPython.display import JSON \n",
    "import pandas as pd"
   ]
  },
  {
   "cell_type": "code",
   "execution_count": 3,
   "id": "5435d361-7da1-474f-be82-a80dd09f6ada",
   "metadata": {},
   "outputs": [
    {
     "data": {
      "application/json": {
       "A": 1
      },
      "text/plain": [
       "<IPython.core.display.JSON object>"
      ]
     },
     "execution_count": 3,
     "metadata": {
      "application/json": {
       "expanded": false,
       "root": "root"
      }
     },
     "output_type": "execute_result"
    }
   ],
   "source": [
    "JSON({'A':1})"
   ]
  },
  {
   "cell_type": "code",
   "execution_count": 4,
   "id": "b20efcf5-186a-4e1c-ba06-f261c49fb7af",
   "metadata": {},
   "outputs": [
    {
     "data": {
      "application/json": [
       {
        "gcd": 1,
        "hidden": [
         {
          "S": 6,
          "ψ": [
           [
            1,
            5
           ],
           [
            2,
            4
           ],
           [
            -3
           ]
          ]
         }
        ],
        "k": [
         2
        ],
        "l": [
         1,
         3
        ],
        "n": 5,
        "solution": [
         1,
         2,
         -3,
         4,
         5
        ]
       }
      ],
      "text/plain": [
       "<IPython.core.display.JSON object>"
      ]
     },
     "execution_count": 4,
     "metadata": {
      "application/json": {
       "expanded": false,
       "root": "root"
      }
     },
     "output_type": "execute_result"
    }
   ],
   "source": [
    "JSON(([{'l':[1,3],'k':[2],\n",
    "       'solution':[1,2,-3,4,5],'gcd':1,'n':5,\n",
    "      'hidden':[{'ψ':[(1,5),(2,4),(-3,)],\n",
    "                 'S':6}\n",
    "               ]\n",
    "             }] \n",
    "            )\n",
    "    )\n"
   ]
  },
  {
   "cell_type": "code",
   "execution_count": 5,
   "id": "7f44a6e1-945a-4967-af93-74f4f1f23e50",
   "metadata": {},
   "outputs": [],
   "source": [
    "import pandas as pd"
   ]
  },
  {
   "cell_type": "code",
   "execution_count": 6,
   "id": "1d119ee0-4709-44b6-853e-afd9fdfcdc0b",
   "metadata": {},
   "outputs": [
    {
     "data": {
      "text/html": [
       "<div>\n",
       "<style scoped>\n",
       "    .dataframe tbody tr th:only-of-type {\n",
       "        vertical-align: middle;\n",
       "    }\n",
       "\n",
       "    .dataframe tbody tr th {\n",
       "        vertical-align: top;\n",
       "    }\n",
       "\n",
       "    .dataframe thead th {\n",
       "        text-align: right;\n",
       "    }\n",
       "</style>\n",
       "<table border=\"1\" class=\"dataframe\">\n",
       "  <thead>\n",
       "    <tr style=\"text-align: right;\">\n",
       "      <th></th>\n",
       "      <th>l</th>\n",
       "      <th>k</th>\n",
       "      <th>solution</th>\n",
       "      <th>gcd</th>\n",
       "      <th>n</th>\n",
       "      <th>hidden</th>\n",
       "    </tr>\n",
       "  </thead>\n",
       "  <tbody>\n",
       "    <tr>\n",
       "      <th>0</th>\n",
       "      <td>[1, 3]</td>\n",
       "      <td>[2]</td>\n",
       "      <td>[1, 2, -3, 4, 5]</td>\n",
       "      <td>1</td>\n",
       "      <td>5</td>\n",
       "      <td>[{'ψ': [(1, 5), (2, 4), (-3,)], 'S': 6}]</td>\n",
       "    </tr>\n",
       "  </tbody>\n",
       "</table>\n",
       "</div>"
      ],
      "text/plain": [
       "        l    k          solution  gcd  n  \\\n",
       "0  [1, 3]  [2]  [1, 2, -3, 4, 5]    1  5   \n",
       "\n",
       "                                     hidden  \n",
       "0  [{'ψ': [(1, 5), (2, 4), (-3,)], 'S': 6}]  "
      ]
     },
     "execution_count": 6,
     "metadata": {},
     "output_type": "execute_result"
    }
   ],
   "source": [
    "pd.DataFrame([{'l':[1,3],'k':[2],\n",
    "       'solution':[1,2,-3,4,5],'gcd':1,'n':5,\n",
    "      'hidden':[{'ψ':[(1,5),(2,4),(-3,)],\n",
    "                 'S':6}\n",
    "               ]\n",
    "             }] \n",
    "            )"
   ]
  },
  {
   "cell_type": "markdown",
   "id": "6342f13a-2c97-4245-a2f9-d35fceac4470",
   "metadata": {},
   "source": [
    "### Read the full dataset"
   ]
  },
  {
   "cell_type": "code",
   "execution_count": 4,
   "id": "b1afbaab-3d47-4ade-a3aa-ba92e2f6714e",
   "metadata": {},
   "outputs": [],
   "source": [
    "df=pd.read_json('https://zenodo.org/record/5526707/files/solutions.json?download=1')"
   ]
  },
  {
   "cell_type": "code",
   "execution_count": 8,
   "id": "cad31295-eb83-40ee-8f72-f92960142df1",
   "metadata": {},
   "outputs": [
    {
     "data": {
      "text/plain": [
       "(16862, 6)"
      ]
     },
     "execution_count": 8,
     "metadata": {},
     "output_type": "execute_result"
    }
   ],
   "source": [
    "df['zmax']=df['solution'].str[-1].abs()\n",
    "df=df.sort_values(['n','zmax']).reset_index(drop=True)\n",
    "\n",
    "#How many solutions with n=12 and z_max <= 20?\n",
    "df[ (df['n']==12) & (df['zmax']<=20) ].shape"
   ]
  },
  {
   "cell_type": "markdown",
   "id": "a042051b-e918-4b22-924d-d51da6574bc2",
   "metadata": {},
   "source": [
    "### Add the new column with the list of hidden sectors"
   ]
  },
  {
   "cell_type": "code",
   "execution_count": 5,
   "id": "8920c10a-22bd-4d3c-b312-f2b0639e8968",
   "metadata": {},
   "outputs": [],
   "source": [
    "import itertools"
   ]
  },
  {
   "cell_type": "code",
   "execution_count": 6,
   "id": "9589ebae-3415-4b66-b2cc-202d9d0384ec",
   "metadata": {},
   "outputs": [
    {
     "data": {
      "text/plain": [
       "[(1, 1), (1, 2), (2, 2)]"
      ]
     },
     "execution_count": 6,
     "metadata": {},
     "output_type": "execute_result"
    }
   ],
   "source": [
    "list(itertools.combinations_with_replacement([1,2],2))"
   ]
  },
  {
   "cell_type": "code",
   "execution_count": 40,
   "id": "e6884c71-98b4-4c89-8e5b-24d39d329bf3",
   "metadata": {},
   "outputs": [],
   "source": [
    "def get_hidden_sector(l):\n",
    "    '''\n",
    "    Extract massive pairs without massles fermions from l\n",
    "    '''\n",
    "    sltns=[]\n",
    "    #ps = [ (x,y) for x in l for y in l if x<=y]\n",
    "    ps = list(itertools.combinations_with_replacement(set(l),2))\n",
    "    Ss = set(abs(sum(x)) for x in ps)\n",
    "    # capture all the possible scalar, Ss, values    \n",
    "    for s in set(Ss):\n",
    "        msv =([p for p in  ps if abs(sum(p))==s])\n",
    "        # flatten the list\n",
    "        massives=set([x for sublist in msv for x in sublist])\n",
    "        massless=set(l).difference(massives)\n",
    "        if not massless:\n",
    "            sltn={}\n",
    "            sltn['S']=s\n",
    "            sltn['ψ']=msv\n",
    "            #================================\n",
    "            #Quality checks on repeated integers:\n",
    "            rptd=set([x for x in l if l.count(x)>1])\n",
    "            majoranas=[m[0] for m in msv if m[0]==m[1]]\n",
    "            #remove majoranas from the analysis\n",
    "            rptd=rptd.difference(majoranas)\n",
    "            #Diracs need come from repeated quiral fields (a,b) → [a,a,b,b] \n",
    "            diracs=[d for d in itertools.combinations(rptd,2) if \n",
    "                    abs(sum(d))==s and l.count(d[0])==l.count(d[1])]\n",
    "            #if diracs and not set([x for sublist in diracs for x in sublist])==rptd\n",
    "            if not rptd == set([x for sublist in diracs for x in sublist]):\n",
    "                sltn={}\n",
    "            #======================================            \n",
    "            if sltn:\n",
    "                sltns.append(sltn)\n",
    "            \n",
    "    return sltns\n",
    "\n",
    "assert get_hidden_sector([1,2,-3,4,5])[0].get('S')==6\n",
    "assert get_hidden_sector([1,2,-3,-3,4,5])[0].get('S')==6\n",
    "assert get_hidden_sector([1,1,2,-3,-3,4,5,5])[0].get('S')==6\n",
    "#aψ1ψ1+bψ1ψ2+cψ1,ψ3 → https://www.wolframalpha.com/input?i=Rank%20{{a,b,c},{b,0,0},{c,0,0}}\n",
    "assert get_hidden_sector([1,2,-3,4,5,9,9])==[]\n",
    "get_hidden_sector([1,1,2,-3,4,5])\n",
    "#aψ1ψ2+bψ1ψ3 → https://www.wolframalpha.com/input?i=rank+{{0,a,b},{a,0,0},{b,0,0}}\n",
    "assert get_hidden_sector([1,1,2,-3,4,5])==[]\n",
    "assert get_hidden_sector([1,1,2,-3,-3,4,5])==[]\n",
    "assert get_hidden_sector([1,2,-3,4,5,8])==[]\n",
    "assert get_hidden_sector([1,2,-3,4,5,8,8])==[]\n",
    "assert get_hidden_sector([])==[]\n",
    "assert get_hidden_sector([1, 1, 1, 1, 1, -2, -2, -2, -2, 3])==[]"
   ]
  },
  {
   "cell_type": "code",
   "execution_count": 38,
   "id": "ab4d764d-e70e-4499-9c17-38d58ffda930",
   "metadata": {},
   "outputs": [],
   "source": [
    "df['hidden']=df['solution'].apply(get_hidden_sector)"
   ]
  },
  {
   "cell_type": "code",
   "execution_count": 42,
   "id": "7d444f2c-26a5-4145-b7ab-babe5f9f8c20",
   "metadata": {},
   "outputs": [],
   "source": [
    "hs=df[df['hidden'].apply(len)>0].reset_index(drop=True)#.iloc[0].to_dict()"
   ]
  },
  {
   "cell_type": "code",
   "execution_count": 43,
   "id": "c200049b-6310-4f9f-bb86-07798c2e7778",
   "metadata": {},
   "outputs": [
    {
     "data": {
      "text/plain": [
       "(6029, 7)"
      ]
     },
     "execution_count": 43,
     "metadata": {},
     "output_type": "execute_result"
    }
   ],
   "source": [
    "hs.shape"
   ]
  },
  {
   "cell_type": "markdown",
   "id": "d58699d1-4703-4797-a42c-9f6ef15d8813",
   "metadata": {},
   "source": [
    "## Ask question to the solutions object"
   ]
  },
  {
   "cell_type": "markdown",
   "id": "50887324-0108-48f1-8046-d655a3e3fb04",
   "metadata": {},
   "source": [
    "* Test the solution\n",
    "* Which is the minimum hidden sector and with the least charge in absolute value\n",
    "* Check for multigenerational solution\n",
    "* Check for unconditional stability\n",
    "* Solutions with active symmetry\n",
    "* How many solutions with n=12 and zmax<=20\n",
    "* Check for Majorana and Dirac fermions"
   ]
  },
  {
   "cell_type": "code",
   "execution_count": 44,
   "id": "61165151-dac1-4763-825e-7fb5ac9c4104",
   "metadata": {},
   "outputs": [],
   "source": [
    "pd.set_option('display.max_colwidth',200)"
   ]
  },
  {
   "cell_type": "code",
   "execution_count": 45,
   "id": "13a9e98b-5ae8-4c93-a475-a1b4b160d17b",
   "metadata": {},
   "outputs": [
    {
     "data": {
      "text/plain": [
       "7"
      ]
     },
     "execution_count": 45,
     "metadata": {},
     "output_type": "execute_result"
    }
   ],
   "source": [
    "# What is the minimum n?\n",
    "hs['n'].min()"
   ]
  },
  {
   "cell_type": "code",
   "execution_count": 46,
   "id": "f3aeeef7-9000-47ac-9887-4d2d48cf8ba8",
   "metadata": {},
   "outputs": [
    {
     "data": {
      "text/plain": [
       "5"
      ]
     },
     "execution_count": 46,
     "metadata": {},
     "output_type": "execute_result"
    }
   ],
   "source": [
    "# What is the minimum z_max?\n",
    "hs['zmax'].min()"
   ]
  },
  {
   "cell_type": "code",
   "execution_count": 47,
   "id": "e24084b9-5fbd-4f93-9e35-a519f556c006",
   "metadata": {},
   "outputs": [
    {
     "data": {
      "text/html": [
       "<div>\n",
       "<style scoped>\n",
       "    .dataframe tbody tr th:only-of-type {\n",
       "        vertical-align: middle;\n",
       "    }\n",
       "\n",
       "    .dataframe tbody tr th {\n",
       "        vertical-align: top;\n",
       "    }\n",
       "\n",
       "    .dataframe thead th {\n",
       "        text-align: right;\n",
       "    }\n",
       "</style>\n",
       "<table border=\"1\" class=\"dataframe\">\n",
       "  <thead>\n",
       "    <tr style=\"text-align: right;\">\n",
       "      <th></th>\n",
       "      <th>l</th>\n",
       "      <th>k</th>\n",
       "      <th>solution</th>\n",
       "      <th>gcd</th>\n",
       "      <th>n</th>\n",
       "      <th>zmax</th>\n",
       "      <th>hidden</th>\n",
       "    </tr>\n",
       "  </thead>\n",
       "  <tbody>\n",
       "    <tr>\n",
       "      <th>1374</th>\n",
       "      <td>[-1, -2, -1, 0, 1]</td>\n",
       "      <td>[-3, -2, -3, -2, 0]</td>\n",
       "      <td>[1, 1, -2, -2, 3, 3, 3, -4, -4, -4, 5]</td>\n",
       "      <td>1</td>\n",
       "      <td>11</td>\n",
       "      <td>5</td>\n",
       "      <td>[{'S': 1, 'ψ': [(1, -2), (3, -4), (3, -2), (5, -4)]}]</td>\n",
       "    </tr>\n",
       "  </tbody>\n",
       "</table>\n",
       "</div>"
      ],
      "text/plain": [
       "                       l                    k  \\\n",
       "1374  [-1, -2, -1, 0, 1]  [-3, -2, -3, -2, 0]   \n",
       "\n",
       "                                    solution  gcd   n  zmax  \\\n",
       "1374  [1, 1, -2, -2, 3, 3, 3, -4, -4, -4, 5]    1  11     5   \n",
       "\n",
       "                                                     hidden  \n",
       "1374  [{'S': 1, 'ψ': [(1, -2), (3, -4), (3, -2), (5, -4)]}]  "
      ]
     },
     "execution_count": 47,
     "metadata": {},
     "output_type": "execute_result"
    }
   ],
   "source": [
    "hs[hs['zmax']==hs['zmax'].min()]"
   ]
  },
  {
   "cell_type": "code",
   "execution_count": 48,
   "id": "4ab51065-95f8-4a0d-bcab-15b61ae174d9",
   "metadata": {},
   "outputs": [
    {
     "data": {
      "text/html": [
       "<div>\n",
       "<style scoped>\n",
       "    .dataframe tbody tr th:only-of-type {\n",
       "        vertical-align: middle;\n",
       "    }\n",
       "\n",
       "    .dataframe tbody tr th {\n",
       "        vertical-align: top;\n",
       "    }\n",
       "\n",
       "    .dataframe thead th {\n",
       "        text-align: right;\n",
       "    }\n",
       "</style>\n",
       "<table border=\"1\" class=\"dataframe\">\n",
       "  <thead>\n",
       "    <tr style=\"text-align: right;\">\n",
       "      <th></th>\n",
       "      <th>l</th>\n",
       "      <th>k</th>\n",
       "      <th>solution</th>\n",
       "      <th>gcd</th>\n",
       "      <th>n</th>\n",
       "      <th>zmax</th>\n",
       "      <th>hidden</th>\n",
       "    </tr>\n",
       "  </thead>\n",
       "  <tbody>\n",
       "    <tr>\n",
       "      <th>0</th>\n",
       "      <td>[-2, 0]</td>\n",
       "      <td>[-1, -2, -3]</td>\n",
       "      <td>[3, 5, -8, 9, -10, -14, 15]</td>\n",
       "      <td>1</td>\n",
       "      <td>7</td>\n",
       "      <td>15</td>\n",
       "      <td>[{'S': 5, 'ψ': [(3, -8), (5, -10), (9, -14), (15, -10)]}]</td>\n",
       "    </tr>\n",
       "    <tr>\n",
       "      <th>1</th>\n",
       "      <td>[2, 0]</td>\n",
       "      <td>[-1, -2, -3]</td>\n",
       "      <td>[5, 6, 7, -10, -11, -12, 15]</td>\n",
       "      <td>1</td>\n",
       "      <td>7</td>\n",
       "      <td>15</td>\n",
       "      <td>[{'S': 5, 'ψ': [(5, -10), (6, -11), (7, -12), (15, -10)]}]</td>\n",
       "    </tr>\n",
       "    <tr>\n",
       "      <th>2</th>\n",
       "      <td>[-1, 2, -2]</td>\n",
       "      <td>[-7, 4, 0]</td>\n",
       "      <td>[1, 2, 2, 2, -3, -5, -6, 7]</td>\n",
       "      <td>1</td>\n",
       "      <td>8</td>\n",
       "      <td>7</td>\n",
       "      <td>[{'S': 4, 'ψ': [(1, -5), (2, 2), (2, -6), (7, -3)]}]</td>\n",
       "    </tr>\n",
       "  </tbody>\n",
       "</table>\n",
       "</div>"
      ],
      "text/plain": [
       "             l             k                      solution  gcd  n  zmax  \\\n",
       "0      [-2, 0]  [-1, -2, -3]   [3, 5, -8, 9, -10, -14, 15]    1  7    15   \n",
       "1       [2, 0]  [-1, -2, -3]  [5, 6, 7, -10, -11, -12, 15]    1  7    15   \n",
       "2  [-1, 2, -2]    [-7, 4, 0]   [1, 2, 2, 2, -3, -5, -6, 7]    1  8     7   \n",
       "\n",
       "                                                       hidden  \n",
       "0   [{'S': 5, 'ψ': [(3, -8), (5, -10), (9, -14), (15, -10)]}]  \n",
       "1  [{'S': 5, 'ψ': [(5, -10), (6, -11), (7, -12), (15, -10)]}]  \n",
       "2        [{'S': 4, 'ψ': [(1, -5), (2, 2), (2, -6), (7, -3)]}]  "
      ]
     },
     "execution_count": 48,
     "metadata": {},
     "output_type": "execute_result"
    }
   ],
   "source": [
    "hs[:3]"
   ]
  },
  {
   "cell_type": "code",
   "execution_count": 49,
   "id": "93c144c2-50f6-4137-93b5-efdf3b3d1952",
   "metadata": {},
   "outputs": [
    {
     "data": {
      "text/plain": [
       "(527, 7)"
      ]
     },
     "execution_count": 49,
     "metadata": {},
     "output_type": "execute_result"
    }
   ],
   "source": [
    "# How many solutions have several dark sectors?\n",
    "hs[hs['hidden'].apply(len)>1].shape"
   ]
  },
  {
   "cell_type": "code",
   "execution_count": 50,
   "id": "e75784a4-a5ff-417d-b1f8-93c6ce09d0a2",
   "metadata": {},
   "outputs": [
    {
     "data": {
      "text/plain": [
       "(0, 7)"
      ]
     },
     "execution_count": 50,
     "metadata": {},
     "output_type": "execute_result"
    }
   ],
   "source": [
    "hs[hs['hidden'].apply(len)>2].shape"
   ]
  },
  {
   "cell_type": "code",
   "execution_count": 51,
   "id": "d816fd8e-1c0c-4958-84b5-764954e81cb9",
   "metadata": {},
   "outputs": [
    {
     "data": {
      "text/plain": [
       "3"
      ]
     },
     "execution_count": 51,
     "metadata": {},
     "output_type": "execute_result"
    }
   ],
   "source": [
    "# What is the minimum number of DM particles?\n",
    "hs['hidden'].str[0].str['ψ'].apply(len).min()"
   ]
  },
  {
   "cell_type": "code",
   "execution_count": 53,
   "id": "d724236a-0e1b-46e6-9bb2-b625f7bf92db",
   "metadata": {},
   "outputs": [
    {
     "data": {
      "text/html": [
       "<div>\n",
       "<style scoped>\n",
       "    .dataframe tbody tr th:only-of-type {\n",
       "        vertical-align: middle;\n",
       "    }\n",
       "\n",
       "    .dataframe tbody tr th {\n",
       "        vertical-align: top;\n",
       "    }\n",
       "\n",
       "    .dataframe thead th {\n",
       "        text-align: right;\n",
       "    }\n",
       "</style>\n",
       "<table border=\"1\" class=\"dataframe\">\n",
       "  <thead>\n",
       "    <tr style=\"text-align: right;\">\n",
       "      <th></th>\n",
       "      <th>l</th>\n",
       "      <th>k</th>\n",
       "      <th>solution</th>\n",
       "      <th>gcd</th>\n",
       "      <th>n</th>\n",
       "      <th>zmax</th>\n",
       "      <th>hidden</th>\n",
       "    </tr>\n",
       "  </thead>\n",
       "  <tbody>\n",
       "    <tr>\n",
       "      <th>3</th>\n",
       "      <td>[-1, 0, 1]</td>\n",
       "      <td>[-4, -2, 2]</td>\n",
       "      <td>[1, -2, -2, 4, 5, -7, -7, 8]</td>\n",
       "      <td>1</td>\n",
       "      <td>8</td>\n",
       "      <td>8</td>\n",
       "      <td>[{'S': 9, 'ψ': [(1, 8), (4, 5), (-7, -2)]}]</td>\n",
       "    </tr>\n",
       "  </tbody>\n",
       "</table>\n",
       "</div>"
      ],
      "text/plain": [
       "            l            k                      solution  gcd  n  zmax  \\\n",
       "3  [-1, 0, 1]  [-4, -2, 2]  [1, -2, -2, 4, 5, -7, -7, 8]    1  8     8   \n",
       "\n",
       "                                        hidden  \n",
       "3  [{'S': 9, 'ψ': [(1, 8), (4, 5), (-7, -2)]}]  "
      ]
     },
     "execution_count": 53,
     "metadata": {},
     "output_type": "execute_result"
    }
   ],
   "source": [
    "hs[hs['hidden'].str[0].str['ψ'].apply(len)==hs['hidden'].str[0].str['ψ'].apply(len).min()][:1]"
   ]
  },
  {
   "cell_type": "markdown",
   "id": "90b2be2c-4add-48cc-9e97-2f0add5de02d",
   "metadata": {},
   "source": [
    "### Same questions for SM solutions"
   ]
  },
  {
   "cell_type": "code",
   "execution_count": 54,
   "id": "fe26a5ab-2e9e-477b-af5f-6568fdc65e57",
   "metadata": {},
   "outputs": [],
   "source": [
    "df3=df[df['solution'].apply(lambda l: 3 in [l.count(x) for x in l])].reset_index(drop=True)"
   ]
  },
  {
   "cell_type": "code",
   "execution_count": 55,
   "id": "4c3f1529-7624-4545-af61-545415f2409d",
   "metadata": {},
   "outputs": [],
   "source": [
    "def get_dark(l,idx=0):\n",
    "    #TODO,\n",
    "    xxx=list(set([x for x in l if l.count(x)==3]))\n",
    "    if len(xxx)>=idx+1:\n",
    "        xx=xxx[idx]\n",
    "        return [x for x in l if x!=xx]\n",
    "    else:\n",
    "        return []\n",
    "assert get_dark([1,1,2,2,2,3] )==[1, 1, 3]"
   ]
  },
  {
   "cell_type": "code",
   "execution_count": 56,
   "id": "3eafc7e4-cf0f-48b9-8d50-8fcf5c986867",
   "metadata": {},
   "outputs": [],
   "source": [
    "df3['hidden']=df3['solution'].apply(get_dark).apply(get_hidden_sector)"
   ]
  },
  {
   "cell_type": "code",
   "execution_count": 57,
   "id": "621afe65-e4f4-4cc4-965a-8c2841fbfc8b",
   "metadata": {},
   "outputs": [
    {
     "data": {
      "text/plain": [
       "(124, 7)"
      ]
     },
     "execution_count": 57,
     "metadata": {},
     "output_type": "execute_result"
    }
   ],
   "source": [
    "hs3=df3[df3['hidden'].apply(len)>0].reset_index(drop=True)\n",
    "hs3.shape"
   ]
  },
  {
   "cell_type": "code",
   "execution_count": 58,
   "id": "a6186c47-e4a5-4c1c-b132-6ee0888bb123",
   "metadata": {},
   "outputs": [
    {
     "data": {
      "text/plain": [
       "(129, 7)"
      ]
     },
     "execution_count": 58,
     "metadata": {},
     "output_type": "execute_result"
    }
   ],
   "source": [
    "# idxmax==1\n",
    "df3['hidden']=df3['solution'].apply(lambda l: get_dark(l,idx=1)).apply(get_hidden_sector)\n",
    "hs3=pd.concat((hs3,df3[df3['hidden'].apply(len)>0])).reset_index(drop=True)\n",
    "hs3.shape"
   ]
  },
  {
   "cell_type": "code",
   "execution_count": 59,
   "id": "a53d71e9-1755-4286-8799-2a407d8dbf86",
   "metadata": {},
   "outputs": [
    {
     "data": {
      "text/plain": [
       "(129, 7)"
      ]
     },
     "execution_count": 59,
     "metadata": {},
     "output_type": "execute_result"
    }
   ],
   "source": [
    "# idxmax==1\n",
    "df3['hidden']=df3['solution'].apply(lambda l: get_dark(l,idx=2)).apply(get_hidden_sector)\n",
    "hs3=pd.concat((hs3,df3[df3['hidden'].apply(len)>0])).reset_index(drop=True)\n",
    "hs3.shape"
   ]
  },
  {
   "cell_type": "code",
   "execution_count": 60,
   "id": "a0d204e8-f73e-43d5-826b-6bf8fc6e17f0",
   "metadata": {},
   "outputs": [
    {
     "data": {
      "text/plain": [
       "9"
      ]
     },
     "execution_count": 60,
     "metadata": {},
     "output_type": "execute_result"
    }
   ],
   "source": [
    "hs3['zmax'].min()"
   ]
  },
  {
   "cell_type": "code",
   "execution_count": 61,
   "id": "a80e9876-b428-475a-b252-3065eaac51e0",
   "metadata": {},
   "outputs": [
    {
     "data": {
      "text/html": [
       "<div>\n",
       "<style scoped>\n",
       "    .dataframe tbody tr th:only-of-type {\n",
       "        vertical-align: middle;\n",
       "    }\n",
       "\n",
       "    .dataframe tbody tr th {\n",
       "        vertical-align: top;\n",
       "    }\n",
       "\n",
       "    .dataframe thead th {\n",
       "        text-align: right;\n",
       "    }\n",
       "</style>\n",
       "<table border=\"1\" class=\"dataframe\">\n",
       "  <thead>\n",
       "    <tr style=\"text-align: right;\">\n",
       "      <th></th>\n",
       "      <th>l</th>\n",
       "      <th>k</th>\n",
       "      <th>solution</th>\n",
       "      <th>gcd</th>\n",
       "      <th>n</th>\n",
       "      <th>zmax</th>\n",
       "      <th>hidden</th>\n",
       "    </tr>\n",
       "  </thead>\n",
       "  <tbody>\n",
       "    <tr>\n",
       "      <th>0</th>\n",
       "      <td>[1, 0, -2]</td>\n",
       "      <td>[-3, -1, 1]</td>\n",
       "      <td>[3, 3, 3, 5, -7, -9, -11, 13]</td>\n",
       "      <td>2</td>\n",
       "      <td>8</td>\n",
       "      <td>13</td>\n",
       "      <td>[{'S': 18, 'ψ': [(5, 13), (-11, -7), (-9, -9)]}]</td>\n",
       "    </tr>\n",
       "  </tbody>\n",
       "</table>\n",
       "</div>"
      ],
      "text/plain": [
       "            l            k                       solution  gcd  n  zmax  \\\n",
       "0  [1, 0, -2]  [-3, -1, 1]  [3, 3, 3, 5, -7, -9, -11, 13]    2  8    13   \n",
       "\n",
       "                                             hidden  \n",
       "0  [{'S': 18, 'ψ': [(5, 13), (-11, -7), (-9, -9)]}]  "
      ]
     },
     "execution_count": 61,
     "metadata": {},
     "output_type": "execute_result"
    }
   ],
   "source": [
    "hs3[:1]"
   ]
  },
  {
   "cell_type": "code",
   "execution_count": 62,
   "id": "aa817d62-360f-4ff3-bb5e-453057f355cf",
   "metadata": {},
   "outputs": [
    {
     "data": {
      "text/plain": [
       "(4, 7)"
      ]
     },
     "execution_count": 62,
     "metadata": {},
     "output_type": "execute_result"
    }
   ],
   "source": [
    "hs3[hs3['hidden'].apply(len)>1].shape"
   ]
  },
  {
   "cell_type": "code",
   "execution_count": 63,
   "id": "aee810b4-c226-4113-9bf8-e1baa34a3fc0",
   "metadata": {},
   "outputs": [
    {
     "data": {
      "text/plain": [
       "(2, 7)"
      ]
     },
     "execution_count": 63,
     "metadata": {},
     "output_type": "execute_result"
    }
   ],
   "source": [
    "hs3[hs3['hidden'].apply(len)>2].shape"
   ]
  },
  {
   "cell_type": "code",
   "execution_count": 64,
   "id": "76a8da24-7b36-47a4-9d8c-66186cc8436b",
   "metadata": {},
   "outputs": [
    {
     "data": {
      "text/plain": [
       "(0, 7)"
      ]
     },
     "execution_count": 64,
     "metadata": {},
     "output_type": "execute_result"
    }
   ],
   "source": [
    "hs3[hs3['hidden'].apply(len)>3].shape"
   ]
  },
  {
   "cell_type": "code",
   "execution_count": 65,
   "id": "1c25aae3-e070-4177-9792-bda63e0bf15f",
   "metadata": {},
   "outputs": [
    {
     "data": {
      "text/plain": [
       "2"
      ]
     },
     "execution_count": 65,
     "metadata": {},
     "output_type": "execute_result"
    }
   ],
   "source": [
    "hs3['hidden'].str[0].str['ψ'].apply(len).min()"
   ]
  },
  {
   "cell_type": "code",
   "execution_count": 67,
   "id": "46daab74-e67a-4b28-8385-e6007339deb3",
   "metadata": {},
   "outputs": [
    {
     "data": {
      "text/html": [
       "<div>\n",
       "<style scoped>\n",
       "    .dataframe tbody tr th:only-of-type {\n",
       "        vertical-align: middle;\n",
       "    }\n",
       "\n",
       "    .dataframe tbody tr th {\n",
       "        vertical-align: top;\n",
       "    }\n",
       "\n",
       "    .dataframe thead th {\n",
       "        text-align: right;\n",
       "    }\n",
       "</style>\n",
       "<table border=\"1\" class=\"dataframe\">\n",
       "  <thead>\n",
       "    <tr style=\"text-align: right;\">\n",
       "      <th></th>\n",
       "      <th>l</th>\n",
       "      <th>k</th>\n",
       "      <th>solution</th>\n",
       "      <th>gcd</th>\n",
       "      <th>n</th>\n",
       "      <th>zmax</th>\n",
       "      <th>hidden</th>\n",
       "    </tr>\n",
       "  </thead>\n",
       "  <tbody>\n",
       "    <tr>\n",
       "      <th>4</th>\n",
       "      <td>[-2, 0, 2]</td>\n",
       "      <td>[-1, 1, 0, -1]</td>\n",
       "      <td>[1, 1, -4, -5, 9, 9, 9, -10, -10]</td>\n",
       "      <td>1</td>\n",
       "      <td>9</td>\n",
       "      <td>10</td>\n",
       "      <td>[{'S': 9, 'ψ': [(1, -10), (-5, -4)]}]</td>\n",
       "    </tr>\n",
       "    <tr>\n",
       "      <th>6</th>\n",
       "      <td>[-1, 0, 1]</td>\n",
       "      <td>[-1, -3, 0, -1]</td>\n",
       "      <td>[1, 1, -3, -8, 11, 11, 11, -12, -12]</td>\n",
       "      <td>1</td>\n",
       "      <td>9</td>\n",
       "      <td>12</td>\n",
       "      <td>[{'S': 11, 'ψ': [(-8, -3), (1, -12)]}]</td>\n",
       "    </tr>\n",
       "    <tr>\n",
       "      <th>8</th>\n",
       "      <td>[-1, 0, -1, 1]</td>\n",
       "      <td>[-3, 0, -1, 0]</td>\n",
       "      <td>[4, -5, -5, -6, -6, 11, 11, 11, -15]</td>\n",
       "      <td>1</td>\n",
       "      <td>9</td>\n",
       "      <td>15</td>\n",
       "      <td>[{'S': 11, 'ψ': [(-15, 4), (-6, -5)]}]</td>\n",
       "    </tr>\n",
       "    <tr>\n",
       "      <th>16</th>\n",
       "      <td>[-1, 0, 1]</td>\n",
       "      <td>[-1, -5, 0, 5]</td>\n",
       "      <td>[2, 2, -3, 15, 15, -17, -17, -17, 20]</td>\n",
       "      <td>3</td>\n",
       "      <td>9</td>\n",
       "      <td>20</td>\n",
       "      <td>[{'S': 17, 'ψ': [(2, 15), (20, -3)]}]</td>\n",
       "    </tr>\n",
       "    <tr>\n",
       "      <th>18</th>\n",
       "      <td>[-1, 0, -1, 1]</td>\n",
       "      <td>[-3, 0, -3, 0]</td>\n",
       "      <td>[2, 2, -7, -12, 19, 19, 19, -21, -21]</td>\n",
       "      <td>1</td>\n",
       "      <td>9</td>\n",
       "      <td>21</td>\n",
       "      <td>[{'S': 19, 'ψ': [(-7, -12), (2, -21)]}]</td>\n",
       "    </tr>\n",
       "    <tr>\n",
       "      <th>19</th>\n",
       "      <td>[-1, 0, 1]</td>\n",
       "      <td>[-1, 1, 0, -7]</td>\n",
       "      <td>[3, 3, -4, 14, 14, -17, -17, -17, 21]</td>\n",
       "      <td>3</td>\n",
       "      <td>9</td>\n",
       "      <td>21</td>\n",
       "      <td>[{'S': 17, 'ψ': [(3, 14), (-4, 21)]}]</td>\n",
       "    </tr>\n",
       "    <tr>\n",
       "      <th>24</th>\n",
       "      <td>[1, 0, 1, -1]</td>\n",
       "      <td>[-3, 0, -3, 0]</td>\n",
       "      <td>[4, 4, -5, 15, 15, -19, -19, -19, 24]</td>\n",
       "      <td>1</td>\n",
       "      <td>9</td>\n",
       "      <td>24</td>\n",
       "      <td>[{'S': 19, 'ψ': [(24, -5), (4, 15)]}]</td>\n",
       "    </tr>\n",
       "  </tbody>\n",
       "</table>\n",
       "</div>"
      ],
      "text/plain": [
       "                 l                k                               solution  \\\n",
       "4       [-2, 0, 2]   [-1, 1, 0, -1]      [1, 1, -4, -5, 9, 9, 9, -10, -10]   \n",
       "6       [-1, 0, 1]  [-1, -3, 0, -1]   [1, 1, -3, -8, 11, 11, 11, -12, -12]   \n",
       "8   [-1, 0, -1, 1]   [-3, 0, -1, 0]   [4, -5, -5, -6, -6, 11, 11, 11, -15]   \n",
       "16      [-1, 0, 1]   [-1, -5, 0, 5]  [2, 2, -3, 15, 15, -17, -17, -17, 20]   \n",
       "18  [-1, 0, -1, 1]   [-3, 0, -3, 0]  [2, 2, -7, -12, 19, 19, 19, -21, -21]   \n",
       "19      [-1, 0, 1]   [-1, 1, 0, -7]  [3, 3, -4, 14, 14, -17, -17, -17, 21]   \n",
       "24   [1, 0, 1, -1]   [-3, 0, -3, 0]  [4, 4, -5, 15, 15, -19, -19, -19, 24]   \n",
       "\n",
       "    gcd  n  zmax                                   hidden  \n",
       "4     1  9    10    [{'S': 9, 'ψ': [(1, -10), (-5, -4)]}]  \n",
       "6     1  9    12   [{'S': 11, 'ψ': [(-8, -3), (1, -12)]}]  \n",
       "8     1  9    15   [{'S': 11, 'ψ': [(-15, 4), (-6, -5)]}]  \n",
       "16    3  9    20    [{'S': 17, 'ψ': [(2, 15), (20, -3)]}]  \n",
       "18    1  9    21  [{'S': 19, 'ψ': [(-7, -12), (2, -21)]}]  \n",
       "19    3  9    21    [{'S': 17, 'ψ': [(3, 14), (-4, 21)]}]  \n",
       "24    1  9    24    [{'S': 19, 'ψ': [(24, -5), (4, 15)]}]  "
      ]
     },
     "execution_count": 67,
     "metadata": {},
     "output_type": "execute_result"
    }
   ],
   "source": [
    "hs3[hs3['hidden'].str[0].str['ψ'].apply(len)==hs3['hidden'].str[0].str['ψ'].apply(len).min()]"
   ]
  },
  {
   "cell_type": "markdown",
   "id": "66cc520a-9510-4473-b840-d205b193c5f0",
   "metadata": {},
   "source": [
    "### Extend the data scheme with number of generations"
   ]
  },
  {
   "cell_type": "code",
   "execution_count": 68,
   "id": "ee44f4cd-a196-45fd-b0f3-a0359897e363",
   "metadata": {},
   "outputs": [],
   "source": [
    "def get_Dirac_and_Majorana_generations(l,h):\n",
    "    g=[]\n",
    "    dgmax=0\n",
    "    mgmax=0\n",
    "    for idx in range(len(h)):\n",
    "        for x,y in h[idx].get('ψ'):\n",
    "            if x!=y and l.count(x)>dgmax and l.count(y)==l.count(x):\n",
    "                    dgmax=l.count(x)\n",
    "            if x==y and l.count(x)>mgmax:\n",
    "                    mgmax=l.count(x)\n",
    "        g.append({'DG':dgmax,'NG':mgmax})\n",
    "    return g\n",
    "l=[2, 2, -3, 15, 15, -17, -17, -17, 20]\n",
    "h=[{'S': 17, 'ψ': [(2, 15), (20, -3)]}]\n",
    "assert get_Dirac_and_Majorana_generations(l,h)==[{'DG': 2, 'NG': 0}]"
   ]
  },
  {
   "cell_type": "code",
   "execution_count": 69,
   "id": "92dbea03-8c25-4cc1-a146-e7a6e8ffd1a3",
   "metadata": {},
   "outputs": [],
   "source": [
    "hs['Generations']=hs.apply(lambda row: get_Dirac_and_Majorana_generations(row['solution'],row['hidden']),axis='columns')"
   ]
  },
  {
   "cell_type": "code",
   "execution_count": 70,
   "id": "f92422d5-fd46-446d-b075-161f7683ac41",
   "metadata": {},
   "outputs": [],
   "source": [
    "hs3['Generations']=hs3.apply(lambda row: get_Dirac_and_Majorana_generations(row['solution'],row['hidden']),axis='columns')"
   ]
  },
  {
   "cell_type": "code",
   "execution_count": 71,
   "id": "71a7cd0e-f693-4021-89ce-f6892e5e6af3",
   "metadata": {},
   "outputs": [],
   "source": [
    "hs['Gmax']=-hs['Generations'].str[0].apply(lambda d: sum(d.values()))"
   ]
  },
  {
   "cell_type": "code",
   "execution_count": 72,
   "id": "75b0a0bd-0834-4f9a-8a3a-34e8d4191c79",
   "metadata": {},
   "outputs": [],
   "source": [
    "hs=hs.sort_values(['n','Gmax']).reset_index(drop=True)"
   ]
  },
  {
   "cell_type": "code",
   "execution_count": 73,
   "id": "68c0890a-d708-4edd-ae0b-f8752954146a",
   "metadata": {},
   "outputs": [
    {
     "data": {
      "text/html": [
       "<div>\n",
       "<style scoped>\n",
       "    .dataframe tbody tr th:only-of-type {\n",
       "        vertical-align: middle;\n",
       "    }\n",
       "\n",
       "    .dataframe tbody tr th {\n",
       "        vertical-align: top;\n",
       "    }\n",
       "\n",
       "    .dataframe thead th {\n",
       "        text-align: right;\n",
       "    }\n",
       "</style>\n",
       "<table border=\"1\" class=\"dataframe\">\n",
       "  <thead>\n",
       "    <tr style=\"text-align: right;\">\n",
       "      <th></th>\n",
       "      <th>l</th>\n",
       "      <th>k</th>\n",
       "      <th>solution</th>\n",
       "      <th>gcd</th>\n",
       "      <th>n</th>\n",
       "      <th>zmax</th>\n",
       "      <th>hidden</th>\n",
       "      <th>Generations</th>\n",
       "      <th>Gmax</th>\n",
       "    </tr>\n",
       "  </thead>\n",
       "  <tbody>\n",
       "    <tr>\n",
       "      <th>0</th>\n",
       "      <td>[-2, 0]</td>\n",
       "      <td>[-1, -2, -3]</td>\n",
       "      <td>[3, 5, -8, 9, -10, -14, 15]</td>\n",
       "      <td>1</td>\n",
       "      <td>7</td>\n",
       "      <td>15</td>\n",
       "      <td>[{'S': 5, 'ψ': [(3, -8), (5, -10), (9, -14), (15, -10)]}]</td>\n",
       "      <td>[{'DG': 1, 'NG': 0}]</td>\n",
       "      <td>-1</td>\n",
       "    </tr>\n",
       "    <tr>\n",
       "      <th>1</th>\n",
       "      <td>[2, 0]</td>\n",
       "      <td>[-1, -2, -3]</td>\n",
       "      <td>[5, 6, 7, -10, -11, -12, 15]</td>\n",
       "      <td>1</td>\n",
       "      <td>7</td>\n",
       "      <td>15</td>\n",
       "      <td>[{'S': 5, 'ψ': [(5, -10), (6, -11), (7, -12), (15, -10)]}]</td>\n",
       "      <td>[{'DG': 1, 'NG': 0}]</td>\n",
       "      <td>-1</td>\n",
       "    </tr>\n",
       "  </tbody>\n",
       "</table>\n",
       "</div>"
      ],
      "text/plain": [
       "         l             k                      solution  gcd  n  zmax  \\\n",
       "0  [-2, 0]  [-1, -2, -3]   [3, 5, -8, 9, -10, -14, 15]    1  7    15   \n",
       "1   [2, 0]  [-1, -2, -3]  [5, 6, 7, -10, -11, -12, 15]    1  7    15   \n",
       "\n",
       "                                                       hidden  \\\n",
       "0   [{'S': 5, 'ψ': [(3, -8), (5, -10), (9, -14), (15, -10)]}]   \n",
       "1  [{'S': 5, 'ψ': [(5, -10), (6, -11), (7, -12), (15, -10)]}]   \n",
       "\n",
       "            Generations  Gmax  \n",
       "0  [{'DG': 1, 'NG': 0}]    -1  \n",
       "1  [{'DG': 1, 'NG': 0}]    -1  "
      ]
     },
     "execution_count": 73,
     "metadata": {},
     "output_type": "execute_result"
    }
   ],
   "source": [
    "hs[hs['n']==7]"
   ]
  },
  {
   "cell_type": "code",
   "execution_count": 76,
   "id": "5d1b3a25-f7c5-408e-92da-0f1ca0764384",
   "metadata": {},
   "outputs": [
    {
     "data": {
      "text/html": [
       "<div>\n",
       "<style scoped>\n",
       "    .dataframe tbody tr th:only-of-type {\n",
       "        vertical-align: middle;\n",
       "    }\n",
       "\n",
       "    .dataframe tbody tr th {\n",
       "        vertical-align: top;\n",
       "    }\n",
       "\n",
       "    .dataframe thead th {\n",
       "        text-align: right;\n",
       "    }\n",
       "</style>\n",
       "<table border=\"1\" class=\"dataframe\">\n",
       "  <thead>\n",
       "    <tr style=\"text-align: right;\">\n",
       "      <th></th>\n",
       "      <th>l</th>\n",
       "      <th>k</th>\n",
       "      <th>solution</th>\n",
       "      <th>gcd</th>\n",
       "      <th>n</th>\n",
       "      <th>zmax</th>\n",
       "      <th>hidden</th>\n",
       "      <th>Generations</th>\n",
       "      <th>Gmax</th>\n",
       "    </tr>\n",
       "  </thead>\n",
       "  <tbody>\n",
       "    <tr>\n",
       "      <th>2</th>\n",
       "      <td>[-1, 2, -2]</td>\n",
       "      <td>[-7, 4, 0]</td>\n",
       "      <td>[1, 2, 2, 2, -3, -5, -6, 7]</td>\n",
       "      <td>1</td>\n",
       "      <td>8</td>\n",
       "      <td>7</td>\n",
       "      <td>[{'S': 4, 'ψ': [(1, -5), (2, 2), (2, -6), (7, -3)]}]</td>\n",
       "      <td>[{'DG': 1, 'NG': 3}]</td>\n",
       "      <td>-4</td>\n",
       "    </tr>\n",
       "    <tr>\n",
       "      <th>3</th>\n",
       "      <td>[1, 0, -2]</td>\n",
       "      <td>[-3, -1, 1]</td>\n",
       "      <td>[3, 3, 3, 5, -7, -9, -11, 13]</td>\n",
       "      <td>2</td>\n",
       "      <td>8</td>\n",
       "      <td>13</td>\n",
       "      <td>[{'S': 6, 'ψ': [(3, 3), (3, -9), (5, -11), (13, -7)]}]</td>\n",
       "      <td>[{'DG': 1, 'NG': 3}]</td>\n",
       "      <td>-4</td>\n",
       "    </tr>\n",
       "    <tr>\n",
       "      <th>4</th>\n",
       "      <td>[0, -1, -2]</td>\n",
       "      <td>[-1, -6, -5, -6]</td>\n",
       "      <td>[1, -6, -6, -6, 7, 11, 18, -19]</td>\n",
       "      <td>2</td>\n",
       "      <td>8</td>\n",
       "      <td>19</td>\n",
       "      <td>[{'S': 12, 'ψ': [(1, 11), (7, -19), (18, -6), (-6, -6)]}]</td>\n",
       "      <td>[{'DG': 1, 'NG': 3}]</td>\n",
       "      <td>-4</td>\n",
       "    </tr>\n",
       "    <tr>\n",
       "      <th>5</th>\n",
       "      <td>[3, 0, -5]</td>\n",
       "      <td>[-1, 1, -1]</td>\n",
       "      <td>[4, 4, 4, 11, -12, -13, -19, 21]</td>\n",
       "      <td>8</td>\n",
       "      <td>8</td>\n",
       "      <td>21</td>\n",
       "      <td>[{'S': 8, 'ψ': [(4, 4), (4, -12), (11, -19), (-13, 21)]}]</td>\n",
       "      <td>[{'DG': 1, 'NG': 3}]</td>\n",
       "      <td>-4</td>\n",
       "    </tr>\n",
       "    <tr>\n",
       "      <th>6</th>\n",
       "      <td>[0, -2, 0]</td>\n",
       "      <td>[-3, -1, 1, -1]</td>\n",
       "      <td>[5, 5, 5, -15, 19, -21, -29, 31]</td>\n",
       "      <td>2</td>\n",
       "      <td>8</td>\n",
       "      <td>31</td>\n",
       "      <td>[{'S': 10, 'ψ': [(-29, 19), (5, 5), (5, -15), (-21, 31)]}]</td>\n",
       "      <td>[{'DG': 1, 'NG': 3}]</td>\n",
       "      <td>-4</td>\n",
       "    </tr>\n",
       "    <tr>\n",
       "      <th>7</th>\n",
       "      <td>[0, 3, -1]</td>\n",
       "      <td>[-2, -1, 3, -1]</td>\n",
       "      <td>[1, -2, -3, 6, 6, -9, -10, 11]</td>\n",
       "      <td>1</td>\n",
       "      <td>8</td>\n",
       "      <td>11</td>\n",
       "      <td>[{'S': 12, 'ψ': [(1, 11), (6, 6), (-10, -2), (-9, -3)]}]</td>\n",
       "      <td>[{'DG': 1, 'NG': 2}]</td>\n",
       "      <td>-3</td>\n",
       "    </tr>\n",
       "  </tbody>\n",
       "</table>\n",
       "</div>"
      ],
      "text/plain": [
       "             l                 k                          solution  gcd  n  \\\n",
       "2  [-1, 2, -2]        [-7, 4, 0]       [1, 2, 2, 2, -3, -5, -6, 7]    1  8   \n",
       "3   [1, 0, -2]       [-3, -1, 1]     [3, 3, 3, 5, -7, -9, -11, 13]    2  8   \n",
       "4  [0, -1, -2]  [-1, -6, -5, -6]   [1, -6, -6, -6, 7, 11, 18, -19]    2  8   \n",
       "5   [3, 0, -5]       [-1, 1, -1]  [4, 4, 4, 11, -12, -13, -19, 21]    8  8   \n",
       "6   [0, -2, 0]   [-3, -1, 1, -1]  [5, 5, 5, -15, 19, -21, -29, 31]    2  8   \n",
       "7   [0, 3, -1]   [-2, -1, 3, -1]    [1, -2, -3, 6, 6, -9, -10, 11]    1  8   \n",
       "\n",
       "   zmax                                                      hidden  \\\n",
       "2     7        [{'S': 4, 'ψ': [(1, -5), (2, 2), (2, -6), (7, -3)]}]   \n",
       "3    13      [{'S': 6, 'ψ': [(3, 3), (3, -9), (5, -11), (13, -7)]}]   \n",
       "4    19   [{'S': 12, 'ψ': [(1, 11), (7, -19), (18, -6), (-6, -6)]}]   \n",
       "5    21   [{'S': 8, 'ψ': [(4, 4), (4, -12), (11, -19), (-13, 21)]}]   \n",
       "6    31  [{'S': 10, 'ψ': [(-29, 19), (5, 5), (5, -15), (-21, 31)]}]   \n",
       "7    11    [{'S': 12, 'ψ': [(1, 11), (6, 6), (-10, -2), (-9, -3)]}]   \n",
       "\n",
       "            Generations  Gmax  \n",
       "2  [{'DG': 1, 'NG': 3}]    -4  \n",
       "3  [{'DG': 1, 'NG': 3}]    -4  \n",
       "4  [{'DG': 1, 'NG': 3}]    -4  \n",
       "5  [{'DG': 1, 'NG': 3}]    -4  \n",
       "6  [{'DG': 1, 'NG': 3}]    -4  \n",
       "7  [{'DG': 1, 'NG': 2}]    -3  "
      ]
     },
     "execution_count": 76,
     "metadata": {},
     "output_type": "execute_result"
    }
   ],
   "source": [
    "hs[hs['n']==8][:6]"
   ]
  },
  {
   "cell_type": "code",
   "execution_count": 79,
   "id": "9b3f865a-4711-4f65-92bb-0ab81cccf74a",
   "metadata": {},
   "outputs": [
    {
     "data": {
      "text/html": [
       "<div>\n",
       "<style scoped>\n",
       "    .dataframe tbody tr th:only-of-type {\n",
       "        vertical-align: middle;\n",
       "    }\n",
       "\n",
       "    .dataframe tbody tr th {\n",
       "        vertical-align: top;\n",
       "    }\n",
       "\n",
       "    .dataframe thead th {\n",
       "        text-align: right;\n",
       "    }\n",
       "</style>\n",
       "<table border=\"1\" class=\"dataframe\">\n",
       "  <thead>\n",
       "    <tr style=\"text-align: right;\">\n",
       "      <th></th>\n",
       "      <th>l</th>\n",
       "      <th>k</th>\n",
       "      <th>solution</th>\n",
       "      <th>gcd</th>\n",
       "      <th>n</th>\n",
       "      <th>zmax</th>\n",
       "      <th>hidden</th>\n",
       "      <th>Generations</th>\n",
       "      <th>Gmax</th>\n",
       "    </tr>\n",
       "  </thead>\n",
       "  <tbody>\n",
       "    <tr>\n",
       "      <th>1357</th>\n",
       "      <td>[-2, 0, 1, 3]</td>\n",
       "      <td>[-1, 0, -1, 3]</td>\n",
       "      <td>[1, 1, 2, 2, -6, 9, -10, -12, 13]</td>\n",
       "      <td>1</td>\n",
       "      <td>9</td>\n",
       "      <td>13</td>\n",
       "      <td>[{'S': 3, 'ψ': [(1, 2), (9, -12), (9, -6), (13, -10)]}]</td>\n",
       "      <td>[{'DG': 2, 'NG': 0}]</td>\n",
       "      <td>-2</td>\n",
       "    </tr>\n",
       "    <tr>\n",
       "      <th>1358</th>\n",
       "      <td>[1, 2, 0, -1]</td>\n",
       "      <td>[-5, 2, 0, -5]</td>\n",
       "      <td>[3, -8, 10, 10, 11, -15, -15, -16, 20]</td>\n",
       "      <td>1</td>\n",
       "      <td>9</td>\n",
       "      <td>20</td>\n",
       "      <td>[{'S': 5, 'ψ': [(3, -8), (10, -15), (11, -16), (-15, 20)]}]</td>\n",
       "      <td>[{'DG': 2, 'NG': 0}]</td>\n",
       "      <td>-2</td>\n",
       "    </tr>\n",
       "    <tr>\n",
       "      <th>1359</th>\n",
       "      <td>[-2, 3, 2]</td>\n",
       "      <td>[-3, -8, -2, 1]</td>\n",
       "      <td>[1, 4, -10, -10, -12, 15, 15, 17, -20]</td>\n",
       "      <td>6</td>\n",
       "      <td>9</td>\n",
       "      <td>20</td>\n",
       "      <td>[{'S': 5, 'ψ': [(1, 4), (-20, 15), (15, -10), (17, -12)]}]</td>\n",
       "      <td>[{'DG': 2, 'NG': 0}]</td>\n",
       "      <td>-2</td>\n",
       "    </tr>\n",
       "  </tbody>\n",
       "</table>\n",
       "</div>"
      ],
      "text/plain": [
       "                  l                k                                solution  \\\n",
       "1357  [-2, 0, 1, 3]   [-1, 0, -1, 3]       [1, 1, 2, 2, -6, 9, -10, -12, 13]   \n",
       "1358  [1, 2, 0, -1]   [-5, 2, 0, -5]  [3, -8, 10, 10, 11, -15, -15, -16, 20]   \n",
       "1359     [-2, 3, 2]  [-3, -8, -2, 1]  [1, 4, -10, -10, -12, 15, 15, 17, -20]   \n",
       "\n",
       "      gcd  n  zmax  \\\n",
       "1357    1  9    13   \n",
       "1358    1  9    20   \n",
       "1359    6  9    20   \n",
       "\n",
       "                                                           hidden  \\\n",
       "1357      [{'S': 3, 'ψ': [(1, 2), (9, -12), (9, -6), (13, -10)]}]   \n",
       "1358  [{'S': 5, 'ψ': [(3, -8), (10, -15), (11, -16), (-15, 20)]}]   \n",
       "1359   [{'S': 5, 'ψ': [(1, 4), (-20, 15), (15, -10), (17, -12)]}]   \n",
       "\n",
       "               Generations  Gmax  \n",
       "1357  [{'DG': 2, 'NG': 0}]    -2  \n",
       "1358  [{'DG': 2, 'NG': 0}]    -2  \n",
       "1359  [{'DG': 2, 'NG': 0}]    -2  "
      ]
     },
     "execution_count": 79,
     "metadata": {},
     "output_type": "execute_result"
    }
   ],
   "source": [
    "hs[hs['n']==9][:3]"
   ]
  },
  {
   "cell_type": "code",
   "execution_count": 80,
   "id": "54ecbd30-0e04-4b5f-a122-21dcf5338c92",
   "metadata": {},
   "outputs": [
    {
     "data": {
      "text/html": [
       "<div>\n",
       "<style scoped>\n",
       "    .dataframe tbody tr th:only-of-type {\n",
       "        vertical-align: middle;\n",
       "    }\n",
       "\n",
       "    .dataframe tbody tr th {\n",
       "        vertical-align: top;\n",
       "    }\n",
       "\n",
       "    .dataframe thead th {\n",
       "        text-align: right;\n",
       "    }\n",
       "</style>\n",
       "<table border=\"1\" class=\"dataframe\">\n",
       "  <thead>\n",
       "    <tr style=\"text-align: right;\">\n",
       "      <th></th>\n",
       "      <th>l</th>\n",
       "      <th>k</th>\n",
       "      <th>solution</th>\n",
       "      <th>gcd</th>\n",
       "      <th>n</th>\n",
       "      <th>zmax</th>\n",
       "      <th>hidden</th>\n",
       "      <th>Generations</th>\n",
       "      <th>Gmax</th>\n",
       "    </tr>\n",
       "  </thead>\n",
       "  <tbody>\n",
       "    <tr>\n",
       "      <th>1374</th>\n",
       "      <td>[-2, -1, -2, -1, 3]</td>\n",
       "      <td>[-3, -1, 2, -1, 3]</td>\n",
       "      <td>[1, 1, 1, 1, -3, 5, -6, 8, -9, -10, 11]</td>\n",
       "      <td>2</td>\n",
       "      <td>11</td>\n",
       "      <td>11</td>\n",
       "      <td>[{'S': 2, 'ψ': [(1, 1), (1, -3), (5, -3), (8, -10), (8, -6), (11, -9)]}]</td>\n",
       "      <td>[{'DG': 1, 'NG': 4}]</td>\n",
       "      <td>-5</td>\n",
       "    </tr>\n",
       "    <tr>\n",
       "      <th>1375</th>\n",
       "      <td>[-4, 1, 0, 4]</td>\n",
       "      <td>[-1, -3, 1, 0, 2]</td>\n",
       "      <td>[1, 4, 4, 4, 4, -8, -9, 16, -17, -24, 25]</td>\n",
       "      <td>4</td>\n",
       "      <td>11</td>\n",
       "      <td>25</td>\n",
       "      <td>[{'S': 8, 'ψ': [(1, -9), (4, 4), (-24, 16), (-17, 25), (16, -8)]}]</td>\n",
       "      <td>[{'DG': 1, 'NG': 4}]</td>\n",
       "      <td>-5</td>\n",
       "    </tr>\n",
       "    <tr>\n",
       "      <th>1376</th>\n",
       "      <td>[-1, 0, 1, 0, 2]</td>\n",
       "      <td>[-3, -2, -1, -2, 0]</td>\n",
       "      <td>[1, 1, -2, -2, 4, 4, -6, 7, -8, -9, 10]</td>\n",
       "      <td>2</td>\n",
       "      <td>11</td>\n",
       "      <td>10</td>\n",
       "      <td>[{'S': 2, 'ψ': [(1, 1), (4, -6), (4, -2), (7, -9), (10, -8)]}]</td>\n",
       "      <td>[{'DG': 2, 'NG': 2}]</td>\n",
       "      <td>-4</td>\n",
       "    </tr>\n",
       "    <tr>\n",
       "      <th>1377</th>\n",
       "      <td>[1, 0, 3, 0, -2]</td>\n",
       "      <td>[-2, -1, -2, -3, 0]</td>\n",
       "      <td>[1, 3, 3, -6, -6, -7, -10, 12, 12, 16, -18]</td>\n",
       "      <td>2</td>\n",
       "      <td>11</td>\n",
       "      <td>18</td>\n",
       "      <td>[{'S': 6, 'ψ': [(1, -7), (3, 3), (12, -18), (12, -6), (16, -10)]}]</td>\n",
       "      <td>[{'DG': 2, 'NG': 2}]</td>\n",
       "      <td>-4</td>\n",
       "    </tr>\n",
       "  </tbody>\n",
       "</table>\n",
       "</div>"
      ],
      "text/plain": [
       "                        l                    k  \\\n",
       "1374  [-2, -1, -2, -1, 3]   [-3, -1, 2, -1, 3]   \n",
       "1375        [-4, 1, 0, 4]    [-1, -3, 1, 0, 2]   \n",
       "1376     [-1, 0, 1, 0, 2]  [-3, -2, -1, -2, 0]   \n",
       "1377     [1, 0, 3, 0, -2]  [-2, -1, -2, -3, 0]   \n",
       "\n",
       "                                         solution  gcd   n  zmax  \\\n",
       "1374      [1, 1, 1, 1, -3, 5, -6, 8, -9, -10, 11]    2  11    11   \n",
       "1375    [1, 4, 4, 4, 4, -8, -9, 16, -17, -24, 25]    4  11    25   \n",
       "1376      [1, 1, -2, -2, 4, 4, -6, 7, -8, -9, 10]    2  11    10   \n",
       "1377  [1, 3, 3, -6, -6, -7, -10, 12, 12, 16, -18]    2  11    18   \n",
       "\n",
       "                                                                        hidden  \\\n",
       "1374  [{'S': 2, 'ψ': [(1, 1), (1, -3), (5, -3), (8, -10), (8, -6), (11, -9)]}]   \n",
       "1375        [{'S': 8, 'ψ': [(1, -9), (4, 4), (-24, 16), (-17, 25), (16, -8)]}]   \n",
       "1376            [{'S': 2, 'ψ': [(1, 1), (4, -6), (4, -2), (7, -9), (10, -8)]}]   \n",
       "1377        [{'S': 6, 'ψ': [(1, -7), (3, 3), (12, -18), (12, -6), (16, -10)]}]   \n",
       "\n",
       "               Generations  Gmax  \n",
       "1374  [{'DG': 1, 'NG': 4}]    -5  \n",
       "1375  [{'DG': 1, 'NG': 4}]    -5  \n",
       "1376  [{'DG': 2, 'NG': 2}]    -4  \n",
       "1377  [{'DG': 2, 'NG': 2}]    -4  "
      ]
     },
     "execution_count": 80,
     "metadata": {},
     "output_type": "execute_result"
    }
   ],
   "source": [
    "hs[hs['n']==11][:4]"
   ]
  },
  {
   "cell_type": "code",
   "execution_count": 81,
   "id": "4d833da6-307e-449c-bdd6-f21262951487",
   "metadata": {},
   "outputs": [
    {
     "data": {
      "text/html": [
       "<div>\n",
       "<style scoped>\n",
       "    .dataframe tbody tr th:only-of-type {\n",
       "        vertical-align: middle;\n",
       "    }\n",
       "\n",
       "    .dataframe tbody tr th {\n",
       "        vertical-align: top;\n",
       "    }\n",
       "\n",
       "    .dataframe thead th {\n",
       "        text-align: right;\n",
       "    }\n",
       "</style>\n",
       "<table border=\"1\" class=\"dataframe\">\n",
       "  <thead>\n",
       "    <tr style=\"text-align: right;\">\n",
       "      <th></th>\n",
       "      <th>l</th>\n",
       "      <th>k</th>\n",
       "      <th>solution</th>\n",
       "      <th>gcd</th>\n",
       "      <th>n</th>\n",
       "      <th>zmax</th>\n",
       "      <th>hidden</th>\n",
       "      <th>Generations</th>\n",
       "      <th>Gmax</th>\n",
       "    </tr>\n",
       "  </thead>\n",
       "  <tbody>\n",
       "    <tr>\n",
       "      <th>1800</th>\n",
       "      <td>[1, 0, -2, 0, -2]</td>\n",
       "      <td>[-3, -1, 1, -1, 1]</td>\n",
       "      <td>[1, 1, 7, 7, 7, 7, 7, -11, -15, -15, -21, 25]</td>\n",
       "      <td>2</td>\n",
       "      <td>12</td>\n",
       "      <td>25</td>\n",
       "      <td>[{'S': 14, 'ψ': [(1, -15), (7, 7), (7, -21), (-11, 25)]}]</td>\n",
       "      <td>[{'DG': 2, 'NG': 5}]</td>\n",
       "      <td>-7</td>\n",
       "    </tr>\n",
       "    <tr>\n",
       "      <th>1801</th>\n",
       "      <td>[-1, 0, -3, 0, -1]</td>\n",
       "      <td>[-1, 1, -1, -3, -1]</td>\n",
       "      <td>[5, 5, 7, 7, 7, 7, 7, -15, -19, -19, -21, 29]</td>\n",
       "      <td>2</td>\n",
       "      <td>12</td>\n",
       "      <td>29</td>\n",
       "      <td>[{'S': 14, 'ψ': [(5, -19), (7, 7), (7, -21), (-15, 29)]}]</td>\n",
       "      <td>[{'DG': 2, 'NG': 5}]</td>\n",
       "      <td>-7</td>\n",
       "    </tr>\n",
       "    <tr>\n",
       "      <th>1802</th>\n",
       "      <td>[2, 0, -1, 0, 1]</td>\n",
       "      <td>[-3, -2, -3, -2, -1]</td>\n",
       "      <td>[1, -2, -2, -3, 4, 4, 4, 4, -5, -6, -6, 7]</td>\n",
       "      <td>2</td>\n",
       "      <td>12</td>\n",
       "      <td>7</td>\n",
       "      <td>[{'S': 8, 'ψ': [(1, 7), (4, 4), (-6, -2), (-5, -3)]}]</td>\n",
       "      <td>[{'DG': 2, 'NG': 4}]</td>\n",
       "      <td>-6</td>\n",
       "    </tr>\n",
       "    <tr>\n",
       "      <th>1803</th>\n",
       "      <td>[-1, 1, -2, -1, 1]</td>\n",
       "      <td>[-2, 0, -1, -3, 0]</td>\n",
       "      <td>[1, 1, 1, 1, 1, 2, -3, -4, 5, -6, -7, 8]</td>\n",
       "      <td>1</td>\n",
       "      <td>12</td>\n",
       "      <td>8</td>\n",
       "      <td>[{'S': 2, 'ψ': [(1, 1), (1, -3), (2, -4), (5, -7), (5, -3), (8, -6)]}]</td>\n",
       "      <td>[{'DG': 1, 'NG': 5}]</td>\n",
       "      <td>-6</td>\n",
       "    </tr>\n",
       "  </tbody>\n",
       "</table>\n",
       "</div>"
      ],
      "text/plain": [
       "                       l                     k  \\\n",
       "1800   [1, 0, -2, 0, -2]    [-3, -1, 1, -1, 1]   \n",
       "1801  [-1, 0, -3, 0, -1]   [-1, 1, -1, -3, -1]   \n",
       "1802    [2, 0, -1, 0, 1]  [-3, -2, -3, -2, -1]   \n",
       "1803  [-1, 1, -2, -1, 1]    [-2, 0, -1, -3, 0]   \n",
       "\n",
       "                                           solution  gcd   n  zmax  \\\n",
       "1800  [1, 1, 7, 7, 7, 7, 7, -11, -15, -15, -21, 25]    2  12    25   \n",
       "1801  [5, 5, 7, 7, 7, 7, 7, -15, -19, -19, -21, 29]    2  12    29   \n",
       "1802     [1, -2, -2, -3, 4, 4, 4, 4, -5, -6, -6, 7]    2  12     7   \n",
       "1803       [1, 1, 1, 1, 1, 2, -3, -4, 5, -6, -7, 8]    1  12     8   \n",
       "\n",
       "                                                                      hidden  \\\n",
       "1800               [{'S': 14, 'ψ': [(1, -15), (7, 7), (7, -21), (-11, 25)]}]   \n",
       "1801               [{'S': 14, 'ψ': [(5, -19), (7, 7), (7, -21), (-15, 29)]}]   \n",
       "1802                   [{'S': 8, 'ψ': [(1, 7), (4, 4), (-6, -2), (-5, -3)]}]   \n",
       "1803  [{'S': 2, 'ψ': [(1, 1), (1, -3), (2, -4), (5, -7), (5, -3), (8, -6)]}]   \n",
       "\n",
       "               Generations  Gmax  \n",
       "1800  [{'DG': 2, 'NG': 5}]    -7  \n",
       "1801  [{'DG': 2, 'NG': 5}]    -7  \n",
       "1802  [{'DG': 2, 'NG': 4}]    -6  \n",
       "1803  [{'DG': 1, 'NG': 5}]    -6  "
      ]
     },
     "execution_count": 81,
     "metadata": {},
     "output_type": "execute_result"
    }
   ],
   "source": [
    "hs[hs['n']==12][:4]"
   ]
  },
  {
   "cell_type": "code",
   "execution_count": 82,
   "id": "92a5c991-081d-4627-bf07-da0ae1f449f2",
   "metadata": {},
   "outputs": [],
   "source": [
    "hs3['Gmax']=-hs3['Generations'].str[0].apply(lambda d: sum(d.values()))\n",
    "hs3=hs3.sort_values(['n','Gmax']).reset_index(drop=True)"
   ]
  },
  {
   "cell_type": "code",
   "execution_count": 83,
   "id": "ebd62377-8b1f-475b-bbc5-9a539794ef53",
   "metadata": {},
   "outputs": [
    {
     "data": {
      "text/html": [
       "<div>\n",
       "<style scoped>\n",
       "    .dataframe tbody tr th:only-of-type {\n",
       "        vertical-align: middle;\n",
       "    }\n",
       "\n",
       "    .dataframe tbody tr th {\n",
       "        vertical-align: top;\n",
       "    }\n",
       "\n",
       "    .dataframe thead th {\n",
       "        text-align: right;\n",
       "    }\n",
       "</style>\n",
       "<table border=\"1\" class=\"dataframe\">\n",
       "  <thead>\n",
       "    <tr style=\"text-align: right;\">\n",
       "      <th></th>\n",
       "      <th>l</th>\n",
       "      <th>k</th>\n",
       "      <th>solution</th>\n",
       "      <th>gcd</th>\n",
       "      <th>n</th>\n",
       "      <th>zmax</th>\n",
       "      <th>hidden</th>\n",
       "      <th>Generations</th>\n",
       "      <th>Gmax</th>\n",
       "    </tr>\n",
       "  </thead>\n",
       "  <tbody>\n",
       "    <tr>\n",
       "      <th>0</th>\n",
       "      <td>[1, 0, -2]</td>\n",
       "      <td>[-3, -1, 1]</td>\n",
       "      <td>[3, 3, 3, 5, -7, -9, -11, 13]</td>\n",
       "      <td>2</td>\n",
       "      <td>8</td>\n",
       "      <td>13</td>\n",
       "      <td>[{'S': 18, 'ψ': [(5, 13), (-11, -7), (-9, -9)]}]</td>\n",
       "      <td>[{'DG': 1, 'NG': 1}]</td>\n",
       "      <td>-2</td>\n",
       "    </tr>\n",
       "  </tbody>\n",
       "</table>\n",
       "</div>"
      ],
      "text/plain": [
       "            l            k                       solution  gcd  n  zmax  \\\n",
       "0  [1, 0, -2]  [-3, -1, 1]  [3, 3, 3, 5, -7, -9, -11, 13]    2  8    13   \n",
       "\n",
       "                                             hidden           Generations  \\\n",
       "0  [{'S': 18, 'ψ': [(5, 13), (-11, -7), (-9, -9)]}]  [{'DG': 1, 'NG': 1}]   \n",
       "\n",
       "   Gmax  \n",
       "0    -2  "
      ]
     },
     "execution_count": 83,
     "metadata": {},
     "output_type": "execute_result"
    }
   ],
   "source": [
    "hs3[hs3['n']==8][:1]"
   ]
  },
  {
   "cell_type": "code",
   "execution_count": 84,
   "id": "ef353d09-4292-47c0-aa98-d4e2711b8873",
   "metadata": {},
   "outputs": [
    {
     "data": {
      "text/html": [
       "<div>\n",
       "<style scoped>\n",
       "    .dataframe tbody tr th:only-of-type {\n",
       "        vertical-align: middle;\n",
       "    }\n",
       "\n",
       "    .dataframe tbody tr th {\n",
       "        vertical-align: top;\n",
       "    }\n",
       "\n",
       "    .dataframe thead th {\n",
       "        text-align: right;\n",
       "    }\n",
       "</style>\n",
       "<table border=\"1\" class=\"dataframe\">\n",
       "  <thead>\n",
       "    <tr style=\"text-align: right;\">\n",
       "      <th></th>\n",
       "      <th>l</th>\n",
       "      <th>k</th>\n",
       "      <th>solution</th>\n",
       "      <th>gcd</th>\n",
       "      <th>n</th>\n",
       "      <th>zmax</th>\n",
       "      <th>hidden</th>\n",
       "      <th>Generations</th>\n",
       "      <th>Gmax</th>\n",
       "    </tr>\n",
       "  </thead>\n",
       "  <tbody>\n",
       "    <tr>\n",
       "      <th>3</th>\n",
       "      <td>[-2, -1, 0]</td>\n",
       "      <td>[-1, -3, -5, -3]</td>\n",
       "      <td>[5, 6, 6, 6, -8, -9, -9, -10, 13]</td>\n",
       "      <td>2</td>\n",
       "      <td>9</td>\n",
       "      <td>13</td>\n",
       "      <td>[{'S': 18, 'ψ': [(5, 13), (-10, -8), (-9, -9)]}]</td>\n",
       "      <td>[{'DG': 1, 'NG': 2}]</td>\n",
       "      <td>-3</td>\n",
       "    </tr>\n",
       "    <tr>\n",
       "      <th>4</th>\n",
       "      <td>[1, -2, -1]</td>\n",
       "      <td>[-4, -9, -5, -3]</td>\n",
       "      <td>[1, -2, 6, 6, 6, -9, -9, -16, 17]</td>\n",
       "      <td>6</td>\n",
       "      <td>9</td>\n",
       "      <td>17</td>\n",
       "      <td>[{'S': 18, 'ψ': [(1, 17), (-16, -2), (-9, -9)]}]</td>\n",
       "      <td>[{'DG': 1, 'NG': 2}]</td>\n",
       "      <td>-3</td>\n",
       "    </tr>\n",
       "    <tr>\n",
       "      <th>5</th>\n",
       "      <td>[-2, 0, 2]</td>\n",
       "      <td>[-1, 1, 0, -1]</td>\n",
       "      <td>[1, 1, -4, -5, 9, 9, 9, -10, -10]</td>\n",
       "      <td>1</td>\n",
       "      <td>9</td>\n",
       "      <td>10</td>\n",
       "      <td>[{'S': 9, 'ψ': [(1, -10), (-5, -4)]}]</td>\n",
       "      <td>[{'DG': 2, 'NG': 0}]</td>\n",
       "      <td>-2</td>\n",
       "    </tr>\n",
       "    <tr>\n",
       "      <th>6</th>\n",
       "      <td>[2, -2, 1, 3]</td>\n",
       "      <td>[-5, -4, -3, -1]</td>\n",
       "      <td>[1, -2, -2, -2, 5, -7, 8, 9, -10]</td>\n",
       "      <td>1</td>\n",
       "      <td>9</td>\n",
       "      <td>10</td>\n",
       "      <td>[{'S': 2, 'ψ': [(1, 1), (5, -7), (8, -10), (9, -7)]}]</td>\n",
       "      <td>[{'DG': 1, 'NG': 1}]</td>\n",
       "      <td>-2</td>\n",
       "    </tr>\n",
       "  </tbody>\n",
       "</table>\n",
       "</div>"
      ],
      "text/plain": [
       "               l                 k                           solution  gcd  n  \\\n",
       "3    [-2, -1, 0]  [-1, -3, -5, -3]  [5, 6, 6, 6, -8, -9, -9, -10, 13]    2  9   \n",
       "4    [1, -2, -1]  [-4, -9, -5, -3]  [1, -2, 6, 6, 6, -9, -9, -16, 17]    6  9   \n",
       "5     [-2, 0, 2]    [-1, 1, 0, -1]  [1, 1, -4, -5, 9, 9, 9, -10, -10]    1  9   \n",
       "6  [2, -2, 1, 3]  [-5, -4, -3, -1]  [1, -2, -2, -2, 5, -7, 8, 9, -10]    1  9   \n",
       "\n",
       "   zmax                                                 hidden  \\\n",
       "3    13       [{'S': 18, 'ψ': [(5, 13), (-10, -8), (-9, -9)]}]   \n",
       "4    17       [{'S': 18, 'ψ': [(1, 17), (-16, -2), (-9, -9)]}]   \n",
       "5    10                  [{'S': 9, 'ψ': [(1, -10), (-5, -4)]}]   \n",
       "6    10  [{'S': 2, 'ψ': [(1, 1), (5, -7), (8, -10), (9, -7)]}]   \n",
       "\n",
       "            Generations  Gmax  \n",
       "3  [{'DG': 1, 'NG': 2}]    -3  \n",
       "4  [{'DG': 1, 'NG': 2}]    -3  \n",
       "5  [{'DG': 2, 'NG': 0}]    -2  \n",
       "6  [{'DG': 1, 'NG': 1}]    -2  "
      ]
     },
     "execution_count": 84,
     "metadata": {},
     "output_type": "execute_result"
    }
   ],
   "source": [
    "hs3[hs3['n']==9][:4]"
   ]
  },
  {
   "cell_type": "code",
   "execution_count": 85,
   "id": "1a2dfd23-be61-4e2b-aa5a-06ae9e664752",
   "metadata": {},
   "outputs": [
    {
     "data": {
      "text/html": [
       "<div>\n",
       "<style scoped>\n",
       "    .dataframe tbody tr th:only-of-type {\n",
       "        vertical-align: middle;\n",
       "    }\n",
       "\n",
       "    .dataframe tbody tr th {\n",
       "        vertical-align: top;\n",
       "    }\n",
       "\n",
       "    .dataframe thead th {\n",
       "        text-align: right;\n",
       "    }\n",
       "</style>\n",
       "<table border=\"1\" class=\"dataframe\">\n",
       "  <thead>\n",
       "    <tr style=\"text-align: right;\">\n",
       "      <th></th>\n",
       "      <th>l</th>\n",
       "      <th>k</th>\n",
       "      <th>solution</th>\n",
       "      <th>gcd</th>\n",
       "      <th>n</th>\n",
       "      <th>zmax</th>\n",
       "      <th>hidden</th>\n",
       "      <th>Generations</th>\n",
       "      <th>Gmax</th>\n",
       "    </tr>\n",
       "  </thead>\n",
       "  <tbody>\n",
       "    <tr>\n",
       "      <th>44</th>\n",
       "      <td>[-4, -1, 0, 1]</td>\n",
       "      <td>[-4, 1, -1, -3, 1]</td>\n",
       "      <td>[1, 1, 1, 2, 2, -7, 11, -12, -15, 16]</td>\n",
       "      <td>3</td>\n",
       "      <td>10</td>\n",
       "      <td>16</td>\n",
       "      <td>[{'S': 4, 'ψ': [(2, 2), (11, -15), (11, -7), (16, -12)]}]</td>\n",
       "      <td>[{'DG': 1, 'NG': 2}]</td>\n",
       "      <td>-3</td>\n",
       "    </tr>\n",
       "    <tr>\n",
       "      <th>45</th>\n",
       "      <td>[-3, 3, 0, -6]</td>\n",
       "      <td>[-3, -2, 3, 4]</td>\n",
       "      <td>[3, 3, 3, -4, 9, 9, -10, -14, -27, 28]</td>\n",
       "      <td>18</td>\n",
       "      <td>10</td>\n",
       "      <td>28</td>\n",
       "      <td>[{'S': 18, 'ψ': [(-27, 9), (9, 9), (28, -10), (-14, -4)]}]</td>\n",
       "      <td>[{'DG': 1, 'NG': 2}]</td>\n",
       "      <td>-3</td>\n",
       "    </tr>\n",
       "    <tr>\n",
       "      <th>46</th>\n",
       "      <td>[-1, 0, -4, -3]</td>\n",
       "      <td>[-3, 1, -1, -5]</td>\n",
       "      <td>[1, -3, -3, -3, -9, -9, 11, 17, 27, -29]</td>\n",
       "      <td>2</td>\n",
       "      <td>10</td>\n",
       "      <td>29</td>\n",
       "      <td>[{'S': 18, 'ψ': [(1, 17), (-29, 11), (-9, -9), (-9, 27)]}]</td>\n",
       "      <td>[{'DG': 1, 'NG': 2}]</td>\n",
       "      <td>-3</td>\n",
       "    </tr>\n",
       "    <tr>\n",
       "      <th>47</th>\n",
       "      <td>[0, 1, 0, -2]</td>\n",
       "      <td>[-1, -3, 3, -1, -3]</td>\n",
       "      <td>[1, -5, -7, 9, -11, -13, 15, 15, 15, -19]</td>\n",
       "      <td>4</td>\n",
       "      <td>10</td>\n",
       "      <td>19</td>\n",
       "      <td>[{'S': 18, 'ψ': [(1, -19), (9, 9), (-13, -5), (-11, -7)]}]</td>\n",
       "      <td>[{'DG': 1, 'NG': 1}]</td>\n",
       "      <td>-2</td>\n",
       "    </tr>\n",
       "    <tr>\n",
       "      <th>48</th>\n",
       "      <td>[1, 0, 2, 0]</td>\n",
       "      <td>[-3, 0, -3, -2, -1]</td>\n",
       "      <td>[1, -2, 3, 3, 3, -6, 9, -12, -19, 20]</td>\n",
       "      <td>6</td>\n",
       "      <td>10</td>\n",
       "      <td>20</td>\n",
       "      <td>[{'S': 18, 'ψ': [(1, -19), (9, 9), (-12, -6), (20, -2)]}]</td>\n",
       "      <td>[{'DG': 1, 'NG': 1}]</td>\n",
       "      <td>-2</td>\n",
       "    </tr>\n",
       "  </tbody>\n",
       "</table>\n",
       "</div>"
      ],
      "text/plain": [
       "                  l                    k  \\\n",
       "44   [-4, -1, 0, 1]   [-4, 1, -1, -3, 1]   \n",
       "45   [-3, 3, 0, -6]       [-3, -2, 3, 4]   \n",
       "46  [-1, 0, -4, -3]      [-3, 1, -1, -5]   \n",
       "47    [0, 1, 0, -2]  [-1, -3, 3, -1, -3]   \n",
       "48     [1, 0, 2, 0]  [-3, 0, -3, -2, -1]   \n",
       "\n",
       "                                     solution  gcd   n  zmax  \\\n",
       "44      [1, 1, 1, 2, 2, -7, 11, -12, -15, 16]    3  10    16   \n",
       "45     [3, 3, 3, -4, 9, 9, -10, -14, -27, 28]   18  10    28   \n",
       "46   [1, -3, -3, -3, -9, -9, 11, 17, 27, -29]    2  10    29   \n",
       "47  [1, -5, -7, 9, -11, -13, 15, 15, 15, -19]    4  10    19   \n",
       "48      [1, -2, 3, 3, 3, -6, 9, -12, -19, 20]    6  10    20   \n",
       "\n",
       "                                                        hidden  \\\n",
       "44   [{'S': 4, 'ψ': [(2, 2), (11, -15), (11, -7), (16, -12)]}]   \n",
       "45  [{'S': 18, 'ψ': [(-27, 9), (9, 9), (28, -10), (-14, -4)]}]   \n",
       "46  [{'S': 18, 'ψ': [(1, 17), (-29, 11), (-9, -9), (-9, 27)]}]   \n",
       "47  [{'S': 18, 'ψ': [(1, -19), (9, 9), (-13, -5), (-11, -7)]}]   \n",
       "48   [{'S': 18, 'ψ': [(1, -19), (9, 9), (-12, -6), (20, -2)]}]   \n",
       "\n",
       "             Generations  Gmax  \n",
       "44  [{'DG': 1, 'NG': 2}]    -3  \n",
       "45  [{'DG': 1, 'NG': 2}]    -3  \n",
       "46  [{'DG': 1, 'NG': 2}]    -3  \n",
       "47  [{'DG': 1, 'NG': 1}]    -2  \n",
       "48  [{'DG': 1, 'NG': 1}]    -2  "
      ]
     },
     "execution_count": 85,
     "metadata": {},
     "output_type": "execute_result"
    }
   ],
   "source": [
    "hs3[hs3['n']==10][:5]"
   ]
  },
  {
   "cell_type": "code",
   "execution_count": 86,
   "id": "2b0f69f7-c511-454f-8670-ecccfc31b151",
   "metadata": {},
   "outputs": [
    {
     "data": {
      "text/html": [
       "<div>\n",
       "<style scoped>\n",
       "    .dataframe tbody tr th:only-of-type {\n",
       "        vertical-align: middle;\n",
       "    }\n",
       "\n",
       "    .dataframe tbody tr th {\n",
       "        vertical-align: top;\n",
       "    }\n",
       "\n",
       "    .dataframe thead th {\n",
       "        text-align: right;\n",
       "    }\n",
       "</style>\n",
       "<table border=\"1\" class=\"dataframe\">\n",
       "  <thead>\n",
       "    <tr style=\"text-align: right;\">\n",
       "      <th></th>\n",
       "      <th>l</th>\n",
       "      <th>k</th>\n",
       "      <th>solution</th>\n",
       "      <th>gcd</th>\n",
       "      <th>n</th>\n",
       "      <th>zmax</th>\n",
       "      <th>hidden</th>\n",
       "      <th>Generations</th>\n",
       "      <th>Gmax</th>\n",
       "    </tr>\n",
       "  </thead>\n",
       "  <tbody>\n",
       "    <tr>\n",
       "      <th>65</th>\n",
       "      <td>[2, -1, 2, -1]</td>\n",
       "      <td>[-2, -1, -2, 2, 4]</td>\n",
       "      <td>[4, 5, 8, -9, -9, 10, -12, -12, -12, 13, 14]</td>\n",
       "      <td>1</td>\n",
       "      <td>11</td>\n",
       "      <td>14</td>\n",
       "      <td>[{'S': 18, 'ψ': [(4, 14), (5, 13), (8, 10), (-9, -9)]}]</td>\n",
       "      <td>[{'DG': 1, 'NG': 2}]</td>\n",
       "      <td>-3</td>\n",
       "    </tr>\n",
       "    <tr>\n",
       "      <th>66</th>\n",
       "      <td>[2, 3, 0, -3, 3]</td>\n",
       "      <td>[0, -3, 1, -1, -3]</td>\n",
       "      <td>[1, 1, -2, -3, 6, 6, 6, -7, -10, -10, 12]</td>\n",
       "      <td>15</td>\n",
       "      <td>11</td>\n",
       "      <td>12</td>\n",
       "      <td>[{'S': 9, 'ψ': [(1, -10), (12, -3), (-7, -2)]}]</td>\n",
       "      <td>[{'DG': 2, 'NG': 0}]</td>\n",
       "      <td>-2</td>\n",
       "    </tr>\n",
       "  </tbody>\n",
       "</table>\n",
       "</div>"
      ],
      "text/plain": [
       "                   l                   k  \\\n",
       "65    [2, -1, 2, -1]  [-2, -1, -2, 2, 4]   \n",
       "66  [2, 3, 0, -3, 3]  [0, -3, 1, -1, -3]   \n",
       "\n",
       "                                        solution  gcd   n  zmax  \\\n",
       "65  [4, 5, 8, -9, -9, 10, -12, -12, -12, 13, 14]    1  11    14   \n",
       "66     [1, 1, -2, -3, 6, 6, 6, -7, -10, -10, 12]   15  11    12   \n",
       "\n",
       "                                                     hidden  \\\n",
       "65  [{'S': 18, 'ψ': [(4, 14), (5, 13), (8, 10), (-9, -9)]}]   \n",
       "66          [{'S': 9, 'ψ': [(1, -10), (12, -3), (-7, -2)]}]   \n",
       "\n",
       "             Generations  Gmax  \n",
       "65  [{'DG': 1, 'NG': 2}]    -3  \n",
       "66  [{'DG': 2, 'NG': 0}]    -2  "
      ]
     },
     "execution_count": 86,
     "metadata": {},
     "output_type": "execute_result"
    }
   ],
   "source": [
    "hs3[hs3['n']==11][:2]"
   ]
  },
  {
   "cell_type": "code",
   "execution_count": 87,
   "id": "482d9bd4-17bb-4987-bc25-49b1fe5c8e28",
   "metadata": {},
   "outputs": [
    {
     "data": {
      "text/html": [
       "<div>\n",
       "<style scoped>\n",
       "    .dataframe tbody tr th:only-of-type {\n",
       "        vertical-align: middle;\n",
       "    }\n",
       "\n",
       "    .dataframe tbody tr th {\n",
       "        vertical-align: top;\n",
       "    }\n",
       "\n",
       "    .dataframe thead th {\n",
       "        text-align: right;\n",
       "    }\n",
       "</style>\n",
       "<table border=\"1\" class=\"dataframe\">\n",
       "  <thead>\n",
       "    <tr style=\"text-align: right;\">\n",
       "      <th></th>\n",
       "      <th>l</th>\n",
       "      <th>k</th>\n",
       "      <th>solution</th>\n",
       "      <th>gcd</th>\n",
       "      <th>n</th>\n",
       "      <th>zmax</th>\n",
       "      <th>hidden</th>\n",
       "      <th>Generations</th>\n",
       "      <th>Gmax</th>\n",
       "    </tr>\n",
       "  </thead>\n",
       "  <tbody>\n",
       "    <tr>\n",
       "      <th>84</th>\n",
       "      <td>[1, -3, -2, 0, -1]</td>\n",
       "      <td>[-3, -1, -3, -1, -3]</td>\n",
       "      <td>[1, 1, 3, 3, 3, 5, 5, -7, -9, -9, -9, 13]</td>\n",
       "      <td>2</td>\n",
       "      <td>12</td>\n",
       "      <td>13</td>\n",
       "      <td>[{'S': 6, 'ψ': [(1, 5), (1, -7), (3, 3), (13, -7)]}]</td>\n",
       "      <td>[{'DG': 2, 'NG': 3}]</td>\n",
       "      <td>-5</td>\n",
       "    </tr>\n",
       "    <tr>\n",
       "      <th>85</th>\n",
       "      <td>[1, 0, 2, 0, 2]</td>\n",
       "      <td>[-3, -1, -3, -1, -3]</td>\n",
       "      <td>[7, 9, 9, 9, 11, -13, -13, -27, -27, -27, 31, 31]</td>\n",
       "      <td>2</td>\n",
       "      <td>12</td>\n",
       "      <td>31</td>\n",
       "      <td>[{'S': 18, 'ψ': [(7, 11), (9, 9), (-13, 31)]}]</td>\n",
       "      <td>[{'DG': 2, 'NG': 3}]</td>\n",
       "      <td>-5</td>\n",
       "    </tr>\n",
       "    <tr>\n",
       "      <th>86</th>\n",
       "      <td>[-2, -3, -2, -3, 2]</td>\n",
       "      <td>[-2, -1, -3, -1, 1]</td>\n",
       "      <td>[1, 1, -2, -2, -2, 6, 6, 7, -8, -8, -9, 10]</td>\n",
       "      <td>4</td>\n",
       "      <td>12</td>\n",
       "      <td>10</td>\n",
       "      <td>[{'S': 2, 'ψ': [(1, 1), (6, -8), (7, -9), (10, -8)]}]</td>\n",
       "      <td>[{'DG': 2, 'NG': 2}]</td>\n",
       "      <td>-4</td>\n",
       "    </tr>\n",
       "    <tr>\n",
       "      <th>87</th>\n",
       "      <td>[-3, -1, -2, 3, -3]</td>\n",
       "      <td>[-3, -2, -3, -2, 0]</td>\n",
       "      <td>[3, 3, 3, 6, 7, -8, -9, -9, -9, -10, 11, 12]</td>\n",
       "      <td>19</td>\n",
       "      <td>12</td>\n",
       "      <td>12</td>\n",
       "      <td>[{'S': 18, 'ψ': [(6, 12), (7, 11), (-10, -8), (-9, -9)]}]</td>\n",
       "      <td>[{'DG': 1, 'NG': 3}]</td>\n",
       "      <td>-4</td>\n",
       "    </tr>\n",
       "    <tr>\n",
       "      <th>88</th>\n",
       "      <td>[-3, -1, 2, 0, -3]</td>\n",
       "      <td>[-3, -2, -1, -2, -3]</td>\n",
       "      <td>[3, 4, -8, -9, -9, -9, -10, 14, 15, 15, 15, -21]</td>\n",
       "      <td>12</td>\n",
       "      <td>12</td>\n",
       "      <td>21</td>\n",
       "      <td>[{'S': 18, 'ψ': [(3, -21), (4, 14), (-10, -8), (-9, -9)]}]</td>\n",
       "      <td>[{'DG': 1, 'NG': 3}]</td>\n",
       "      <td>-4</td>\n",
       "    </tr>\n",
       "  </tbody>\n",
       "</table>\n",
       "</div>"
      ],
      "text/plain": [
       "                      l                     k  \\\n",
       "84   [1, -3, -2, 0, -1]  [-3, -1, -3, -1, -3]   \n",
       "85      [1, 0, 2, 0, 2]  [-3, -1, -3, -1, -3]   \n",
       "86  [-2, -3, -2, -3, 2]   [-2, -1, -3, -1, 1]   \n",
       "87  [-3, -1, -2, 3, -3]   [-3, -2, -3, -2, 0]   \n",
       "88   [-3, -1, 2, 0, -3]  [-3, -2, -1, -2, -3]   \n",
       "\n",
       "                                             solution  gcd   n  zmax  \\\n",
       "84          [1, 1, 3, 3, 3, 5, 5, -7, -9, -9, -9, 13]    2  12    13   \n",
       "85  [7, 9, 9, 9, 11, -13, -13, -27, -27, -27, 31, 31]    2  12    31   \n",
       "86        [1, 1, -2, -2, -2, 6, 6, 7, -8, -8, -9, 10]    4  12    10   \n",
       "87       [3, 3, 3, 6, 7, -8, -9, -9, -9, -10, 11, 12]   19  12    12   \n",
       "88   [3, 4, -8, -9, -9, -9, -10, 14, 15, 15, 15, -21]   12  12    21   \n",
       "\n",
       "                                                        hidden  \\\n",
       "84        [{'S': 6, 'ψ': [(1, 5), (1, -7), (3, 3), (13, -7)]}]   \n",
       "85              [{'S': 18, 'ψ': [(7, 11), (9, 9), (-13, 31)]}]   \n",
       "86       [{'S': 2, 'ψ': [(1, 1), (6, -8), (7, -9), (10, -8)]}]   \n",
       "87   [{'S': 18, 'ψ': [(6, 12), (7, 11), (-10, -8), (-9, -9)]}]   \n",
       "88  [{'S': 18, 'ψ': [(3, -21), (4, 14), (-10, -8), (-9, -9)]}]   \n",
       "\n",
       "             Generations  Gmax  \n",
       "84  [{'DG': 2, 'NG': 3}]    -5  \n",
       "85  [{'DG': 2, 'NG': 3}]    -5  \n",
       "86  [{'DG': 2, 'NG': 2}]    -4  \n",
       "87  [{'DG': 1, 'NG': 3}]    -4  \n",
       "88  [{'DG': 1, 'NG': 3}]    -4  "
      ]
     },
     "execution_count": 87,
     "metadata": {},
     "output_type": "execute_result"
    }
   ],
   "source": [
    "hs3[hs3['n']==12][:5]"
   ]
  },
  {
   "cell_type": "code",
   "execution_count": null,
   "id": "c6c41163-11f1-47da-85ff-df521abc0464",
   "metadata": {},
   "outputs": [],
   "source": []
  }
 ],
 "metadata": {
  "kernelspec": {
   "display_name": "Python 3 (ipykernel)",
   "language": "python",
   "name": "python3"
  },
  "language_info": {
   "codemirror_mode": {
    "name": "ipython",
    "version": 3
   },
   "file_extension": ".py",
   "mimetype": "text/x-python",
   "name": "python",
   "nbconvert_exporter": "python",
   "pygments_lexer": "ipython3",
   "version": "3.9.2"
  }
 },
 "nbformat": 4,
 "nbformat_minor": 5
}
