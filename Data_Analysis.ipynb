{
 "cells": [
  {
   "cell_type": "markdown",
   "id": "2cf03b5f-6f5f-4607-b0bc-4603b5217b12",
   "metadata": {},
   "source": [
    "# Data Analysis"
   ]
  },
  {
   "cell_type": "markdown",
   "id": "546374fd-35ad-4edf-bd12-7a93b9ebc168",
   "metadata": {
    "tags": []
   },
   "source": [
    "## Solutions object\n",
    "Obtain the Hidden Sector from: https://zenodo.org/record/5526707#.YzwIANJBzeQ and add the missing the column `Hidden Sector` of the following data scheme\n",
    "\n",
    "![img](./squeme.svg)\n",
    "\n",
    "### Example of entry"
   ]
  },
  {
   "cell_type": "code",
   "execution_count": 114,
   "id": "4c8e4e30-7e06-4eb7-87dc-2ec66a4da634",
   "metadata": {},
   "outputs": [],
   "source": [
    "from IPython.display import JSON \n",
    "import pandas as pd"
   ]
  },
  {
   "cell_type": "code",
   "execution_count": null,
   "id": "5435d361-7da1-474f-be82-a80dd09f6ada",
   "metadata": {},
   "outputs": [
    {
     "data": {
      "application/json": {
       "A": 1
      },
      "text/plain": [
       "<IPython.core.display.JSON object>"
      ]
     },
     "execution_count": 2,
     "metadata": {
      "application/json": {
       "expanded": false,
       "root": "root"
      }
     },
     "output_type": "execute_result"
    }
   ],
   "source": [
    "JSON({'A':1})"
   ]
  },
  {
   "cell_type": "code",
   "execution_count": null,
   "id": "b20efcf5-186a-4e1c-ba06-f261c49fb7af",
   "metadata": {},
   "outputs": [
    {
     "data": {
      "application/json": "",
      "text/plain": [
       "<IPython.core.display.JSON object>"
      ]
     },
     "execution_count": 3,
     "metadata": {
      "application/json": {
       "expanded": false,
       "root": "root"
      }
     },
     "output_type": "execute_result"
    }
   ],
   "source": [
    "JSON(([{'l':[1,3],'k':[2],\n",
    "       'solution':[1,2,-3,4,5],'gcd':1,'n':5,\n",
    "      'hidden':[{'ψ':[(1,5),(2,4),(-3,)],\n",
    "                 'S':6}\n",
    "               ]\n",
    "             }] \n",
    "            )\n",
    "    )\n"
   ]
  },
  {
   "cell_type": "code",
   "execution_count": 1,
   "id": "7f44a6e1-945a-4967-af93-74f4f1f23e50",
   "metadata": {},
   "outputs": [],
   "source": [
    "import pandas as pd"
   ]
  },
  {
   "cell_type": "code",
   "execution_count": 4,
   "id": "1d119ee0-4709-44b6-853e-afd9fdfcdc0b",
   "metadata": {},
   "outputs": [
    {
     "data": {
      "text/html": [
       "<div>\n",
       "<style scoped>\n",
       "    .dataframe tbody tr th:only-of-type {\n",
       "        vertical-align: middle;\n",
       "    }\n",
       "\n",
       "    .dataframe tbody tr th {\n",
       "        vertical-align: top;\n",
       "    }\n",
       "\n",
       "    .dataframe thead th {\n",
       "        text-align: right;\n",
       "    }\n",
       "</style>\n",
       "<table border=\"1\" class=\"dataframe\">\n",
       "  <thead>\n",
       "    <tr style=\"text-align: right;\">\n",
       "      <th></th>\n",
       "      <th>l</th>\n",
       "      <th>k</th>\n",
       "      <th>solution</th>\n",
       "      <th>gcd</th>\n",
       "      <th>n</th>\n",
       "      <th>hidden</th>\n",
       "    </tr>\n",
       "  </thead>\n",
       "  <tbody>\n",
       "    <tr>\n",
       "      <th>0</th>\n",
       "      <td>[1, 3]</td>\n",
       "      <td>[2]</td>\n",
       "      <td>[1, 2, -3, 4, 5]</td>\n",
       "      <td>1</td>\n",
       "      <td>5</td>\n",
       "      <td>[{'ψ': [(1, 5), (2, 4), (-3,)], 'S': 6}]</td>\n",
       "    </tr>\n",
       "  </tbody>\n",
       "</table>\n",
       "</div>"
      ],
      "text/plain": [
       "        l    k          solution  gcd  n  \\\n",
       "0  [1, 3]  [2]  [1, 2, -3, 4, 5]    1  5   \n",
       "\n",
       "                                     hidden  \n",
       "0  [{'ψ': [(1, 5), (2, 4), (-3,)], 'S': 6}]  "
      ]
     },
     "execution_count": 4,
     "metadata": {},
     "output_type": "execute_result"
    }
   ],
   "source": [
    "pd.DataFrame([{'l':[1,3],'k':[2],\n",
    "       'solution':[1,2,-3,4,5],'gcd':1,'n':5,\n",
    "      'hidden':[{'ψ':[(1,5),(2,4),(-3,)],\n",
    "                 'S':6}\n",
    "               ]\n",
    "             }] \n",
    "            )"
   ]
  },
  {
   "cell_type": "markdown",
   "id": "6342f13a-2c97-4245-a2f9-d35fceac4470",
   "metadata": {},
   "source": [
    "### Read the full dataset"
   ]
  },
  {
   "cell_type": "code",
   "execution_count": 115,
   "id": "b1afbaab-3d47-4ade-a3aa-ba92e2f6714e",
   "metadata": {},
   "outputs": [],
   "source": [
    "df=pd.read_json('https://zenodo.org/record/5526707/files/solutions.json?download=1')"
   ]
  },
  {
   "cell_type": "code",
   "execution_count": 2,
   "id": "e0d24fe9-a983-48e6-9aef-fa009f4fcc79",
   "metadata": {},
   "outputs": [],
   "source": [
    "df=pd.read_json('solutions.json.gz')"
   ]
  },
  {
   "cell_type": "code",
   "execution_count": 140,
   "id": "c5d14088-b0c9-47ab-81b3-2f4bb564b041",
   "metadata": {},
   "outputs": [
    {
     "data": {
      "text/plain": [
       "\u001b[0;31mSignature:\u001b[0m \u001b[0msorted\u001b[0m\u001b[0;34m(\u001b[0m\u001b[0miterable\u001b[0m\u001b[0;34m,\u001b[0m \u001b[0;34m/\u001b[0m\u001b[0;34m,\u001b[0m \u001b[0;34m*\u001b[0m\u001b[0;34m,\u001b[0m \u001b[0mkey\u001b[0m\u001b[0;34m=\u001b[0m\u001b[0;32mNone\u001b[0m\u001b[0;34m,\u001b[0m \u001b[0mreverse\u001b[0m\u001b[0;34m=\u001b[0m\u001b[0;32mFalse\u001b[0m\u001b[0;34m)\u001b[0m\u001b[0;34m\u001b[0m\u001b[0;34m\u001b[0m\u001b[0m\n",
       "\u001b[0;31mDocstring:\u001b[0m\n",
       "Return a new list containing all items from the iterable in ascending order.\n",
       "\n",
       "A custom key function can be supplied to customize the sort order, and the\n",
       "reverse flag can be set to request the result in descending order.\n",
       "\u001b[0;31mType:\u001b[0m      builtin_function_or_method\n"
      ]
     },
     "metadata": {},
     "output_type": "display_data"
    }
   ],
   "source": [
    "sorted?"
   ]
  },
  {
   "cell_type": "code",
   "execution_count": 142,
   "id": "0e6ed30d-ae8a-401c-b6be-e7a9b494ed3c",
   "metadata": {},
   "outputs": [
    {
     "data": {
      "text/plain": [
       "[1, -2, 5, -8]"
      ]
     },
     "execution_count": 142,
     "metadata": {},
     "output_type": "execute_result"
    }
   ],
   "source": [
    "sorted([-2,1,-8,5],key=abs)"
   ]
  },
  {
   "cell_type": "code",
   "execution_count": 139,
   "id": "f917b5f6-eac4-42d3-aa4a-350bcea7c6a9",
   "metadata": {},
   "outputs": [
    {
     "data": {
      "text/plain": [
       "0          9\n",
       "1         10\n",
       "2         20\n",
       "3         22\n",
       "4         25\n",
       "          ..\n",
       "390069    32\n",
       "390070    32\n",
       "390071   -32\n",
       "390072    32\n",
       "390073    32\n",
       "Name: solution, Length: 390074, dtype: int64"
      ]
     },
     "execution_count": 139,
     "metadata": {},
     "output_type": "execute_result"
    }
   ],
   "source": [
    "df['solution'].str[-1]"
   ]
  },
  {
   "cell_type": "code",
   "execution_count": 116,
   "id": "cad31295-eb83-40ee-8f72-f92960142df1",
   "metadata": {},
   "outputs": [
    {
     "data": {
      "text/plain": [
       "(16862, 6)"
      ]
     },
     "execution_count": 116,
     "metadata": {},
     "output_type": "execute_result"
    }
   ],
   "source": [
    "df['zmax']=df['solution'].str[-1].abs()\n",
    "df=df.sort_values(['n','zmax']).reset_index(drop=True)\n",
    "\n",
    "#How many solutions with n=12 and z_max <= 20?\n",
    "df[ (df['n']==12) & (df['zmax']<=20) ].shape"
   ]
  },
  {
   "cell_type": "markdown",
   "id": "a042051b-e918-4b22-924d-d51da6574bc2",
   "metadata": {},
   "source": [
    "### Add the new column with the list of hidden sectors"
   ]
  },
  {
   "cell_type": "markdown",
   "id": "a6ae2465-4a66-4876-b41a-ac12fb0e4459",
   "metadata": {},
   "source": [
    "After refactoring..."
   ]
  },
  {
   "cell_type": "code",
   "execution_count": 120,
   "id": "d3836c27-b08a-4ad3-8d1f-2a2e432ed781",
   "metadata": {},
   "outputs": [],
   "source": [
    "import itertools\n",
    "import math as mh\n",
    "\n",
    "def remove_double_intersection_pairs(msvp,l):\n",
    "    for p in msvp.copy():\n",
    "        tmp=msvp.copy()\n",
    "        tmp.remove(p)\n",
    "        fltmp=set([x for sublist in tmp for x in sublist]) \n",
    "        if l.count(p[0])==1 and l.count(p[1])==1 and set(p).issubset(fltmp):\n",
    "            msvp=tmp.copy()\n",
    "    return msvp\n",
    "assert len(remove_double_intersection_pairs([(-10, 11), (-12, 13), (11, -12)],\n",
    "                                             [-10, 11, -12, 13]))==2\n",
    "assert len(remove_double_intersection_pairs([(4,4),(4,-12)],[4,-12]))==1\n",
    "\n",
    "def get_real_massless(l,msvp):\n",
    "    lp=l.copy()\n",
    "    for x,y in msvp:\n",
    "        #print(lp,msvp,x,y)\n",
    "        if lp and x in lp and y in lp:\n",
    "            minxy=min(lp.count(x),lp.count(y))\n",
    "            if x!=y:\n",
    "                [(lp.remove(x),lp.remove(y)) for ii in range(minxy)]\n",
    "            else:\n",
    "                [ lp.remove(x) for ii in range(lp.count(x)) ] # abs(2*x)==s\n",
    "        else: # not lp\n",
    "            break\n",
    "    return lp\n",
    "\n",
    "def get_hidden_sector(l):\n",
    "    '''\n",
    "    Extract massive pairs without massles fermions from l\n",
    "        [1, 3, 4, 6, -7, -8, -13, 14] → [[3,4],[6,-13],[1,6],[-7,14],[1,-8]]\n",
    "        #Remove [1,6] because is already in the pairs list\n",
    "        [1, 3, 4, 6, -7, -8, -13, 14] → [[3,4],[6,-13],[-7,14],[1,-8]]\n",
    "        [1, 6, -7, -8, -13, 14] → [[6,-13],[-7,14],[1,-8]]\n",
    "        [1, -7, -8, 14] → [[-7,14],[1,-8]]\n",
    "        [1, -8] → [[1,-8]]\n",
    "        [] → []    \n",
    "    '''\n",
    "    sltns=[]\n",
    "    ps = list(set(itertools.combinations_with_replacement(l,2)))\n",
    "    Ss = set(abs(sum(x)) for x in ps)\n",
    "    for s in Ss:\n",
    "        msv = [p for p in ps if abs(sum(p))==s]\n",
    "        lmsv=[x for sublist in msv for x in sublist]\n",
    "        massives=set(lmsv)        \n",
    "        massless=set(l).difference(massives)\n",
    "        if not massless:\n",
    "            # ========= Quality check =======================\n",
    "            # Check that all the elements of l can be removed\n",
    "            for INTERSECTIONS in [False,True]:\n",
    "                msvp=msv.copy()\n",
    "                lp=l.copy()\n",
    "                if INTERSECTIONS:\n",
    "                    msvp = remove_double_intersection_pairs(msvp,l)\n",
    "                for msvp in itertools.permutations(msvp.copy()):\n",
    "                    msvp=list(msvp)\n",
    "                    lp=get_real_massless(l,msvp)\n",
    "                    if not lp:\n",
    "                        break #found real massless\n",
    "                if not lp: # double break for INTERSECTIONS\n",
    "                    break # found real massless\n",
    "                    \n",
    "            if lp:\n",
    "                continue # Not a hidden sector\n",
    "            # =================================\n",
    "            sltn={}\n",
    "            sltn['S']=s\n",
    "            #Save storage\n",
    "            sltn['ψ']=msv\n",
    "            sltns.append(sltn)\n",
    "    return sltns\n",
    "\n",
    "assert get_hidden_sector([1,2,-3,4,5])[0].get('S')==6\n",
    "assert get_hidden_sector([1,2,-3,-3,4,5])[0].get('S')==6\n",
    "assert get_hidden_sector([1,1,2,-3,-3,4,5,5])[0].get('S')==6\n",
    "#aψ1ψ1+bψ1ψ2+cψ1,ψ3 → https://www.wolframalpha.com/input?i=Rank%20{{a,b,c},{b,0,0},{c,0,0}}\n",
    "assert get_hidden_sector([1,2,-3,4,5,9,9])==[]\n",
    "get_hidden_sector([1,1,2,-3,4,5])\n",
    "#aψ1ψ2+bψ1ψ3 → https://www.wolframalpha.com/input?i=rank+{{0,a,b},{a,0,0},{b,0,0}}\n",
    "assert get_hidden_sector([1,1,2,-3,4,5])==[]\n",
    "assert get_hidden_sector([1,1,2,-3,-3,4,5])==[]\n",
    "assert get_hidden_sector([1,2,-3,4,5,8])==[]\n",
    "assert get_hidden_sector([1,2,-3,4,5,8,8])==[]\n",
    "assert get_hidden_sector([])==[]\n",
    "assert get_hidden_sector([1, 1, 1, 1, 1, -2, -2, -2, -2, 3])==[]\n",
    "assert get_hidden_sector([1, 2, 2, 2, -3, -5, -6, 7])[0].get('S')==4\n",
    "assert get_hidden_sector( [1, 2, 2, 4, -5, -5, -7, 8] )[0].get('S')==3\n",
    "assert get_hidden_sector([2, -3, -4, 5, -6, 7, 7, -8])[0].get('S')==1 # Ana test\n",
    "assert get_hidden_sector([3, 5, -8, 9, -10, -14, 15])==[] # Dirac triplet [-10,5,15] (s=5)\n",
    "assert get_hidden_sector([3, 5, -8, 9, -10, -14, 15, 20,-30, 35])==[]\n",
    "assert get_hidden_sector([1, 3, 3, 3, -5, -7, -7, 9])[0].get('S')==4 #order of pairs matters\n",
    "assert get_hidden_sector([7, -8, -10, 11, -12, 13, 14, -15])[0].get('S')==1 #double intersection pair\n",
    "assert get_hidden_sector([4,-12])[0].get('S')==8"
   ]
  },
  {
   "cell_type": "code",
   "execution_count": 118,
   "id": "ab4d764d-e70e-4499-9c17-38d58ffda930",
   "metadata": {},
   "outputs": [
    {
     "name": "stdout",
     "output_type": "stream",
     "text": [
      "CPU times: user 1min 45s, sys: 0 ns, total: 1min 45s\n",
      "Wall time: 1min 45s\n"
     ]
    }
   ],
   "source": [
    "%%time\n",
    "df['hidden']=df['solution'].apply(get_hidden_sector)"
   ]
  },
  {
   "cell_type": "code",
   "execution_count": 127,
   "id": "7d444f2c-26a5-4145-b7ab-babe5f9f8c20",
   "metadata": {},
   "outputs": [],
   "source": [
    "hs=df[df['hidden'].apply(len)>0].reset_index(drop=True)#.iloc[0].to_dict()"
   ]
  },
  {
   "cell_type": "code",
   "execution_count": 128,
   "id": "a2905342-2157-4e83-8228-51a2f16d7074",
   "metadata": {},
   "outputs": [
    {
     "data": {
      "text/plain": [
       "(9466, 7)"
      ]
     },
     "execution_count": 128,
     "metadata": {},
     "output_type": "execute_result"
    }
   ],
   "source": [
    "hs.shape #9466 solutions with hidden sector"
   ]
  },
  {
   "cell_type": "code",
   "execution_count": 129,
   "id": "be71bd0e-c1ed-4e29-bdf3-de4c178b2980",
   "metadata": {},
   "outputs": [
    {
     "data": {
      "text/html": [
       "<div>\n",
       "<style scoped>\n",
       "    .dataframe tbody tr th:only-of-type {\n",
       "        vertical-align: middle;\n",
       "    }\n",
       "\n",
       "    .dataframe tbody tr th {\n",
       "        vertical-align: top;\n",
       "    }\n",
       "\n",
       "    .dataframe thead th {\n",
       "        text-align: right;\n",
       "    }\n",
       "</style>\n",
       "<table border=\"1\" class=\"dataframe\">\n",
       "  <thead>\n",
       "    <tr style=\"text-align: right;\">\n",
       "      <th></th>\n",
       "      <th>l</th>\n",
       "      <th>k</th>\n",
       "      <th>solution</th>\n",
       "      <th>gcd</th>\n",
       "      <th>n</th>\n",
       "      <th>zmax</th>\n",
       "      <th>hidden</th>\n",
       "    </tr>\n",
       "  </thead>\n",
       "  <tbody>\n",
       "    <tr>\n",
       "      <th>0</th>\n",
       "      <td>[-1, -5, -3]</td>\n",
       "      <td>[-6, -4, -7]</td>\n",
       "      <td>[1, 1, 2, 3, -4, -4, -5, 6]</td>\n",
       "      <td>1</td>\n",
       "      <td>8</td>\n",
       "      <td>6</td>\n",
       "      <td>[{'S': 2, 'ψ': [(3, -5), (2, -4), (-4, 6), (1, 1)]}]</td>\n",
       "    </tr>\n",
       "  </tbody>\n",
       "</table>\n",
       "</div>"
      ],
      "text/plain": [
       "              l             k                     solution  gcd  n  zmax  \\\n",
       "0  [-1, -5, -3]  [-6, -4, -7]  [1, 1, 2, 3, -4, -4, -5, 6]    1  8     6   \n",
       "\n",
       "                                                 hidden  \n",
       "0  [{'S': 2, 'ψ': [(3, -5), (2, -4), (-4, 6), (1, 1)]}]  "
      ]
     },
     "execution_count": 129,
     "metadata": {},
     "output_type": "execute_result"
    }
   ],
   "source": [
    "hs[:1]"
   ]
  },
  {
   "cell_type": "markdown",
   "id": "b038ff6d-e885-4c4c-83ec-65f179e1a59f",
   "metadata": {},
   "source": [
    "Ana"
   ]
  },
  {
   "cell_type": "code",
   "execution_count": 181,
   "id": "0595cd77-87e2-4a6a-af05-fe5d10884caa",
   "metadata": {},
   "outputs": [],
   "source": [
    "def get_hidden_sector(l):\n",
    "\n",
    "    com = list(itertools.combinations_with_replacement(l, 2))\n",
    "    suma = set([abs(sum(i)) for i in com])\n",
    "\n",
    "    final = []\n",
    "\n",
    "    for s in suma:\n",
    "        cond = [i for i in com if abs(sum(i)) == s]\n",
    "        aplanar = [item for sublist in cond for item in sublist]\n",
    "        resta = set(l).difference(set(aplanar))\n",
    "\n",
    "        if not resta:\n",
    "            l_ = l.copy()\n",
    "            cond_ = cond\n",
    "            N = len(l)\n",
    "\n",
    "            combs = []\n",
    "\n",
    "            equal = [par for par in cond_ if par[0] == par[1]]\n",
    "            ind_eq = [cond.index(eq) for eq in equal]\n",
    "            \n",
    "            for ind in ind_eq:\n",
    "                cond_.pop(ind)\n",
    "\n",
    "            for par in cond_:\n",
    "                try:\n",
    "                    for val in par:\n",
    "                        l_[l_.index(val)] = 0\n",
    "                    N = N - 2\n",
    "                    combs.append(par)\n",
    "                except:\n",
    "                    pass\n",
    "                    # print(\"Discharge pair\", par)\n",
    "            \n",
    "            for par in equal:\n",
    "                ind = []\n",
    "                for val in par:\n",
    "                    try:\n",
    "                        ind.append(l_.index(val))\n",
    "                    except:\n",
    "                        pass\n",
    "                for ind_ in ind:\n",
    "                    l_[ind_] = 0\n",
    "\n",
    "                if len(set(ind)) == 1:\n",
    "                    N = N - 1\n",
    "                elif len(set(ind)) != 1:\n",
    "                    N = N - len(set(ind))\n",
    "\n",
    "                combs.append(par)\n",
    "\n",
    "            if N == 0:\n",
    "                final.append({\"S\": s, \"ψ\": combs})\n",
    "\n",
    "            del l_, cond_\n",
    "\n",
    "    return final\n",
    "\n",
    "assert get_hidden_sector([1,2,-3,4,5])[0].get('S')==6\n",
    "assert get_hidden_sector([1,2,-3,-3,4,5])[0].get('S')==6\n",
    "assert get_hidden_sector([1,1,2,-3,-3,4,5,5])[0].get('S')==6\n",
    "#aψ1ψ1+bψ1ψ2+cψ1,ψ3 → https://www.wolframalpha.com/input?i=Rank%20{{a,b,c},{b,0,0},{c,0,0}}\n",
    "assert get_hidden_sector([1,2,-3,4,5,9,9])==[]\n",
    "get_hidden_sector([1,1,2,-3,4,5])\n",
    "#aψ1ψ2+bψ1ψ3 → https://www.wolframalpha.com/input?i=rank+{{0,a,b},{a,0,0},{b,0,0}}\n",
    "assert get_hidden_sector([1,1,2,-3,4,5])==[]\n",
    "assert get_hidden_sector([1,1,2,-3,-3,4,5])==[]\n",
    "assert get_hidden_sector([1,2,-3,4,5,8])==[]\n",
    "assert get_hidden_sector([1,2,-3,4,5,8,8])==[]\n",
    "assert get_hidden_sector([])==[]\n",
    "assert get_hidden_sector([1, 1, 1, 1, 1, -2, -2, -2, -2, 3])==[]\n",
    "assert get_hidden_sector([1, 2, 2, 2, -3, -5, -6, 7])[0].get('S')==4\n",
    "assert get_hidden_sector( [1, 2, 2, 4, -5, -5, -7, 8] )[0].get('S')==3\n",
    "# Ana test\n",
    "assert get_hidden_sector([2, -3, -4, 5, -6, 7, 7, -8])[0].get('S')==1\n",
    "assert get_hidden_sector([3, 5, -8, 9, -10, -14, 15])==[] # Dirac triplet [-10,5,15] (s=5)\n",
    "assert get_hidden_sector([3, 5, -8, 9, -10, -14, 15, 20,-30, 35])==[]\n",
    "assert get_hidden_sector([1, 3, 3, 3, -5, -7, -7, 9])[0].get('S')==4 #order of pairs matters\n",
    "assert get_hidden_sector([7, -8, -10, 11, -12, 13, 14, -15])[0].get('S')==1 #double intersection pair\n",
    "assert get_hidden_sector([4,-12])[0].get('S')==8"
   ]
  },
  {
   "cell_type": "markdown",
   "id": "6929a6e0-bd0f-4d17-a71d-8eac027e8b68",
   "metadata": {},
   "source": [
    "Valentina"
   ]
  },
  {
   "cell_type": "code",
   "execution_count": 222,
   "id": "7a82622f-4ae2-4c72-8ff9-7aac65f3f527",
   "metadata": {},
   "outputs": [],
   "source": [
    "import pandas as pd\n",
    "import os\n",
    "import numpy as np\n",
    "import itertools\n",
    "import collections\n",
    "\n",
    "\n",
    "\n",
    "def get_hidden_sector(l):\n",
    "    \n",
    "    l_new = np.unique(l,return_counts = True)\n",
    "    com = list(itertools.combinations_with_replacement(l,2))\n",
    "    suma = set([abs(sum(i)) for i in com])\n",
    "    \n",
    "    final = []\n",
    "\n",
    "#------------------------------------------------------------------------------------------------------------------\n",
    "\n",
    "    for s in suma:\n",
    "        \n",
    "        cond = [i for i in com if abs(sum(i))==s]\n",
    "        \n",
    "        aplanar = [item for sublist in cond for item in sublist]\n",
    "        resta = set(l).difference(set(aplanar))\n",
    "        \n",
    "        if not resta:\n",
    "            if len(l)%2 == 0:\n",
    "                m = int(len(l)/2)\n",
    "                a = np.array(list(itertools.combinations(cond,m)))\n",
    "                com_cond = [np.sort(i.flatten()) for i in a]\n",
    "\n",
    "                if len(com_cond) != 0:\n",
    "                    result = np.unique(a[(com_cond == np.sort(np.array(l))).all(axis =1)], axis = 0).tolist()\n",
    "                    if not result:\n",
    "                        final.append([])\n",
    "                    else:\n",
    "                        final.append({'S': s, 'ψ':[tuple(x) for x in result[0]]})\n",
    "                else:\n",
    "                    continue\n",
    "\n",
    "            else:\n",
    "                m = int(len(l)/2) + 1\n",
    "                a = np.array(list(itertools.combinations(cond,m)))\n",
    "                aux = np.unique(np.array(cond)[np.array([len(np.unique(i)) == 1 for i in cond])])\n",
    "                sself = [item for item, count in collections.Counter(l).items() if count == 1 and item in aux]\n",
    "\n",
    "                com_cond = [np.unique(i,return_counts=True) for i in a]\n",
    "\n",
    "                i = 0\n",
    "                index = []\n",
    "\n",
    "                for l2,l2_cuentas in com_cond:\n",
    "                    if len(l2_cuentas) == len(l_new[1]):\n",
    "                        if (np.isin(l_new[0][~(l_new[1] == l2_cuentas)],sself)).all():\n",
    "                            if (l2_cuentas[~(l_new[1] == l2_cuentas)] == l_new[1][~(l_new[1] == l2_cuentas)]+1).all() and np.array([len(np.unique(j))==1 for j in a[i]]).any():\n",
    "                                index.append(i)\n",
    "\n",
    "                    i+=1\n",
    "\n",
    "                if not index:\n",
    "                    final.append([]) \n",
    "                else: \n",
    "                    result = np.unique(a[np.array(index)],axis=0).tolist()\n",
    "                    final.append({'S': s, 'ψ':[tuple(x) for x in result[0]]})\n",
    "                \n",
    "    return [x for x in final if x]\n",
    "\n",
    "assert get_hidden_sector([1,2,-3,4,5])[0].get('S')==6\n",
    "assert get_hidden_sector([1,2,-3,-3,4,5])[0].get('S')==6\n",
    "assert get_hidden_sector([1,1,2,-3,-3,4,5,5])[0].get('S')==6\n",
    "#aψ1ψ1+bψ1ψ2+cψ1,ψ3 → https://www.wolframalpha.com/input?i=Rank%20{{a,b,c},{b,0,0},{c,0,0}}\n",
    "assert get_hidden_sector([1,2,-3,4,5,9,9])==[]\n",
    "get_hidden_sector([1,1,2,-3,4,5])\n",
    "#aψ1ψ2+bψ1ψ3 → https://www.wolframalpha.com/input?i=rank+{{0,a,b},{a,0,0},{b,0,0}}\n",
    "assert get_hidden_sector([1,1,2,-3,4,5])==[]\n",
    "assert get_hidden_sector([1,1,2,-3,-3,4,5])==[]\n",
    "assert get_hidden_sector([1,2,-3,4,5,8])==[]\n",
    "assert get_hidden_sector([1,2,-3,4,5,8,8])==[]\n",
    "assert get_hidden_sector([])==[]\n",
    "assert get_hidden_sector([1, 1, 1, 1, 1, -2, -2, -2, -2, 3])==[]\n",
    "assert get_hidden_sector([1, 2, 2, 2, -3, -5, -6, 7])[0].get('S')==4\n",
    "assert get_hidden_sector( [1, 2, 2, 4, -5, -5, -7, 8] )[0].get('S')==3\n",
    "# Ana test\n",
    "assert get_hidden_sector([2, -3, -4, 5, -6, 7, 7, -8])[0].get('S')==1\n",
    "assert get_hidden_sector([3, 5, -8, 9, -10, -14, 15])==[] # Dirac triplet [-10,5,15] (s=5)\n",
    "assert get_hidden_sector([3, 5, -8, 9, -10, -14, 15, 20,-30, 35])==[]\n",
    "assert get_hidden_sector([1, 3, 3, 3, -5, -7, -7, 9])[0].get('S')==4 #order of pairs matters\n",
    "assert get_hidden_sector([7, -8, -10, 11, -12, 13, 14, -15])[0].get('S')==1 #double intersection pair\n",
    "assert get_hidden_sector([4,-12])[0].get('S')==8"
   ]
  },
  {
   "cell_type": "markdown",
   "id": "09f1d39f-0082-4999-a9d5-e8a946bd2df1",
   "metadata": {},
   "source": [
    "Nicole"
   ]
  },
  {
   "cell_type": "code",
   "execution_count": 236,
   "id": "effc703c-8935-45ba-a419-65d570034bbb",
   "metadata": {},
   "outputs": [
    {
     "name": "stderr",
     "output_type": "stream",
     "text": [
      "/tmp/ipykernel_352761/402349848.py:37: DeprecationWarning: elementwise comparison failed; this will raise an error in the future.\n",
      "  if pairs.shape[0] == q.shape[0] and np.sort(pairs.flatten()) == np.sort(q):\n"
     ]
    }
   ],
   "source": [
    "import numpy as np\n",
    "import pandas as pd\n",
    "\n",
    "\n",
    "# definición de función\n",
    "\n",
    "\n",
    "def get_hidden_sector(qin):\n",
    "    \"\"\"\n",
    "    Obtiene la masa y los pares que generan masa a las\n",
    "    soluciones quirales del grupo de simetria U1\n",
    "    INPUT: q1 - array\n",
    "    OUTPUT: dict {'S': int, 'Psi': array}\n",
    "    \"\"\"\n",
    "    q = np.array(qin)\n",
    "    M = np.abs(np.add.outer(q, q))\n",
    "    sumas = np.unique(M)\n",
    "    s_ = []\n",
    "    for suma in sumas:\n",
    "        ub_s = np.asarray(M == suma).nonzero()\n",
    "\n",
    "        # garantiza al menos una pareja con ese entero\n",
    "        if np.unique(ub_s[0]).shape[0] == M.shape[0]:\n",
    "            s_.append(suma)\n",
    "\n",
    "    # recorre todas las sumas posibles\n",
    "    if len(s_) != 0:\n",
    "        # armar pares\n",
    "        for s in s_:\n",
    "            tmp_M = np.asarray(np.triu(M) == s).nonzero()\n",
    "            pairs = np.array(\n",
    "                [[q[tmp_M[0][i]], q[tmp_M[1][i]]]\n",
    "                    for i in range(0, tmp_M[0].shape[0])]\n",
    "            )\n",
    "\n",
    "            # agregar condiciones sobre los pares\n",
    "            if pairs.shape[0] == q.shape[0] and np.sort(pairs.flatten()) == np.sort(q):\n",
    "                hidden = {\"S\": s, \"ψ\": pairs}\n",
    "                pass\n",
    "            else:\n",
    "                # casos no obvios\n",
    "                # n_pairs = round(q.shape[0] / 2, 0)\n",
    "                N = q.shape[0]\n",
    "                q_ = q.copy()\n",
    "\n",
    "                eq_pairs = [p for p in pairs if p[0] == p[1]]\n",
    "                dif_pairs = [p for p in pairs if p[0] != p[1]]\n",
    "\n",
    "                true_pairs = []\n",
    "\n",
    "                for pair in dif_pairs:\n",
    "                    # para pares que tomen los elementos\n",
    "                    if (\n",
    "                        np.where(q_ == pair[0])[0].shape[0] != 0\n",
    "                        and np.where(q_ == pair[1])[0].shape[0] != 0\n",
    "                    ):\n",
    "                        q_[np.where(q_ == pair[0])[0][0]] = 0\n",
    "                        q_[np.where(q_ == pair[1])[0][0]] = 0\n",
    "                        true_pairs.append(pair)\n",
    "                        N -= 2\n",
    "\n",
    "                for pair in eq_pairs:\n",
    "                    # si está una vez\n",
    "                    if np.where(q_ == pair[0])[0].shape[0] == 1:\n",
    "                        q_[np.where(q_ == pair[0])[0][0]] = 0\n",
    "                        true_pairs.append(pair)\n",
    "                        N -= 1\n",
    "                    elif np.where(q_ == pair[0])[0].shape[0] > 1:\n",
    "                        q_[np.where(q_ == pair[0])[0][0]] = 0\n",
    "                        q_[np.where(q_ == pair[1])[0][0]] = 0\n",
    "                        true_pairs.append(pair)\n",
    "                        N -= 2\n",
    "\n",
    "                if N == 0:\n",
    "                    hidden = {\"S\": s, \"ψ\": true_pairs}\n",
    "                else:\n",
    "                    hidden = []\n",
    "    else:\n",
    "        hidden = []\n",
    "\n",
    "    return hidden\n",
    "\n",
    "\n",
    "# pruebas del hidden sector\n",
    "assert get_hidden_sector([1, 2, -3, 4, 5]).get(\"S\") == 6\n",
    "assert get_hidden_sector([1, 2, -3, -3, 4, 5]).get(\"S\") == 6\n",
    "assert get_hidden_sector([1, 1, 2, -3, -3, 4, 5, 5]).get(\"S\") == 6\n",
    "assert get_hidden_sector([1, 2, -3, 4, 5, 9, 9]) == []\n",
    "assert get_hidden_sector([1, 1, 2, -3, 4, 5]) == []\n",
    "assert get_hidden_sector([1, 1, 2, -3, 4, 5]) == []\n",
    "assert get_hidden_sector([1, 1, 2, -3, -3, 4, 5]) == []\n",
    "assert get_hidden_sector([1, 2, -3, 4, 5, 8]) == []\n",
    "assert get_hidden_sector([1, 2, -3, 4, 5, 8, 8]) == []\n",
    "assert get_hidden_sector([]) == []\n",
    "assert get_hidden_sector([1, 1, 1, 1, 1, -2, -2, -2, -2, 3]) == []\n",
    "assert get_hidden_sector([1, 2, 2, 2, -3, -5, -6, 7]).get(\"S\") == 4\n",
    "assert get_hidden_sector([1, 2, 2, 4, -5, -5, -7, 8]).get(\"S\") == 3\n",
    "# Ana test\n",
    "assert get_hidden_sector([2, -3, -4, 5, -6, 7, 7, -8]).get(\"S\") == 1\n",
    "assert (\n",
    "    get_hidden_sector([3, 5, -8, 9, -10, -14, 15]) == []\n",
    ")  # Dirac triplet [-10,5,15] (s=5)\n",
    "assert get_hidden_sector([3, 5, -8, 9, -10, -14, 15, 20, -30, 35]) == []"
   ]
  },
  {
   "cell_type": "code",
   "execution_count": 225,
   "id": "b5ad001c",
   "metadata": {},
   "outputs": [
    {
     "name": "stderr",
     "output_type": "stream",
     "text": [
      "/tmp/ipykernel_352761/402349848.py:37: DeprecationWarning: elementwise comparison failed; this will raise an error in the future.\n",
      "  if pairs.shape[0] == q.shape[0] and np.sort(pairs.flatten()) == np.sort(q):\n"
     ]
    },
    {
     "name": "stdout",
     "output_type": "stream",
     "text": [
      "CPU times: user 1min 45s, sys: 200 ms, total: 1min 45s\n",
      "Wall time: 1min 45s\n"
     ]
    }
   ],
   "source": [
    "%%time\n",
    "df['hidden']=df['solution'].apply(get_hidden_sector)"
   ]
  },
  {
   "cell_type": "code",
   "execution_count": 226,
   "id": "465bdaeb",
   "metadata": {},
   "outputs": [
    {
     "data": {
      "text/plain": [
       "(9029, 7)"
      ]
     },
     "execution_count": 226,
     "metadata": {},
     "output_type": "execute_result"
    }
   ],
   "source": [
    "hs2=df[df['hidden'].apply(len)>0].reset_index(drop=True)#.iloc[0].to_dict()\n",
    "hs2.shape"
   ]
  },
  {
   "cell_type": "code",
   "execution_count": 227,
   "id": "3ce2666a-1e5e-43d6-a880-ac6c5daa5c4b",
   "metadata": {},
   "outputs": [
    {
     "data": {
      "text/plain": [
       "(9466, 8)"
      ]
     },
     "execution_count": 227,
     "metadata": {},
     "output_type": "execute_result"
    }
   ],
   "source": [
    "hs.shape"
   ]
  },
  {
   "cell_type": "code",
   "execution_count": 243,
   "id": "aaf7948a-8cd7-4cef-8286-a78a60ee8d17",
   "metadata": {},
   "outputs": [],
   "source": [
    "hs2['hidden']=hs2['hidden'].apply(lambda d: [d])"
   ]
  },
  {
   "cell_type": "code",
   "execution_count": 249,
   "id": "3f33c6fd-264e-461c-ba21-fae4618c46cf",
   "metadata": {},
   "outputs": [
    {
     "data": {
      "text/plain": [
       "[{'S': 7, 'ψ': [(3, 4), (6, -13), (1, 6), (-7, 14), (1, -8)]}]"
      ]
     },
     "execution_count": 249,
     "metadata": {},
     "output_type": "execute_result"
    }
   ],
   "source": [
    "get_hidden_sector([1, 3, 4, 6, -7, -8, -13, 14])"
   ]
  },
  {
   "cell_type": "code",
   "execution_count": 247,
   "id": "4ab844e8-97a5-479b-a639-19e2df89f2c0",
   "metadata": {},
   "outputs": [
    {
     "data": {
      "text/plain": [
       "[]"
      ]
     },
     "execution_count": 247,
     "metadata": {},
     "output_type": "execute_result"
    }
   ],
   "source": [
    "get_hidden_sector([1, 3, 4, 6, -7, -8, -13, 14]) #7 [3,4],[6,-13],[1,6],[-7,14],[1,-8]"
   ]
  },
  {
   "cell_type": "code",
   "execution_count": 237,
   "id": "66b1ea71-8bab-4716-b120-3ae825b8da75",
   "metadata": {},
   "outputs": [
    {
     "name": "stderr",
     "output_type": "stream",
     "text": [
      "/tmp/ipykernel_352761/402349848.py:37: DeprecationWarning: elementwise comparison failed; this will raise an error in the future.\n",
      "  if pairs.shape[0] == q.shape[0] and np.sort(pairs.flatten()) == np.sort(q):\n"
     ]
    },
    {
     "data": {
      "text/plain": [
       "{'S': 2,\n",
       " 'ψ': [array([ 2, -4]), array([ 3, -5]), array([-4,  6]), array([1, 1])]}"
      ]
     },
     "execution_count": 237,
     "metadata": {},
     "output_type": "execute_result"
    }
   ],
   "source": [
    "get_hidden_sector([1, 1, 2, 3, -4, -4, -5, 6])"
   ]
  },
  {
   "cell_type": "code",
   "execution_count": 244,
   "id": "2e257404",
   "metadata": {},
   "outputs": [],
   "source": [
    "hs['ss']  = hs['solution'].apply(str)\n",
    "hs2['ss'] = hs2['solution'].apply(str)"
   ]
  },
  {
   "cell_type": "code",
   "execution_count": 192,
   "id": "1e3e6a84",
   "metadata": {},
   "outputs": [],
   "source": [
    "pd.set_option('display.max_colwidth',200)"
   ]
  },
  {
   "cell_type": "code",
   "execution_count": 232,
   "id": "446917a5",
   "metadata": {},
   "outputs": [],
   "source": [
    "tmp=hs2[['ss','hidden']].merge(hs[['ss','hidden']],on='ss',how='left',suffixes=('_1','_2'))"
   ]
  },
  {
   "cell_type": "code",
   "execution_count": 233,
   "id": "8a1eb85b-3865-45d9-ad73-be42aab7423b",
   "metadata": {},
   "outputs": [
    {
     "data": {
      "text/plain": [
       "(0, 3)"
      ]
     },
     "execution_count": 233,
     "metadata": {},
     "output_type": "execute_result"
    }
   ],
   "source": [
    "tmp[tmp['hidden_2'].apply(lambda x: False if isinstance(x,list) else True )].shape #167"
   ]
  },
  {
   "cell_type": "code",
   "execution_count": 189,
   "id": "e576626c",
   "metadata": {},
   "outputs": [
    {
     "name": "stdout",
     "output_type": "stream",
     "text": [
      "\n",
      "\n"
     ]
    }
   ],
   "source": [
    "print( tmp[tmp['hidden_2'].apply(lambda x: False if isinstance(x,list) else True )][:50][[\"ss\",'hidden_1']\n",
    "].to_json(orient='records',lines=True).replace('\\\\u03c8','psi').replace('_1','').replace('ss','solution'))"
   ]
  },
  {
   "cell_type": "code",
   "execution_count": 245,
   "id": "a5181e06-cbd9-48c1-b4d2-000cfe1b63b6",
   "metadata": {},
   "outputs": [],
   "source": [
    "tmp=hs[['ss','hidden']].merge(hs2[['ss','hidden']],on='ss',how='left',suffixes=('_1','_2'))"
   ]
  },
  {
   "cell_type": "code",
   "execution_count": 246,
   "id": "75b956e0-dd32-4265-91e1-8049c4e377f4",
   "metadata": {},
   "outputs": [
    {
     "name": "stdout",
     "output_type": "stream",
     "text": [
      "{\"solution\":\"[1, 3, 4, 6, -7, -8, -13, 14]\",\"hidden\":[{\"S\":7,\"psi\":[[3,4],[6,-13],[1,6],[-7,14],[1,-8]]}]}\n",
      "{\"solution\":\"[1, -4, -5, 7, -10, 13, 14, -16]\",\"hidden\":[{\"S\":9,\"psi\":[[-4,-5],[-4,13],[1,-10],[-5,14],[7,-16]]}]}\n",
      "{\"solution\":\"[2, 4, 5, 7, -8, -13, -14, 17]\",\"hidden\":[{\"S\":9,\"psi\":[[5,-14],[4,-13],[4,5],[2,7],[-8,17]]}]}\n",
      "{\"solution\":\"[2, -5, -7, 9, -13, 16, 18, -20]\",\"hidden\":[{\"S\":11,\"psi\":[[2,-13],[9,-20],[-5,16],[2,9],[-7,18]]}]}\n",
      "{\"solution\":\"[3, 4, 7, 8, -10, -15, -18, 21]\",\"hidden\":[{\"S\":11,\"psi\":[[-10,21],[7,-18],[4,7],[3,8],[4,-15]]}]}\n",
      "{\"solution\":\"[1, -3, -9, 10, -12, 14, 20, -21]\",\"hidden\":[{\"S\":11,\"psi\":[[10,-21],[1,-12],[-9,20],[-3,14],[1,10]]}]}\n",
      "{\"solution\":\"[4, 5, 6, 7, -10, -16, -17, 21]\",\"hidden\":[{\"S\":11,\"psi\":[[5,6],[-10,21],[6,-17],[5,-16],[4,7]]}]}\n",
      "{\"solution\":\"[1, -7, -7, 11, -13, 19, 19, -23]\",\"hidden\":[{\"S\":12,\"psi\":[[11,-23],[1,-13],[1,11],[-7,19]]}]}\n",
      "{\"solution\":\"[5, 5, 7, 7, -11, -17, -19, 23]\",\"hidden\":[{\"S\":12,\"psi\":[[5,7],[-11,23],[7,-19],[5,-17]]}]}\n",
      "{\"solution\":\"[1, -3, -10, 11, -14, 16, 23, -24]\",\"hidden\":[{\"S\":13,\"psi\":[[-3,-10],[11,-24],[-10,23],[1,-14],[-3,16]]}]}\n",
      "{\"solution\":\"[5, 5, 7, 11, -15, -17, -21, 25]\",\"hidden\":[{\"S\":10,\"psi\":[[7,-17],[5,-15],[-15,25],[11,-21],[5,5]]}]}\n",
      "{\"solution\":\"[5, 6, 7, 8, -12, -18, -21, 25]\",\"hidden\":[{\"S\":13,\"psi\":[[8,-21],[-12,25],[5,-18],[6,7],[5,8]]}]}\n",
      "{\"solution\":\"[2, 3, 10, 11, -12, -16, -23, 25]\",\"hidden\":[{\"S\":13,\"psi\":[[3,10],[-12,25],[2,11],[3,-16],[10,-23]]}]}\n",
      "{\"solution\":\"[5, 7, 7, 9, -13, -19, -23, 27]\",\"hidden\":[{\"S\":14,\"psi\":[[7,7],[9,-23],[5,9],[5,-19],[-13,27]]}]}\n",
      "{\"solution\":\"[1, 5, 10, -13, 14, -20, -25, 28]\",\"hidden\":[{\"S\":15,\"psi\":[[5,10],[10,-25],[-13,28],[1,14],[5,-20]]}]}\n",
      "{\"solution\":\"[4, 4, 11, 11, -14, -19, -26, 29]\",\"hidden\":[{\"S\":15,\"psi\":[[4,-19],[11,-26],[4,11],[-14,29]]}]}\n",
      "{\"solution\":\"[5, 7, 8, 10, -14, -20, -25, 29]\",\"hidden\":[{\"S\":15,\"psi\":[[5,10],[10,-25],[-14,29],[5,-20],[7,8]]}]}\n",
      "{\"solution\":\"[1, -5, -13, 15, -17, 21, 29, -31]\",\"hidden\":[{\"S\":16,\"psi\":[[15,-31],[-13,29],[-5,21],[1,15],[1,-17]]}]}\n",
      "{\"solution\":\"[5, 7, 9, 11, -15, -21, -27, 31]\",\"hidden\":[{\"S\":16,\"psi\":[[5,-21],[-15,31],[7,9],[11,-27],[5,11]]}]}\n",
      "{\"solution\":\"[2, -4, -14, 15, -19, 21, 31, -32]\",\"hidden\":[{\"S\":17,\"psi\":[[2,-19],[-14,31],[15,-32],[-4,21],[2,15]]}]}\n",
      "{\"solution\":\"[3, 7, 10, 14, -15, -24, -27, 32]\",\"hidden\":[{\"S\":17,\"psi\":[[-15,32],[7,10],[7,-24],[3,14],[10,-27]]}]}\n",
      "{\"solution\":\"[1, 1, 1, 2, 2, 2, 2, -4, -4, -5, -5, 7]\",\"hidden\":[{\"S\":3,\"psi\":[[1,-4],[1,2],[-4,7],[2,-5]]}]}\n",
      "{\"solution\":\"[2, 2, -3, -3, -3, -3, 4, 4, -5, 6, 6, -7]\",\"hidden\":[{\"S\":1,\"psi\":[[-5,6],[6,-7],[4,-5],[-3,4],[2,-3]]}]}\n",
      "{\"solution\":\"[1, 1, -3, -3, -3, -3, -4, 5, 5, 6, 6, -8]\",\"hidden\":[{\"S\":2,\"psi\":[[1,-3],[-3,5],[6,-8],[-4,6],[1,1]]}]}\n",
      "{\"solution\":\"[1, 1, 1, -3, -3, 4, 5, 5, -6, -6, -7, 8]\",\"hidden\":[{\"S\":2,\"psi\":[[4,-6],[1,-3],[-3,5],[5,-7],[-6,8],[1,1]]}]}\n",
      "{\"solution\":\"[2, -3, -3, 4, 4, -5, -5, 6, -7, 8, 8, -9]\",\"hidden\":[{\"S\":1,\"psi\":[[8,-9],[-5,6],[6,-7],[-7,8],[4,-5],[-3,4],[2,-3]]}]}\n",
      "{\"solution\":\"[1, -2, -3, 4, -5, 6, 7, 7, -8, -8, -8, 9]\",\"hidden\":[{\"S\":1,\"psi\":[[-5,6],[7,-8],[-8,9],[4,-5],[-3,4],[1,-2]]}]}\n",
      "{\"solution\":\"[1, 1, 2, 2, 2, 3, 3, -5, -5, -6, -7, 9]\",\"hidden\":[{\"S\":4,\"psi\":[[-5,9],[2,2],[1,3],[3,-7],[1,-5],[2,-6]]}]}\n",
      "{\"solution\":\"[1, 1, -2, -3, -3, 5, -6, -6, 7, 8, 8, -10]\",\"hidden\":[{\"S\":5,\"psi\":[[1,-6],[-2,7],[-3,8],[-2,-3],[5,-10]]}]}\n",
      "{\"solution\":\"[1, 2, 2, 3, -5, -5, -5, 6, -7, 9, 9, -10]\",\"hidden\":[{\"S\":4,\"psi\":[[-5,9],[2,2],[6,-10],[1,3],[3,-7],[1,-5]]}]}\n",
      "{\"solution\":\"[1, 1, -3, 4, 5, 5, 5, -6, -7, -7, -8, 10]\",\"hidden\":[{\"S\":2,\"psi\":[[4,-6],[1,-3],[-8,10],[-3,5],[5,-7],[1,1]]}]}\n",
      "{\"solution\":\"[1, 1, -2, -2, 3, -4, -4, -5, 6, 8, 8, -10]\",\"hidden\":[{\"S\":4,\"psi\":[[6,-10],[1,3],[-2,-2],[-2,6],[1,-5],[-4,8]]}]}\n",
      "{\"solution\":\"[1, 1, -2, 3, 3, -5, 6, 6, -7, -7, -10, 11]\",\"hidden\":[{\"S\":4,\"psi\":[[6,-10],[1,3],[-7,11],[-2,-2],[3,-7],[-2,6],[1,-5]]}]}\n",
      "{\"solution\":\"[1, 1, 2, 2, 3, 4, 4, -6, -6, -7, -9, 11]\",\"hidden\":[{\"S\":5,\"psi\":[[1,-6],[2,-7],[-6,11],[1,4],[2,3],[4,-9]]}]}\n",
      "{\"solution\":\"[4, -5, -6, 7, 7, -8, -8, -8, 9, 9, 10, -11]\",\"hidden\":[{\"S\":1,\"psi\":[[-6,7],[7,-8],[-8,9],[4,-5],[10,-11]]}]}\n",
      "{\"solution\":\"[1, 1, 1, 2, 2, 2, -4, -5, 7, -8, -10, 11]\",\"hidden\":[{\"S\":3,\"psi\":[[-4,7],[2,-5],[1,-4],[1,2],[7,-10],[-8,11]]}]}\n",
      "{\"solution\":\"[1, 1, -4, -4, -4, -4, -5, 7, 7, 8, 8, -11]\",\"hidden\":[{\"S\":3,\"psi\":[[-4,7],[-5,8],[1,-4],[8,-11]]}]}\n",
      "{\"solution\":\"[2, 2, 2, 2, -5, -6, -6, -6, 7, 9, 10, -11]\",\"hidden\":[{\"S\":4,\"psi\":[[-5,9],[-6,10],[2,2],[7,-11],[2,-6]]}]}\n",
      "{\"solution\":\"[1, -2, 3, 3, 3, 3, -4, 5, -6, -7, -11, 12]\",\"hidden\":[{\"S\":6,\"psi\":[[5,-11],[3,3],[1,-7],[-6,12],[1,5],[-2,-4]]}]}\n",
      "{\"solution\":\"[1, 2, 2, 3, 3, 4, 4, -7, -7, -8, -9, 12]\",\"hidden\":[{\"S\":5,\"psi\":[[2,-7],[1,4],[2,3],[-7,12],[3,-8],[4,-9]]}]}\n",
      "{\"solution\":\"[1, 2, 3, 4, -6, -6, -6, 7, -9, 11, 11, -12]\",\"hidden\":[{\"S\":5,\"psi\":[[1,-6],[7,-12],[-6,11],[1,4],[2,3],[4,-9]]}]}\n",
      "{\"solution\":\"[1, 2, -4, -4, -5, -5, -6, 7, 8, 9, 9, -12]\",\"hidden\":[{\"S\":3,\"psi\":[[-4,7],[-6,9],[-5,8],[2,-5],[1,-4],[1,2],[9,-12]]}]}\n",
      "{\"solution\":\"[3, 4, -5, -6, -6, -6, -7, 8, 8, 9, 10, -12]\",\"hidden\":[{\"S\":2,\"psi\":[[3,-5],[4,-6],[10,-12],[-6,8],[-7,9]]}]}\n",
      "{\"solution\":\"[1, 1, 2, -3, -4, 5, 7, 7, -9, -9, -10, 12]\",\"hidden\":[{\"S\":2,\"psi\":[[1,-3],[2,-4],[-10,12],[-3,5],[7,-9],[1,1]]}]}\n",
      "{\"solution\":\"[1, 3, -4, -5, -5, -5, -7, 8, 8, 9, 9, -12]\",\"hidden\":[{\"S\":4,\"psi\":[[8,-12],[-5,9],[1,3],[3,-7],[1,-5],[-4,8]]}]}\n",
      "{\"solution\":\"[3, 3, -4, -4, -6, -6, 7, 7, -8, 9, 11, -12]\",\"hidden\":[{\"S\":1,\"psi\":[[-6,7],[7,-8],[-8,9],[3,-4],[11,-12]]},{\"S\":3,\"psi\":[[-4,7],[3,-6],[-6,9],[9,-12],[-8,11]]}]}\n",
      "{\"solution\":\"[1, 1, 2, 2, 4, 5, 5, -7, -7, -8, -11, 13]\",\"hidden\":[{\"S\":6,\"psi\":[[5,-11],[2,-8],[1,-7],[2,4],[1,5],[-7,13]]}]}\n",
      "{\"solution\":\"[1, 2, -3, -3, -4, 6, -8, -9, 10, 10, 11, -13]\",\"hidden\":[{\"S\":7,\"psi\":[[-4,11],[6,-13],[1,6],[-3,-4],[1,-8],[2,-9],[-3,10]]}]}\n",
      "{\"solution\":\"[1, -2, 4, -6, -6, -6, 7, 8, -9, 11, 11, -13]\",\"hidden\":[{\"S\":5,\"psi\":[[1,-6],[-2,7],[8,-13],[-6,11],[1,4],[4,-9]]}]}\n",
      "{\"solution\":\"[1, -2, -2, -3, -3, -6, -6, 7, 8, 8, 11, -13]\",\"hidden\":[{\"S\":5,\"psi\":[[1,-6],[-2,7],[8,-13],[-3,8],[-2,-3],[-6,11]]}]}\n",
      "\n"
     ]
    }
   ],
   "source": [
    "print( tmp[tmp['hidden_2'].apply(lambda x: False if isinstance(x,list) else True )][:50][[\"ss\",'hidden_1']\n",
    "].to_json(orient='records',lines=True).replace('\\\\u03c8','psi').replace('_1','').replace('ss','solution'))"
   ]
  },
  {
   "cell_type": "code",
   "execution_count": 212,
   "id": "6ae97f4d-4ffa-4c73-b9fb-bcbc0dfafebf",
   "metadata": {},
   "outputs": [
    {
     "data": {
      "text/plain": [
       "array([ 8, 12])"
      ]
     },
     "execution_count": 212,
     "metadata": {},
     "output_type": "execute_result"
    }
   ],
   "source": [
    "hs['n'].unique()"
   ]
  },
  {
   "cell_type": "code",
   "execution_count": null,
   "id": "5e9ede74-2ed1-4287-94dc-38c24deea4a6",
   "metadata": {},
   "outputs": [],
   "source": [
    "[1, 3, 4, 6, -7, -8, -13, 14] → [[3,4],[6,-13],[1,6],[-7,14],[1,-8]]\n",
    "#Remove [1,6] because is already in the pairs list\n",
    "[1, 3, 4, 6, -7, -8, -13, 14] → [[3,4],[6,-13],[-7,14],[1,-8]]\n",
    "[1, 6, -7, -8, -13, 14] → [[6,-13],[-7,14],[1,-8]]\n",
    "[1, -7, -8, 14] → [[-7,14],[1,-8]]\n",
    "[1, -8] → [[1,-8]]\n",
    "[] → []"
   ]
  },
  {
   "cell_type": "code",
   "execution_count": 181,
   "id": "9017de23-eea1-4c31-be93-64acae9994a5",
   "metadata": {},
   "outputs": [
    {
     "data": {
      "text/plain": [
       "[{'S': 7, 'ψ': [(3, 4), (6, -13), (1, 6), (-7, 14), (1, -8)]}]"
      ]
     },
     "execution_count": 181,
     "metadata": {},
     "output_type": "execute_result"
    }
   ],
   "source": [
    "get_hidden_sector(   [1, 3, 4, 6, -7, -8, -13, 14] )"
   ]
  },
  {
   "cell_type": "markdown",
   "id": "d58699d1-4703-4797-a42c-9f6ef15d8813",
   "metadata": {},
   "source": [
    "## Ask question to the solutions object"
   ]
  },
  {
   "cell_type": "markdown",
   "id": "50887324-0108-48f1-8046-d655a3e3fb04",
   "metadata": {},
   "source": [
    "* Test the solution\n",
    "* Which is the minimum hidden sector and with the least charge in absolute value\n",
    "* Check for multigenerational solution\n",
    "* Check for unconditional stability\n",
    "* Solutions with active symmetry\n",
    "* How many solutions with n=12 and zmax<=20\n",
    "* Check for Majorana and Dirac fermions"
   ]
  },
  {
   "cell_type": "markdown",
   "id": "9a643fe5-77bc-4a5e-98ae-1b27c55c4296",
   "metadata": {},
   "source": [
    "¿Cuales `n` funcionaron? "
   ]
  },
  {
   "cell_type": "code",
   "execution_count": 133,
   "id": "68779999-7fe1-4bb8-836d-bb5d6d043909",
   "metadata": {},
   "outputs": [
    {
     "data": {
      "text/plain": [
       "array([ 8, 12])"
      ]
     },
     "execution_count": 133,
     "metadata": {},
     "output_type": "execute_result"
    }
   ],
   "source": [
    "hs['n'].unique()"
   ]
  },
  {
   "cell_type": "code",
   "execution_count": 135,
   "id": "61165151-dac1-4763-825e-7fb5ac9c4104",
   "metadata": {},
   "outputs": [],
   "source": [
    "pd.set_option('display.max_colwidth',200)"
   ]
  },
  {
   "cell_type": "code",
   "execution_count": 136,
   "id": "13a9e98b-5ae8-4c93-a475-a1b4b160d17b",
   "metadata": {},
   "outputs": [
    {
     "data": {
      "text/plain": [
       "8"
      ]
     },
     "execution_count": 136,
     "metadata": {},
     "output_type": "execute_result"
    }
   ],
   "source": [
    "# What is the minimum n?\n",
    "hs['n'].min()"
   ]
  },
  {
   "cell_type": "code",
   "execution_count": 144,
   "id": "f3aeeef7-9000-47ac-9887-4d2d48cf8ba8",
   "metadata": {},
   "outputs": [
    {
     "data": {
      "text/plain": [
       "6"
      ]
     },
     "execution_count": 144,
     "metadata": {},
     "output_type": "execute_result"
    }
   ],
   "source": [
    "# What is the minimum z_max?\n",
    "hs['zmax'].min()"
   ]
  },
  {
   "cell_type": "code",
   "execution_count": 145,
   "id": "e24084b9-5fbd-4f93-9e35-a519f556c006",
   "metadata": {},
   "outputs": [
    {
     "data": {
      "text/html": [
       "<div>\n",
       "<style scoped>\n",
       "    .dataframe tbody tr th:only-of-type {\n",
       "        vertical-align: middle;\n",
       "    }\n",
       "\n",
       "    .dataframe tbody tr th {\n",
       "        vertical-align: top;\n",
       "    }\n",
       "\n",
       "    .dataframe thead th {\n",
       "        text-align: right;\n",
       "    }\n",
       "</style>\n",
       "<table border=\"1\" class=\"dataframe\">\n",
       "  <thead>\n",
       "    <tr style=\"text-align: right;\">\n",
       "      <th></th>\n",
       "      <th>l</th>\n",
       "      <th>k</th>\n",
       "      <th>solution</th>\n",
       "      <th>gcd</th>\n",
       "      <th>n</th>\n",
       "      <th>zmax</th>\n",
       "      <th>hidden</th>\n",
       "    </tr>\n",
       "  </thead>\n",
       "  <tbody>\n",
       "    <tr>\n",
       "      <th>0</th>\n",
       "      <td>[-1, -5, -3]</td>\n",
       "      <td>[-6, -4, -7]</td>\n",
       "      <td>[1, 1, 2, 3, -4, -4, -5, 6]</td>\n",
       "      <td>1</td>\n",
       "      <td>8</td>\n",
       "      <td>6</td>\n",
       "      <td>[{'S': 2, 'ψ': [(3, -5), (2, -4), (-4, 6), (1, 1)]}]</td>\n",
       "    </tr>\n",
       "    <tr>\n",
       "      <th>1773</th>\n",
       "      <td>[-1, 0, -1, 0, 1]</td>\n",
       "      <td>[-3, -2, -3, -2, 2]</td>\n",
       "      <td>[1, -2, -2, -2, 3, 3, 4, 4, -5, -5, -5, 6]</td>\n",
       "      <td>1</td>\n",
       "      <td>12</td>\n",
       "      <td>6</td>\n",
       "      <td>[{'S': 1, 'ψ': [(-5, 6), (-2, 3), (4, -5), (1, -2)]}, {'S': 7, 'ψ': [(3, 4), (1, 6), (-2, -5)]}]</td>\n",
       "    </tr>\n",
       "    <tr>\n",
       "      <th>1774</th>\n",
       "      <td>[2, 1, -1, 3, -1]</td>\n",
       "      <td>[-3, -1, 0, -2, -3]</td>\n",
       "      <td>[1, 1, 1, 1, -2, -2, -2, 3, 3, -5, -5, 6]</td>\n",
       "      <td>1</td>\n",
       "      <td>12</td>\n",
       "      <td>6</td>\n",
       "      <td>[{'S': 4, 'ψ': [(-2, -2), (1, -5), (-2, 6), (1, 3)]}]</td>\n",
       "    </tr>\n",
       "  </tbody>\n",
       "</table>\n",
       "</div>"
      ],
      "text/plain": [
       "                      l                    k  \\\n",
       "0          [-1, -5, -3]         [-6, -4, -7]   \n",
       "1773  [-1, 0, -1, 0, 1]  [-3, -2, -3, -2, 2]   \n",
       "1774  [2, 1, -1, 3, -1]  [-3, -1, 0, -2, -3]   \n",
       "\n",
       "                                        solution  gcd   n  zmax  \\\n",
       "0                    [1, 1, 2, 3, -4, -4, -5, 6]    1   8     6   \n",
       "1773  [1, -2, -2, -2, 3, 3, 4, 4, -5, -5, -5, 6]    1  12     6   \n",
       "1774   [1, 1, 1, 1, -2, -2, -2, 3, 3, -5, -5, 6]    1  12     6   \n",
       "\n",
       "                                                                                                hidden  \n",
       "0                                                 [{'S': 2, 'ψ': [(3, -5), (2, -4), (-4, 6), (1, 1)]}]  \n",
       "1773  [{'S': 1, 'ψ': [(-5, 6), (-2, 3), (4, -5), (1, -2)]}, {'S': 7, 'ψ': [(3, 4), (1, 6), (-2, -5)]}]  \n",
       "1774                                             [{'S': 4, 'ψ': [(-2, -2), (1, -5), (-2, 6), (1, 3)]}]  "
      ]
     },
     "execution_count": 145,
     "metadata": {},
     "output_type": "execute_result"
    }
   ],
   "source": [
    "hs[hs['zmax']==hs['zmax'].min()]"
   ]
  },
  {
   "cell_type": "code",
   "execution_count": 146,
   "id": "93c144c2-50f6-4137-93b5-efdf3b3d1952",
   "metadata": {},
   "outputs": [
    {
     "data": {
      "text/plain": [
       "(1271, 7)"
      ]
     },
     "execution_count": 146,
     "metadata": {},
     "output_type": "execute_result"
    }
   ],
   "source": [
    "# How many solutions have several dark sectors?\n",
    "hs[hs['hidden'].apply(len)>1].shape"
   ]
  },
  {
   "cell_type": "code",
   "execution_count": 147,
   "id": "e75784a4-a5ff-417d-b1f8-93c6ce09d0a2",
   "metadata": {},
   "outputs": [
    {
     "data": {
      "text/plain": [
       "(0, 7)"
      ]
     },
     "execution_count": 147,
     "metadata": {},
     "output_type": "execute_result"
    }
   ],
   "source": [
    "hs[hs['hidden'].apply(len)>2].shape"
   ]
  },
  {
   "cell_type": "code",
   "execution_count": 151,
   "id": "5735ac99-22ef-46d9-b2f1-21341d114e53",
   "metadata": {},
   "outputs": [
    {
     "data": {
      "text/plain": [
       "0                                           [(3, -5), (2, -4), (-4, 6), (1, 1)]\n",
       "1                                           [(2, 2), (-3, 7), (1, -5), (2, -6)]\n",
       "2                                                    [(4, 5), (1, 8), (-2, -7)]\n",
       "3                                           [(4, -7), (-5, 8), (2, -5), (1, 2)]\n",
       "4                                 [(-6, 7), (7, -8), (5, -6), (2, -3), (-4, 5)]\n",
       "                                         ...                                   \n",
       "9461                         [(4, -19), (3, -18), (-13, 28), (17, -32), (6, 9)]\n",
       "9462    [(-9, 27), (-6, -12), (1, -19), (4, 14), (-9, -9), (14, -32), (-8, 26)]\n",
       "9463              [(-4, -5), (18, -27), (3, 6), (-5, 14), (-23, 32), (14, -23)]\n",
       "9464                      [(12, -27), (4, -19), (-13, 28), (17, -32), (-9, 24)]\n",
       "9465                [(6, 18), (5, 19), (-4, -20), (3, -27), (2, -26), (-8, 32)]\n",
       "Name: hidden, Length: 9466, dtype: object"
      ]
     },
     "execution_count": 151,
     "metadata": {},
     "output_type": "execute_result"
    }
   ],
   "source": [
    "hs['hidden'].str[0].str['ψ']"
   ]
  },
  {
   "cell_type": "code",
   "execution_count": 157,
   "id": "f90a1121-cd03-4a50-9f31-8acc2224d079",
   "metadata": {},
   "outputs": [
    {
     "data": {
      "text/plain": [
       "3"
      ]
     },
     "execution_count": 157,
     "metadata": {},
     "output_type": "execute_result"
    }
   ],
   "source": [
    "# What is the minimum number of DM particles?\n",
    "hs['hidden'].str[0].str['ψ'].apply(len).min()"
   ]
  },
  {
   "cell_type": "code",
   "execution_count": 156,
   "id": "d816fd8e-1c0c-4958-84b5-764954e81cb9",
   "metadata": {},
   "outputs": [
    {
     "data": {
      "text/plain": [
       "3"
      ]
     },
     "execution_count": 156,
     "metadata": {},
     "output_type": "execute_result"
    }
   ],
   "source": [
    "# What is the minimum number of DM particles?\n",
    "hs['hidden'].str[-1].str['ψ'].apply(len).min()"
   ]
  },
  {
   "cell_type": "code",
   "execution_count": 161,
   "id": "ac41d6fc-ee19-4c3d-9439-4a3c10bdbbb1",
   "metadata": {},
   "outputs": [
    {
     "data": {
      "text/plain": [
       "1773    {'S': 7, 'ψ': [(3, 4), (1, 6), (-2, -5)]}\n",
       "Name: hidden, dtype: object"
      ]
     },
     "execution_count": 161,
     "metadata": {},
     "output_type": "execute_result"
    }
   ],
   "source": [
    "hs.loc[[1773]]['hidden'].str[-1]"
   ]
  },
  {
   "cell_type": "code",
   "execution_count": 159,
   "id": "176f2501-f3fa-4340-ba78-5edf901e5405",
   "metadata": {},
   "outputs": [
    {
     "data": {
      "text/html": [
       "<div>\n",
       "<style scoped>\n",
       "    .dataframe tbody tr th:only-of-type {\n",
       "        vertical-align: middle;\n",
       "    }\n",
       "\n",
       "    .dataframe tbody tr th {\n",
       "        vertical-align: top;\n",
       "    }\n",
       "\n",
       "    .dataframe thead th {\n",
       "        text-align: right;\n",
       "    }\n",
       "</style>\n",
       "<table border=\"1\" class=\"dataframe\">\n",
       "  <thead>\n",
       "    <tr style=\"text-align: right;\">\n",
       "      <th></th>\n",
       "      <th>l</th>\n",
       "      <th>k</th>\n",
       "      <th>solution</th>\n",
       "      <th>gcd</th>\n",
       "      <th>n</th>\n",
       "      <th>zmax</th>\n",
       "      <th>hidden</th>\n",
       "    </tr>\n",
       "  </thead>\n",
       "  <tbody>\n",
       "    <tr>\n",
       "      <th>1773</th>\n",
       "      <td>[-1, 0, -1, 0, 1]</td>\n",
       "      <td>[-3, -2, -3, -2, 2]</td>\n",
       "      <td>[1, -2, -2, -2, 3, 3, 4, 4, -5, -5, -5, 6]</td>\n",
       "      <td>1</td>\n",
       "      <td>12</td>\n",
       "      <td>6</td>\n",
       "      <td>[{'S': 1, 'ψ': [(-5, 6), (-2, 3), (4, -5), (1, -2)]}, {'S': 7, 'ψ': [(3, 4), (1, 6), (-2, -5)]}]</td>\n",
       "    </tr>\n",
       "  </tbody>\n",
       "</table>\n",
       "</div>"
      ],
      "text/plain": [
       "                      l                    k  \\\n",
       "1773  [-1, 0, -1, 0, 1]  [-3, -2, -3, -2, 2]   \n",
       "\n",
       "                                        solution  gcd   n  zmax  \\\n",
       "1773  [1, -2, -2, -2, 3, 3, 4, 4, -5, -5, -5, 6]    1  12     6   \n",
       "\n",
       "                                                                                                hidden  \n",
       "1773  [{'S': 1, 'ψ': [(-5, 6), (-2, 3), (4, -5), (1, -2)]}, {'S': 7, 'ψ': [(3, 4), (1, 6), (-2, -5)]}]  "
      ]
     },
     "execution_count": 159,
     "metadata": {},
     "output_type": "execute_result"
    }
   ],
   "source": [
    "hs.loc[[1773]]['hidden'].str[0]"
   ]
  },
  {
   "cell_type": "code",
   "execution_count": 166,
   "id": "922413e8-198d-45f6-9865-15089a3db30e",
   "metadata": {},
   "outputs": [
    {
     "data": {
      "text/plain": [
       "True"
      ]
     },
     "execution_count": 166,
     "metadata": {},
     "output_type": "execute_result"
    }
   ],
   "source": [
    "True or False"
   ]
  },
  {
   "cell_type": "code",
   "execution_count": 169,
   "id": "51828aa5-0dbd-4c5a-be8d-5c41403dac63",
   "metadata": {},
   "outputs": [
    {
     "data": {
      "text/plain": [
       "(221, 7)"
      ]
     },
     "execution_count": 169,
     "metadata": {},
     "output_type": "execute_result"
    }
   ],
   "source": [
    "hs[(hs['hidden'].str[0].str['ψ'].apply(len)==3)].shape"
   ]
  },
  {
   "cell_type": "code",
   "execution_count": 170,
   "id": "d724236a-0e1b-46e6-9bb2-b625f7bf92db",
   "metadata": {},
   "outputs": [
    {
     "data": {
      "text/html": [
       "<div>\n",
       "<style scoped>\n",
       "    .dataframe tbody tr th:only-of-type {\n",
       "        vertical-align: middle;\n",
       "    }\n",
       "\n",
       "    .dataframe tbody tr th {\n",
       "        vertical-align: top;\n",
       "    }\n",
       "\n",
       "    .dataframe thead th {\n",
       "        text-align: right;\n",
       "    }\n",
       "</style>\n",
       "<table border=\"1\" class=\"dataframe\">\n",
       "  <thead>\n",
       "    <tr style=\"text-align: right;\">\n",
       "      <th></th>\n",
       "      <th>l</th>\n",
       "      <th>k</th>\n",
       "      <th>solution</th>\n",
       "      <th>gcd</th>\n",
       "      <th>n</th>\n",
       "      <th>zmax</th>\n",
       "      <th>hidden</th>\n",
       "    </tr>\n",
       "  </thead>\n",
       "  <tbody>\n",
       "    <tr>\n",
       "      <th>2</th>\n",
       "      <td>[-1, 0, 1]</td>\n",
       "      <td>[-4, -2, 2]</td>\n",
       "      <td>[1, -2, -2, 4, 5, -7, -7, 8]</td>\n",
       "      <td>1</td>\n",
       "      <td>8</td>\n",
       "      <td>8</td>\n",
       "      <td>[{'S': 9, 'ψ': [(4, 5), (1, 8), (-2, -7)]}]</td>\n",
       "    </tr>\n",
       "    <tr>\n",
       "      <th>7</th>\n",
       "      <td>[2, 0, -1]</td>\n",
       "      <td>[-8, -5, 9]</td>\n",
       "      <td>[2, -3, -3, 5, 6, -8, -8, 9]</td>\n",
       "      <td>1</td>\n",
       "      <td>8</td>\n",
       "      <td>9</td>\n",
       "      <td>[{'S': 11, 'ψ': [(5, 6), (-3, -8), (2, 9)]}]</td>\n",
       "    </tr>\n",
       "    <tr>\n",
       "      <th>9</th>\n",
       "      <td>[0, -3, -1]</td>\n",
       "      <td>[-3, -5, -6, -4]</td>\n",
       "      <td>[3, -4, -6, -6, 7, 7, 8, -9]</td>\n",
       "      <td>1</td>\n",
       "      <td>8</td>\n",
       "      <td>9</td>\n",
       "      <td>[{'S': 1, 'ψ': [(8, -9), (-6, 7), (3, -4)]}]</td>\n",
       "    </tr>\n",
       "    <tr>\n",
       "      <th>11</th>\n",
       "      <td>[-1, 0, -1]</td>\n",
       "      <td>[-2, 1, -1]</td>\n",
       "      <td>[2, -5, -5, -5, 7, 8, 8, -10]</td>\n",
       "      <td>1</td>\n",
       "      <td>8</td>\n",
       "      <td>10</td>\n",
       "      <td>[{'S': 3, 'ψ': [(7, -10), (-5, 8), (2, -5)]}]</td>\n",
       "    </tr>\n",
       "    <tr>\n",
       "      <th>14</th>\n",
       "      <td>[-3, -5, 1]</td>\n",
       "      <td>[-6, -4, -5]</td>\n",
       "      <td>[3, -4, -4, 6, 7, -9, -9, 10]</td>\n",
       "      <td>1</td>\n",
       "      <td>8</td>\n",
       "      <td>10</td>\n",
       "      <td>[{'S': 13, 'ψ': [(3, 10), (-4, -9), (6, 7)]}]</td>\n",
       "    </tr>\n",
       "    <tr>\n",
       "      <th>...</th>\n",
       "      <td>...</td>\n",
       "      <td>...</td>\n",
       "      <td>...</td>\n",
       "      <td>...</td>\n",
       "      <td>...</td>\n",
       "      <td>...</td>\n",
       "      <td>...</td>\n",
       "    </tr>\n",
       "    <tr>\n",
       "      <th>7956</th>\n",
       "      <td>[1, -2, 1, 0, 1]</td>\n",
       "      <td>[-2, -1, -2, -1, -2]</td>\n",
       "      <td>[1, 1, -2, -2, -16, -16, -16, 17, 17, 17, 28, -29]</td>\n",
       "      <td>1</td>\n",
       "      <td>12</td>\n",
       "      <td>29</td>\n",
       "      <td>[{'S': 1, 'ψ': [(-16, 17), (28, -29), (1, -2)]}]</td>\n",
       "    </tr>\n",
       "    <tr>\n",
       "      <th>7959</th>\n",
       "      <td>[-2, 1, -2, 0, 2]</td>\n",
       "      <td>[-2, 1, -2, 1, -1]</td>\n",
       "      <td>[4, -8, -8, -8, 11, 11, 22, 22, -25, -25, -25, 29]</td>\n",
       "      <td>3</td>\n",
       "      <td>12</td>\n",
       "      <td>29</td>\n",
       "      <td>[{'S': 33, 'ψ': [(4, 29), (11, 22), (-8, -25)]}]</td>\n",
       "    </tr>\n",
       "    <tr>\n",
       "      <th>7991</th>\n",
       "      <td>[-1, 0, -2, 0, -2]</td>\n",
       "      <td>[-3, 1, -3, 1, -3]</td>\n",
       "      <td>[7, 7, -9, -9, -9, 17, 19, -27, -27, -27, 29, 29]</td>\n",
       "      <td>4</td>\n",
       "      <td>12</td>\n",
       "      <td>29</td>\n",
       "      <td>[{'S': 36, 'ψ': [(7, 29), (-9, -27), (17, 19)]}]</td>\n",
       "    </tr>\n",
       "    <tr>\n",
       "      <th>7997</th>\n",
       "      <td>[-2, 0, -2, 0, -2]</td>\n",
       "      <td>[-3, 2, -3, 3, -3]</td>\n",
       "      <td>[16, 16, -19, -19, -19, -21, -21, 24, 24, 24, 24, -29]</td>\n",
       "      <td>8</td>\n",
       "      <td>12</td>\n",
       "      <td>29</td>\n",
       "      <td>[{'S': 5, 'ψ': [(-19, 24), (24, -29), (16, -21)]}]</td>\n",
       "    </tr>\n",
       "    <tr>\n",
       "      <th>9242</th>\n",
       "      <td>[2, 0, 1, 0, 2]</td>\n",
       "      <td>[-3, -2, -3, -2, -3]</td>\n",
       "      <td>[2, 7, 18, 18, 18, -23, -23, -27, -27, -27, 32, 32]</td>\n",
       "      <td>1</td>\n",
       "      <td>12</td>\n",
       "      <td>32</td>\n",
       "      <td>[{'S': 9, 'ψ': [(18, -27), (2, 7), (-23, 32)]}]</td>\n",
       "    </tr>\n",
       "  </tbody>\n",
       "</table>\n",
       "<p>233 rows × 7 columns</p>\n",
       "</div>"
      ],
      "text/plain": [
       "                       l                     k  \\\n",
       "2             [-1, 0, 1]           [-4, -2, 2]   \n",
       "7             [2, 0, -1]           [-8, -5, 9]   \n",
       "9            [0, -3, -1]      [-3, -5, -6, -4]   \n",
       "11           [-1, 0, -1]           [-2, 1, -1]   \n",
       "14           [-3, -5, 1]          [-6, -4, -5]   \n",
       "...                  ...                   ...   \n",
       "7956    [1, -2, 1, 0, 1]  [-2, -1, -2, -1, -2]   \n",
       "7959   [-2, 1, -2, 0, 2]    [-2, 1, -2, 1, -1]   \n",
       "7991  [-1, 0, -2, 0, -2]    [-3, 1, -3, 1, -3]   \n",
       "7997  [-2, 0, -2, 0, -2]    [-3, 2, -3, 3, -3]   \n",
       "9242     [2, 0, 1, 0, 2]  [-3, -2, -3, -2, -3]   \n",
       "\n",
       "                                                    solution  gcd   n  zmax  \\\n",
       "2                               [1, -2, -2, 4, 5, -7, -7, 8]    1   8     8   \n",
       "7                               [2, -3, -3, 5, 6, -8, -8, 9]    1   8     9   \n",
       "9                               [3, -4, -6, -6, 7, 7, 8, -9]    1   8     9   \n",
       "11                             [2, -5, -5, -5, 7, 8, 8, -10]    1   8    10   \n",
       "14                             [3, -4, -4, 6, 7, -9, -9, 10]    1   8    10   \n",
       "...                                                      ...  ...  ..   ...   \n",
       "7956      [1, 1, -2, -2, -16, -16, -16, 17, 17, 17, 28, -29]    1  12    29   \n",
       "7959      [4, -8, -8, -8, 11, 11, 22, 22, -25, -25, -25, 29]    3  12    29   \n",
       "7991       [7, 7, -9, -9, -9, 17, 19, -27, -27, -27, 29, 29]    4  12    29   \n",
       "7997  [16, 16, -19, -19, -19, -21, -21, 24, 24, 24, 24, -29]    8  12    29   \n",
       "9242     [2, 7, 18, 18, 18, -23, -23, -27, -27, -27, 32, 32]    1  12    32   \n",
       "\n",
       "                                                  hidden  \n",
       "2            [{'S': 9, 'ψ': [(4, 5), (1, 8), (-2, -7)]}]  \n",
       "7           [{'S': 11, 'ψ': [(5, 6), (-3, -8), (2, 9)]}]  \n",
       "9           [{'S': 1, 'ψ': [(8, -9), (-6, 7), (3, -4)]}]  \n",
       "11         [{'S': 3, 'ψ': [(7, -10), (-5, 8), (2, -5)]}]  \n",
       "14         [{'S': 13, 'ψ': [(3, 10), (-4, -9), (6, 7)]}]  \n",
       "...                                                  ...  \n",
       "7956    [{'S': 1, 'ψ': [(-16, 17), (28, -29), (1, -2)]}]  \n",
       "7959    [{'S': 33, 'ψ': [(4, 29), (11, 22), (-8, -25)]}]  \n",
       "7991    [{'S': 36, 'ψ': [(7, 29), (-9, -27), (17, 19)]}]  \n",
       "7997  [{'S': 5, 'ψ': [(-19, 24), (24, -29), (16, -21)]}]  \n",
       "9242     [{'S': 9, 'ψ': [(18, -27), (2, 7), (-23, 32)]}]  \n",
       "\n",
       "[233 rows x 7 columns]"
      ]
     },
     "execution_count": 170,
     "metadata": {},
     "output_type": "execute_result"
    }
   ],
   "source": [
    "hs[(hs['hidden'].str[0].str['ψ'].apply(len)==3) | \n",
    "   (hs['hidden'].str[-1].str['ψ'].apply(len)==3)]"
   ]
  },
  {
   "cell_type": "code",
   "execution_count": 171,
   "id": "d8f7ddfe-27df-49b4-9ba0-1c83f89b9f2f",
   "metadata": {},
   "outputs": [
    {
     "data": {
      "text/plain": [
       "9"
      ]
     },
     "execution_count": 171,
     "metadata": {},
     "output_type": "execute_result"
    }
   ],
   "source": [
    "# What is the maximum number of DM particles?\n",
    "hs['hidden'].str[0].str['ψ'].apply(len).max()"
   ]
  },
  {
   "cell_type": "code",
   "execution_count": 172,
   "id": "390eb608-8015-4279-a89b-0f15887bd865",
   "metadata": {},
   "outputs": [
    {
     "data": {
      "text/plain": [
       "9"
      ]
     },
     "execution_count": 172,
     "metadata": {},
     "output_type": "execute_result"
    }
   ],
   "source": [
    "# What is the maximum number of DM particles?\n",
    "hs['hidden'].str[-1].str['ψ'].apply(len).max()"
   ]
  },
  {
   "cell_type": "code",
   "execution_count": 176,
   "id": "0b047680-0569-464d-a26e-47bb07a3b01e",
   "metadata": {},
   "outputs": [
    {
     "data": {
      "text/html": [
       "<div>\n",
       "<style scoped>\n",
       "    .dataframe tbody tr th:only-of-type {\n",
       "        vertical-align: middle;\n",
       "    }\n",
       "\n",
       "    .dataframe tbody tr th {\n",
       "        vertical-align: top;\n",
       "    }\n",
       "\n",
       "    .dataframe thead th {\n",
       "        text-align: right;\n",
       "    }\n",
       "</style>\n",
       "<table border=\"1\" class=\"dataframe\">\n",
       "  <thead>\n",
       "    <tr style=\"text-align: right;\">\n",
       "      <th></th>\n",
       "      <th>l</th>\n",
       "      <th>k</th>\n",
       "      <th>solution</th>\n",
       "      <th>gcd</th>\n",
       "      <th>n</th>\n",
       "      <th>zmax</th>\n",
       "      <th>hidden</th>\n",
       "    </tr>\n",
       "  </thead>\n",
       "  <tbody>\n",
       "    <tr>\n",
       "      <th>2019</th>\n",
       "      <td>[-1, 0, -1, -2, -1]</td>\n",
       "      <td>[-3, -2, 2, 1, -1]</td>\n",
       "      <td>[1, 1, 2, 3, -5, -6, -6, -7, 9, 10, 11, -13]</td>\n",
       "      <td>2</td>\n",
       "      <td>12</td>\n",
       "      <td>13</td>\n",
       "      <td>[{'S': 4, 'ψ': [(9, -13), (-5, 9), (-6, 10), (2, 2), (1, 3), (-7, 11), (3, -7), (1, -5), (2, -6)]}, {'S': 12, 'ψ': [(-5, -7), (3, 9), (-6, -6), (1, -13), (1, 11), (2, 10)]}]</td>\n",
       "    </tr>\n",
       "  </tbody>\n",
       "</table>\n",
       "</div>"
      ],
      "text/plain": [
       "                        l                   k  \\\n",
       "2019  [-1, 0, -1, -2, -1]  [-3, -2, 2, 1, -1]   \n",
       "\n",
       "                                          solution  gcd   n  zmax  \\\n",
       "2019  [1, 1, 2, 3, -5, -6, -6, -7, 9, 10, 11, -13]    2  12    13   \n",
       "\n",
       "                                                                                                                                                                             hidden  \n",
       "2019  [{'S': 4, 'ψ': [(9, -13), (-5, 9), (-6, 10), (2, 2), (1, 3), (-7, 11), (3, -7), (1, -5), (2, -6)]}, {'S': 12, 'ψ': [(-5, -7), (3, 9), (-6, -6), (1, -13), (1, 11), (2, 10)]}]  "
      ]
     },
     "execution_count": 176,
     "metadata": {},
     "output_type": "execute_result"
    }
   ],
   "source": [
    "hs[(hs['hidden'].str[0].str['ψ'].apply(len)==9)][:1]"
   ]
  },
  {
   "cell_type": "markdown",
   "id": "90b2be2c-4add-48cc-9e97-2f0add5de02d",
   "metadata": {},
   "source": [
    "### Same questions for SM solutions"
   ]
  },
  {
   "cell_type": "code",
   "execution_count": 23,
   "id": "fe26a5ab-2e9e-477b-af5f-6568fdc65e57",
   "metadata": {},
   "outputs": [],
   "source": [
    "df3=df[df['solution'].apply(lambda l: 3 in [l.count(x) for x in l])].reset_index(drop=True)"
   ]
  },
  {
   "cell_type": "code",
   "execution_count": 24,
   "id": "4c3f1529-7624-4545-af61-545415f2409d",
   "metadata": {},
   "outputs": [],
   "source": [
    "def get_dark(l,idx=0):\n",
    "    #TODO,\n",
    "    xxx=list(set([x for x in l if l.count(x)==3]))\n",
    "    if len(xxx)>=idx+1:\n",
    "        xx=xxx[idx]\n",
    "        return [x for x in l if x!=xx]\n",
    "    else:\n",
    "        return []\n",
    "assert get_dark([1,1,2,2,2,3] )==[1, 1, 3]\n",
    "assert get_dark([2,2,2,2,-5,-5,-5,7])==[2, 2, 2, 2, 7]"
   ]
  },
  {
   "cell_type": "code",
   "execution_count": 25,
   "id": "3eafc7e4-cf0f-48b9-8d50-8fcf5c986867",
   "metadata": {},
   "outputs": [],
   "source": [
    "df3['hidden']=df3['solution'].apply(get_dark).apply(get_hidden_sector)"
   ]
  },
  {
   "cell_type": "code",
   "execution_count": 26,
   "id": "621afe65-e4f4-4cc4-965a-8c2841fbfc8b",
   "metadata": {},
   "outputs": [
    {
     "data": {
      "text/plain": [
       "(192, 7)"
      ]
     },
     "execution_count": 26,
     "metadata": {},
     "output_type": "execute_result"
    }
   ],
   "source": [
    "hs3=df3[df3['hidden'].apply(len)>0].reset_index(drop=True)\n",
    "hs3.shape"
   ]
  },
  {
   "cell_type": "code",
   "execution_count": 27,
   "id": "a6186c47-e4a5-4c1c-b132-6ee0888bb123",
   "metadata": {},
   "outputs": [
    {
     "data": {
      "text/plain": [
       "(199, 7)"
      ]
     },
     "execution_count": 27,
     "metadata": {},
     "output_type": "execute_result"
    }
   ],
   "source": [
    "# idxmax==1\n",
    "df3['hidden']=df3['solution'].apply(lambda l: get_dark(l,idx=1)).apply(get_hidden_sector)\n",
    "hs3=pd.concat((hs3,df3[df3['hidden'].apply(len)>0])).reset_index(drop=True)\n",
    "hs3.shape"
   ]
  },
  {
   "cell_type": "code",
   "execution_count": 28,
   "id": "a53d71e9-1755-4286-8799-2a407d8dbf86",
   "metadata": {},
   "outputs": [
    {
     "data": {
      "text/plain": [
       "(199, 7)"
      ]
     },
     "execution_count": 28,
     "metadata": {},
     "output_type": "execute_result"
    }
   ],
   "source": [
    "# idxmax==1\n",
    "df3['hidden']=df3['solution'].apply(lambda l: get_dark(l,idx=2)).apply(get_hidden_sector)\n",
    "hs3=pd.concat((hs3,df3[df3['hidden'].apply(len)>0])).reset_index(drop=True)\n",
    "hs3.shape"
   ]
  },
  {
   "cell_type": "code",
   "execution_count": 29,
   "id": "a0d204e8-f73e-43d5-826b-6bf8fc6e17f0",
   "metadata": {},
   "outputs": [
    {
     "data": {
      "text/plain": [
       "9"
      ]
     },
     "execution_count": 29,
     "metadata": {},
     "output_type": "execute_result"
    }
   ],
   "source": [
    "hs3['zmax'].min()"
   ]
  },
  {
   "cell_type": "code",
   "execution_count": 30,
   "id": "a80e9876-b428-475a-b252-3065eaac51e0",
   "metadata": {},
   "outputs": [
    {
     "data": {
      "text/html": [
       "<div>\n",
       "<style scoped>\n",
       "    .dataframe tbody tr th:only-of-type {\n",
       "        vertical-align: middle;\n",
       "    }\n",
       "\n",
       "    .dataframe tbody tr th {\n",
       "        vertical-align: top;\n",
       "    }\n",
       "\n",
       "    .dataframe thead th {\n",
       "        text-align: right;\n",
       "    }\n",
       "</style>\n",
       "<table border=\"1\" class=\"dataframe\">\n",
       "  <thead>\n",
       "    <tr style=\"text-align: right;\">\n",
       "      <th></th>\n",
       "      <th>l</th>\n",
       "      <th>k</th>\n",
       "      <th>solution</th>\n",
       "      <th>gcd</th>\n",
       "      <th>n</th>\n",
       "      <th>zmax</th>\n",
       "      <th>hidden</th>\n",
       "    </tr>\n",
       "  </thead>\n",
       "  <tbody>\n",
       "    <tr>\n",
       "      <th>0</th>\n",
       "      <td>[-3, -1, 2]</td>\n",
       "      <td>[1, 3, -3]</td>\n",
       "      <td>[3, 3, 3, 5, -7, -9, -11, 13]</td>\n",
       "      <td>12</td>\n",
       "      <td>8</td>\n",
       "      <td>13</td>\n",
       "      <td>[{'S': 18, 'ψ': [(-7, -11), (-9, -9), (5, 13)]}]</td>\n",
       "    </tr>\n",
       "  </tbody>\n",
       "</table>\n",
       "</div>"
      ],
      "text/plain": [
       "             l           k                       solution  gcd  n  zmax  \\\n",
       "0  [-3, -1, 2]  [1, 3, -3]  [3, 3, 3, 5, -7, -9, -11, 13]   12  8    13   \n",
       "\n",
       "                                             hidden  \n",
       "0  [{'S': 18, 'ψ': [(-7, -11), (-9, -9), (5, 13)]}]  "
      ]
     },
     "execution_count": 30,
     "metadata": {},
     "output_type": "execute_result"
    }
   ],
   "source": [
    "hs3[:1]"
   ]
  },
  {
   "cell_type": "code",
   "execution_count": 31,
   "id": "aa817d62-360f-4ff3-bb5e-453057f355cf",
   "metadata": {},
   "outputs": [
    {
     "data": {
      "text/plain": [
       "(0, 7)"
      ]
     },
     "execution_count": 31,
     "metadata": {},
     "output_type": "execute_result"
    }
   ],
   "source": [
    "hs3[hs3['hidden'].apply(len)>1].shape"
   ]
  },
  {
   "cell_type": "code",
   "execution_count": 32,
   "id": "aee810b4-c226-4113-9bf8-e1baa34a3fc0",
   "metadata": {},
   "outputs": [
    {
     "data": {
      "text/plain": [
       "(0, 7)"
      ]
     },
     "execution_count": 32,
     "metadata": {},
     "output_type": "execute_result"
    }
   ],
   "source": [
    "hs3[hs3['hidden'].apply(len)>2].shape"
   ]
  },
  {
   "cell_type": "code",
   "execution_count": 33,
   "id": "76a8da24-7b36-47a4-9d8c-66186cc8436b",
   "metadata": {},
   "outputs": [
    {
     "data": {
      "text/plain": [
       "(0, 7)"
      ]
     },
     "execution_count": 33,
     "metadata": {},
     "output_type": "execute_result"
    }
   ],
   "source": [
    "hs3[hs3['hidden'].apply(len)>3].shape"
   ]
  },
  {
   "cell_type": "code",
   "execution_count": 34,
   "id": "1c25aae3-e070-4177-9792-bda63e0bf15f",
   "metadata": {},
   "outputs": [
    {
     "data": {
      "text/plain": [
       "2"
      ]
     },
     "execution_count": 34,
     "metadata": {},
     "output_type": "execute_result"
    }
   ],
   "source": [
    "hs3['hidden'].str[0].str['ψ'].apply(len).min()"
   ]
  },
  {
   "cell_type": "code",
   "execution_count": 35,
   "id": "46daab74-e67a-4b28-8385-e6007339deb3",
   "metadata": {},
   "outputs": [
    {
     "data": {
      "text/html": [
       "<div>\n",
       "<style scoped>\n",
       "    .dataframe tbody tr th:only-of-type {\n",
       "        vertical-align: middle;\n",
       "    }\n",
       "\n",
       "    .dataframe tbody tr th {\n",
       "        vertical-align: top;\n",
       "    }\n",
       "\n",
       "    .dataframe thead th {\n",
       "        text-align: right;\n",
       "    }\n",
       "</style>\n",
       "<table border=\"1\" class=\"dataframe\">\n",
       "  <thead>\n",
       "    <tr style=\"text-align: right;\">\n",
       "      <th></th>\n",
       "      <th>l</th>\n",
       "      <th>k</th>\n",
       "      <th>solution</th>\n",
       "      <th>gcd</th>\n",
       "      <th>n</th>\n",
       "      <th>zmax</th>\n",
       "      <th>hidden</th>\n",
       "    </tr>\n",
       "  </thead>\n",
       "  <tbody>\n",
       "    <tr>\n",
       "      <th>3</th>\n",
       "      <td>[-2, 0, 2]</td>\n",
       "      <td>[-2, 1, 0, -2]</td>\n",
       "      <td>[1, 1, -4, -5, 9, 9, 9, -10, -10]</td>\n",
       "      <td>4</td>\n",
       "      <td>9</td>\n",
       "      <td>10</td>\n",
       "      <td>[{'S': 9, 'ψ': [(1, -10), (-4, -5)]}]</td>\n",
       "    </tr>\n",
       "    <tr>\n",
       "      <th>4</th>\n",
       "      <td>[1, 0, -1]</td>\n",
       "      <td>[-3, 3, 0, -3]</td>\n",
       "      <td>[1, 1, -3, -8, 11, 11, 11, -12, -12]</td>\n",
       "      <td>9</td>\n",
       "      <td>9</td>\n",
       "      <td>12</td>\n",
       "      <td>[{'S': 11, 'ψ': [(1, -12), (-3, -8)]}]</td>\n",
       "    </tr>\n",
       "    <tr>\n",
       "      <th>6</th>\n",
       "      <td>[3, 0, -3]</td>\n",
       "      <td>[-2, 2, 0, -2]</td>\n",
       "      <td>[4, -5, -5, -6, -6, 11, 11, 11, -15]</td>\n",
       "      <td>8</td>\n",
       "      <td>9</td>\n",
       "      <td>15</td>\n",
       "      <td>[{'S': 11, 'ψ': [(-5, -6), (4, -15)]}]</td>\n",
       "    </tr>\n",
       "    <tr>\n",
       "      <th>13</th>\n",
       "      <td>[2, 0, -2]</td>\n",
       "      <td>[2, -2, 0, -3]</td>\n",
       "      <td>[2, 2, -3, 15, 15, -17, -17, -17, 20]</td>\n",
       "      <td>4</td>\n",
       "      <td>9</td>\n",
       "      <td>20</td>\n",
       "      <td>[{'S': 17, 'ψ': [(-3, 20), (2, 15)]}]</td>\n",
       "    </tr>\n",
       "    <tr>\n",
       "      <th>16</th>\n",
       "      <td>[2, 0, -2]</td>\n",
       "      <td>[3, -3, 0, 3]</td>\n",
       "      <td>[3, 3, -4, 14, 14, -17, -17, -17, 21]</td>\n",
       "      <td>9</td>\n",
       "      <td>9</td>\n",
       "      <td>21</td>\n",
       "      <td>[{'S': 17, 'ψ': [(-4, 21), (3, 14)]}]</td>\n",
       "    </tr>\n",
       "    <tr>\n",
       "      <th>17</th>\n",
       "      <td>[-3, 0, 1]</td>\n",
       "      <td>[-3, 3, 0, -3]</td>\n",
       "      <td>[2, 2, -7, -12, 19, 19, 19, -21, -21]</td>\n",
       "      <td>9</td>\n",
       "      <td>9</td>\n",
       "      <td>21</td>\n",
       "      <td>[{'S': 19, 'ψ': [(-7, -12), (2, -21)]}]</td>\n",
       "    </tr>\n",
       "    <tr>\n",
       "      <th>22</th>\n",
       "      <td>[3, 0, 1]</td>\n",
       "      <td>[3, -3, 0, 3]</td>\n",
       "      <td>[4, 4, -5, 15, 15, -19, -19, -19, 24]</td>\n",
       "      <td>9</td>\n",
       "      <td>9</td>\n",
       "      <td>24</td>\n",
       "      <td>[{'S': 19, 'ψ': [(4, 15), (-5, 24)]}]</td>\n",
       "    </tr>\n",
       "  </tbody>\n",
       "</table>\n",
       "</div>"
      ],
      "text/plain": [
       "             l               k                               solution  gcd  n  \\\n",
       "3   [-2, 0, 2]  [-2, 1, 0, -2]      [1, 1, -4, -5, 9, 9, 9, -10, -10]    4  9   \n",
       "4   [1, 0, -1]  [-3, 3, 0, -3]   [1, 1, -3, -8, 11, 11, 11, -12, -12]    9  9   \n",
       "6   [3, 0, -3]  [-2, 2, 0, -2]   [4, -5, -5, -6, -6, 11, 11, 11, -15]    8  9   \n",
       "13  [2, 0, -2]  [2, -2, 0, -3]  [2, 2, -3, 15, 15, -17, -17, -17, 20]    4  9   \n",
       "16  [2, 0, -2]   [3, -3, 0, 3]  [3, 3, -4, 14, 14, -17, -17, -17, 21]    9  9   \n",
       "17  [-3, 0, 1]  [-3, 3, 0, -3]  [2, 2, -7, -12, 19, 19, 19, -21, -21]    9  9   \n",
       "22   [3, 0, 1]   [3, -3, 0, 3]  [4, 4, -5, 15, 15, -19, -19, -19, 24]    9  9   \n",
       "\n",
       "    zmax                                   hidden  \n",
       "3     10    [{'S': 9, 'ψ': [(1, -10), (-4, -5)]}]  \n",
       "4     12   [{'S': 11, 'ψ': [(1, -12), (-3, -8)]}]  \n",
       "6     15   [{'S': 11, 'ψ': [(-5, -6), (4, -15)]}]  \n",
       "13    20    [{'S': 17, 'ψ': [(-3, 20), (2, 15)]}]  \n",
       "16    21    [{'S': 17, 'ψ': [(-4, 21), (3, 14)]}]  \n",
       "17    21  [{'S': 19, 'ψ': [(-7, -12), (2, -21)]}]  \n",
       "22    24    [{'S': 19, 'ψ': [(4, 15), (-5, 24)]}]  "
      ]
     },
     "execution_count": 35,
     "metadata": {},
     "output_type": "execute_result"
    }
   ],
   "source": [
    "hs3[hs3['hidden'].str[0].str['ψ'].apply(len)==hs3['hidden'].str[0].str['ψ'].apply(len).min()]"
   ]
  },
  {
   "cell_type": "markdown",
   "id": "66cc520a-9510-4473-b840-d205b193c5f0",
   "metadata": {},
   "source": [
    "### Extend the data scheme with number of generations"
   ]
  },
  {
   "cell_type": "code",
   "execution_count": 177,
   "id": "ee44f4cd-a196-45fd-b0f3-a0359897e363",
   "metadata": {},
   "outputs": [],
   "source": [
    "def get_Dirac_and_Majorana_generations(l,h):\n",
    "    g=[]\n",
    "    dgmax=0\n",
    "    mgmax=0\n",
    "    for idx in range(len(h)):\n",
    "        for x,y in h[idx].get('ψ'):\n",
    "            if x!=y and l.count(x)>dgmax and l.count(y)==l.count(x):\n",
    "                    dgmax=l.count(x)\n",
    "            if x==y and l.count(x)>mgmax:\n",
    "                    mgmax=l.count(x)\n",
    "        g.append({'DG':dgmax,'MG':mgmax})\n",
    "    return g\n",
    "l=[2, 2, -3, 15, 15, 20]\n",
    "h=[{'S': 17, 'ψ': [(2, 15), (20, -3)]}]\n",
    "assert get_Dirac_and_Majorana_generations(l,h)==[{'DG': 2, 'MG': 0}]"
   ]
  },
  {
   "cell_type": "code",
   "execution_count": 181,
   "id": "3a3d430a-3c6b-4a88-848d-fedd8bc3a780",
   "metadata": {},
   "outputs": [
    {
     "data": {
      "text/plain": [
       "0    [-1, -5, -3, -6, -4, -7]\n",
       "1       [-1, 2, -2, -7, 4, 0]\n",
       "2       [-1, 0, 1, -4, -2, 2]\n",
       "dtype: object"
      ]
     },
     "execution_count": 181,
     "metadata": {},
     "output_type": "execute_result"
    }
   ],
   "source": [
    "hs[:3].apply(lambda d: d['l']+d['k'],axis='columns')"
   ]
  },
  {
   "cell_type": "code",
   "execution_count": 182,
   "id": "92dbea03-8c25-4cc1-a146-e7a6e8ffd1a3",
   "metadata": {},
   "outputs": [],
   "source": [
    "hs['Generations']=hs.apply(lambda row: get_Dirac_and_Majorana_generations(row['solution'],row['hidden']),axis='columns')"
   ]
  },
  {
   "cell_type": "code",
   "execution_count": 38,
   "id": "f92422d5-fd46-446d-b075-161f7683ac41",
   "metadata": {},
   "outputs": [],
   "source": [
    "hs3['Generations']=hs3.apply(lambda row: get_Dirac_and_Majorana_generations(row['solution'],row['hidden']),axis='columns')"
   ]
  },
  {
   "cell_type": "code",
   "execution_count": 187,
   "id": "71a7cd0e-f693-4021-89ce-f6892e5e6af3",
   "metadata": {},
   "outputs": [],
   "source": [
    "hs['Gmax']=hs['Generations'].str[0].apply(lambda d: sum(d.values()))"
   ]
  },
  {
   "cell_type": "code",
   "execution_count": 188,
   "id": "75b0a0bd-0834-4f9a-8a3a-34e8d4191c79",
   "metadata": {},
   "outputs": [],
   "source": [
    "hs=hs.sort_values(['Gmax'],ascending=False).reset_index(drop=True)"
   ]
  },
  {
   "cell_type": "code",
   "execution_count": 189,
   "id": "68c0890a-d708-4edd-ae0b-f8752954146a",
   "metadata": {},
   "outputs": [
    {
     "data": {
      "text/html": [
       "<div>\n",
       "<style scoped>\n",
       "    .dataframe tbody tr th:only-of-type {\n",
       "        vertical-align: middle;\n",
       "    }\n",
       "\n",
       "    .dataframe tbody tr th {\n",
       "        vertical-align: top;\n",
       "    }\n",
       "\n",
       "    .dataframe thead th {\n",
       "        text-align: right;\n",
       "    }\n",
       "</style>\n",
       "<table border=\"1\" class=\"dataframe\">\n",
       "  <thead>\n",
       "    <tr style=\"text-align: right;\">\n",
       "      <th></th>\n",
       "      <th>l</th>\n",
       "      <th>k</th>\n",
       "      <th>solution</th>\n",
       "      <th>gcd</th>\n",
       "      <th>n</th>\n",
       "      <th>zmax</th>\n",
       "      <th>hidden</th>\n",
       "      <th>Generations</th>\n",
       "      <th>Gmax</th>\n",
       "    </tr>\n",
       "  </thead>\n",
       "  <tbody>\n",
       "    <tr>\n",
       "      <th>453</th>\n",
       "      <td>[1, 0, -2]</td>\n",
       "      <td>[-3, -1, 1]</td>\n",
       "      <td>[3, 3, 3, 5, -7, -9, -11, 13]</td>\n",
       "      <td>2</td>\n",
       "      <td>8</td>\n",
       "      <td>13</td>\n",
       "      <td>[{'S': 6, 'ψ': [(5, -11), (3, -9), (3, 3), (-7, 13)]}]</td>\n",
       "      <td>[{'DG': 1, 'MG': 3}]</td>\n",
       "      <td>4</td>\n",
       "    </tr>\n",
       "    <tr>\n",
       "      <th>454</th>\n",
       "      <td>[-1, 2, -2]</td>\n",
       "      <td>[-7, 4, 0]</td>\n",
       "      <td>[1, 2, 2, 2, -3, -5, -6, 7]</td>\n",
       "      <td>1</td>\n",
       "      <td>8</td>\n",
       "      <td>7</td>\n",
       "      <td>[{'S': 4, 'ψ': [(2, 2), (-3, 7), (1, -5), (2, -6)]}]</td>\n",
       "      <td>[{'DG': 1, 'MG': 3}]</td>\n",
       "      <td>4</td>\n",
       "    </tr>\n",
       "    <tr>\n",
       "      <th>455</th>\n",
       "      <td>[0, -1, -2]</td>\n",
       "      <td>[-1, -6, -5, -6]</td>\n",
       "      <td>[1, -6, -6, -6, 7, 11, 18, -19]</td>\n",
       "      <td>2</td>\n",
       "      <td>8</td>\n",
       "      <td>19</td>\n",
       "      <td>[{'S': 12, 'ψ': [(-6, -6), (-6, 18), (1, 11), (7, -19)]}]</td>\n",
       "      <td>[{'DG': 1, 'MG': 3}]</td>\n",
       "      <td>4</td>\n",
       "    </tr>\n",
       "    <tr>\n",
       "      <th>456</th>\n",
       "      <td>[-3, -4, -3]</td>\n",
       "      <td>[-5, 3, -7]</td>\n",
       "      <td>[3, 5, 5, 7, -9, -15, -15, 19]</td>\n",
       "      <td>2</td>\n",
       "      <td>8</td>\n",
       "      <td>19</td>\n",
       "      <td>[{'S': 10, 'ψ': [(3, 7), (5, -15), (-9, 19), (5, 5)]}]</td>\n",
       "      <td>[{'DG': 2, 'MG': 2}]</td>\n",
       "      <td>4</td>\n",
       "    </tr>\n",
       "    <tr>\n",
       "      <th>457</th>\n",
       "      <td>[3, 0, -5]</td>\n",
       "      <td>[-1, 1, -1]</td>\n",
       "      <td>[4, 4, 4, 11, -12, -13, -19, 21]</td>\n",
       "      <td>8</td>\n",
       "      <td>8</td>\n",
       "      <td>21</td>\n",
       "      <td>[{'S': 8, 'ψ': [(11, -19), (-13, 21), (4, 4), (4, -12)]}]</td>\n",
       "      <td>[{'DG': 1, 'MG': 3}]</td>\n",
       "      <td>4</td>\n",
       "    </tr>\n",
       "    <tr>\n",
       "      <th>...</th>\n",
       "      <td>...</td>\n",
       "      <td>...</td>\n",
       "      <td>...</td>\n",
       "      <td>...</td>\n",
       "      <td>...</td>\n",
       "      <td>...</td>\n",
       "      <td>...</td>\n",
       "      <td>...</td>\n",
       "      <td>...</td>\n",
       "    </tr>\n",
       "    <tr>\n",
       "      <th>9029</th>\n",
       "      <td>[-3, -2, 1]</td>\n",
       "      <td>[-7, -13, -1]</td>\n",
       "      <td>[3, 3, 5, 7, -9, -11, -15, 17]</td>\n",
       "      <td>2</td>\n",
       "      <td>8</td>\n",
       "      <td>17</td>\n",
       "      <td>[{'S': 8, 'ψ': [(-9, 17), (7, -15), (3, 5), (3, -11)]}]</td>\n",
       "      <td>[{'DG': 1, 'MG': 0}]</td>\n",
       "      <td>1</td>\n",
       "    </tr>\n",
       "    <tr>\n",
       "      <th>9030</th>\n",
       "      <td>[3, 2, -2]</td>\n",
       "      <td>[-9, -14, -4]</td>\n",
       "      <td>[1, -2, -3, 6, 9, -12, -16, 17]</td>\n",
       "      <td>1</td>\n",
       "      <td>8</td>\n",
       "      <td>17</td>\n",
       "      <td>[{'S': 15, 'ψ': [(-3, -12), (-2, 17), (1, -16), (6, 9)]}]</td>\n",
       "      <td>[{'DG': 1, 'MG': 0}]</td>\n",
       "      <td>1</td>\n",
       "    </tr>\n",
       "    <tr>\n",
       "      <th>9031</th>\n",
       "      <td>[0, -3, -4]</td>\n",
       "      <td>[-1, -5, -3, 2]</td>\n",
       "      <td>[1, 1, 2, -6, -10, 14, 15, -17]</td>\n",
       "      <td>1</td>\n",
       "      <td>8</td>\n",
       "      <td>17</td>\n",
       "      <td>[{'S': 16, 'ψ': [(2, 14), (1, 15), (-6, -10), (1, -17)]}]</td>\n",
       "      <td>[{'DG': 1, 'MG': 0}]</td>\n",
       "      <td>1</td>\n",
       "    </tr>\n",
       "    <tr>\n",
       "      <th>9032</th>\n",
       "      <td>[0, -2, -4]</td>\n",
       "      <td>[-3, -5, -6, -4]</td>\n",
       "      <td>[1, -6, -7, -9, 12, 12, 14, -17]</td>\n",
       "      <td>2</td>\n",
       "      <td>8</td>\n",
       "      <td>17</td>\n",
       "      <td>[{'S': 5, 'ψ': [(1, -6), (-9, 14), (12, -17), (-7, 12)]}]</td>\n",
       "      <td>[{'DG': 1, 'MG': 0}]</td>\n",
       "      <td>1</td>\n",
       "    </tr>\n",
       "    <tr>\n",
       "      <th>9033</th>\n",
       "      <td>[-4, 1, 5]</td>\n",
       "      <td>[-5, -3, -4, 0]</td>\n",
       "      <td>[4, -5, -7, 10, 11, -14, -16, 17]</td>\n",
       "      <td>1</td>\n",
       "      <td>8</td>\n",
       "      <td>17</td>\n",
       "      <td>[{'S': 21, 'ψ': [(-5, -16), (4, 17), (-7, -14), (10, 11)]}]</td>\n",
       "      <td>[{'DG': 1, 'MG': 0}]</td>\n",
       "      <td>1</td>\n",
       "    </tr>\n",
       "  </tbody>\n",
       "</table>\n",
       "<p>1773 rows × 9 columns</p>\n",
       "</div>"
      ],
      "text/plain": [
       "                 l                 k                           solution  gcd  \\\n",
       "453     [1, 0, -2]       [-3, -1, 1]      [3, 3, 3, 5, -7, -9, -11, 13]    2   \n",
       "454    [-1, 2, -2]        [-7, 4, 0]        [1, 2, 2, 2, -3, -5, -6, 7]    1   \n",
       "455    [0, -1, -2]  [-1, -6, -5, -6]    [1, -6, -6, -6, 7, 11, 18, -19]    2   \n",
       "456   [-3, -4, -3]       [-5, 3, -7]     [3, 5, 5, 7, -9, -15, -15, 19]    2   \n",
       "457     [3, 0, -5]       [-1, 1, -1]   [4, 4, 4, 11, -12, -13, -19, 21]    8   \n",
       "...            ...               ...                                ...  ...   \n",
       "9029   [-3, -2, 1]     [-7, -13, -1]     [3, 3, 5, 7, -9, -11, -15, 17]    2   \n",
       "9030    [3, 2, -2]     [-9, -14, -4]    [1, -2, -3, 6, 9, -12, -16, 17]    1   \n",
       "9031   [0, -3, -4]   [-1, -5, -3, 2]    [1, 1, 2, -6, -10, 14, 15, -17]    1   \n",
       "9032   [0, -2, -4]  [-3, -5, -6, -4]   [1, -6, -7, -9, 12, 12, 14, -17]    2   \n",
       "9033    [-4, 1, 5]   [-5, -3, -4, 0]  [4, -5, -7, 10, 11, -14, -16, 17]    1   \n",
       "\n",
       "      n  zmax                                                       hidden  \\\n",
       "453   8    13       [{'S': 6, 'ψ': [(5, -11), (3, -9), (3, 3), (-7, 13)]}]   \n",
       "454   8     7         [{'S': 4, 'ψ': [(2, 2), (-3, 7), (1, -5), (2, -6)]}]   \n",
       "455   8    19    [{'S': 12, 'ψ': [(-6, -6), (-6, 18), (1, 11), (7, -19)]}]   \n",
       "456   8    19       [{'S': 10, 'ψ': [(3, 7), (5, -15), (-9, 19), (5, 5)]}]   \n",
       "457   8    21    [{'S': 8, 'ψ': [(11, -19), (-13, 21), (4, 4), (4, -12)]}]   \n",
       "...  ..   ...                                                          ...   \n",
       "9029  8    17      [{'S': 8, 'ψ': [(-9, 17), (7, -15), (3, 5), (3, -11)]}]   \n",
       "9030  8    17    [{'S': 15, 'ψ': [(-3, -12), (-2, 17), (1, -16), (6, 9)]}]   \n",
       "9031  8    17    [{'S': 16, 'ψ': [(2, 14), (1, 15), (-6, -10), (1, -17)]}]   \n",
       "9032  8    17    [{'S': 5, 'ψ': [(1, -6), (-9, 14), (12, -17), (-7, 12)]}]   \n",
       "9033  8    17  [{'S': 21, 'ψ': [(-5, -16), (4, 17), (-7, -14), (10, 11)]}]   \n",
       "\n",
       "               Generations  Gmax  \n",
       "453   [{'DG': 1, 'MG': 3}]     4  \n",
       "454   [{'DG': 1, 'MG': 3}]     4  \n",
       "455   [{'DG': 1, 'MG': 3}]     4  \n",
       "456   [{'DG': 2, 'MG': 2}]     4  \n",
       "457   [{'DG': 1, 'MG': 3}]     4  \n",
       "...                    ...   ...  \n",
       "9029  [{'DG': 1, 'MG': 0}]     1  \n",
       "9030  [{'DG': 1, 'MG': 0}]     1  \n",
       "9031  [{'DG': 1, 'MG': 0}]     1  \n",
       "9032  [{'DG': 1, 'MG': 0}]     1  \n",
       "9033  [{'DG': 1, 'MG': 0}]     1  \n",
       "\n",
       "[1773 rows x 9 columns]"
      ]
     },
     "execution_count": 189,
     "metadata": {},
     "output_type": "execute_result"
    }
   ],
   "source": [
    "hs[hs['n']==8]"
   ]
  },
  {
   "cell_type": "code",
   "execution_count": 42,
   "id": "5d1b3a25-f7c5-408e-92da-0f1ca0764384",
   "metadata": {},
   "outputs": [
    {
     "data": {
      "text/html": [
       "<div>\n",
       "<style scoped>\n",
       "    .dataframe tbody tr th:only-of-type {\n",
       "        vertical-align: middle;\n",
       "    }\n",
       "\n",
       "    .dataframe tbody tr th {\n",
       "        vertical-align: top;\n",
       "    }\n",
       "\n",
       "    .dataframe thead th {\n",
       "        text-align: right;\n",
       "    }\n",
       "</style>\n",
       "<table border=\"1\" class=\"dataframe\">\n",
       "  <thead>\n",
       "    <tr style=\"text-align: right;\">\n",
       "      <th></th>\n",
       "      <th>l</th>\n",
       "      <th>k</th>\n",
       "      <th>solution</th>\n",
       "      <th>gcd</th>\n",
       "      <th>n</th>\n",
       "      <th>zmax</th>\n",
       "      <th>hidden</th>\n",
       "      <th>Generations</th>\n",
       "      <th>Gmax</th>\n",
       "    </tr>\n",
       "  </thead>\n",
       "  <tbody>\n",
       "    <tr>\n",
       "      <th>0</th>\n",
       "      <td>[1, -2, 2]</td>\n",
       "      <td>[2, -1, 0]</td>\n",
       "      <td>[1, 2, 2, 2, -3, -5, -6, 7]</td>\n",
       "      <td>1</td>\n",
       "      <td>8</td>\n",
       "      <td>7</td>\n",
       "      <td>[{'S': 4, 'ψ': [(2, 2), (-3, 7), (1, -5), (2, -6)]}]</td>\n",
       "      <td>[{'DG': 1, 'MG': 3}]</td>\n",
       "      <td>-4</td>\n",
       "    </tr>\n",
       "    <tr>\n",
       "      <th>1</th>\n",
       "      <td>[-3, -1, 2]</td>\n",
       "      <td>[1, 3, -3]</td>\n",
       "      <td>[3, 3, 3, 5, -7, -9, -11, 13]</td>\n",
       "      <td>12</td>\n",
       "      <td>8</td>\n",
       "      <td>13</td>\n",
       "      <td>[{'S': 6, 'ψ': [(5, -11), (3, -9), (3, 3), (-7, 13)]}]</td>\n",
       "      <td>[{'DG': 1, 'MG': 3}]</td>\n",
       "      <td>-4</td>\n",
       "    </tr>\n",
       "    <tr>\n",
       "      <th>2</th>\n",
       "      <td>[-3, 0, -1]</td>\n",
       "      <td>[1, 3, 1]</td>\n",
       "      <td>[3, 5, 5, 7, -9, -15, -15, 19]</td>\n",
       "      <td>4</td>\n",
       "      <td>8</td>\n",
       "      <td>19</td>\n",
       "      <td>[{'S': 10, 'ψ': [(3, 7), (5, -15), (-9, 19), (5, 5)]}]</td>\n",
       "      <td>[{'DG': 2, 'MG': 2}]</td>\n",
       "      <td>-4</td>\n",
       "    </tr>\n",
       "    <tr>\n",
       "      <th>3</th>\n",
       "      <td>[-1, 0, -5]</td>\n",
       "      <td>[3, 1, -1]</td>\n",
       "      <td>[1, -6, -6, -6, 7, 11, 18, -19]</td>\n",
       "      <td>8</td>\n",
       "      <td>8</td>\n",
       "      <td>19</td>\n",
       "      <td>[{'S': 12, 'ψ': [(-6, -6), (-6, 18), (1, 11), (7, -19)]}]</td>\n",
       "      <td>[{'DG': 1, 'MG': 3}]</td>\n",
       "      <td>-4</td>\n",
       "    </tr>\n",
       "    <tr>\n",
       "      <th>4</th>\n",
       "      <td>[3, 0, -5]</td>\n",
       "      <td>[-1, 1, -1]</td>\n",
       "      <td>[4, 4, 4, 11, -12, -13, -19, 21]</td>\n",
       "      <td>8</td>\n",
       "      <td>8</td>\n",
       "      <td>21</td>\n",
       "      <td>[{'S': 8, 'ψ': [(11, -19), (-13, 21), (4, 4), (4, -12)]}]</td>\n",
       "      <td>[{'DG': 1, 'MG': 3}]</td>\n",
       "      <td>-4</td>\n",
       "    </tr>\n",
       "    <tr>\n",
       "      <th>5</th>\n",
       "      <td>[1, -1, 1]</td>\n",
       "      <td>[1, 0, -2]</td>\n",
       "      <td>[1, 1, 2, 3, -4, -4, -5, 6]</td>\n",
       "      <td>2</td>\n",
       "      <td>8</td>\n",
       "      <td>6</td>\n",
       "      <td>[{'S': 2, 'ψ': [(3, -5), (2, -4), (-4, 6), (1, 1)]}]</td>\n",
       "      <td>[{'DG': 1, 'MG': 2}]</td>\n",
       "      <td>-3</td>\n",
       "    </tr>\n",
       "  </tbody>\n",
       "</table>\n",
       "</div>"
      ],
      "text/plain": [
       "             l            k                          solution  gcd  n  zmax  \\\n",
       "0   [1, -2, 2]   [2, -1, 0]       [1, 2, 2, 2, -3, -5, -6, 7]    1  8     7   \n",
       "1  [-3, -1, 2]   [1, 3, -3]     [3, 3, 3, 5, -7, -9, -11, 13]   12  8    13   \n",
       "2  [-3, 0, -1]    [1, 3, 1]    [3, 5, 5, 7, -9, -15, -15, 19]    4  8    19   \n",
       "3  [-1, 0, -5]   [3, 1, -1]   [1, -6, -6, -6, 7, 11, 18, -19]    8  8    19   \n",
       "4   [3, 0, -5]  [-1, 1, -1]  [4, 4, 4, 11, -12, -13, -19, 21]    8  8    21   \n",
       "5   [1, -1, 1]   [1, 0, -2]       [1, 1, 2, 3, -4, -4, -5, 6]    2  8     6   \n",
       "\n",
       "                                                      hidden  \\\n",
       "0       [{'S': 4, 'ψ': [(2, 2), (-3, 7), (1, -5), (2, -6)]}]   \n",
       "1     [{'S': 6, 'ψ': [(5, -11), (3, -9), (3, 3), (-7, 13)]}]   \n",
       "2     [{'S': 10, 'ψ': [(3, 7), (5, -15), (-9, 19), (5, 5)]}]   \n",
       "3  [{'S': 12, 'ψ': [(-6, -6), (-6, 18), (1, 11), (7, -19)]}]   \n",
       "4  [{'S': 8, 'ψ': [(11, -19), (-13, 21), (4, 4), (4, -12)]}]   \n",
       "5       [{'S': 2, 'ψ': [(3, -5), (2, -4), (-4, 6), (1, 1)]}]   \n",
       "\n",
       "            Generations  Gmax  \n",
       "0  [{'DG': 1, 'MG': 3}]    -4  \n",
       "1  [{'DG': 1, 'MG': 3}]    -4  \n",
       "2  [{'DG': 2, 'MG': 2}]    -4  \n",
       "3  [{'DG': 1, 'MG': 3}]    -4  \n",
       "4  [{'DG': 1, 'MG': 3}]    -4  \n",
       "5  [{'DG': 1, 'MG': 2}]    -3  "
      ]
     },
     "execution_count": 42,
     "metadata": {},
     "output_type": "execute_result"
    }
   ],
   "source": [
    "hs[hs['n']==8][:6]"
   ]
  },
  {
   "cell_type": "code",
   "execution_count": 43,
   "id": "9b3f865a-4711-4f65-92bb-0ab81cccf74a",
   "metadata": {},
   "outputs": [
    {
     "data": {
      "text/html": [
       "<div>\n",
       "<style scoped>\n",
       "    .dataframe tbody tr th:only-of-type {\n",
       "        vertical-align: middle;\n",
       "    }\n",
       "\n",
       "    .dataframe tbody tr th {\n",
       "        vertical-align: top;\n",
       "    }\n",
       "\n",
       "    .dataframe thead th {\n",
       "        text-align: right;\n",
       "    }\n",
       "</style>\n",
       "<table border=\"1\" class=\"dataframe\">\n",
       "  <thead>\n",
       "    <tr style=\"text-align: right;\">\n",
       "      <th></th>\n",
       "      <th>l</th>\n",
       "      <th>k</th>\n",
       "      <th>solution</th>\n",
       "      <th>gcd</th>\n",
       "      <th>n</th>\n",
       "      <th>zmax</th>\n",
       "      <th>hidden</th>\n",
       "      <th>Generations</th>\n",
       "      <th>Gmax</th>\n",
       "    </tr>\n",
       "  </thead>\n",
       "  <tbody>\n",
       "  </tbody>\n",
       "</table>\n",
       "</div>"
      ],
      "text/plain": [
       "Empty DataFrame\n",
       "Columns: [l, k, solution, gcd, n, zmax, hidden, Generations, Gmax]\n",
       "Index: []"
      ]
     },
     "execution_count": 43,
     "metadata": {},
     "output_type": "execute_result"
    }
   ],
   "source": [
    "hs[hs['n']==9][:3]"
   ]
  },
  {
   "cell_type": "code",
   "execution_count": 44,
   "id": "54ecbd30-0e04-4b5f-a122-21dcf5338c92",
   "metadata": {},
   "outputs": [
    {
     "data": {
      "text/html": [
       "<div>\n",
       "<style scoped>\n",
       "    .dataframe tbody tr th:only-of-type {\n",
       "        vertical-align: middle;\n",
       "    }\n",
       "\n",
       "    .dataframe tbody tr th {\n",
       "        vertical-align: top;\n",
       "    }\n",
       "\n",
       "    .dataframe thead th {\n",
       "        text-align: right;\n",
       "    }\n",
       "</style>\n",
       "<table border=\"1\" class=\"dataframe\">\n",
       "  <thead>\n",
       "    <tr style=\"text-align: right;\">\n",
       "      <th></th>\n",
       "      <th>l</th>\n",
       "      <th>k</th>\n",
       "      <th>solution</th>\n",
       "      <th>gcd</th>\n",
       "      <th>n</th>\n",
       "      <th>zmax</th>\n",
       "      <th>hidden</th>\n",
       "      <th>Generations</th>\n",
       "      <th>Gmax</th>\n",
       "    </tr>\n",
       "  </thead>\n",
       "  <tbody>\n",
       "  </tbody>\n",
       "</table>\n",
       "</div>"
      ],
      "text/plain": [
       "Empty DataFrame\n",
       "Columns: [l, k, solution, gcd, n, zmax, hidden, Generations, Gmax]\n",
       "Index: []"
      ]
     },
     "execution_count": 44,
     "metadata": {},
     "output_type": "execute_result"
    }
   ],
   "source": [
    "hs[hs['n']==11][:4]"
   ]
  },
  {
   "cell_type": "code",
   "execution_count": 45,
   "id": "4d833da6-307e-449c-bdd6-f21262951487",
   "metadata": {},
   "outputs": [
    {
     "data": {
      "text/html": [
       "<div>\n",
       "<style scoped>\n",
       "    .dataframe tbody tr th:only-of-type {\n",
       "        vertical-align: middle;\n",
       "    }\n",
       "\n",
       "    .dataframe tbody tr th {\n",
       "        vertical-align: top;\n",
       "    }\n",
       "\n",
       "    .dataframe thead th {\n",
       "        text-align: right;\n",
       "    }\n",
       "</style>\n",
       "<table border=\"1\" class=\"dataframe\">\n",
       "  <thead>\n",
       "    <tr style=\"text-align: right;\">\n",
       "      <th></th>\n",
       "      <th>l</th>\n",
       "      <th>k</th>\n",
       "      <th>solution</th>\n",
       "      <th>gcd</th>\n",
       "      <th>n</th>\n",
       "      <th>zmax</th>\n",
       "      <th>hidden</th>\n",
       "      <th>Generations</th>\n",
       "      <th>Gmax</th>\n",
       "    </tr>\n",
       "  </thead>\n",
       "  <tbody>\n",
       "    <tr>\n",
       "      <th>1388</th>\n",
       "      <td>[2, 0, -2, -4, -2]</td>\n",
       "      <td>[2, -2, 2, -3, -1]</td>\n",
       "      <td>[2, 2, 2, 2, 2, 2, 5, -6, -6, -7, -9, 11]</td>\n",
       "      <td>8</td>\n",
       "      <td>12</td>\n",
       "      <td>11</td>\n",
       "      <td>[{'S': 4, 'ψ': [(2, 2), (-7, 11), (5, -9), (2, -6)]}]</td>\n",
       "      <td>[{'DG': 1, 'MG': 6}]</td>\n",
       "      <td>-7</td>\n",
       "    </tr>\n",
       "    <tr>\n",
       "      <th>1389</th>\n",
       "      <td>[3, 5, 3, 0, 3]</td>\n",
       "      <td>[3, -2, 4, -3, 3]</td>\n",
       "      <td>[3, 3, 3, 3, 3, 3, 4, -8, -9, -9, -10, 14]</td>\n",
       "      <td>12</td>\n",
       "      <td>12</td>\n",
       "      <td>14</td>\n",
       "      <td>[{'S': 6, 'ψ': [(4, -10), (3, -9), (3, 3), (-8, 14)]}]</td>\n",
       "      <td>[{'DG': 1, 'MG': 6}]</td>\n",
       "      <td>-7</td>\n",
       "    </tr>\n",
       "    <tr>\n",
       "      <th>1390</th>\n",
       "      <td>[-2, 3, -7, -3, -7]</td>\n",
       "      <td>[-2, -6, -2, 2, 6]</td>\n",
       "      <td>[1, 1, 7, 7, 7, 7, 7, -11, -15, -15, -21, 25]</td>\n",
       "      <td>16</td>\n",
       "      <td>12</td>\n",
       "      <td>25</td>\n",
       "      <td>[{'S': 14, 'ψ': [(1, -15), (7, 7), (-11, 25), (7, -21)]}]</td>\n",
       "      <td>[{'DG': 2, 'MG': 5}]</td>\n",
       "      <td>-7</td>\n",
       "    </tr>\n",
       "    <tr>\n",
       "      <th>1391</th>\n",
       "      <td>[-7, 10, 5, -2, 6]</td>\n",
       "      <td>[-7, 1, -9, 3, -9]</td>\n",
       "      <td>[5, 5, 7, 7, 7, 7, 7, -15, -19, -19, -21, 29]</td>\n",
       "      <td>220</td>\n",
       "      <td>12</td>\n",
       "      <td>29</td>\n",
       "      <td>[{'S': 14, 'ψ': [(-15, 29), (7, 7), (7, -21), (5, -19)]}]</td>\n",
       "      <td>[{'DG': 2, 'MG': 5}]</td>\n",
       "      <td>-7</td>\n",
       "    </tr>\n",
       "  </tbody>\n",
       "</table>\n",
       "</div>"
      ],
      "text/plain": [
       "                        l                   k  \\\n",
       "1388   [2, 0, -2, -4, -2]  [2, -2, 2, -3, -1]   \n",
       "1389      [3, 5, 3, 0, 3]   [3, -2, 4, -3, 3]   \n",
       "1390  [-2, 3, -7, -3, -7]  [-2, -6, -2, 2, 6]   \n",
       "1391   [-7, 10, 5, -2, 6]  [-7, 1, -9, 3, -9]   \n",
       "\n",
       "                                           solution  gcd   n  zmax  \\\n",
       "1388      [2, 2, 2, 2, 2, 2, 5, -6, -6, -7, -9, 11]    8  12    11   \n",
       "1389     [3, 3, 3, 3, 3, 3, 4, -8, -9, -9, -10, 14]   12  12    14   \n",
       "1390  [1, 1, 7, 7, 7, 7, 7, -11, -15, -15, -21, 25]   16  12    25   \n",
       "1391  [5, 5, 7, 7, 7, 7, 7, -15, -19, -19, -21, 29]  220  12    29   \n",
       "\n",
       "                                                         hidden  \\\n",
       "1388      [{'S': 4, 'ψ': [(2, 2), (-7, 11), (5, -9), (2, -6)]}]   \n",
       "1389     [{'S': 6, 'ψ': [(4, -10), (3, -9), (3, 3), (-8, 14)]}]   \n",
       "1390  [{'S': 14, 'ψ': [(1, -15), (7, 7), (-11, 25), (7, -21)]}]   \n",
       "1391  [{'S': 14, 'ψ': [(-15, 29), (7, 7), (7, -21), (5, -19)]}]   \n",
       "\n",
       "               Generations  Gmax  \n",
       "1388  [{'DG': 1, 'MG': 6}]    -7  \n",
       "1389  [{'DG': 1, 'MG': 6}]    -7  \n",
       "1390  [{'DG': 2, 'MG': 5}]    -7  \n",
       "1391  [{'DG': 2, 'MG': 5}]    -7  "
      ]
     },
     "execution_count": 45,
     "metadata": {},
     "output_type": "execute_result"
    }
   ],
   "source": [
    "hs[hs['n']==12][:4]"
   ]
  },
  {
   "cell_type": "code",
   "execution_count": 46,
   "id": "92a5c991-081d-4627-bf07-da0ae1f449f2",
   "metadata": {},
   "outputs": [],
   "source": [
    "hs3['Gmax']=-hs3['Generations'].str[0].apply(lambda d: sum(d.values()))\n",
    "hs3=hs3.sort_values(['n','Gmax']).reset_index(drop=True)"
   ]
  },
  {
   "cell_type": "code",
   "execution_count": 47,
   "id": "ebd62377-8b1f-475b-bbc5-9a539794ef53",
   "metadata": {},
   "outputs": [
    {
     "data": {
      "text/html": [
       "<div>\n",
       "<style scoped>\n",
       "    .dataframe tbody tr th:only-of-type {\n",
       "        vertical-align: middle;\n",
       "    }\n",
       "\n",
       "    .dataframe tbody tr th {\n",
       "        vertical-align: top;\n",
       "    }\n",
       "\n",
       "    .dataframe thead th {\n",
       "        text-align: right;\n",
       "    }\n",
       "</style>\n",
       "<table border=\"1\" class=\"dataframe\">\n",
       "  <thead>\n",
       "    <tr style=\"text-align: right;\">\n",
       "      <th></th>\n",
       "      <th>l</th>\n",
       "      <th>k</th>\n",
       "      <th>solution</th>\n",
       "      <th>gcd</th>\n",
       "      <th>n</th>\n",
       "      <th>zmax</th>\n",
       "      <th>hidden</th>\n",
       "      <th>Generations</th>\n",
       "      <th>Gmax</th>\n",
       "    </tr>\n",
       "  </thead>\n",
       "  <tbody>\n",
       "    <tr>\n",
       "      <th>0</th>\n",
       "      <td>[-3, -1, 2]</td>\n",
       "      <td>[1, 3, -3]</td>\n",
       "      <td>[3, 3, 3, 5, -7, -9, -11, 13]</td>\n",
       "      <td>12</td>\n",
       "      <td>8</td>\n",
       "      <td>13</td>\n",
       "      <td>[{'S': 18, 'ψ': [(-7, -11), (-9, -9), (5, 13)]}]</td>\n",
       "      <td>[{'DG': 1, 'MG': 1}]</td>\n",
       "      <td>-2</td>\n",
       "    </tr>\n",
       "  </tbody>\n",
       "</table>\n",
       "</div>"
      ],
      "text/plain": [
       "             l           k                       solution  gcd  n  zmax  \\\n",
       "0  [-3, -1, 2]  [1, 3, -3]  [3, 3, 3, 5, -7, -9, -11, 13]   12  8    13   \n",
       "\n",
       "                                             hidden           Generations  \\\n",
       "0  [{'S': 18, 'ψ': [(-7, -11), (-9, -9), (5, 13)]}]  [{'DG': 1, 'MG': 1}]   \n",
       "\n",
       "   Gmax  \n",
       "0    -2  "
      ]
     },
     "execution_count": 47,
     "metadata": {},
     "output_type": "execute_result"
    }
   ],
   "source": [
    "hs3[hs3['n']==8][:1]"
   ]
  },
  {
   "cell_type": "code",
   "execution_count": 48,
   "id": "ef353d09-4292-47c0-aa98-d4e2711b8873",
   "metadata": {},
   "outputs": [
    {
     "data": {
      "text/html": [
       "<div>\n",
       "<style scoped>\n",
       "    .dataframe tbody tr th:only-of-type {\n",
       "        vertical-align: middle;\n",
       "    }\n",
       "\n",
       "    .dataframe tbody tr th {\n",
       "        vertical-align: top;\n",
       "    }\n",
       "\n",
       "    .dataframe thead th {\n",
       "        text-align: right;\n",
       "    }\n",
       "</style>\n",
       "<table border=\"1\" class=\"dataframe\">\n",
       "  <thead>\n",
       "    <tr style=\"text-align: right;\">\n",
       "      <th></th>\n",
       "      <th>l</th>\n",
       "      <th>k</th>\n",
       "      <th>solution</th>\n",
       "      <th>gcd</th>\n",
       "      <th>n</th>\n",
       "      <th>zmax</th>\n",
       "      <th>hidden</th>\n",
       "      <th>Generations</th>\n",
       "      <th>Gmax</th>\n",
       "    </tr>\n",
       "  </thead>\n",
       "  <tbody>\n",
       "    <tr>\n",
       "      <th>2</th>\n",
       "      <td>[-2, -3, 0]</td>\n",
       "      <td>[1, 2, 3, 2]</td>\n",
       "      <td>[5, 6, 6, 6, -8, -9, -9, -10, 13]</td>\n",
       "      <td>4</td>\n",
       "      <td>9</td>\n",
       "      <td>13</td>\n",
       "      <td>[{'S': 18, 'ψ': [(-9, -9), (-8, -10), (5, 13)]}]</td>\n",
       "      <td>[{'DG': 1, 'MG': 2}]</td>\n",
       "      <td>-3</td>\n",
       "    </tr>\n",
       "    <tr>\n",
       "      <th>3</th>\n",
       "      <td>[-4, -2, 1]</td>\n",
       "      <td>[2, -4, 4, -2]</td>\n",
       "      <td>[1, -2, 6, 6, 6, -9, -9, -16, 17]</td>\n",
       "      <td>16</td>\n",
       "      <td>9</td>\n",
       "      <td>17</td>\n",
       "      <td>[{'S': 18, 'ψ': [(-9, -9), (1, 17), (-2, -16)]}]</td>\n",
       "      <td>[{'DG': 1, 'MG': 2}]</td>\n",
       "      <td>-3</td>\n",
       "    </tr>\n",
       "    <tr>\n",
       "      <th>4</th>\n",
       "      <td>[-2, 0, 2]</td>\n",
       "      <td>[-2, 1, 0, -2]</td>\n",
       "      <td>[1, 1, -4, -5, 9, 9, 9, -10, -10]</td>\n",
       "      <td>4</td>\n",
       "      <td>9</td>\n",
       "      <td>10</td>\n",
       "      <td>[{'S': 9, 'ψ': [(1, -10), (-4, -5)]}]</td>\n",
       "      <td>[{'DG': 2, 'MG': 0}]</td>\n",
       "      <td>-2</td>\n",
       "    </tr>\n",
       "    <tr>\n",
       "      <th>5</th>\n",
       "      <td>[1, 0, -1]</td>\n",
       "      <td>[-3, 3, 0, -3]</td>\n",
       "      <td>[1, 1, -3, -8, 11, 11, 11, -12, -12]</td>\n",
       "      <td>9</td>\n",
       "      <td>9</td>\n",
       "      <td>12</td>\n",
       "      <td>[{'S': 11, 'ψ': [(1, -12), (-3, -8)]}]</td>\n",
       "      <td>[{'DG': 2, 'MG': 0}]</td>\n",
       "      <td>-2</td>\n",
       "    </tr>\n",
       "  </tbody>\n",
       "</table>\n",
       "</div>"
      ],
      "text/plain": [
       "             l               k                              solution  gcd  n  \\\n",
       "2  [-2, -3, 0]    [1, 2, 3, 2]     [5, 6, 6, 6, -8, -9, -9, -10, 13]    4  9   \n",
       "3  [-4, -2, 1]  [2, -4, 4, -2]     [1, -2, 6, 6, 6, -9, -9, -16, 17]   16  9   \n",
       "4   [-2, 0, 2]  [-2, 1, 0, -2]     [1, 1, -4, -5, 9, 9, 9, -10, -10]    4  9   \n",
       "5   [1, 0, -1]  [-3, 3, 0, -3]  [1, 1, -3, -8, 11, 11, 11, -12, -12]    9  9   \n",
       "\n",
       "   zmax                                            hidden  \\\n",
       "2    13  [{'S': 18, 'ψ': [(-9, -9), (-8, -10), (5, 13)]}]   \n",
       "3    17  [{'S': 18, 'ψ': [(-9, -9), (1, 17), (-2, -16)]}]   \n",
       "4    10             [{'S': 9, 'ψ': [(1, -10), (-4, -5)]}]   \n",
       "5    12            [{'S': 11, 'ψ': [(1, -12), (-3, -8)]}]   \n",
       "\n",
       "            Generations  Gmax  \n",
       "2  [{'DG': 1, 'MG': 2}]    -3  \n",
       "3  [{'DG': 1, 'MG': 2}]    -3  \n",
       "4  [{'DG': 2, 'MG': 0}]    -2  \n",
       "5  [{'DG': 2, 'MG': 0}]    -2  "
      ]
     },
     "execution_count": 48,
     "metadata": {},
     "output_type": "execute_result"
    }
   ],
   "source": [
    "hs3[hs3['n']==9][:4]"
   ]
  },
  {
   "cell_type": "code",
   "execution_count": 49,
   "id": "1a2dfd23-be61-4e2b-aa5a-06ae9e664752",
   "metadata": {},
   "outputs": [
    {
     "data": {
      "text/html": [
       "<div>\n",
       "<style scoped>\n",
       "    .dataframe tbody tr th:only-of-type {\n",
       "        vertical-align: middle;\n",
       "    }\n",
       "\n",
       "    .dataframe tbody tr th {\n",
       "        vertical-align: top;\n",
       "    }\n",
       "\n",
       "    .dataframe thead th {\n",
       "        text-align: right;\n",
       "    }\n",
       "</style>\n",
       "<table border=\"1\" class=\"dataframe\">\n",
       "  <thead>\n",
       "    <tr style=\"text-align: right;\">\n",
       "      <th></th>\n",
       "      <th>l</th>\n",
       "      <th>k</th>\n",
       "      <th>solution</th>\n",
       "      <th>gcd</th>\n",
       "      <th>n</th>\n",
       "      <th>zmax</th>\n",
       "      <th>hidden</th>\n",
       "      <th>Generations</th>\n",
       "      <th>Gmax</th>\n",
       "    </tr>\n",
       "  </thead>\n",
       "  <tbody>\n",
       "    <tr>\n",
       "      <th>37</th>\n",
       "      <td>[3, -3, 0, 6]</td>\n",
       "      <td>[3, -2, -3, -4]</td>\n",
       "      <td>[3, 3, 3, -4, 9, 9, -10, -14, -27, 28]</td>\n",
       "      <td>18</td>\n",
       "      <td>10</td>\n",
       "      <td>28</td>\n",
       "      <td>[{'S': 18, 'ψ': [(-10, 28), (-4, -14), (9, -27), (9, 9)]}]</td>\n",
       "      <td>[{'DG': 1, 'MG': 2}]</td>\n",
       "      <td>-3</td>\n",
       "    </tr>\n",
       "    <tr>\n",
       "      <th>38</th>\n",
       "      <td>[3, -3, 5, -2]</td>\n",
       "      <td>[3, 5, -3, 1]</td>\n",
       "      <td>[1, -3, -3, -3, -9, -9, 11, 17, 27, -29]</td>\n",
       "      <td>10</td>\n",
       "      <td>10</td>\n",
       "      <td>29</td>\n",
       "      <td>[{'S': 18, 'ψ': [(-9, 27), (11, -29), (1, 17), (-9, -9)]}]</td>\n",
       "      <td>[{'DG': 1, 'MG': 2}]</td>\n",
       "      <td>-3</td>\n",
       "    </tr>\n",
       "    <tr>\n",
       "      <th>39</th>\n",
       "      <td>[-3, -1, -3, -1]</td>\n",
       "      <td>[-3, 0, 2, -1]</td>\n",
       "      <td>[3, 3, 3, 4, -6, -7, 9, -11, -12, 14]</td>\n",
       "      <td>6</td>\n",
       "      <td>10</td>\n",
       "      <td>14</td>\n",
       "      <td>[{'S': 18, 'ψ': [(-6, -12), (4, 14), (-7, -11), (9, 9)]}]</td>\n",
       "      <td>[{'DG': 1, 'MG': 1}]</td>\n",
       "      <td>-2</td>\n",
       "    </tr>\n",
       "    <tr>\n",
       "      <th>40</th>\n",
       "      <td>[-1, 0, 2, -1]</td>\n",
       "      <td>[3, -3, 3, -1]</td>\n",
       "      <td>[1, -5, -7, 9, -11, -13, 15, 15, 15, -19]</td>\n",
       "      <td>4</td>\n",
       "      <td>10</td>\n",
       "      <td>19</td>\n",
       "      <td>[{'S': 18, 'ψ': [(-5, -13), (1, -19), (-7, -11), (9, 9)]}]</td>\n",
       "      <td>[{'DG': 1, 'MG': 1}]</td>\n",
       "      <td>-2</td>\n",
       "    </tr>\n",
       "    <tr>\n",
       "      <th>41</th>\n",
       "      <td>[-2, 1, 0, 3]</td>\n",
       "      <td>[3, 0, -3, 1]</td>\n",
       "      <td>[1, -2, 3, 3, 3, -6, 9, -12, -19, 20]</td>\n",
       "      <td>6</td>\n",
       "      <td>10</td>\n",
       "      <td>20</td>\n",
       "      <td>[{'S': 18, 'ψ': [(-2, 20), (-6, -12), (1, -19), (9, 9)]}]</td>\n",
       "      <td>[{'DG': 1, 'MG': 1}]</td>\n",
       "      <td>-2</td>\n",
       "    </tr>\n",
       "  </tbody>\n",
       "</table>\n",
       "</div>"
      ],
      "text/plain": [
       "                   l                k  \\\n",
       "37     [3, -3, 0, 6]  [3, -2, -3, -4]   \n",
       "38    [3, -3, 5, -2]    [3, 5, -3, 1]   \n",
       "39  [-3, -1, -3, -1]   [-3, 0, 2, -1]   \n",
       "40    [-1, 0, 2, -1]   [3, -3, 3, -1]   \n",
       "41     [-2, 1, 0, 3]    [3, 0, -3, 1]   \n",
       "\n",
       "                                     solution  gcd   n  zmax  \\\n",
       "37     [3, 3, 3, -4, 9, 9, -10, -14, -27, 28]   18  10    28   \n",
       "38   [1, -3, -3, -3, -9, -9, 11, 17, 27, -29]   10  10    29   \n",
       "39      [3, 3, 3, 4, -6, -7, 9, -11, -12, 14]    6  10    14   \n",
       "40  [1, -5, -7, 9, -11, -13, 15, 15, 15, -19]    4  10    19   \n",
       "41      [1, -2, 3, 3, 3, -6, 9, -12, -19, 20]    6  10    20   \n",
       "\n",
       "                                                        hidden  \\\n",
       "37  [{'S': 18, 'ψ': [(-10, 28), (-4, -14), (9, -27), (9, 9)]}]   \n",
       "38  [{'S': 18, 'ψ': [(-9, 27), (11, -29), (1, 17), (-9, -9)]}]   \n",
       "39   [{'S': 18, 'ψ': [(-6, -12), (4, 14), (-7, -11), (9, 9)]}]   \n",
       "40  [{'S': 18, 'ψ': [(-5, -13), (1, -19), (-7, -11), (9, 9)]}]   \n",
       "41   [{'S': 18, 'ψ': [(-2, 20), (-6, -12), (1, -19), (9, 9)]}]   \n",
       "\n",
       "             Generations  Gmax  \n",
       "37  [{'DG': 1, 'MG': 2}]    -3  \n",
       "38  [{'DG': 1, 'MG': 2}]    -3  \n",
       "39  [{'DG': 1, 'MG': 1}]    -2  \n",
       "40  [{'DG': 1, 'MG': 1}]    -2  \n",
       "41  [{'DG': 1, 'MG': 1}]    -2  "
      ]
     },
     "execution_count": 49,
     "metadata": {},
     "output_type": "execute_result"
    }
   ],
   "source": [
    "hs3[hs3['n']==10][:5]"
   ]
  },
  {
   "cell_type": "code",
   "execution_count": 50,
   "id": "2b0f69f7-c511-454f-8670-ecccfc31b151",
   "metadata": {},
   "outputs": [
    {
     "data": {
      "text/html": [
       "<div>\n",
       "<style scoped>\n",
       "    .dataframe tbody tr th:only-of-type {\n",
       "        vertical-align: middle;\n",
       "    }\n",
       "\n",
       "    .dataframe tbody tr th {\n",
       "        vertical-align: top;\n",
       "    }\n",
       "\n",
       "    .dataframe thead th {\n",
       "        text-align: right;\n",
       "    }\n",
       "</style>\n",
       "<table border=\"1\" class=\"dataframe\">\n",
       "  <thead>\n",
       "    <tr style=\"text-align: right;\">\n",
       "      <th></th>\n",
       "      <th>l</th>\n",
       "      <th>k</th>\n",
       "      <th>solution</th>\n",
       "      <th>gcd</th>\n",
       "      <th>n</th>\n",
       "      <th>zmax</th>\n",
       "      <th>hidden</th>\n",
       "      <th>Generations</th>\n",
       "      <th>Gmax</th>\n",
       "    </tr>\n",
       "  </thead>\n",
       "  <tbody>\n",
       "    <tr>\n",
       "      <th>43</th>\n",
       "      <td>[-4, 0, 2, 0]</td>\n",
       "      <td>[-4, 4, -4, 3, -3]</td>\n",
       "      <td>[4, 5, 8, -9, -9, 10, -12, -12, -12, 13, 14]</td>\n",
       "      <td>64</td>\n",
       "      <td>11</td>\n",
       "      <td>14</td>\n",
       "      <td>[{'S': 18, 'ψ': [(5, 13), (4, 14), (-9, -9), (8, 10)]}]</td>\n",
       "      <td>[{'DG': 1, 'MG': 2}]</td>\n",
       "      <td>-3</td>\n",
       "    </tr>\n",
       "    <tr>\n",
       "      <th>44</th>\n",
       "      <td>[-8, -2, 6, 1]</td>\n",
       "      <td>[5, -5, -6, -2, -9]</td>\n",
       "      <td>[1, -5, 9, 9, -11, 17, 23, -24, -24, -24, 29]</td>\n",
       "      <td>73</td>\n",
       "      <td>11</td>\n",
       "      <td>29</td>\n",
       "      <td>[{'S': 18, 'ψ': [(-11, 29), (-5, 23), (1, 17), (9, 9)]}]</td>\n",
       "      <td>[{'DG': 1, 'MG': 2}]</td>\n",
       "      <td>-3</td>\n",
       "    </tr>\n",
       "  </tbody>\n",
       "</table>\n",
       "</div>"
      ],
      "text/plain": [
       "                 l                    k  \\\n",
       "43   [-4, 0, 2, 0]   [-4, 4, -4, 3, -3]   \n",
       "44  [-8, -2, 6, 1]  [5, -5, -6, -2, -9]   \n",
       "\n",
       "                                         solution  gcd   n  zmax  \\\n",
       "43   [4, 5, 8, -9, -9, 10, -12, -12, -12, 13, 14]   64  11    14   \n",
       "44  [1, -5, 9, 9, -11, 17, 23, -24, -24, -24, 29]   73  11    29   \n",
       "\n",
       "                                                      hidden  \\\n",
       "43   [{'S': 18, 'ψ': [(5, 13), (4, 14), (-9, -9), (8, 10)]}]   \n",
       "44  [{'S': 18, 'ψ': [(-11, 29), (-5, 23), (1, 17), (9, 9)]}]   \n",
       "\n",
       "             Generations  Gmax  \n",
       "43  [{'DG': 1, 'MG': 2}]    -3  \n",
       "44  [{'DG': 1, 'MG': 2}]    -3  "
      ]
     },
     "execution_count": 50,
     "metadata": {},
     "output_type": "execute_result"
    }
   ],
   "source": [
    "hs3[hs3['n']==11][:2]"
   ]
  },
  {
   "cell_type": "code",
   "execution_count": 51,
   "id": "482d9bd4-17bb-4987-bc25-49b1fe5c8e28",
   "metadata": {},
   "outputs": [
    {
     "data": {
      "text/html": [
       "<div>\n",
       "<style scoped>\n",
       "    .dataframe tbody tr th:only-of-type {\n",
       "        vertical-align: middle;\n",
       "    }\n",
       "\n",
       "    .dataframe tbody tr th {\n",
       "        vertical-align: top;\n",
       "    }\n",
       "\n",
       "    .dataframe thead th {\n",
       "        text-align: right;\n",
       "    }\n",
       "</style>\n",
       "<table border=\"1\" class=\"dataframe\">\n",
       "  <thead>\n",
       "    <tr style=\"text-align: right;\">\n",
       "      <th></th>\n",
       "      <th>l</th>\n",
       "      <th>k</th>\n",
       "      <th>solution</th>\n",
       "      <th>gcd</th>\n",
       "      <th>n</th>\n",
       "      <th>zmax</th>\n",
       "      <th>hidden</th>\n",
       "      <th>Generations</th>\n",
       "      <th>Gmax</th>\n",
       "    </tr>\n",
       "  </thead>\n",
       "  <tbody>\n",
       "    <tr>\n",
       "      <th>107</th>\n",
       "      <td>[-1, -6, -5, 1, 7]</td>\n",
       "      <td>[-4, -7, -2, 7, 4]</td>\n",
       "      <td>[2, 8, -9, -9, -9, -9, -9, 10, 15, 15, 15, -20]</td>\n",
       "      <td>126</td>\n",
       "      <td>12</td>\n",
       "      <td>20</td>\n",
       "      <td>[{'S': 18, 'ψ': [(-9, -9), (8, 10), (2, -20)]}]</td>\n",
       "      <td>[{'DG': 1, 'MG': 5}]</td>\n",
       "      <td>-6</td>\n",
       "    </tr>\n",
       "    <tr>\n",
       "      <th>108</th>\n",
       "      <td>[9, 6, 8, 5, 3]</td>\n",
       "      <td>[9, 3, -10, 1, 2]</td>\n",
       "      <td>[4, -8, 9, 9, 9, 9, 9, -15, -15, -15, -22, 26]</td>\n",
       "      <td>324</td>\n",
       "      <td>12</td>\n",
       "      <td>26</td>\n",
       "      <td>[{'S': 18, 'ψ': [(4, -22), (9, 9), (-8, 26)]}]</td>\n",
       "      <td>[{'DG': 1, 'MG': 5}]</td>\n",
       "      <td>-6</td>\n",
       "    </tr>\n",
       "    <tr>\n",
       "      <th>109</th>\n",
       "      <td>[-3, -9, 0, -3, 3]</td>\n",
       "      <td>[9, -10, -9, -3, 4]</td>\n",
       "      <td>[2, 3, 3, 3, -9, -9, -9, -9, 10, 16, 27, -28]</td>\n",
       "      <td>36</td>\n",
       "      <td>12</td>\n",
       "      <td>28</td>\n",
       "      <td>[{'S': 18, 'ψ': [(-9, 27), (10, -28), (2, 16), (-9, -9)]}]</td>\n",
       "      <td>[{'DG': 1, 'MG': 4}]</td>\n",
       "      <td>-5</td>\n",
       "    </tr>\n",
       "    <tr>\n",
       "      <th>110</th>\n",
       "      <td>[-1, 3, 2, 3, -1]</td>\n",
       "      <td>[3, -3, -1, -3, -1]</td>\n",
       "      <td>[1, 1, 3, 3, 3, 5, 5, -7, -9, -9, -9, 13]</td>\n",
       "      <td>8</td>\n",
       "      <td>12</td>\n",
       "      <td>13</td>\n",
       "      <td>[{'S': 6, 'ψ': [(1, 5), (3, 3), (-7, 13), (1, -7)]}]</td>\n",
       "      <td>[{'DG': 2, 'MG': 3}]</td>\n",
       "      <td>-5</td>\n",
       "    </tr>\n",
       "    <tr>\n",
       "      <th>111</th>\n",
       "      <td>[1, 3, 2, 0, -3]</td>\n",
       "      <td>[-3, -2, -1, -2, -3]</td>\n",
       "      <td>[3, 3, 3, 6, 7, -8, -9, -9, -9, -10, 11, 12]</td>\n",
       "      <td>8</td>\n",
       "      <td>12</td>\n",
       "      <td>12</td>\n",
       "      <td>[{'S': 18, 'ψ': [(6, 12), (-9, -9), (-8, -10), (7, 11)]}]</td>\n",
       "      <td>[{'DG': 1, 'MG': 3}]</td>\n",
       "      <td>-4</td>\n",
       "    </tr>\n",
       "  </tbody>\n",
       "</table>\n",
       "</div>"
      ],
      "text/plain": [
       "                      l                     k  \\\n",
       "107  [-1, -6, -5, 1, 7]    [-4, -7, -2, 7, 4]   \n",
       "108     [9, 6, 8, 5, 3]     [9, 3, -10, 1, 2]   \n",
       "109  [-3, -9, 0, -3, 3]   [9, -10, -9, -3, 4]   \n",
       "110   [-1, 3, 2, 3, -1]   [3, -3, -1, -3, -1]   \n",
       "111    [1, 3, 2, 0, -3]  [-3, -2, -1, -2, -3]   \n",
       "\n",
       "                                            solution  gcd   n  zmax  \\\n",
       "107  [2, 8, -9, -9, -9, -9, -9, 10, 15, 15, 15, -20]  126  12    20   \n",
       "108   [4, -8, 9, 9, 9, 9, 9, -15, -15, -15, -22, 26]  324  12    26   \n",
       "109    [2, 3, 3, 3, -9, -9, -9, -9, 10, 16, 27, -28]   36  12    28   \n",
       "110        [1, 1, 3, 3, 3, 5, 5, -7, -9, -9, -9, 13]    8  12    13   \n",
       "111     [3, 3, 3, 6, 7, -8, -9, -9, -9, -10, 11, 12]    8  12    12   \n",
       "\n",
       "                                                         hidden  \\\n",
       "107             [{'S': 18, 'ψ': [(-9, -9), (8, 10), (2, -20)]}]   \n",
       "108              [{'S': 18, 'ψ': [(4, -22), (9, 9), (-8, 26)]}]   \n",
       "109  [{'S': 18, 'ψ': [(-9, 27), (10, -28), (2, 16), (-9, -9)]}]   \n",
       "110        [{'S': 6, 'ψ': [(1, 5), (3, 3), (-7, 13), (1, -7)]}]   \n",
       "111   [{'S': 18, 'ψ': [(6, 12), (-9, -9), (-8, -10), (7, 11)]}]   \n",
       "\n",
       "              Generations  Gmax  \n",
       "107  [{'DG': 1, 'MG': 5}]    -6  \n",
       "108  [{'DG': 1, 'MG': 5}]    -6  \n",
       "109  [{'DG': 1, 'MG': 4}]    -5  \n",
       "110  [{'DG': 2, 'MG': 3}]    -5  \n",
       "111  [{'DG': 1, 'MG': 3}]    -4  "
      ]
     },
     "execution_count": 51,
     "metadata": {},
     "output_type": "execute_result"
    }
   ],
   "source": [
    "hs3[hs3['n']==12][:5]"
   ]
  },
  {
   "cell_type": "code",
   "execution_count": 52,
   "id": "c6c41163-11f1-47da-85ff-df521abc0464",
   "metadata": {},
   "outputs": [],
   "source": []
  },
  {
   "cell_type": "code",
   "execution_count": 110,
   "id": "421a1697-e724-4638-87bc-b85c7b0e1c09",
   "metadata": {},
   "outputs": [],
   "source": [
    "import csv as CSV\n",
    "class read_csv:\n",
    "    def __init__(self,f):\n",
    "        self.data=[]\n",
    "        f=open(f,'r')\n",
    "        dt=CSV.reader(f)\n",
    "        for row in dt:\n",
    "              self.data.append(row)\n",
    "        f.close()\n",
    "    def to_json(self):\n",
    "        return [dict(zip(data[0],d)) for d in self.data[1:]]"
   ]
  },
  {
   "cell_type": "code",
   "execution_count": 111,
   "id": "5f4cbb59-eb88-453c-a491-7d1a4e970975",
   "metadata": {},
   "outputs": [],
   "source": [
    "csv=read_csv('test.csv')"
   ]
  },
  {
   "cell_type": "code",
   "execution_count": 112,
   "id": "61be53a9-22cd-49c9-97e3-5c8e8e4c4017",
   "metadata": {},
   "outputs": [
    {
     "data": {
      "text/plain": [
       "[['A', 'B'], ['1', '2'], ['3', '4']]"
      ]
     },
     "execution_count": 112,
     "metadata": {},
     "output_type": "execute_result"
    }
   ],
   "source": [
    "csv.data"
   ]
  },
  {
   "cell_type": "code",
   "execution_count": 113,
   "id": "3a2405da-8b09-480b-993b-58a16e29dab8",
   "metadata": {},
   "outputs": [
    {
     "data": {
      "text/plain": [
       "[{'A': '1', 'B': '2'}, {'A': '3', 'B': '4'}]"
      ]
     },
     "execution_count": 113,
     "metadata": {},
     "output_type": "execute_result"
    }
   ],
   "source": [
    "csv.to_json()"
   ]
  },
  {
   "cell_type": "code",
   "execution_count": null,
   "id": "1eb0f7d3-8f69-4212-b367-74f0664f38af",
   "metadata": {},
   "outputs": [],
   "source": []
  }
 ],
 "metadata": {
  "kernelspec": {
   "display_name": "Python 3 (ipykernel)",
   "language": "python",
   "name": "python3"
  },
  "language_info": {
   "codemirror_mode": {
    "name": "ipython",
    "version": 3
   },
   "file_extension": ".py",
   "mimetype": "text/x-python",
   "name": "python",
   "nbconvert_exporter": "python",
   "pygments_lexer": "ipython3",
   "version": "3.9.2"
  },
  "vscode": {
   "interpreter": {
    "hash": "31f2aee4e71d21fbe5cf8b01ff0e069b9275f58929596ceb00d14d90e3e16cd6"
   }
  }
 },
 "nbformat": 4,
 "nbformat_minor": 5
}
