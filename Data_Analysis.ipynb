{
 "cells": [
  {
   "cell_type": "markdown",
   "id": "2cf03b5f-6f5f-4607-b0bc-4603b5217b12",
   "metadata": {},
   "source": [
    "# Data Analysis"
   ]
  },
  {
   "cell_type": "markdown",
   "id": "546374fd-35ad-4edf-bd12-7a93b9ebc168",
   "metadata": {
    "tags": []
   },
   "source": [
    "## Solutions object\n",
    "Obtain the Hidden Sector from: https://zenodo.org/record/5526707#.YzwIANJBzeQ and add the missing the column `Hidden Sector` of the following data scheme\n",
    "\n",
    "![img](./squeme.svg)\n",
    "\n",
    "### Example of entry"
   ]
  },
  {
   "cell_type": "code",
   "execution_count": 1,
   "id": "4c8e4e30-7e06-4eb7-87dc-2ec66a4da634",
   "metadata": {},
   "outputs": [],
   "source": [
    "from IPython.display import JSON \n",
    "import pandas as pd"
   ]
  },
  {
   "cell_type": "code",
   "execution_count": 2,
   "id": "5435d361-7da1-474f-be82-a80dd09f6ada",
   "metadata": {},
   "outputs": [
    {
     "data": {
      "application/json": {
       "A": 1
      },
      "text/plain": [
       "<IPython.core.display.JSON object>"
      ]
     },
     "execution_count": 2,
     "metadata": {
      "application/json": {
       "expanded": false,
       "root": "root"
      }
     },
     "output_type": "execute_result"
    }
   ],
   "source": [
    "JSON({'A':1})"
   ]
  },
  {
   "cell_type": "code",
   "execution_count": 3,
   "id": "b20efcf5-186a-4e1c-ba06-f261c49fb7af",
   "metadata": {},
   "outputs": [
    {
     "data": {
      "application/json": [
       {
        "gcd": 1,
        "hidden": [
         {
          "S": 6,
          "ψ": [
           [
            1,
            5
           ],
           [
            2,
            4
           ],
           [
            -3
           ]
          ]
         }
        ],
        "k": [
         2
        ],
        "l": [
         1,
         3
        ],
        "n": 5,
        "solution": [
         1,
         2,
         -3,
         4,
         5
        ]
       }
      ],
      "text/plain": [
       "<IPython.core.display.JSON object>"
      ]
     },
     "execution_count": 3,
     "metadata": {
      "application/json": {
       "expanded": false,
       "root": "root"
      }
     },
     "output_type": "execute_result"
    }
   ],
   "source": [
    "JSON(([{'l':[1,3],'k':[2],\n",
    "       'solution':[1,2,-3,4,5],'gcd':1,'n':5,\n",
    "      'hidden':[{'ψ':[(1,5),(2,4),(-3,)],\n",
    "                 'S':6}\n",
    "               ]\n",
    "             }] \n",
    "            )\n",
    "    )\n"
   ]
  },
  {
   "cell_type": "code",
   "execution_count": 4,
   "id": "7f44a6e1-945a-4967-af93-74f4f1f23e50",
   "metadata": {},
   "outputs": [],
   "source": [
    "import pandas as pd"
   ]
  },
  {
   "cell_type": "code",
   "execution_count": 5,
   "id": "1d119ee0-4709-44b6-853e-afd9fdfcdc0b",
   "metadata": {},
   "outputs": [
    {
     "data": {
      "text/html": [
       "<div>\n",
       "<style scoped>\n",
       "    .dataframe tbody tr th:only-of-type {\n",
       "        vertical-align: middle;\n",
       "    }\n",
       "\n",
       "    .dataframe tbody tr th {\n",
       "        vertical-align: top;\n",
       "    }\n",
       "\n",
       "    .dataframe thead th {\n",
       "        text-align: right;\n",
       "    }\n",
       "</style>\n",
       "<table border=\"1\" class=\"dataframe\">\n",
       "  <thead>\n",
       "    <tr style=\"text-align: right;\">\n",
       "      <th></th>\n",
       "      <th>l</th>\n",
       "      <th>k</th>\n",
       "      <th>solution</th>\n",
       "      <th>gcd</th>\n",
       "      <th>n</th>\n",
       "      <th>hidden</th>\n",
       "    </tr>\n",
       "  </thead>\n",
       "  <tbody>\n",
       "    <tr>\n",
       "      <th>0</th>\n",
       "      <td>[1, 3]</td>\n",
       "      <td>[2]</td>\n",
       "      <td>[1, 2, -3, 4, 5]</td>\n",
       "      <td>1</td>\n",
       "      <td>5</td>\n",
       "      <td>[{'ψ': [(1, 5), (2, 4), (-3,)], 'S': 6}]</td>\n",
       "    </tr>\n",
       "  </tbody>\n",
       "</table>\n",
       "</div>"
      ],
      "text/plain": [
       "        l    k          solution  gcd  n  \\\n",
       "0  [1, 3]  [2]  [1, 2, -3, 4, 5]    1  5   \n",
       "\n",
       "                                     hidden  \n",
       "0  [{'ψ': [(1, 5), (2, 4), (-3,)], 'S': 6}]  "
      ]
     },
     "execution_count": 5,
     "metadata": {},
     "output_type": "execute_result"
    }
   ],
   "source": [
    "pd.DataFrame([{'l':[1,3],'k':[2],\n",
    "       'solution':[1,2,-3,4,5],'gcd':1,'n':5,\n",
    "      'hidden':[{'ψ':[(1,5),(2,4),(-3,)],\n",
    "                 'S':6}\n",
    "               ]\n",
    "             }] \n",
    "            )"
   ]
  },
  {
   "cell_type": "markdown",
   "id": "6342f13a-2c97-4245-a2f9-d35fceac4470",
   "metadata": {},
   "source": [
    "### Read the full dataset"
   ]
  },
  {
   "cell_type": "code",
   "execution_count": 218,
   "id": "b1afbaab-3d47-4ade-a3aa-ba92e2f6714e",
   "metadata": {},
   "outputs": [],
   "source": [
    "df=pd.read_json('https://zenodo.org/record/5526707/files/solutions.json?download=1')"
   ]
  },
  {
   "cell_type": "code",
   "execution_count": 28,
   "id": "fa2520fd-ed97-423f-a8e7-66aca640a43a",
   "metadata": {},
   "outputs": [],
   "source": [
    "FULL=True\n",
    "if FULL:\n",
    "    #From https://zenodo.org/record/7380817/files/solutions.json.gz?download=1\n",
    "    df=pd.read_json('solutions.json.gz')\n",
    "    df=df[df['solution'].str[-1].abs()<=20].reset_index(drop=True)"
   ]
  },
  {
   "cell_type": "code",
   "execution_count": 29,
   "id": "c5d14088-b0c9-47ab-81b3-2f4bb564b041",
   "metadata": {},
   "outputs": [
    {
     "data": {
      "text/plain": [
       "(3, 5)"
      ]
     },
     "execution_count": 29,
     "metadata": {},
     "output_type": "execute_result"
    }
   ],
   "source": [
    "df[df['n']==5].shape"
   ]
  },
  {
   "cell_type": "code",
   "execution_count": 8,
   "id": "77eea894-48b3-4c2d-9875-ee10339badb2",
   "metadata": {},
   "outputs": [],
   "source": [
    "df.shape"
   ]
  },
  {
   "cell_type": "markdown",
   "id": "8a03e1d3-ec9c-4819-804d-649904134528",
   "metadata": {},
   "source": [
    "The `solutions` column, was generated with an ordering in absolute value, like the following"
   ]
  },
  {
   "cell_type": "code",
   "execution_count": 5,
   "id": "0e6ed30d-ae8a-401c-b6be-e7a9b494ed3c",
   "metadata": {},
   "outputs": [
    {
     "data": {
      "text/plain": [
       "[1, -2, 5, -8]"
      ]
     },
     "execution_count": 5,
     "metadata": {},
     "output_type": "execute_result"
    }
   ],
   "source": [
    "sorted([-2,1,-8,5],key=abs)"
   ]
  },
  {
   "cell_type": "markdown",
   "id": "9e5335de-c8ad-40db-81e0-e4558d604852",
   "metadata": {},
   "source": [
    "This allows to take the maximum directly from the last element"
   ]
  },
  {
   "cell_type": "code",
   "execution_count": 10,
   "id": "f917b5f6-eac4-42d3-aa4a-350bcea7c6a9",
   "metadata": {},
   "outputs": [
    {
     "data": {
      "text/plain": [
       "0          9\n",
       "1         10\n",
       "2         20\n",
       "3         22\n",
       "4         25\n",
       "          ..\n",
       "390069    32\n",
       "390070    32\n",
       "390071   -32\n",
       "390072    32\n",
       "390073    32\n",
       "Name: solution, Length: 390074, dtype: int64"
      ]
     },
     "execution_count": 10,
     "metadata": {},
     "output_type": "execute_result"
    }
   ],
   "source": [
    "df['solution'].str[-1]"
   ]
  },
  {
   "cell_type": "code",
   "execution_count": 30,
   "id": "cad31295-eb83-40ee-8f72-f92960142df1",
   "metadata": {},
   "outputs": [
    {
     "data": {
      "text/plain": [
       "(65910, 6)"
      ]
     },
     "execution_count": 30,
     "metadata": {},
     "output_type": "execute_result"
    }
   ],
   "source": [
    "df['zmax']=df['solution'].str[-1].abs()\n",
    "df=df.sort_values(['n','zmax']).reset_index(drop=True)\n",
    "\n",
    "#How many solutions with n=12 and z_max <= 20?\n",
    "df[ (df['n']==12) & (df['zmax']<=20) ].shape"
   ]
  },
  {
   "cell_type": "code",
   "execution_count": 242,
   "id": "40ecc098-d7f3-4e4d-8ce0-3db65c440489",
   "metadata": {},
   "outputs": [
    {
     "data": {
      "text/html": [
       "<div>\n",
       "<style scoped>\n",
       "    .dataframe tbody tr th:only-of-type {\n",
       "        vertical-align: middle;\n",
       "    }\n",
       "\n",
       "    .dataframe tbody tr th {\n",
       "        vertical-align: top;\n",
       "    }\n",
       "\n",
       "    .dataframe thead th {\n",
       "        text-align: right;\n",
       "    }\n",
       "</style>\n",
       "<table border=\"1\" class=\"dataframe\">\n",
       "  <thead>\n",
       "    <tr style=\"text-align: right;\">\n",
       "      <th></th>\n",
       "      <th>l</th>\n",
       "      <th>k</th>\n",
       "      <th>solution</th>\n",
       "      <th>gcd</th>\n",
       "      <th>n</th>\n",
       "      <th>zmax</th>\n",
       "    </tr>\n",
       "  </thead>\n",
       "  <tbody>\n",
       "    <tr>\n",
       "      <th>0</th>\n",
       "      <td>[-2]</td>\n",
       "      <td>[2, 3]</td>\n",
       "      <td>[1, 5, -7, -8, 9]</td>\n",
       "      <td>4</td>\n",
       "      <td>5</td>\n",
       "      <td>9</td>\n",
       "    </tr>\n",
       "    <tr>\n",
       "      <th>1</th>\n",
       "      <td>[3]</td>\n",
       "      <td>[-3, -2]</td>\n",
       "      <td>[2, 4, -7, -9, 10]</td>\n",
       "      <td>18</td>\n",
       "      <td>5</td>\n",
       "      <td>10</td>\n",
       "    </tr>\n",
       "    <tr>\n",
       "      <th>2</th>\n",
       "      <td>[-2]</td>\n",
       "      <td>[3, 1]</td>\n",
       "      <td>[1, 14, -17, -18, 20]</td>\n",
       "      <td>6</td>\n",
       "      <td>5</td>\n",
       "      <td>20</td>\n",
       "    </tr>\n",
       "  </tbody>\n",
       "</table>\n",
       "</div>"
      ],
      "text/plain": [
       "      l         k               solution  gcd  n  zmax\n",
       "0  [-2]    [2, 3]      [1, 5, -7, -8, 9]    4  5     9\n",
       "1   [3]  [-3, -2]     [2, 4, -7, -9, 10]   18  5    10\n",
       "2  [-2]    [3, 1]  [1, 14, -17, -18, 20]    6  5    20"
      ]
     },
     "execution_count": 242,
     "metadata": {},
     "output_type": "execute_result"
    }
   ],
   "source": [
    "df[df['n']==5]"
   ]
  },
  {
   "cell_type": "markdown",
   "id": "a042051b-e918-4b22-924d-d51da6574bc2",
   "metadata": {},
   "source": [
    "### Add the new column with the list of hidden sectors"
   ]
  },
  {
   "cell_type": "markdown",
   "id": "a6ae2465-4a66-4876-b41a-ac12fb0e4459",
   "metadata": {},
   "source": [
    "After refactoring..."
   ]
  },
  {
   "cell_type": "code",
   "execution_count": null,
   "id": "efde8c86-9f26-4cc5-afd2-e7b19c585a4f",
   "metadata": {},
   "outputs": [],
   "source": [
    "import itertools\n",
    "import math as mh\n",
    "\n",
    "def remove_double_intersection_pairs(msvp,l):\n",
    "    '''\n",
    "    Example:\n",
    "        msvp = [(3,4),(6,-13),(1,6),(-7,14),(1,-8)]\n",
    "        l = [1, 3, 4, 6, -7, -8, -13, 14]\n",
    "        # Remove (1,6) because is fully contained \n",
    "        # in the intersections with (_1_,-8) and (_6_,-13)\n",
    "        returns: \n",
    "        [(3,4),(6,-13),(-7,14),(1,-8)]    \n",
    "    '''\n",
    "    for p in msvp.copy():\n",
    "        tmp=msvp.copy()\n",
    "        tmp.remove(p)\n",
    "        fltmp=set([x for sublist in tmp for x in sublist]) \n",
    "        if l.count(p[0])==1 and l.count(p[1])==1 and set(p).issubset(fltmp):\n",
    "            msvp=tmp.copy()\n",
    "    return msvp\n",
    "assert len(remove_double_intersection_pairs([(-10, 11), (-12, 13), (11, -12)],\n",
    "                                             [-10, 11, -12, 13]))==2\n",
    "assert len(remove_double_intersection_pairs([(4,4),(4,-12)],[4,-12]))==1\n",
    "\n",
    "def get_real_massless(l,msvp):\n",
    "    '''\n",
    "    Example:\n",
    "        l = [1, 3, 4, 6, -7, -8, -13, 14]\n",
    "        msvp = [(3,4),(6,-13),(-7,14),(1,-8)]\n",
    "        [1, 3, 4, 6, -7, -8, -13, 14] → [(3,4),(6,-13),(-7,14),(1,-8)]\n",
    "        [1, 6, -7, -8, -13, 14] → [(6,-13),(-7,14),(1,-8)]\n",
    "        [1, -7, -8, 14] → [(-7,14),(1,-8)]\n",
    "        [1, -8] → [(1,-8)]\n",
    "        [] → []\n",
    "        \n",
    "        returns:\n",
    "        [] # lp    \n",
    "    '''\n",
    "    lp=l.copy()\n",
    "    for x,y in msvp:\n",
    "        #print(lp,msvp,x,y)\n",
    "        if lp and x in lp and y in lp:\n",
    "            minxy=min(lp.count(x),lp.count(y))\n",
    "            if x!=y:\n",
    "                [(lp.remove(x),lp.remove(y)) for ii in range(minxy)]\n",
    "            else:\n",
    "                [ lp.remove(x) for ii in range(lp.count(x)) ] # abs(2*x)==s\n",
    "        else: # not lp\n",
    "            break\n",
    "    return lp\n",
    "\n",
    "def get_hidden_fermions(l,s,ps=[]):\n",
    "    '''\n",
    "    For a given scalar Abelian charge `s`, build the \n",
    "    fermion non-zero determinant mass matrix from their\n",
    "    Abelian charges in `l`, and returns the input `s` and \n",
    "    the non-zero mass entries.\n",
    "    Returns an empty dictionary otherwise.\n",
    "    \n",
    "    The list of combinations on pairs of `l` can be given in `ps`,\n",
    "    otherwise it is internally calculated.\n",
    "    \n",
    "    Example:\n",
    "        l = [1, 3, 4, 6, -7, -8, -13, 14]\n",
    "        s = 7\n",
    "        ps = [(3,4),(6,-13),(1,6),(-7,14),(1,-8)]\n",
    "        # If necessary temove [1,6] because have is fully contained \n",
    "        # in the intersections with others\n",
    "        [1, 3, 4, 6, -7, -8, -13, 14] → [(3,4),(6,-13),(-7,14),(1,-8)]\n",
    "        [1, 6, -7, -8, -13, 14] → [(6,-13),(-7,14),(1,-8)]\n",
    "        [1, -7, -8, 14] → [(-7,14),(1,-8)]\n",
    "        [1, -8] → [(1,-8)]\n",
    "        [] → []\n",
    "        \n",
    "        returns:\n",
    "        {'s':7, '\\psi':[(3,4),(6,-13),(1,6),(-7,14),(1,-8)]}\n",
    "\n",
    "    '''\n",
    "    sltn={}\n",
    "    if not ps:\n",
    "        ps = list(set(itertools.combinations_with_replacement(l,2)))\n",
    "    msv = [p for p in ps if abs(sum(p))==s]\n",
    "    lmsv=[x for sublist in msv for x in sublist]\n",
    "    massives=set(lmsv)        \n",
    "    massless=set(l).difference(massives)\n",
    "    if not massless:\n",
    "        # ========= Quality check =======================\n",
    "        # Check that all the elements of l can be removed\n",
    "        for INTERSECTIONS in [False,True]:\n",
    "            msvp=msv.copy()\n",
    "            lp=l.copy()\n",
    "            if INTERSECTIONS:\n",
    "                msvp = remove_double_intersection_pairs(msvp,l)\n",
    "            for msvp in itertools.permutations(msvp.copy()):\n",
    "                msvp=list(msvp)\n",
    "                lp=get_real_massless(l,msvp)\n",
    "                if not lp:\n",
    "                    break # found real massless\n",
    "            if not lp: # double break for INTERSECTIONS\n",
    "                break # found real massless\n",
    "                    \n",
    "        \n",
    "        if not lp:\n",
    "            sltn['S']=s\n",
    "            sltn['ψ']=msv\n",
    "        return sltn\n",
    "assert get_hidden_fermions([2, 4, 4, 5, 5, 7],9).get('S')==9    \n",
    "\n",
    "\n",
    "def get_hidden_sector(l):\n",
    "    '''\n",
    "    Extract massive pairs without massles fermions from l\n",
    "        [1, 3, 4, 6, -7, -8, -13, 14] → [[3,4],[6,-13],[1,6],[-7,14],[1,-8]]\n",
    "        #Remove [1,6] because is already in the pairs list\n",
    "        [1, 3, 4, 6, -7, -8, -13, 14] → [[3,4],[6,-13],[-7,14],[1,-8]]\n",
    "        [1, 6, -7, -8, -13, 14] → [[6,-13],[-7,14],[1,-8]]\n",
    "        [1, -7, -8, 14] → [[-7,14],[1,-8]]\n",
    "        [1, -8] → [[1,-8]]\n",
    "        [] → []    \n",
    "    '''\n",
    "    sltns=[]\n",
    "    ps = list(set(itertools.combinations_with_replacement(l,2)))\n",
    "    Ss = set(abs(sum(x)) for x in ps)\n",
    "    for s in Ss:\n",
    "        sltn=get_hidden_fermions(l,s,ps)\n",
    "        if sltn:\n",
    "            sltns.append(sltn)\n",
    "    return sltns\n",
    "\n",
    "assert get_hidden_sector([1,2,-3,4,5])[0].get('S')==6\n",
    "assert get_hidden_sector([1,2,-3,-3,4,5])[0].get('S')==6\n",
    "assert get_hidden_sector([1,1,2,-3,-3,4,5,5])[0].get('S')==6\n",
    "#aψ1ψ1+bψ1ψ2+cψ1,ψ3 → https://www.wolframalpha.com/input?i=Rank%20{{a,b,c},{b,0,0},{c,0,0}}\n",
    "assert get_hidden_sector([1,2,-3,4,5,9,9])==[]\n",
    "get_hidden_sector([1,1,2,-3,4,5])\n",
    "#aψ1ψ2+bψ1ψ3 → https://www.wolframalpha.com/input?i=rank+{{0,a,b},{a,0,0},{b,0,0}}\n",
    "assert get_hidden_sector([1,1,2,-3,4,5])==[]\n",
    "assert get_hidden_sector([1,1,2,-3,-3,4,5])==[]\n",
    "assert get_hidden_sector([1,2,-3,4,5,8])==[]\n",
    "assert get_hidden_sector([1,2,-3,4,5,8,8])==[]\n",
    "assert get_hidden_sector([])==[]\n",
    "assert get_hidden_sector([1, 1, 1, 1, 1, -2, -2, -2, -2, 3])==[]\n",
    "assert get_hidden_sector([1, 2, 2, 2, -3, -5, -6, 7])[0].get('S')==4\n",
    "assert get_hidden_sector( [1, 2, 2, 4, -5, -5, -7, 8] )[0].get('S')==3\n",
    "assert get_hidden_sector([2, -3, -4, 5, -6, 7, 7, -8])[0].get('S')==1 # Ana test\n",
    "assert get_hidden_sector([3, 5, -8, 9, -10, -14, 15])==[] # Dirac triplet [-10,5,15] (s=5)\n",
    "assert get_hidden_sector([3, 5, -8, 9, -10, -14, 15, 20,-30, 35])==[]\n",
    "assert get_hidden_sector([1, 3, 3, 3, -5, -7, -7, 9])[0].get('S')==4 #order of pairs matters\n",
    "assert get_hidden_sector([7, -8, -10, 11, -12, 13, 14, -15])[0].get('S')==1 #double intersection pair\n",
    "assert get_hidden_sector([4,-12])[0].get('S')==8\n",
    "assert get_hidden_sector([3, 3, -4, -4, -4, 5, -6, 7, -8, 9, 10, -11])[0].get('S')==1"
   ]
  },
  {
   "cell_type": "code",
   "execution_count": 31,
   "id": "23f07273-dfd8-43a0-923c-ab524e2dc531",
   "metadata": {},
   "outputs": [],
   "source": [
    "from yukawa import yukawa"
   ]
  },
  {
   "cell_type": "code",
   "execution_count": 32,
   "id": "c0749825-02bf-4d32-9615-ccd459384b73",
   "metadata": {},
   "outputs": [],
   "source": [
    "get_hidden_fermions=yukawa.get_massive_fermions"
   ]
  },
  {
   "cell_type": "code",
   "execution_count": 33,
   "id": "bf9e421a-b3eb-4521-aee1-306eaec730f6",
   "metadata": {},
   "outputs": [],
   "source": [
    "import itertools\n",
    "import math as mh\n",
    "\n",
    "assert get_hidden_fermions([2, 4, 4, 5, 5, 7],9).get('S')==9    \n",
    "\n",
    "def get_hidden_sector(l):\n",
    "    '''\n",
    "    Extract massive pairs without massles fermions from l\n",
    "        [1, 3, 4, 6, -7, -8, -13, 14] → [[3,4],[6,-13],[1,6],[-7,14],[1,-8]]\n",
    "        #Remove [1,6] because is already in the pairs list\n",
    "        [1, 3, 4, 6, -7, -8, -13, 14] → [[3,4],[6,-13],[-7,14],[1,-8]]\n",
    "        [1, 6, -7, -8, -13, 14] → [[6,-13],[-7,14],[1,-8]]\n",
    "        [1, -7, -8, 14] → [[-7,14],[1,-8]]\n",
    "        [1, -8] → [[1,-8]]\n",
    "        [] → []    \n",
    "    '''\n",
    "    sltns=[]\n",
    "    ps = list(set(itertools.combinations_with_replacement(l,2)))\n",
    "    Ss = set(abs(sum(x)) for x in ps)\n",
    "    for s in Ss:\n",
    "        sltn=get_hidden_fermions(l,s,ps)\n",
    "        if sltn:\n",
    "            sltns.append(sltn)\n",
    "    return sltns\n",
    "\n",
    "assert get_hidden_sector([1,2,-3,4,5])[0].get('S')==6\n",
    "assert get_hidden_sector([1,2,-3,-3,4,5])[0].get('S')==6\n",
    "assert get_hidden_sector([1,1,2,-3,-3,4,5,5])[0].get('S')==6\n",
    "#aψ1ψ1+bψ1ψ2+cψ1,ψ3 → https://www.wolframalpha.com/input?i=Rank%20{{a,b,c},{b,0,0},{c,0,0}}\n",
    "assert get_hidden_sector([1,2,-3,4,5,9,9])==[]\n",
    "get_hidden_sector([1,1,2,-3,4,5])\n",
    "#aψ1ψ2+bψ1ψ3 → https://www.wolframalpha.com/input?i=rank+{{0,a,b},{a,0,0},{b,0,0}}\n",
    "assert get_hidden_sector([1,1,2,-3,4,5])==[]\n",
    "assert get_hidden_sector([1,1,2,-3,-3,4,5])==[]\n",
    "assert get_hidden_sector([1,2,-3,4,5,8])==[]\n",
    "assert get_hidden_sector([1,2,-3,4,5,8,8])==[]\n",
    "assert get_hidden_sector([])==[]\n",
    "assert get_hidden_sector([1, 1, 1, 1, 1, -2, -2, -2, -2, 3])==[]\n",
    "assert get_hidden_sector([1, 2, 2, 2, -3, -5, -6, 7])[0].get('S')==4\n",
    "assert get_hidden_sector( [1, 2, 2, 4, -5, -5, -7, 8] )[0].get('S')==3\n",
    "assert get_hidden_sector([2, -3, -4, 5, -6, 7, 7, -8])[0].get('S')==1 # Ana test\n",
    "assert get_hidden_sector([3, 5, -8, 9, -10, -14, 15])==[] # Dirac triplet [-10,5,15] (s=5)\n",
    "assert get_hidden_sector([3, 5, -8, 9, -10, -14, 15, 20,-30, 35])==[]\n",
    "assert get_hidden_sector([1, 3, 3, 3, -5, -7, -7, 9])[0].get('S')==4 #order of pairs matters\n",
    "assert get_hidden_sector([7, -8, -10, 11, -12, 13, 14, -15])[0].get('S')==1 #double intersection pair\n",
    "assert get_hidden_sector([4,-12])[0].get('S')==8\n",
    "assert get_hidden_sector([3, 3, -4, -4, -4, 5, -6, 7, -8, 9, 10, -11])[0].get('S')==1"
   ]
  },
  {
   "cell_type": "code",
   "execution_count": 244,
   "id": "ab4d764d-e70e-4499-9c17-38d58ffda930",
   "metadata": {},
   "outputs": [
    {
     "name": "stdout",
     "output_type": "stream",
     "text": [
      "CPU times: user 28.4 s, sys: 0 ns, total: 28.4 s\n",
      "Wall time: 28.4 s\n"
     ]
    }
   ],
   "source": [
    "%%time\n",
    "df['hidden']=df['solution'].apply(get_hidden_sector)"
   ]
  },
  {
   "cell_type": "code",
   "execution_count": 247,
   "id": "7d444f2c-26a5-4145-b7ab-babe5f9f8c20",
   "metadata": {},
   "outputs": [],
   "source": [
    "hs=df[df['hidden'].apply(len)>0].reset_index(drop=True)#.iloc[0].to_dict()"
   ]
  },
  {
   "cell_type": "code",
   "execution_count": 248,
   "id": "a2905342-2157-4e83-8228-51a2f16d7074",
   "metadata": {},
   "outputs": [
    {
     "data": {
      "text/plain": [
       "(5196, 7)"
      ]
     },
     "execution_count": 248,
     "metadata": {},
     "output_type": "execute_result"
    }
   ],
   "source": [
    "hs.shape #9466 solutions with hidden sector"
   ]
  },
  {
   "cell_type": "code",
   "execution_count": 252,
   "id": "6fcf9397-4225-424a-92e3-89d08d28494c",
   "metadata": {},
   "outputs": [
    {
     "data": {
      "text/plain": [
       "20"
      ]
     },
     "execution_count": 252,
     "metadata": {},
     "output_type": "execute_result"
    }
   ],
   "source": [
    "hs.zmax.max()"
   ]
  },
  {
   "cell_type": "code",
   "execution_count": 16,
   "id": "be71bd0e-c1ed-4e29-bdf3-de4c178b2980",
   "metadata": {},
   "outputs": [
    {
     "data": {
      "text/html": [
       "<div>\n",
       "<style scoped>\n",
       "    .dataframe tbody tr th:only-of-type {\n",
       "        vertical-align: middle;\n",
       "    }\n",
       "\n",
       "    .dataframe tbody tr th {\n",
       "        vertical-align: top;\n",
       "    }\n",
       "\n",
       "    .dataframe thead th {\n",
       "        text-align: right;\n",
       "    }\n",
       "</style>\n",
       "<table border=\"1\" class=\"dataframe\">\n",
       "  <thead>\n",
       "    <tr style=\"text-align: right;\">\n",
       "      <th></th>\n",
       "      <th>l</th>\n",
       "      <th>k</th>\n",
       "      <th>solution</th>\n",
       "      <th>gcd</th>\n",
       "      <th>n</th>\n",
       "      <th>zmax</th>\n",
       "      <th>hidden</th>\n",
       "    </tr>\n",
       "  </thead>\n",
       "  <tbody>\n",
       "    <tr>\n",
       "      <th>0</th>\n",
       "      <td>[-1, -5, -3]</td>\n",
       "      <td>[-6, -4, -7]</td>\n",
       "      <td>[1, 1, 2, 3, -4, -4, -5, 6]</td>\n",
       "      <td>1</td>\n",
       "      <td>8</td>\n",
       "      <td>6</td>\n",
       "      <td>[{'S': 2, 'ψ': [(3, -5), (2, -4), (-4, 6), (1,...</td>\n",
       "    </tr>\n",
       "  </tbody>\n",
       "</table>\n",
       "</div>"
      ],
      "text/plain": [
       "              l             k                     solution  gcd  n  zmax  \\\n",
       "0  [-1, -5, -3]  [-6, -4, -7]  [1, 1, 2, 3, -4, -4, -5, 6]    1  8     6   \n",
       "\n",
       "                                              hidden  \n",
       "0  [{'S': 2, 'ψ': [(3, -5), (2, -4), (-4, 6), (1,...  "
      ]
     },
     "execution_count": 16,
     "metadata": {},
     "output_type": "execute_result"
    }
   ],
   "source": [
    "hs[:1]"
   ]
  },
  {
   "cell_type": "markdown",
   "id": "d58699d1-4703-4797-a42c-9f6ef15d8813",
   "metadata": {},
   "source": [
    "## Ask question to the solutions object"
   ]
  },
  {
   "cell_type": "markdown",
   "id": "50887324-0108-48f1-8046-d655a3e3fb04",
   "metadata": {},
   "source": [
    "* Test the solution\n",
    "* Which is the minimum hidden sector and with the least charge in absolute value\n",
    "* Check for multigenerational solution\n",
    "* Check for unconditional stability\n",
    "* Solutions with active symmetry\n",
    "* How many solutions with n=12 and zmax<=20\n",
    "* Check for Majorana and Dirac fermions"
   ]
  },
  {
   "cell_type": "markdown",
   "id": "9a643fe5-77bc-4a5e-98ae-1b27c55c4296",
   "metadata": {},
   "source": [
    "Which `n` are allowed? "
   ]
  },
  {
   "cell_type": "code",
   "execution_count": 17,
   "id": "68779999-7fe1-4bb8-836d-bb5d6d043909",
   "metadata": {},
   "outputs": [
    {
     "data": {
      "text/plain": [
       "array([ 8, 12])"
      ]
     },
     "execution_count": 17,
     "metadata": {},
     "output_type": "execute_result"
    }
   ],
   "source": [
    "hs['n'].unique()"
   ]
  },
  {
   "cell_type": "code",
   "execution_count": 18,
   "id": "61165151-dac1-4763-825e-7fb5ac9c4104",
   "metadata": {},
   "outputs": [],
   "source": [
    "pd.set_option('display.max_colwidth',200)"
   ]
  },
  {
   "cell_type": "markdown",
   "id": "a8eeb4b3-1480-4aec-907e-5e7fad845d99",
   "metadata": {},
   "source": [
    "What is the minimum n?"
   ]
  },
  {
   "cell_type": "code",
   "execution_count": 19,
   "id": "13a9e98b-5ae8-4c93-a475-a1b4b160d17b",
   "metadata": {},
   "outputs": [
    {
     "data": {
      "text/plain": [
       "8"
      ]
     },
     "execution_count": 19,
     "metadata": {},
     "output_type": "execute_result"
    }
   ],
   "source": [
    "hs['n'].min()"
   ]
  },
  {
   "cell_type": "markdown",
   "id": "3ec4e194-d91f-41a6-afa8-50200c5389a3",
   "metadata": {},
   "source": [
    "What is the minimum `z_max`?"
   ]
  },
  {
   "cell_type": "code",
   "execution_count": 20,
   "id": "f3aeeef7-9000-47ac-9887-4d2d48cf8ba8",
   "metadata": {},
   "outputs": [
    {
     "data": {
      "text/plain": [
       "6"
      ]
     },
     "execution_count": 20,
     "metadata": {},
     "output_type": "execute_result"
    }
   ],
   "source": [
    "hs['zmax'].min()"
   ]
  },
  {
   "cell_type": "code",
   "execution_count": 21,
   "id": "e24084b9-5fbd-4f93-9e35-a519f556c006",
   "metadata": {},
   "outputs": [
    {
     "data": {
      "text/html": [
       "<div>\n",
       "<style scoped>\n",
       "    .dataframe tbody tr th:only-of-type {\n",
       "        vertical-align: middle;\n",
       "    }\n",
       "\n",
       "    .dataframe tbody tr th {\n",
       "        vertical-align: top;\n",
       "    }\n",
       "\n",
       "    .dataframe thead th {\n",
       "        text-align: right;\n",
       "    }\n",
       "</style>\n",
       "<table border=\"1\" class=\"dataframe\">\n",
       "  <thead>\n",
       "    <tr style=\"text-align: right;\">\n",
       "      <th></th>\n",
       "      <th>l</th>\n",
       "      <th>k</th>\n",
       "      <th>solution</th>\n",
       "      <th>gcd</th>\n",
       "      <th>n</th>\n",
       "      <th>zmax</th>\n",
       "      <th>hidden</th>\n",
       "    </tr>\n",
       "  </thead>\n",
       "  <tbody>\n",
       "    <tr>\n",
       "      <th>0</th>\n",
       "      <td>[-1, -5, -3]</td>\n",
       "      <td>[-6, -4, -7]</td>\n",
       "      <td>[1, 1, 2, 3, -4, -4, -5, 6]</td>\n",
       "      <td>1</td>\n",
       "      <td>8</td>\n",
       "      <td>6</td>\n",
       "      <td>[{'S': 2, 'ψ': [(3, -5), (2, -4), (-4, 6), (1, 1)]}]</td>\n",
       "    </tr>\n",
       "    <tr>\n",
       "      <th>1773</th>\n",
       "      <td>[-1, 0, -1, 0, 1]</td>\n",
       "      <td>[-3, -2, -3, -2, 2]</td>\n",
       "      <td>[1, -2, -2, -2, 3, 3, 4, 4, -5, -5, -5, 6]</td>\n",
       "      <td>1</td>\n",
       "      <td>12</td>\n",
       "      <td>6</td>\n",
       "      <td>[{'S': 1, 'ψ': [(-5, 6), (-2, 3), (4, -5), (1, -2)]}, {'S': 7, 'ψ': [(3, 4), (1, 6), (-2, -5)]}]</td>\n",
       "    </tr>\n",
       "    <tr>\n",
       "      <th>1774</th>\n",
       "      <td>[2, 1, -1, 3, -1]</td>\n",
       "      <td>[-3, -1, 0, -2, -3]</td>\n",
       "      <td>[1, 1, 1, 1, -2, -2, -2, 3, 3, -5, -5, 6]</td>\n",
       "      <td>1</td>\n",
       "      <td>12</td>\n",
       "      <td>6</td>\n",
       "      <td>[{'S': 4, 'ψ': [(-2, -2), (1, -5), (-2, 6), (1, 3)]}]</td>\n",
       "    </tr>\n",
       "  </tbody>\n",
       "</table>\n",
       "</div>"
      ],
      "text/plain": [
       "                      l                    k  \\\n",
       "0          [-1, -5, -3]         [-6, -4, -7]   \n",
       "1773  [-1, 0, -1, 0, 1]  [-3, -2, -3, -2, 2]   \n",
       "1774  [2, 1, -1, 3, -1]  [-3, -1, 0, -2, -3]   \n",
       "\n",
       "                                        solution  gcd   n  zmax  \\\n",
       "0                    [1, 1, 2, 3, -4, -4, -5, 6]    1   8     6   \n",
       "1773  [1, -2, -2, -2, 3, 3, 4, 4, -5, -5, -5, 6]    1  12     6   \n",
       "1774   [1, 1, 1, 1, -2, -2, -2, 3, 3, -5, -5, 6]    1  12     6   \n",
       "\n",
       "                                                                                                hidden  \n",
       "0                                                 [{'S': 2, 'ψ': [(3, -5), (2, -4), (-4, 6), (1, 1)]}]  \n",
       "1773  [{'S': 1, 'ψ': [(-5, 6), (-2, 3), (4, -5), (1, -2)]}, {'S': 7, 'ψ': [(3, 4), (1, 6), (-2, -5)]}]  \n",
       "1774                                             [{'S': 4, 'ψ': [(-2, -2), (1, -5), (-2, 6), (1, 3)]}]  "
      ]
     },
     "execution_count": 21,
     "metadata": {},
     "output_type": "execute_result"
    }
   ],
   "source": [
    "hs[hs['zmax']==hs['zmax'].min()]"
   ]
  },
  {
   "cell_type": "markdown",
   "id": "6566a4e0-2126-412c-92d5-7c51555e0021",
   "metadata": {},
   "source": [
    "How many solutions have several dark sectors?"
   ]
  },
  {
   "cell_type": "code",
   "execution_count": 22,
   "id": "93c144c2-50f6-4137-93b5-efdf3b3d1952",
   "metadata": {},
   "outputs": [
    {
     "data": {
      "text/plain": [
       "(1271, 7)"
      ]
     },
     "execution_count": 22,
     "metadata": {},
     "output_type": "execute_result"
    }
   ],
   "source": [
    "hs[hs['hidden'].apply(len)>1].shape"
   ]
  },
  {
   "cell_type": "code",
   "execution_count": 23,
   "id": "e75784a4-a5ff-417d-b1f8-93c6ce09d0a2",
   "metadata": {},
   "outputs": [
    {
     "data": {
      "text/plain": [
       "(0, 7)"
      ]
     },
     "execution_count": 23,
     "metadata": {},
     "output_type": "execute_result"
    }
   ],
   "source": [
    "hs[hs['hidden'].apply(len)>2].shape"
   ]
  },
  {
   "cell_type": "code",
   "execution_count": 24,
   "id": "5735ac99-22ef-46d9-b2f1-21341d114e53",
   "metadata": {},
   "outputs": [
    {
     "data": {
      "text/plain": [
       "0                                           [(3, -5), (2, -4), (-4, 6), (1, 1)]\n",
       "1                                           [(2, 2), (-3, 7), (1, -5), (2, -6)]\n",
       "2                                                    [(4, 5), (1, 8), (-2, -7)]\n",
       "3                                           [(4, -7), (-5, 8), (2, -5), (1, 2)]\n",
       "4                                 [(-6, 7), (7, -8), (5, -6), (2, -3), (-4, 5)]\n",
       "                                         ...                                   \n",
       "9461                         [(4, -19), (3, -18), (-13, 28), (17, -32), (6, 9)]\n",
       "9462    [(-9, 27), (-6, -12), (1, -19), (4, 14), (-9, -9), (14, -32), (-8, 26)]\n",
       "9463              [(-4, -5), (18, -27), (3, 6), (-5, 14), (-23, 32), (14, -23)]\n",
       "9464                      [(12, -27), (4, -19), (-13, 28), (17, -32), (-9, 24)]\n",
       "9465                [(6, 18), (5, 19), (-4, -20), (3, -27), (2, -26), (-8, 32)]\n",
       "Name: hidden, Length: 9466, dtype: object"
      ]
     },
     "execution_count": 24,
     "metadata": {},
     "output_type": "execute_result"
    }
   ],
   "source": [
    "hs['hidden'].str[0].str['ψ']"
   ]
  },
  {
   "cell_type": "markdown",
   "id": "63d71c30-93f2-435d-85b7-4f2b56dd9882",
   "metadata": {},
   "source": [
    "What is the minimum number of DM particles?"
   ]
  },
  {
   "cell_type": "code",
   "execution_count": 25,
   "id": "f90a1121-cd03-4a50-9f31-8acc2224d079",
   "metadata": {},
   "outputs": [
    {
     "data": {
      "text/plain": [
       "3"
      ]
     },
     "execution_count": 25,
     "metadata": {},
     "output_type": "execute_result"
    }
   ],
   "source": [
    "hs['hidden'].str[0].str['ψ'].apply(len).min()"
   ]
  },
  {
   "cell_type": "markdown",
   "id": "a9c54102-7f18-4721-8f47-6bd1e3df41cd",
   "metadata": {},
   "source": [
    "What is the minimum number of DM particles?"
   ]
  },
  {
   "cell_type": "code",
   "execution_count": 26,
   "id": "d816fd8e-1c0c-4958-84b5-764954e81cb9",
   "metadata": {},
   "outputs": [
    {
     "data": {
      "text/plain": [
       "3"
      ]
     },
     "execution_count": 26,
     "metadata": {},
     "output_type": "execute_result"
    }
   ],
   "source": [
    "hs['hidden'].str[-1].str['ψ'].apply(len).min()"
   ]
  },
  {
   "cell_type": "code",
   "execution_count": 27,
   "id": "ac41d6fc-ee19-4c3d-9439-4a3c10bdbbb1",
   "metadata": {},
   "outputs": [
    {
     "data": {
      "text/plain": [
       "1773    {'S': 7, 'ψ': [(3, 4), (1, 6), (-2, -5)]}\n",
       "Name: hidden, dtype: object"
      ]
     },
     "execution_count": 27,
     "metadata": {},
     "output_type": "execute_result"
    }
   ],
   "source": [
    "hs.loc[[1773]]['hidden'].str[-1]"
   ]
  },
  {
   "cell_type": "code",
   "execution_count": 28,
   "id": "176f2501-f3fa-4340-ba78-5edf901e5405",
   "metadata": {},
   "outputs": [
    {
     "data": {
      "text/plain": [
       "1773    {'S': 1, 'ψ': [(-5, 6), (-2, 3), (4, -5), (1, -2)]}\n",
       "Name: hidden, dtype: object"
      ]
     },
     "execution_count": 28,
     "metadata": {},
     "output_type": "execute_result"
    }
   ],
   "source": [
    "hs.loc[[1773]]['hidden'].str[0]"
   ]
  },
  {
   "cell_type": "code",
   "execution_count": 29,
   "id": "51828aa5-0dbd-4c5a-be8d-5c41403dac63",
   "metadata": {},
   "outputs": [
    {
     "data": {
      "text/plain": [
       "(221, 7)"
      ]
     },
     "execution_count": 29,
     "metadata": {},
     "output_type": "execute_result"
    }
   ],
   "source": [
    "hs[(hs['hidden'].str[0].str['ψ'].apply(len)==3)].shape"
   ]
  },
  {
   "cell_type": "markdown",
   "id": "f352f492-9ee7-4771-b7bb-5e7907219419",
   "metadata": {},
   "source": [
    "to capture the cases with until with two dark sectors:"
   ]
  },
  {
   "cell_type": "code",
   "execution_count": 30,
   "id": "d724236a-0e1b-46e6-9bb2-b625f7bf92db",
   "metadata": {},
   "outputs": [
    {
     "data": {
      "text/html": [
       "<div>\n",
       "<style scoped>\n",
       "    .dataframe tbody tr th:only-of-type {\n",
       "        vertical-align: middle;\n",
       "    }\n",
       "\n",
       "    .dataframe tbody tr th {\n",
       "        vertical-align: top;\n",
       "    }\n",
       "\n",
       "    .dataframe thead th {\n",
       "        text-align: right;\n",
       "    }\n",
       "</style>\n",
       "<table border=\"1\" class=\"dataframe\">\n",
       "  <thead>\n",
       "    <tr style=\"text-align: right;\">\n",
       "      <th></th>\n",
       "      <th>l</th>\n",
       "      <th>k</th>\n",
       "      <th>solution</th>\n",
       "      <th>gcd</th>\n",
       "      <th>n</th>\n",
       "      <th>zmax</th>\n",
       "      <th>hidden</th>\n",
       "    </tr>\n",
       "  </thead>\n",
       "  <tbody>\n",
       "    <tr>\n",
       "      <th>2</th>\n",
       "      <td>[-1, 0, 1]</td>\n",
       "      <td>[-4, -2, 2]</td>\n",
       "      <td>[1, -2, -2, 4, 5, -7, -7, 8]</td>\n",
       "      <td>1</td>\n",
       "      <td>8</td>\n",
       "      <td>8</td>\n",
       "      <td>[{'S': 9, 'ψ': [(4, 5), (1, 8), (-2, -7)]}]</td>\n",
       "    </tr>\n",
       "    <tr>\n",
       "      <th>7</th>\n",
       "      <td>[2, 0, -1]</td>\n",
       "      <td>[-8, -5, 9]</td>\n",
       "      <td>[2, -3, -3, 5, 6, -8, -8, 9]</td>\n",
       "      <td>1</td>\n",
       "      <td>8</td>\n",
       "      <td>9</td>\n",
       "      <td>[{'S': 11, 'ψ': [(5, 6), (-3, -8), (2, 9)]}]</td>\n",
       "    </tr>\n",
       "    <tr>\n",
       "      <th>9</th>\n",
       "      <td>[0, -3, -1]</td>\n",
       "      <td>[-3, -5, -6, -4]</td>\n",
       "      <td>[3, -4, -6, -6, 7, 7, 8, -9]</td>\n",
       "      <td>1</td>\n",
       "      <td>8</td>\n",
       "      <td>9</td>\n",
       "      <td>[{'S': 1, 'ψ': [(8, -9), (-6, 7), (3, -4)]}]</td>\n",
       "    </tr>\n",
       "    <tr>\n",
       "      <th>11</th>\n",
       "      <td>[-1, 0, -1]</td>\n",
       "      <td>[-2, 1, -1]</td>\n",
       "      <td>[2, -5, -5, -5, 7, 8, 8, -10]</td>\n",
       "      <td>1</td>\n",
       "      <td>8</td>\n",
       "      <td>10</td>\n",
       "      <td>[{'S': 3, 'ψ': [(7, -10), (-5, 8), (2, -5)]}]</td>\n",
       "    </tr>\n",
       "    <tr>\n",
       "      <th>14</th>\n",
       "      <td>[-3, -5, 1]</td>\n",
       "      <td>[-6, -4, -5]</td>\n",
       "      <td>[3, -4, -4, 6, 7, -9, -9, 10]</td>\n",
       "      <td>1</td>\n",
       "      <td>8</td>\n",
       "      <td>10</td>\n",
       "      <td>[{'S': 13, 'ψ': [(3, 10), (-4, -9), (6, 7)]}]</td>\n",
       "    </tr>\n",
       "    <tr>\n",
       "      <th>...</th>\n",
       "      <td>...</td>\n",
       "      <td>...</td>\n",
       "      <td>...</td>\n",
       "      <td>...</td>\n",
       "      <td>...</td>\n",
       "      <td>...</td>\n",
       "      <td>...</td>\n",
       "    </tr>\n",
       "    <tr>\n",
       "      <th>7956</th>\n",
       "      <td>[1, -2, 1, 0, 1]</td>\n",
       "      <td>[-2, -1, -2, -1, -2]</td>\n",
       "      <td>[1, 1, -2, -2, -16, -16, -16, 17, 17, 17, 28, -29]</td>\n",
       "      <td>1</td>\n",
       "      <td>12</td>\n",
       "      <td>29</td>\n",
       "      <td>[{'S': 1, 'ψ': [(-16, 17), (28, -29), (1, -2)]}]</td>\n",
       "    </tr>\n",
       "    <tr>\n",
       "      <th>7959</th>\n",
       "      <td>[-2, 1, -2, 0, 2]</td>\n",
       "      <td>[-2, 1, -2, 1, -1]</td>\n",
       "      <td>[4, -8, -8, -8, 11, 11, 22, 22, -25, -25, -25, 29]</td>\n",
       "      <td>3</td>\n",
       "      <td>12</td>\n",
       "      <td>29</td>\n",
       "      <td>[{'S': 33, 'ψ': [(4, 29), (11, 22), (-8, -25)]}]</td>\n",
       "    </tr>\n",
       "    <tr>\n",
       "      <th>7991</th>\n",
       "      <td>[-1, 0, -2, 0, -2]</td>\n",
       "      <td>[-3, 1, -3, 1, -3]</td>\n",
       "      <td>[7, 7, -9, -9, -9, 17, 19, -27, -27, -27, 29, 29]</td>\n",
       "      <td>4</td>\n",
       "      <td>12</td>\n",
       "      <td>29</td>\n",
       "      <td>[{'S': 36, 'ψ': [(7, 29), (-9, -27), (17, 19)]}]</td>\n",
       "    </tr>\n",
       "    <tr>\n",
       "      <th>7997</th>\n",
       "      <td>[-2, 0, -2, 0, -2]</td>\n",
       "      <td>[-3, 2, -3, 3, -3]</td>\n",
       "      <td>[16, 16, -19, -19, -19, -21, -21, 24, 24, 24, 24, -29]</td>\n",
       "      <td>8</td>\n",
       "      <td>12</td>\n",
       "      <td>29</td>\n",
       "      <td>[{'S': 5, 'ψ': [(-19, 24), (24, -29), (16, -21)]}]</td>\n",
       "    </tr>\n",
       "    <tr>\n",
       "      <th>9242</th>\n",
       "      <td>[2, 0, 1, 0, 2]</td>\n",
       "      <td>[-3, -2, -3, -2, -3]</td>\n",
       "      <td>[2, 7, 18, 18, 18, -23, -23, -27, -27, -27, 32, 32]</td>\n",
       "      <td>1</td>\n",
       "      <td>12</td>\n",
       "      <td>32</td>\n",
       "      <td>[{'S': 9, 'ψ': [(18, -27), (2, 7), (-23, 32)]}]</td>\n",
       "    </tr>\n",
       "  </tbody>\n",
       "</table>\n",
       "<p>233 rows × 7 columns</p>\n",
       "</div>"
      ],
      "text/plain": [
       "                       l                     k  \\\n",
       "2             [-1, 0, 1]           [-4, -2, 2]   \n",
       "7             [2, 0, -1]           [-8, -5, 9]   \n",
       "9            [0, -3, -1]      [-3, -5, -6, -4]   \n",
       "11           [-1, 0, -1]           [-2, 1, -1]   \n",
       "14           [-3, -5, 1]          [-6, -4, -5]   \n",
       "...                  ...                   ...   \n",
       "7956    [1, -2, 1, 0, 1]  [-2, -1, -2, -1, -2]   \n",
       "7959   [-2, 1, -2, 0, 2]    [-2, 1, -2, 1, -1]   \n",
       "7991  [-1, 0, -2, 0, -2]    [-3, 1, -3, 1, -3]   \n",
       "7997  [-2, 0, -2, 0, -2]    [-3, 2, -3, 3, -3]   \n",
       "9242     [2, 0, 1, 0, 2]  [-3, -2, -3, -2, -3]   \n",
       "\n",
       "                                                    solution  gcd   n  zmax  \\\n",
       "2                               [1, -2, -2, 4, 5, -7, -7, 8]    1   8     8   \n",
       "7                               [2, -3, -3, 5, 6, -8, -8, 9]    1   8     9   \n",
       "9                               [3, -4, -6, -6, 7, 7, 8, -9]    1   8     9   \n",
       "11                             [2, -5, -5, -5, 7, 8, 8, -10]    1   8    10   \n",
       "14                             [3, -4, -4, 6, 7, -9, -9, 10]    1   8    10   \n",
       "...                                                      ...  ...  ..   ...   \n",
       "7956      [1, 1, -2, -2, -16, -16, -16, 17, 17, 17, 28, -29]    1  12    29   \n",
       "7959      [4, -8, -8, -8, 11, 11, 22, 22, -25, -25, -25, 29]    3  12    29   \n",
       "7991       [7, 7, -9, -9, -9, 17, 19, -27, -27, -27, 29, 29]    4  12    29   \n",
       "7997  [16, 16, -19, -19, -19, -21, -21, 24, 24, 24, 24, -29]    8  12    29   \n",
       "9242     [2, 7, 18, 18, 18, -23, -23, -27, -27, -27, 32, 32]    1  12    32   \n",
       "\n",
       "                                                  hidden  \n",
       "2            [{'S': 9, 'ψ': [(4, 5), (1, 8), (-2, -7)]}]  \n",
       "7           [{'S': 11, 'ψ': [(5, 6), (-3, -8), (2, 9)]}]  \n",
       "9           [{'S': 1, 'ψ': [(8, -9), (-6, 7), (3, -4)]}]  \n",
       "11         [{'S': 3, 'ψ': [(7, -10), (-5, 8), (2, -5)]}]  \n",
       "14         [{'S': 13, 'ψ': [(3, 10), (-4, -9), (6, 7)]}]  \n",
       "...                                                  ...  \n",
       "7956    [{'S': 1, 'ψ': [(-16, 17), (28, -29), (1, -2)]}]  \n",
       "7959    [{'S': 33, 'ψ': [(4, 29), (11, 22), (-8, -25)]}]  \n",
       "7991    [{'S': 36, 'ψ': [(7, 29), (-9, -27), (17, 19)]}]  \n",
       "7997  [{'S': 5, 'ψ': [(-19, 24), (24, -29), (16, -21)]}]  \n",
       "9242     [{'S': 9, 'ψ': [(18, -27), (2, 7), (-23, 32)]}]  \n",
       "\n",
       "[233 rows x 7 columns]"
      ]
     },
     "execution_count": 30,
     "metadata": {},
     "output_type": "execute_result"
    }
   ],
   "source": [
    "hs[(hs['hidden'].str[0].str['ψ'].apply(len)==3) | \n",
    "   (hs['hidden'].str[-1].str['ψ'].apply(len)==3)]"
   ]
  },
  {
   "cell_type": "markdown",
   "id": "91f9314c-25e8-4a6f-a40d-07c511916046",
   "metadata": {},
   "source": [
    "What is the maximum number of DM particles?"
   ]
  },
  {
   "cell_type": "code",
   "execution_count": 31,
   "id": "d8f7ddfe-27df-49b4-9ba0-1c83f89b9f2f",
   "metadata": {},
   "outputs": [
    {
     "data": {
      "text/plain": [
       "9"
      ]
     },
     "execution_count": 31,
     "metadata": {},
     "output_type": "execute_result"
    }
   ],
   "source": [
    "hs['hidden'].str[0].str['ψ'].apply(len).max()"
   ]
  },
  {
   "cell_type": "markdown",
   "id": "0fb5009f-4d2b-4b64-aeeb-3a35b78e994c",
   "metadata": {},
   "source": [
    "What is the maximum number of DM particles?"
   ]
  },
  {
   "cell_type": "code",
   "execution_count": 32,
   "id": "390eb608-8015-4279-a89b-0f15887bd865",
   "metadata": {},
   "outputs": [
    {
     "data": {
      "text/plain": [
       "9"
      ]
     },
     "execution_count": 32,
     "metadata": {},
     "output_type": "execute_result"
    }
   ],
   "source": [
    "hs['hidden'].str[-1].str['ψ'].apply(len).max()"
   ]
  },
  {
   "cell_type": "code",
   "execution_count": 33,
   "id": "0b047680-0569-464d-a26e-47bb07a3b01e",
   "metadata": {},
   "outputs": [
    {
     "data": {
      "text/html": [
       "<div>\n",
       "<style scoped>\n",
       "    .dataframe tbody tr th:only-of-type {\n",
       "        vertical-align: middle;\n",
       "    }\n",
       "\n",
       "    .dataframe tbody tr th {\n",
       "        vertical-align: top;\n",
       "    }\n",
       "\n",
       "    .dataframe thead th {\n",
       "        text-align: right;\n",
       "    }\n",
       "</style>\n",
       "<table border=\"1\" class=\"dataframe\">\n",
       "  <thead>\n",
       "    <tr style=\"text-align: right;\">\n",
       "      <th></th>\n",
       "      <th>l</th>\n",
       "      <th>k</th>\n",
       "      <th>solution</th>\n",
       "      <th>gcd</th>\n",
       "      <th>n</th>\n",
       "      <th>zmax</th>\n",
       "      <th>hidden</th>\n",
       "    </tr>\n",
       "  </thead>\n",
       "  <tbody>\n",
       "    <tr>\n",
       "      <th>2019</th>\n",
       "      <td>[-1, 0, -1, -2, -1]</td>\n",
       "      <td>[-3, -2, 2, 1, -1]</td>\n",
       "      <td>[1, 1, 2, 3, -5, -6, -6, -7, 9, 10, 11, -13]</td>\n",
       "      <td>2</td>\n",
       "      <td>12</td>\n",
       "      <td>13</td>\n",
       "      <td>[{'S': 4, 'ψ': [(9, -13), (-5, 9), (-6, 10), (2, 2), (1, 3), (-7, 11), (3, -7), (1, -5), (2, -6)]}, {'S': 12, 'ψ': [(-5, -7), (3, 9), (-6, -6), (1, -13), (1, 11), (2, 10)]}]</td>\n",
       "    </tr>\n",
       "  </tbody>\n",
       "</table>\n",
       "</div>"
      ],
      "text/plain": [
       "                        l                   k  \\\n",
       "2019  [-1, 0, -1, -2, -1]  [-3, -2, 2, 1, -1]   \n",
       "\n",
       "                                          solution  gcd   n  zmax  \\\n",
       "2019  [1, 1, 2, 3, -5, -6, -6, -7, 9, 10, 11, -13]    2  12    13   \n",
       "\n",
       "                                                                                                                                                                             hidden  \n",
       "2019  [{'S': 4, 'ψ': [(9, -13), (-5, 9), (-6, 10), (2, 2), (1, 3), (-7, 11), (3, -7), (1, -5), (2, -6)]}, {'S': 12, 'ψ': [(-5, -7), (3, 9), (-6, -6), (1, -13), (1, 11), (2, 10)]}]  "
      ]
     },
     "execution_count": 33,
     "metadata": {},
     "output_type": "execute_result"
    }
   ],
   "source": [
    "hs[(hs['hidden'].str[0].str['ψ'].apply(len)==9)][:1]"
   ]
  },
  {
   "cell_type": "markdown",
   "id": "925b2ba5-f394-42b3-adf4-5a62b965c10b",
   "metadata": {},
   "source": [
    "What is the minimum number of _independent_ DM particles?"
   ]
  },
  {
   "cell_type": "code",
   "execution_count": 34,
   "id": "31b4ced5-3255-41d2-bf03-3aab175d4c77",
   "metadata": {},
   "outputs": [],
   "source": [
    "lst=[{'S': 3, 'ψ': [(-17, 20), (-23, 20), (14, -17)]}]\n",
    "def intersections(lst,mask=True):\n",
    "    lstc=lst.copy()\n",
    "    lenmax=float('inf')\n",
    "    for d in lst:\n",
    "        for p in d.get('ψ'):\n",
    "            dd=d.get('ψ').copy()\n",
    "            dd.remove(p)\n",
    "            [dd.remove(q) for q in dd.copy() if set(p).intersection(set(q))]\n",
    "            if len(dd) < lenmax:\n",
    "                ddd=dd.copy()\n",
    "                lenmax=len(dd)\n",
    "                \n",
    "            if mask and not dd:\n",
    "                return True\n",
    "    if mask:        \n",
    "        return False\n",
    "    return ddd\n",
    "\n",
    "assert intersections([{'S': 3, 'ψ': [(-17, 20), (-23, 20), (14, -17)]}])\n",
    "assert not intersections([{'S': 3, 'ψ': [(-17, 20), (-7, 20), (14, -17), (2,5)]}])"
   ]
  },
  {
   "cell_type": "markdown",
   "id": "a8f02157-f1d3-4c7b-b5af-6b4bd75e41dc",
   "metadata": {},
   "source": [
    "One excluded:"
   ]
  },
  {
   "cell_type": "code",
   "execution_count": 35,
   "id": "31e437d5-7598-4958-aac4-2f35805e2b35",
   "metadata": {},
   "outputs": [
    {
     "data": {
      "text/html": [
       "<div>\n",
       "<style scoped>\n",
       "    .dataframe tbody tr th:only-of-type {\n",
       "        vertical-align: middle;\n",
       "    }\n",
       "\n",
       "    .dataframe tbody tr th {\n",
       "        vertical-align: top;\n",
       "    }\n",
       "\n",
       "    .dataframe thead th {\n",
       "        text-align: right;\n",
       "    }\n",
       "</style>\n",
       "<table border=\"1\" class=\"dataframe\">\n",
       "  <thead>\n",
       "    <tr style=\"text-align: right;\">\n",
       "      <th></th>\n",
       "      <th>l</th>\n",
       "      <th>k</th>\n",
       "      <th>solution</th>\n",
       "      <th>gcd</th>\n",
       "      <th>n</th>\n",
       "      <th>zmax</th>\n",
       "      <th>hidden</th>\n",
       "    </tr>\n",
       "  </thead>\n",
       "  <tbody>\n",
       "  </tbody>\n",
       "</table>\n",
       "</div>"
      ],
      "text/plain": [
       "Empty DataFrame\n",
       "Columns: [l, k, solution, gcd, n, zmax, hidden]\n",
       "Index: []"
      ]
     },
     "execution_count": 35,
     "metadata": {},
     "output_type": "execute_result"
    }
   ],
   "source": [
    "hs[hs['hidden'].apply(intersections)]"
   ]
  },
  {
   "cell_type": "markdown",
   "id": "05dee240-3d40-4abf-8e68-54b4e00dc123",
   "metadata": {},
   "source": [
    "The minimum is..."
   ]
  },
  {
   "cell_type": "code",
   "execution_count": 36,
   "id": "b5391220-1d9d-4212-83bb-1b9df0e2fbe8",
   "metadata": {},
   "outputs": [
    {
     "data": {
      "text/html": [
       "<div>\n",
       "<style scoped>\n",
       "    .dataframe tbody tr th:only-of-type {\n",
       "        vertical-align: middle;\n",
       "    }\n",
       "\n",
       "    .dataframe tbody tr th {\n",
       "        vertical-align: top;\n",
       "    }\n",
       "\n",
       "    .dataframe thead th {\n",
       "        text-align: right;\n",
       "    }\n",
       "</style>\n",
       "<table border=\"1\" class=\"dataframe\">\n",
       "  <thead>\n",
       "    <tr style=\"text-align: right;\">\n",
       "      <th></th>\n",
       "      <th>l</th>\n",
       "      <th>k</th>\n",
       "      <th>solution</th>\n",
       "      <th>gcd</th>\n",
       "      <th>n</th>\n",
       "      <th>zmax</th>\n",
       "      <th>hidden</th>\n",
       "      <th>~intersections</th>\n",
       "    </tr>\n",
       "  </thead>\n",
       "  <tbody>\n",
       "    <tr>\n",
       "      <th>3</th>\n",
       "      <td>[1, 2, 1]</td>\n",
       "      <td>[-5, -10, -11]</td>\n",
       "      <td>[1, 2, 2, 4, -5, -5, -7, 8]</td>\n",
       "      <td>1</td>\n",
       "      <td>8</td>\n",
       "      <td>8</td>\n",
       "      <td>[{'S': 3, 'ψ': [(4, -7), (-5, 8), (2, -5), (1, 2)]}]</td>\n",
       "      <td>[(4, -7)]</td>\n",
       "    </tr>\n",
       "    <tr>\n",
       "      <th>1121</th>\n",
       "      <td>[0, -1, -2]</td>\n",
       "      <td>[-1, -4, -1, 1]</td>\n",
       "      <td>[4, 4, 11, 11, -14, -19, -26, 29]</td>\n",
       "      <td>1</td>\n",
       "      <td>8</td>\n",
       "      <td>29</td>\n",
       "      <td>[{'S': 15, 'ψ': [(4, -19), (11, -26), (4, 11), (-14, 29)]}]</td>\n",
       "      <td>[(-14, 29)]</td>\n",
       "    </tr>\n",
       "    <tr>\n",
       "      <th>950</th>\n",
       "      <td>[-1, 0, -1]</td>\n",
       "      <td>[-4, 1, -1]</td>\n",
       "      <td>[7, 7, 7, 8, -13, -22, -22, 28]</td>\n",
       "      <td>1</td>\n",
       "      <td>8</td>\n",
       "      <td>28</td>\n",
       "      <td>[{'S': 15, 'ψ': [(7, -22), (-13, 28), (7, 8)]}]</td>\n",
       "      <td>[(-13, 28)]</td>\n",
       "    </tr>\n",
       "    <tr>\n",
       "      <th>937</th>\n",
       "      <td>[-6, -5, -1]</td>\n",
       "      <td>[-6, -8, -6]</td>\n",
       "      <td>[8, -15, -15, -15, 20, 22, 22, -27]</td>\n",
       "      <td>4</td>\n",
       "      <td>8</td>\n",
       "      <td>27</td>\n",
       "      <td>[{'S': 7, 'ψ': [(8, -15), (20, -27), (-15, 22)]}]</td>\n",
       "      <td>[(20, -27)]</td>\n",
       "    </tr>\n",
       "    <tr>\n",
       "      <th>843</th>\n",
       "      <td>[-2, 0, -2]</td>\n",
       "      <td>[-3, 2, -2]</td>\n",
       "      <td>[13, -18, -18, -18, 22, 23, 23, -27]</td>\n",
       "      <td>4</td>\n",
       "      <td>8</td>\n",
       "      <td>27</td>\n",
       "      <td>[{'S': 5, 'ψ': [(22, -27), (13, -18), (-18, 23)]}]</td>\n",
       "      <td>[(22, -27)]</td>\n",
       "    </tr>\n",
       "    <tr>\n",
       "      <th>833</th>\n",
       "      <td>[1, 0, -1]</td>\n",
       "      <td>[-9, -7, 7]</td>\n",
       "      <td>[3, -11, -13, -13, 19, 21, 21, -27]</td>\n",
       "      <td>2</td>\n",
       "      <td>8</td>\n",
       "      <td>27</td>\n",
       "      <td>[{'S': 8, 'ψ': [(-11, 19), (-13, 21), (19, -27), (3, -11)]}]</td>\n",
       "      <td>[(-13, 21)]</td>\n",
       "    </tr>\n",
       "    <tr>\n",
       "      <th>832</th>\n",
       "      <td>[-1, 0, -1]</td>\n",
       "      <td>[-9, 1, -1]</td>\n",
       "      <td>[3, 3, 3, -7, 17, -23, -23, 27]</td>\n",
       "      <td>4</td>\n",
       "      <td>8</td>\n",
       "      <td>27</td>\n",
       "      <td>[{'S': 20, 'ψ': [(3, 17), (-7, 27), (3, -23)]}]</td>\n",
       "      <td>[(-7, 27)]</td>\n",
       "    </tr>\n",
       "    <tr>\n",
       "      <th>799</th>\n",
       "      <td>[6, 4, 6]</td>\n",
       "      <td>[-6, -7, -1, 0]</td>\n",
       "      <td>[9, -14, -16, -16, 21, 21, 21, -26]</td>\n",
       "      <td>4</td>\n",
       "      <td>8</td>\n",
       "      <td>26</td>\n",
       "      <td>[{'S': 5, 'ψ': [(-16, 21), (21, -26), (9, -14)]}]</td>\n",
       "      <td>[(9, -14)]</td>\n",
       "    </tr>\n",
       "    <tr>\n",
       "      <th>744</th>\n",
       "      <td>[0, -2, 0]</td>\n",
       "      <td>[-2, -5, -2, 2]</td>\n",
       "      <td>[2, 2, 2, -5, 19, -23, -23, 26]</td>\n",
       "      <td>4</td>\n",
       "      <td>8</td>\n",
       "      <td>26</td>\n",
       "      <td>[{'S': 21, 'ψ': [(-5, 26), (2, 19), (2, -23)]}]</td>\n",
       "      <td>[(-5, 26)]</td>\n",
       "    </tr>\n",
       "    <tr>\n",
       "      <th>461</th>\n",
       "      <td>[0, -1, -2]</td>\n",
       "      <td>[-1, -5, -1, 1]</td>\n",
       "      <td>[5, 5, 7, 7, -11, -17, -19, 23]</td>\n",
       "      <td>2</td>\n",
       "      <td>8</td>\n",
       "      <td>23</td>\n",
       "      <td>[{'S': 12, 'ψ': [(5, 7), (-11, 23), (7, -19), (5, -17)]}]</td>\n",
       "      <td>[(-11, 23)]</td>\n",
       "    </tr>\n",
       "    <tr>\n",
       "      <th>447</th>\n",
       "      <td>[-1, 0, 1]</td>\n",
       "      <td>[-11, -7, 7]</td>\n",
       "      <td>[1, -7, -7, 11, -13, 19, 19, -23]</td>\n",
       "      <td>2</td>\n",
       "      <td>8</td>\n",
       "      <td>23</td>\n",
       "      <td>[{'S': 12, 'ψ': [(11, -23), (1, -13), (1, 11), (-7, 19)]}]</td>\n",
       "      <td>[(-7, 19)]</td>\n",
       "    </tr>\n",
       "    <tr>\n",
       "      <th>222</th>\n",
       "      <td>[-1, -2, -1]</td>\n",
       "      <td>[-4, 1, -6]</td>\n",
       "      <td>[4, -9, -9, -11, 14, 14, 16, -19]</td>\n",
       "      <td>4</td>\n",
       "      <td>8</td>\n",
       "      <td>19</td>\n",
       "      <td>[{'S': 5, 'ψ': [(-9, 14), (-11, 16), (14, -19), (4, -9)]}]</td>\n",
       "      <td>[(-11, 16)]</td>\n",
       "    </tr>\n",
       "    <tr>\n",
       "      <th>1684</th>\n",
       "      <td>[2, -3, 2]</td>\n",
       "      <td>[-2, -4, -2, 0]</td>\n",
       "      <td>[17, -22, -22, -23, 27, 27, 28, -32]</td>\n",
       "      <td>4</td>\n",
       "      <td>8</td>\n",
       "      <td>32</td>\n",
       "      <td>[{'S': 5, 'ψ': [(17, -22), (27, -32), (-23, 28), (-22, 27)]}]</td>\n",
       "      <td>[(-23, 28)]</td>\n",
       "    </tr>\n",
       "    <tr>\n",
       "      <th>126</th>\n",
       "      <td>[1, 0, -1]</td>\n",
       "      <td>[-11, -7, 7]</td>\n",
       "      <td>[1, 5, 7, 7, -11, -13, -13, 17]</td>\n",
       "      <td>4</td>\n",
       "      <td>8</td>\n",
       "      <td>17</td>\n",
       "      <td>[{'S': 6, 'ψ': [(5, -11), (-11, 17), (1, 5), (7, -13)]}]</td>\n",
       "      <td>[(7, -13)]</td>\n",
       "    </tr>\n",
       "    <tr>\n",
       "      <th>120</th>\n",
       "      <td>[-1, 0, -1]</td>\n",
       "      <td>[-2, 2, -2]</td>\n",
       "      <td>[7, -10, -11, -11, 14, 14, 14, -17]</td>\n",
       "      <td>1</td>\n",
       "      <td>8</td>\n",
       "      <td>17</td>\n",
       "      <td>[{'S': 3, 'ψ': [(-11, 14), (7, -10), (14, -17)]}]</td>\n",
       "      <td>[(7, -10)]</td>\n",
       "    </tr>\n",
       "    <tr>\n",
       "      <th>93</th>\n",
       "      <td>[0, -1, 0]</td>\n",
       "      <td>[-1, -4, -1, 1]</td>\n",
       "      <td>[1, 1, 1, -4, -11, 14, 14, -16]</td>\n",
       "      <td>1</td>\n",
       "      <td>8</td>\n",
       "      <td>16</td>\n",
       "      <td>[{'S': 15, 'ψ': [(1, 14), (1, -16), (-4, -11)]}]</td>\n",
       "      <td>[(-4, -11)]</td>\n",
       "    </tr>\n",
       "    <tr>\n",
       "      <th>53</th>\n",
       "      <td>[0, -1, 0]</td>\n",
       "      <td>[-1, -6, -9, -6]</td>\n",
       "      <td>[1, -6, -6, -6, 9, 11, 11, -14]</td>\n",
       "      <td>2</td>\n",
       "      <td>8</td>\n",
       "      <td>14</td>\n",
       "      <td>[{'S': 5, 'ψ': [(-6, 11), (9, -14), (1, -6)]}]</td>\n",
       "      <td>[(9, -14)]</td>\n",
       "    </tr>\n",
       "    <tr>\n",
       "      <th>40</th>\n",
       "      <td>[-1, -2, -1]</td>\n",
       "      <td>[-1, 1, -2]</td>\n",
       "      <td>[4, -7, -7, -8, 10, 10, 11, -13]</td>\n",
       "      <td>1</td>\n",
       "      <td>8</td>\n",
       "      <td>13</td>\n",
       "      <td>[{'S': 3, 'ψ': [(4, -7), (10, -13), (-7, 10), (-8, 11)]}]</td>\n",
       "      <td>[(-8, 11)]</td>\n",
       "    </tr>\n",
       "    <tr>\n",
       "      <th>39</th>\n",
       "      <td>[-1, 0, 1]</td>\n",
       "      <td>[-9, -7, 5]</td>\n",
       "      <td>[1, -5, -5, -7, 9, 9, 11, -13]</td>\n",
       "      <td>2</td>\n",
       "      <td>8</td>\n",
       "      <td>13</td>\n",
       "      <td>[{'S': 4, 'ψ': [(9, -13), (-5, 9), (-7, 11), (1, -5)]}]</td>\n",
       "      <td>[(-7, 11)]</td>\n",
       "    </tr>\n",
       "    <tr>\n",
       "      <th>38</th>\n",
       "      <td>[0, -1, 0]</td>\n",
       "      <td>[-1, -5, -1, 1]</td>\n",
       "      <td>[1, 1, 1, -5, -7, 11, 11, -13]</td>\n",
       "      <td>2</td>\n",
       "      <td>8</td>\n",
       "      <td>13</td>\n",
       "      <td>[{'S': 12, 'ψ': [(1, 11), (-5, -7), (1, -13)]}]</td>\n",
       "      <td>[(-5, -7)]</td>\n",
       "    </tr>\n",
       "    <tr>\n",
       "      <th>36</th>\n",
       "      <td>[0, -1, 0]</td>\n",
       "      <td>[-1, -2, 2, -2]</td>\n",
       "      <td>[2, -5, -7, -7, 10, 10, 10, -13]</td>\n",
       "      <td>1</td>\n",
       "      <td>8</td>\n",
       "      <td>13</td>\n",
       "      <td>[{'S': 3, 'ψ': [(-7, 10), (10, -13), (2, -5)]}]</td>\n",
       "      <td>[(2, -5)]</td>\n",
       "    </tr>\n",
       "    <tr>\n",
       "      <th>11</th>\n",
       "      <td>[-1, 0, -1]</td>\n",
       "      <td>[-2, 1, -1]</td>\n",
       "      <td>[2, -5, -5, -5, 7, 8, 8, -10]</td>\n",
       "      <td>1</td>\n",
       "      <td>8</td>\n",
       "      <td>10</td>\n",
       "      <td>[{'S': 3, 'ψ': [(7, -10), (-5, 8), (2, -5)]}]</td>\n",
       "      <td>[(7, -10)]</td>\n",
       "    </tr>\n",
       "    <tr>\n",
       "      <th>10</th>\n",
       "      <td>[1, -3, -2]</td>\n",
       "      <td>[-4, -9, -5, -3]</td>\n",
       "      <td>[1, 3, 3, 3, -5, -7, -7, 9]</td>\n",
       "      <td>1</td>\n",
       "      <td>8</td>\n",
       "      <td>9</td>\n",
       "      <td>[{'S': 4, 'ψ': [(1, -5), (-5, 9), (3, -7), (1, 3)]}]</td>\n",
       "      <td>[(3, -7)]</td>\n",
       "    </tr>\n",
       "    <tr>\n",
       "      <th>196</th>\n",
       "      <td>[-1, 0, -1]</td>\n",
       "      <td>[-3, 3, -3]</td>\n",
       "      <td>[5, -9, -11, -11, 15, 15, 15, -19]</td>\n",
       "      <td>2</td>\n",
       "      <td>8</td>\n",
       "      <td>19</td>\n",
       "      <td>[{'S': 4, 'ψ': [(-11, 15), (5, -9), (15, -19)]}]</td>\n",
       "      <td>[(5, -9)]</td>\n",
       "    </tr>\n",
       "    <tr>\n",
       "      <th>2334</th>\n",
       "      <td>[-1, -2, -1, -2, -1]</td>\n",
       "      <td>[-1, -3, -1, -3, -1]</td>\n",
       "      <td>[1, 1, 1, -5, -5, 7, 7, -9, -9, 13, 13, -15]</td>\n",
       "      <td>2</td>\n",
       "      <td>12</td>\n",
       "      <td>15</td>\n",
       "      <td>[{'S': 8, 'ψ': [(1, -9), (7, -15), (-5, 13), (1, 7)]}, {'S': 14, 'ψ': [(-5, -9), (1, -15), (7, 7), (1, 13)]}]</td>\n",
       "      <td>[(-5, 13)]</td>\n",
       "    </tr>\n",
       "    <tr>\n",
       "      <th>2898</th>\n",
       "      <td>[-3, 0, -1, 0, -1]</td>\n",
       "      <td>[-3, -2, -3, -2, -3]</td>\n",
       "      <td>[3, 3, -7, -7, -7, -8, -8, 12, 12, 12, 12, -17]</td>\n",
       "      <td>4</td>\n",
       "      <td>12</td>\n",
       "      <td>17</td>\n",
       "      <td>[{'S': 5, 'ψ': [(12, -17), (-7, 12), (3, -8)]}]</td>\n",
       "      <td>[(3, -8)]</td>\n",
       "    </tr>\n",
       "    <tr>\n",
       "      <th>4340</th>\n",
       "      <td>[-2, 0, -2, 0, -2]</td>\n",
       "      <td>[-3, 2, -3, 2, -2]</td>\n",
       "      <td>[9, -14, -14, -14, -14, 16, 16, 19, 19, 19, -21, -21]</td>\n",
       "      <td>8</td>\n",
       "      <td>12</td>\n",
       "      <td>21</td>\n",
       "      <td>[{'S': 5, 'ψ': [(9, -14), (-14, 19), (16, -21)]}]</td>\n",
       "      <td>[(16, -21)]</td>\n",
       "    </tr>\n",
       "    <tr>\n",
       "      <th>7139</th>\n",
       "      <td>[-1, -2, -1, -2, -1]</td>\n",
       "      <td>[-1, 1, -3, 1, -3]</td>\n",
       "      <td>[3, -11, -11, -17, -17, 19, 19, 19, 25, 25, -27, -27]</td>\n",
       "      <td>2</td>\n",
       "      <td>12</td>\n",
       "      <td>27</td>\n",
       "      <td>[{'S': 8, 'ψ': [(-17, 25), (-11, 19), (19, -27), (3, -11)]}]</td>\n",
       "      <td>[(-17, 25)]</td>\n",
       "    </tr>\n",
       "    <tr>\n",
       "      <th>6411</th>\n",
       "      <td>[-1, 0, -1, 0, -1]</td>\n",
       "      <td>[-2, 2, -2, 2, -2]</td>\n",
       "      <td>[11, -14, -19, -19, -19, 22, 22, 22, 22, 22, -25, -25]</td>\n",
       "      <td>1</td>\n",
       "      <td>12</td>\n",
       "      <td>25</td>\n",
       "      <td>[{'S': 3, 'ψ': [(22, -25), (11, -14), (-19, 22)]}]</td>\n",
       "      <td>[(11, -14)]</td>\n",
       "    </tr>\n",
       "    <tr>\n",
       "      <th>6412</th>\n",
       "      <td>[1, 0, -1, 0, -1]</td>\n",
       "      <td>[-3, 3, -3, 3, -3]</td>\n",
       "      <td>[3, -7, -17, -17, -17, 21, 21, 21, 21, 21, -25, -25]</td>\n",
       "      <td>2</td>\n",
       "      <td>12</td>\n",
       "      <td>25</td>\n",
       "      <td>[{'S': 4, 'ψ': [(21, -25), (-17, 21), (3, -7)]}]</td>\n",
       "      <td>[(3, -7)]</td>\n",
       "    </tr>\n",
       "    <tr>\n",
       "      <th>6761</th>\n",
       "      <td>[2, 0, -2, 0, -2]</td>\n",
       "      <td>[-3, -2, 2, -2, 2]</td>\n",
       "      <td>[9, 9, -14, -14, -14, -14, -14, 19, 19, 19, 21, -26]</td>\n",
       "      <td>4</td>\n",
       "      <td>12</td>\n",
       "      <td>26</td>\n",
       "      <td>[{'S': 5, 'ψ': [(21, -26), (9, -14), (-14, 19)]}]</td>\n",
       "      <td>[(21, -26)]</td>\n",
       "    </tr>\n",
       "    <tr>\n",
       "      <th>2281</th>\n",
       "      <td>[-1, 0, -1, 0, -1]</td>\n",
       "      <td>[-3, 1, -3, 1, -1]</td>\n",
       "      <td>[3, 5, 5, 5, 5, -7, -7, -13, -13, -13, 15, 15]</td>\n",
       "      <td>2</td>\n",
       "      <td>12</td>\n",
       "      <td>15</td>\n",
       "      <td>[{'S': 8, 'ψ': [(-7, 15), (5, -13), (3, 5)]}]</td>\n",
       "      <td>[(-7, 15)]</td>\n",
       "    </tr>\n",
       "    <tr>\n",
       "      <th>5293</th>\n",
       "      <td>[1, 0, -1, 0, 1]</td>\n",
       "      <td>[-3, -1, -3, 3, -3]</td>\n",
       "      <td>[3, 3, 5, 5, 7, 7, 7, -15, -15, -15, -15, 23]</td>\n",
       "      <td>2</td>\n",
       "      <td>12</td>\n",
       "      <td>23</td>\n",
       "      <td>[{'S': 8, 'ψ': [(7, -15), (-15, 23), (3, 5)]}]</td>\n",
       "      <td>[(3, 5)]</td>\n",
       "    </tr>\n",
       "    <tr>\n",
       "      <th>2121</th>\n",
       "      <td>[-1, -2, -1, -2, -1]</td>\n",
       "      <td>[-1, 1, -2, 1, -2]</td>\n",
       "      <td>[5, -8, -8, -10, -10, 11, 11, 11, 13, 13, -14, -14]</td>\n",
       "      <td>2</td>\n",
       "      <td>12</td>\n",
       "      <td>14</td>\n",
       "      <td>[{'S': 3, 'ψ': [(5, -8), (-10, 13), (11, -14), (-8, 11)]}]</td>\n",
       "      <td>[(-10, 13)]</td>\n",
       "    </tr>\n",
       "    <tr>\n",
       "      <th>1848</th>\n",
       "      <td>[-1, -2, -1, 0, -1]</td>\n",
       "      <td>[-1, -2, -1, 1, -1]</td>\n",
       "      <td>[1, -4, -4, -4, 7, 7, 7, 7, -8, -10, -10, 11]</td>\n",
       "      <td>1</td>\n",
       "      <td>12</td>\n",
       "      <td>11</td>\n",
       "      <td>[{'S': 3, 'ψ': [(-4, 7), (1, -4), (7, -10), (-8, 11)]}]</td>\n",
       "      <td>[(-8, 11)]</td>\n",
       "    </tr>\n",
       "    <tr>\n",
       "      <th>1988</th>\n",
       "      <td>[-1, 0, -1, 0, -1]</td>\n",
       "      <td>[-2, 1, -2, 2, -2]</td>\n",
       "      <td>[5, 5, -7, -7, -7, -8, -8, 10, 10, 10, 10, -13]</td>\n",
       "      <td>2</td>\n",
       "      <td>12</td>\n",
       "      <td>13</td>\n",
       "      <td>[{'S': 3, 'ψ': [(5, -8), (-7, 10), (10, -13)]}]</td>\n",
       "      <td>[(5, -8)]</td>\n",
       "    </tr>\n",
       "    <tr>\n",
       "      <th>1985</th>\n",
       "      <td>[-2, 0, -2, 3, -2]</td>\n",
       "      <td>[-3, 2, -3, 2, -3]</td>\n",
       "      <td>[2, 2, 3, 3, 3, 3, 3, -7, -8, -8, -8, 12]</td>\n",
       "      <td>15</td>\n",
       "      <td>12</td>\n",
       "      <td>12</td>\n",
       "      <td>[{'S': 5, 'ψ': [(2, 3), (2, -7), (-7, 12), (3, -8)]}]</td>\n",
       "      <td>[(-7, 12)]</td>\n",
       "    </tr>\n",
       "    <tr>\n",
       "      <th>1898</th>\n",
       "      <td>[-1, -2, -3, -2, -1]</td>\n",
       "      <td>[-3, 1, -3, -1, -3]</td>\n",
       "      <td>[1, 1, 1, 3, -5, -5, -5, -5, 7, 9, 9, -11]</td>\n",
       "      <td>2</td>\n",
       "      <td>12</td>\n",
       "      <td>11</td>\n",
       "      <td>[{'S': 4, 'ψ': [(-5, 9), (7, -11), (1, 3), (1, -5)]}, {'S': 10, 'ψ': [(3, 7), (1, 9), (-5, -5), (1, -11)]}]</td>\n",
       "      <td>[(7, -11)]</td>\n",
       "    </tr>\n",
       "    <tr>\n",
       "      <th>1849</th>\n",
       "      <td>[-1, -2, -1, 0, -1]</td>\n",
       "      <td>[-1, 1, -2, 1, -1]</td>\n",
       "      <td>[2, 2, -4, -5, -5, -5, -5, 7, 8, 8, 8, -11]</td>\n",
       "      <td>1</td>\n",
       "      <td>12</td>\n",
       "      <td>11</td>\n",
       "      <td>[{'S': 3, 'ψ': [(-4, 7), (-5, 8), (2, -5), (8, -11)]}]</td>\n",
       "      <td>[(-4, 7)]</td>\n",
       "    </tr>\n",
       "    <tr>\n",
       "      <th>1794</th>\n",
       "      <td>[1, 0, -2, 0, -2]</td>\n",
       "      <td>[-3, -1, -3, -1, 1]</td>\n",
       "      <td>[1, 1, 1, 1, -3, -3, -5, -5, 7, 7, 7, -9]</td>\n",
       "      <td>2</td>\n",
       "      <td>12</td>\n",
       "      <td>9</td>\n",
       "      <td>[{'S': 2, 'ψ': [(-5, 7), (7, -9), (1, 1), (1, -3)]}, {'S': 8, 'ψ': [(1, 7), (1, -9), (-3, -5)]}]</td>\n",
       "      <td>[(-3, -5)]</td>\n",
       "    </tr>\n",
       "    <tr>\n",
       "      <th>1783</th>\n",
       "      <td>[-1, 0, -1, 0, -1]</td>\n",
       "      <td>[-2, 1, -2, 1, -1]</td>\n",
       "      <td>[1, -4, -4, -4, -4, 5, 5, 7, 7, 7, -8, -8]</td>\n",
       "      <td>2</td>\n",
       "      <td>12</td>\n",
       "      <td>8</td>\n",
       "      <td>[{'S': 3, 'ψ': [(5, -8), (1, -4), (-4, 7)]}]</td>\n",
       "      <td>[(5, -8)]</td>\n",
       "    </tr>\n",
       "    <tr>\n",
       "      <th>1781</th>\n",
       "      <td>[1, 0, -3, -2, 1]</td>\n",
       "      <td>[-2, -1, -2, -3, 0]</td>\n",
       "      <td>[1, 2, 3, 3, 3, -4, -4, -6, -6, -6, 7, 7]</td>\n",
       "      <td>1</td>\n",
       "      <td>12</td>\n",
       "      <td>7</td>\n",
       "      <td>[{'S': 3, 'ψ': [(-4, 7), (3, -6), (1, -4), (1, 2)]}]</td>\n",
       "      <td>[(3, -6)]</td>\n",
       "    </tr>\n",
       "    <tr>\n",
       "      <th>1779</th>\n",
       "      <td>[2, -1, 2, -1, 2]</td>\n",
       "      <td>[-3, -2, -1, -2, -1]</td>\n",
       "      <td>[2, -3, -5, -5, -5, 6, 6, 6, 6, 6, -7, -7]</td>\n",
       "      <td>2</td>\n",
       "      <td>12</td>\n",
       "      <td>7</td>\n",
       "      <td>[{'S': 1, 'ψ': [(6, -7), (2, -3), (-5, 6)]}]</td>\n",
       "      <td>[(2, -3)]</td>\n",
       "    </tr>\n",
       "    <tr>\n",
       "      <th>1776</th>\n",
       "      <td>[-1, -2, -1, 0, -1]</td>\n",
       "      <td>[-2, 1, -1, 1, -1]</td>\n",
       "      <td>[1, 1, 1, 2, 2, 2, 2, -4, -4, -5, -5, 7]</td>\n",
       "      <td>1</td>\n",
       "      <td>12</td>\n",
       "      <td>7</td>\n",
       "      <td>[{'S': 3, 'ψ': [(1, -4), (1, 2), (-4, 7), (2, -5)]}]</td>\n",
       "      <td>[(2, -5)]</td>\n",
       "    </tr>\n",
       "    <tr>\n",
       "      <th>7955</th>\n",
       "      <td>[-1, 0, -1, 0, -1]</td>\n",
       "      <td>[-3, 1, -3, 3, -3]</td>\n",
       "      <td>[7, 7, -13, -13, -13, -15, -15, 21, 21, 21, 21, -29]</td>\n",
       "      <td>2</td>\n",
       "      <td>12</td>\n",
       "      <td>29</td>\n",
       "      <td>[{'S': 8, 'ψ': [(-13, 21), (21, -29), (7, -15)]}]</td>\n",
       "      <td>[(7, -15)]</td>\n",
       "    </tr>\n",
       "    <tr>\n",
       "      <th>2105</th>\n",
       "      <td>[-1, 0, -1, 0, -1]</td>\n",
       "      <td>[-2, 1, -1, 1, -1]</td>\n",
       "      <td>[4, 4, -7, -7, -7, -7, -7, 10, 10, 10, 11, -14]</td>\n",
       "      <td>1</td>\n",
       "      <td>12</td>\n",
       "      <td>14</td>\n",
       "      <td>[{'S': 3, 'ψ': [(4, -7), (-7, 10), (11, -14)]}]</td>\n",
       "      <td>[(11, -14)]</td>\n",
       "    </tr>\n",
       "    <tr>\n",
       "      <th>7997</th>\n",
       "      <td>[-2, 0, -2, 0, -2]</td>\n",
       "      <td>[-3, 2, -3, 3, -3]</td>\n",
       "      <td>[16, 16, -19, -19, -19, -21, -21, 24, 24, 24, 24, -29]</td>\n",
       "      <td>8</td>\n",
       "      <td>12</td>\n",
       "      <td>29</td>\n",
       "      <td>[{'S': 5, 'ψ': [(-19, 24), (24, -29), (16, -21)]}]</td>\n",
       "      <td>[(16, -21)]</td>\n",
       "    </tr>\n",
       "  </tbody>\n",
       "</table>\n",
       "</div>"
      ],
      "text/plain": [
       "                         l                     k  \\\n",
       "3                [1, 2, 1]        [-5, -10, -11]   \n",
       "1121           [0, -1, -2]       [-1, -4, -1, 1]   \n",
       "950            [-1, 0, -1]           [-4, 1, -1]   \n",
       "937           [-6, -5, -1]          [-6, -8, -6]   \n",
       "843            [-2, 0, -2]           [-3, 2, -2]   \n",
       "833             [1, 0, -1]           [-9, -7, 7]   \n",
       "832            [-1, 0, -1]           [-9, 1, -1]   \n",
       "799              [6, 4, 6]       [-6, -7, -1, 0]   \n",
       "744             [0, -2, 0]       [-2, -5, -2, 2]   \n",
       "461            [0, -1, -2]       [-1, -5, -1, 1]   \n",
       "447             [-1, 0, 1]          [-11, -7, 7]   \n",
       "222           [-1, -2, -1]           [-4, 1, -6]   \n",
       "1684            [2, -3, 2]       [-2, -4, -2, 0]   \n",
       "126             [1, 0, -1]          [-11, -7, 7]   \n",
       "120            [-1, 0, -1]           [-2, 2, -2]   \n",
       "93              [0, -1, 0]       [-1, -4, -1, 1]   \n",
       "53              [0, -1, 0]      [-1, -6, -9, -6]   \n",
       "40            [-1, -2, -1]           [-1, 1, -2]   \n",
       "39              [-1, 0, 1]           [-9, -7, 5]   \n",
       "38              [0, -1, 0]       [-1, -5, -1, 1]   \n",
       "36              [0, -1, 0]       [-1, -2, 2, -2]   \n",
       "11             [-1, 0, -1]           [-2, 1, -1]   \n",
       "10             [1, -3, -2]      [-4, -9, -5, -3]   \n",
       "196            [-1, 0, -1]           [-3, 3, -3]   \n",
       "2334  [-1, -2, -1, -2, -1]  [-1, -3, -1, -3, -1]   \n",
       "2898    [-3, 0, -1, 0, -1]  [-3, -2, -3, -2, -3]   \n",
       "4340    [-2, 0, -2, 0, -2]    [-3, 2, -3, 2, -2]   \n",
       "7139  [-1, -2, -1, -2, -1]    [-1, 1, -3, 1, -3]   \n",
       "6411    [-1, 0, -1, 0, -1]    [-2, 2, -2, 2, -2]   \n",
       "6412     [1, 0, -1, 0, -1]    [-3, 3, -3, 3, -3]   \n",
       "6761     [2, 0, -2, 0, -2]    [-3, -2, 2, -2, 2]   \n",
       "2281    [-1, 0, -1, 0, -1]    [-3, 1, -3, 1, -1]   \n",
       "5293      [1, 0, -1, 0, 1]   [-3, -1, -3, 3, -3]   \n",
       "2121  [-1, -2, -1, -2, -1]    [-1, 1, -2, 1, -2]   \n",
       "1848   [-1, -2, -1, 0, -1]   [-1, -2, -1, 1, -1]   \n",
       "1988    [-1, 0, -1, 0, -1]    [-2, 1, -2, 2, -2]   \n",
       "1985    [-2, 0, -2, 3, -2]    [-3, 2, -3, 2, -3]   \n",
       "1898  [-1, -2, -3, -2, -1]   [-3, 1, -3, -1, -3]   \n",
       "1849   [-1, -2, -1, 0, -1]    [-1, 1, -2, 1, -1]   \n",
       "1794     [1, 0, -2, 0, -2]   [-3, -1, -3, -1, 1]   \n",
       "1783    [-1, 0, -1, 0, -1]    [-2, 1, -2, 1, -1]   \n",
       "1781     [1, 0, -3, -2, 1]   [-2, -1, -2, -3, 0]   \n",
       "1779     [2, -1, 2, -1, 2]  [-3, -2, -1, -2, -1]   \n",
       "1776   [-1, -2, -1, 0, -1]    [-2, 1, -1, 1, -1]   \n",
       "7955    [-1, 0, -1, 0, -1]    [-3, 1, -3, 3, -3]   \n",
       "2105    [-1, 0, -1, 0, -1]    [-2, 1, -1, 1, -1]   \n",
       "7997    [-2, 0, -2, 0, -2]    [-3, 2, -3, 3, -3]   \n",
       "\n",
       "                                                    solution  gcd   n  zmax  \\\n",
       "3                                [1, 2, 2, 4, -5, -5, -7, 8]    1   8     8   \n",
       "1121                       [4, 4, 11, 11, -14, -19, -26, 29]    1   8    29   \n",
       "950                          [7, 7, 7, 8, -13, -22, -22, 28]    1   8    28   \n",
       "937                      [8, -15, -15, -15, 20, 22, 22, -27]    4   8    27   \n",
       "843                     [13, -18, -18, -18, 22, 23, 23, -27]    4   8    27   \n",
       "833                      [3, -11, -13, -13, 19, 21, 21, -27]    2   8    27   \n",
       "832                          [3, 3, 3, -7, 17, -23, -23, 27]    4   8    27   \n",
       "799                      [9, -14, -16, -16, 21, 21, 21, -26]    4   8    26   \n",
       "744                          [2, 2, 2, -5, 19, -23, -23, 26]    4   8    26   \n",
       "461                          [5, 5, 7, 7, -11, -17, -19, 23]    2   8    23   \n",
       "447                        [1, -7, -7, 11, -13, 19, 19, -23]    2   8    23   \n",
       "222                        [4, -9, -9, -11, 14, 14, 16, -19]    4   8    19   \n",
       "1684                    [17, -22, -22, -23, 27, 27, 28, -32]    4   8    32   \n",
       "126                          [1, 5, 7, 7, -11, -13, -13, 17]    4   8    17   \n",
       "120                      [7, -10, -11, -11, 14, 14, 14, -17]    1   8    17   \n",
       "93                           [1, 1, 1, -4, -11, 14, 14, -16]    1   8    16   \n",
       "53                           [1, -6, -6, -6, 9, 11, 11, -14]    2   8    14   \n",
       "40                          [4, -7, -7, -8, 10, 10, 11, -13]    1   8    13   \n",
       "39                            [1, -5, -5, -7, 9, 9, 11, -13]    2   8    13   \n",
       "38                            [1, 1, 1, -5, -7, 11, 11, -13]    2   8    13   \n",
       "36                          [2, -5, -7, -7, 10, 10, 10, -13]    1   8    13   \n",
       "11                             [2, -5, -5, -5, 7, 8, 8, -10]    1   8    10   \n",
       "10                               [1, 3, 3, 3, -5, -7, -7, 9]    1   8     9   \n",
       "196                       [5, -9, -11, -11, 15, 15, 15, -19]    2   8    19   \n",
       "2334            [1, 1, 1, -5, -5, 7, 7, -9, -9, 13, 13, -15]    2  12    15   \n",
       "2898         [3, 3, -7, -7, -7, -8, -8, 12, 12, 12, 12, -17]    4  12    17   \n",
       "4340   [9, -14, -14, -14, -14, 16, 16, 19, 19, 19, -21, -21]    8  12    21   \n",
       "7139   [3, -11, -11, -17, -17, 19, 19, 19, 25, 25, -27, -27]    2  12    27   \n",
       "6411  [11, -14, -19, -19, -19, 22, 22, 22, 22, 22, -25, -25]    1  12    25   \n",
       "6412    [3, -7, -17, -17, -17, 21, 21, 21, 21, 21, -25, -25]    2  12    25   \n",
       "6761    [9, 9, -14, -14, -14, -14, -14, 19, 19, 19, 21, -26]    4  12    26   \n",
       "2281          [3, 5, 5, 5, 5, -7, -7, -13, -13, -13, 15, 15]    2  12    15   \n",
       "5293           [3, 3, 5, 5, 7, 7, 7, -15, -15, -15, -15, 23]    2  12    23   \n",
       "2121     [5, -8, -8, -10, -10, 11, 11, 11, 13, 13, -14, -14]    2  12    14   \n",
       "1848           [1, -4, -4, -4, 7, 7, 7, 7, -8, -10, -10, 11]    1  12    11   \n",
       "1988         [5, 5, -7, -7, -7, -8, -8, 10, 10, 10, 10, -13]    2  12    13   \n",
       "1985               [2, 2, 3, 3, 3, 3, 3, -7, -8, -8, -8, 12]   15  12    12   \n",
       "1898              [1, 1, 1, 3, -5, -5, -5, -5, 7, 9, 9, -11]    2  12    11   \n",
       "1849             [2, 2, -4, -5, -5, -5, -5, 7, 8, 8, 8, -11]    1  12    11   \n",
       "1794               [1, 1, 1, 1, -3, -3, -5, -5, 7, 7, 7, -9]    2  12     9   \n",
       "1783              [1, -4, -4, -4, -4, 5, 5, 7, 7, 7, -8, -8]    2  12     8   \n",
       "1781               [1, 2, 3, 3, 3, -4, -4, -6, -6, -6, 7, 7]    1  12     7   \n",
       "1779              [2, -3, -5, -5, -5, 6, 6, 6, 6, 6, -7, -7]    2  12     7   \n",
       "1776                [1, 1, 1, 2, 2, 2, 2, -4, -4, -5, -5, 7]    1  12     7   \n",
       "7955    [7, 7, -13, -13, -13, -15, -15, 21, 21, 21, 21, -29]    2  12    29   \n",
       "2105         [4, 4, -7, -7, -7, -7, -7, 10, 10, 10, 11, -14]    1  12    14   \n",
       "7997  [16, 16, -19, -19, -19, -21, -21, 24, 24, 24, 24, -29]    8  12    29   \n",
       "\n",
       "                                                                                                             hidden  \\\n",
       "3                                                              [{'S': 3, 'ψ': [(4, -7), (-5, 8), (2, -5), (1, 2)]}]   \n",
       "1121                                                    [{'S': 15, 'ψ': [(4, -19), (11, -26), (4, 11), (-14, 29)]}]   \n",
       "950                                                                 [{'S': 15, 'ψ': [(7, -22), (-13, 28), (7, 8)]}]   \n",
       "937                                                               [{'S': 7, 'ψ': [(8, -15), (20, -27), (-15, 22)]}]   \n",
       "843                                                              [{'S': 5, 'ψ': [(22, -27), (13, -18), (-18, 23)]}]   \n",
       "833                                                    [{'S': 8, 'ψ': [(-11, 19), (-13, 21), (19, -27), (3, -11)]}]   \n",
       "832                                                                 [{'S': 20, 'ψ': [(3, 17), (-7, 27), (3, -23)]}]   \n",
       "799                                                               [{'S': 5, 'ψ': [(-16, 21), (21, -26), (9, -14)]}]   \n",
       "744                                                                 [{'S': 21, 'ψ': [(-5, 26), (2, 19), (2, -23)]}]   \n",
       "461                                                       [{'S': 12, 'ψ': [(5, 7), (-11, 23), (7, -19), (5, -17)]}]   \n",
       "447                                                      [{'S': 12, 'ψ': [(11, -23), (1, -13), (1, 11), (-7, 19)]}]   \n",
       "222                                                      [{'S': 5, 'ψ': [(-9, 14), (-11, 16), (14, -19), (4, -9)]}]   \n",
       "1684                                                  [{'S': 5, 'ψ': [(17, -22), (27, -32), (-23, 28), (-22, 27)]}]   \n",
       "126                                                        [{'S': 6, 'ψ': [(5, -11), (-11, 17), (1, 5), (7, -13)]}]   \n",
       "120                                                               [{'S': 3, 'ψ': [(-11, 14), (7, -10), (14, -17)]}]   \n",
       "93                                                                 [{'S': 15, 'ψ': [(1, 14), (1, -16), (-4, -11)]}]   \n",
       "53                                                                   [{'S': 5, 'ψ': [(-6, 11), (9, -14), (1, -6)]}]   \n",
       "40                                                        [{'S': 3, 'ψ': [(4, -7), (10, -13), (-7, 10), (-8, 11)]}]   \n",
       "39                                                          [{'S': 4, 'ψ': [(9, -13), (-5, 9), (-7, 11), (1, -5)]}]   \n",
       "38                                                                  [{'S': 12, 'ψ': [(1, 11), (-5, -7), (1, -13)]}]   \n",
       "36                                                                  [{'S': 3, 'ψ': [(-7, 10), (10, -13), (2, -5)]}]   \n",
       "11                                                                    [{'S': 3, 'ψ': [(7, -10), (-5, 8), (2, -5)]}]   \n",
       "10                                                             [{'S': 4, 'ψ': [(1, -5), (-5, 9), (3, -7), (1, 3)]}]   \n",
       "196                                                                [{'S': 4, 'ψ': [(-11, 15), (5, -9), (15, -19)]}]   \n",
       "2334  [{'S': 8, 'ψ': [(1, -9), (7, -15), (-5, 13), (1, 7)]}, {'S': 14, 'ψ': [(-5, -9), (1, -15), (7, 7), (1, 13)]}]   \n",
       "2898                                                                [{'S': 5, 'ψ': [(12, -17), (-7, 12), (3, -8)]}]   \n",
       "4340                                                              [{'S': 5, 'ψ': [(9, -14), (-14, 19), (16, -21)]}]   \n",
       "7139                                                   [{'S': 8, 'ψ': [(-17, 25), (-11, 19), (19, -27), (3, -11)]}]   \n",
       "6411                                                             [{'S': 3, 'ψ': [(22, -25), (11, -14), (-19, 22)]}]   \n",
       "6412                                                               [{'S': 4, 'ψ': [(21, -25), (-17, 21), (3, -7)]}]   \n",
       "6761                                                              [{'S': 5, 'ψ': [(21, -26), (9, -14), (-14, 19)]}]   \n",
       "2281                                                                  [{'S': 8, 'ψ': [(-7, 15), (5, -13), (3, 5)]}]   \n",
       "5293                                                                 [{'S': 8, 'ψ': [(7, -15), (-15, 23), (3, 5)]}]   \n",
       "2121                                                     [{'S': 3, 'ψ': [(5, -8), (-10, 13), (11, -14), (-8, 11)]}]   \n",
       "1848                                                        [{'S': 3, 'ψ': [(-4, 7), (1, -4), (7, -10), (-8, 11)]}]   \n",
       "1988                                                                [{'S': 3, 'ψ': [(5, -8), (-7, 10), (10, -13)]}]   \n",
       "1985                                                          [{'S': 5, 'ψ': [(2, 3), (2, -7), (-7, 12), (3, -8)]}]   \n",
       "1898    [{'S': 4, 'ψ': [(-5, 9), (7, -11), (1, 3), (1, -5)]}, {'S': 10, 'ψ': [(3, 7), (1, 9), (-5, -5), (1, -11)]}]   \n",
       "1849                                                         [{'S': 3, 'ψ': [(-4, 7), (-5, 8), (2, -5), (8, -11)]}]   \n",
       "1794               [{'S': 2, 'ψ': [(-5, 7), (7, -9), (1, 1), (1, -3)]}, {'S': 8, 'ψ': [(1, 7), (1, -9), (-3, -5)]}]   \n",
       "1783                                                                   [{'S': 3, 'ψ': [(5, -8), (1, -4), (-4, 7)]}]   \n",
       "1781                                                           [{'S': 3, 'ψ': [(-4, 7), (3, -6), (1, -4), (1, 2)]}]   \n",
       "1779                                                                   [{'S': 1, 'ψ': [(6, -7), (2, -3), (-5, 6)]}]   \n",
       "1776                                                           [{'S': 3, 'ψ': [(1, -4), (1, 2), (-4, 7), (2, -5)]}]   \n",
       "7955                                                              [{'S': 8, 'ψ': [(-13, 21), (21, -29), (7, -15)]}]   \n",
       "2105                                                                [{'S': 3, 'ψ': [(4, -7), (-7, 10), (11, -14)]}]   \n",
       "7997                                                             [{'S': 5, 'ψ': [(-19, 24), (24, -29), (16, -21)]}]   \n",
       "\n",
       "     ~intersections  \n",
       "3         [(4, -7)]  \n",
       "1121    [(-14, 29)]  \n",
       "950     [(-13, 28)]  \n",
       "937     [(20, -27)]  \n",
       "843     [(22, -27)]  \n",
       "833     [(-13, 21)]  \n",
       "832      [(-7, 27)]  \n",
       "799      [(9, -14)]  \n",
       "744      [(-5, 26)]  \n",
       "461     [(-11, 23)]  \n",
       "447      [(-7, 19)]  \n",
       "222     [(-11, 16)]  \n",
       "1684    [(-23, 28)]  \n",
       "126      [(7, -13)]  \n",
       "120      [(7, -10)]  \n",
       "93      [(-4, -11)]  \n",
       "53       [(9, -14)]  \n",
       "40       [(-8, 11)]  \n",
       "39       [(-7, 11)]  \n",
       "38       [(-5, -7)]  \n",
       "36        [(2, -5)]  \n",
       "11       [(7, -10)]  \n",
       "10        [(3, -7)]  \n",
       "196       [(5, -9)]  \n",
       "2334     [(-5, 13)]  \n",
       "2898      [(3, -8)]  \n",
       "4340    [(16, -21)]  \n",
       "7139    [(-17, 25)]  \n",
       "6411    [(11, -14)]  \n",
       "6412      [(3, -7)]  \n",
       "6761    [(21, -26)]  \n",
       "2281     [(-7, 15)]  \n",
       "5293       [(3, 5)]  \n",
       "2121    [(-10, 13)]  \n",
       "1848     [(-8, 11)]  \n",
       "1988      [(5, -8)]  \n",
       "1985     [(-7, 12)]  \n",
       "1898     [(7, -11)]  \n",
       "1849      [(-4, 7)]  \n",
       "1794     [(-3, -5)]  \n",
       "1783      [(5, -8)]  \n",
       "1781      [(3, -6)]  \n",
       "1779      [(2, -3)]  \n",
       "1776      [(2, -5)]  \n",
       "7955     [(7, -15)]  \n",
       "2105    [(11, -14)]  \n",
       "7997    [(16, -21)]  "
      ]
     },
     "execution_count": 36,
     "metadata": {},
     "output_type": "execute_result"
    }
   ],
   "source": [
    "hs['~intersections']=hs['hidden'].apply(lambda lst: intersections(lst,mask=False))\n",
    "hs[hs['~intersections'].apply(len)==hs['~intersections'].apply(len).min()].sort_values('n')"
   ]
  },
  {
   "cell_type": "markdown",
   "id": "90b2be2c-4add-48cc-9e97-2f0add5de02d",
   "metadata": {},
   "source": [
    "### Appendix: Same questions for Standard Model (SM) solutions\n",
    "Which are solutions with three repeated integers to be asigned to SM particles"
   ]
  },
  {
   "cell_type": "code",
   "execution_count": 34,
   "id": "fe26a5ab-2e9e-477b-af5f-6568fdc65e57",
   "metadata": {},
   "outputs": [],
   "source": [
    "df3=df[df['solution'].apply(lambda l: 3 in [l.count(x) for x in l])].reset_index(drop=True)"
   ]
  },
  {
   "cell_type": "markdown",
   "id": "9a1780e2-b872-48c2-a959-10f9847186a1",
   "metadata": {},
   "source": [
    "Remove the three repeated integers from the new `hidden` column"
   ]
  },
  {
   "cell_type": "code",
   "execution_count": 35,
   "id": "4c3f1529-7624-4545-af61-545415f2409d",
   "metadata": {},
   "outputs": [],
   "source": [
    "def get_dark(l,idx=0):\n",
    "    #TODO,\n",
    "    xxx=list(set([x for x in l if l.count(x)==3]))\n",
    "    if len(xxx)>=idx+1:\n",
    "        xx=xxx[idx]\n",
    "        return [x for x in l if x!=xx]\n",
    "    else:\n",
    "        return []\n",
    "assert get_dark([1,1,2,2,2,3] )==[1, 1, 3]\n",
    "assert get_dark([2,2,2,2,-5,-5,-5,7])==[2, 2, 2, 2, 7]"
   ]
  },
  {
   "cell_type": "code",
   "execution_count": 36,
   "id": "3eafc7e4-cf0f-48b9-8d50-8fcf5c986867",
   "metadata": {},
   "outputs": [],
   "source": [
    "df3['hidden']=df3['solution'].apply(get_dark).apply(get_hidden_sector)"
   ]
  },
  {
   "cell_type": "code",
   "execution_count": 37,
   "id": "621afe65-e4f4-4cc4-965a-8c2841fbfc8b",
   "metadata": {},
   "outputs": [
    {
     "data": {
      "text/plain": [
       "(49, 7)"
      ]
     },
     "execution_count": 37,
     "metadata": {},
     "output_type": "execute_result"
    }
   ],
   "source": [
    "hs3=df3[df3['hidden'].apply(len)>0].reset_index(drop=True)\n",
    "hs3.shape"
   ]
  },
  {
   "cell_type": "code",
   "execution_count": 15,
   "id": "a6186c47-e4a5-4c1c-b132-6ee0888bb123",
   "metadata": {},
   "outputs": [
    {
     "data": {
      "text/plain": [
       "(51, 7)"
      ]
     },
     "execution_count": 15,
     "metadata": {},
     "output_type": "execute_result"
    }
   ],
   "source": [
    "# idxmax==1\n",
    "df3['hidden']=df3['solution'].apply(lambda l: get_dark(l,idx=1)).apply(get_hidden_sector)\n",
    "hs3=pd.concat((hs3,df3[df3['hidden'].apply(len)>0])).reset_index(drop=True)\n",
    "hs3.shape"
   ]
  },
  {
   "cell_type": "code",
   "execution_count": 16,
   "id": "a53d71e9-1755-4286-8799-2a407d8dbf86",
   "metadata": {},
   "outputs": [
    {
     "data": {
      "text/plain": [
       "(51, 7)"
      ]
     },
     "execution_count": 16,
     "metadata": {},
     "output_type": "execute_result"
    }
   ],
   "source": [
    "# idxmax==1\n",
    "df3['hidden']=df3['solution'].apply(lambda l: get_dark(l,idx=2)).apply(get_hidden_sector)\n",
    "hs3=pd.concat((hs3,df3[df3['hidden'].apply(len)>0])).reset_index(drop=True)\n",
    "hs3.shape"
   ]
  },
  {
   "cell_type": "code",
   "execution_count": 17,
   "id": "a0d204e8-f73e-43d5-826b-6bf8fc6e17f0",
   "metadata": {},
   "outputs": [
    {
     "data": {
      "text/plain": [
       "9"
      ]
     },
     "execution_count": 17,
     "metadata": {},
     "output_type": "execute_result"
    }
   ],
   "source": [
    "hs3['zmax'].min()"
   ]
  },
  {
   "cell_type": "code",
   "execution_count": 18,
   "id": "a80e9876-b428-475a-b252-3065eaac51e0",
   "metadata": {},
   "outputs": [
    {
     "data": {
      "text/html": [
       "<div>\n",
       "<style scoped>\n",
       "    .dataframe tbody tr th:only-of-type {\n",
       "        vertical-align: middle;\n",
       "    }\n",
       "\n",
       "    .dataframe tbody tr th {\n",
       "        vertical-align: top;\n",
       "    }\n",
       "\n",
       "    .dataframe thead th {\n",
       "        text-align: right;\n",
       "    }\n",
       "</style>\n",
       "<table border=\"1\" class=\"dataframe\">\n",
       "  <thead>\n",
       "    <tr style=\"text-align: right;\">\n",
       "      <th></th>\n",
       "      <th>l</th>\n",
       "      <th>k</th>\n",
       "      <th>solution</th>\n",
       "      <th>gcd</th>\n",
       "      <th>n</th>\n",
       "      <th>zmax</th>\n",
       "      <th>hidden</th>\n",
       "    </tr>\n",
       "  </thead>\n",
       "  <tbody>\n",
       "    <tr>\n",
       "      <th>0</th>\n",
       "      <td>[-3, -1, 2]</td>\n",
       "      <td>[1, 3, -3]</td>\n",
       "      <td>[3, 3, 3, 5, -7, -9, -11, 13]</td>\n",
       "      <td>12</td>\n",
       "      <td>8</td>\n",
       "      <td>13</td>\n",
       "      <td>[{'S': 18, 'ψ': [(-7, -11), (-9, -9), (5, 13)]}]</td>\n",
       "    </tr>\n",
       "  </tbody>\n",
       "</table>\n",
       "</div>"
      ],
      "text/plain": [
       "             l           k                       solution  gcd  n  zmax  \\\n",
       "0  [-3, -1, 2]  [1, 3, -3]  [3, 3, 3, 5, -7, -9, -11, 13]   12  8    13   \n",
       "\n",
       "                                             hidden  \n",
       "0  [{'S': 18, 'ψ': [(-7, -11), (-9, -9), (5, 13)]}]  "
      ]
     },
     "execution_count": 18,
     "metadata": {},
     "output_type": "execute_result"
    }
   ],
   "source": [
    "hs3[:1]"
   ]
  },
  {
   "cell_type": "code",
   "execution_count": 19,
   "id": "aa817d62-360f-4ff3-bb5e-453057f355cf",
   "metadata": {},
   "outputs": [
    {
     "data": {
      "text/plain": [
       "(0, 7)"
      ]
     },
     "execution_count": 19,
     "metadata": {},
     "output_type": "execute_result"
    }
   ],
   "source": [
    "hs3[hs3['hidden'].apply(len)>1].shape"
   ]
  },
  {
   "cell_type": "code",
   "execution_count": 20,
   "id": "aee810b4-c226-4113-9bf8-e1baa34a3fc0",
   "metadata": {},
   "outputs": [
    {
     "data": {
      "text/plain": [
       "(0, 7)"
      ]
     },
     "execution_count": 20,
     "metadata": {},
     "output_type": "execute_result"
    }
   ],
   "source": [
    "hs3[hs3['hidden'].apply(len)>2].shape"
   ]
  },
  {
   "cell_type": "code",
   "execution_count": 21,
   "id": "76a8da24-7b36-47a4-9d8c-66186cc8436b",
   "metadata": {},
   "outputs": [
    {
     "data": {
      "text/plain": [
       "(0, 7)"
      ]
     },
     "execution_count": 21,
     "metadata": {},
     "output_type": "execute_result"
    }
   ],
   "source": [
    "hs3[hs3['hidden'].apply(len)>3].shape"
   ]
  },
  {
   "cell_type": "code",
   "execution_count": 22,
   "id": "1c25aae3-e070-4177-9792-bda63e0bf15f",
   "metadata": {},
   "outputs": [
    {
     "data": {
      "text/plain": [
       "2"
      ]
     },
     "execution_count": 22,
     "metadata": {},
     "output_type": "execute_result"
    }
   ],
   "source": [
    "hs3['hidden'].str[0].str['ψ'].apply(len).min()"
   ]
  },
  {
   "cell_type": "code",
   "execution_count": 23,
   "id": "46daab74-e67a-4b28-8385-e6007339deb3",
   "metadata": {},
   "outputs": [
    {
     "data": {
      "text/html": [
       "<div>\n",
       "<style scoped>\n",
       "    .dataframe tbody tr th:only-of-type {\n",
       "        vertical-align: middle;\n",
       "    }\n",
       "\n",
       "    .dataframe tbody tr th {\n",
       "        vertical-align: top;\n",
       "    }\n",
       "\n",
       "    .dataframe thead th {\n",
       "        text-align: right;\n",
       "    }\n",
       "</style>\n",
       "<table border=\"1\" class=\"dataframe\">\n",
       "  <thead>\n",
       "    <tr style=\"text-align: right;\">\n",
       "      <th></th>\n",
       "      <th>l</th>\n",
       "      <th>k</th>\n",
       "      <th>solution</th>\n",
       "      <th>gcd</th>\n",
       "      <th>n</th>\n",
       "      <th>zmax</th>\n",
       "      <th>hidden</th>\n",
       "    </tr>\n",
       "  </thead>\n",
       "  <tbody>\n",
       "    <tr>\n",
       "      <th>2</th>\n",
       "      <td>[-2, 0, 2]</td>\n",
       "      <td>[-2, 1, 0, -2]</td>\n",
       "      <td>[1, 1, -4, -5, 9, 9, 9, -10, -10]</td>\n",
       "      <td>4</td>\n",
       "      <td>9</td>\n",
       "      <td>10</td>\n",
       "      <td>[{'S': 9, 'ψ': [(1, -10), (-4, -5)]}]</td>\n",
       "    </tr>\n",
       "    <tr>\n",
       "      <th>3</th>\n",
       "      <td>[1, 0, -1]</td>\n",
       "      <td>[-3, 3, 0, -3]</td>\n",
       "      <td>[1, 1, -3, -8, 11, 11, 11, -12, -12]</td>\n",
       "      <td>9</td>\n",
       "      <td>9</td>\n",
       "      <td>12</td>\n",
       "      <td>[{'S': 11, 'ψ': [(1, -12), (-3, -8)]}]</td>\n",
       "    </tr>\n",
       "    <tr>\n",
       "      <th>5</th>\n",
       "      <td>[3, 0, -3]</td>\n",
       "      <td>[-2, 2, 0, -2]</td>\n",
       "      <td>[4, -5, -5, -6, -6, 11, 11, 11, -15]</td>\n",
       "      <td>8</td>\n",
       "      <td>9</td>\n",
       "      <td>15</td>\n",
       "      <td>[{'S': 11, 'ψ': [(-5, -6), (4, -15)]}]</td>\n",
       "    </tr>\n",
       "    <tr>\n",
       "      <th>12</th>\n",
       "      <td>[2, 0, -2]</td>\n",
       "      <td>[2, -2, 0, -3]</td>\n",
       "      <td>[2, 2, -3, 15, 15, -17, -17, -17, 20]</td>\n",
       "      <td>4</td>\n",
       "      <td>9</td>\n",
       "      <td>20</td>\n",
       "      <td>[{'S': 17, 'ψ': [(-3, 20), (2, 15)]}]</td>\n",
       "    </tr>\n",
       "  </tbody>\n",
       "</table>\n",
       "</div>"
      ],
      "text/plain": [
       "             l               k                               solution  gcd  n  \\\n",
       "2   [-2, 0, 2]  [-2, 1, 0, -2]      [1, 1, -4, -5, 9, 9, 9, -10, -10]    4  9   \n",
       "3   [1, 0, -1]  [-3, 3, 0, -3]   [1, 1, -3, -8, 11, 11, 11, -12, -12]    9  9   \n",
       "5   [3, 0, -3]  [-2, 2, 0, -2]   [4, -5, -5, -6, -6, 11, 11, 11, -15]    8  9   \n",
       "12  [2, 0, -2]  [2, -2, 0, -3]  [2, 2, -3, 15, 15, -17, -17, -17, 20]    4  9   \n",
       "\n",
       "    zmax                                  hidden  \n",
       "2     10   [{'S': 9, 'ψ': [(1, -10), (-4, -5)]}]  \n",
       "3     12  [{'S': 11, 'ψ': [(1, -12), (-3, -8)]}]  \n",
       "5     15  [{'S': 11, 'ψ': [(-5, -6), (4, -15)]}]  \n",
       "12    20   [{'S': 17, 'ψ': [(-3, 20), (2, 15)]}]  "
      ]
     },
     "execution_count": 23,
     "metadata": {},
     "output_type": "execute_result"
    }
   ],
   "source": [
    "hs3[hs3['hidden'].str[0].str['ψ'].apply(len)==hs3['hidden'].str[0].str['ψ'].apply(len).min()]"
   ]
  },
  {
   "cell_type": "markdown",
   "id": "1807c62c-488a-444d-bc7b-28393b5cb114",
   "metadata": {},
   "source": [
    "Check if `sum([L,L,L,x,y])` where `(x,y) = ±S`  "
   ]
  },
  {
   "cell_type": "code",
   "execution_count": 38,
   "id": "8db82056-853a-43a1-b9cc-c67b100e3508",
   "metadata": {},
   "outputs": [],
   "source": [
    "def check_L(r):\n",
    "    L=[x for x in r.get('solution') if r.get('solution').count(x)==3 ]\n",
    "    for LL in L[::3]:\n",
    "        z=r.get('hidden')[0]\n",
    "        for p in z.get('ψ'):\n",
    "            if 3*LL+sum(list(p))==0:\n",
    "                return list(p)\n",
    "    return []\n",
    "assert check_L({'solution':[4,4,4,5,-8,-10,13,-9, -9, -9, 15, 15, 15],\n",
    "         'hidden':[{'S': 18, 'ψ': [(-9, -9), (-8, -10), (5, 13)]}]})==[]"
   ]
  },
  {
   "cell_type": "code",
   "execution_count": 39,
   "id": "42b4a438-e9f7-49ab-99bc-8336ba0a2783",
   "metadata": {},
   "outputs": [
    {
     "data": {
      "text/html": [
       "<div>\n",
       "<style scoped>\n",
       "    .dataframe tbody tr th:only-of-type {\n",
       "        vertical-align: middle;\n",
       "    }\n",
       "\n",
       "    .dataframe tbody tr th {\n",
       "        vertical-align: top;\n",
       "    }\n",
       "\n",
       "    .dataframe thead th {\n",
       "        text-align: right;\n",
       "    }\n",
       "</style>\n",
       "<table border=\"1\" class=\"dataframe\">\n",
       "  <thead>\n",
       "    <tr style=\"text-align: right;\">\n",
       "      <th></th>\n",
       "      <th>l</th>\n",
       "      <th>k</th>\n",
       "      <th>solution</th>\n",
       "      <th>gcd</th>\n",
       "      <th>n</th>\n",
       "      <th>zmax</th>\n",
       "      <th>hidden</th>\n",
       "    </tr>\n",
       "  </thead>\n",
       "  <tbody>\n",
       "    <tr>\n",
       "      <th>4</th>\n",
       "      <td>[-2, -3, 0]</td>\n",
       "      <td>[1, 2, 3, 2]</td>\n",
       "      <td>[5, 6, 6, 6, -8, -9, -9, -10, 13]</td>\n",
       "      <td>4</td>\n",
       "      <td>9</td>\n",
       "      <td>13</td>\n",
       "      <td>[{'S': 18, 'ψ': [(-9, -9), (-8, -10), (5, 13)]}]</td>\n",
       "    </tr>\n",
       "    <tr>\n",
       "      <th>7</th>\n",
       "      <td>[2, 0, 3]</td>\n",
       "      <td>[-2, 1, -3, -1]</td>\n",
       "      <td>[2, 3, 3, 3, 6, -8, -11, -15, 17]</td>\n",
       "      <td>12</td>\n",
       "      <td>9</td>\n",
       "      <td>17</td>\n",
       "      <td>[{'S': 9, 'ψ': [(2, -11), (6, -15), (-8, 17)]}]</td>\n",
       "    </tr>\n",
       "    <tr>\n",
       "      <th>8</th>\n",
       "      <td>[-4, -2, 1]</td>\n",
       "      <td>[2, -4, 4, -2]</td>\n",
       "      <td>[1, -2, 6, 6, 6, -9, -9, -16, 17]</td>\n",
       "      <td>16</td>\n",
       "      <td>9</td>\n",
       "      <td>17</td>\n",
       "      <td>[{'S': 18, 'ψ': [(-9, -9), (1, 17), (-2, -16)]}]</td>\n",
       "    </tr>\n",
       "    <tr>\n",
       "      <th>10</th>\n",
       "      <td>[3, -2, -4]</td>\n",
       "      <td>[-2, -1, -2, 3]</td>\n",
       "      <td>[1, 2, 3, -6, -6, -6, 15, 16, -19]</td>\n",
       "      <td>2</td>\n",
       "      <td>9</td>\n",
       "      <td>19</td>\n",
       "      <td>[{'S': 18, 'ψ': [(1, -19), (3, 15), (2, 16)]}]</td>\n",
       "    </tr>\n",
       "    <tr>\n",
       "      <th>14</th>\n",
       "      <td>[6, -3, 1]</td>\n",
       "      <td>[-1, -3, -6, -3]</td>\n",
       "      <td>[7, 9, 9, 9, -11, -12, -15, -16, 20]</td>\n",
       "      <td>18</td>\n",
       "      <td>9</td>\n",
       "      <td>20</td>\n",
       "      <td>[{'S': 27, 'ψ': [(7, 20), (-12, -15), (-11, -1...</td>\n",
       "    </tr>\n",
       "  </tbody>\n",
       "</table>\n",
       "</div>"
      ],
      "text/plain": [
       "              l                 k                              solution  gcd  \\\n",
       "4   [-2, -3, 0]      [1, 2, 3, 2]     [5, 6, 6, 6, -8, -9, -9, -10, 13]    4   \n",
       "7     [2, 0, 3]   [-2, 1, -3, -1]     [2, 3, 3, 3, 6, -8, -11, -15, 17]   12   \n",
       "8   [-4, -2, 1]    [2, -4, 4, -2]     [1, -2, 6, 6, 6, -9, -9, -16, 17]   16   \n",
       "10  [3, -2, -4]   [-2, -1, -2, 3]    [1, 2, 3, -6, -6, -6, 15, 16, -19]    2   \n",
       "14   [6, -3, 1]  [-1, -3, -6, -3]  [7, 9, 9, 9, -11, -12, -15, -16, 20]   18   \n",
       "\n",
       "    n  zmax                                             hidden  \n",
       "4   9    13   [{'S': 18, 'ψ': [(-9, -9), (-8, -10), (5, 13)]}]  \n",
       "7   9    17    [{'S': 9, 'ψ': [(2, -11), (6, -15), (-8, 17)]}]  \n",
       "8   9    17   [{'S': 18, 'ψ': [(-9, -9), (1, 17), (-2, -16)]}]  \n",
       "10  9    19     [{'S': 18, 'ψ': [(1, -19), (3, 15), (2, 16)]}]  \n",
       "14  9    20  [{'S': 27, 'ψ': [(7, 20), (-12, -15), (-11, -1...  "
      ]
     },
     "execution_count": 39,
     "metadata": {},
     "output_type": "execute_result"
    }
   ],
   "source": [
    "hs3[hs3.apply(check_L,axis='columns').apply(len)>0].reset_index(drop=True)"
   ]
  },
  {
   "cell_type": "markdown",
   "id": "66cc520a-9510-4473-b840-d205b193c5f0",
   "metadata": {},
   "source": [
    "### Extend the data scheme with number of generations"
   ]
  },
  {
   "cell_type": "code",
   "execution_count": 50,
   "id": "ee44f4cd-a196-45fd-b0f3-a0359897e363",
   "metadata": {},
   "outputs": [],
   "source": [
    "def get_Dirac_and_Majorana_generations(l,h):\n",
    "    g=[]\n",
    "    dgmax=0\n",
    "    mgmax=0\n",
    "    for idx in range(len(h)):\n",
    "        for x,y in h[idx].get('ψ'):\n",
    "            if x!=y and l.count(x)>dgmax and l.count(y)==l.count(x):\n",
    "                    dgmax=l.count(x)\n",
    "            if x==y and l.count(x)>mgmax:\n",
    "                    mgmax=l.count(x)\n",
    "        g.append({'DG':dgmax,'MG':mgmax})\n",
    "    return g\n",
    "l=[2, 2, -3, 15, 15, 20]\n",
    "h=[{'S': 17, 'ψ': [(2, 15), (20, -3)]}]\n",
    "assert get_Dirac_and_Majorana_generations(l,h)==[{'DG': 2, 'MG': 0}]"
   ]
  },
  {
   "cell_type": "code",
   "execution_count": 51,
   "id": "3a3d430a-3c6b-4a88-848d-fedd8bc3a780",
   "metadata": {},
   "outputs": [
    {
     "data": {
      "text/plain": [
       "0    [-1, -5, -3, -6, -4, -7]\n",
       "1       [-1, 2, -2, -7, 4, 0]\n",
       "2       [-1, 0, 1, -4, -2, 2]\n",
       "dtype: object"
      ]
     },
     "execution_count": 51,
     "metadata": {},
     "output_type": "execute_result"
    }
   ],
   "source": [
    "hs[:3].apply(lambda d: d['l']+d['k'],axis='columns')"
   ]
  },
  {
   "cell_type": "code",
   "execution_count": 52,
   "id": "92dbea03-8c25-4cc1-a146-e7a6e8ffd1a3",
   "metadata": {},
   "outputs": [],
   "source": [
    "hs['Generations']=hs.apply(lambda row: get_Dirac_and_Majorana_generations(row['solution'],row['hidden']),axis='columns')"
   ]
  },
  {
   "cell_type": "code",
   "execution_count": 53,
   "id": "f92422d5-fd46-446d-b075-161f7683ac41",
   "metadata": {},
   "outputs": [],
   "source": [
    "hs3['Generations']=hs3.apply(lambda row: get_Dirac_and_Majorana_generations(row['solution'],row['hidden']),axis='columns')"
   ]
  },
  {
   "cell_type": "code",
   "execution_count": 54,
   "id": "71a7cd0e-f693-4021-89ce-f6892e5e6af3",
   "metadata": {},
   "outputs": [],
   "source": [
    "hs['Gmax']=hs['Generations'].str[0].apply(lambda d: sum(d.values()))"
   ]
  },
  {
   "cell_type": "code",
   "execution_count": 55,
   "id": "75b0a0bd-0834-4f9a-8a3a-34e8d4191c79",
   "metadata": {},
   "outputs": [],
   "source": [
    "hs=hs.sort_values(['Gmax'],ascending=False).reset_index(drop=True)"
   ]
  },
  {
   "cell_type": "code",
   "execution_count": 56,
   "id": "68c0890a-d708-4edd-ae0b-f8752954146a",
   "metadata": {},
   "outputs": [
    {
     "data": {
      "text/html": [
       "<div>\n",
       "<style scoped>\n",
       "    .dataframe tbody tr th:only-of-type {\n",
       "        vertical-align: middle;\n",
       "    }\n",
       "\n",
       "    .dataframe tbody tr th {\n",
       "        vertical-align: top;\n",
       "    }\n",
       "\n",
       "    .dataframe thead th {\n",
       "        text-align: right;\n",
       "    }\n",
       "</style>\n",
       "<table border=\"1\" class=\"dataframe\">\n",
       "  <thead>\n",
       "    <tr style=\"text-align: right;\">\n",
       "      <th></th>\n",
       "      <th>l</th>\n",
       "      <th>k</th>\n",
       "      <th>solution</th>\n",
       "      <th>gcd</th>\n",
       "      <th>n</th>\n",
       "      <th>zmax</th>\n",
       "      <th>hidden</th>\n",
       "      <th>~intersections</th>\n",
       "      <th>Generations</th>\n",
       "      <th>Gmax</th>\n",
       "    </tr>\n",
       "  </thead>\n",
       "  <tbody>\n",
       "    <tr>\n",
       "      <th>157</th>\n",
       "      <td>[3, 0, -5]</td>\n",
       "      <td>[-1, 1, -1]</td>\n",
       "      <td>[4, 4, 4, 11, -12, -13, -19, 21]</td>\n",
       "      <td>8</td>\n",
       "      <td>8</td>\n",
       "      <td>21</td>\n",
       "      <td>[{'S': 8, 'ψ': [(11, -19), (-13, 21), (4, 4), (4, -12)]}]</td>\n",
       "      <td>[(11, -19), (-13, 21)]</td>\n",
       "      <td>[{'DG': 1, 'MG': 3}]</td>\n",
       "      <td>4</td>\n",
       "    </tr>\n",
       "    <tr>\n",
       "      <th>199</th>\n",
       "      <td>[-1, 2, -2]</td>\n",
       "      <td>[-7, 4, 0]</td>\n",
       "      <td>[1, 2, 2, 2, -3, -5, -6, 7]</td>\n",
       "      <td>1</td>\n",
       "      <td>8</td>\n",
       "      <td>7</td>\n",
       "      <td>[{'S': 4, 'ψ': [(2, 2), (-3, 7), (1, -5), (2, -6)]}]</td>\n",
       "      <td>[(-3, 7), (1, -5)]</td>\n",
       "      <td>[{'DG': 1, 'MG': 3}]</td>\n",
       "      <td>4</td>\n",
       "    </tr>\n",
       "    <tr>\n",
       "      <th>317</th>\n",
       "      <td>[-3, -4, -3]</td>\n",
       "      <td>[-5, 3, -7]</td>\n",
       "      <td>[3, 5, 5, 7, -9, -15, -15, 19]</td>\n",
       "      <td>2</td>\n",
       "      <td>8</td>\n",
       "      <td>19</td>\n",
       "      <td>[{'S': 10, 'ψ': [(3, 7), (5, -15), (-9, 19), (5, 5)]}]</td>\n",
       "      <td>[(3, 7), (-9, 19)]</td>\n",
       "      <td>[{'DG': 2, 'MG': 2}]</td>\n",
       "      <td>4</td>\n",
       "    </tr>\n",
       "    <tr>\n",
       "      <th>352</th>\n",
       "      <td>[0, -1, -2]</td>\n",
       "      <td>[-1, -6, -5, -6]</td>\n",
       "      <td>[1, -6, -6, -6, 7, 11, 18, -19]</td>\n",
       "      <td>2</td>\n",
       "      <td>8</td>\n",
       "      <td>19</td>\n",
       "      <td>[{'S': 12, 'ψ': [(-6, -6), (-6, 18), (1, 11), (7, -19)]}]</td>\n",
       "      <td>[(1, 11), (7, -19)]</td>\n",
       "      <td>[{'DG': 1, 'MG': 3}]</td>\n",
       "      <td>4</td>\n",
       "    </tr>\n",
       "    <tr>\n",
       "      <th>384</th>\n",
       "      <td>[1, 0, -2]</td>\n",
       "      <td>[-3, -1, 1]</td>\n",
       "      <td>[3, 3, 3, 5, -7, -9, -11, 13]</td>\n",
       "      <td>2</td>\n",
       "      <td>8</td>\n",
       "      <td>13</td>\n",
       "      <td>[{'S': 6, 'ψ': [(5, -11), (3, -9), (3, 3), (-7, 13)]}]</td>\n",
       "      <td>[(5, -11), (-7, 13)]</td>\n",
       "      <td>[{'DG': 1, 'MG': 3}]</td>\n",
       "      <td>4</td>\n",
       "    </tr>\n",
       "    <tr>\n",
       "      <th>...</th>\n",
       "      <td>...</td>\n",
       "      <td>...</td>\n",
       "      <td>...</td>\n",
       "      <td>...</td>\n",
       "      <td>...</td>\n",
       "      <td>...</td>\n",
       "      <td>...</td>\n",
       "      <td>...</td>\n",
       "      <td>...</td>\n",
       "      <td>...</td>\n",
       "    </tr>\n",
       "    <tr>\n",
       "      <th>9320</th>\n",
       "      <td>[-1, -2, -1]</td>\n",
       "      <td>[-5, 1, -3]</td>\n",
       "      <td>[3, 5, 5, -13, 15, -17, -23, 25]</td>\n",
       "      <td>2</td>\n",
       "      <td>8</td>\n",
       "      <td>25</td>\n",
       "      <td>[{'S': 8, 'ψ': [(-17, 25), (15, -23), (5, -13), (3, 5)]}]</td>\n",
       "      <td>[(-17, 25), (15, -23)]</td>\n",
       "      <td>[{'DG': 1, 'MG': 0}]</td>\n",
       "      <td>1</td>\n",
       "    </tr>\n",
       "    <tr>\n",
       "      <th>9332</th>\n",
       "      <td>[0, -1, -2]</td>\n",
       "      <td>[-1, -9, -6, -5]</td>\n",
       "      <td>[3, -4, -5, 9, 12, -16, -24, 25]</td>\n",
       "      <td>1</td>\n",
       "      <td>8</td>\n",
       "      <td>25</td>\n",
       "      <td>[{'S': 21, 'ψ': [(3, -24), (-5, -16), (-4, 25), (9, 12)]}]</td>\n",
       "      <td>[(-5, -16), (-4, 25), (9, 12)]</td>\n",
       "      <td>[{'DG': 1, 'MG': 0}]</td>\n",
       "      <td>1</td>\n",
       "    </tr>\n",
       "    <tr>\n",
       "      <th>9333</th>\n",
       "      <td>[0, -1, -2]</td>\n",
       "      <td>[-1, -5, -7, -5]</td>\n",
       "      <td>[1, 1, 5, -11, -13, 19, 23, -25]</td>\n",
       "      <td>2</td>\n",
       "      <td>8</td>\n",
       "      <td>25</td>\n",
       "      <td>[{'S': 24, 'ψ': [(5, 19), (1, -25), (1, 23), (-11, -13)]}]</td>\n",
       "      <td>[(5, 19), (-11, -13)]</td>\n",
       "      <td>[{'DG': 1, 'MG': 0}]</td>\n",
       "      <td>1</td>\n",
       "    </tr>\n",
       "    <tr>\n",
       "      <th>9336</th>\n",
       "      <td>[0, -2, 0]</td>\n",
       "      <td>[-4, -3, -7, -8]</td>\n",
       "      <td>[9, -11, -12, 14, -21, 22, 24, -25]</td>\n",
       "      <td>4</td>\n",
       "      <td>8</td>\n",
       "      <td>25</td>\n",
       "      <td>[{'S': 3, 'ψ': [(-11, 14), (-21, 24), (9, -12), (22, -25)]}]</td>\n",
       "      <td>[(-21, 24), (9, -12), (22, -25)]</td>\n",
       "      <td>[{'DG': 1, 'MG': 0}]</td>\n",
       "      <td>1</td>\n",
       "    </tr>\n",
       "    <tr>\n",
       "      <th>9345</th>\n",
       "      <td>[0, -1, -2]</td>\n",
       "      <td>[-1, -6, -8, -2]</td>\n",
       "      <td>[6, -7, -11, 14, 17, -20, -24, 25]</td>\n",
       "      <td>1</td>\n",
       "      <td>8</td>\n",
       "      <td>25</td>\n",
       "      <td>[{'S': 31, 'ψ': [(-11, -20), (6, 25), (-7, -24), (14, 17)]}]</td>\n",
       "      <td>[(6, 25), (-7, -24), (14, 17)]</td>\n",
       "      <td>[{'DG': 1, 'MG': 0}]</td>\n",
       "      <td>1</td>\n",
       "    </tr>\n",
       "  </tbody>\n",
       "</table>\n",
       "<p>1773 rows × 10 columns</p>\n",
       "</div>"
      ],
      "text/plain": [
       "                 l                 k                             solution  \\\n",
       "157     [3, 0, -5]       [-1, 1, -1]     [4, 4, 4, 11, -12, -13, -19, 21]   \n",
       "199    [-1, 2, -2]        [-7, 4, 0]          [1, 2, 2, 2, -3, -5, -6, 7]   \n",
       "317   [-3, -4, -3]       [-5, 3, -7]       [3, 5, 5, 7, -9, -15, -15, 19]   \n",
       "352    [0, -1, -2]  [-1, -6, -5, -6]      [1, -6, -6, -6, 7, 11, 18, -19]   \n",
       "384     [1, 0, -2]       [-3, -1, 1]        [3, 3, 3, 5, -7, -9, -11, 13]   \n",
       "...            ...               ...                                  ...   \n",
       "9320  [-1, -2, -1]       [-5, 1, -3]     [3, 5, 5, -13, 15, -17, -23, 25]   \n",
       "9332   [0, -1, -2]  [-1, -9, -6, -5]     [3, -4, -5, 9, 12, -16, -24, 25]   \n",
       "9333   [0, -1, -2]  [-1, -5, -7, -5]     [1, 1, 5, -11, -13, 19, 23, -25]   \n",
       "9336    [0, -2, 0]  [-4, -3, -7, -8]  [9, -11, -12, 14, -21, 22, 24, -25]   \n",
       "9345   [0, -1, -2]  [-1, -6, -8, -2]   [6, -7, -11, 14, 17, -20, -24, 25]   \n",
       "\n",
       "      gcd  n  zmax  \\\n",
       "157     8  8    21   \n",
       "199     1  8     7   \n",
       "317     2  8    19   \n",
       "352     2  8    19   \n",
       "384     2  8    13   \n",
       "...   ... ..   ...   \n",
       "9320    2  8    25   \n",
       "9332    1  8    25   \n",
       "9333    2  8    25   \n",
       "9336    4  8    25   \n",
       "9345    1  8    25   \n",
       "\n",
       "                                                            hidden  \\\n",
       "157      [{'S': 8, 'ψ': [(11, -19), (-13, 21), (4, 4), (4, -12)]}]   \n",
       "199           [{'S': 4, 'ψ': [(2, 2), (-3, 7), (1, -5), (2, -6)]}]   \n",
       "317         [{'S': 10, 'ψ': [(3, 7), (5, -15), (-9, 19), (5, 5)]}]   \n",
       "352      [{'S': 12, 'ψ': [(-6, -6), (-6, 18), (1, 11), (7, -19)]}]   \n",
       "384         [{'S': 6, 'ψ': [(5, -11), (3, -9), (3, 3), (-7, 13)]}]   \n",
       "...                                                            ...   \n",
       "9320     [{'S': 8, 'ψ': [(-17, 25), (15, -23), (5, -13), (3, 5)]}]   \n",
       "9332    [{'S': 21, 'ψ': [(3, -24), (-5, -16), (-4, 25), (9, 12)]}]   \n",
       "9333    [{'S': 24, 'ψ': [(5, 19), (1, -25), (1, 23), (-11, -13)]}]   \n",
       "9336  [{'S': 3, 'ψ': [(-11, 14), (-21, 24), (9, -12), (22, -25)]}]   \n",
       "9345  [{'S': 31, 'ψ': [(-11, -20), (6, 25), (-7, -24), (14, 17)]}]   \n",
       "\n",
       "                        ~intersections           Generations  Gmax  \n",
       "157             [(11, -19), (-13, 21)]  [{'DG': 1, 'MG': 3}]     4  \n",
       "199                 [(-3, 7), (1, -5)]  [{'DG': 1, 'MG': 3}]     4  \n",
       "317                 [(3, 7), (-9, 19)]  [{'DG': 2, 'MG': 2}]     4  \n",
       "352                [(1, 11), (7, -19)]  [{'DG': 1, 'MG': 3}]     4  \n",
       "384               [(5, -11), (-7, 13)]  [{'DG': 1, 'MG': 3}]     4  \n",
       "...                                ...                   ...   ...  \n",
       "9320            [(-17, 25), (15, -23)]  [{'DG': 1, 'MG': 0}]     1  \n",
       "9332    [(-5, -16), (-4, 25), (9, 12)]  [{'DG': 1, 'MG': 0}]     1  \n",
       "9333             [(5, 19), (-11, -13)]  [{'DG': 1, 'MG': 0}]     1  \n",
       "9336  [(-21, 24), (9, -12), (22, -25)]  [{'DG': 1, 'MG': 0}]     1  \n",
       "9345    [(6, 25), (-7, -24), (14, 17)]  [{'DG': 1, 'MG': 0}]     1  \n",
       "\n",
       "[1773 rows x 10 columns]"
      ]
     },
     "execution_count": 56,
     "metadata": {},
     "output_type": "execute_result"
    }
   ],
   "source": [
    "hs[hs['n']==8]"
   ]
  },
  {
   "cell_type": "code",
   "execution_count": 57,
   "id": "5d1b3a25-f7c5-408e-92da-0f1ca0764384",
   "metadata": {},
   "outputs": [
    {
     "data": {
      "text/html": [
       "<div>\n",
       "<style scoped>\n",
       "    .dataframe tbody tr th:only-of-type {\n",
       "        vertical-align: middle;\n",
       "    }\n",
       "\n",
       "    .dataframe tbody tr th {\n",
       "        vertical-align: top;\n",
       "    }\n",
       "\n",
       "    .dataframe thead th {\n",
       "        text-align: right;\n",
       "    }\n",
       "</style>\n",
       "<table border=\"1\" class=\"dataframe\">\n",
       "  <thead>\n",
       "    <tr style=\"text-align: right;\">\n",
       "      <th></th>\n",
       "      <th>l</th>\n",
       "      <th>k</th>\n",
       "      <th>solution</th>\n",
       "      <th>gcd</th>\n",
       "      <th>n</th>\n",
       "      <th>zmax</th>\n",
       "      <th>hidden</th>\n",
       "      <th>~intersections</th>\n",
       "      <th>Generations</th>\n",
       "      <th>Gmax</th>\n",
       "    </tr>\n",
       "  </thead>\n",
       "  <tbody>\n",
       "    <tr>\n",
       "      <th>157</th>\n",
       "      <td>[3, 0, -5]</td>\n",
       "      <td>[-1, 1, -1]</td>\n",
       "      <td>[4, 4, 4, 11, -12, -13, -19, 21]</td>\n",
       "      <td>8</td>\n",
       "      <td>8</td>\n",
       "      <td>21</td>\n",
       "      <td>[{'S': 8, 'ψ': [(11, -19), (-13, 21), (4, 4), (4, -12)]}]</td>\n",
       "      <td>[(11, -19), (-13, 21)]</td>\n",
       "      <td>[{'DG': 1, 'MG': 3}]</td>\n",
       "      <td>4</td>\n",
       "    </tr>\n",
       "    <tr>\n",
       "      <th>199</th>\n",
       "      <td>[-1, 2, -2]</td>\n",
       "      <td>[-7, 4, 0]</td>\n",
       "      <td>[1, 2, 2, 2, -3, -5, -6, 7]</td>\n",
       "      <td>1</td>\n",
       "      <td>8</td>\n",
       "      <td>7</td>\n",
       "      <td>[{'S': 4, 'ψ': [(2, 2), (-3, 7), (1, -5), (2, -6)]}]</td>\n",
       "      <td>[(-3, 7), (1, -5)]</td>\n",
       "      <td>[{'DG': 1, 'MG': 3}]</td>\n",
       "      <td>4</td>\n",
       "    </tr>\n",
       "    <tr>\n",
       "      <th>317</th>\n",
       "      <td>[-3, -4, -3]</td>\n",
       "      <td>[-5, 3, -7]</td>\n",
       "      <td>[3, 5, 5, 7, -9, -15, -15, 19]</td>\n",
       "      <td>2</td>\n",
       "      <td>8</td>\n",
       "      <td>19</td>\n",
       "      <td>[{'S': 10, 'ψ': [(3, 7), (5, -15), (-9, 19), (5, 5)]}]</td>\n",
       "      <td>[(3, 7), (-9, 19)]</td>\n",
       "      <td>[{'DG': 2, 'MG': 2}]</td>\n",
       "      <td>4</td>\n",
       "    </tr>\n",
       "    <tr>\n",
       "      <th>352</th>\n",
       "      <td>[0, -1, -2]</td>\n",
       "      <td>[-1, -6, -5, -6]</td>\n",
       "      <td>[1, -6, -6, -6, 7, 11, 18, -19]</td>\n",
       "      <td>2</td>\n",
       "      <td>8</td>\n",
       "      <td>19</td>\n",
       "      <td>[{'S': 12, 'ψ': [(-6, -6), (-6, 18), (1, 11), (7, -19)]}]</td>\n",
       "      <td>[(1, 11), (7, -19)]</td>\n",
       "      <td>[{'DG': 1, 'MG': 3}]</td>\n",
       "      <td>4</td>\n",
       "    </tr>\n",
       "    <tr>\n",
       "      <th>384</th>\n",
       "      <td>[1, 0, -2]</td>\n",
       "      <td>[-3, -1, 1]</td>\n",
       "      <td>[3, 3, 3, 5, -7, -9, -11, 13]</td>\n",
       "      <td>2</td>\n",
       "      <td>8</td>\n",
       "      <td>13</td>\n",
       "      <td>[{'S': 6, 'ψ': [(5, -11), (3, -9), (3, 3), (-7, 13)]}]</td>\n",
       "      <td>[(5, -11), (-7, 13)]</td>\n",
       "      <td>[{'DG': 1, 'MG': 3}]</td>\n",
       "      <td>4</td>\n",
       "    </tr>\n",
       "    <tr>\n",
       "      <th>392</th>\n",
       "      <td>[0, -2, 0]</td>\n",
       "      <td>[-3, -1, 1, -1]</td>\n",
       "      <td>[5, 5, 5, -15, 19, -21, -29, 31]</td>\n",
       "      <td>2</td>\n",
       "      <td>8</td>\n",
       "      <td>31</td>\n",
       "      <td>[{'S': 10, 'ψ': [(-21, 31), (5, -15), (19, -29), (5, 5)]}]</td>\n",
       "      <td>[(-21, 31), (19, -29)]</td>\n",
       "      <td>[{'DG': 1, 'MG': 3}]</td>\n",
       "      <td>4</td>\n",
       "    </tr>\n",
       "  </tbody>\n",
       "</table>\n",
       "</div>"
      ],
      "text/plain": [
       "                l                 k                          solution  gcd  n  \\\n",
       "157    [3, 0, -5]       [-1, 1, -1]  [4, 4, 4, 11, -12, -13, -19, 21]    8  8   \n",
       "199   [-1, 2, -2]        [-7, 4, 0]       [1, 2, 2, 2, -3, -5, -6, 7]    1  8   \n",
       "317  [-3, -4, -3]       [-5, 3, -7]    [3, 5, 5, 7, -9, -15, -15, 19]    2  8   \n",
       "352   [0, -1, -2]  [-1, -6, -5, -6]   [1, -6, -6, -6, 7, 11, 18, -19]    2  8   \n",
       "384    [1, 0, -2]       [-3, -1, 1]     [3, 3, 3, 5, -7, -9, -11, 13]    2  8   \n",
       "392    [0, -2, 0]   [-3, -1, 1, -1]  [5, 5, 5, -15, 19, -21, -29, 31]    2  8   \n",
       "\n",
       "     zmax                                                      hidden  \\\n",
       "157    21   [{'S': 8, 'ψ': [(11, -19), (-13, 21), (4, 4), (4, -12)]}]   \n",
       "199     7        [{'S': 4, 'ψ': [(2, 2), (-3, 7), (1, -5), (2, -6)]}]   \n",
       "317    19      [{'S': 10, 'ψ': [(3, 7), (5, -15), (-9, 19), (5, 5)]}]   \n",
       "352    19   [{'S': 12, 'ψ': [(-6, -6), (-6, 18), (1, 11), (7, -19)]}]   \n",
       "384    13      [{'S': 6, 'ψ': [(5, -11), (3, -9), (3, 3), (-7, 13)]}]   \n",
       "392    31  [{'S': 10, 'ψ': [(-21, 31), (5, -15), (19, -29), (5, 5)]}]   \n",
       "\n",
       "             ~intersections           Generations  Gmax  \n",
       "157  [(11, -19), (-13, 21)]  [{'DG': 1, 'MG': 3}]     4  \n",
       "199      [(-3, 7), (1, -5)]  [{'DG': 1, 'MG': 3}]     4  \n",
       "317      [(3, 7), (-9, 19)]  [{'DG': 2, 'MG': 2}]     4  \n",
       "352     [(1, 11), (7, -19)]  [{'DG': 1, 'MG': 3}]     4  \n",
       "384    [(5, -11), (-7, 13)]  [{'DG': 1, 'MG': 3}]     4  \n",
       "392  [(-21, 31), (19, -29)]  [{'DG': 1, 'MG': 3}]     4  "
      ]
     },
     "execution_count": 57,
     "metadata": {},
     "output_type": "execute_result"
    }
   ],
   "source": [
    "hs[hs['n']==8][:6]"
   ]
  },
  {
   "cell_type": "code",
   "execution_count": 58,
   "id": "9b3f865a-4711-4f65-92bb-0ab81cccf74a",
   "metadata": {},
   "outputs": [
    {
     "data": {
      "text/html": [
       "<div>\n",
       "<style scoped>\n",
       "    .dataframe tbody tr th:only-of-type {\n",
       "        vertical-align: middle;\n",
       "    }\n",
       "\n",
       "    .dataframe tbody tr th {\n",
       "        vertical-align: top;\n",
       "    }\n",
       "\n",
       "    .dataframe thead th {\n",
       "        text-align: right;\n",
       "    }\n",
       "</style>\n",
       "<table border=\"1\" class=\"dataframe\">\n",
       "  <thead>\n",
       "    <tr style=\"text-align: right;\">\n",
       "      <th></th>\n",
       "      <th>l</th>\n",
       "      <th>k</th>\n",
       "      <th>solution</th>\n",
       "      <th>gcd</th>\n",
       "      <th>n</th>\n",
       "      <th>zmax</th>\n",
       "      <th>hidden</th>\n",
       "      <th>~intersections</th>\n",
       "      <th>Generations</th>\n",
       "      <th>Gmax</th>\n",
       "    </tr>\n",
       "  </thead>\n",
       "  <tbody>\n",
       "  </tbody>\n",
       "</table>\n",
       "</div>"
      ],
      "text/plain": [
       "Empty DataFrame\n",
       "Columns: [l, k, solution, gcd, n, zmax, hidden, ~intersections, Generations, Gmax]\n",
       "Index: []"
      ]
     },
     "execution_count": 58,
     "metadata": {},
     "output_type": "execute_result"
    }
   ],
   "source": [
    "hs[hs['n']==9][:3]"
   ]
  },
  {
   "cell_type": "code",
   "execution_count": 59,
   "id": "54ecbd30-0e04-4b5f-a122-21dcf5338c92",
   "metadata": {},
   "outputs": [
    {
     "data": {
      "text/html": [
       "<div>\n",
       "<style scoped>\n",
       "    .dataframe tbody tr th:only-of-type {\n",
       "        vertical-align: middle;\n",
       "    }\n",
       "\n",
       "    .dataframe tbody tr th {\n",
       "        vertical-align: top;\n",
       "    }\n",
       "\n",
       "    .dataframe thead th {\n",
       "        text-align: right;\n",
       "    }\n",
       "</style>\n",
       "<table border=\"1\" class=\"dataframe\">\n",
       "  <thead>\n",
       "    <tr style=\"text-align: right;\">\n",
       "      <th></th>\n",
       "      <th>l</th>\n",
       "      <th>k</th>\n",
       "      <th>solution</th>\n",
       "      <th>gcd</th>\n",
       "      <th>n</th>\n",
       "      <th>zmax</th>\n",
       "      <th>hidden</th>\n",
       "      <th>~intersections</th>\n",
       "      <th>Generations</th>\n",
       "      <th>Gmax</th>\n",
       "    </tr>\n",
       "  </thead>\n",
       "  <tbody>\n",
       "  </tbody>\n",
       "</table>\n",
       "</div>"
      ],
      "text/plain": [
       "Empty DataFrame\n",
       "Columns: [l, k, solution, gcd, n, zmax, hidden, ~intersections, Generations, Gmax]\n",
       "Index: []"
      ]
     },
     "execution_count": 59,
     "metadata": {},
     "output_type": "execute_result"
    }
   ],
   "source": [
    "hs[hs['n']==11][:4]"
   ]
  },
  {
   "cell_type": "code",
   "execution_count": 60,
   "id": "4d833da6-307e-449c-bdd6-f21262951487",
   "metadata": {},
   "outputs": [
    {
     "data": {
      "text/html": [
       "<div>\n",
       "<style scoped>\n",
       "    .dataframe tbody tr th:only-of-type {\n",
       "        vertical-align: middle;\n",
       "    }\n",
       "\n",
       "    .dataframe tbody tr th {\n",
       "        vertical-align: top;\n",
       "    }\n",
       "\n",
       "    .dataframe thead th {\n",
       "        text-align: right;\n",
       "    }\n",
       "</style>\n",
       "<table border=\"1\" class=\"dataframe\">\n",
       "  <thead>\n",
       "    <tr style=\"text-align: right;\">\n",
       "      <th></th>\n",
       "      <th>l</th>\n",
       "      <th>k</th>\n",
       "      <th>solution</th>\n",
       "      <th>gcd</th>\n",
       "      <th>n</th>\n",
       "      <th>zmax</th>\n",
       "      <th>hidden</th>\n",
       "      <th>~intersections</th>\n",
       "      <th>Generations</th>\n",
       "      <th>Gmax</th>\n",
       "    </tr>\n",
       "  </thead>\n",
       "  <tbody>\n",
       "    <tr>\n",
       "      <th>0</th>\n",
       "      <td>[-1, 0, -3, 0, -1]</td>\n",
       "      <td>[-1, 1, -1, -3, -1]</td>\n",
       "      <td>[5, 5, 7, 7, 7, 7, 7, -15, -19, -19, -21, 29]</td>\n",
       "      <td>2</td>\n",
       "      <td>12</td>\n",
       "      <td>29</td>\n",
       "      <td>[{'S': 14, 'ψ': [(-15, 29), (7, 7), (7, -21), (5, -19)]}]</td>\n",
       "      <td>[(-15, 29), (5, -19)]</td>\n",
       "      <td>[{'DG': 2, 'MG': 5}]</td>\n",
       "      <td>7</td>\n",
       "    </tr>\n",
       "    <tr>\n",
       "      <th>1</th>\n",
       "      <td>[1, 0, -2, 0, -2]</td>\n",
       "      <td>[-3, -1, 1, -1, 1]</td>\n",
       "      <td>[1, 1, 7, 7, 7, 7, 7, -11, -15, -15, -21, 25]</td>\n",
       "      <td>2</td>\n",
       "      <td>12</td>\n",
       "      <td>25</td>\n",
       "      <td>[{'S': 14, 'ψ': [(1, -15), (7, 7), (-11, 25), (7, -21)]}]</td>\n",
       "      <td>[(1, -15), (-11, 25)]</td>\n",
       "      <td>[{'DG': 2, 'MG': 5}]</td>\n",
       "      <td>7</td>\n",
       "    </tr>\n",
       "    <tr>\n",
       "      <th>2</th>\n",
       "      <td>[1, 0, -1, 0, -3]</td>\n",
       "      <td>[-2, 2, -2, 2, 3]</td>\n",
       "      <td>[3, -7, -8, -8, 14, 14, 14, 14, -20, -20, -21, 25]</td>\n",
       "      <td>4</td>\n",
       "      <td>12</td>\n",
       "      <td>25</td>\n",
       "      <td>[{'S': 28, 'ψ': [(-8, -20), (3, 25), (-7, -21), (14, 14)]}]</td>\n",
       "      <td>[(3, 25), (-7, -21), (14, 14)]</td>\n",
       "      <td>[{'DG': 2, 'MG': 4}]</td>\n",
       "      <td>6</td>\n",
       "    </tr>\n",
       "    <tr>\n",
       "      <th>3</th>\n",
       "      <td>[3, 0, -2, 0, -3]</td>\n",
       "      <td>[-1, 1, -1, 1, -1]</td>\n",
       "      <td>[1, 1, 1, 1, 1, -3, 5, -7, 8, -10, -10, 12]</td>\n",
       "      <td>8</td>\n",
       "      <td>12</td>\n",
       "      <td>12</td>\n",
       "      <td>[{'S': 2, 'ψ': [(1, -3), (8, -10), (-10, 12), (-3, 5), (5, -7), (1, 1)]}]</td>\n",
       "      <td>[(8, -10), (-10, 12), (5, -7)]</td>\n",
       "      <td>[{'DG': 1, 'MG': 5}]</td>\n",
       "      <td>6</td>\n",
       "    </tr>\n",
       "  </tbody>\n",
       "</table>\n",
       "</div>"
      ],
      "text/plain": [
       "                    l                    k  \\\n",
       "0  [-1, 0, -3, 0, -1]  [-1, 1, -1, -3, -1]   \n",
       "1   [1, 0, -2, 0, -2]   [-3, -1, 1, -1, 1]   \n",
       "2   [1, 0, -1, 0, -3]    [-2, 2, -2, 2, 3]   \n",
       "3   [3, 0, -2, 0, -3]   [-1, 1, -1, 1, -1]   \n",
       "\n",
       "                                             solution  gcd   n  zmax  \\\n",
       "0       [5, 5, 7, 7, 7, 7, 7, -15, -19, -19, -21, 29]    2  12    29   \n",
       "1       [1, 1, 7, 7, 7, 7, 7, -11, -15, -15, -21, 25]    2  12    25   \n",
       "2  [3, -7, -8, -8, 14, 14, 14, 14, -20, -20, -21, 25]    4  12    25   \n",
       "3         [1, 1, 1, 1, 1, -3, 5, -7, 8, -10, -10, 12]    8  12    12   \n",
       "\n",
       "                                                                      hidden  \\\n",
       "0                  [{'S': 14, 'ψ': [(-15, 29), (7, 7), (7, -21), (5, -19)]}]   \n",
       "1                  [{'S': 14, 'ψ': [(1, -15), (7, 7), (-11, 25), (7, -21)]}]   \n",
       "2                [{'S': 28, 'ψ': [(-8, -20), (3, 25), (-7, -21), (14, 14)]}]   \n",
       "3  [{'S': 2, 'ψ': [(1, -3), (8, -10), (-10, 12), (-3, 5), (5, -7), (1, 1)]}]   \n",
       "\n",
       "                   ~intersections           Generations  Gmax  \n",
       "0           [(-15, 29), (5, -19)]  [{'DG': 2, 'MG': 5}]     7  \n",
       "1           [(1, -15), (-11, 25)]  [{'DG': 2, 'MG': 5}]     7  \n",
       "2  [(3, 25), (-7, -21), (14, 14)]  [{'DG': 2, 'MG': 4}]     6  \n",
       "3  [(8, -10), (-10, 12), (5, -7)]  [{'DG': 1, 'MG': 5}]     6  "
      ]
     },
     "execution_count": 60,
     "metadata": {},
     "output_type": "execute_result"
    }
   ],
   "source": [
    "hs[hs['n']==12][:4]"
   ]
  },
  {
   "cell_type": "code",
   "execution_count": 61,
   "id": "92a5c991-081d-4627-bf07-da0ae1f449f2",
   "metadata": {},
   "outputs": [],
   "source": [
    "hs3['Gmax']=-hs3['Generations'].str[0].apply(lambda d: sum(d.values()))\n",
    "hs3=hs3.sort_values(['n','Gmax']).reset_index(drop=True)"
   ]
  },
  {
   "cell_type": "code",
   "execution_count": 62,
   "id": "ebd62377-8b1f-475b-bbc5-9a539794ef53",
   "metadata": {},
   "outputs": [
    {
     "data": {
      "text/html": [
       "<div>\n",
       "<style scoped>\n",
       "    .dataframe tbody tr th:only-of-type {\n",
       "        vertical-align: middle;\n",
       "    }\n",
       "\n",
       "    .dataframe tbody tr th {\n",
       "        vertical-align: top;\n",
       "    }\n",
       "\n",
       "    .dataframe thead th {\n",
       "        text-align: right;\n",
       "    }\n",
       "</style>\n",
       "<table border=\"1\" class=\"dataframe\">\n",
       "  <thead>\n",
       "    <tr style=\"text-align: right;\">\n",
       "      <th></th>\n",
       "      <th>l</th>\n",
       "      <th>k</th>\n",
       "      <th>solution</th>\n",
       "      <th>gcd</th>\n",
       "      <th>n</th>\n",
       "      <th>zmax</th>\n",
       "      <th>hidden</th>\n",
       "      <th>Generations</th>\n",
       "      <th>Gmax</th>\n",
       "    </tr>\n",
       "  </thead>\n",
       "  <tbody>\n",
       "    <tr>\n",
       "      <th>0</th>\n",
       "      <td>[1, 0, -2]</td>\n",
       "      <td>[-3, -1, 1]</td>\n",
       "      <td>[3, 3, 3, 5, -7, -9, -11, 13]</td>\n",
       "      <td>2</td>\n",
       "      <td>8</td>\n",
       "      <td>13</td>\n",
       "      <td>[{'S': 18, 'ψ': [(-7, -11), (-9, -9), (5, 13)]}]</td>\n",
       "      <td>[{'DG': 1, 'MG': 1}]</td>\n",
       "      <td>-2</td>\n",
       "    </tr>\n",
       "  </tbody>\n",
       "</table>\n",
       "</div>"
      ],
      "text/plain": [
       "            l            k                       solution  gcd  n  zmax  \\\n",
       "0  [1, 0, -2]  [-3, -1, 1]  [3, 3, 3, 5, -7, -9, -11, 13]    2  8    13   \n",
       "\n",
       "                                             hidden           Generations  \\\n",
       "0  [{'S': 18, 'ψ': [(-7, -11), (-9, -9), (5, 13)]}]  [{'DG': 1, 'MG': 1}]   \n",
       "\n",
       "   Gmax  \n",
       "0    -2  "
      ]
     },
     "execution_count": 62,
     "metadata": {},
     "output_type": "execute_result"
    }
   ],
   "source": [
    "hs3[hs3['n']==8][:1]"
   ]
  },
  {
   "cell_type": "code",
   "execution_count": 63,
   "id": "ef353d09-4292-47c0-aa98-d4e2711b8873",
   "metadata": {},
   "outputs": [
    {
     "data": {
      "text/html": [
       "<div>\n",
       "<style scoped>\n",
       "    .dataframe tbody tr th:only-of-type {\n",
       "        vertical-align: middle;\n",
       "    }\n",
       "\n",
       "    .dataframe tbody tr th {\n",
       "        vertical-align: top;\n",
       "    }\n",
       "\n",
       "    .dataframe thead th {\n",
       "        text-align: right;\n",
       "    }\n",
       "</style>\n",
       "<table border=\"1\" class=\"dataframe\">\n",
       "  <thead>\n",
       "    <tr style=\"text-align: right;\">\n",
       "      <th></th>\n",
       "      <th>l</th>\n",
       "      <th>k</th>\n",
       "      <th>solution</th>\n",
       "      <th>gcd</th>\n",
       "      <th>n</th>\n",
       "      <th>zmax</th>\n",
       "      <th>hidden</th>\n",
       "      <th>Generations</th>\n",
       "      <th>Gmax</th>\n",
       "    </tr>\n",
       "  </thead>\n",
       "  <tbody>\n",
       "    <tr>\n",
       "      <th>3</th>\n",
       "      <td>[-2, -1, 0]</td>\n",
       "      <td>[-1, -3, -5, -3]</td>\n",
       "      <td>[5, 6, 6, 6, -8, -9, -9, -10, 13]</td>\n",
       "      <td>2</td>\n",
       "      <td>9</td>\n",
       "      <td>13</td>\n",
       "      <td>[{'S': 18, 'ψ': [(-9, -9), (-8, -10), (5, 13)]}]</td>\n",
       "      <td>[{'DG': 1, 'MG': 2}]</td>\n",
       "      <td>-3</td>\n",
       "    </tr>\n",
       "    <tr>\n",
       "      <th>4</th>\n",
       "      <td>[1, -2, -1]</td>\n",
       "      <td>[-4, -9, -5, -3]</td>\n",
       "      <td>[1, -2, 6, 6, 6, -9, -9, -16, 17]</td>\n",
       "      <td>6</td>\n",
       "      <td>9</td>\n",
       "      <td>17</td>\n",
       "      <td>[{'S': 18, 'ψ': [(-9, -9), (1, 17), (-2, -16)]}]</td>\n",
       "      <td>[{'DG': 1, 'MG': 2}]</td>\n",
       "      <td>-3</td>\n",
       "    </tr>\n",
       "    <tr>\n",
       "      <th>5</th>\n",
       "      <td>[-2, 0, 2]</td>\n",
       "      <td>[-1, 1, 0, -1]</td>\n",
       "      <td>[1, 1, -4, -5, 9, 9, 9, -10, -10]</td>\n",
       "      <td>1</td>\n",
       "      <td>9</td>\n",
       "      <td>10</td>\n",
       "      <td>[{'S': 9, 'ψ': [(1, -10), (-4, -5)]}]</td>\n",
       "      <td>[{'DG': 2, 'MG': 0}]</td>\n",
       "      <td>-2</td>\n",
       "    </tr>\n",
       "    <tr>\n",
       "      <th>6</th>\n",
       "      <td>[-1, 0, 1]</td>\n",
       "      <td>[-1, -3, 0, -1]</td>\n",
       "      <td>[1, 1, -3, -8, 11, 11, 11, -12, -12]</td>\n",
       "      <td>1</td>\n",
       "      <td>9</td>\n",
       "      <td>12</td>\n",
       "      <td>[{'S': 11, 'ψ': [(1, -12), (-3, -8)]}]</td>\n",
       "      <td>[{'DG': 2, 'MG': 0}]</td>\n",
       "      <td>-2</td>\n",
       "    </tr>\n",
       "  </tbody>\n",
       "</table>\n",
       "</div>"
      ],
      "text/plain": [
       "             l                 k                              solution  gcd  \\\n",
       "3  [-2, -1, 0]  [-1, -3, -5, -3]     [5, 6, 6, 6, -8, -9, -9, -10, 13]    2   \n",
       "4  [1, -2, -1]  [-4, -9, -5, -3]     [1, -2, 6, 6, 6, -9, -9, -16, 17]    6   \n",
       "5   [-2, 0, 2]    [-1, 1, 0, -1]     [1, 1, -4, -5, 9, 9, 9, -10, -10]    1   \n",
       "6   [-1, 0, 1]   [-1, -3, 0, -1]  [1, 1, -3, -8, 11, 11, 11, -12, -12]    1   \n",
       "\n",
       "   n  zmax                                            hidden  \\\n",
       "3  9    13  [{'S': 18, 'ψ': [(-9, -9), (-8, -10), (5, 13)]}]   \n",
       "4  9    17  [{'S': 18, 'ψ': [(-9, -9), (1, 17), (-2, -16)]}]   \n",
       "5  9    10             [{'S': 9, 'ψ': [(1, -10), (-4, -5)]}]   \n",
       "6  9    12            [{'S': 11, 'ψ': [(1, -12), (-3, -8)]}]   \n",
       "\n",
       "            Generations  Gmax  \n",
       "3  [{'DG': 1, 'MG': 2}]    -3  \n",
       "4  [{'DG': 1, 'MG': 2}]    -3  \n",
       "5  [{'DG': 2, 'MG': 0}]    -2  \n",
       "6  [{'DG': 2, 'MG': 0}]    -2  "
      ]
     },
     "execution_count": 63,
     "metadata": {},
     "output_type": "execute_result"
    }
   ],
   "source": [
    "hs3[hs3['n']==9][:4]"
   ]
  },
  {
   "cell_type": "code",
   "execution_count": 64,
   "id": "1a2dfd23-be61-4e2b-aa5a-06ae9e664752",
   "metadata": {},
   "outputs": [
    {
     "data": {
      "text/html": [
       "<div>\n",
       "<style scoped>\n",
       "    .dataframe tbody tr th:only-of-type {\n",
       "        vertical-align: middle;\n",
       "    }\n",
       "\n",
       "    .dataframe tbody tr th {\n",
       "        vertical-align: top;\n",
       "    }\n",
       "\n",
       "    .dataframe thead th {\n",
       "        text-align: right;\n",
       "    }\n",
       "</style>\n",
       "<table border=\"1\" class=\"dataframe\">\n",
       "  <thead>\n",
       "    <tr style=\"text-align: right;\">\n",
       "      <th></th>\n",
       "      <th>l</th>\n",
       "      <th>k</th>\n",
       "      <th>solution</th>\n",
       "      <th>gcd</th>\n",
       "      <th>n</th>\n",
       "      <th>zmax</th>\n",
       "      <th>hidden</th>\n",
       "      <th>Generations</th>\n",
       "      <th>Gmax</th>\n",
       "    </tr>\n",
       "  </thead>\n",
       "  <tbody>\n",
       "    <tr>\n",
       "      <th>43</th>\n",
       "      <td>[-3, 3, 0, -6]</td>\n",
       "      <td>[-3, -2, 3, 4]</td>\n",
       "      <td>[3, 3, 3, -4, 9, 9, -10, -14, -27, 28]</td>\n",
       "      <td>18</td>\n",
       "      <td>10</td>\n",
       "      <td>28</td>\n",
       "      <td>[{'S': 18, 'ψ': [(-10, 28), (-4, -14), (9, -27), (9, 9)]}]</td>\n",
       "      <td>[{'DG': 1, 'MG': 2}]</td>\n",
       "      <td>-3</td>\n",
       "    </tr>\n",
       "    <tr>\n",
       "      <th>44</th>\n",
       "      <td>[-1, 0, -4, -3]</td>\n",
       "      <td>[-3, 1, -1, -5]</td>\n",
       "      <td>[1, -3, -3, -3, -9, -9, 11, 17, 27, -29]</td>\n",
       "      <td>2</td>\n",
       "      <td>10</td>\n",
       "      <td>29</td>\n",
       "      <td>[{'S': 18, 'ψ': [(-9, 27), (11, -29), (1, 17), (-9, -9)]}]</td>\n",
       "      <td>[{'DG': 1, 'MG': 2}]</td>\n",
       "      <td>-3</td>\n",
       "    </tr>\n",
       "    <tr>\n",
       "      <th>45</th>\n",
       "      <td>[3, -1, -3, 0]</td>\n",
       "      <td>[-2, -1, 1, -3, -4]</td>\n",
       "      <td>[3, 3, 3, 4, -6, -7, 9, -11, -12, 14]</td>\n",
       "      <td>1</td>\n",
       "      <td>10</td>\n",
       "      <td>14</td>\n",
       "      <td>[{'S': 18, 'ψ': [(-6, -12), (4, 14), (-7, -11), (9, 9)]}]</td>\n",
       "      <td>[{'DG': 1, 'MG': 1}]</td>\n",
       "      <td>-2</td>\n",
       "    </tr>\n",
       "    <tr>\n",
       "      <th>46</th>\n",
       "      <td>[0, 1, 0, -2]</td>\n",
       "      <td>[-1, -3, 3, -1, -3]</td>\n",
       "      <td>[1, -5, -7, 9, -11, -13, 15, 15, 15, -19]</td>\n",
       "      <td>4</td>\n",
       "      <td>10</td>\n",
       "      <td>19</td>\n",
       "      <td>[{'S': 18, 'ψ': [(-5, -13), (1, -19), (-7, -11), (9, 9)]}]</td>\n",
       "      <td>[{'DG': 1, 'MG': 1}]</td>\n",
       "      <td>-2</td>\n",
       "    </tr>\n",
       "    <tr>\n",
       "      <th>47</th>\n",
       "      <td>[1, 0, 2, 0]</td>\n",
       "      <td>[-3, 0, -3, -2, -1]</td>\n",
       "      <td>[1, -2, 3, 3, 3, -6, 9, -12, -19, 20]</td>\n",
       "      <td>6</td>\n",
       "      <td>10</td>\n",
       "      <td>20</td>\n",
       "      <td>[{'S': 18, 'ψ': [(-2, 20), (-6, -12), (1, -19), (9, 9)]}]</td>\n",
       "      <td>[{'DG': 1, 'MG': 1}]</td>\n",
       "      <td>-2</td>\n",
       "    </tr>\n",
       "  </tbody>\n",
       "</table>\n",
       "</div>"
      ],
      "text/plain": [
       "                  l                    k  \\\n",
       "43   [-3, 3, 0, -6]       [-3, -2, 3, 4]   \n",
       "44  [-1, 0, -4, -3]      [-3, 1, -1, -5]   \n",
       "45   [3, -1, -3, 0]  [-2, -1, 1, -3, -4]   \n",
       "46    [0, 1, 0, -2]  [-1, -3, 3, -1, -3]   \n",
       "47     [1, 0, 2, 0]  [-3, 0, -3, -2, -1]   \n",
       "\n",
       "                                     solution  gcd   n  zmax  \\\n",
       "43     [3, 3, 3, -4, 9, 9, -10, -14, -27, 28]   18  10    28   \n",
       "44   [1, -3, -3, -3, -9, -9, 11, 17, 27, -29]    2  10    29   \n",
       "45      [3, 3, 3, 4, -6, -7, 9, -11, -12, 14]    1  10    14   \n",
       "46  [1, -5, -7, 9, -11, -13, 15, 15, 15, -19]    4  10    19   \n",
       "47      [1, -2, 3, 3, 3, -6, 9, -12, -19, 20]    6  10    20   \n",
       "\n",
       "                                                        hidden  \\\n",
       "43  [{'S': 18, 'ψ': [(-10, 28), (-4, -14), (9, -27), (9, 9)]}]   \n",
       "44  [{'S': 18, 'ψ': [(-9, 27), (11, -29), (1, 17), (-9, -9)]}]   \n",
       "45   [{'S': 18, 'ψ': [(-6, -12), (4, 14), (-7, -11), (9, 9)]}]   \n",
       "46  [{'S': 18, 'ψ': [(-5, -13), (1, -19), (-7, -11), (9, 9)]}]   \n",
       "47   [{'S': 18, 'ψ': [(-2, 20), (-6, -12), (1, -19), (9, 9)]}]   \n",
       "\n",
       "             Generations  Gmax  \n",
       "43  [{'DG': 1, 'MG': 2}]    -3  \n",
       "44  [{'DG': 1, 'MG': 2}]    -3  \n",
       "45  [{'DG': 1, 'MG': 1}]    -2  \n",
       "46  [{'DG': 1, 'MG': 1}]    -2  \n",
       "47  [{'DG': 1, 'MG': 1}]    -2  "
      ]
     },
     "execution_count": 64,
     "metadata": {},
     "output_type": "execute_result"
    }
   ],
   "source": [
    "hs3[hs3['n']==10][:5]"
   ]
  },
  {
   "cell_type": "code",
   "execution_count": 65,
   "id": "2b0f69f7-c511-454f-8670-ecccfc31b151",
   "metadata": {},
   "outputs": [
    {
     "data": {
      "text/html": [
       "<div>\n",
       "<style scoped>\n",
       "    .dataframe tbody tr th:only-of-type {\n",
       "        vertical-align: middle;\n",
       "    }\n",
       "\n",
       "    .dataframe tbody tr th {\n",
       "        vertical-align: top;\n",
       "    }\n",
       "\n",
       "    .dataframe thead th {\n",
       "        text-align: right;\n",
       "    }\n",
       "</style>\n",
       "<table border=\"1\" class=\"dataframe\">\n",
       "  <thead>\n",
       "    <tr style=\"text-align: right;\">\n",
       "      <th></th>\n",
       "      <th>l</th>\n",
       "      <th>k</th>\n",
       "      <th>solution</th>\n",
       "      <th>gcd</th>\n",
       "      <th>n</th>\n",
       "      <th>zmax</th>\n",
       "      <th>hidden</th>\n",
       "      <th>Generations</th>\n",
       "      <th>Gmax</th>\n",
       "    </tr>\n",
       "  </thead>\n",
       "  <tbody>\n",
       "    <tr>\n",
       "      <th>49</th>\n",
       "      <td>[2, -1, 2, -1]</td>\n",
       "      <td>[-2, -1, -2, 2, 4]</td>\n",
       "      <td>[4, 5, 8, -9, -9, 10, -12, -12, -12, 13, 14]</td>\n",
       "      <td>1</td>\n",
       "      <td>11</td>\n",
       "      <td>14</td>\n",
       "      <td>[{'S': 18, 'ψ': [(5, 13), (4, 14), (-9, -9), (8, 10)]}]</td>\n",
       "      <td>[{'DG': 1, 'MG': 2}]</td>\n",
       "      <td>-3</td>\n",
       "    </tr>\n",
       "    <tr>\n",
       "      <th>50</th>\n",
       "      <td>[2, 3, 0, -3, 3]</td>\n",
       "      <td>[0, -3, 1, -1, -3]</td>\n",
       "      <td>[1, 1, -2, -3, 6, 6, 6, -7, -10, -10, 12]</td>\n",
       "      <td>15</td>\n",
       "      <td>11</td>\n",
       "      <td>12</td>\n",
       "      <td>[{'S': 9, 'ψ': [(-3, 12), (1, -10), (-2, -7)]}]</td>\n",
       "      <td>[{'DG': 2, 'MG': 0}]</td>\n",
       "      <td>-2</td>\n",
       "    </tr>\n",
       "  </tbody>\n",
       "</table>\n",
       "</div>"
      ],
      "text/plain": [
       "                   l                   k  \\\n",
       "49    [2, -1, 2, -1]  [-2, -1, -2, 2, 4]   \n",
       "50  [2, 3, 0, -3, 3]  [0, -3, 1, -1, -3]   \n",
       "\n",
       "                                        solution  gcd   n  zmax  \\\n",
       "49  [4, 5, 8, -9, -9, 10, -12, -12, -12, 13, 14]    1  11    14   \n",
       "50     [1, 1, -2, -3, 6, 6, 6, -7, -10, -10, 12]   15  11    12   \n",
       "\n",
       "                                                     hidden  \\\n",
       "49  [{'S': 18, 'ψ': [(5, 13), (4, 14), (-9, -9), (8, 10)]}]   \n",
       "50          [{'S': 9, 'ψ': [(-3, 12), (1, -10), (-2, -7)]}]   \n",
       "\n",
       "             Generations  Gmax  \n",
       "49  [{'DG': 1, 'MG': 2}]    -3  \n",
       "50  [{'DG': 2, 'MG': 0}]    -2  "
      ]
     },
     "execution_count": 65,
     "metadata": {},
     "output_type": "execute_result"
    }
   ],
   "source": [
    "hs3[hs3['n']==11][:2]"
   ]
  },
  {
   "cell_type": "code",
   "execution_count": 66,
   "id": "482d9bd4-17bb-4987-bc25-49b1fe5c8e28",
   "metadata": {},
   "outputs": [
    {
     "data": {
      "text/html": [
       "<div>\n",
       "<style scoped>\n",
       "    .dataframe tbody tr th:only-of-type {\n",
       "        vertical-align: middle;\n",
       "    }\n",
       "\n",
       "    .dataframe tbody tr th {\n",
       "        vertical-align: top;\n",
       "    }\n",
       "\n",
       "    .dataframe thead th {\n",
       "        text-align: right;\n",
       "    }\n",
       "</style>\n",
       "<table border=\"1\" class=\"dataframe\">\n",
       "  <thead>\n",
       "    <tr style=\"text-align: right;\">\n",
       "      <th></th>\n",
       "      <th>l</th>\n",
       "      <th>k</th>\n",
       "      <th>solution</th>\n",
       "      <th>gcd</th>\n",
       "      <th>n</th>\n",
       "      <th>zmax</th>\n",
       "      <th>hidden</th>\n",
       "      <th>Generations</th>\n",
       "      <th>Gmax</th>\n",
       "    </tr>\n",
       "  </thead>\n",
       "  <tbody>\n",
       "    <tr>\n",
       "      <th>64</th>\n",
       "      <td>[1, -3, -2, 0, -1]</td>\n",
       "      <td>[-3, -1, -3, -1, -3]</td>\n",
       "      <td>[1, 1, 3, 3, 3, 5, 5, -7, -9, -9, -9, 13]</td>\n",
       "      <td>2</td>\n",
       "      <td>12</td>\n",
       "      <td>13</td>\n",
       "      <td>[{'S': 6, 'ψ': [(1, 5), (3, 3), (-7, 13), (1, -7)]}]</td>\n",
       "      <td>[{'DG': 2, 'MG': 3}]</td>\n",
       "      <td>-5</td>\n",
       "    </tr>\n",
       "    <tr>\n",
       "      <th>65</th>\n",
       "      <td>[1, 0, 2, 0, 2]</td>\n",
       "      <td>[-3, -1, -3, -1, -3]</td>\n",
       "      <td>[7, 9, 9, 9, 11, -13, -13, -27, -27, -27, 31, 31]</td>\n",
       "      <td>2</td>\n",
       "      <td>12</td>\n",
       "      <td>31</td>\n",
       "      <td>[{'S': 18, 'ψ': [(9, 9), (7, 11), (-13, 31)]}]</td>\n",
       "      <td>[{'DG': 2, 'MG': 3}]</td>\n",
       "      <td>-5</td>\n",
       "    </tr>\n",
       "    <tr>\n",
       "      <th>66</th>\n",
       "      <td>[-3, -1, -2, 3, -3]</td>\n",
       "      <td>[-3, -2, -3, -2, 0]</td>\n",
       "      <td>[3, 3, 3, 6, 7, -8, -9, -9, -9, -10, 11, 12]</td>\n",
       "      <td>19</td>\n",
       "      <td>12</td>\n",
       "      <td>12</td>\n",
       "      <td>[{'S': 18, 'ψ': [(6, 12), (-9, -9), (-8, -10), (7, 11)]}]</td>\n",
       "      <td>[{'DG': 1, 'MG': 3}]</td>\n",
       "      <td>-4</td>\n",
       "    </tr>\n",
       "    <tr>\n",
       "      <th>67</th>\n",
       "      <td>[-3, -1, 2, 0, -3]</td>\n",
       "      <td>[-3, -2, -1, -2, -3]</td>\n",
       "      <td>[3, 4, -8, -9, -9, -9, -10, 14, 15, 15, 15, -21]</td>\n",
       "      <td>12</td>\n",
       "      <td>12</td>\n",
       "      <td>21</td>\n",
       "      <td>[{'S': 18, 'ψ': [(3, -21), (4, 14), (-9, -9), (-8, -10)]}]</td>\n",
       "      <td>[{'DG': 1, 'MG': 3}]</td>\n",
       "      <td>-4</td>\n",
       "    </tr>\n",
       "    <tr>\n",
       "      <th>68</th>\n",
       "      <td>[-3, 0, -3, -1, 3]</td>\n",
       "      <td>[-3, -1, -3, -1, 1]</td>\n",
       "      <td>[2, 6, 6, 6, -7, -16, -20, -20, -20, 21, 21, 21]</td>\n",
       "      <td>8</td>\n",
       "      <td>12</td>\n",
       "      <td>21</td>\n",
       "      <td>[{'S': 14, 'ψ': [(2, -16), (-7, -7), (6, -20)]}]</td>\n",
       "      <td>[{'DG': 3, 'MG': 1}]</td>\n",
       "      <td>-4</td>\n",
       "    </tr>\n",
       "  </tbody>\n",
       "</table>\n",
       "</div>"
      ],
      "text/plain": [
       "                      l                     k  \\\n",
       "64   [1, -3, -2, 0, -1]  [-3, -1, -3, -1, -3]   \n",
       "65      [1, 0, 2, 0, 2]  [-3, -1, -3, -1, -3]   \n",
       "66  [-3, -1, -2, 3, -3]   [-3, -2, -3, -2, 0]   \n",
       "67   [-3, -1, 2, 0, -3]  [-3, -2, -1, -2, -3]   \n",
       "68   [-3, 0, -3, -1, 3]   [-3, -1, -3, -1, 1]   \n",
       "\n",
       "                                             solution  gcd   n  zmax  \\\n",
       "64          [1, 1, 3, 3, 3, 5, 5, -7, -9, -9, -9, 13]    2  12    13   \n",
       "65  [7, 9, 9, 9, 11, -13, -13, -27, -27, -27, 31, 31]    2  12    31   \n",
       "66       [3, 3, 3, 6, 7, -8, -9, -9, -9, -10, 11, 12]   19  12    12   \n",
       "67   [3, 4, -8, -9, -9, -9, -10, 14, 15, 15, 15, -21]   12  12    21   \n",
       "68   [2, 6, 6, 6, -7, -16, -20, -20, -20, 21, 21, 21]    8  12    21   \n",
       "\n",
       "                                                        hidden  \\\n",
       "64        [{'S': 6, 'ψ': [(1, 5), (3, 3), (-7, 13), (1, -7)]}]   \n",
       "65              [{'S': 18, 'ψ': [(9, 9), (7, 11), (-13, 31)]}]   \n",
       "66   [{'S': 18, 'ψ': [(6, 12), (-9, -9), (-8, -10), (7, 11)]}]   \n",
       "67  [{'S': 18, 'ψ': [(3, -21), (4, 14), (-9, -9), (-8, -10)]}]   \n",
       "68            [{'S': 14, 'ψ': [(2, -16), (-7, -7), (6, -20)]}]   \n",
       "\n",
       "             Generations  Gmax  \n",
       "64  [{'DG': 2, 'MG': 3}]    -5  \n",
       "65  [{'DG': 2, 'MG': 3}]    -5  \n",
       "66  [{'DG': 1, 'MG': 3}]    -4  \n",
       "67  [{'DG': 1, 'MG': 3}]    -4  \n",
       "68  [{'DG': 3, 'MG': 1}]    -4  "
      ]
     },
     "execution_count": 66,
     "metadata": {},
     "output_type": "execute_result"
    }
   ],
   "source": [
    "hs3[hs3['n']==12][:5]"
   ]
  },
  {
   "cell_type": "code",
   "execution_count": 67,
   "id": "df360971-99b3-4d01-a7bb-592101714f0b",
   "metadata": {},
   "outputs": [
    {
     "data": {
      "text/html": [
       "<div>\n",
       "<style scoped>\n",
       "    .dataframe tbody tr th:only-of-type {\n",
       "        vertical-align: middle;\n",
       "    }\n",
       "\n",
       "    .dataframe tbody tr th {\n",
       "        vertical-align: top;\n",
       "    }\n",
       "\n",
       "    .dataframe thead th {\n",
       "        text-align: right;\n",
       "    }\n",
       "</style>\n",
       "<table border=\"1\" class=\"dataframe\">\n",
       "  <thead>\n",
       "    <tr style=\"text-align: right;\">\n",
       "      <th></th>\n",
       "      <th>l</th>\n",
       "      <th>k</th>\n",
       "      <th>solution</th>\n",
       "      <th>gcd</th>\n",
       "      <th>n</th>\n",
       "      <th>zmax</th>\n",
       "      <th>hidden</th>\n",
       "      <th>Generations</th>\n",
       "      <th>Gmax</th>\n",
       "      <th>~intersections</th>\n",
       "    </tr>\n",
       "  </thead>\n",
       "  <tbody>\n",
       "    <tr>\n",
       "      <th>5</th>\n",
       "      <td>[-2, 0, 2]</td>\n",
       "      <td>[-1, 1, 0, -1]</td>\n",
       "      <td>[1, 1, -4, -5, 9, 9, 9, -10, -10]</td>\n",
       "      <td>1</td>\n",
       "      <td>9</td>\n",
       "      <td>10</td>\n",
       "      <td>[{'S': 9, 'ψ': [(1, -10), (-4, -5)]}]</td>\n",
       "      <td>[{'DG': 2, 'MG': 0}]</td>\n",
       "      <td>-2</td>\n",
       "      <td>[(-4, -5)]</td>\n",
       "    </tr>\n",
       "    <tr>\n",
       "      <th>6</th>\n",
       "      <td>[-1, 0, 1]</td>\n",
       "      <td>[-1, -3, 0, -1]</td>\n",
       "      <td>[1, 1, -3, -8, 11, 11, 11, -12, -12]</td>\n",
       "      <td>1</td>\n",
       "      <td>9</td>\n",
       "      <td>12</td>\n",
       "      <td>[{'S': 11, 'ψ': [(1, -12), (-3, -8)]}]</td>\n",
       "      <td>[{'DG': 2, 'MG': 0}]</td>\n",
       "      <td>-2</td>\n",
       "      <td>[(-3, -8)]</td>\n",
       "    </tr>\n",
       "    <tr>\n",
       "      <th>7</th>\n",
       "      <td>[-1, 0, -1, 1]</td>\n",
       "      <td>[-3, 0, -1, 0]</td>\n",
       "      <td>[4, -5, -5, -6, -6, 11, 11, 11, -15]</td>\n",
       "      <td>1</td>\n",
       "      <td>9</td>\n",
       "      <td>15</td>\n",
       "      <td>[{'S': 11, 'ψ': [(-5, -6), (4, -15)]}]</td>\n",
       "      <td>[{'DG': 2, 'MG': 0}]</td>\n",
       "      <td>-2</td>\n",
       "      <td>[(4, -15)]</td>\n",
       "    </tr>\n",
       "    <tr>\n",
       "      <th>8</th>\n",
       "      <td>[-1, 0, 1]</td>\n",
       "      <td>[-1, -5, 0, 5]</td>\n",
       "      <td>[2, 2, -3, 15, 15, -17, -17, -17, 20]</td>\n",
       "      <td>3</td>\n",
       "      <td>9</td>\n",
       "      <td>20</td>\n",
       "      <td>[{'S': 17, 'ψ': [(-3, 20), (2, 15)]}]</td>\n",
       "      <td>[{'DG': 2, 'MG': 0}]</td>\n",
       "      <td>-2</td>\n",
       "      <td>[(2, 15)]</td>\n",
       "    </tr>\n",
       "    <tr>\n",
       "      <th>9</th>\n",
       "      <td>[-1, 0, -1, 1]</td>\n",
       "      <td>[-3, 0, -3, 0]</td>\n",
       "      <td>[2, 2, -7, -12, 19, 19, 19, -21, -21]</td>\n",
       "      <td>1</td>\n",
       "      <td>9</td>\n",
       "      <td>21</td>\n",
       "      <td>[{'S': 19, 'ψ': [(-7, -12), (2, -21)]}]</td>\n",
       "      <td>[{'DG': 2, 'MG': 0}]</td>\n",
       "      <td>-2</td>\n",
       "      <td>[(2, -21)]</td>\n",
       "    </tr>\n",
       "    <tr>\n",
       "      <th>10</th>\n",
       "      <td>[-1, 0, 1]</td>\n",
       "      <td>[-1, 1, 0, -7]</td>\n",
       "      <td>[3, 3, -4, 14, 14, -17, -17, -17, 21]</td>\n",
       "      <td>3</td>\n",
       "      <td>9</td>\n",
       "      <td>21</td>\n",
       "      <td>[{'S': 17, 'ψ': [(-4, 21), (3, 14)]}]</td>\n",
       "      <td>[{'DG': 2, 'MG': 0}]</td>\n",
       "      <td>-2</td>\n",
       "      <td>[(3, 14)]</td>\n",
       "    </tr>\n",
       "    <tr>\n",
       "      <th>11</th>\n",
       "      <td>[1, 0, 1, -1]</td>\n",
       "      <td>[-3, 0, -3, 0]</td>\n",
       "      <td>[4, 4, -5, 15, 15, -19, -19, -19, 24]</td>\n",
       "      <td>1</td>\n",
       "      <td>9</td>\n",
       "      <td>24</td>\n",
       "      <td>[{'S': 19, 'ψ': [(4, 15), (-5, 24)]}]</td>\n",
       "      <td>[{'DG': 2, 'MG': 0}]</td>\n",
       "      <td>-2</td>\n",
       "      <td>[(-5, 24)]</td>\n",
       "    </tr>\n",
       "    <tr>\n",
       "      <th>64</th>\n",
       "      <td>[1, -3, -2, 0, -1]</td>\n",
       "      <td>[-3, -1, -3, -1, -3]</td>\n",
       "      <td>[1, 1, 3, 3, 3, 5, 5, -7, -9, -9, -9, 13]</td>\n",
       "      <td>2</td>\n",
       "      <td>12</td>\n",
       "      <td>13</td>\n",
       "      <td>[{'S': 6, 'ψ': [(1, 5), (3, 3), (-7, 13), (1, -7)]}]</td>\n",
       "      <td>[{'DG': 2, 'MG': 3}]</td>\n",
       "      <td>-5</td>\n",
       "      <td>[(3, 3)]</td>\n",
       "    </tr>\n",
       "  </tbody>\n",
       "</table>\n",
       "</div>"
      ],
      "text/plain": [
       "                     l                     k  \\\n",
       "5           [-2, 0, 2]        [-1, 1, 0, -1]   \n",
       "6           [-1, 0, 1]       [-1, -3, 0, -1]   \n",
       "7       [-1, 0, -1, 1]        [-3, 0, -1, 0]   \n",
       "8           [-1, 0, 1]        [-1, -5, 0, 5]   \n",
       "9       [-1, 0, -1, 1]        [-3, 0, -3, 0]   \n",
       "10          [-1, 0, 1]        [-1, 1, 0, -7]   \n",
       "11       [1, 0, 1, -1]        [-3, 0, -3, 0]   \n",
       "64  [1, -3, -2, 0, -1]  [-3, -1, -3, -1, -3]   \n",
       "\n",
       "                                     solution  gcd   n  zmax  \\\n",
       "5           [1, 1, -4, -5, 9, 9, 9, -10, -10]    1   9    10   \n",
       "6        [1, 1, -3, -8, 11, 11, 11, -12, -12]    1   9    12   \n",
       "7        [4, -5, -5, -6, -6, 11, 11, 11, -15]    1   9    15   \n",
       "8       [2, 2, -3, 15, 15, -17, -17, -17, 20]    3   9    20   \n",
       "9       [2, 2, -7, -12, 19, 19, 19, -21, -21]    1   9    21   \n",
       "10      [3, 3, -4, 14, 14, -17, -17, -17, 21]    3   9    21   \n",
       "11      [4, 4, -5, 15, 15, -19, -19, -19, 24]    1   9    24   \n",
       "64  [1, 1, 3, 3, 3, 5, 5, -7, -9, -9, -9, 13]    2  12    13   \n",
       "\n",
       "                                                  hidden  \\\n",
       "5                  [{'S': 9, 'ψ': [(1, -10), (-4, -5)]}]   \n",
       "6                 [{'S': 11, 'ψ': [(1, -12), (-3, -8)]}]   \n",
       "7                 [{'S': 11, 'ψ': [(-5, -6), (4, -15)]}]   \n",
       "8                  [{'S': 17, 'ψ': [(-3, 20), (2, 15)]}]   \n",
       "9                [{'S': 19, 'ψ': [(-7, -12), (2, -21)]}]   \n",
       "10                 [{'S': 17, 'ψ': [(-4, 21), (3, 14)]}]   \n",
       "11                 [{'S': 19, 'ψ': [(4, 15), (-5, 24)]}]   \n",
       "64  [{'S': 6, 'ψ': [(1, 5), (3, 3), (-7, 13), (1, -7)]}]   \n",
       "\n",
       "             Generations  Gmax ~intersections  \n",
       "5   [{'DG': 2, 'MG': 0}]    -2     [(-4, -5)]  \n",
       "6   [{'DG': 2, 'MG': 0}]    -2     [(-3, -8)]  \n",
       "7   [{'DG': 2, 'MG': 0}]    -2     [(4, -15)]  \n",
       "8   [{'DG': 2, 'MG': 0}]    -2      [(2, 15)]  \n",
       "9   [{'DG': 2, 'MG': 0}]    -2     [(2, -21)]  \n",
       "10  [{'DG': 2, 'MG': 0}]    -2      [(3, 14)]  \n",
       "11  [{'DG': 2, 'MG': 0}]    -2     [(-5, 24)]  \n",
       "64  [{'DG': 2, 'MG': 3}]    -5       [(3, 3)]  "
      ]
     },
     "execution_count": 67,
     "metadata": {},
     "output_type": "execute_result"
    }
   ],
   "source": [
    "hs3['~intersections']=hs3['hidden'].apply(lambda lst: intersections(lst,mask=False))\n",
    "hs3[hs3['~intersections'].apply(len)==hs3['~intersections'].apply(len).min()].sort_values('n')"
   ]
  },
  {
   "cell_type": "markdown",
   "id": "7c5aa648-6500-458c-8c69-f11de4ada254",
   "metadata": {},
   "source": [
    "## Appendix: Use merge to compare two DataFrames"
   ]
  },
  {
   "cell_type": "code",
   "execution_count": 68,
   "id": "4728d082-1b73-4f99-b767-0c4bdb8bcd7a",
   "metadata": {},
   "outputs": [],
   "source": [
    "df=pd.read_json('solutions.json.gz')"
   ]
  },
  {
   "cell_type": "code",
   "execution_count": 69,
   "id": "b5ad001c",
   "metadata": {},
   "outputs": [
    {
     "name": "stdout",
     "output_type": "stream",
     "text": [
      "CPU times: user 11min 16s, sys: 719 ms, total: 11min 16s\n",
      "Wall time: 11min 16s\n"
     ]
    }
   ],
   "source": [
    "%%time\n",
    "df['hidden']=df['solution'].apply(get_hidden_sector)"
   ]
  },
  {
   "cell_type": "code",
   "execution_count": 14,
   "id": "465bdaeb",
   "metadata": {},
   "outputs": [
    {
     "data": {
      "text/plain": [
       "(9466, 6)"
      ]
     },
     "execution_count": 14,
     "metadata": {},
     "output_type": "execute_result"
    }
   ],
   "source": [
    "hs2=df[df['hidden'].apply(len)>0].reset_index(drop=True)#.iloc[0].to_dict()\n",
    "hs2.shape"
   ]
  },
  {
   "cell_type": "markdown",
   "id": "736e5eea-3445-4a5c-93c5-d7d66b1e4560",
   "metadata": {},
   "source": [
    "Columns can only be compared if they are simple objects, like strings:"
   ]
  },
  {
   "cell_type": "code",
   "execution_count": 28,
   "id": "2e257404",
   "metadata": {},
   "outputs": [],
   "source": [
    "hs['ss']  = hs['solution'].apply(str)\n",
    "hs2['ss'] = hs2['solution'].apply(str)"
   ]
  },
  {
   "cell_type": "markdown",
   "id": "9b77b20e-8d67-4158-8088-0f9678f2c61e",
   "metadata": {},
   "source": [
    "Increase the with of the columns for easier visualization."
   ]
  },
  {
   "cell_type": "code",
   "execution_count": 29,
   "id": "1e3e6a84",
   "metadata": {},
   "outputs": [],
   "source": [
    "pd.set_option('display.max_colwidth',200)"
   ]
  },
  {
   "cell_type": "markdown",
   "id": "4f961ec8-7086-4773-80ef-6990827cd23e",
   "metadata": {},
   "source": [
    "Compare the larger DataFrame (with filtered columns) against the smaller. The non `on='s'` repeated columns will appears with suffixes. "
   ]
  },
  {
   "cell_type": "code",
   "execution_count": 30,
   "id": "446917a5",
   "metadata": {},
   "outputs": [],
   "source": [
    "tmp=hs2[['ss','hidden']].merge(hs[['ss','hidden']],on='ss',how='left',suffixes=('_1','_2'))"
   ]
  },
  {
   "cell_type": "code",
   "execution_count": 32,
   "id": "8a1eb85b-3865-45d9-ad73-be42aab7423b",
   "metadata": {},
   "outputs": [
    {
     "data": {
      "text/html": [
       "<div>\n",
       "<style scoped>\n",
       "    .dataframe tbody tr th:only-of-type {\n",
       "        vertical-align: middle;\n",
       "    }\n",
       "\n",
       "    .dataframe tbody tr th {\n",
       "        vertical-align: top;\n",
       "    }\n",
       "\n",
       "    .dataframe thead th {\n",
       "        text-align: right;\n",
       "    }\n",
       "</style>\n",
       "<table border=\"1\" class=\"dataframe\">\n",
       "  <thead>\n",
       "    <tr style=\"text-align: right;\">\n",
       "      <th></th>\n",
       "      <th>ss</th>\n",
       "      <th>hidden_1</th>\n",
       "      <th>hidden_2</th>\n",
       "    </tr>\n",
       "  </thead>\n",
       "  <tbody>\n",
       "    <tr>\n",
       "      <th>0</th>\n",
       "      <td>[3, 3, -4, -4, -4, 5, -6, 7, -8, 9, 10, -11]</td>\n",
       "      <td>[{'S': 1, 'ψ': [(-6, 7), (7, -8), (5, -6), (-8, 9), (3, -4), (10, -11), (-4, 5)]}]</td>\n",
       "      <td>NaN</td>\n",
       "    </tr>\n",
       "    <tr>\n",
       "      <th>1</th>\n",
       "      <td>[1, -3, 5, -7, -7, -7, -8, 9, 9, 10, 12, -14]</td>\n",
       "      <td>[{'S': 2, 'ψ': [(1, -3), (-8, 10), (-3, 5), (5, -7), (1, 1), (-7, 9), (12, -14)]}]</td>\n",
       "      <td>NaN</td>\n",
       "    </tr>\n",
       "    <tr>\n",
       "      <th>2</th>\n",
       "      <td>[1, -2, -3, 4, 5, -7, -9, -9, 11, 11, 12, -14]</td>\n",
       "      <td>[{'S': 2, 'ψ': [(1, -3), (-9, 11), (-2, 4), (-3, 5), (5, -7), (1, 1), (12, -14)]}]</td>\n",
       "      <td>NaN</td>\n",
       "    </tr>\n",
       "    <tr>\n",
       "      <th>3</th>\n",
       "      <td>[1, -2, 3, -4, -6, 7, -8, 9, -10, 11, 14, -15]</td>\n",
       "      <td>[{'S': 1, 'ψ': [(14, -15), (-6, 7), (3, -4), (1, -2), (-8, 9), (-10, 11), (9, -10), (7, -8), (-2, 3)]}]</td>\n",
       "      <td>NaN</td>\n",
       "    </tr>\n",
       "    <tr>\n",
       "      <th>4</th>\n",
       "      <td>[1, 4, -5, -6, -7, -7, -9, 10, 11, 12, 12, -16]</td>\n",
       "      <td>[{'S': 5, 'ψ': [(11, -16), (1, -6), (-6, 11), (-5, 10), (1, 4), (-7, 12), (4, -9)]}]</td>\n",
       "      <td>NaN</td>\n",
       "    </tr>\n",
       "    <tr>\n",
       "      <th>5</th>\n",
       "      <td>[3, -4, 6, -9, 10, -11, -11, -12, 15, 17, 17, -21]</td>\n",
       "      <td>[{'S': 6, 'ψ': [(-11, 17), (-4, 10), (3, -9), (3, 3), (15, -21), (6, -12), (-9, 15)]}]</td>\n",
       "      <td>NaN</td>\n",
       "    </tr>\n",
       "    <tr>\n",
       "      <th>6</th>\n",
       "      <td>[4, -5, 8, -9, -11, 12, -13, 14, -15, 16, 21, -22]</td>\n",
       "      <td>[{'S': 1, 'ψ': [(-13, 14), (8, -9), (14, -15), (4, -5), (21, -22), (12, -13), (-11, 12), (-15, 16)]}]</td>\n",
       "      <td>NaN</td>\n",
       "    </tr>\n",
       "    <tr>\n",
       "      <th>7</th>\n",
       "      <td>[1, -2, 9, -10, -11, 12, -13, 14, -15, 16, 21, -22]</td>\n",
       "      <td>[{'S': 1, 'ψ': [(-13, 14), (14, -15), (1, -2), (21, -22), (12, -13), (-11, 12), (9, -10), (-15, 16)]}]</td>\n",
       "      <td>NaN</td>\n",
       "    </tr>\n",
       "    <tr>\n",
       "      <th>8</th>\n",
       "      <td>[1, -4, -5, 7, 8, -10, -11, 14, -17, 20, 20, -23]</td>\n",
       "      <td>[{'S': 3, 'ψ': [(-17, 20), (-11, 14), (20, -23), (-4, 7), (-5, 8), (1, -4), (8, -11), (7, -10), (14, -17)]}]</td>\n",
       "      <td>NaN</td>\n",
       "    </tr>\n",
       "    <tr>\n",
       "      <th>9</th>\n",
       "      <td>[6, -7, 9, -10, -12, 13, -14, 15, -16, 17, 22, -23]</td>\n",
       "      <td>[{'S': 1, 'ψ': [(-12, 13), (-14, 15), (6, -7), (-16, 17), (15, -16), (22, -23), (13, -14), (9, -10)]}]</td>\n",
       "      <td>NaN</td>\n",
       "    </tr>\n",
       "    <tr>\n",
       "      <th>10</th>\n",
       "      <td>[3, 4, 6, 11, -12, -13, 14, -15, -20, 21, -23, 24]</td>\n",
       "      <td>[{'S': 9, 'ψ': [(11, -20), (3, 6), (-12, 21), (-15, 24), (6, -15), (14, -23), (3, -12), (4, -13)]}]</td>\n",
       "      <td>NaN</td>\n",
       "    </tr>\n",
       "    <tr>\n",
       "      <th>11</th>\n",
       "      <td>[1, 2, 4, -7, -9, 10, 14, -15, 18, -19, -23, 24]</td>\n",
       "      <td>[{'S': 5, 'ψ': [(2, -7), (10, -15), (18, -23), (-19, 24), (1, 4), (-9, 14), (14, -19), (4, -9)]}]</td>\n",
       "      <td>NaN</td>\n",
       "    </tr>\n",
       "    <tr>\n",
       "      <th>12</th>\n",
       "      <td>[1, 3, 5, 7, -9, -11, -15, -15, 17, 19, 23, -25]</td>\n",
       "      <td>[{'S': 8, 'ψ': [(-15, 23), (1, -9), (-9, 17), (17, -25), (-11, 19), (7, -15), (3, 5), (1, 7), (3, -11)]}]</td>\n",
       "      <td>NaN</td>\n",
       "    </tr>\n",
       "    <tr>\n",
       "      <th>13</th>\n",
       "      <td>[1, -2, -3, -4, -5, -8, 9, 12, -16, 18, 23, -25]</td>\n",
       "      <td>[{'S': 7, 'ψ': [(-2, 9), (-2, -5), (-16, 23), (-3, -4), (18, -25), (9, -16), (-5, 12), (1, -8)]}]</td>\n",
       "      <td>NaN</td>\n",
       "    </tr>\n",
       "    <tr>\n",
       "      <th>14</th>\n",
       "      <td>[3, -5, -6, -9, 11, 12, 15, 16, -21, -21, -22, 27]</td>\n",
       "      <td>[{'S': 6, 'ψ': [(3, -9), (3, 3), (-6, 12), (-5, 11), (-21, 27), (16, -22), (15, -21), (-9, 15)]}]</td>\n",
       "      <td>NaN</td>\n",
       "    </tr>\n",
       "    <tr>\n",
       "      <th>15</th>\n",
       "      <td>[3, -8, -9, 14, 15, -19, -19, -21, 24, 25, 25, -30]</td>\n",
       "      <td>[{'S': 6, 'ψ': [(-19, 25), (3, -9), (3, 3), (24, -30), (15, -21), (-8, 14), (-9, 15)]}]</td>\n",
       "      <td>NaN</td>\n",
       "    </tr>\n",
       "    <tr>\n",
       "      <th>16</th>\n",
       "      <td>[3, -9, -14, 15, -17, -17, 20, -21, 23, 23, 24, -30]</td>\n",
       "      <td>[{'S': 6, 'ψ': [(-17, 23), (3, -9), (3, 3), (-14, 20), (24, -30), (15, -21), (-9, 15)]}]</td>\n",
       "      <td>NaN</td>\n",
       "    </tr>\n",
       "    <tr>\n",
       "      <th>17</th>\n",
       "      <td>[1, -3, -4, 6, 10, -16, -17, -20, 23, 24, 27, -31]</td>\n",
       "      <td>[{'S': 7, 'ψ': [(24, -31), (10, -17), (-3, 10), (-16, 23), (-3, -4), (-17, 24), (-20, 27), (1, 6)]}]</td>\n",
       "      <td>NaN</td>\n",
       "    </tr>\n",
       "  </tbody>\n",
       "</table>\n",
       "</div>"
      ],
      "text/plain": [
       "                                                      ss  \\\n",
       "0           [3, 3, -4, -4, -4, 5, -6, 7, -8, 9, 10, -11]   \n",
       "1          [1, -3, 5, -7, -7, -7, -8, 9, 9, 10, 12, -14]   \n",
       "2         [1, -2, -3, 4, 5, -7, -9, -9, 11, 11, 12, -14]   \n",
       "3         [1, -2, 3, -4, -6, 7, -8, 9, -10, 11, 14, -15]   \n",
       "4        [1, 4, -5, -6, -7, -7, -9, 10, 11, 12, 12, -16]   \n",
       "5     [3, -4, 6, -9, 10, -11, -11, -12, 15, 17, 17, -21]   \n",
       "6     [4, -5, 8, -9, -11, 12, -13, 14, -15, 16, 21, -22]   \n",
       "7    [1, -2, 9, -10, -11, 12, -13, 14, -15, 16, 21, -22]   \n",
       "8      [1, -4, -5, 7, 8, -10, -11, 14, -17, 20, 20, -23]   \n",
       "9    [6, -7, 9, -10, -12, 13, -14, 15, -16, 17, 22, -23]   \n",
       "10    [3, 4, 6, 11, -12, -13, 14, -15, -20, 21, -23, 24]   \n",
       "11      [1, 2, 4, -7, -9, 10, 14, -15, 18, -19, -23, 24]   \n",
       "12      [1, 3, 5, 7, -9, -11, -15, -15, 17, 19, 23, -25]   \n",
       "13      [1, -2, -3, -4, -5, -8, 9, 12, -16, 18, 23, -25]   \n",
       "14    [3, -5, -6, -9, 11, 12, 15, 16, -21, -21, -22, 27]   \n",
       "15   [3, -8, -9, 14, 15, -19, -19, -21, 24, 25, 25, -30]   \n",
       "16  [3, -9, -14, 15, -17, -17, 20, -21, 23, 23, 24, -30]   \n",
       "17    [1, -3, -4, 6, 10, -16, -17, -20, 23, 24, 27, -31]   \n",
       "\n",
       "                                                                                                        hidden_1  \\\n",
       "0                             [{'S': 1, 'ψ': [(-6, 7), (7, -8), (5, -6), (-8, 9), (3, -4), (10, -11), (-4, 5)]}]   \n",
       "1                             [{'S': 2, 'ψ': [(1, -3), (-8, 10), (-3, 5), (5, -7), (1, 1), (-7, 9), (12, -14)]}]   \n",
       "2                             [{'S': 2, 'ψ': [(1, -3), (-9, 11), (-2, 4), (-3, 5), (5, -7), (1, 1), (12, -14)]}]   \n",
       "3        [{'S': 1, 'ψ': [(14, -15), (-6, 7), (3, -4), (1, -2), (-8, 9), (-10, 11), (9, -10), (7, -8), (-2, 3)]}]   \n",
       "4                           [{'S': 5, 'ψ': [(11, -16), (1, -6), (-6, 11), (-5, 10), (1, 4), (-7, 12), (4, -9)]}]   \n",
       "5                         [{'S': 6, 'ψ': [(-11, 17), (-4, 10), (3, -9), (3, 3), (15, -21), (6, -12), (-9, 15)]}]   \n",
       "6          [{'S': 1, 'ψ': [(-13, 14), (8, -9), (14, -15), (4, -5), (21, -22), (12, -13), (-11, 12), (-15, 16)]}]   \n",
       "7         [{'S': 1, 'ψ': [(-13, 14), (14, -15), (1, -2), (21, -22), (12, -13), (-11, 12), (9, -10), (-15, 16)]}]   \n",
       "8   [{'S': 3, 'ψ': [(-17, 20), (-11, 14), (20, -23), (-4, 7), (-5, 8), (1, -4), (8, -11), (7, -10), (14, -17)]}]   \n",
       "9         [{'S': 1, 'ψ': [(-12, 13), (-14, 15), (6, -7), (-16, 17), (15, -16), (22, -23), (13, -14), (9, -10)]}]   \n",
       "10           [{'S': 9, 'ψ': [(11, -20), (3, 6), (-12, 21), (-15, 24), (6, -15), (14, -23), (3, -12), (4, -13)]}]   \n",
       "11             [{'S': 5, 'ψ': [(2, -7), (10, -15), (18, -23), (-19, 24), (1, 4), (-9, 14), (14, -19), (4, -9)]}]   \n",
       "12     [{'S': 8, 'ψ': [(-15, 23), (1, -9), (-9, 17), (17, -25), (-11, 19), (7, -15), (3, 5), (1, 7), (3, -11)]}]   \n",
       "13             [{'S': 7, 'ψ': [(-2, 9), (-2, -5), (-16, 23), (-3, -4), (18, -25), (9, -16), (-5, 12), (1, -8)]}]   \n",
       "14             [{'S': 6, 'ψ': [(3, -9), (3, 3), (-6, 12), (-5, 11), (-21, 27), (16, -22), (15, -21), (-9, 15)]}]   \n",
       "15                       [{'S': 6, 'ψ': [(-19, 25), (3, -9), (3, 3), (24, -30), (15, -21), (-8, 14), (-9, 15)]}]   \n",
       "16                      [{'S': 6, 'ψ': [(-17, 23), (3, -9), (3, 3), (-14, 20), (24, -30), (15, -21), (-9, 15)]}]   \n",
       "17          [{'S': 7, 'ψ': [(24, -31), (10, -17), (-3, 10), (-16, 23), (-3, -4), (-17, 24), (-20, 27), (1, 6)]}]   \n",
       "\n",
       "   hidden_2  \n",
       "0       NaN  \n",
       "1       NaN  \n",
       "2       NaN  \n",
       "3       NaN  \n",
       "4       NaN  \n",
       "5       NaN  \n",
       "6       NaN  \n",
       "7       NaN  \n",
       "8       NaN  \n",
       "9       NaN  \n",
       "10      NaN  \n",
       "11      NaN  \n",
       "12      NaN  \n",
       "13      NaN  \n",
       "14      NaN  \n",
       "15      NaN  \n",
       "16      NaN  \n",
       "17      NaN  "
      ]
     },
     "execution_count": 32,
     "metadata": {},
     "output_type": "execute_result"
    }
   ],
   "source": [
    "#tmp=\n",
    "tmp[tmp['hidden_2'].apply(lambda x: False if isinstance(x,list) else True )].reset_index(drop=True)"
   ]
  },
  {
   "cell_type": "code",
   "execution_count": 19,
   "id": "04e06518-bbeb-4dc7-b9b0-a859fc2b33ad",
   "metadata": {},
   "outputs": [],
   "source": [
    "tmp['zmax']=tmp['ss'].apply(eval).str[-1].abs()\n",
    "tmp['n']=tmp['ss'].apply(eval).apply(len)"
   ]
  },
  {
   "cell_type": "code",
   "execution_count": 20,
   "id": "e1eeb5b9-b459-44b7-85e7-6b0c81ad7b4e",
   "metadata": {},
   "outputs": [],
   "source": [
    "tmp=tmp.sort_values(['n','zmax'])"
   ]
  },
  {
   "cell_type": "markdown",
   "id": "6cdb4d25-525f-4f69-a0ae-5c36b4a1cd33",
   "metadata": {},
   "source": [
    "There are plenty of new solutions with the new dataset build with the Multiprocessing algorithm in the previous Chapter"
   ]
  },
  {
   "cell_type": "code",
   "execution_count": 22,
   "id": "c72bd79a-9fea-4fa6-aca7-dd8df9b7d174",
   "metadata": {},
   "outputs": [
    {
     "data": {
      "text/html": [
       "<div>\n",
       "<style scoped>\n",
       "    .dataframe tbody tr th:only-of-type {\n",
       "        vertical-align: middle;\n",
       "    }\n",
       "\n",
       "    .dataframe tbody tr th {\n",
       "        vertical-align: top;\n",
       "    }\n",
       "\n",
       "    .dataframe thead th {\n",
       "        text-align: right;\n",
       "    }\n",
       "</style>\n",
       "<table border=\"1\" class=\"dataframe\">\n",
       "  <thead>\n",
       "    <tr style=\"text-align: right;\">\n",
       "      <th></th>\n",
       "      <th>ss</th>\n",
       "      <th>hidden_1</th>\n",
       "      <th>hidden_2</th>\n",
       "      <th>zmax</th>\n",
       "      <th>n</th>\n",
       "    </tr>\n",
       "  </thead>\n",
       "  <tbody>\n",
       "  </tbody>\n",
       "</table>\n",
       "</div>"
      ],
      "text/plain": [
       "Empty DataFrame\n",
       "Columns: [ss, hidden_1, hidden_2, zmax, n]\n",
       "Index: []"
      ]
     },
     "execution_count": 22,
     "metadata": {},
     "output_type": "execute_result"
    }
   ],
   "source": [
    "tmp"
   ]
  },
  {
   "cell_type": "code",
   "execution_count": 23,
   "id": "9dad3abc-fa3a-4398-b492-6ce7d422a350",
   "metadata": {},
   "outputs": [
    {
     "data": {
      "text/plain": [
       "(9466, 7)"
      ]
     },
     "execution_count": 23,
     "metadata": {},
     "output_type": "execute_result"
    }
   ],
   "source": [
    "hs.shape"
   ]
  },
  {
   "cell_type": "code",
   "execution_count": 21,
   "id": "e576626c",
   "metadata": {},
   "outputs": [
    {
     "ename": "KeyError",
     "evalue": "\"None of [Index(['ss', 'hidden_1'], dtype='object')] are in the [columns]\"",
     "output_type": "error",
     "traceback": [
      "\u001b[0;31m---------------------------------------------------------------------------\u001b[0m",
      "\u001b[0;31mKeyError\u001b[0m                                  Traceback (most recent call last)",
      "Cell \u001b[0;32mIn [21], line 1\u001b[0m\n\u001b[0;32m----> 1\u001b[0m tmp[tmp[\u001b[38;5;124m'\u001b[39m\u001b[38;5;124mhidden_2\u001b[39m\u001b[38;5;124m'\u001b[39m]\u001b[38;5;241m.\u001b[39mapply(\u001b[38;5;28;01mlambda\u001b[39;00m x: \u001b[38;5;28;01mFalse\u001b[39;00m \u001b[38;5;28;01mif\u001b[39;00m \u001b[38;5;28misinstance\u001b[39m(x,\u001b[38;5;28mlist\u001b[39m) \u001b[38;5;28;01melse\u001b[39;00m \u001b[38;5;28;01mTrue\u001b[39;00m )][:\u001b[38;5;241m5\u001b[39m][[\u001b[38;5;124m\"\u001b[39m\u001b[38;5;124mss\u001b[39m\u001b[38;5;124m\"\u001b[39m,\u001b[38;5;124m'\u001b[39m\u001b[38;5;124mhidden_1\u001b[39m\u001b[38;5;124m'\u001b[39m]]\n",
      "File \u001b[0;32m/usr/local/lib/python3.9/dist-packages/pandas/core/frame.py:3811\u001b[0m, in \u001b[0;36mDataFrame.__getitem__\u001b[0;34m(self, key)\u001b[0m\n\u001b[1;32m   3809\u001b[0m     \u001b[38;5;28;01mif\u001b[39;00m is_iterator(key):\n\u001b[1;32m   3810\u001b[0m         key \u001b[38;5;241m=\u001b[39m \u001b[38;5;28mlist\u001b[39m(key)\n\u001b[0;32m-> 3811\u001b[0m     indexer \u001b[38;5;241m=\u001b[39m \u001b[38;5;28;43mself\u001b[39;49m\u001b[38;5;241;43m.\u001b[39;49m\u001b[43mcolumns\u001b[49m\u001b[38;5;241;43m.\u001b[39;49m\u001b[43m_get_indexer_strict\u001b[49m\u001b[43m(\u001b[49m\u001b[43mkey\u001b[49m\u001b[43m,\u001b[49m\u001b[43m \u001b[49m\u001b[38;5;124;43m\"\u001b[39;49m\u001b[38;5;124;43mcolumns\u001b[39;49m\u001b[38;5;124;43m\"\u001b[39;49m\u001b[43m)\u001b[49m[\u001b[38;5;241m1\u001b[39m]\n\u001b[1;32m   3813\u001b[0m \u001b[38;5;66;03m# take() does not accept boolean indexers\u001b[39;00m\n\u001b[1;32m   3814\u001b[0m \u001b[38;5;28;01mif\u001b[39;00m \u001b[38;5;28mgetattr\u001b[39m(indexer, \u001b[38;5;124m\"\u001b[39m\u001b[38;5;124mdtype\u001b[39m\u001b[38;5;124m\"\u001b[39m, \u001b[38;5;28;01mNone\u001b[39;00m) \u001b[38;5;241m==\u001b[39m \u001b[38;5;28mbool\u001b[39m:\n",
      "File \u001b[0;32m/usr/local/lib/python3.9/dist-packages/pandas/core/indexes/base.py:6108\u001b[0m, in \u001b[0;36mIndex._get_indexer_strict\u001b[0;34m(self, key, axis_name)\u001b[0m\n\u001b[1;32m   6105\u001b[0m \u001b[38;5;28;01melse\u001b[39;00m:\n\u001b[1;32m   6106\u001b[0m     keyarr, indexer, new_indexer \u001b[38;5;241m=\u001b[39m \u001b[38;5;28mself\u001b[39m\u001b[38;5;241m.\u001b[39m_reindex_non_unique(keyarr)\n\u001b[0;32m-> 6108\u001b[0m \u001b[38;5;28;43mself\u001b[39;49m\u001b[38;5;241;43m.\u001b[39;49m\u001b[43m_raise_if_missing\u001b[49m\u001b[43m(\u001b[49m\u001b[43mkeyarr\u001b[49m\u001b[43m,\u001b[49m\u001b[43m \u001b[49m\u001b[43mindexer\u001b[49m\u001b[43m,\u001b[49m\u001b[43m \u001b[49m\u001b[43maxis_name\u001b[49m\u001b[43m)\u001b[49m\n\u001b[1;32m   6110\u001b[0m keyarr \u001b[38;5;241m=\u001b[39m \u001b[38;5;28mself\u001b[39m\u001b[38;5;241m.\u001b[39mtake(indexer)\n\u001b[1;32m   6111\u001b[0m \u001b[38;5;28;01mif\u001b[39;00m \u001b[38;5;28misinstance\u001b[39m(key, Index):\n\u001b[1;32m   6112\u001b[0m     \u001b[38;5;66;03m# GH 42790 - Preserve name from an Index\u001b[39;00m\n",
      "File \u001b[0;32m/usr/local/lib/python3.9/dist-packages/pandas/core/indexes/base.py:6168\u001b[0m, in \u001b[0;36mIndex._raise_if_missing\u001b[0;34m(self, key, indexer, axis_name)\u001b[0m\n\u001b[1;32m   6166\u001b[0m     \u001b[38;5;28;01mif\u001b[39;00m use_interval_msg:\n\u001b[1;32m   6167\u001b[0m         key \u001b[38;5;241m=\u001b[39m \u001b[38;5;28mlist\u001b[39m(key)\n\u001b[0;32m-> 6168\u001b[0m     \u001b[38;5;28;01mraise\u001b[39;00m \u001b[38;5;167;01mKeyError\u001b[39;00m(\u001b[38;5;124mf\u001b[39m\u001b[38;5;124m\"\u001b[39m\u001b[38;5;124mNone of [\u001b[39m\u001b[38;5;132;01m{\u001b[39;00mkey\u001b[38;5;132;01m}\u001b[39;00m\u001b[38;5;124m] are in the [\u001b[39m\u001b[38;5;132;01m{\u001b[39;00maxis_name\u001b[38;5;132;01m}\u001b[39;00m\u001b[38;5;124m]\u001b[39m\u001b[38;5;124m\"\u001b[39m)\n\u001b[1;32m   6170\u001b[0m not_found \u001b[38;5;241m=\u001b[39m \u001b[38;5;28mlist\u001b[39m(ensure_index(key)[missing_mask\u001b[38;5;241m.\u001b[39mnonzero()[\u001b[38;5;241m0\u001b[39m]]\u001b[38;5;241m.\u001b[39munique())\n\u001b[1;32m   6171\u001b[0m \u001b[38;5;28;01mraise\u001b[39;00m \u001b[38;5;167;01mKeyError\u001b[39;00m(\u001b[38;5;124mf\u001b[39m\u001b[38;5;124m\"\u001b[39m\u001b[38;5;132;01m{\u001b[39;00mnot_found\u001b[38;5;132;01m}\u001b[39;00m\u001b[38;5;124m not in index\u001b[39m\u001b[38;5;124m\"\u001b[39m)\n",
      "\u001b[0;31mKeyError\u001b[0m: \"None of [Index(['ss', 'hidden_1'], dtype='object')] are in the [columns]\""
     ]
    }
   ],
   "source": [
    "tmp[tmp['hidden_2'].apply(lambda x: False if isinstance(x,list) else True )][:5][[\"ss\",'hidden_1']]"
   ]
  },
  {
   "cell_type": "code",
   "execution_count": 99,
   "id": "ed138155-f4a7-4905-a029-0fc74adac97d",
   "metadata": {},
   "outputs": [],
   "source": [
    "import itertools\n",
    "import math as mh\n",
    "\n",
    "def remove_double_intersection_pairs(msvp,l):\n",
    "    '''\n",
    "    Example:\n",
    "        msvp = [(3,4),(6,-13),(1,6),(-7,14),(1,-8)]\n",
    "        l = [1, 3, 4, 6, -7, -8, -13, 14]\n",
    "        # Remove (1,6) because is fully contained \n",
    "        # in the intersections with (_1_,-8) and (_6_,-13)\n",
    "        returns: \n",
    "        [(3,4),(6,-13),(-7,14),(1,-8)]    \n",
    "    '''\n",
    "    for p in msvp.copy():\n",
    "        tmp=msvp.copy()\n",
    "        tmp.remove(p)\n",
    "        fltmp=set([x for sublist in tmp for x in sublist]) \n",
    "        if l.count(p[0])==1 and l.count(p[1])==1 and set(p).issubset(fltmp):\n",
    "            msvp=tmp.copy()\n",
    "    return msvp\n",
    "assert len(remove_double_intersection_pairs([(-10, 11), (-12, 13), (11, -12)],\n",
    "                                             [-10, 11, -12, 13]))==2\n",
    "assert len(remove_double_intersection_pairs([(4,4),(4,-12)],[4,-12]))==1\n",
    "\n",
    "def get_real_massless(l,msvp):\n",
    "    '''\n",
    "    Example:\n",
    "        l = [1, 3, 4, 6, -7, -8, -13, 14]\n",
    "        msvp = [(3,4),(6,-13),(-7,14),(1,-8)]\n",
    "        [1, 3, 4, 6, -7, -8, -13, 14] → [(3,4),(6,-13),(-7,14),(1,-8)]\n",
    "        [1, 6, -7, -8, -13, 14] → [(6,-13),(-7,14),(1,-8)]\n",
    "        [1, -7, -8, 14] → [(-7,14),(1,-8)]\n",
    "        [1, -8] → [(1,-8)]\n",
    "        [] → []\n",
    "        \n",
    "        returns:\n",
    "        [] # lp    \n",
    "    '''\n",
    "    lp=l.copy()\n",
    "    for x,y in msvp:\n",
    "        #print(lp,msvp,x,y)\n",
    "        if lp and x in lp and y in lp:\n",
    "            minxy=min(lp.count(x),lp.count(y))\n",
    "            if x!=y:\n",
    "                [(lp.remove(x),lp.remove(y)) for ii in range(minxy)]\n",
    "            else:\n",
    "                [ lp.remove(x) for ii in range(lp.count(x)) ] # abs(2*x)==s\n",
    "        else: # not lp\n",
    "            break\n",
    "    return lp\n",
    "\n",
    "def get_hidden_fermions(l,s,ps=[]):\n",
    "    '''\n",
    "    For a given scalar Abelian charge `s`, build the \n",
    "    fermion non-zero determinant mass matrix from their\n",
    "    Abelian charges in `l`, and returns the input `s` and \n",
    "    the non-zero mass entries.\n",
    "    Returns an empty dictionary otherwise.\n",
    "    \n",
    "    The list of combinations on pairs of `l` can be given in `ps`,\n",
    "    otherwise it is internally calculated.\n",
    "    \n",
    "    Example:\n",
    "        l = [1, 3, 4, 6, -7, -8, -13, 14]\n",
    "        s = 7\n",
    "        ps = [(3,4),(6,-13),(1,6),(-7,14),(1,-8)]\n",
    "        # If necessary temove [1,6] because have is fully contained \n",
    "        # in the intersections with others\n",
    "        [1, 3, 4, 6, -7, -8, -13, 14] → [(3,4),(6,-13),(-7,14),(1,-8)]\n",
    "        [1, 6, -7, -8, -13, 14] → [(6,-13),(-7,14),(1,-8)]\n",
    "        [1, -7, -8, 14] → [(-7,14),(1,-8)]\n",
    "        [1, -8] → [(1,-8)]\n",
    "        [] → []\n",
    "        \n",
    "        returns:\n",
    "        {'s':7, '\\psi':[(3,4),(6,-13),(1,6),(-7,14),(1,-8)]}\n",
    "\n",
    "    '''\n",
    "    sltn={}\n",
    "    if not ps:\n",
    "        ps = list(set(itertools.combinations_with_replacement(l,2)))\n",
    "    msv = [p for p in ps if abs(sum(p))==s]\n",
    "    lmsv=[x for sublist in msv for x in sublist]\n",
    "    massives=set(lmsv)        \n",
    "    massless=set(l).difference(massives)\n",
    "    if not massless:\n",
    "        sltn['S']=s\n",
    "        sltn['ψ']=msv\n",
    "    return sltn\n",
    "assert get_hidden_fermions([2, 4, 4, 5, 5, 7],9).get('S')==9    \n",
    "\n",
    "\n",
    "def get_hidden_sector(l):\n",
    "    '''\n",
    "    Extract massive pairs without massles fermions from l\n",
    "        [1, 3, 4, 6, -7, -8, -13, 14] → [[3,4],[6,-13],[1,6],[-7,14],[1,-8]]\n",
    "        #Remove [1,6] because is already in the pairs list\n",
    "        [1, 3, 4, 6, -7, -8, -13, 14] → [[3,4],[6,-13],[-7,14],[1,-8]]\n",
    "        [1, 6, -7, -8, -13, 14] → [[6,-13],[-7,14],[1,-8]]\n",
    "        [1, -7, -8, 14] → [[-7,14],[1,-8]]\n",
    "        [1, -8] → [[1,-8]]\n",
    "        [] → []    \n",
    "    '''\n",
    "    sltns=[]\n",
    "    ps = list(set(itertools.combinations_with_replacement(l,2)))\n",
    "    Ss = set(abs(sum(x)) for x in ps)\n",
    "    for s in Ss:\n",
    "        sltn=get_hidden_fermions(l,s,ps)\n",
    "        if sltn:\n",
    "            sltns.append(sltn)\n",
    "    return sltns\n",
    "\n"
   ]
  },
  {
   "cell_type": "code",
   "execution_count": 100,
   "id": "cb2efcf5-5d4e-4b81-bd7e-96bf1365a942",
   "metadata": {},
   "outputs": [
    {
     "name": "stdout",
     "output_type": "stream",
     "text": [
      "CPU times: user 1min 30s, sys: 47.4 ms, total: 1min 31s\n",
      "Wall time: 1min 31s\n"
     ]
    }
   ],
   "source": [
    "%%time\n",
    "df['hidden']=df['solution'].apply(get_hidden_sector)"
   ]
  },
  {
   "cell_type": "code",
   "execution_count": 101,
   "id": "d55431f9-26b5-4b70-9294-4bbea36983c6",
   "metadata": {},
   "outputs": [],
   "source": [
    "hs=df[df['hidden'].apply(len)>0].reset_index(drop=True)#.iloc[0].to_dict()"
   ]
  },
  {
   "cell_type": "code",
   "execution_count": 102,
   "id": "9b1f5db3-571b-4a74-ad73-fc9dffbf1abc",
   "metadata": {},
   "outputs": [
    {
     "data": {
      "text/plain": [
       "(12789, 6)"
      ]
     },
     "execution_count": 102,
     "metadata": {},
     "output_type": "execute_result"
    }
   ],
   "source": [
    "hs.shape #9466 solutions with hidden sector"
   ]
  },
  {
   "cell_type": "code",
   "execution_count": 109,
   "id": "0af3ca9a-be9c-4785-9057-1735f3cfd3e4",
   "metadata": {},
   "outputs": [
    {
     "data": {
      "text/plain": [
       "0         7\n",
       "1        11\n",
       "2        11\n",
       "3        12\n",
       "4        15\n",
       "         ..\n",
       "12784    32\n",
       "12785    32\n",
       "12786    32\n",
       "12787    32\n",
       "12788    32\n",
       "Name: solution, Length: 12789, dtype: int64"
      ]
     },
     "execution_count": 109,
     "metadata": {},
     "output_type": "execute_result"
    }
   ],
   "source": [
    "hs.solution.str[-1].abs()"
   ]
  },
  {
   "cell_type": "code",
   "execution_count": 117,
   "id": "c9086589-9b5e-4222-a92e-d88b7b1d0026",
   "metadata": {},
   "outputs": [],
   "source": [
    "hs8=hs[ (hs.n==8) & (hs.solution.str[-1].abs()<20)][['solution','hidden']]"
   ]
  },
  {
   "cell_type": "code",
   "execution_count": 119,
   "id": "daf8dd2c-ccbd-4408-b413-5549a7ac1d12",
   "metadata": {},
   "outputs": [],
   "source": [
    "hs8['hidden']=hs8['hidden'].str[0]"
   ]
  },
  {
   "cell_type": "code",
   "execution_count": 122,
   "id": "1aa4736d-ec76-4df9-ac6d-77c96915589e",
   "metadata": {},
   "outputs": [],
   "source": [
    "hs8=hs8.rename({'solution':'lista','hidden':'pares'},axis='columns')"
   ]
  },
  {
   "cell_type": "code",
   "execution_count": null,
   "id": "80004adc-92a7-4a5a-bc69-c6f45b27aefb",
   "metadata": {},
   "outputs": [],
   "source": []
  },
  {
   "cell_type": "code",
   "execution_count": 127,
   "id": "8d9ea07b-d7cf-4a54-9618-5bf315a31272",
   "metadata": {},
   "outputs": [
    {
     "data": {
      "text/html": [
       "<div>\n",
       "<style scoped>\n",
       "    .dataframe tbody tr th:only-of-type {\n",
       "        vertical-align: middle;\n",
       "    }\n",
       "\n",
       "    .dataframe tbody tr th {\n",
       "        vertical-align: top;\n",
       "    }\n",
       "\n",
       "    .dataframe thead th {\n",
       "        text-align: right;\n",
       "    }\n",
       "</style>\n",
       "<table border=\"1\" class=\"dataframe\">\n",
       "  <thead>\n",
       "    <tr style=\"text-align: right;\">\n",
       "      <th></th>\n",
       "      <th>lista</th>\n",
       "      <th>pares</th>\n",
       "    </tr>\n",
       "  </thead>\n",
       "  <tbody>\n",
       "    <tr>\n",
       "      <th>11</th>\n",
       "      <td>[1, 1, 2, 3, -4, -4, -5, 6]</td>\n",
       "      <td>{'S': 2, 'ψ': [(3, -5), (2, -4), (-4, 6), (1, 1)]}</td>\n",
       "    </tr>\n",
       "    <tr>\n",
       "      <th>12</th>\n",
       "      <td>[1, 2, 2, 2, -3, -5, -6, 7]</td>\n",
       "      <td>{'S': 4, 'ψ': [(2, 2), (-3, 7), (1, -5), (2, -6)]}</td>\n",
       "    </tr>\n",
       "    <tr>\n",
       "      <th>13</th>\n",
       "      <td>[1, -2, -2, 4, 5, -7, -7, 8]</td>\n",
       "      <td>{'S': 9, 'ψ': [(4, 5), (1, 8), (-2, -7)]}</td>\n",
       "    </tr>\n",
       "    <tr>\n",
       "      <th>14</th>\n",
       "      <td>[1, 2, 2, 4, -5, -5, -7, 8]</td>\n",
       "      <td>{'S': 3, 'ψ': [(4, -7), (-5, 8), (2, -5), (1, 2)]}</td>\n",
       "    </tr>\n",
       "    <tr>\n",
       "      <th>15</th>\n",
       "      <td>[2, -3, -4, 5, -6, 7, 7, -8]</td>\n",
       "      <td>{'S': 1, 'ψ': [(-6, 7), (7, -8), (5, -6), (2, -3), (-4, 5)]}</td>\n",
       "    </tr>\n",
       "    <tr>\n",
       "      <th>...</th>\n",
       "      <td>...</td>\n",
       "      <td>...</td>\n",
       "    </tr>\n",
       "    <tr>\n",
       "      <th>251</th>\n",
       "      <td>[2, -4, -5, 10, 11, -16, -17, 19]</td>\n",
       "      <td>{'S': 21, 'ψ': [(-4, -17), (-5, -16), (10, 11), (2, 19)]}</td>\n",
       "    </tr>\n",
       "    <tr>\n",
       "      <th>252</th>\n",
       "      <td>[5, -7, -7, 11, 13, -17, -17, 19]</td>\n",
       "      <td>{'S': 24, 'ψ': [(5, 19), (-7, -17), (11, 13)]}</td>\n",
       "    </tr>\n",
       "    <tr>\n",
       "      <th>253</th>\n",
       "      <td>[4, -5, -7, 8, -17, 18, 18, -19]</td>\n",
       "      <td>{'S': 1, 'ψ': [(-7, 8), (4, -5), (-17, 18), (18, -19)]}</td>\n",
       "    </tr>\n",
       "    <tr>\n",
       "      <th>254</th>\n",
       "      <td>[2, 2, 5, -7, 10, -14, -17, 19]</td>\n",
       "      <td>{'S': 12, 'ψ': [(2, -14), (2, 10), (-7, 19), (5, -17)]}</td>\n",
       "    </tr>\n",
       "    <tr>\n",
       "      <th>255</th>\n",
       "      <td>[2, -3, -3, 6, 10, -13, -18, 19]</td>\n",
       "      <td>{'S': 16, 'ψ': [(-3, -13), (6, 10), (2, -18), (-3, 19)]}</td>\n",
       "    </tr>\n",
       "  </tbody>\n",
       "</table>\n",
       "<p>245 rows × 2 columns</p>\n",
       "</div>"
      ],
      "text/plain": [
       "                                 lista  \\\n",
       "11         [1, 1, 2, 3, -4, -4, -5, 6]   \n",
       "12         [1, 2, 2, 2, -3, -5, -6, 7]   \n",
       "13        [1, -2, -2, 4, 5, -7, -7, 8]   \n",
       "14         [1, 2, 2, 4, -5, -5, -7, 8]   \n",
       "15        [2, -3, -4, 5, -6, 7, 7, -8]   \n",
       "..                                 ...   \n",
       "251  [2, -4, -5, 10, 11, -16, -17, 19]   \n",
       "252  [5, -7, -7, 11, 13, -17, -17, 19]   \n",
       "253   [4, -5, -7, 8, -17, 18, 18, -19]   \n",
       "254    [2, 2, 5, -7, 10, -14, -17, 19]   \n",
       "255   [2, -3, -3, 6, 10, -13, -18, 19]   \n",
       "\n",
       "                                                            pares  \n",
       "11             {'S': 2, 'ψ': [(3, -5), (2, -4), (-4, 6), (1, 1)]}  \n",
       "12             {'S': 4, 'ψ': [(2, 2), (-3, 7), (1, -5), (2, -6)]}  \n",
       "13                      {'S': 9, 'ψ': [(4, 5), (1, 8), (-2, -7)]}  \n",
       "14             {'S': 3, 'ψ': [(4, -7), (-5, 8), (2, -5), (1, 2)]}  \n",
       "15   {'S': 1, 'ψ': [(-6, 7), (7, -8), (5, -6), (2, -3), (-4, 5)]}  \n",
       "..                                                            ...  \n",
       "251     {'S': 21, 'ψ': [(-4, -17), (-5, -16), (10, 11), (2, 19)]}  \n",
       "252                {'S': 24, 'ψ': [(5, 19), (-7, -17), (11, 13)]}  \n",
       "253       {'S': 1, 'ψ': [(-7, 8), (4, -5), (-17, 18), (18, -19)]}  \n",
       "254       {'S': 12, 'ψ': [(2, -14), (2, 10), (-7, 19), (5, -17)]}  \n",
       "255      {'S': 16, 'ψ': [(-3, -13), (6, 10), (2, -18), (-3, 19)]}  \n",
       "\n",
       "[245 rows x 2 columns]"
      ]
     },
     "execution_count": 127,
     "metadata": {},
     "output_type": "execute_result"
    }
   ],
   "source": [
    "hs8"
   ]
  },
  {
   "cell_type": "code",
   "execution_count": 171,
   "id": "f702ff0c-325c-4d34-8cfa-213e2ce7cdb9",
   "metadata": {},
   "outputs": [],
   "source": [
    "hs8['pares']=hs8.pares.apply(lambda d: {'S':d.get('S'),'ψ':d.get('ψ')+[(y,x) for x,y in d.get('ψ') if x!=y]})"
   ]
  },
  {
   "cell_type": "code",
   "execution_count": 131,
   "id": "e5fdb534-7d04-4931-8fae-c1bf3a448507",
   "metadata": {},
   "outputs": [],
   "source": [
    "hs8.to_json('lista_pares.json',orient='records')"
   ]
  },
  {
   "cell_type": "code",
   "execution_count": 172,
   "id": "abb0b7cf-3099-462d-8546-fb1682d1b9c7",
   "metadata": {},
   "outputs": [],
   "source": [
    "df=pd.read_json('lista_pares.json')"
   ]
  },
  {
   "cell_type": "code",
   "execution_count": 173,
   "id": "b53a048e-6810-4f56-a5c0-e2d33084970c",
   "metadata": {},
   "outputs": [
    {
     "data": {
      "text/plain": [
       "lista                                                      [1, 2, 2, 2, -3, -5, -6, 7]\n",
       "pares    {'S': 4, 'ψ': [[2, 2], [-3, 7], [1, -5], [2, -6], [7, -3], [-5, 1], [-6, 2]]}\n",
       "Name: 1, dtype: object"
      ]
     },
     "execution_count": 173,
     "metadata": {},
     "output_type": "execute_result"
    }
   ],
   "source": [
    "df.iloc[1]"
   ]
  },
  {
   "cell_type": "code",
   "execution_count": 137,
   "id": "46a0b2b2-60ca-456d-ae21-77d134e6afc9",
   "metadata": {},
   "outputs": [],
   "source": [
    "import numpy as np"
   ]
  },
  {
   "cell_type": "markdown",
   "id": "22bf5de0-05e4-4e3d-bf76-3dd876e4c3e4",
   "metadata": {},
   "source": [
    "A) Cargue los datos disponibles en:\n",
    "\n",
    "[https://github.com/ComputationalMethods/Evaluacion_2022-1/blob/main/data/lista_pares.json](https://raw.githubusercontent.com/ComputationalMethods/Evaluacion_2022-1/main/data/lista_pares.json)\n",
    "\n",
    "como un DataFrame de pandas. Este contendrá dos columnas. La columna `lista`, con una lista de 8 enteros (algunos de ellos repetidos) y una columna `pares` correspondiente a un diccionario\n",
    "con dos items: un entero rotulado con `'S'` y una lista de pares de enteros routulada con `'ψ'`. Note que el resultado de la suma en valor absoluto de los dos enteros en cada uno de los pares reproduce el valor del correspondiente `'S'` \n",
    "\n",
    "Seleccione la fila del DataFrame con el índice correspondiente a los dos últimos dígitos de su cédula y desarrolle los siguientes puntos con la correspondiente  `lista` y `pares`:\n",
    "1. Construya una matrix $8\\times 8$ _simétrica_ donde cada fila y la correspondiente columna correspondan a un entero de la lista (incluyendo los repetidos); de manera que en los cruces de filas y columnas definidos por los pares de enteros, se genere una entrada aleatoria mayor que cero y menor o igual que 1, con las demas entradas iguales a cero.\n",
    "1. Calcule el determinante y establezca explícitamente si es diferente cero (tenga en cuenta la precisión numérica). Recuerde que si el determinante es cero, se espera que al menos uno de los autovalores sea cero\n",
    "2. Organize los autovalores y autovectores de menor a mayor en valor absoluto y compruebe que las matriz de autovectores organizada da lugar a los autovalores en el orden correcto. \n",
    "3. Establezca explícitamente _cuantos_ autovalores son degenerados en valor absoluto.\n",
    "\n",
    "```\n",
    "   1 2 2 2 -3 -5 -6 7\n",
    "1  0 0 0 0  0  x  0 0\n",
    "2  0 x x x  0  0  x 0\n",
    "2  0 x x x  0  0  x 0\n",
    "2  0 x x x  0  0  x 0\n",
    "-3 0 0 0 0  0  0  0 x\n",
    "-5 x 0 0 0  0  0  0 0\n",
    "-6 0 x x x  0  0  0 0\n",
    "7  0 0 0 0  x  0  0 0\n",
    "```"
   ]
  },
  {
   "cell_type": "markdown",
   "id": "605b1847-5199-47d4-b09e-c29b3706d1e7",
   "metadata": {},
   "source": [
    "https://stackoverflow.com/questions/65862611/integration-of-sin-x-dx-problem-in-python-programming-implementation"
   ]
  },
  {
   "cell_type": "code",
   "execution_count": 175,
   "id": "a78eaad2-9588-4897-bf21-dc1d24c5cd9b",
   "metadata": {},
   "outputs": [],
   "source": [
    "from scipy import integrate"
   ]
  },
  {
   "cell_type": "markdown",
   "id": "f8fe3e1b-a209-4de6-a96f-bd0563accc83",
   "metadata": {},
   "source": [
    "B)\n",
    "1. Usando su número de cédula cómo semilla, obtenga un numero entero aleatorio, $n$, entre 2 y 20.\n",
    "2. Haga una estimación de la siguiente integral hasta dos cifras significativas, usando el método `quad` del módulo `integrate` de Scipy\n",
    "$$\n",
    "\\int_0^\\infty \\sin(x^n)\\operatorname{d}x\n",
    "$$\n",
    "Sugerencia. Compare con el valor obtenido desde https://www.wolframalpha.com/ o [sympy](https://stackoverflow.com/questions/65862611/integration-of-sin-x-dx-problem-in-python-programming-implementation)"
   ]
  },
  {
   "cell_type": "code",
   "execution_count": 210,
   "id": "24048837-e120-43c2-abba-a761a16559e9",
   "metadata": {},
   "outputs": [
    {
     "data": {
      "text/plain": [
       "(0.07637757819316301, 1.3763485142485971e-08)"
      ]
     },
     "execution_count": 210,
     "metadata": {},
     "output_type": "execute_result"
    }
   ],
   "source": [
    "integrate.quad(lambda x: np.sin(x**20),0,1.5,limit=5000)"
   ]
  },
  {
   "cell_type": "code",
   "execution_count": 166,
   "id": "a7f7678f-01dc-48bb-b23b-21cf9942ccb9",
   "metadata": {},
   "outputs": [
    {
     "name": "stdout",
     "output_type": "stream",
     "text": [
      "[[0.    0.    0.    0.    0.    0.5   0.    0.   ]\n",
      " [0.    0.91  0.485 0.385 0.    0.    0.345 0.   ]\n",
      " [0.    0.485 0.58  0.83  0.    0.    0.79  0.   ]\n",
      " [0.    0.385 0.83  0.73  0.    0.    0.375 0.   ]\n",
      " [0.    0.    0.    0.    0.    0.    0.    0.405]\n",
      " [0.5   0.    0.    0.    0.    0.    0.    0.   ]\n",
      " [0.    0.345 0.79  0.375 0.    0.    0.    0.   ]\n",
      " [0.    0.    0.    0.    0.405 0.    0.    0.   ]]\n"
     ]
    }
   ],
   "source": [
    "A=np.random.random((8,8)).round(2)\n",
    "A=(A+A.transpose())/2\n",
    "A[0,0:5]=0;A[0,6:]=0;\n",
    "A[1:4,0]=0; A[1:4,4:6]=0;A[1:4,7]=0\n",
    "#A[1:4,0]=0; A[1:4,2:6]=0;A[1:4,7]=0\n",
    "#A[1:4,0]=0; A[1:4,2:6]=0;A[1:4,7]=0\n",
    "A[4,0:7]=0\n",
    "A[5,1:8]=0;\n",
    "A[6,0]=0;A[6,4:]=0;\n",
    "A[7,0:4]=0;A[7,5:]=0;\n",
    "\n",
    "print(A)"
   ]
  },
  {
   "cell_type": "code",
   "execution_count": 167,
   "id": "76843a82-24c2-4fd0-bccb-7da56dda9748",
   "metadata": {},
   "outputs": [
    {
     "data": {
      "text/plain": [
       "-0.0009152155976835935"
      ]
     },
     "execution_count": 167,
     "metadata": {},
     "output_type": "execute_result"
    }
   ],
   "source": [
    "np.linalg.det(A)"
   ]
  },
  {
   "cell_type": "markdown",
   "id": "541ed501-3d7c-4eb0-85f7-8a232e28db6b",
   "metadata": {},
   "source": []
  },
  {
   "cell_type": "code",
   "execution_count": 168,
   "id": "ac9ccb49-43b7-43c2-a6a8-55daa65f5399",
   "metadata": {},
   "outputs": [
    {
     "data": {
      "text/plain": [
       "(array([ 0.5       , -0.5       ,  2.22941876, -0.58499967,  0.03145016,\n",
       "         0.54413075, -0.405     ,  0.405     ]),\n",
       " array([[ 7.07106781e-01,  7.07106781e-01,  0.00000000e+00,\n",
       "          0.00000000e+00,  0.00000000e+00,  0.00000000e+00,\n",
       "          0.00000000e+00,  0.00000000e+00],\n",
       "        [ 0.00000000e+00,  0.00000000e+00,  4.71573529e-01,\n",
       "          1.52191361e-02, -1.29864533e-01, -8.72079118e-01,\n",
       "          2.32562043e-17, -1.25467345e-16],\n",
       "        [ 0.00000000e+00,  0.00000000e+00,  5.88982890e-01,\n",
       "          6.37530946e-01,  4.18584679e-01,  2.67283211e-01,\n",
       "         -7.05326718e-17,  5.17793473e-18],\n",
       "        [ 0.00000000e+00,  0.00000000e+00,  5.40291135e-01,\n",
       "         -1.94294611e-01, -7.16866962e-01,  3.95520988e-01,\n",
       "         -2.08980837e-17,  8.69244289e-17],\n",
       "        [ 0.00000000e+00,  0.00000000e+00, -3.61278584e-18,\n",
       "          3.64124750e-17,  1.77205010e-17,  2.06816699e-16,\n",
       "         -7.07106781e-01, -7.07106781e-01],\n",
       "        [ 7.07106781e-01, -7.07106781e-01,  0.00000000e+00,\n",
       "          0.00000000e+00,  0.00000000e+00,  0.00000000e+00,\n",
       "          0.00000000e+00,  0.00000000e+00],\n",
       "        [ 0.00000000e+00,  0.00000000e+00,  3.72562814e-01,\n",
       "         -7.45367208e-01,  5.42239642e-01,  1.07707221e-01,\n",
       "          9.56213064e-17, -1.54452559e-17],\n",
       "        [ 0.00000000e+00,  0.00000000e+00, -8.04028896e-19,\n",
       "         -2.79765005e-17,  7.06100431e-18,  1.68187452e-16,\n",
       "          7.07106781e-01, -7.07106781e-01]]))"
      ]
     },
     "execution_count": 168,
     "metadata": {},
     "output_type": "execute_result"
    }
   ],
   "source": [
    "np.linalg.eig(A)"
   ]
  },
  {
   "cell_type": "code",
   "execution_count": 91,
   "id": "97b92407-f332-4c49-a1da-62d10baa3afc",
   "metadata": {},
   "outputs": [
    {
     "name": "stdout",
     "output_type": "stream",
     "text": [
      "CPU times: user 1min 52s, sys: 31.4 ms, total: 1min 52s\n",
      "Wall time: 1min 52s\n"
     ]
    }
   ],
   "source": [
    "%%time\n",
    "df['hidden']=df['solution'].apply(get_hidden_sector)"
   ]
  },
  {
   "cell_type": "code",
   "execution_count": 40,
   "id": "65d02e1a-2e3f-4d88-b343-6cebf736beb0",
   "metadata": {},
   "outputs": [
    {
     "data": {
      "text/html": [
       "<div>\n",
       "<style scoped>\n",
       "    .dataframe tbody tr th:only-of-type {\n",
       "        vertical-align: middle;\n",
       "    }\n",
       "\n",
       "    .dataframe tbody tr th {\n",
       "        vertical-align: top;\n",
       "    }\n",
       "\n",
       "    .dataframe thead th {\n",
       "        text-align: right;\n",
       "    }\n",
       "</style>\n",
       "<table border=\"1\" class=\"dataframe\">\n",
       "  <thead>\n",
       "    <tr style=\"text-align: right;\">\n",
       "      <th></th>\n",
       "      <th>l</th>\n",
       "      <th>k</th>\n",
       "      <th>solution</th>\n",
       "      <th>gcd</th>\n",
       "      <th>n</th>\n",
       "      <th>zmax</th>\n",
       "    </tr>\n",
       "  </thead>\n",
       "  <tbody>\n",
       "    <tr>\n",
       "      <th>0</th>\n",
       "      <td>[-2]</td>\n",
       "      <td>[2, 3]</td>\n",
       "      <td>[1, 5, -7, -8, 9]</td>\n",
       "      <td>4</td>\n",
       "      <td>5</td>\n",
       "      <td>9</td>\n",
       "    </tr>\n",
       "    <tr>\n",
       "      <th>1</th>\n",
       "      <td>[3]</td>\n",
       "      <td>[-3, -2]</td>\n",
       "      <td>[2, 4, -7, -9, 10]</td>\n",
       "      <td>18</td>\n",
       "      <td>5</td>\n",
       "      <td>10</td>\n",
       "    </tr>\n",
       "    <tr>\n",
       "      <th>2</th>\n",
       "      <td>[-2]</td>\n",
       "      <td>[3, 1]</td>\n",
       "      <td>[1, 14, -17, -18, 20]</td>\n",
       "      <td>6</td>\n",
       "      <td>5</td>\n",
       "      <td>20</td>\n",
       "    </tr>\n",
       "    <tr>\n",
       "      <th>3</th>\n",
       "      <td>[-4, -2]</td>\n",
       "      <td>[5, 2]</td>\n",
       "      <td>[1, 1, 1, -4, -4, 5]</td>\n",
       "      <td>40</td>\n",
       "      <td>6</td>\n",
       "      <td>5</td>\n",
       "    </tr>\n",
       "    <tr>\n",
       "      <th>4</th>\n",
       "      <td>[2, 3]</td>\n",
       "      <td>[-1, -3]</td>\n",
       "      <td>[1, -2, -3, 5, 5, -6]</td>\n",
       "      <td>1</td>\n",
       "      <td>6</td>\n",
       "      <td>6</td>\n",
       "    </tr>\n",
       "    <tr>\n",
       "      <th>...</th>\n",
       "      <td>...</td>\n",
       "      <td>...</td>\n",
       "      <td>...</td>\n",
       "      <td>...</td>\n",
       "      <td>...</td>\n",
       "      <td>...</td>\n",
       "    </tr>\n",
       "    <tr>\n",
       "      <th>96148</th>\n",
       "      <td>[-7, 2, 1, 0, 6]</td>\n",
       "      <td>[-20, -15, -16, -17, 17]</td>\n",
       "      <td>[1, -7, -8, -11, 13, 17, 17, 17, 17, -18, -18,...</td>\n",
       "      <td>120</td>\n",
       "      <td>12</td>\n",
       "      <td>20</td>\n",
       "    </tr>\n",
       "    <tr>\n",
       "      <th>96149</th>\n",
       "      <td>[-14, 8, -18, -12, -8]</td>\n",
       "      <td>[-20, 6, 2, 3, 7]</td>\n",
       "      <td>[2, 2, 9, 11, 11, -12, -13, -13, -13, 14, -18,...</td>\n",
       "      <td>6188</td>\n",
       "      <td>12</td>\n",
       "      <td>20</td>\n",
       "    </tr>\n",
       "    <tr>\n",
       "      <th>96150</th>\n",
       "      <td>[-12, 0, 6, -18, 6]</td>\n",
       "      <td>[19, -1, -20, -10, 16]</td>\n",
       "      <td>[1, -3, -9, -12, 13, 13, 13, -17, -17, 19, 19,...</td>\n",
       "      <td>5760</td>\n",
       "      <td>12</td>\n",
       "      <td>20</td>\n",
       "    </tr>\n",
       "    <tr>\n",
       "      <th>96151</th>\n",
       "      <td>[-20, -3, 10, -13, -16]</td>\n",
       "      <td>[19, 0, -5, -6, -3]</td>\n",
       "      <td>[1, 3, 4, 4, -5, -8, -16, 19, 19, 19, -20, -20]</td>\n",
       "      <td>1350</td>\n",
       "      <td>12</td>\n",
       "      <td>20</td>\n",
       "    </tr>\n",
       "    <tr>\n",
       "      <th>96152</th>\n",
       "      <td>[20, 6, 20, 6, 10]</td>\n",
       "      <td>[-19, 10, -18, -11, 14]</td>\n",
       "      <td>[1, -8, -8, -9, 13, 15, 15, -17, 19, 19, -20, ...</td>\n",
       "      <td>10892</td>\n",
       "      <td>12</td>\n",
       "      <td>20</td>\n",
       "    </tr>\n",
       "  </tbody>\n",
       "</table>\n",
       "<p>96153 rows × 6 columns</p>\n",
       "</div>"
      ],
      "text/plain": [
       "                             l                         k  \\\n",
       "0                         [-2]                    [2, 3]   \n",
       "1                          [3]                  [-3, -2]   \n",
       "2                         [-2]                    [3, 1]   \n",
       "3                     [-4, -2]                    [5, 2]   \n",
       "4                       [2, 3]                  [-1, -3]   \n",
       "...                        ...                       ...   \n",
       "96148         [-7, 2, 1, 0, 6]  [-20, -15, -16, -17, 17]   \n",
       "96149   [-14, 8, -18, -12, -8]         [-20, 6, 2, 3, 7]   \n",
       "96150      [-12, 0, 6, -18, 6]    [19, -1, -20, -10, 16]   \n",
       "96151  [-20, -3, 10, -13, -16]       [19, 0, -5, -6, -3]   \n",
       "96152       [20, 6, 20, 6, 10]   [-19, 10, -18, -11, 14]   \n",
       "\n",
       "                                                solution    gcd   n  zmax  \n",
       "0                                      [1, 5, -7, -8, 9]      4   5     9  \n",
       "1                                     [2, 4, -7, -9, 10]     18   5    10  \n",
       "2                                  [1, 14, -17, -18, 20]      6   5    20  \n",
       "3                                   [1, 1, 1, -4, -4, 5]     40   6     5  \n",
       "4                                  [1, -2, -3, 5, 5, -6]      1   6     6  \n",
       "...                                                  ...    ...  ..   ...  \n",
       "96148  [1, -7, -8, -11, 13, 17, 17, 17, 17, -18, -18,...    120  12    20  \n",
       "96149  [2, 2, 9, 11, 11, -12, -13, -13, -13, 14, -18,...   6188  12    20  \n",
       "96150  [1, -3, -9, -12, 13, 13, 13, -17, -17, 19, 19,...   5760  12    20  \n",
       "96151    [1, 3, 4, 4, -5, -8, -16, 19, 19, 19, -20, -20]   1350  12    20  \n",
       "96152  [1, -8, -8, -9, 13, 15, 15, -17, 19, 19, -20, ...  10892  12    20  \n",
       "\n",
       "[96153 rows x 6 columns]"
      ]
     },
     "execution_count": 40,
     "metadata": {},
     "output_type": "execute_result"
    }
   ],
   "source": [
    "df['solution']=="
   ]
  },
  {
   "cell_type": "code",
   "execution_count": null,
   "id": "d5754099-594b-4870-af46-182ecd5ee602",
   "metadata": {},
   "outputs": [],
   "source": []
  }
 ],
 "metadata": {
  "kernelspec": {
   "display_name": "Python 3 (ipykernel)",
   "language": "python",
   "name": "python3"
  },
  "language_info": {
   "codemirror_mode": {
    "name": "ipython",
    "version": 3
   },
   "file_extension": ".py",
   "mimetype": "text/x-python",
   "name": "python",
   "nbconvert_exporter": "python",
   "pygments_lexer": "ipython3",
   "version": "3.9.2"
  },
  "vscode": {
   "interpreter": {
    "hash": "31f2aee4e71d21fbe5cf8b01ff0e069b9275f58929596ceb00d14d90e3e16cd6"
   }
  }
 },
 "nbformat": 4,
 "nbformat_minor": 5
}
