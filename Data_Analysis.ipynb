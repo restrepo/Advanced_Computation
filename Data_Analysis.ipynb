{
 "cells": [
  {
   "cell_type": "markdown",
   "id": "2cf03b5f-6f5f-4607-b0bc-4603b5217b12",
   "metadata": {},
   "source": [
    "# Data Analysis"
   ]
  },
  {
   "cell_type": "markdown",
   "id": "546374fd-35ad-4edf-bd12-7a93b9ebc168",
   "metadata": {},
   "source": [
    "Obtain the Hidden Sector from: https://zenodo.org/record/5526707#.YzwIANJBzeQ in the format\n",
    "\n",
    "![img](./squeme.svg)\n",
    "\n",
    "Example of entry"
   ]
  },
  {
   "cell_type": "code",
   "execution_count": 2,
   "id": "4c8e4e30-7e06-4eb7-87dc-2ec66a4da634",
   "metadata": {},
   "outputs": [],
   "source": [
    "from IPython.display import JSON "
   ]
  },
  {
   "cell_type": "code",
   "execution_count": 10,
   "id": "5435d361-7da1-474f-be82-a80dd09f6ada",
   "metadata": {},
   "outputs": [
    {
     "data": {
      "application/json": {
       "A": 1
      },
      "text/plain": [
       "<IPython.core.display.JSON object>"
      ]
     },
     "execution_count": 10,
     "metadata": {
      "application/json": {
       "expanded": false,
       "root": "root"
      }
     },
     "output_type": "execute_result"
    }
   ],
   "source": [
    "JSON({'A':1})"
   ]
  },
  {
   "cell_type": "code",
   "execution_count": 13,
   "id": "b20efcf5-186a-4e1c-ba06-f261c49fb7af",
   "metadata": {},
   "outputs": [
    {
     "data": {
      "application/json": [
       {
        "gcd": 1,
        "hidden": [
         {
          "S": 6,
          "ψ": [
           [
            1,
            5
           ],
           [
            2,
            4
           ],
           [
            -3
           ]
          ]
         }
        ],
        "k": [
         2
        ],
        "l": [
         1,
         3
        ],
        "n": 5,
        "solution": [
         1,
         2,
         -3,
         4,
         5
        ]
       }
      ],
      "text/plain": [
       "<IPython.core.display.JSON object>"
      ]
     },
     "execution_count": 13,
     "metadata": {
      "application/json": {
       "expanded": false,
       "root": "root"
      }
     },
     "output_type": "execute_result"
    }
   ],
   "source": [
    "JSON(([{'l':[1,3],'k':[2],\n",
    "       'solution':[1,2,-3,4,5],'gcd':1,'n':5,\n",
    "      'hidden':[{'ψ':[(1,5),(2,4),(-3,)],\n",
    "                 'S':6}\n",
    "               ]\n",
    "             }] \n",
    "            )\n",
    "    )\n"
   ]
  },
  {
   "cell_type": "code",
   "execution_count": 11,
   "id": "7f44a6e1-945a-4967-af93-74f4f1f23e50",
   "metadata": {},
   "outputs": [],
   "source": [
    "import pandas as pd"
   ]
  },
  {
   "cell_type": "code",
   "execution_count": 12,
   "id": "1d119ee0-4709-44b6-853e-afd9fdfcdc0b",
   "metadata": {},
   "outputs": [
    {
     "data": {
      "text/html": [
       "<div>\n",
       "<style scoped>\n",
       "    .dataframe tbody tr th:only-of-type {\n",
       "        vertical-align: middle;\n",
       "    }\n",
       "\n",
       "    .dataframe tbody tr th {\n",
       "        vertical-align: top;\n",
       "    }\n",
       "\n",
       "    .dataframe thead th {\n",
       "        text-align: right;\n",
       "    }\n",
       "</style>\n",
       "<table border=\"1\" class=\"dataframe\">\n",
       "  <thead>\n",
       "    <tr style=\"text-align: right;\">\n",
       "      <th></th>\n",
       "      <th>l</th>\n",
       "      <th>k</th>\n",
       "      <th>solution</th>\n",
       "      <th>gcd</th>\n",
       "      <th>n</th>\n",
       "      <th>hidden</th>\n",
       "    </tr>\n",
       "  </thead>\n",
       "  <tbody>\n",
       "    <tr>\n",
       "      <th>0</th>\n",
       "      <td>[1, 3]</td>\n",
       "      <td>[2]</td>\n",
       "      <td>[1, 2, -3, 4, 5]</td>\n",
       "      <td>1</td>\n",
       "      <td>5</td>\n",
       "      <td>[{'ψ': [(1, 5), (2, 4), (-3,)], 'S': 6}]</td>\n",
       "    </tr>\n",
       "  </tbody>\n",
       "</table>\n",
       "</div>"
      ],
      "text/plain": [
       "        l    k          solution  gcd  n  \\\n",
       "0  [1, 3]  [2]  [1, 2, -3, 4, 5]    1  5   \n",
       "\n",
       "                                     hidden  \n",
       "0  [{'ψ': [(1, 5), (2, 4), (-3,)], 'S': 6}]  "
      ]
     },
     "execution_count": 12,
     "metadata": {},
     "output_type": "execute_result"
    }
   ],
   "source": [
    "pd.DataFrame([{'l':[1,3],'k':[2],\n",
    "       'solution':[1,2,-3,4,5],'gcd':1,'n':5,\n",
    "      'hidden':[{'ψ':[(1,5),(2,4),(-3,)],\n",
    "                 'S':6}\n",
    "               ]\n",
    "             }] \n",
    "            )"
   ]
  },
  {
   "cell_type": "code",
   "execution_count": null,
   "id": "b1afbaab-3d47-4ade-a3aa-ba92e2f6714e",
   "metadata": {},
   "outputs": [],
   "source": []
  }
 ],
 "metadata": {
  "kernelspec": {
   "display_name": "Python 3 (ipykernel)",
   "language": "python",
   "name": "python3"
  },
  "language_info": {
   "codemirror_mode": {
    "name": "ipython",
    "version": 3
   },
   "file_extension": ".py",
   "mimetype": "text/x-python",
   "name": "python",
   "nbconvert_exporter": "python",
   "pygments_lexer": "ipython3",
   "version": "3.9.12"
  }
 },
 "nbformat": 4,
 "nbformat_minor": 5
}
