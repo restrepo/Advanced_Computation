{
 "cells": [
  {
   "cell_type": "markdown",
   "id": "2cf03b5f-6f5f-4607-b0bc-4603b5217b12",
   "metadata": {},
   "source": [
    "# Data Analysis"
   ]
  },
  {
   "cell_type": "markdown",
   "id": "546374fd-35ad-4edf-bd12-7a93b9ebc168",
   "metadata": {
    "tags": []
   },
   "source": [
    "## Solutions object\n",
    "Obtain the Hidden Sector from: https://zenodo.org/record/5526707#.YzwIANJBzeQ and add the missing the column `Hidden Sector` of the following data scheme\n",
    "\n",
    "![img](./squeme.svg)\n",
    "\n",
    "### Example of entry"
   ]
  },
  {
   "cell_type": "code",
   "execution_count": 1,
   "id": "4c8e4e30-7e06-4eb7-87dc-2ec66a4da634",
   "metadata": {},
   "outputs": [],
   "source": [
    "from IPython.display import JSON \n",
    "import pandas as pd"
   ]
  },
  {
   "cell_type": "code",
   "execution_count": 2,
   "id": "5435d361-7da1-474f-be82-a80dd09f6ada",
   "metadata": {},
   "outputs": [
    {
     "data": {
      "application/json": {
       "A": 1
      },
      "text/plain": [
       "<IPython.core.display.JSON object>"
      ]
     },
     "execution_count": 2,
     "metadata": {
      "application/json": {
       "expanded": false,
       "root": "root"
      }
     },
     "output_type": "execute_result"
    }
   ],
   "source": [
    "JSON({'A':1})"
   ]
  },
  {
   "cell_type": "code",
   "execution_count": 3,
   "id": "b20efcf5-186a-4e1c-ba06-f261c49fb7af",
   "metadata": {},
   "outputs": [
    {
     "data": {
      "application/json": [
       {
        "gcd": 1,
        "hidden": [
         {
          "S": 6,
          "ψ": [
           [
            1,
            5
           ],
           [
            2,
            4
           ],
           [
            -3
           ]
          ]
         }
        ],
        "k": [
         2
        ],
        "l": [
         1,
         3
        ],
        "n": 5,
        "solution": [
         1,
         2,
         -3,
         4,
         5
        ]
       }
      ],
      "text/plain": [
       "<IPython.core.display.JSON object>"
      ]
     },
     "execution_count": 3,
     "metadata": {
      "application/json": {
       "expanded": false,
       "root": "root"
      }
     },
     "output_type": "execute_result"
    }
   ],
   "source": [
    "JSON(([{'l':[1,3],'k':[2],\n",
    "       'solution':[1,2,-3,4,5],'gcd':1,'n':5,\n",
    "      'hidden':[{'ψ':[(1,5),(2,4),(-3,)],\n",
    "                 'S':6}\n",
    "               ]\n",
    "             }] \n",
    "            )\n",
    "    )\n"
   ]
  },
  {
   "cell_type": "code",
   "execution_count": 4,
   "id": "7f44a6e1-945a-4967-af93-74f4f1f23e50",
   "metadata": {},
   "outputs": [],
   "source": [
    "import pandas as pd"
   ]
  },
  {
   "cell_type": "code",
   "execution_count": 5,
   "id": "1d119ee0-4709-44b6-853e-afd9fdfcdc0b",
   "metadata": {},
   "outputs": [
    {
     "data": {
      "text/html": [
       "<div>\n",
       "<style scoped>\n",
       "    .dataframe tbody tr th:only-of-type {\n",
       "        vertical-align: middle;\n",
       "    }\n",
       "\n",
       "    .dataframe tbody tr th {\n",
       "        vertical-align: top;\n",
       "    }\n",
       "\n",
       "    .dataframe thead th {\n",
       "        text-align: right;\n",
       "    }\n",
       "</style>\n",
       "<table border=\"1\" class=\"dataframe\">\n",
       "  <thead>\n",
       "    <tr style=\"text-align: right;\">\n",
       "      <th></th>\n",
       "      <th>l</th>\n",
       "      <th>k</th>\n",
       "      <th>solution</th>\n",
       "      <th>gcd</th>\n",
       "      <th>n</th>\n",
       "      <th>hidden</th>\n",
       "    </tr>\n",
       "  </thead>\n",
       "  <tbody>\n",
       "    <tr>\n",
       "      <th>0</th>\n",
       "      <td>[1, 3]</td>\n",
       "      <td>[2]</td>\n",
       "      <td>[1, 2, -3, 4, 5]</td>\n",
       "      <td>1</td>\n",
       "      <td>5</td>\n",
       "      <td>[{'ψ': [(1, 5), (2, 4), (-3,)], 'S': 6}]</td>\n",
       "    </tr>\n",
       "  </tbody>\n",
       "</table>\n",
       "</div>"
      ],
      "text/plain": [
       "        l    k          solution  gcd  n  \\\n",
       "0  [1, 3]  [2]  [1, 2, -3, 4, 5]    1  5   \n",
       "\n",
       "                                     hidden  \n",
       "0  [{'ψ': [(1, 5), (2, 4), (-3,)], 'S': 6}]  "
      ]
     },
     "execution_count": 5,
     "metadata": {},
     "output_type": "execute_result"
    }
   ],
   "source": [
    "pd.DataFrame([{'l':[1,3],'k':[2],\n",
    "       'solution':[1,2,-3,4,5],'gcd':1,'n':5,\n",
    "      'hidden':[{'ψ':[(1,5),(2,4),(-3,)],\n",
    "                 'S':6}\n",
    "               ]\n",
    "             }] \n",
    "            )"
   ]
  },
  {
   "cell_type": "markdown",
   "id": "6342f13a-2c97-4245-a2f9-d35fceac4470",
   "metadata": {},
   "source": [
    "### Read the full dataset"
   ]
  },
  {
   "cell_type": "code",
   "execution_count": 6,
   "id": "b1afbaab-3d47-4ade-a3aa-ba92e2f6714e",
   "metadata": {},
   "outputs": [],
   "source": [
    "df=pd.read_json('https://zenodo.org/record/5526707/files/solutions.json?download=1')"
   ]
  },
  {
   "cell_type": "code",
   "execution_count": 6,
   "id": "fa2520fd-ed97-423f-a8e7-66aca640a43a",
   "metadata": {},
   "outputs": [],
   "source": [
    "FULL=True\n",
    "if FULL:\n",
    "    #From https://zenodo.org/record/7380817/files/solutions.json.gz?download=1\n",
    "    df=pd.read_json('solutions.json.gz')\n",
    "    df=df[df['solution'].str[-1].abs()<=20].reset_index(drop=True)"
   ]
  },
  {
   "cell_type": "code",
   "execution_count": 7,
   "id": "c5d14088-b0c9-47ab-81b3-2f4bb564b041",
   "metadata": {},
   "outputs": [
    {
     "data": {
      "text/plain": [
       "(3, 5)"
      ]
     },
     "execution_count": 7,
     "metadata": {},
     "output_type": "execute_result"
    }
   ],
   "source": [
    "df[df['n']==5].shape"
   ]
  },
  {
   "cell_type": "code",
   "execution_count": 8,
   "id": "77eea894-48b3-4c2d-9875-ee10339badb2",
   "metadata": {},
   "outputs": [
    {
     "data": {
      "text/plain": [
       "(96153, 5)"
      ]
     },
     "execution_count": 8,
     "metadata": {},
     "output_type": "execute_result"
    }
   ],
   "source": [
    "df.shape"
   ]
  },
  {
   "cell_type": "markdown",
   "id": "8a03e1d3-ec9c-4819-804d-649904134528",
   "metadata": {},
   "source": [
    "The `solutions` column, was generated with an ordering in absolute value, like the following"
   ]
  },
  {
   "cell_type": "code",
   "execution_count": 9,
   "id": "0e6ed30d-ae8a-401c-b6be-e7a9b494ed3c",
   "metadata": {},
   "outputs": [
    {
     "data": {
      "text/plain": [
       "[1, -2, 5, -8]"
      ]
     },
     "execution_count": 9,
     "metadata": {},
     "output_type": "execute_result"
    }
   ],
   "source": [
    "sorted([-2,1,-8,5],key=abs)"
   ]
  },
  {
   "cell_type": "markdown",
   "id": "9e5335de-c8ad-40db-81e0-e4558d604852",
   "metadata": {},
   "source": [
    "This allows to take the maximum directly from the last element"
   ]
  },
  {
   "cell_type": "code",
   "execution_count": 10,
   "id": "f917b5f6-eac4-42d3-aa4a-350bcea7c6a9",
   "metadata": {},
   "outputs": [
    {
     "data": {
      "text/plain": [
       "0         3\n",
       "1         6\n",
       "2         4\n",
       "3        20\n",
       "4        12\n",
       "         ..\n",
       "96148    19\n",
       "96149    20\n",
       "96150   -20\n",
       "96151   -20\n",
       "96152   -20\n",
       "Name: solution, Length: 96153, dtype: int64"
      ]
     },
     "execution_count": 10,
     "metadata": {},
     "output_type": "execute_result"
    }
   ],
   "source": [
    "df['solution'].str[-1]"
   ]
  },
  {
   "cell_type": "code",
   "execution_count": 11,
   "id": "cad31295-eb83-40ee-8f72-f92960142df1",
   "metadata": {},
   "outputs": [
    {
     "data": {
      "text/plain": [
       "(65910, 6)"
      ]
     },
     "execution_count": 11,
     "metadata": {},
     "output_type": "execute_result"
    }
   ],
   "source": [
    "df['zmax']=df['solution'].str[-1].abs()\n",
    "df=df.sort_values(['n','zmax']).reset_index(drop=True)\n",
    "\n",
    "#How many solutions with n=12 and z_max <= 20?\n",
    "df[ (df['n']==12) & (df['zmax']<=20) ].shape"
   ]
  },
  {
   "cell_type": "code",
   "execution_count": 12,
   "id": "40ecc098-d7f3-4e4d-8ce0-3db65c440489",
   "metadata": {},
   "outputs": [
    {
     "data": {
      "text/html": [
       "<div>\n",
       "<style scoped>\n",
       "    .dataframe tbody tr th:only-of-type {\n",
       "        vertical-align: middle;\n",
       "    }\n",
       "\n",
       "    .dataframe tbody tr th {\n",
       "        vertical-align: top;\n",
       "    }\n",
       "\n",
       "    .dataframe thead th {\n",
       "        text-align: right;\n",
       "    }\n",
       "</style>\n",
       "<table border=\"1\" class=\"dataframe\">\n",
       "  <thead>\n",
       "    <tr style=\"text-align: right;\">\n",
       "      <th></th>\n",
       "      <th>l</th>\n",
       "      <th>k</th>\n",
       "      <th>solution</th>\n",
       "      <th>gcd</th>\n",
       "      <th>n</th>\n",
       "      <th>zmax</th>\n",
       "    </tr>\n",
       "  </thead>\n",
       "  <tbody>\n",
       "    <tr>\n",
       "      <th>0</th>\n",
       "      <td>[-2]</td>\n",
       "      <td>[2, 3]</td>\n",
       "      <td>[1, 5, -7, -8, 9]</td>\n",
       "      <td>4</td>\n",
       "      <td>5</td>\n",
       "      <td>9</td>\n",
       "    </tr>\n",
       "    <tr>\n",
       "      <th>1</th>\n",
       "      <td>[3]</td>\n",
       "      <td>[-3, -2]</td>\n",
       "      <td>[2, 4, -7, -9, 10]</td>\n",
       "      <td>18</td>\n",
       "      <td>5</td>\n",
       "      <td>10</td>\n",
       "    </tr>\n",
       "    <tr>\n",
       "      <th>2</th>\n",
       "      <td>[-2]</td>\n",
       "      <td>[3, 1]</td>\n",
       "      <td>[1, 14, -17, -18, 20]</td>\n",
       "      <td>6</td>\n",
       "      <td>5</td>\n",
       "      <td>20</td>\n",
       "    </tr>\n",
       "  </tbody>\n",
       "</table>\n",
       "</div>"
      ],
      "text/plain": [
       "      l         k               solution  gcd  n  zmax\n",
       "0  [-2]    [2, 3]      [1, 5, -7, -8, 9]    4  5     9\n",
       "1   [3]  [-3, -2]     [2, 4, -7, -9, 10]   18  5    10\n",
       "2  [-2]    [3, 1]  [1, 14, -17, -18, 20]    6  5    20"
      ]
     },
     "execution_count": 12,
     "metadata": {},
     "output_type": "execute_result"
    }
   ],
   "source": [
    "df[df['n']==5]"
   ]
  },
  {
   "cell_type": "markdown",
   "id": "a042051b-e918-4b22-924d-d51da6574bc2",
   "metadata": {},
   "source": [
    "### Add the new column with the list of hidden sectors"
   ]
  },
  {
   "cell_type": "markdown",
   "id": "a6ae2465-4a66-4876-b41a-ac12fb0e4459",
   "metadata": {},
   "source": [
    "After refactoring..."
   ]
  },
  {
   "cell_type": "code",
   "execution_count": 50,
   "id": "7bcf19c3-9b4a-4b16-a6b2-7e218de8ef26",
   "metadata": {},
   "outputs": [],
   "source": [
    "def get_hidden_fermions(l,s,ps=[]):\n",
    "    '''\n",
    "    For a given scalar Abelian charge `s`, build the \n",
    "    fermion non-zero determinant mass matrix from their\n",
    "    Abelian charges in `l`, and returns the input `s` and \n",
    "    the non-zero mass entries.\n",
    "    Returns an empty dictionary otherwise.\n",
    "    \n",
    "    The list of combinations on pairs of `l` can be given in `ps`,\n",
    "    otherwise it is internally calculated.\n",
    "    \n",
    "    Example:\n",
    "        l = [1, 3, 4, 6, -7, -8, -13, 14]\n",
    "        s = 7\n",
    "        ps = [(3,4),(6,-13),(1,6),(-7,14),(1,-8)]\n",
    "        # If necessary temove [1,6] because have is fully contained \n",
    "        # in the intersections with others\n",
    "        [1, 3, 4, 6, -7, -8, -13, 14] → [(3,4),(6,-13),(-7,14),(1,-8)]\n",
    "        [1, 6, -7, -8, -13, 14] → [(6,-13),(-7,14),(1,-8)]\n",
    "        [1, -7, -8, 14] → [(-7,14),(1,-8)]\n",
    "        [1, -8] → [(1,-8)]\n",
    "        [] → []\n",
    "        \n",
    "        returns:\n",
    "        {'s':7, '\\psi':[(3,4),(6,-13),(1,6),(-7,14),(1,-8)]}\n",
    "\n",
    "    '''\n",
    "    sltn={}\n",
    "    if not ps:\n",
    "        ps = list(set(itertools.combinations_with_replacement(l,2)))\n",
    "    msv = [p for p in ps if abs(sum(p))==s]\n",
    "    lmsv=[x for sublist in msv for x in sublist]\n",
    "    massives=set(lmsv)        \n",
    "    massless=list(set(l).difference(massives))\n",
    "    print(msv,[x for x in l if x in massless],s)\n",
    "    for p in msv:\n",
    "        if L.count(p[0]) > L.count(p[1]):\n",
    "            massless.append(p[0])\n",
    "        elif L.count(p[0]) < L.count(p[1]):\n",
    "            massless.append(p[1])\n",
    "            \n",
    "    sltn['S']=s\n",
    "    sltn['ψ']=msv\n",
    "    sltn[0]=massless\n",
    "    return sltn"
   ]
  },
  {
   "cell_type": "code",
   "execution_count": 54,
   "id": "ee839118-96e8-42a3-8d3e-4b53e674bfa2",
   "metadata": {},
   "outputs": [
    {
     "data": {
      "text/plain": [
       "False"
      ]
     },
     "execution_count": 54,
     "metadata": {},
     "output_type": "execute_result"
    }
   ],
   "source": [
    "2 < 2"
   ]
  },
  {
   "cell_type": "code",
   "execution_count": 52,
   "id": "3bbfb64a-0ec8-4944-9ab0-6acca27b72b5",
   "metadata": {},
   "outputs": [
    {
     "name": "stdout",
     "output_type": "stream",
     "text": [
      "[(2, 7), (4, 5)] [] 9\n"
     ]
    },
    {
     "data": {
      "text/plain": [
       "{'S': 9, 'ψ': [(2, 7), (4, 5)], 0: []}"
      ]
     },
     "execution_count": 52,
     "metadata": {},
     "output_type": "execute_result"
    }
   ],
   "source": [
    "get_hidden_fermions([2, 4, 4, 5, 5, 7],9)"
   ]
  },
  {
   "cell_type": "code",
   "execution_count": 43,
   "id": "82a650c6-392b-411b-a6e3-f128f1b71ac6",
   "metadata": {},
   "outputs": [
    {
     "data": {
      "text/plain": [
       "[]"
      ]
     },
     "execution_count": 43,
     "metadata": {},
     "output_type": "execute_result"
    }
   ],
   "source": [
    "L = [2, 4, 4, 5, 5, 7]\n",
    "pairs  = [(4, 5)]\n"
   ]
  },
  {
   "cell_type": "code",
   "execution_count": 40,
   "id": "853926a6-2d35-4ae3-85b4-6a87c7de9a8f",
   "metadata": {},
   "outputs": [
    {
     "data": {
      "text/plain": [
       "[5]"
      ]
     },
     "execution_count": 40,
     "metadata": {},
     "output_type": "execute_result"
    }
   ],
   "source": [
    "if L.count(p[0]) > L.count(p[1]):\n",
    "    extra_massles.append(p[0])\n",
    "elif L.count(p[0]) < L.count(p[1]):\n",
    "    extra_massles.append(p[1])\n",
    "extra_massles\n",
    "    \n",
    "\n"
   ]
  },
  {
   "cell_type": "code",
   "execution_count": 22,
   "id": "c1d8f9ad-d6b7-47ab-aadc-4e6dc2b92f06",
   "metadata": {},
   "outputs": [
    {
     "name": "stdout",
     "output_type": "stream",
     "text": [
      "[(2, 2)] [2, 2] 4\n",
      "[(2, 4)] [2, 4] 6\n",
      "[(2, 5)] [2, 5] 7\n",
      "[(4, 4)] [4, 4] 8\n",
      "[(2, 7), (4, 5)] [2, 7, 4, 5] 9\n",
      "[(5, 5)] [5, 5] 10\n",
      "[(4, 7)] [4, 7] 11\n",
      "[(5, 7)] [5, 7] 12\n",
      "[(7, 7)] [7, 7] 14\n"
     ]
    },
    {
     "data": {
      "text/plain": [
       "[{'S': 9, 'ψ': [(2, 7), (4, 5)]}]"
      ]
     },
     "execution_count": 22,
     "metadata": {},
     "output_type": "execute_result"
    }
   ],
   "source": [
    "get_hidden_sector([2, 4, 4, 5, 5, 7])"
   ]
  },
  {
   "cell_type": "code",
   "execution_count": 99,
   "id": "efde8c86-9f26-4cc5-afd2-e7b19c585a4f",
   "metadata": {},
   "outputs": [],
   "source": [
    "import itertools\n",
    "import math as mh\n",
    "\n",
    "def flatten(xss):\n",
    "    return [x for xs in xss for x in xs]\n",
    "\n",
    "def remove_double_intersection_pairs(msvp,l):\n",
    "    '''\n",
    "    Example:\n",
    "        msvp = [(3,4),(6,-13),(1,6),(-7,14),(1,-8)]\n",
    "        l = [1, 3, 4, 6, -7, -8, -13, 14]\n",
    "        # Remove (1,6) because is fully contained \n",
    "        # in the intersections with (_1_,-8) and (_6_,-13)\n",
    "        returns: \n",
    "        [(3,4),(6,-13),(-7,14),(1,-8)]    \n",
    "    '''\n",
    "    for p in msvp.copy():\n",
    "        tmp=msvp.copy()\n",
    "        tmp.remove(p)\n",
    "        fltmp=set([x for sublist in tmp for x in sublist]) \n",
    "        if l.count(p[0])==1 and l.count(p[1])==1 and set(p).issubset(fltmp):\n",
    "            msvp=tmp.copy()\n",
    "    return msvp\n",
    "assert len(remove_double_intersection_pairs([(-10, 11), (-12, 13), (11, -12)],\n",
    "                                             [-10, 11, -12, 13]))==2\n",
    "assert len(remove_double_intersection_pairs([(4,4),(4,-12)],[4,-12]))==1\n",
    "\n",
    "def get_real_massless(l,msvp):\n",
    "    '''\n",
    "    Example:\n",
    "        l = [1, 3, 4, 6, -7, -8, -13, 14]\n",
    "        msvp = [(3,4),(6,-13),(-7,14),(1,-8)]\n",
    "        [1, 3, 4, 6, -7, -8, -13, 14] → [(3,4),(6,-13),(-7,14),(1,-8)]\n",
    "        [1, 6, -7, -8, -13, 14] → [(6,-13),(-7,14),(1,-8)]\n",
    "        [1, -7, -8, 14] → [(-7,14),(1,-8)]\n",
    "        [1, -8] → [(1,-8)]\n",
    "        [] → []\n",
    "        \n",
    "        returns:\n",
    "        [] # lp    \n",
    "    '''\n",
    "    lp=l.copy()\n",
    "    for x,y in msvp:\n",
    "        #print(lp,msvp,x,y)\n",
    "        if lp and x in lp and y in lp:\n",
    "            minxy=min(lp.count(x),lp.count(y))\n",
    "            if x!=y:\n",
    "                [(lp.remove(x),lp.remove(y)) for ii in range(minxy)]\n",
    "            else:\n",
    "                [ lp.remove(x) for ii in range(lp.count(x)) ] # abs(2*x)==s\n",
    "        else: # not lp\n",
    "            break\n",
    "    return lp\n",
    "\n",
    "def get_hidden_fermions(l,s,ps=[]):\n",
    "    '''\n",
    "    For a given scalar Abelian charge `s`, build the \n",
    "    fermion non-zero determinant mass matrix from their\n",
    "    Abelian charges in `l`, and returns the input `s` and \n",
    "    the non-zero mass entries.\n",
    "    Returns an empty dictionary otherwise.\n",
    "    \n",
    "    The list of combinations on pairs of `l` can be given in `ps`,\n",
    "    otherwise it is internally calculated.\n",
    "    \n",
    "    Example:\n",
    "        l = [1, 3, 4, 6, -7, -8, -13, 14]\n",
    "        s = 7\n",
    "        ps = [(3,4),(6,-13),(1,6),(-7,14),(1,-8)]\n",
    "        # If necessary temove [1,6] because have is fully contained \n",
    "        # in the intersections with others\n",
    "        [1, 3, 4, 6, -7, -8, -13, 14] → [(3,4),(6,-13),(-7,14),(1,-8)]\n",
    "        [1, 6, -7, -8, -13, 14] → [(6,-13),(-7,14),(1,-8)]\n",
    "        [1, -7, -8, 14] → [(-7,14),(1,-8)]\n",
    "        [1, -8] → [(1,-8)]\n",
    "        [] → []\n",
    "        \n",
    "        returns:\n",
    "        {'s':7, '\\psi':[(3,4),(6,-13),(1,6),(-7,14),(1,-8)]}\n",
    "\n",
    "    '''\n",
    "    sltn={}\n",
    "    if not ps:\n",
    "        ps = list(set(itertools.combinations_with_replacement(l,2)))\n",
    "    msv = [p for p in ps if abs(sum(p))==s]\n",
    "    lmsv=[x for sublist in msv for x in sublist]\n",
    "    massives=set(lmsv)        \n",
    "    massless=list(set(l).difference(massives))\n",
    "    #print(massless)\n",
    "    for p in msv:\n",
    "        if l.count(p[0]) > l.count(p[1]):\n",
    "            massless.append(p[0])\n",
    "        elif l.count(p[0]) < l.count(p[1]):\n",
    "            massless.append(p[1])\n",
    "        #print(p,massless)    \n",
    "    sltn['S']=s\n",
    "    sltn['ψ']=msv\n",
    "    sltn[0]=massless\n",
    "    return sltn\n",
    "assert get_hidden_fermions([2, 4, 4, 5, 5, 7],9).get('S')==9    "
   ]
  },
  {
   "cell_type": "code",
   "execution_count": 100,
   "id": "d54120c6-8c01-4b02-b32a-cfda00538984",
   "metadata": {},
   "outputs": [
    {
     "data": {
      "text/plain": [
       "{'S': 6, 'ψ': [(2, 4), (1, 5), (-3, -3)], 0: []}"
      ]
     },
     "execution_count": 100,
     "metadata": {},
     "output_type": "execute_result"
    }
   ],
   "source": [
    "get_hidden_fermions([1,2,-3,4,5],6)"
   ]
  },
  {
   "cell_type": "code",
   "execution_count": 101,
   "id": "bf9e421a-b3eb-4521-aee1-306eaec730f6",
   "metadata": {},
   "outputs": [],
   "source": [
    "import itertools\n",
    "import math as mh\n",
    "\n",
    "assert get_hidden_fermions([2, 4, 4, 5, 5, 7],9).get('S')==9    \n",
    "\n",
    "def get_hidden_sector(l):\n",
    "    '''\n",
    "    Extract massive pairs without massles fermions from l\n",
    "        [1, 3, 4, 6, -7, -8, -13, 14] → [[3,4],[6,-13],[1,6],[-7,14],[1,-8]]\n",
    "        #Remove [1,6] because is already in the pairs list\n",
    "        [1, 3, 4, 6, -7, -8, -13, 14] → [[3,4],[6,-13],[-7,14],[1,-8]]\n",
    "        [1, 6, -7, -8, -13, 14] → [[6,-13],[-7,14],[1,-8]]\n",
    "        [1, -7, -8, 14] → [[-7,14],[1,-8]]\n",
    "        [1, -8] → [[1,-8]]\n",
    "        [] → []    \n",
    "    '''\n",
    "    sltns=[]\n",
    "    ps = list(set(itertools.combinations_with_replacement(l,2)))\n",
    "    Ss = set(abs(sum(x)) for x in ps)\n",
    "    for s in Ss:\n",
    "        sltn=get_hidden_fermions(l,s,ps)\n",
    "        if sltn:\n",
    "            sltns.append(sltn)\n",
    "    return sltns\n",
    "\n",
    "assert [d for d in get_hidden_sector([1,2,-3,4,5]) if d.get('S')==6][0].get('S')==6\n",
    "assert [d for d in get_hidden_sector([1,2,-3,-3,4,5]) if d.get('S')==6][0].get('S')==6\n",
    "assert [d for d in get_hidden_sector([1,1,2,-3,-3,4,5,5])if d.get('S')==6][0].get('S')==6\n",
    "#aψ1ψ1+bψ1ψ2+cψ1,ψ3 → https://www.wolframalpha.com/input?i=Rank%20{{a,b,c},{b,0,0},{c,0,0}}\n",
    "assert [True for d in get_hidden_sector([1,2,-3,4,5,9,9]) if not d[0]]==[]\n",
    "#aψ1ψ2+bψ1ψ3 → https://www.wolframalpha.com/input?i=rank+{{0,a,b},{a,0,0},{b,0,0}}\n",
    "assert [True for d in get_hidden_sector([1,1,2,-3,4,5]) if not d[0]]==[]\n",
    "assert [True for d in get_hidden_sector([1,1,2,-3,-3,4,5]) if not d[0]]==[]\n",
    "assert [True for d in get_hidden_sector([1,2,-3,4,5,8]) if not d[0]]==[]\n",
    "assert [True for d in get_hidden_sector([1,2,-3,4,5,8,8]) if not d[0]]==[]\n",
    "assert [True for d in get_hidden_sector([]) if not d[0]]==[]\n",
    "assert [True for d in get_hidden_sector([1, 1, 1, 1, 1, -2, -2, -2, -2, 3]) if not d[0]]==[]\n",
    "assert [d for d in get_hidden_sector([1, 2, 2, 2, -3, -5, -6, 7]) if d.get('S')==4][0].get('S')==4\n",
    "assert [d for d in get_hidden_sector( [1, 2, 2, 4, -5, -5, -7, 8] ) if d.get('S')==3][0].get('S')==3\n",
    "assert [d for d in get_hidden_sector([2, -3, -4, 5, -6, 7, 7, -8]) if d.get('S')==1][0].get('S')==1 # Ana test\n",
    "#assert [True for d in get_hidden_sector([3, 5, -8, 9, -10, -14, 15]) if not d[0]]==[] # Dirac triplet [-10,5,15] (s=5)\n",
    "assert [True for d in get_hidden_sector([3, 5, -8, 9, -10, -14, 15, 20,-30, 35]) if not d[0]]==[]\n",
    "assert [d for d in get_hidden_sector([1, 3, 3, 3, -5, -7, -7, 9]) if d.get('S')==4][0].get('S')==4 #order of pairs matters\n",
    "assert [d for d in get_hidden_sector([7, -8, -10, 11, -12, 13, 14, -15]) if d.get('S')==1][0].get('S')==1 #double intersection pair\n",
    "assert [d for d in get_hidden_sector([4,-12]) if d.get('S')==8][0].get('S')==8\n",
    "assert [d for d in get_hidden_sector([3, 3, -4, -4, -4, 5, -6, 7, -8, 9, 10, -11]) if d.get('S')==1][0].get('S')==1"
   ]
  },
  {
   "cell_type": "code",
   "execution_count": 102,
   "id": "ab4d764d-e70e-4499-9c17-38d58ffda930",
   "metadata": {},
   "outputs": [
    {
     "name": "stdout",
     "output_type": "stream",
     "text": [
      "CPU times: user 18.4 s, sys: 195 ms, total: 18.6 s\n",
      "Wall time: 18.6 s\n"
     ]
    }
   ],
   "source": [
    "%%time\n",
    "df['hidden']=df['solution'].apply(get_hidden_sector)"
   ]
  },
  {
   "cell_type": "code",
   "execution_count": 103,
   "id": "7d444f2c-26a5-4145-b7ab-babe5f9f8c20",
   "metadata": {},
   "outputs": [],
   "source": [
    "hs=df[df['hidden'].apply(len)>0].reset_index(drop=True)#.iloc[0].to_dict()"
   ]
  },
  {
   "cell_type": "code",
   "execution_count": 104,
   "id": "a2905342-2157-4e83-8228-51a2f16d7074",
   "metadata": {},
   "outputs": [
    {
     "data": {
      "text/plain": [
       "(96153, 7)"
      ]
     },
     "execution_count": 104,
     "metadata": {},
     "output_type": "execute_result"
    }
   ],
   "source": [
    "hs.shape #9466 solutions with hidden sector"
   ]
  },
  {
   "cell_type": "code",
   "execution_count": 105,
   "id": "6fcf9397-4225-424a-92e3-89d08d28494c",
   "metadata": {},
   "outputs": [
    {
     "data": {
      "text/plain": [
       "20"
      ]
     },
     "execution_count": 105,
     "metadata": {},
     "output_type": "execute_result"
    }
   ],
   "source": [
    "hs.zmax.max()"
   ]
  },
  {
   "cell_type": "code",
   "execution_count": 108,
   "id": "be71bd0e-c1ed-4e29-bdf3-de4c178b2980",
   "metadata": {},
   "outputs": [
    {
     "data": {
      "text/plain": [
       "[{'S': 1, 'ψ': [(-8, 9)], 0: [1, 5, -7]},\n",
       " {'S': 2, 'ψ': [(1, 1), (-7, 9), (5, -7)], 0: [-8]},\n",
       " {'S': 3, 'ψ': [(5, -8)], 0: [1, -7, 9]},\n",
       " {'S': 6, 'ψ': [(1, 5), (1, -7)], 0: [-8, 9]},\n",
       " {'S': 7, 'ψ': [(1, -8)], 0: [9, 5, -7]},\n",
       " {'S': 10, 'ψ': [(5, 5), (1, 9)], 0: [-8, -7]},\n",
       " {'S': 14, 'ψ': [(-7, -7), (5, 9)], 0: [-8, 1]},\n",
       " {'S': 15, 'ψ': [(-7, -8)], 0: [1, 5, 9]},\n",
       " {'S': 16, 'ψ': [(-8, -8)], 0: [1, 5, 9, -7]},\n",
       " {'S': 18, 'ψ': [(9, 9)], 0: [-8, 1, 5, -7]}]"
      ]
     },
     "execution_count": 108,
     "metadata": {},
     "output_type": "execute_result"
    }
   ],
   "source": [
    "hs[:1].hidden.iloc[0]"
   ]
  },
  {
   "cell_type": "markdown",
   "id": "d58699d1-4703-4797-a42c-9f6ef15d8813",
   "metadata": {},
   "source": [
    "## Ask question to the solutions object"
   ]
  },
  {
   "cell_type": "markdown",
   "id": "50887324-0108-48f1-8046-d655a3e3fb04",
   "metadata": {},
   "source": [
    "* Test the solution\n",
    "* Which is the minimum hidden sector and with the least charge in absolute value\n",
    "* Check for multigenerational solution\n",
    "* Check for unconditional stability\n",
    "* Solutions with active symmetry\n",
    "* How many solutions with n=12 and zmax<=20\n",
    "* Check for Majorana and Dirac fermions"
   ]
  },
  {
   "cell_type": "markdown",
   "id": "9a643fe5-77bc-4a5e-98ae-1b27c55c4296",
   "metadata": {},
   "source": [
    "Which `n` are allowed? "
   ]
  },
  {
   "cell_type": "code",
   "execution_count": 109,
   "id": "68779999-7fe1-4bb8-836d-bb5d6d043909",
   "metadata": {},
   "outputs": [
    {
     "data": {
      "text/plain": [
       "array([ 5,  6,  7,  8,  9, 10, 11, 12])"
      ]
     },
     "execution_count": 109,
     "metadata": {},
     "output_type": "execute_result"
    }
   ],
   "source": [
    "hs['n'].unique()"
   ]
  },
  {
   "cell_type": "code",
   "execution_count": 110,
   "id": "61165151-dac1-4763-825e-7fb5ac9c4104",
   "metadata": {},
   "outputs": [],
   "source": [
    "pd.set_option('display.max_colwidth',200)"
   ]
  },
  {
   "cell_type": "markdown",
   "id": "a8eeb4b3-1480-4aec-907e-5e7fad845d99",
   "metadata": {},
   "source": [
    "What is the minimum n?"
   ]
  },
  {
   "cell_type": "code",
   "execution_count": 111,
   "id": "13a9e98b-5ae8-4c93-a475-a1b4b160d17b",
   "metadata": {},
   "outputs": [
    {
     "data": {
      "text/plain": [
       "5"
      ]
     },
     "execution_count": 111,
     "metadata": {},
     "output_type": "execute_result"
    }
   ],
   "source": [
    "hs['n'].min()"
   ]
  },
  {
   "cell_type": "markdown",
   "id": "3ec4e194-d91f-41a6-afa8-50200c5389a3",
   "metadata": {},
   "source": [
    "What is the minimum `z_max`?"
   ]
  },
  {
   "cell_type": "code",
   "execution_count": 112,
   "id": "f3aeeef7-9000-47ac-9887-4d2d48cf8ba8",
   "metadata": {},
   "outputs": [
    {
     "data": {
      "text/plain": [
       "3"
      ]
     },
     "execution_count": 112,
     "metadata": {},
     "output_type": "execute_result"
    }
   ],
   "source": [
    "hs['zmax'].min()"
   ]
  },
  {
   "cell_type": "code",
   "execution_count": 113,
   "id": "e24084b9-5fbd-4f93-9e35-a519f556c006",
   "metadata": {},
   "outputs": [
    {
     "data": {
      "text/html": [
       "<div>\n",
       "<style scoped>\n",
       "    .dataframe tbody tr th:only-of-type {\n",
       "        vertical-align: middle;\n",
       "    }\n",
       "\n",
       "    .dataframe tbody tr th {\n",
       "        vertical-align: top;\n",
       "    }\n",
       "\n",
       "    .dataframe thead th {\n",
       "        text-align: right;\n",
       "    }\n",
       "</style>\n",
       "<table border=\"1\" class=\"dataframe\">\n",
       "  <thead>\n",
       "    <tr style=\"text-align: right;\">\n",
       "      <th></th>\n",
       "      <th>l</th>\n",
       "      <th>k</th>\n",
       "      <th>solution</th>\n",
       "      <th>gcd</th>\n",
       "      <th>n</th>\n",
       "      <th>zmax</th>\n",
       "      <th>hidden</th>\n",
       "    </tr>\n",
       "  </thead>\n",
       "  <tbody>\n",
       "    <tr>\n",
       "      <th>2609</th>\n",
       "      <td>[-1, 1, -1, 1]</td>\n",
       "      <td>[-1, 0, -1, 0]</td>\n",
       "      <td>[1, 1, 1, 1, 1, -2, -2, -2, -2, 3]</td>\n",
       "      <td>2</td>\n",
       "      <td>10</td>\n",
       "      <td>3</td>\n",
       "      <td>[{'S': 1, 'ψ': [(1, -2), (-2, 3)], 0: [1, -2]}, {'S': 2, 'ψ': [(1, 1)], 0: [3, -2]}, {'S': 4, 'ψ': [(-2, -2), (1, 3)], 0: [1]}, {'S': 6, 'ψ': [(3, 3)], 0: [1, -2]}]</td>\n",
       "    </tr>\n",
       "  </tbody>\n",
       "</table>\n",
       "</div>"
      ],
      "text/plain": [
       "                   l               k                            solution  gcd  \\\n",
       "2609  [-1, 1, -1, 1]  [-1, 0, -1, 0]  [1, 1, 1, 1, 1, -2, -2, -2, -2, 3]    2   \n",
       "\n",
       "       n  zmax  \\\n",
       "2609  10     3   \n",
       "\n",
       "                                                                                                                                                                    hidden  \n",
       "2609  [{'S': 1, 'ψ': [(1, -2), (-2, 3)], 0: [1, -2]}, {'S': 2, 'ψ': [(1, 1)], 0: [3, -2]}, {'S': 4, 'ψ': [(-2, -2), (1, 3)], 0: [1]}, {'S': 6, 'ψ': [(3, 3)], 0: [1, -2]}]  "
      ]
     },
     "execution_count": 113,
     "metadata": {},
     "output_type": "execute_result"
    }
   ],
   "source": [
    "hs[hs['zmax']==hs['zmax'].min()]"
   ]
  },
  {
   "cell_type": "markdown",
   "id": "6566a4e0-2126-412c-92d5-7c51555e0021",
   "metadata": {},
   "source": [
    "How many solutions have several dark sectors?"
   ]
  },
  {
   "cell_type": "code",
   "execution_count": 114,
   "id": "93c144c2-50f6-4137-93b5-efdf3b3d1952",
   "metadata": {},
   "outputs": [
    {
     "data": {
      "text/plain": [
       "(96153, 7)"
      ]
     },
     "execution_count": 114,
     "metadata": {},
     "output_type": "execute_result"
    }
   ],
   "source": [
    "hs[hs['hidden'].apply(len)>1].shape"
   ]
  },
  {
   "cell_type": "code",
   "execution_count": 115,
   "id": "e75784a4-a5ff-417d-b1f8-93c6ce09d0a2",
   "metadata": {},
   "outputs": [
    {
     "data": {
      "text/plain": [
       "(96153, 7)"
      ]
     },
     "execution_count": 115,
     "metadata": {},
     "output_type": "execute_result"
    }
   ],
   "source": [
    "hs[hs['hidden'].apply(len)>2].shape"
   ]
  },
  {
   "cell_type": "code",
   "execution_count": 116,
   "id": "5735ac99-22ef-46d9-b2f1-21341d114e53",
   "metadata": {},
   "outputs": [
    {
     "data": {
      "text/plain": [
       "0                     [(-8, 9)]\n",
       "1                    [(-9, 10)]\n",
       "2           [(1, 1), (-18, 20)]\n",
       "3                     [(-4, 5)]\n",
       "4            [(1, -2), (5, -6)]\n",
       "                  ...          \n",
       "96148               [(17, -18)]\n",
       "96149    [(-13, 14), (11, -12)]\n",
       "96150    [(-12, 13), (19, -20)]\n",
       "96151      [(19, -20), (4, -5)]\n",
       "96152               [(19, -20)]\n",
       "Name: hidden, Length: 96153, dtype: object"
      ]
     },
     "execution_count": 116,
     "metadata": {},
     "output_type": "execute_result"
    }
   ],
   "source": [
    "hs['hidden'].str[0].str['ψ']"
   ]
  },
  {
   "cell_type": "markdown",
   "id": "63d71c30-93f2-435d-85b7-4f2b56dd9882",
   "metadata": {},
   "source": [
    "What is the minimum number of DM particles?"
   ]
  },
  {
   "cell_type": "code",
   "execution_count": 117,
   "id": "f90a1121-cd03-4a50-9f31-8acc2224d079",
   "metadata": {},
   "outputs": [
    {
     "data": {
      "text/plain": [
       "1"
      ]
     },
     "execution_count": 117,
     "metadata": {},
     "output_type": "execute_result"
    }
   ],
   "source": [
    "hs['hidden'].str[0].str['ψ'].apply(len).min()"
   ]
  },
  {
   "cell_type": "markdown",
   "id": "a9c54102-7f18-4721-8f47-6bd1e3df41cd",
   "metadata": {},
   "source": [
    "What is the minimum number of DM particles?"
   ]
  },
  {
   "cell_type": "code",
   "execution_count": 118,
   "id": "d816fd8e-1c0c-4958-84b5-764954e81cb9",
   "metadata": {},
   "outputs": [
    {
     "data": {
      "text/plain": [
       "1"
      ]
     },
     "execution_count": 118,
     "metadata": {},
     "output_type": "execute_result"
    }
   ],
   "source": [
    "hs['hidden'].str[-1].str['ψ'].apply(len).min()"
   ]
  },
  {
   "cell_type": "code",
   "execution_count": 119,
   "id": "ac41d6fc-ee19-4c3d-9439-4a3c10bdbbb1",
   "metadata": {},
   "outputs": [
    {
     "data": {
      "text/plain": [
       "1773    {'S': 36, 'ψ': [(18, 18)], 0: [2, 11, -17, 16, -14, -13]}\n",
       "Name: hidden, dtype: object"
      ]
     },
     "execution_count": 119,
     "metadata": {},
     "output_type": "execute_result"
    }
   ],
   "source": [
    "hs.loc[[1773]]['hidden'].str[-1]"
   ]
  },
  {
   "cell_type": "code",
   "execution_count": 120,
   "id": "176f2501-f3fa-4340-ba78-5edf901e5405",
   "metadata": {},
   "outputs": [
    {
     "data": {
      "text/plain": [
       "1773    {'S': 1, 'ψ': [(16, -17), (-17, 18)], 0: [-14, 2, 11, -13]}\n",
       "Name: hidden, dtype: object"
      ]
     },
     "execution_count": 120,
     "metadata": {},
     "output_type": "execute_result"
    }
   ],
   "source": [
    "hs.loc[[1773]]['hidden'].str[0]"
   ]
  },
  {
   "cell_type": "code",
   "execution_count": 121,
   "id": "51828aa5-0dbd-4c5a-be8d-5c41403dac63",
   "metadata": {},
   "outputs": [
    {
     "data": {
      "text/plain": [
       "(22521, 7)"
      ]
     },
     "execution_count": 121,
     "metadata": {},
     "output_type": "execute_result"
    }
   ],
   "source": [
    "hs[(hs['hidden'].str[0].str['ψ'].apply(len)==3)].shape"
   ]
  },
  {
   "cell_type": "markdown",
   "id": "f352f492-9ee7-4771-b7bb-5e7907219419",
   "metadata": {},
   "source": [
    "to capture the cases with until with two dark sectors:"
   ]
  },
  {
   "cell_type": "code",
   "execution_count": 144,
   "id": "d724236a-0e1b-46e6-9bb2-b625f7bf92db",
   "metadata": {},
   "outputs": [
    {
     "data": {
      "text/html": [
       "<div>\n",
       "<style scoped>\n",
       "    .dataframe tbody tr th:only-of-type {\n",
       "        vertical-align: middle;\n",
       "    }\n",
       "\n",
       "    .dataframe tbody tr th {\n",
       "        vertical-align: top;\n",
       "    }\n",
       "\n",
       "    .dataframe thead th {\n",
       "        text-align: right;\n",
       "    }\n",
       "</style>\n",
       "<table border=\"1\" class=\"dataframe\">\n",
       "  <thead>\n",
       "    <tr style=\"text-align: right;\">\n",
       "      <th></th>\n",
       "      <th>l</th>\n",
       "      <th>k</th>\n",
       "      <th>solution</th>\n",
       "      <th>gcd</th>\n",
       "      <th>n</th>\n",
       "      <th>zmax</th>\n",
       "      <th>hidden</th>\n",
       "    </tr>\n",
       "  </thead>\n",
       "  <tbody>\n",
       "  </tbody>\n",
       "</table>\n",
       "</div>"
      ],
      "text/plain": [
       "Empty DataFrame\n",
       "Columns: [l, k, solution, gcd, n, zmax, hidden]\n",
       "Index: []"
      ]
     },
     "execution_count": 144,
     "metadata": {},
     "output_type": "execute_result"
    }
   ],
   "source": [
    "hs[ (hs['hidden'].str[0].str['ψ'].apply(len)==1) & ((hs['hidden'].str[0].str[0].apply(len)==1))]"
   ]
  },
  {
   "cell_type": "markdown",
   "id": "91f9314c-25e8-4a6f-a40d-07c511916046",
   "metadata": {},
   "source": [
    "What is the maximum number of DM particles?"
   ]
  },
  {
   "cell_type": "code",
   "execution_count": 166,
   "id": "8b9b104a-4951-4aa3-8dd2-603b1c09790f",
   "metadata": {},
   "outputs": [],
   "source": [
    "hhs= hs[:2]"
   ]
  },
  {
   "cell_type": "code",
   "execution_count": null,
   "id": "c9dc9a07-df74-43eb-a77d-ab7e815b7a42",
   "metadata": {},
   "outputs": [],
   "source": []
  },
  {
   "cell_type": "code",
   "execution_count": 186,
   "id": "eb9da1c3-a0c7-443e-b045-dc4043eb2d3e",
   "metadata": {},
   "outputs": [
    {
     "data": {
      "text/plain": [
       "[{'S': 1, 'ψ': [(-9, 10)], 0: [-7, 2, 4]},\n",
       " {'S': 3, 'ψ': [(4, -7), (-7, 10)], 0: [2, -9]},\n",
       " {'S': 4, 'ψ': [(2, 2)], 0: [-7, 10, 4, -9]},\n",
       " {'S': 5, 'ψ': [(2, -7), (4, -9)], 0: [10]},\n",
       " {'S': 6, 'ψ': [(2, 4)], 0: [-7, 10, -9]},\n",
       " {'S': 7, 'ψ': [(2, -9)], 0: [-7, 10, 4]},\n",
       " {'S': 8, 'ψ': [(4, 4)], 0: [-7, 2, 10, -9]},\n",
       " {'S': 12, 'ψ': [(2, 10)], 0: [-7, 4, -9]},\n",
       " {'S': 14, 'ψ': [(4, 10), (-7, -7)], 0: [2, -9]},\n",
       " {'S': 16, 'ψ': [(-7, -9)], 0: [2, 10, 4]},\n",
       " {'S': 18, 'ψ': [(-9, -9)], 0: [-7, 2, 10, 4]},\n",
       " {'S': 20, 'ψ': [(10, 10)], 0: [-7, 2, 4, -9]}]"
      ]
     },
     "execution_count": 186,
     "metadata": {},
     "output_type": "execute_result"
    }
   ],
   "source": [
    "kk=hs[hs['hidden'].apply(lambda L: [d for d in L if len(d.get('ψ')) == 2 ]).apply(\n",
    "                    lambda L: [d for d in L if len(d.get(0)) == 1 ]).apply(len)>0]\n",
    "kk.hidden.iloc[0]"
   ]
  },
  {
   "cell_type": "code",
   "execution_count": 187,
   "id": "d8f7ddfe-27df-49b4-9ba0-1c83f89b9f2f",
   "metadata": {},
   "outputs": [
    {
     "data": {
      "text/plain": [
       "[2, 4, -7, -9, 10]"
      ]
     },
     "execution_count": 187,
     "metadata": {},
     "output_type": "execute_result"
    }
   ],
   "source": [
    "kk.solution.iloc[0]"
   ]
  },
  {
   "cell_type": "markdown",
   "id": "0fb5009f-4d2b-4b64-aeeb-3a35b78e994c",
   "metadata": {},
   "source": [
    "What is the maximum number of DM particles?"
   ]
  },
  {
   "cell_type": "code",
   "execution_count": 36,
   "id": "390eb608-8015-4279-a89b-0f15887bd865",
   "metadata": {},
   "outputs": [
    {
     "data": {
      "text/plain": [
       "9"
      ]
     },
     "execution_count": 36,
     "metadata": {},
     "output_type": "execute_result"
    }
   ],
   "source": [
    "hs['hidden'].str[-1].str['ψ'].apply(len).max()"
   ]
  },
  {
   "cell_type": "code",
   "execution_count": 37,
   "id": "0b047680-0569-464d-a26e-47bb07a3b01e",
   "metadata": {},
   "outputs": [
    {
     "data": {
      "text/html": [
       "<div>\n",
       "<style scoped>\n",
       "    .dataframe tbody tr th:only-of-type {\n",
       "        vertical-align: middle;\n",
       "    }\n",
       "\n",
       "    .dataframe tbody tr th {\n",
       "        vertical-align: top;\n",
       "    }\n",
       "\n",
       "    .dataframe thead th {\n",
       "        text-align: right;\n",
       "    }\n",
       "</style>\n",
       "<table border=\"1\" class=\"dataframe\">\n",
       "  <thead>\n",
       "    <tr style=\"text-align: right;\">\n",
       "      <th></th>\n",
       "      <th>l</th>\n",
       "      <th>k</th>\n",
       "      <th>solution</th>\n",
       "      <th>gcd</th>\n",
       "      <th>n</th>\n",
       "      <th>zmax</th>\n",
       "      <th>hidden</th>\n",
       "    </tr>\n",
       "  </thead>\n",
       "  <tbody>\n",
       "    <tr>\n",
       "      <th>552</th>\n",
       "      <td>[1, -2, 1, -2, 3]</td>\n",
       "      <td>[3, -3, 2, -2, 1]</td>\n",
       "      <td>[1, 1, 2, 3, -5, -6, -6, -7, 9, 10, 11, -13]</td>\n",
       "      <td>4</td>\n",
       "      <td>12</td>\n",
       "      <td>13</td>\n",
       "      <td>[{'S': 4, 'ψ': [(9, -13), (-5, 9), (-6, 10), (2, 2), (1, 3), (-7, 11), (3, -7), (1, -5), (2, -6)]}, {'S': 12, 'ψ': [(-5, -7), (3, 9), (-6, -6), (1, -13), (1, 11), (2, 10)]}]</td>\n",
       "    </tr>\n",
       "  </tbody>\n",
       "</table>\n",
       "</div>"
      ],
      "text/plain": [
       "                     l                  k  \\\n",
       "552  [1, -2, 1, -2, 3]  [3, -3, 2, -2, 1]   \n",
       "\n",
       "                                         solution  gcd   n  zmax  \\\n",
       "552  [1, 1, 2, 3, -5, -6, -6, -7, 9, 10, 11, -13]    4  12    13   \n",
       "\n",
       "                                                                                                                                                                            hidden  \n",
       "552  [{'S': 4, 'ψ': [(9, -13), (-5, 9), (-6, 10), (2, 2), (1, 3), (-7, 11), (3, -7), (1, -5), (2, -6)]}, {'S': 12, 'ψ': [(-5, -7), (3, 9), (-6, -6), (1, -13), (1, 11), (2, 10)]}]  "
      ]
     },
     "execution_count": 37,
     "metadata": {},
     "output_type": "execute_result"
    }
   ],
   "source": [
    "hs[(hs['hidden'].str[0].str['ψ'].apply(len)==9)][:1]"
   ]
  },
  {
   "cell_type": "markdown",
   "id": "925b2ba5-f394-42b3-adf4-5a62b965c10b",
   "metadata": {},
   "source": [
    "What is the minimum number of _independent_ DM particles?"
   ]
  },
  {
   "cell_type": "code",
   "execution_count": 38,
   "id": "31b4ced5-3255-41d2-bf03-3aab175d4c77",
   "metadata": {},
   "outputs": [],
   "source": [
    "lst=[{'S': 3, 'ψ': [(-17, 20), (-23, 20), (14, -17)]}]\n",
    "def intersections(lst,mask=True):\n",
    "    lstc=lst.copy()\n",
    "    lenmax=float('inf')\n",
    "    for d in lst:\n",
    "        for p in d.get('ψ'):\n",
    "            dd=d.get('ψ').copy()\n",
    "            dd.remove(p)\n",
    "            [dd.remove(q) for q in dd.copy() if set(p).intersection(set(q))]\n",
    "            if len(dd) < lenmax:\n",
    "                ddd=dd.copy()\n",
    "                lenmax=len(dd)\n",
    "                \n",
    "            if mask and not dd:\n",
    "                return True\n",
    "    if mask:        \n",
    "        return False\n",
    "    return ddd\n",
    "\n",
    "assert intersections([{'S': 3, 'ψ': [(-17, 20), (-23, 20), (14, -17)]}])\n",
    "assert not intersections([{'S': 3, 'ψ': [(-17, 20), (-7, 20), (14, -17), (2,5)]}])"
   ]
  },
  {
   "cell_type": "markdown",
   "id": "a8f02157-f1d3-4c7b-b5af-6b4bd75e41dc",
   "metadata": {},
   "source": [
    "One excluded:"
   ]
  },
  {
   "cell_type": "code",
   "execution_count": 42,
   "id": "31e437d5-7598-4958-aac4-2f35805e2b35",
   "metadata": {},
   "outputs": [
    {
     "data": {
      "text/html": [
       "<div>\n",
       "<style scoped>\n",
       "    .dataframe tbody tr th:only-of-type {\n",
       "        vertical-align: middle;\n",
       "    }\n",
       "\n",
       "    .dataframe tbody tr th {\n",
       "        vertical-align: top;\n",
       "    }\n",
       "\n",
       "    .dataframe thead th {\n",
       "        text-align: right;\n",
       "    }\n",
       "</style>\n",
       "<table border=\"1\" class=\"dataframe\">\n",
       "  <thead>\n",
       "    <tr style=\"text-align: right;\">\n",
       "      <th></th>\n",
       "      <th>l</th>\n",
       "      <th>k</th>\n",
       "      <th>solution</th>\n",
       "      <th>gcd</th>\n",
       "      <th>n</th>\n",
       "      <th>zmax</th>\n",
       "      <th>hidden</th>\n",
       "      <th>~intersections</th>\n",
       "    </tr>\n",
       "  </thead>\n",
       "  <tbody>\n",
       "  </tbody>\n",
       "</table>\n",
       "</div>"
      ],
      "text/plain": [
       "Empty DataFrame\n",
       "Columns: [l, k, solution, gcd, n, zmax, hidden, ~intersections]\n",
       "Index: []"
      ]
     },
     "execution_count": 42,
     "metadata": {},
     "output_type": "execute_result"
    }
   ],
   "source": [
    "hs[hs['hidden'].apply(intersections)]"
   ]
  },
  {
   "cell_type": "markdown",
   "id": "05dee240-3d40-4abf-8e68-54b4e00dc123",
   "metadata": {},
   "source": [
    "The minimum is..."
   ]
  },
  {
   "cell_type": "code",
   "execution_count": 40,
   "id": "b5391220-1d9d-4212-83bb-1b9df0e2fbe8",
   "metadata": {},
   "outputs": [
    {
     "data": {
      "text/html": [
       "<div>\n",
       "<style scoped>\n",
       "    .dataframe tbody tr th:only-of-type {\n",
       "        vertical-align: middle;\n",
       "    }\n",
       "\n",
       "    .dataframe tbody tr th {\n",
       "        vertical-align: top;\n",
       "    }\n",
       "\n",
       "    .dataframe thead th {\n",
       "        text-align: right;\n",
       "    }\n",
       "</style>\n",
       "<table border=\"1\" class=\"dataframe\">\n",
       "  <thead>\n",
       "    <tr style=\"text-align: right;\">\n",
       "      <th></th>\n",
       "      <th>l</th>\n",
       "      <th>k</th>\n",
       "      <th>solution</th>\n",
       "      <th>gcd</th>\n",
       "      <th>n</th>\n",
       "      <th>zmax</th>\n",
       "      <th>hidden</th>\n",
       "      <th>~intersections</th>\n",
       "    </tr>\n",
       "  </thead>\n",
       "  <tbody>\n",
       "    <tr>\n",
       "      <th>4</th>\n",
       "      <td>[2, -2, 1]</td>\n",
       "      <td>[2, 1, 2]</td>\n",
       "      <td>[1, 2, 2, 4, -5, -5, -7, 8]</td>\n",
       "      <td>4</td>\n",
       "      <td>8</td>\n",
       "      <td>8</td>\n",
       "      <td>[{'S': 3, 'ψ': [(4, -7), (-5, 8), (2, -5), (1, 2)]}]</td>\n",
       "      <td>[(4, -7)]</td>\n",
       "    </tr>\n",
       "    <tr>\n",
       "      <th>208</th>\n",
       "      <td>[3, 0, 3]</td>\n",
       "      <td>[3, -3, 1]</td>\n",
       "      <td>[5, -9, -11, -11, 15, 15, 15, -19]</td>\n",
       "      <td>18</td>\n",
       "      <td>8</td>\n",
       "      <td>19</td>\n",
       "      <td>[{'S': 4, 'ψ': [(-11, 15), (5, -9), (15, -19)]}]</td>\n",
       "      <td>[(5, -9)]</td>\n",
       "    </tr>\n",
       "    <tr>\n",
       "      <th>154</th>\n",
       "      <td>[-1, 1, -1]</td>\n",
       "      <td>[-5, -1, -5]</td>\n",
       "      <td>[1, 5, 7, 7, -11, -13, -13, 17]</td>\n",
       "      <td>6</td>\n",
       "      <td>8</td>\n",
       "      <td>17</td>\n",
       "      <td>[{'S': 6, 'ψ': [(5, -11), (-11, 17), (1, 5), (7, -13)]}]</td>\n",
       "      <td>[(7, -13)]</td>\n",
       "    </tr>\n",
       "    <tr>\n",
       "      <th>120</th>\n",
       "      <td>[-2, 0, -2]</td>\n",
       "      <td>[-2, 2, -1]</td>\n",
       "      <td>[7, -10, -11, -11, 14, 14, 14, -17]</td>\n",
       "      <td>4</td>\n",
       "      <td>8</td>\n",
       "      <td>17</td>\n",
       "      <td>[{'S': 3, 'ψ': [(-11, 14), (7, -10), (14, -17)]}]</td>\n",
       "      <td>[(7, -10)]</td>\n",
       "    </tr>\n",
       "    <tr>\n",
       "      <th>103</th>\n",
       "      <td>[-1, 0, 1]</td>\n",
       "      <td>[-1, 1, 4]</td>\n",
       "      <td>[1, 1, 1, -4, -11, 14, 14, -16]</td>\n",
       "      <td>1</td>\n",
       "      <td>8</td>\n",
       "      <td>16</td>\n",
       "      <td>[{'S': 15, 'ψ': [(1, 14), (1, -16), (-4, -11)]}]</td>\n",
       "      <td>[(-4, -11)]</td>\n",
       "    </tr>\n",
       "    <tr>\n",
       "      <th>67</th>\n",
       "      <td>[2, 0, -2]</td>\n",
       "      <td>[2, -2, -3]</td>\n",
       "      <td>[1, -6, -6, -6, 9, 11, 11, -14]</td>\n",
       "      <td>4</td>\n",
       "      <td>8</td>\n",
       "      <td>14</td>\n",
       "      <td>[{'S': 5, 'ψ': [(-6, 11), (9, -14), (1, -6)]}]</td>\n",
       "      <td>[(9, -14)]</td>\n",
       "    </tr>\n",
       "    <tr>\n",
       "      <th>218</th>\n",
       "      <td>[2, 4, -2]</td>\n",
       "      <td>[2, 3, 2]</td>\n",
       "      <td>[4, -9, -9, -11, 14, 14, 16, -19]</td>\n",
       "      <td>4</td>\n",
       "      <td>8</td>\n",
       "      <td>19</td>\n",
       "      <td>[{'S': 5, 'ψ': [(-9, 14), (-11, 16), (14, -19), (4, -9)]}]</td>\n",
       "      <td>[(-11, 16)]</td>\n",
       "    </tr>\n",
       "    <tr>\n",
       "      <th>39</th>\n",
       "      <td>[1, 2, 1]</td>\n",
       "      <td>[1, -3, 1]</td>\n",
       "      <td>[1, -5, -5, -7, 9, 9, 11, -13]</td>\n",
       "      <td>2</td>\n",
       "      <td>8</td>\n",
       "      <td>13</td>\n",
       "      <td>[{'S': 4, 'ψ': [(9, -13), (-5, 9), (-7, 11), (1, -5)]}]</td>\n",
       "      <td>[(-7, 11)]</td>\n",
       "    </tr>\n",
       "    <tr>\n",
       "      <th>36</th>\n",
       "      <td>[-2, 0, -2]</td>\n",
       "      <td>[-2, 2, 1]</td>\n",
       "      <td>[2, -5, -7, -7, 10, 10, 10, -13]</td>\n",
       "      <td>4</td>\n",
       "      <td>8</td>\n",
       "      <td>13</td>\n",
       "      <td>[{'S': 3, 'ψ': [(-7, 10), (10, -13), (2, -5)]}]</td>\n",
       "      <td>[(2, -5)]</td>\n",
       "    </tr>\n",
       "    <tr>\n",
       "      <th>35</th>\n",
       "      <td>[-1, -2, -1]</td>\n",
       "      <td>[-1, 2, -1]</td>\n",
       "      <td>[4, -7, -7, -8, 10, 10, 11, -13]</td>\n",
       "      <td>1</td>\n",
       "      <td>8</td>\n",
       "      <td>13</td>\n",
       "      <td>[{'S': 3, 'ψ': [(4, -7), (10, -13), (-7, 10), (-8, 11)]}]</td>\n",
       "      <td>[(-8, 11)]</td>\n",
       "    </tr>\n",
       "    <tr>\n",
       "      <th>12</th>\n",
       "      <td>[2, 0, -2]</td>\n",
       "      <td>[1, -1, 1]</td>\n",
       "      <td>[2, -5, -5, -5, 7, 8, 8, -10]</td>\n",
       "      <td>4</td>\n",
       "      <td>8</td>\n",
       "      <td>10</td>\n",
       "      <td>[{'S': 3, 'ψ': [(7, -10), (-5, 8), (2, -5)]}]</td>\n",
       "      <td>[(7, -10)]</td>\n",
       "    </tr>\n",
       "    <tr>\n",
       "      <th>9</th>\n",
       "      <td>[1, -1, -3]</td>\n",
       "      <td>[3, 1, -3]</td>\n",
       "      <td>[1, 3, 3, 3, -5, -7, -7, 9]</td>\n",
       "      <td>4</td>\n",
       "      <td>8</td>\n",
       "      <td>9</td>\n",
       "      <td>[{'S': 4, 'ψ': [(1, -5), (-5, 9), (3, -7), (1, 3)]}]</td>\n",
       "      <td>[(3, -7)]</td>\n",
       "    </tr>\n",
       "    <tr>\n",
       "      <th>42</th>\n",
       "      <td>[1, -2, 3]</td>\n",
       "      <td>[1, -3, 1]</td>\n",
       "      <td>[1, 1, 1, -5, -7, 11, 11, -13]</td>\n",
       "      <td>6</td>\n",
       "      <td>8</td>\n",
       "      <td>13</td>\n",
       "      <td>[{'S': 12, 'ψ': [(1, 11), (-5, -7), (1, -13)]}]</td>\n",
       "      <td>[(-5, -7)]</td>\n",
       "    </tr>\n",
       "    <tr>\n",
       "      <th>1161</th>\n",
       "      <td>[-1, 0, 1, -1, -3]</td>\n",
       "      <td>[3, -5, 5, -3, -5]</td>\n",
       "      <td>[3, -7, -9, -9, -9, 11, 11, 13, 13, 13, -15, -15]</td>\n",
       "      <td>12</td>\n",
       "      <td>12</td>\n",
       "      <td>15</td>\n",
       "      <td>[{'S': 4, 'ψ': [(-7, 11), (-9, 13), (3, -7), (11, -15)]}]</td>\n",
       "      <td>[(-9, 13)]</td>\n",
       "    </tr>\n",
       "    <tr>\n",
       "      <th>1169</th>\n",
       "      <td>[-7, -6, 5, 4, 2]</td>\n",
       "      <td>[-7, -3, -1, 3, -7]</td>\n",
       "      <td>[3, 5, -7, -7, -7, -7, -9, 11, 11, 11, 11, -15]</td>\n",
       "      <td>264</td>\n",
       "      <td>12</td>\n",
       "      <td>15</td>\n",
       "      <td>[{'S': 4, 'ψ': [(-7, 11), (5, -9), (3, -7), (11, -15)]}]</td>\n",
       "      <td>[(5, -9)]</td>\n",
       "    </tr>\n",
       "    <tr>\n",
       "      <th>1436</th>\n",
       "      <td>[2, 4, 2, 4, 2]</td>\n",
       "      <td>[4, -1, 4, -1, 4]</td>\n",
       "      <td>[7, 7, -8, -10, -10, -10, -10, 11, 13, 13, 13, -16]</td>\n",
       "      <td>24</td>\n",
       "      <td>12</td>\n",
       "      <td>16</td>\n",
       "      <td>[{'S': 3, 'ψ': [(-10, 13), (13, -16), (7, -10), (-8, 11)]}]</td>\n",
       "      <td>[(-8, 11)]</td>\n",
       "    </tr>\n",
       "    <tr>\n",
       "      <th>1462</th>\n",
       "      <td>[4, -2, 4, -2, 4]</td>\n",
       "      <td>[1, 3, -2, 3, -2]</td>\n",
       "      <td>[1, 4, 4, 4, -9, -9, -9, -9, 11, 14, 14, -16]</td>\n",
       "      <td>40</td>\n",
       "      <td>12</td>\n",
       "      <td>16</td>\n",
       "      <td>[{'S': 5, 'ψ': [(11, -16), (-9, 14), (1, 4), (4, -9)]}]</td>\n",
       "      <td>[(11, -16)]</td>\n",
       "    </tr>\n",
       "    <tr>\n",
       "      <th>1569</th>\n",
       "      <td>[-2, -4, 2, 0, -2]</td>\n",
       "      <td>[4, -5, -2, -4, -2]</td>\n",
       "      <td>[2, 2, -4, -4, -4, 7, -11, -11, 13, 13, 13, -16]</td>\n",
       "      <td>20</td>\n",
       "      <td>12</td>\n",
       "      <td>16</td>\n",
       "      <td>[{'S': 9, 'ψ': [(-4, 13), (2, -11), (2, 7), (7, -16)]}]</td>\n",
       "      <td>[(-4, 13)]</td>\n",
       "    </tr>\n",
       "    <tr>\n",
       "      <th>2048</th>\n",
       "      <td>[4, 0, 4, -2, 4]</td>\n",
       "      <td>[-1, -4, -1, 3, -1]</td>\n",
       "      <td>[1, 1, -4, -4, -4, 8, -10, -10, 13, 13, 13, -17]</td>\n",
       "      <td>48</td>\n",
       "      <td>12</td>\n",
       "      <td>17</td>\n",
       "      <td>[{'S': 9, 'ψ': [(-4, 13), (1, -10), (1, 8), (8, -17)]}]</td>\n",
       "      <td>[(-4, 13)]</td>\n",
       "    </tr>\n",
       "    <tr>\n",
       "      <th>1964</th>\n",
       "      <td>[-4, -1, -3, -1, 3]</td>\n",
       "      <td>[-4, 2, -4, 2, -4]</td>\n",
       "      <td>[8, 8, -10, -10, -11, -11, -11, 13, 13, 14, 14, -17]</td>\n",
       "      <td>60</td>\n",
       "      <td>12</td>\n",
       "      <td>17</td>\n",
       "      <td>[{'S': 3, 'ψ': [(-11, 14), (-10, 13), (8, -11), (14, -17)]}]</td>\n",
       "      <td>[(-10, 13)]</td>\n",
       "    </tr>\n",
       "    <tr>\n",
       "      <th>2058</th>\n",
       "      <td>[1, 0, 3, 0, -1]</td>\n",
       "      <td>[1, 4, 1, -1, -4]</td>\n",
       "      <td>[2, 2, 2, 2, -7, -7, -8, -8, 13, 13, 13, -17]</td>\n",
       "      <td>6</td>\n",
       "      <td>12</td>\n",
       "      <td>17</td>\n",
       "      <td>[{'S': 15, 'ψ': [(2, 13), (2, -17), (-7, -8)]}]</td>\n",
       "      <td>[(-7, -8)]</td>\n",
       "    </tr>\n",
       "    <tr>\n",
       "      <th>2152</th>\n",
       "      <td>[1, -2, 2, 0, 2]</td>\n",
       "      <td>[1, -3, 5, -1, 5]</td>\n",
       "      <td>[1, 1, 1, 5, 5, 7, 7, -9, -9, -13, -13, 17]</td>\n",
       "      <td>20</td>\n",
       "      <td>12</td>\n",
       "      <td>17</td>\n",
       "      <td>[{'S': 8, 'ψ': [(1, -9), (-9, 17), (5, -13), (1, 7)]}]</td>\n",
       "      <td>[(5, -13)]</td>\n",
       "    </tr>\n",
       "    <tr>\n",
       "      <th>2162</th>\n",
       "      <td>[3, 0, 3, 6, -3]</td>\n",
       "      <td>[3, -3, 3, 1, 3]</td>\n",
       "      <td>[5, 5, -7, -9, -9, -9, -9, 11, 13, 13, 13, -17]</td>\n",
       "      <td>18</td>\n",
       "      <td>12</td>\n",
       "      <td>17</td>\n",
       "      <td>[{'S': 4, 'ψ': [(-7, 11), (5, -9), (13, -17), (-9, 13)]}]</td>\n",
       "      <td>[(-7, 11)]</td>\n",
       "    </tr>\n",
       "    <tr>\n",
       "      <th>1157</th>\n",
       "      <td>[3, 2, -1, -2, -3]</td>\n",
       "      <td>[3, 4, 3, -3, -4]</td>\n",
       "      <td>[1, 6, 6, 6, 6, -8, -8, -13, -13, -13, 15, 15]</td>\n",
       "      <td>2</td>\n",
       "      <td>12</td>\n",
       "      <td>15</td>\n",
       "      <td>[{'S': 7, 'ψ': [(1, -8), (-8, 15), (6, -13), (1, 6)]}]</td>\n",
       "      <td>[(6, -13)]</td>\n",
       "    </tr>\n",
       "    <tr>\n",
       "      <th>1819</th>\n",
       "      <td>[-3, 0, -3, 0, -3]</td>\n",
       "      <td>[-3, -2, -3, -2, -3]</td>\n",
       "      <td>[3, 3, -7, -7, -7, -8, -8, 12, 12, 12, 12, -17]</td>\n",
       "      <td>18</td>\n",
       "      <td>12</td>\n",
       "      <td>17</td>\n",
       "      <td>[{'S': 5, 'ψ': [(12, -17), (-7, 12), (3, -8)]}]</td>\n",
       "      <td>[(3, -8)]</td>\n",
       "    </tr>\n",
       "    <tr>\n",
       "      <th>987</th>\n",
       "      <td>[-1, 1, 3, -3, -2]</td>\n",
       "      <td>[-1, 3, 1, -3, -1]</td>\n",
       "      <td>[1, 1, 1, -5, -5, 7, 7, -9, -9, 13, 13, -15]</td>\n",
       "      <td>8</td>\n",
       "      <td>12</td>\n",
       "      <td>15</td>\n",
       "      <td>[{'S': 8, 'ψ': [(1, -9), (7, -15), (-5, 13), (1, 7)]}, {'S': 14, 'ψ': [(-5, -9), (1, -15), (7, 7), (1, 13)]}]</td>\n",
       "      <td>[(-5, 13)]</td>\n",
       "    </tr>\n",
       "    <tr>\n",
       "      <th>422</th>\n",
       "      <td>[1, 2, 1, 2, 1]</td>\n",
       "      <td>[1, -1, -3, -1, 3]</td>\n",
       "      <td>[1, 1, 1, 3, -5, -5, -5, -5, 7, 9, 9, -11]</td>\n",
       "      <td>4</td>\n",
       "      <td>12</td>\n",
       "      <td>11</td>\n",
       "      <td>[{'S': 4, 'ψ': [(-5, 9), (7, -11), (1, 3), (1, -5)]}, {'S': 10, 'ψ': [(3, 7), (1, 9), (-5, -5), (1, -11)]}]</td>\n",
       "      <td>[(7, -11)]</td>\n",
       "    </tr>\n",
       "    <tr>\n",
       "      <th>681</th>\n",
       "      <td>[1, 2, 1, 2, 1]</td>\n",
       "      <td>[1, -2, 1, -2, 1]</td>\n",
       "      <td>[5, -8, -8, -10, -10, 11, 11, 11, 13, 13, -14, -14]</td>\n",
       "      <td>2</td>\n",
       "      <td>12</td>\n",
       "      <td>14</td>\n",
       "      <td>[{'S': 3, 'ψ': [(5, -8), (-10, 13), (11, -14), (-8, 11)]}]</td>\n",
       "      <td>[(-10, 13)]</td>\n",
       "    </tr>\n",
       "    <tr>\n",
       "      <th>673</th>\n",
       "      <td>[-2, 0, -2, 0, -2]</td>\n",
       "      <td>[-1, 1, -1, 1, -1]</td>\n",
       "      <td>[4, 4, -7, -7, -7, -7, -7, 10, 10, 10, 11, -14]</td>\n",
       "      <td>4</td>\n",
       "      <td>12</td>\n",
       "      <td>14</td>\n",
       "      <td>[{'S': 3, 'ψ': [(4, -7), (-7, 10), (11, -14)]}]</td>\n",
       "      <td>[(11, -14)]</td>\n",
       "    </tr>\n",
       "    <tr>\n",
       "      <th>527</th>\n",
       "      <td>[2, 0, 2, 0, -2]</td>\n",
       "      <td>[1, -2, 1, -2, 2]</td>\n",
       "      <td>[5, 5, -7, -7, -7, -8, -8, 10, 10, 10, 10, -13]</td>\n",
       "      <td>8</td>\n",
       "      <td>12</td>\n",
       "      <td>13</td>\n",
       "      <td>[{'S': 3, 'ψ': [(5, -8), (-7, 10), (10, -13)]}]</td>\n",
       "      <td>[(5, -8)]</td>\n",
       "    </tr>\n",
       "    <tr>\n",
       "      <th>459</th>\n",
       "      <td>[-2, 3, -2, 0, -2]</td>\n",
       "      <td>[-3, 2, -3, 2, -3]</td>\n",
       "      <td>[2, 2, 3, 3, 3, 3, 3, -7, -8, -8, -8, 12]</td>\n",
       "      <td>15</td>\n",
       "      <td>12</td>\n",
       "      <td>12</td>\n",
       "      <td>[{'S': 5, 'ψ': [(2, 3), (2, -7), (-7, 12), (3, -8)]}]</td>\n",
       "      <td>[(-7, 12)]</td>\n",
       "    </tr>\n",
       "    <tr>\n",
       "      <th>2670</th>\n",
       "      <td>[4, 2, -2, -4, 4]</td>\n",
       "      <td>[3, 4, -3, -4, 3]</td>\n",
       "      <td>[3, 4, 4, 10, 10, -11, -11, -11, -17, -17, 18, 18]</td>\n",
       "      <td>16</td>\n",
       "      <td>12</td>\n",
       "      <td>18</td>\n",
       "      <td>[{'S': 7, 'ψ': [(3, 4), (4, -11), (10, -17), (-11, 18)]}]</td>\n",
       "      <td>[(10, -17)]</td>\n",
       "    </tr>\n",
       "    <tr>\n",
       "      <th>377</th>\n",
       "      <td>[1, 2, 1, 0, -1]</td>\n",
       "      <td>[1, 2, 1, -1, 1]</td>\n",
       "      <td>[1, -4, -4, -4, 7, 7, 7, 7, -8, -10, -10, 11]</td>\n",
       "      <td>1</td>\n",
       "      <td>12</td>\n",
       "      <td>11</td>\n",
       "      <td>[{'S': 3, 'ψ': [(-4, 7), (1, -4), (7, -10), (-8, 11)]}]</td>\n",
       "      <td>[(-8, 11)]</td>\n",
       "    </tr>\n",
       "    <tr>\n",
       "      <th>366</th>\n",
       "      <td>[-1, -2, -1, 0, 1]</td>\n",
       "      <td>[-1, 2, -1, 1, -1]</td>\n",
       "      <td>[2, 2, -4, -5, -5, -5, -5, 7, 8, 8, 8, -11]</td>\n",
       "      <td>1</td>\n",
       "      <td>12</td>\n",
       "      <td>11</td>\n",
       "      <td>[{'S': 3, 'ψ': [(-4, 7), (-5, 8), (2, -5), (8, -11)]}]</td>\n",
       "      <td>[(-4, 7)]</td>\n",
       "    </tr>\n",
       "    <tr>\n",
       "      <th>317</th>\n",
       "      <td>[1, -2, 0, -1, 1]</td>\n",
       "      <td>[-3, 1, -1, 1, 3]</td>\n",
       "      <td>[1, 1, 1, 1, -3, -3, -5, -5, 7, 7, 7, -9]</td>\n",
       "      <td>6</td>\n",
       "      <td>12</td>\n",
       "      <td>9</td>\n",
       "      <td>[{'S': 2, 'ψ': [(-5, 7), (7, -9), (1, 1), (1, -3)]}, {'S': 8, 'ψ': [(1, 7), (1, -9), (-3, -5)]}]</td>\n",
       "      <td>[(-3, -5)]</td>\n",
       "    </tr>\n",
       "    <tr>\n",
       "      <th>304</th>\n",
       "      <td>[-2, 0, -2, 0, 2]</td>\n",
       "      <td>[-1, 1, -2, 1, -1]</td>\n",
       "      <td>[1, -4, -4, -4, -4, 5, 5, 7, 7, 7, -8, -8]</td>\n",
       "      <td>8</td>\n",
       "      <td>12</td>\n",
       "      <td>8</td>\n",
       "      <td>[{'S': 3, 'ψ': [(5, -8), (1, -4), (-4, 7)]}]</td>\n",
       "      <td>[(5, -8)]</td>\n",
       "    </tr>\n",
       "    <tr>\n",
       "      <th>299</th>\n",
       "      <td>[-1, 0, -1, 0, -1]</td>\n",
       "      <td>[2, -2, 2, -2, 2]</td>\n",
       "      <td>[2, -3, -5, -5, -5, 6, 6, 6, 6, 6, -7, -7]</td>\n",
       "      <td>3</td>\n",
       "      <td>12</td>\n",
       "      <td>7</td>\n",
       "      <td>[{'S': 1, 'ψ': [(6, -7), (2, -3), (-5, 6)]}]</td>\n",
       "      <td>[(2, -3)]</td>\n",
       "    </tr>\n",
       "    <tr>\n",
       "      <th>297</th>\n",
       "      <td>[2, -2, 2, -2, 2]</td>\n",
       "      <td>[1, 2, 1, -2, 1]</td>\n",
       "      <td>[1, 2, 3, 3, 3, -4, -4, -6, -6, -6, 7, 7]</td>\n",
       "      <td>12</td>\n",
       "      <td>12</td>\n",
       "      <td>7</td>\n",
       "      <td>[{'S': 3, 'ψ': [(-4, 7), (3, -6), (1, -4), (1, 2)]}]</td>\n",
       "      <td>[(3, -6)]</td>\n",
       "    </tr>\n",
       "    <tr>\n",
       "      <th>295</th>\n",
       "      <td>[-1, 0, -1, -2, -1]</td>\n",
       "      <td>[-2, 2, -2, 2, -1]</td>\n",
       "      <td>[1, 1, 1, 2, 2, 2, 2, -4, -4, -5, -5, 7]</td>\n",
       "      <td>2</td>\n",
       "      <td>12</td>\n",
       "      <td>7</td>\n",
       "      <td>[{'S': 3, 'ψ': [(1, -4), (1, 2), (-4, 7), (2, -5)]}]</td>\n",
       "      <td>[(2, -5)]</td>\n",
       "    </tr>\n",
       "    <tr>\n",
       "      <th>912</th>\n",
       "      <td>[3, 0, -3, 0, -3]</td>\n",
       "      <td>[3, -1, 1, -1, 1]</td>\n",
       "      <td>[3, 5, 5, 5, 5, -7, -7, -13, -13, -13, 15, 15]</td>\n",
       "      <td>18</td>\n",
       "      <td>12</td>\n",
       "      <td>15</td>\n",
       "      <td>[{'S': 8, 'ψ': [(-7, 15), (5, -13), (3, 5)]}]</td>\n",
       "      <td>[(-7, 15)]</td>\n",
       "    </tr>\n",
       "    <tr>\n",
       "      <th>3697</th>\n",
       "      <td>[1, 0, 1, 0, -1]</td>\n",
       "      <td>[1, -1, -4, -1, 1]</td>\n",
       "      <td>[1, 1, 1, 1, 1, -4, 14, 14, -16, -16, -16, 19]</td>\n",
       "      <td>1</td>\n",
       "      <td>12</td>\n",
       "      <td>19</td>\n",
       "      <td>[{'S': 15, 'ψ': [(1, 14), (-4, 19), (1, -16)]}]</td>\n",
       "      <td>[(-4, 19)]</td>\n",
       "    </tr>\n",
       "  </tbody>\n",
       "</table>\n",
       "</div>"
      ],
      "text/plain": [
       "                        l                     k  \\\n",
       "4              [2, -2, 1]             [2, 1, 2]   \n",
       "208             [3, 0, 3]            [3, -3, 1]   \n",
       "154           [-1, 1, -1]          [-5, -1, -5]   \n",
       "120           [-2, 0, -2]           [-2, 2, -1]   \n",
       "103            [-1, 0, 1]            [-1, 1, 4]   \n",
       "67             [2, 0, -2]           [2, -2, -3]   \n",
       "218            [2, 4, -2]             [2, 3, 2]   \n",
       "39              [1, 2, 1]            [1, -3, 1]   \n",
       "36            [-2, 0, -2]            [-2, 2, 1]   \n",
       "35           [-1, -2, -1]           [-1, 2, -1]   \n",
       "12             [2, 0, -2]            [1, -1, 1]   \n",
       "9             [1, -1, -3]            [3, 1, -3]   \n",
       "42             [1, -2, 3]            [1, -3, 1]   \n",
       "1161   [-1, 0, 1, -1, -3]    [3, -5, 5, -3, -5]   \n",
       "1169    [-7, -6, 5, 4, 2]   [-7, -3, -1, 3, -7]   \n",
       "1436      [2, 4, 2, 4, 2]     [4, -1, 4, -1, 4]   \n",
       "1462    [4, -2, 4, -2, 4]     [1, 3, -2, 3, -2]   \n",
       "1569   [-2, -4, 2, 0, -2]   [4, -5, -2, -4, -2]   \n",
       "2048     [4, 0, 4, -2, 4]   [-1, -4, -1, 3, -1]   \n",
       "1964  [-4, -1, -3, -1, 3]    [-4, 2, -4, 2, -4]   \n",
       "2058     [1, 0, 3, 0, -1]     [1, 4, 1, -1, -4]   \n",
       "2152     [1, -2, 2, 0, 2]     [1, -3, 5, -1, 5]   \n",
       "2162     [3, 0, 3, 6, -3]      [3, -3, 3, 1, 3]   \n",
       "1157   [3, 2, -1, -2, -3]     [3, 4, 3, -3, -4]   \n",
       "1819   [-3, 0, -3, 0, -3]  [-3, -2, -3, -2, -3]   \n",
       "987    [-1, 1, 3, -3, -2]    [-1, 3, 1, -3, -1]   \n",
       "422       [1, 2, 1, 2, 1]    [1, -1, -3, -1, 3]   \n",
       "681       [1, 2, 1, 2, 1]     [1, -2, 1, -2, 1]   \n",
       "673    [-2, 0, -2, 0, -2]    [-1, 1, -1, 1, -1]   \n",
       "527      [2, 0, 2, 0, -2]     [1, -2, 1, -2, 2]   \n",
       "459    [-2, 3, -2, 0, -2]    [-3, 2, -3, 2, -3]   \n",
       "2670    [4, 2, -2, -4, 4]     [3, 4, -3, -4, 3]   \n",
       "377      [1, 2, 1, 0, -1]      [1, 2, 1, -1, 1]   \n",
       "366    [-1, -2, -1, 0, 1]    [-1, 2, -1, 1, -1]   \n",
       "317     [1, -2, 0, -1, 1]     [-3, 1, -1, 1, 3]   \n",
       "304     [-2, 0, -2, 0, 2]    [-1, 1, -2, 1, -1]   \n",
       "299    [-1, 0, -1, 0, -1]     [2, -2, 2, -2, 2]   \n",
       "297     [2, -2, 2, -2, 2]      [1, 2, 1, -2, 1]   \n",
       "295   [-1, 0, -1, -2, -1]    [-2, 2, -2, 2, -1]   \n",
       "912     [3, 0, -3, 0, -3]     [3, -1, 1, -1, 1]   \n",
       "3697     [1, 0, 1, 0, -1]    [1, -1, -4, -1, 1]   \n",
       "\n",
       "                                                  solution  gcd   n  zmax  \\\n",
       "4                              [1, 2, 2, 4, -5, -5, -7, 8]    4   8     8   \n",
       "208                     [5, -9, -11, -11, 15, 15, 15, -19]   18   8    19   \n",
       "154                        [1, 5, 7, 7, -11, -13, -13, 17]    6   8    17   \n",
       "120                    [7, -10, -11, -11, 14, 14, 14, -17]    4   8    17   \n",
       "103                        [1, 1, 1, -4, -11, 14, 14, -16]    1   8    16   \n",
       "67                         [1, -6, -6, -6, 9, 11, 11, -14]    4   8    14   \n",
       "218                      [4, -9, -9, -11, 14, 14, 16, -19]    4   8    19   \n",
       "39                          [1, -5, -5, -7, 9, 9, 11, -13]    2   8    13   \n",
       "36                        [2, -5, -7, -7, 10, 10, 10, -13]    4   8    13   \n",
       "35                        [4, -7, -7, -8, 10, 10, 11, -13]    1   8    13   \n",
       "12                           [2, -5, -5, -5, 7, 8, 8, -10]    4   8    10   \n",
       "9                              [1, 3, 3, 3, -5, -7, -7, 9]    4   8     9   \n",
       "42                          [1, 1, 1, -5, -7, 11, 11, -13]    6   8    13   \n",
       "1161     [3, -7, -9, -9, -9, 11, 11, 13, 13, 13, -15, -15]   12  12    15   \n",
       "1169       [3, 5, -7, -7, -7, -7, -9, 11, 11, 11, 11, -15]  264  12    15   \n",
       "1436   [7, 7, -8, -10, -10, -10, -10, 11, 13, 13, 13, -16]   24  12    16   \n",
       "1462         [1, 4, 4, 4, -9, -9, -9, -9, 11, 14, 14, -16]   40  12    16   \n",
       "1569      [2, 2, -4, -4, -4, 7, -11, -11, 13, 13, 13, -16]   20  12    16   \n",
       "2048      [1, 1, -4, -4, -4, 8, -10, -10, 13, 13, 13, -17]   48  12    17   \n",
       "1964  [8, 8, -10, -10, -11, -11, -11, 13, 13, 14, 14, -17]   60  12    17   \n",
       "2058         [2, 2, 2, 2, -7, -7, -8, -8, 13, 13, 13, -17]    6  12    17   \n",
       "2152           [1, 1, 1, 5, 5, 7, 7, -9, -9, -13, -13, 17]   20  12    17   \n",
       "2162       [5, 5, -7, -9, -9, -9, -9, 11, 13, 13, 13, -17]   18  12    17   \n",
       "1157        [1, 6, 6, 6, 6, -8, -8, -13, -13, -13, 15, 15]    2  12    15   \n",
       "1819       [3, 3, -7, -7, -7, -8, -8, 12, 12, 12, 12, -17]   18  12    17   \n",
       "987           [1, 1, 1, -5, -5, 7, 7, -9, -9, 13, 13, -15]    8  12    15   \n",
       "422             [1, 1, 1, 3, -5, -5, -5, -5, 7, 9, 9, -11]    4  12    11   \n",
       "681    [5, -8, -8, -10, -10, 11, 11, 11, 13, 13, -14, -14]    2  12    14   \n",
       "673        [4, 4, -7, -7, -7, -7, -7, 10, 10, 10, 11, -14]    4  12    14   \n",
       "527        [5, 5, -7, -7, -7, -8, -8, 10, 10, 10, 10, -13]    8  12    13   \n",
       "459              [2, 2, 3, 3, 3, 3, 3, -7, -8, -8, -8, 12]   15  12    12   \n",
       "2670    [3, 4, 4, 10, 10, -11, -11, -11, -17, -17, 18, 18]   16  12    18   \n",
       "377          [1, -4, -4, -4, 7, 7, 7, 7, -8, -10, -10, 11]    1  12    11   \n",
       "366            [2, 2, -4, -5, -5, -5, -5, 7, 8, 8, 8, -11]    1  12    11   \n",
       "317              [1, 1, 1, 1, -3, -3, -5, -5, 7, 7, 7, -9]    6  12     9   \n",
       "304             [1, -4, -4, -4, -4, 5, 5, 7, 7, 7, -8, -8]    8  12     8   \n",
       "299             [2, -3, -5, -5, -5, 6, 6, 6, 6, 6, -7, -7]    3  12     7   \n",
       "297              [1, 2, 3, 3, 3, -4, -4, -6, -6, -6, 7, 7]   12  12     7   \n",
       "295               [1, 1, 1, 2, 2, 2, 2, -4, -4, -5, -5, 7]    2  12     7   \n",
       "912         [3, 5, 5, 5, 5, -7, -7, -13, -13, -13, 15, 15]   18  12    15   \n",
       "3697        [1, 1, 1, 1, 1, -4, 14, 14, -16, -16, -16, 19]    1  12    19   \n",
       "\n",
       "                                                                                                             hidden  \\\n",
       "4                                                              [{'S': 3, 'ψ': [(4, -7), (-5, 8), (2, -5), (1, 2)]}]   \n",
       "208                                                                [{'S': 4, 'ψ': [(-11, 15), (5, -9), (15, -19)]}]   \n",
       "154                                                        [{'S': 6, 'ψ': [(5, -11), (-11, 17), (1, 5), (7, -13)]}]   \n",
       "120                                                               [{'S': 3, 'ψ': [(-11, 14), (7, -10), (14, -17)]}]   \n",
       "103                                                                [{'S': 15, 'ψ': [(1, 14), (1, -16), (-4, -11)]}]   \n",
       "67                                                                   [{'S': 5, 'ψ': [(-6, 11), (9, -14), (1, -6)]}]   \n",
       "218                                                      [{'S': 5, 'ψ': [(-9, 14), (-11, 16), (14, -19), (4, -9)]}]   \n",
       "39                                                          [{'S': 4, 'ψ': [(9, -13), (-5, 9), (-7, 11), (1, -5)]}]   \n",
       "36                                                                  [{'S': 3, 'ψ': [(-7, 10), (10, -13), (2, -5)]}]   \n",
       "35                                                        [{'S': 3, 'ψ': [(4, -7), (10, -13), (-7, 10), (-8, 11)]}]   \n",
       "12                                                                    [{'S': 3, 'ψ': [(7, -10), (-5, 8), (2, -5)]}]   \n",
       "9                                                              [{'S': 4, 'ψ': [(1, -5), (-5, 9), (3, -7), (1, 3)]}]   \n",
       "42                                                                  [{'S': 12, 'ψ': [(1, 11), (-5, -7), (1, -13)]}]   \n",
       "1161                                                      [{'S': 4, 'ψ': [(-7, 11), (-9, 13), (3, -7), (11, -15)]}]   \n",
       "1169                                                       [{'S': 4, 'ψ': [(-7, 11), (5, -9), (3, -7), (11, -15)]}]   \n",
       "1436                                                    [{'S': 3, 'ψ': [(-10, 13), (13, -16), (7, -10), (-8, 11)]}]   \n",
       "1462                                                        [{'S': 5, 'ψ': [(11, -16), (-9, 14), (1, 4), (4, -9)]}]   \n",
       "1569                                                        [{'S': 9, 'ψ': [(-4, 13), (2, -11), (2, 7), (7, -16)]}]   \n",
       "2048                                                        [{'S': 9, 'ψ': [(-4, 13), (1, -10), (1, 8), (8, -17)]}]   \n",
       "1964                                                   [{'S': 3, 'ψ': [(-11, 14), (-10, 13), (8, -11), (14, -17)]}]   \n",
       "2058                                                                [{'S': 15, 'ψ': [(2, 13), (2, -17), (-7, -8)]}]   \n",
       "2152                                                         [{'S': 8, 'ψ': [(1, -9), (-9, 17), (5, -13), (1, 7)]}]   \n",
       "2162                                                      [{'S': 4, 'ψ': [(-7, 11), (5, -9), (13, -17), (-9, 13)]}]   \n",
       "1157                                                         [{'S': 7, 'ψ': [(1, -8), (-8, 15), (6, -13), (1, 6)]}]   \n",
       "1819                                                                [{'S': 5, 'ψ': [(12, -17), (-7, 12), (3, -8)]}]   \n",
       "987   [{'S': 8, 'ψ': [(1, -9), (7, -15), (-5, 13), (1, 7)]}, {'S': 14, 'ψ': [(-5, -9), (1, -15), (7, 7), (1, 13)]}]   \n",
       "422     [{'S': 4, 'ψ': [(-5, 9), (7, -11), (1, 3), (1, -5)]}, {'S': 10, 'ψ': [(3, 7), (1, 9), (-5, -5), (1, -11)]}]   \n",
       "681                                                      [{'S': 3, 'ψ': [(5, -8), (-10, 13), (11, -14), (-8, 11)]}]   \n",
       "673                                                                 [{'S': 3, 'ψ': [(4, -7), (-7, 10), (11, -14)]}]   \n",
       "527                                                                 [{'S': 3, 'ψ': [(5, -8), (-7, 10), (10, -13)]}]   \n",
       "459                                                           [{'S': 5, 'ψ': [(2, 3), (2, -7), (-7, 12), (3, -8)]}]   \n",
       "2670                                                      [{'S': 7, 'ψ': [(3, 4), (4, -11), (10, -17), (-11, 18)]}]   \n",
       "377                                                         [{'S': 3, 'ψ': [(-4, 7), (1, -4), (7, -10), (-8, 11)]}]   \n",
       "366                                                          [{'S': 3, 'ψ': [(-4, 7), (-5, 8), (2, -5), (8, -11)]}]   \n",
       "317                [{'S': 2, 'ψ': [(-5, 7), (7, -9), (1, 1), (1, -3)]}, {'S': 8, 'ψ': [(1, 7), (1, -9), (-3, -5)]}]   \n",
       "304                                                                    [{'S': 3, 'ψ': [(5, -8), (1, -4), (-4, 7)]}]   \n",
       "299                                                                    [{'S': 1, 'ψ': [(6, -7), (2, -3), (-5, 6)]}]   \n",
       "297                                                            [{'S': 3, 'ψ': [(-4, 7), (3, -6), (1, -4), (1, 2)]}]   \n",
       "295                                                            [{'S': 3, 'ψ': [(1, -4), (1, 2), (-4, 7), (2, -5)]}]   \n",
       "912                                                                   [{'S': 8, 'ψ': [(-7, 15), (5, -13), (3, 5)]}]   \n",
       "3697                                                                [{'S': 15, 'ψ': [(1, 14), (-4, 19), (1, -16)]}]   \n",
       "\n",
       "     ~intersections  \n",
       "4         [(4, -7)]  \n",
       "208       [(5, -9)]  \n",
       "154      [(7, -13)]  \n",
       "120      [(7, -10)]  \n",
       "103     [(-4, -11)]  \n",
       "67       [(9, -14)]  \n",
       "218     [(-11, 16)]  \n",
       "39       [(-7, 11)]  \n",
       "36        [(2, -5)]  \n",
       "35       [(-8, 11)]  \n",
       "12       [(7, -10)]  \n",
       "9         [(3, -7)]  \n",
       "42       [(-5, -7)]  \n",
       "1161     [(-9, 13)]  \n",
       "1169      [(5, -9)]  \n",
       "1436     [(-8, 11)]  \n",
       "1462    [(11, -16)]  \n",
       "1569     [(-4, 13)]  \n",
       "2048     [(-4, 13)]  \n",
       "1964    [(-10, 13)]  \n",
       "2058     [(-7, -8)]  \n",
       "2152     [(5, -13)]  \n",
       "2162     [(-7, 11)]  \n",
       "1157     [(6, -13)]  \n",
       "1819      [(3, -8)]  \n",
       "987      [(-5, 13)]  \n",
       "422      [(7, -11)]  \n",
       "681     [(-10, 13)]  \n",
       "673     [(11, -14)]  \n",
       "527       [(5, -8)]  \n",
       "459      [(-7, 12)]  \n",
       "2670    [(10, -17)]  \n",
       "377      [(-8, 11)]  \n",
       "366       [(-4, 7)]  \n",
       "317      [(-3, -5)]  \n",
       "304       [(5, -8)]  \n",
       "299       [(2, -3)]  \n",
       "297       [(3, -6)]  \n",
       "295       [(2, -5)]  \n",
       "912      [(-7, 15)]  \n",
       "3697     [(-4, 19)]  "
      ]
     },
     "execution_count": 40,
     "metadata": {},
     "output_type": "execute_result"
    }
   ],
   "source": [
    "hs['~intersections']=hs['hidden'].apply(lambda lst: intersections(lst,mask=False))\n",
    "hs[hs['~intersections'].apply(len)==hs['~intersections'].apply(len).min()].sort_values('n')"
   ]
  },
  {
   "cell_type": "code",
   "execution_count": 41,
   "id": "53f61430-098b-405c-b55d-0f7db6b64f86",
   "metadata": {},
   "outputs": [
    {
     "ename": "NameError",
     "evalue": "name 'asfad' is not defined",
     "output_type": "error",
     "traceback": [
      "\u001b[0;31m---------------------------------------------------------------------------\u001b[0m",
      "\u001b[0;31mNameError\u001b[0m                                 Traceback (most recent call last)",
      "Cell \u001b[0;32mIn[41], line 1\u001b[0m\n\u001b[0;32m----> 1\u001b[0m \u001b[43masfad\u001b[49m\n",
      "\u001b[0;31mNameError\u001b[0m: name 'asfad' is not defined"
     ]
    }
   ],
   "source": [
    "asfad"
   ]
  },
  {
   "cell_type": "markdown",
   "id": "90b2be2c-4add-48cc-9e97-2f0add5de02d",
   "metadata": {},
   "source": [
    "### Appendix: Same questions for Standard Model (SM) solutions\n",
    "Which are solutions with three repeated integers to be asigned to SM particles"
   ]
  },
  {
   "cell_type": "code",
   "execution_count": null,
   "id": "fe26a5ab-2e9e-477b-af5f-6568fdc65e57",
   "metadata": {},
   "outputs": [],
   "source": [
    "df3=df[df['solution'].apply(lambda l: 3 in [l.count(x) for x in l])].reset_index(drop=True)"
   ]
  },
  {
   "cell_type": "markdown",
   "id": "9a1780e2-b872-48c2-a959-10f9847186a1",
   "metadata": {},
   "source": [
    "Remove the three repeated integers from the new `hidden` column"
   ]
  },
  {
   "cell_type": "code",
   "execution_count": null,
   "id": "4c3f1529-7624-4545-af61-545415f2409d",
   "metadata": {},
   "outputs": [],
   "source": [
    "def get_dark(l,idx=0):\n",
    "    #TODO,\n",
    "    xxx=list(set([x for x in l if l.count(x)==3]))\n",
    "    if len(xxx)>=idx+1:\n",
    "        xx=xxx[idx]\n",
    "        return [x for x in l if x!=xx]\n",
    "    else:\n",
    "        return []\n",
    "assert get_dark([1,1,2,2,2,3] )==[1, 1, 3]\n",
    "assert get_dark([2,2,2,2,-5,-5,-5,7])==[2, 2, 2, 2, 7]"
   ]
  },
  {
   "cell_type": "code",
   "execution_count": null,
   "id": "3eafc7e4-cf0f-48b9-8d50-8fcf5c986867",
   "metadata": {},
   "outputs": [],
   "source": [
    "df3['hidden']=df3['solution'].apply(get_dark).apply(get_hidden_sector)"
   ]
  },
  {
   "cell_type": "code",
   "execution_count": null,
   "id": "621afe65-e4f4-4cc4-965a-8c2841fbfc8b",
   "metadata": {},
   "outputs": [],
   "source": [
    "hs3=df3[df3['hidden'].apply(len)>0].reset_index(drop=True)\n",
    "hs3.shape"
   ]
  },
  {
   "cell_type": "code",
   "execution_count": null,
   "id": "a6186c47-e4a5-4c1c-b132-6ee0888bb123",
   "metadata": {},
   "outputs": [],
   "source": [
    "# idxmax==1\n",
    "df3['hidden']=df3['solution'].apply(lambda l: get_dark(l,idx=1)).apply(get_hidden_sector)\n",
    "hs3=pd.concat((hs3,df3[df3['hidden'].apply(len)>0])).reset_index(drop=True)\n",
    "hs3.shape"
   ]
  },
  {
   "cell_type": "code",
   "execution_count": null,
   "id": "a53d71e9-1755-4286-8799-2a407d8dbf86",
   "metadata": {},
   "outputs": [],
   "source": [
    "# idxmax==1\n",
    "df3['hidden']=df3['solution'].apply(lambda l: get_dark(l,idx=2)).apply(get_hidden_sector)\n",
    "hs3=pd.concat((hs3,df3[df3['hidden'].apply(len)>0])).reset_index(drop=True)\n",
    "hs3.shape"
   ]
  },
  {
   "cell_type": "code",
   "execution_count": null,
   "id": "a0d204e8-f73e-43d5-826b-6bf8fc6e17f0",
   "metadata": {},
   "outputs": [],
   "source": [
    "hs3['zmax'].min()"
   ]
  },
  {
   "cell_type": "code",
   "execution_count": null,
   "id": "a80e9876-b428-475a-b252-3065eaac51e0",
   "metadata": {},
   "outputs": [],
   "source": [
    "hs3[:1]"
   ]
  },
  {
   "cell_type": "code",
   "execution_count": null,
   "id": "aa817d62-360f-4ff3-bb5e-453057f355cf",
   "metadata": {},
   "outputs": [],
   "source": [
    "hs3[hs3['hidden'].apply(len)>1].shape"
   ]
  },
  {
   "cell_type": "code",
   "execution_count": null,
   "id": "aee810b4-c226-4113-9bf8-e1baa34a3fc0",
   "metadata": {},
   "outputs": [],
   "source": [
    "hs3[hs3['hidden'].apply(len)>2].shape"
   ]
  },
  {
   "cell_type": "code",
   "execution_count": null,
   "id": "76a8da24-7b36-47a4-9d8c-66186cc8436b",
   "metadata": {},
   "outputs": [],
   "source": [
    "hs3[hs3['hidden'].apply(len)>3].shape"
   ]
  },
  {
   "cell_type": "code",
   "execution_count": null,
   "id": "1c25aae3-e070-4177-9792-bda63e0bf15f",
   "metadata": {},
   "outputs": [],
   "source": [
    "hs3['hidden'].str[0].str['ψ'].apply(len).min()"
   ]
  },
  {
   "cell_type": "code",
   "execution_count": null,
   "id": "46daab74-e67a-4b28-8385-e6007339deb3",
   "metadata": {},
   "outputs": [],
   "source": [
    "hs3[hs3['hidden'].str[0].str['ψ'].apply(len)==hs3['hidden'].str[0].str['ψ'].apply(len).min()]"
   ]
  },
  {
   "cell_type": "markdown",
   "id": "1807c62c-488a-444d-bc7b-28393b5cb114",
   "metadata": {},
   "source": [
    "Check if `sum([L,L,L,x,y])` where `(x,y) = ±S`  "
   ]
  },
  {
   "cell_type": "code",
   "execution_count": null,
   "id": "8db82056-853a-43a1-b9cc-c67b100e3508",
   "metadata": {},
   "outputs": [],
   "source": [
    "def check_L(r):\n",
    "    L=[x for x in r.get('solution') if r.get('solution').count(x)==3 ]\n",
    "    for LL in L[::3]:\n",
    "        z=r.get('hidden')[0]\n",
    "        for p in z.get('ψ'):\n",
    "            if 3*LL+sum(list(p))==0:\n",
    "                return list(p)\n",
    "    return []\n",
    "assert check_L({'solution':[4,4,4,5,-8,-10,13,-9, -9, -9, 15, 15, 15],\n",
    "         'hidden':[{'S': 18, 'ψ': [(-9, -9), (-8, -10), (5, 13)]}]})==[]"
   ]
  },
  {
   "cell_type": "code",
   "execution_count": null,
   "id": "42b4a438-e9f7-49ab-99bc-8336ba0a2783",
   "metadata": {},
   "outputs": [],
   "source": [
    "hs3[hs3.apply(check_L,axis='columns').apply(len)>0].reset_index(drop=True)"
   ]
  },
  {
   "cell_type": "markdown",
   "id": "66cc520a-9510-4473-b840-d205b193c5f0",
   "metadata": {},
   "source": [
    "### Extend the data scheme with number of generations"
   ]
  },
  {
   "cell_type": "code",
   "execution_count": null,
   "id": "ee44f4cd-a196-45fd-b0f3-a0359897e363",
   "metadata": {},
   "outputs": [],
   "source": [
    "def get_Dirac_and_Majorana_generations(l,h):\n",
    "    g=[]\n",
    "    dgmax=0\n",
    "    mgmax=0\n",
    "    for idx in range(len(h)):\n",
    "        for x,y in h[idx].get('ψ'):\n",
    "            if x!=y and l.count(x)>dgmax and l.count(y)==l.count(x):\n",
    "                    dgmax=l.count(x)\n",
    "            if x==y and l.count(x)>mgmax:\n",
    "                    mgmax=l.count(x)\n",
    "        g.append({'DG':dgmax,'MG':mgmax})\n",
    "    return g\n",
    "l=[2, 2, -3, 15, 15, 20]\n",
    "h=[{'S': 17, 'ψ': [(2, 15), (20, -3)]}]\n",
    "assert get_Dirac_and_Majorana_generations(l,h)==[{'DG': 2, 'MG': 0}]"
   ]
  },
  {
   "cell_type": "code",
   "execution_count": null,
   "id": "3a3d430a-3c6b-4a88-848d-fedd8bc3a780",
   "metadata": {},
   "outputs": [],
   "source": [
    "hs[:3].apply(lambda d: d['l']+d['k'],axis='columns')"
   ]
  },
  {
   "cell_type": "code",
   "execution_count": null,
   "id": "92dbea03-8c25-4cc1-a146-e7a6e8ffd1a3",
   "metadata": {},
   "outputs": [],
   "source": [
    "hs['Generations']=hs.apply(lambda row: get_Dirac_and_Majorana_generations(row['solution'],row['hidden']),axis='columns')"
   ]
  },
  {
   "cell_type": "code",
   "execution_count": null,
   "id": "f92422d5-fd46-446d-b075-161f7683ac41",
   "metadata": {},
   "outputs": [],
   "source": [
    "hs3['Generations']=hs3.apply(lambda row: get_Dirac_and_Majorana_generations(row['solution'],row['hidden']),axis='columns')"
   ]
  },
  {
   "cell_type": "code",
   "execution_count": null,
   "id": "71a7cd0e-f693-4021-89ce-f6892e5e6af3",
   "metadata": {},
   "outputs": [],
   "source": [
    "hs['Gmax']=hs['Generations'].str[0].apply(lambda d: sum(d.values()))"
   ]
  },
  {
   "cell_type": "code",
   "execution_count": null,
   "id": "75b0a0bd-0834-4f9a-8a3a-34e8d4191c79",
   "metadata": {},
   "outputs": [],
   "source": [
    "hs=hs.sort_values(['Gmax'],ascending=False).reset_index(drop=True)"
   ]
  },
  {
   "cell_type": "code",
   "execution_count": null,
   "id": "68c0890a-d708-4edd-ae0b-f8752954146a",
   "metadata": {},
   "outputs": [],
   "source": [
    "hs[hs['n']==8]"
   ]
  },
  {
   "cell_type": "code",
   "execution_count": null,
   "id": "5d1b3a25-f7c5-408e-92da-0f1ca0764384",
   "metadata": {},
   "outputs": [],
   "source": [
    "hs[hs['n']==8][:6]"
   ]
  },
  {
   "cell_type": "code",
   "execution_count": null,
   "id": "9b3f865a-4711-4f65-92bb-0ab81cccf74a",
   "metadata": {},
   "outputs": [],
   "source": [
    "hs[hs['n']==9][:3]"
   ]
  },
  {
   "cell_type": "code",
   "execution_count": null,
   "id": "54ecbd30-0e04-4b5f-a122-21dcf5338c92",
   "metadata": {},
   "outputs": [],
   "source": [
    "hs[hs['n']==11][:4]"
   ]
  },
  {
   "cell_type": "code",
   "execution_count": null,
   "id": "4d833da6-307e-449c-bdd6-f21262951487",
   "metadata": {},
   "outputs": [],
   "source": [
    "hs[hs['n']==12][:4]"
   ]
  },
  {
   "cell_type": "code",
   "execution_count": null,
   "id": "92a5c991-081d-4627-bf07-da0ae1f449f2",
   "metadata": {},
   "outputs": [],
   "source": [
    "hs3['Gmax']=-hs3['Generations'].str[0].apply(lambda d: sum(d.values()))\n",
    "hs3=hs3.sort_values(['n','Gmax']).reset_index(drop=True)"
   ]
  },
  {
   "cell_type": "code",
   "execution_count": null,
   "id": "ebd62377-8b1f-475b-bbc5-9a539794ef53",
   "metadata": {},
   "outputs": [],
   "source": [
    "hs3[hs3['n']==8][:1]"
   ]
  },
  {
   "cell_type": "code",
   "execution_count": null,
   "id": "ef353d09-4292-47c0-aa98-d4e2711b8873",
   "metadata": {},
   "outputs": [],
   "source": [
    "hs3[hs3['n']==9][:4]"
   ]
  },
  {
   "cell_type": "code",
   "execution_count": null,
   "id": "1a2dfd23-be61-4e2b-aa5a-06ae9e664752",
   "metadata": {},
   "outputs": [],
   "source": [
    "hs3[hs3['n']==10][:5]"
   ]
  },
  {
   "cell_type": "code",
   "execution_count": null,
   "id": "2b0f69f7-c511-454f-8670-ecccfc31b151",
   "metadata": {},
   "outputs": [],
   "source": [
    "hs3[hs3['n']==11][:2]"
   ]
  },
  {
   "cell_type": "code",
   "execution_count": null,
   "id": "482d9bd4-17bb-4987-bc25-49b1fe5c8e28",
   "metadata": {},
   "outputs": [],
   "source": [
    "hs3[hs3['n']==12][:5]"
   ]
  },
  {
   "cell_type": "code",
   "execution_count": null,
   "id": "df360971-99b3-4d01-a7bb-592101714f0b",
   "metadata": {},
   "outputs": [],
   "source": [
    "hs3['~intersections']=hs3['hidden'].apply(lambda lst: intersections(lst,mask=False))\n",
    "hs3[hs3['~intersections'].apply(len)==hs3['~intersections'].apply(len).min()].sort_values('n')"
   ]
  },
  {
   "cell_type": "markdown",
   "id": "7c5aa648-6500-458c-8c69-f11de4ada254",
   "metadata": {},
   "source": [
    "## Appendix: Use merge to compare two DataFrames"
   ]
  },
  {
   "cell_type": "code",
   "execution_count": null,
   "id": "4728d082-1b73-4f99-b767-0c4bdb8bcd7a",
   "metadata": {},
   "outputs": [],
   "source": [
    "df=pd.read_json('solutions.json.gz')"
   ]
  },
  {
   "cell_type": "code",
   "execution_count": null,
   "id": "b5ad001c",
   "metadata": {},
   "outputs": [],
   "source": [
    "%%time\n",
    "df['hidden']=df['solution'].apply(get_hidden_sector)"
   ]
  },
  {
   "cell_type": "code",
   "execution_count": null,
   "id": "465bdaeb",
   "metadata": {},
   "outputs": [],
   "source": [
    "hs2=df[df['hidden'].apply(len)>0].reset_index(drop=True)#.iloc[0].to_dict()\n",
    "hs2.shape"
   ]
  },
  {
   "cell_type": "markdown",
   "id": "736e5eea-3445-4a5c-93c5-d7d66b1e4560",
   "metadata": {},
   "source": [
    "Columns can only be compared if they are simple objects, like strings:"
   ]
  },
  {
   "cell_type": "code",
   "execution_count": null,
   "id": "2e257404",
   "metadata": {},
   "outputs": [],
   "source": [
    "hs['ss']  = hs['solution'].apply(str)\n",
    "hs2['ss'] = hs2['solution'].apply(str)"
   ]
  },
  {
   "cell_type": "markdown",
   "id": "9b77b20e-8d67-4158-8088-0f9678f2c61e",
   "metadata": {},
   "source": [
    "Increase the with of the columns for easier visualization."
   ]
  },
  {
   "cell_type": "code",
   "execution_count": null,
   "id": "1e3e6a84",
   "metadata": {},
   "outputs": [],
   "source": [
    "pd.set_option('display.max_colwidth',200)"
   ]
  },
  {
   "cell_type": "markdown",
   "id": "4f961ec8-7086-4773-80ef-6990827cd23e",
   "metadata": {},
   "source": [
    "Compare the larger DataFrame (with filtered columns) against the smaller. The non `on='s'` repeated columns will appears with suffixes. "
   ]
  },
  {
   "cell_type": "code",
   "execution_count": null,
   "id": "446917a5",
   "metadata": {},
   "outputs": [],
   "source": [
    "tmp=hs2[['ss','hidden']].merge(hs[['ss','hidden']],on='ss',how='left',suffixes=('_1','_2'))"
   ]
  },
  {
   "cell_type": "code",
   "execution_count": null,
   "id": "8a1eb85b-3865-45d9-ad73-be42aab7423b",
   "metadata": {},
   "outputs": [],
   "source": [
    "#tmp=\n",
    "tmp[tmp['hidden_2'].apply(lambda x: False if isinstance(x,list) else True )].reset_index(drop=True)"
   ]
  },
  {
   "cell_type": "code",
   "execution_count": null,
   "id": "04e06518-bbeb-4dc7-b9b0-a859fc2b33ad",
   "metadata": {},
   "outputs": [],
   "source": [
    "tmp['zmax']=tmp['ss'].apply(eval).str[-1].abs()\n",
    "tmp['n']=tmp['ss'].apply(eval).apply(len)"
   ]
  },
  {
   "cell_type": "code",
   "execution_count": null,
   "id": "e1eeb5b9-b459-44b7-85e7-6b0c81ad7b4e",
   "metadata": {},
   "outputs": [],
   "source": [
    "tmp=tmp.sort_values(['n','zmax'])"
   ]
  },
  {
   "cell_type": "markdown",
   "id": "6cdb4d25-525f-4f69-a0ae-5c36b4a1cd33",
   "metadata": {},
   "source": [
    "There are plenty of new solutions with the new dataset build with the Multiprocessing algorithm in the previous Chapter"
   ]
  },
  {
   "cell_type": "code",
   "execution_count": null,
   "id": "c72bd79a-9fea-4fa6-aca7-dd8df9b7d174",
   "metadata": {},
   "outputs": [],
   "source": [
    "tmp"
   ]
  },
  {
   "cell_type": "code",
   "execution_count": null,
   "id": "9dad3abc-fa3a-4398-b492-6ce7d422a350",
   "metadata": {},
   "outputs": [],
   "source": [
    "hs.shape"
   ]
  },
  {
   "cell_type": "code",
   "execution_count": null,
   "id": "e576626c",
   "metadata": {},
   "outputs": [],
   "source": [
    "tmp[tmp['hidden_2'].apply(lambda x: False if isinstance(x,list) else True )][:5][[\"ss\",'hidden_1']]"
   ]
  },
  {
   "cell_type": "code",
   "execution_count": null,
   "id": "ed138155-f4a7-4905-a029-0fc74adac97d",
   "metadata": {},
   "outputs": [],
   "source": [
    "import itertools\n",
    "import math as mh\n",
    "\n",
    "def remove_double_intersection_pairs(msvp,l):\n",
    "    '''\n",
    "    Example:\n",
    "        msvp = [(3,4),(6,-13),(1,6),(-7,14),(1,-8)]\n",
    "        l = [1, 3, 4, 6, -7, -8, -13, 14]\n",
    "        # Remove (1,6) because is fully contained \n",
    "        # in the intersections with (_1_,-8) and (_6_,-13)\n",
    "        returns: \n",
    "        [(3,4),(6,-13),(-7,14),(1,-8)]    \n",
    "    '''\n",
    "    for p in msvp.copy():\n",
    "        tmp=msvp.copy()\n",
    "        tmp.remove(p)\n",
    "        fltmp=set([x for sublist in tmp for x in sublist]) \n",
    "        if l.count(p[0])==1 and l.count(p[1])==1 and set(p).issubset(fltmp):\n",
    "            msvp=tmp.copy()\n",
    "    return msvp\n",
    "assert len(remove_double_intersection_pairs([(-10, 11), (-12, 13), (11, -12)],\n",
    "                                             [-10, 11, -12, 13]))==2\n",
    "assert len(remove_double_intersection_pairs([(4,4),(4,-12)],[4,-12]))==1\n",
    "\n",
    "def get_real_massless(l,msvp):\n",
    "    '''\n",
    "    Example:\n",
    "        l = [1, 3, 4, 6, -7, -8, -13, 14]\n",
    "        msvp = [(3,4),(6,-13),(-7,14),(1,-8)]\n",
    "        [1, 3, 4, 6, -7, -8, -13, 14] → [(3,4),(6,-13),(-7,14),(1,-8)]\n",
    "        [1, 6, -7, -8, -13, 14] → [(6,-13),(-7,14),(1,-8)]\n",
    "        [1, -7, -8, 14] → [(-7,14),(1,-8)]\n",
    "        [1, -8] → [(1,-8)]\n",
    "        [] → []\n",
    "        \n",
    "        returns:\n",
    "        [] # lp    \n",
    "    '''\n",
    "    lp=l.copy()\n",
    "    for x,y in msvp:\n",
    "        #print(lp,msvp,x,y)\n",
    "        if lp and x in lp and y in lp:\n",
    "            minxy=min(lp.count(x),lp.count(y))\n",
    "            if x!=y:\n",
    "                [(lp.remove(x),lp.remove(y)) for ii in range(minxy)]\n",
    "            else:\n",
    "                [ lp.remove(x) for ii in range(lp.count(x)) ] # abs(2*x)==s\n",
    "        else: # not lp\n",
    "            break\n",
    "    return lp\n",
    "\n",
    "def get_hidden_fermions(l,s,ps=[]):\n",
    "    '''\n",
    "    For a given scalar Abelian charge `s`, build the \n",
    "    fermion non-zero determinant mass matrix from their\n",
    "    Abelian charges in `l`, and returns the input `s` and \n",
    "    the non-zero mass entries.\n",
    "    Returns an empty dictionary otherwise.\n",
    "    \n",
    "    The list of combinations on pairs of `l` can be given in `ps`,\n",
    "    otherwise it is internally calculated.\n",
    "    \n",
    "    Example:\n",
    "        l = [1, 3, 4, 6, -7, -8, -13, 14]\n",
    "        s = 7\n",
    "        ps = [(3,4),(6,-13),(1,6),(-7,14),(1,-8)]\n",
    "        # If necessary temove [1,6] because have is fully contained \n",
    "        # in the intersections with others\n",
    "        [1, 3, 4, 6, -7, -8, -13, 14] → [(3,4),(6,-13),(-7,14),(1,-8)]\n",
    "        [1, 6, -7, -8, -13, 14] → [(6,-13),(-7,14),(1,-8)]\n",
    "        [1, -7, -8, 14] → [(-7,14),(1,-8)]\n",
    "        [1, -8] → [(1,-8)]\n",
    "        [] → []\n",
    "        \n",
    "        returns:\n",
    "        {'s':7, '\\psi':[(3,4),(6,-13),(1,6),(-7,14),(1,-8)]}\n",
    "\n",
    "    '''\n",
    "    sltn={}\n",
    "    if not ps:\n",
    "        ps = list(set(itertools.combinations_with_replacement(l,2)))\n",
    "    msv = [p for p in ps if abs(sum(p))==s]\n",
    "    lmsv=[x for sublist in msv for x in sublist]\n",
    "    massives=set(lmsv)        \n",
    "    massless=set(l).difference(massives)\n",
    "    if not massless:\n",
    "        sltn['S']=s\n",
    "        sltn['ψ']=msv\n",
    "    return sltn\n",
    "assert get_hidden_fermions([2, 4, 4, 5, 5, 7],9).get('S')==9    \n",
    "\n",
    "\n",
    "def get_hidden_sector(l):\n",
    "    '''\n",
    "    Extract massive pairs without massles fermions from l\n",
    "        [1, 3, 4, 6, -7, -8, -13, 14] → [[3,4],[6,-13],[1,6],[-7,14],[1,-8]]\n",
    "        #Remove [1,6] because is already in the pairs list\n",
    "        [1, 3, 4, 6, -7, -8, -13, 14] → [[3,4],[6,-13],[-7,14],[1,-8]]\n",
    "        [1, 6, -7, -8, -13, 14] → [[6,-13],[-7,14],[1,-8]]\n",
    "        [1, -7, -8, 14] → [[-7,14],[1,-8]]\n",
    "        [1, -8] → [[1,-8]]\n",
    "        [] → []    \n",
    "    '''\n",
    "    sltns=[]\n",
    "    ps = list(set(itertools.combinations_with_replacement(l,2)))\n",
    "    Ss = set(abs(sum(x)) for x in ps)\n",
    "    for s in Ss:\n",
    "        sltn=get_hidden_fermions(l,s,ps)\n",
    "        if sltn:\n",
    "            sltns.append(sltn)\n",
    "    return sltns\n",
    "\n"
   ]
  },
  {
   "cell_type": "code",
   "execution_count": null,
   "id": "cb2efcf5-5d4e-4b81-bd7e-96bf1365a942",
   "metadata": {},
   "outputs": [],
   "source": [
    "%%time\n",
    "df['hidden']=df['solution'].apply(get_hidden_sector)"
   ]
  },
  {
   "cell_type": "code",
   "execution_count": null,
   "id": "d55431f9-26b5-4b70-9294-4bbea36983c6",
   "metadata": {},
   "outputs": [],
   "source": [
    "hs=df[df['hidden'].apply(len)>0].reset_index(drop=True)#.iloc[0].to_dict()"
   ]
  },
  {
   "cell_type": "code",
   "execution_count": null,
   "id": "9b1f5db3-571b-4a74-ad73-fc9dffbf1abc",
   "metadata": {},
   "outputs": [],
   "source": [
    "hs.shape #9466 solutions with hidden sector"
   ]
  },
  {
   "cell_type": "code",
   "execution_count": null,
   "id": "0af3ca9a-be9c-4785-9057-1735f3cfd3e4",
   "metadata": {},
   "outputs": [],
   "source": [
    "hs.solution.str[-1].abs()"
   ]
  },
  {
   "cell_type": "code",
   "execution_count": null,
   "id": "c9086589-9b5e-4222-a92e-d88b7b1d0026",
   "metadata": {},
   "outputs": [],
   "source": [
    "hs8=hs[ (hs.n==8) & (hs.solution.str[-1].abs()<20)][['solution','hidden']]"
   ]
  },
  {
   "cell_type": "code",
   "execution_count": null,
   "id": "daf8dd2c-ccbd-4408-b413-5549a7ac1d12",
   "metadata": {},
   "outputs": [],
   "source": [
    "hs8['hidden']=hs8['hidden'].str[0]"
   ]
  },
  {
   "cell_type": "code",
   "execution_count": null,
   "id": "1aa4736d-ec76-4df9-ac6d-77c96915589e",
   "metadata": {},
   "outputs": [],
   "source": [
    "hs8=hs8.rename({'solution':'lista','hidden':'pares'},axis='columns')"
   ]
  },
  {
   "cell_type": "code",
   "execution_count": null,
   "id": "80004adc-92a7-4a5a-bc69-c6f45b27aefb",
   "metadata": {},
   "outputs": [],
   "source": []
  },
  {
   "cell_type": "code",
   "execution_count": null,
   "id": "8d9ea07b-d7cf-4a54-9618-5bf315a31272",
   "metadata": {},
   "outputs": [],
   "source": [
    "hs8"
   ]
  },
  {
   "cell_type": "code",
   "execution_count": null,
   "id": "f702ff0c-325c-4d34-8cfa-213e2ce7cdb9",
   "metadata": {},
   "outputs": [],
   "source": [
    "hs8['pares']=hs8.pares.apply(lambda d: {'S':d.get('S'),'ψ':d.get('ψ')+[(y,x) for x,y in d.get('ψ') if x!=y]})"
   ]
  },
  {
   "cell_type": "code",
   "execution_count": null,
   "id": "e5fdb534-7d04-4931-8fae-c1bf3a448507",
   "metadata": {},
   "outputs": [],
   "source": [
    "hs8.to_json('lista_pares.json',orient='records')"
   ]
  },
  {
   "cell_type": "code",
   "execution_count": null,
   "id": "abb0b7cf-3099-462d-8546-fb1682d1b9c7",
   "metadata": {},
   "outputs": [],
   "source": [
    "df=pd.read_json('lista_pares.json')"
   ]
  },
  {
   "cell_type": "code",
   "execution_count": null,
   "id": "b53a048e-6810-4f56-a5c0-e2d33084970c",
   "metadata": {},
   "outputs": [],
   "source": [
    "df.iloc[1]"
   ]
  },
  {
   "cell_type": "code",
   "execution_count": null,
   "id": "46a0b2b2-60ca-456d-ae21-77d134e6afc9",
   "metadata": {},
   "outputs": [],
   "source": [
    "import numpy as np"
   ]
  },
  {
   "cell_type": "markdown",
   "id": "22bf5de0-05e4-4e3d-bf76-3dd876e4c3e4",
   "metadata": {},
   "source": [
    "A) Cargue los datos disponibles en:\n",
    "\n",
    "[https://github.com/ComputationalMethods/Evaluacion_2022-1/blob/main/data/lista_pares.json](https://raw.githubusercontent.com/ComputationalMethods/Evaluacion_2022-1/main/data/lista_pares.json)\n",
    "\n",
    "como un DataFrame de pandas. Este contendrá dos columnas. La columna `lista`, con una lista de 8 enteros (algunos de ellos repetidos) y una columna `pares` correspondiente a un diccionario\n",
    "con dos items: un entero rotulado con `'S'` y una lista de pares de enteros routulada con `'ψ'`. Note que el resultado de la suma en valor absoluto de los dos enteros en cada uno de los pares reproduce el valor del correspondiente `'S'` \n",
    "\n",
    "Seleccione la fila del DataFrame con el índice correspondiente a los dos últimos dígitos de su cédula y desarrolle los siguientes puntos con la correspondiente  `lista` y `pares`:\n",
    "1. Construya una matrix $8\\times 8$ _simétrica_ donde cada fila y la correspondiente columna correspondan a un entero de la lista (incluyendo los repetidos); de manera que en los cruces de filas y columnas definidos por los pares de enteros, se genere una entrada aleatoria mayor que cero y menor o igual que 1, con las demas entradas iguales a cero.\n",
    "1. Calcule el determinante y establezca explícitamente si es diferente cero (tenga en cuenta la precisión numérica). Recuerde que si el determinante es cero, se espera que al menos uno de los autovalores sea cero\n",
    "2. Organize los autovalores y autovectores de menor a mayor en valor absoluto y compruebe que las matriz de autovectores organizada da lugar a los autovalores en el orden correcto. \n",
    "3. Establezca explícitamente _cuantos_ autovalores son degenerados en valor absoluto.\n",
    "\n",
    "```\n",
    "   1 2 2 2 -3 -5 -6 7\n",
    "1  0 0 0 0  0  x  0 0\n",
    "2  0 x x x  0  0  x 0\n",
    "2  0 x x x  0  0  x 0\n",
    "2  0 x x x  0  0  x 0\n",
    "-3 0 0 0 0  0  0  0 x\n",
    "-5 x 0 0 0  0  0  0 0\n",
    "-6 0 x x x  0  0  0 0\n",
    "7  0 0 0 0  x  0  0 0\n",
    "```"
   ]
  },
  {
   "cell_type": "markdown",
   "id": "605b1847-5199-47d4-b09e-c29b3706d1e7",
   "metadata": {},
   "source": [
    "https://stackoverflow.com/questions/65862611/integration-of-sin-x-dx-problem-in-python-programming-implementation"
   ]
  },
  {
   "cell_type": "code",
   "execution_count": null,
   "id": "a78eaad2-9588-4897-bf21-dc1d24c5cd9b",
   "metadata": {},
   "outputs": [],
   "source": [
    "from scipy import integrate"
   ]
  },
  {
   "cell_type": "markdown",
   "id": "f8fe3e1b-a209-4de6-a96f-bd0563accc83",
   "metadata": {},
   "source": [
    "B)\n",
    "1. Usando su número de cédula cómo semilla, obtenga un numero entero aleatorio, $n$, entre 2 y 20.\n",
    "2. Haga una estimación de la siguiente integral hasta dos cifras significativas, usando el método `quad` del módulo `integrate` de Scipy\n",
    "$$\n",
    "\\int_0^\\infty \\sin(x^n)\\operatorname{d}x\n",
    "$$\n",
    "Sugerencia. Compare con el valor obtenido desde https://www.wolframalpha.com/ o [sympy](https://stackoverflow.com/questions/65862611/integration-of-sin-x-dx-problem-in-python-programming-implementation)"
   ]
  },
  {
   "cell_type": "code",
   "execution_count": null,
   "id": "24048837-e120-43c2-abba-a761a16559e9",
   "metadata": {},
   "outputs": [],
   "source": [
    "integrate.quad(lambda x: np.sin(x**20),0,1.5,limit=5000)"
   ]
  },
  {
   "cell_type": "code",
   "execution_count": null,
   "id": "a7f7678f-01dc-48bb-b23b-21cf9942ccb9",
   "metadata": {},
   "outputs": [],
   "source": [
    "A=np.random.random((8,8)).round(2)\n",
    "A=(A+A.transpose())/2\n",
    "A[0,0:5]=0;A[0,6:]=0;\n",
    "A[1:4,0]=0; A[1:4,4:6]=0;A[1:4,7]=0\n",
    "#A[1:4,0]=0; A[1:4,2:6]=0;A[1:4,7]=0\n",
    "#A[1:4,0]=0; A[1:4,2:6]=0;A[1:4,7]=0\n",
    "A[4,0:7]=0\n",
    "A[5,1:8]=0;\n",
    "A[6,0]=0;A[6,4:]=0;\n",
    "A[7,0:4]=0;A[7,5:]=0;\n",
    "\n",
    "print(A)"
   ]
  },
  {
   "cell_type": "code",
   "execution_count": null,
   "id": "76843a82-24c2-4fd0-bccb-7da56dda9748",
   "metadata": {},
   "outputs": [],
   "source": [
    "np.linalg.det(A)"
   ]
  },
  {
   "cell_type": "markdown",
   "id": "541ed501-3d7c-4eb0-85f7-8a232e28db6b",
   "metadata": {},
   "source": []
  },
  {
   "cell_type": "code",
   "execution_count": null,
   "id": "ac9ccb49-43b7-43c2-a6a8-55daa65f5399",
   "metadata": {},
   "outputs": [],
   "source": [
    "np.linalg.eig(A)"
   ]
  },
  {
   "cell_type": "code",
   "execution_count": null,
   "id": "97b92407-f332-4c49-a1da-62d10baa3afc",
   "metadata": {},
   "outputs": [],
   "source": [
    "%%time\n",
    "df['hidden']=df['solution'].apply(get_hidden_sector)"
   ]
  },
  {
   "cell_type": "code",
   "execution_count": null,
   "id": "65d02e1a-2e3f-4d88-b343-6cebf736beb0",
   "metadata": {},
   "outputs": [],
   "source": [
    "df['solution']=="
   ]
  },
  {
   "cell_type": "code",
   "execution_count": null,
   "id": "d5754099-594b-4870-af46-182ecd5ee602",
   "metadata": {},
   "outputs": [],
   "source": []
  }
 ],
 "metadata": {
  "kernelspec": {
   "display_name": "Python 3 (ipykernel)",
   "language": "python",
   "name": "python3"
  },
  "language_info": {
   "codemirror_mode": {
    "name": "ipython",
    "version": 3
   },
   "file_extension": ".py",
   "mimetype": "text/x-python",
   "name": "python",
   "nbconvert_exporter": "python",
   "pygments_lexer": "ipython3",
   "version": "3.11.2"
  },
  "vscode": {
   "interpreter": {
    "hash": "31f2aee4e71d21fbe5cf8b01ff0e069b9275f58929596ceb00d14d90e3e16cd6"
   }
  }
 },
 "nbformat": 4,
 "nbformat_minor": 5
}
