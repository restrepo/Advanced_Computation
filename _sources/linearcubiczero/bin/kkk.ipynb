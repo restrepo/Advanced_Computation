{
 "cells": [
  {
   "cell_type": "code",
   "execution_count": 1,
   "metadata": {},
   "outputs": [],
   "source": [
    "import pandas as pd"
   ]
  },
  {
   "cell_type": "code",
   "execution_count": 14,
   "metadata": {},
   "outputs": [],
   "source": [
    "df=pd.read_json('solution_5.json')"
   ]
  },
  {
   "cell_type": "code",
   "execution_count": 15,
   "metadata": {},
   "outputs": [
    {
     "data": {
      "text/html": [
       "<div>\n",
       "<style scoped>\n",
       "    .dataframe tbody tr th:only-of-type {\n",
       "        vertical-align: middle;\n",
       "    }\n",
       "\n",
       "    .dataframe tbody tr th {\n",
       "        vertical-align: top;\n",
       "    }\n",
       "\n",
       "    .dataframe thead th {\n",
       "        text-align: right;\n",
       "    }\n",
       "</style>\n",
       "<table border=\"1\" class=\"dataframe\">\n",
       "  <thead>\n",
       "    <tr style=\"text-align: right;\">\n",
       "      <th></th>\n",
       "      <th>l</th>\n",
       "      <th>k</th>\n",
       "      <th>z</th>\n",
       "      <th>gcd</th>\n",
       "    </tr>\n",
       "  </thead>\n",
       "  <tbody>\n",
       "    <tr>\n",
       "      <th>0</th>\n",
       "      <td>[-6]</td>\n",
       "      <td>[10, -8]</td>\n",
       "      <td>[5, 6, -12, -21, 22]</td>\n",
       "      <td>960</td>\n",
       "    </tr>\n",
       "    <tr>\n",
       "      <th>1</th>\n",
       "      <td>[-3]</td>\n",
       "      <td>[-1, 5]</td>\n",
       "      <td>[5, 8, -14, -26, 27]</td>\n",
       "      <td>3</td>\n",
       "    </tr>\n",
       "    <tr>\n",
       "      <th>2</th>\n",
       "      <td>[3]</td>\n",
       "      <td>[-6, 9]</td>\n",
       "      <td>[1, 5, -7, -8, 9]</td>\n",
       "      <td>486</td>\n",
       "    </tr>\n",
       "    <tr>\n",
       "      <th>3</th>\n",
       "      <td>[4]</td>\n",
       "      <td>[2, 10]</td>\n",
       "      <td>[7, 9, -20, -22, 26]</td>\n",
       "      <td>32</td>\n",
       "    </tr>\n",
       "    <tr>\n",
       "      <th>4</th>\n",
       "      <td>[-3]</td>\n",
       "      <td>[-2, 8]</td>\n",
       "      <td>[2, 4, -7, -9, 10]</td>\n",
       "      <td>44</td>\n",
       "    </tr>\n",
       "    <tr>\n",
       "      <th>5</th>\n",
       "      <td>[3]</td>\n",
       "      <td>[-6, 8]</td>\n",
       "      <td>[1, 14, -17, -18, 20]</td>\n",
       "      <td>180</td>\n",
       "    </tr>\n",
       "    <tr>\n",
       "      <th>6</th>\n",
       "      <td>[1]</td>\n",
       "      <td>[-3, 2]</td>\n",
       "      <td>[4, 9, -14, -25, 26]</td>\n",
       "      <td>6</td>\n",
       "    </tr>\n",
       "    <tr>\n",
       "      <th>7</th>\n",
       "      <td>[5]</td>\n",
       "      <td>[-4, 9]</td>\n",
       "      <td>[7, 13, -25, -27, 32]</td>\n",
       "      <td>36</td>\n",
       "    </tr>\n",
       "    <tr>\n",
       "      <th>8</th>\n",
       "      <td>[-5]</td>\n",
       "      <td>[3, -7]</td>\n",
       "      <td>[7, 8, -18, -22, 25]</td>\n",
       "      <td>15</td>\n",
       "    </tr>\n",
       "    <tr>\n",
       "      <th>9</th>\n",
       "      <td>[10]</td>\n",
       "      <td>[8, 3]</td>\n",
       "      <td>[2, 18, -23, -25, 28]</td>\n",
       "      <td>80</td>\n",
       "    </tr>\n",
       "    <tr>\n",
       "      <th>10</th>\n",
       "      <td>[-1]</td>\n",
       "      <td>[-3, 1]</td>\n",
       "      <td>[5, 11, -18, -26, 28]</td>\n",
       "      <td>3</td>\n",
       "    </tr>\n",
       "    <tr>\n",
       "      <th>11</th>\n",
       "      <td>[-8]</td>\n",
       "      <td>[-10, 2]</td>\n",
       "      <td>[7, 8, -17, -25, 27]</td>\n",
       "      <td>160</td>\n",
       "    </tr>\n",
       "  </tbody>\n",
       "</table>\n",
       "</div>"
      ],
      "text/plain": [
       "       l         k                      z  gcd\n",
       "0   [-6]  [10, -8]   [5, 6, -12, -21, 22]  960\n",
       "1   [-3]   [-1, 5]   [5, 8, -14, -26, 27]    3\n",
       "2    [3]   [-6, 9]      [1, 5, -7, -8, 9]  486\n",
       "3    [4]   [2, 10]   [7, 9, -20, -22, 26]   32\n",
       "4   [-3]   [-2, 8]     [2, 4, -7, -9, 10]   44\n",
       "5    [3]   [-6, 8]  [1, 14, -17, -18, 20]  180\n",
       "6    [1]   [-3, 2]   [4, 9, -14, -25, 26]    6\n",
       "7    [5]   [-4, 9]  [7, 13, -25, -27, 32]   36\n",
       "8   [-5]   [3, -7]   [7, 8, -18, -22, 25]   15\n",
       "9   [10]    [8, 3]  [2, 18, -23, -25, 28]   80\n",
       "10  [-1]   [-3, 1]  [5, 11, -18, -26, 28]    3\n",
       "11  [-8]  [-10, 2]   [7, 8, -17, -25, 27]  160"
      ]
     },
     "execution_count": 15,
     "metadata": {},
     "output_type": "execute_result"
    }
   ],
   "source": [
    "df"
   ]
  },
  {
   "cell_type": "code",
   "execution_count": 11,
   "metadata": {},
   "outputs": [
    {
     "data": {
      "text/plain": [
       "0    0\n",
       "1    0\n",
       "2    0\n",
       "3    0\n",
       "Name: z, dtype: int64"
      ]
     },
     "execution_count": 11,
     "metadata": {},
     "output_type": "execute_result"
    }
   ],
   "source": [
    "df['z'].apply(lambda x: sum(map(lambda x: x**3,x))  )"
   ]
  },
  {
   "cell_type": "code",
   "execution_count": null,
   "metadata": {},
   "outputs": [],
   "source": []
  }
 ],
 "metadata": {
  "kernelspec": {
   "display_name": "Python 3.7.3 64-bit",
   "language": "python",
   "name": "python3"
  },
  "language_info": {
   "codemirror_mode": {
    "name": "ipython",
    "version": 3
   },
   "file_extension": ".py",
   "mimetype": "text/x-python",
   "name": "python",
   "nbconvert_exporter": "python",
   "pygments_lexer": "ipython3",
   "version": "3.9.2"
  },
  "orig_nbformat": 4,
  "vscode": {
   "interpreter": {
    "hash": "31f2aee4e71d21fbe5cf8b01ff0e069b9275f58929596ceb00d14d90e3e16cd6"
   }
  }
 },
 "nbformat": 4,
 "nbformat_minor": 2
}
