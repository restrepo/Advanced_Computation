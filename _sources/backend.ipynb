{
 "cells": [
  {
   "cell_type": "markdown",
   "metadata": {},
   "source": [
    "# Backend\n",
    "Starts a web server that serves the backend of the application.\n",
    "\n",
    "Consider the JSON associated with the gradres of this course with the following data scheme\n",
    "\n",
    "```json\n",
    "[ # cerberus schema\n",
    "    {\"student_id\": {'type':'integer'}, \n",
    "     \"parcial_1\": {\"type\":\"list\", \n",
    "                  \"schema\":{\"grades\": {'type':'float'},\n",
    "                            \"comment\": {'type':'string'}\n",
    "                  }\n",
    "            }\n",
    "    }\n",
    "]\n",
    "```\n",
    "such that the grade is a float between 0 and 5 and the comment is a string to define and justify the grade.\n",
    "\n",
    "The application, [`main.py`](./main.py), should be able to handle the requests associated with a specific `\"student_id\"` from the `grades.json` file."
   ]
  },
  {
   "cell_type": "code",
   "execution_count": 4,
   "metadata": {},
   "outputs": [],
   "source": [
    "df = pd.read_csv('grades.csv')"
   ]
  },
  {
   "cell_type": "code",
   "execution_count": 14,
   "metadata": {},
   "outputs": [],
   "source": [
    "import os\n",
    "import json\n",
    "REBUILD_DATA = True\n",
    "if REBUILD_DATA and os.path.exists('grades.csv'):\n",
    "    import pandas as pd\n",
    "    df = pd.read_csv('grades.csv')\n",
    "    g=[]\n",
    "    for d in df.iterrows():\n",
    "        g.append({\n",
    "            \"student_id\":d[1].get('Cédula'),\n",
    "            \"parcial_1\":{\n",
    "                \"grade\":0,\n",
    "                \"comment\":\"\"\n",
    "                },\n",
    "            \"parcial_2\":{\n",
    "                \"grade\":0,\n",
    "                \"comment\":\"\"\n",
    "                },\n",
    "            \"Tareas\":{\n",
    "                \"grade\":0,\n",
    "                \"comment\":\"\"\n",
    "                }            \n",
    "        })\n",
    "\n",
    "    f=open('grades.json','w')\n",
    "    f.write(json.dumps(g))\n",
    "    f.close()"
   ]
  },
  {
   "cell_type": "code",
   "execution_count": null,
   "metadata": {},
   "outputs": [],
   "source": []
  }
 ],
 "metadata": {
  "kernelspec": {
   "display_name": "Python 3.9.2 64-bit",
   "language": "python",
   "name": "python3"
  },
  "language_info": {
   "codemirror_mode": {
    "name": "ipython",
    "version": 3
   },
   "file_extension": ".py",
   "mimetype": "text/x-python",
   "name": "python",
   "nbconvert_exporter": "python",
   "pygments_lexer": "ipython3",
   "version": "3.9.2"
  },
  "orig_nbformat": 4,
  "vscode": {
   "interpreter": {
    "hash": "31f2aee4e71d21fbe5cf8b01ff0e069b9275f58929596ceb00d14d90e3e16cd6"
   }
  }
 },
 "nbformat": 4,
 "nbformat_minor": 2
}
